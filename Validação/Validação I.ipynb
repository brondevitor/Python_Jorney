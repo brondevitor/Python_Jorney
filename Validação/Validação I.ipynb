{
 "cells": [
  {
   "cell_type": "markdown",
   "metadata": {},
   "source": [
    "# Introdução\n",
    "\n",
    "\n",
    "Sempre é necessário validar a estabilidade do seu modelo de aprendizado de máquina. Quero dizer, você simplesmente não pode ajustar o modelo aos seus dados de treinamento e espero que funcione com precisão para os dados reais nunca vistos antes. Você precisa de algum tipo de garantia de que seu modelo obteve a maioria dos padrões dos dados corretos. Para isso, usamos um conjunto de \"teste\" para medir a performance e identificar overfitting. Mas será que selecionar aleatoriamente uma amostra para teste é a melhor opção para validar nosso modelo?\n",
    "\n",
    "\n",
    "# Método Holdout \n",
    "\n",
    "Até agora, para validar nosso modelo, temos utilizado um método conhecido como holdout. Nele, realizamos a amostragem dos conjuntos de treino e teste, sem reposição. Dessa forma, utilizamos os dados de treino para aprender os parâmetros (betas) dos modelos e após o treinamento, utilizamos o conjunto de teste para medir a performance do nosso modelo em um conjunto de dados nunca visto, simulando um cenário real.\n",
    "\n",
    "Por que não podemos medir a performance somente nos dados de treino??\n",
    "\n",
    "\n",
    "A resposta é simples: Quando medimos a performance da amostra de treino, estamos sendo otimistas em relação ao erro e não temos a garantia de que o modelo realmente aprendeu. Não temos como saber se o modelo simplesmente decorou os dados ou não. Quando fazemos isso, introduzimos algo chamado de viés otimista. Esse vies otimista pode ser calculado como a diferença entre a performance do treino e teste.\n",
    "\n",
    "Beleza. Mas nesse processo de amostragem podemos encontrar 2 problemas, conseguem enxergar quais???"
   ]
  },
  {
   "cell_type": "markdown",
   "metadata": {},
   "source": [
    "\n",
    "Devemos ter em mente que nosso conjunto de dados representa uma amostra aleatória retirada de uma distribuição de probabilidade; e normalmente assumimos que esta amostra é representativa da população real. Contudo, numa amostragem sem substituição, vamos alterando as estatísticas (média, proporção e variância) da amostra. Devemos notar que a amostragem sem substituição afeta as estatística de maneira inversamente proporcional ao tamanho da amostra!. Esse é o primeiro ponto! Para esse problema, nós já encontramos uma solução em aulas passadas: Seleção estratificada. O segundo vem do fato de que nosso modelo aprende com dados!, Estamos separando uma amostra dos dados para estimar a performance, mas talvez o algoritmo nem tenha atingido sua completa capacidade!. Ou seja, na prática, a estimação da performance é viesada pessimisticamente. \n",
    "\n",
    "<img src=\"https://sebastianraschka.com/images/blog/2016/model-evaluation-selection-part2/model-eval-mnist_0.png\" width=400>"
   ]
  },
  {
   "cell_type": "markdown",
   "metadata": {},
   "source": [
    "# Holdout  Repetitivo\n",
    "\n",
    "Sempre que estamos criando um modelo de machine learning dividimos nosso conjunto de dados em treino e teste, utilizando uma ```random_state``` qualquer. Mas será que nossos resultados seriam diferentes se alterássemos esse parâmetro?? A resposta é depende! Já que estamos lidando com aleatoriedade, pode acontecer de nossa amostra de teste não ser representativa o suficiente e nosso modelo performar muito pior. Para contornar esse problema, que tal repetir várias vezes o processo de amostragem, alterando a ```random_state``` para obter uma média de erros em diferentes conjuntos de teste?? Parece uma boa! \n",
    "\n",
    "O único empecilho dessa abordagem é que estaríamos sujeitos a criar alguns modelos que compartilharam o mesmo dado de treinamento. Para contornar esse problema, temos um outro processo chamado de validação cruzada que veremos a seguir.\n",
    "\n",
    "<img src=\"https://miro.medium.com/max/872/1*-wSS_-Yy2xySeNikFXbj1g.png\" width=300>"
   ]
  },
  {
   "cell_type": "markdown",
   "metadata": {},
   "source": [
    "# Validação Cruzada K-Fold\n",
    "\n",
    "<div style=\"text-align: center\">\n",
    "<img src=\"img/kfold.png\" align=\"center\" width=\"60%\">\n",
    "\n",
    "Quando temos muito poucos dados, dividi-los em conjunto de treinamento e teste pode nos deixar com um conjunto de testes muito pequeno. Digamos que temos apenas 100 observações. Se fizermos uma divisão simples de 80 a 20, obteremos 20 observações em nosso conjunto de testes. Não é suficiente. Podemos obter quase qualquer desempenho neste conjunto apenas devido ao acaso. O problema é ainda pior quando temos um projeto com várias classes. Se tivermos 10 classes e apenas 20 observações, nos resta apenas 2 observações para cada classe, em média. Testar qualquer coisa em apenas duas observações não pode levar a uma conclusão real.\n",
    "\n",
    "\n",
    "Se usarmos a validação cruzada nesse caso, construiremos K modelos diferentes, para que possamos fazer previsões em todos os nossos dados. Para cada instância, fazemos uma previsão por um modelo que não viu essa observação e, portanto, estamos recebendo 100 observações em nosso conjunto de testes. Para o problema de várias classes, obtemos 10 observações para cada classe, em média, e é muito melhor do que apenas 2. Depois de avaliarmos nosso algoritmo de aprendizado, agora podemos treinar nosso modelo em todos os nossos dados, porque se nossos 5 modelos tiveram desempenho semelhante usando conjuntos de treino diferentes, assumimos que, treinando-os em todos os dados, obteremos um desempenho semelhante.\n",
    "\n",
    "\n",
    "Ao fazer a validação cruzada, podemos usar todas as nossas 100 observações, tanto para treinamento quanto para teste, enquanto avaliamos nosso algoritmo de aprendizado em dados nunca antes vistos.\n",
    " \n",
    "____________"
   ]
  },
  {
   "cell_type": "markdown",
   "metadata": {},
   "source": [
    "# K-Fold Estratificado\n",
    "\n",
    "Utilizando um train-test split de nossos dados, assumimos que nossos exemplos são independentes. Isso significa que, conhecer / ver alguma instância não nos ajudará a entender outras instâncias. No entanto, esse nem sempre é o caso.\n",
    "\n",
    "**Stratified Cross-Validation**:Quando dividimos os dados em *folds*, queremos garantir que cada parte seja um bom representante de todos os dados. O exemplo mais básico é que queremos a mesma proporção de classes diferentes em cada parte. Na maioria das vezes, isso acontece apenas aleatoriamente, mas às vezes, em conjuntos de dados complexos, precisamos aplicar uma distribuição correta para cada parte.\n",
    "\n",
    "<div style=\"text-align: center\">\n",
    "<img src=\"https://qiita-image-store.s3.amazonaws.com/0/316551/661113d1-ab0a-6ec9-9215-c635f5d8c606.png\" align=\"center\" width=700>\n",
    "    \n"
   ]
  },
  {
   "cell_type": "markdown",
   "metadata": {},
   "source": [
    "# Leave One Out Validation\n",
    "\n",
    "<div style=\"text-align: center\">\n",
    "<img src=\"https://assets.datacamp.com/production/repositories/3981/datasets/8a6236f142b1ee2e4a70aae2af9507c7c580f302/Screen%20Shot%202019-01-27%20at%209.25.41%20AM.png\" align=\"center\" width=500>\n",
    "\n",
    "Validação cruzada Leave-One-Out (LOOCV) é muito parecido com validação cruzada holdout. Ambos separam os dados em duas partes, mas o LOOCV utiliza somente uma observação na fase de validação. I.e., treina-se o modelo com n−1 dados, {(x1,y1),…,(xk−1,yk−1),(xk+1,yk+1),…,(xn,yn)} e o avalia utilizando a observação restante, (xk,yk). Repetimos esse procedimento n vezes, excluindo em cada momento uma observação diferente.\n",
    "\n",
    "A validação cruzada via LOOCV apresenta vantagens sobre holdout, pois possui menor vício (não superestima o erro do teste), além de não ser tão influenciada pela aleatorização das partições.\n",
    "    \n",
    "OBS: Alto custo computacional. Deve ser usada apenas em pequenos datasets."
   ]
  },
  {
   "cell_type": "markdown",
   "metadata": {},
   "source": [
    "# A escolha de hiperparâmetros\n",
    "\n",
    "Até agora não falamos de hiperparâmetros, temos apenas utilizado os valores default das bibliotecas! Afinal, como escolher os melhores hiperparâmetros pro nosso modelo? Podemos usar o erro da validação cruzada para escolher nossos hiperparâmetros e estimar o erro do modelo ao mesmo tempo?\n",
    "\n",
    "Podemos traçar a seguinte estratégia:\n",
    "- Escolher uma lista de valores de hiperparâmetros (vários valores C do svm, por exemplo)\n",
    "- Medir o erro de validação cruzada para todos os valores de C listados\n",
    "- Escolher o valor de C que possui o menor erro"
   ]
  },
  {
   "cell_type": "markdown",
   "metadata": {},
   "source": [
    "Essa estratégia parece boa, mas na verdade, quando fazemos isso estamos perdendo a capacidade de estimar nossa performance. Isso ocorre, pois estamos selecionando os hiperparâmetros para os quais o erro já seria o menor possível."
   ]
  },
  {
   "cell_type": "markdown",
   "metadata": {},
   "source": [
    "## Treino, Teste e Validação"
   ]
  },
  {
   "cell_type": "markdown",
   "metadata": {},
   "source": [
    "Uma alternativa pra esse problema é dividirmos os nossos dados em 3 datasets distintos. O dataset de treino será usado para o algoritmo aprender os betas, o dataset de validação será usado para ajustar a arquitetura e o dataset de teste para estimar a performance esperada."
   ]
  },
  {
   "cell_type": "markdown",
   "metadata": {},
   "source": [
    "<img src=\"https://upload.wikimedia.org/wikipedia/commons/thumb/b/bb/ML_dataset_training_validation_test_sets.png/1200px-ML_dataset_training_validation_test_sets.png\" width=500>"
   ]
  },
  {
   "cell_type": "markdown",
   "metadata": {},
   "source": [
    "Novamente, voltamos ao impasse de que estamos retirando ainda mais dados do conjunto de treino, tendo assim uma estimativa pessimista. Além disso, como já foi falado, estamos suceptíveis a aleatoriedade. Em alguns casos, em que temos datasets pequenos, podemos obter métricas boas por puro acaso. Em datasets maiores, sofremos menos com isso e essa pode ser uma prática boa e de mais baixo custo computacional;\n",
    "\n",
    "<img src=\"https://miro.medium.com/max/1484/1*OJVhBtg5YgeW7rKXoxKQxg.png\" width=600>"
   ]
  },
  {
   "cell_type": "markdown",
   "metadata": {},
   "source": [
    "## Validação K-Fold"
   ]
  },
  {
   "cell_type": "markdown",
   "metadata": {},
   "source": [
    "<img src=\"https://sebastianraschka.com/images/blog/2016/model-evaluation-selection-part3/kfold.png\" width=500>"
   ]
  },
  {
   "cell_type": "markdown",
   "metadata": {},
   "source": [
    "A ideia aqui é separar um conjunto de treino e teste, como no método holdout. O conjunto de teste vai ser usado para estimar a performance do modelo final. O conjunto de treino, por sua vez, será usado dentro de um processo de validação cruzada K-Fold. \n",
    "Na validação cruzada K-Fold, a cada iteração um modelo será ajustado, com um conjunto de hiperparâmetro fixo, e a métrica de interesse será medida. No final das k iterações, extraímos a média do conjunto de K-Folds e repetimos o proximo, agora utilizando um outro conjunto fixo de hiperparâmetros.\n",
    "Note que podemos criar vários conjuntos diferentes para testar nos nossos modelos. No final de todo o processo, o conjunto de parâmetros campeão é aquele cujo erro de validaçao cruzada seja o menor possível. No fim, reunimos todo o conjunto de treino, ajustamos nosso modelo e então estimamos a performance no conjunto de teste que foi separado inicialemnte."
   ]
  },
  {
   "cell_type": "markdown",
   "metadata": {},
   "source": [
    "-  Split em Treino e Teste\n",
    "- Criação de lista de hiperparâmetros\n",
    "- KFold para cada item da lista\n",
    "- Medição do erro em cada KFold (conjunto de hiperparâmetro)\n",
    "- Seleção do melhor conjunto, baseado no menor erro\n",
    "- Treinamento do modelo com todo o conjunto de treino\n",
    "- Estimativa da performance final no conjunto de teste"
   ]
  },
  {
   "cell_type": "markdown",
   "metadata": {
    "colab_type": "text",
    "id": "3XQFqLklNrY0"
   },
   "source": [
    "# Exemplo com Dados Sintéticos\n",
    "\n",
    "Vamos estudar um exemplo do uso de validação cruzada para calcular as curvas de validação de uma classe de modelos. Aqui, vamos usar um modelo de *regressão polinomial*: é um modelo linear generalizado, em que o grau dos polinômios é um parâmetro configurável. \n",
    "\n",
    "Por exemplo, um polinômio de grau 1 ajusta uma linha reta aos dados; para os parâmetros do modelo $a$ e $b$:\n",
    "\n",
    "$$\n",
    "y = ax + b\n",
    "$$\n",
    "\n",
    "Um polinômio de grau 3 ajusta uma curva cúbica aos dados; para parâmetros $a, b, c, d$: \n",
    "\n",
    "$$\n",
    "y = ax^3 + bx^2 + cx + d\n",
    "$$\n",
    "\n",
    "Isso pode ser generalizado a qualquer número de recursos polinomiais.\n",
    "\n",
    "No Scikit-Learn, é possível implementar esse modelo com uma simples regressão linear combinada com o pré-processador polinomial (polynomial preprocessor).\n",
    "\n",
    "Usar o __[sklearn.pipeline.make_pipeline](https://scikit-learn.org/stable/modules/generated/sklearn.pipeline.make_pipeline.html)__ para organizar essas operações sequencialmente. \n",
    "\n",
    "## Importando as bibliotecas"
   ]
  },
  {
   "cell_type": "code",
   "execution_count": 11,
   "metadata": {
    "colab": {
     "autoexec": {
      "startup": false,
      "wait_interval": 0
     }
    },
    "colab_type": "code",
    "id": "kAXp4DUNNrY1"
   },
   "outputs": [],
   "source": [
    "# importando as bibliotecas\n",
    "from sklearn.preprocessing import PolynomialFeatures\n",
    "from sklearn.linear_model import LinearRegression\n",
    "from sklearn.pipeline import make_pipeline\n"
   ]
  },
  {
   "cell_type": "markdown",
   "metadata": {},
   "source": [
    "## Definindo uma função para aplicação de regressão linear\n",
    "\n",
    "Esta função permite a aplicação de função exponencial polinomial para as features dos dados"
   ]
  },
  {
   "cell_type": "code",
   "execution_count": 12,
   "metadata": {},
   "outputs": [],
   "source": [
    "# definindo uma função para o pipeline para uma regressão polinimial\n",
    "def PolynomialRegression(degree=2, **kwargs):\n",
    "    return make_pipeline(PolynomialFeatures(degree),LinearRegression(**kwargs))"
   ]
  },
  {
   "cell_type": "markdown",
   "metadata": {
    "colab_type": "text",
    "id": "P7wVPcsKNrY4"
   },
   "source": [
    "## Criando os dados\n",
    "\n",
    "Agora vamos criar alguns dados sintéticos (artificiais, inventados), \n",
    "aos quais o nosso modelo será ajustado em seguida."
   ]
  },
  {
   "cell_type": "code",
   "execution_count": 13,
   "metadata": {
    "colab": {
     "autoexec": {
      "startup": false,
      "wait_interval": 0
     }
    },
    "colab_type": "code",
    "id": "VrS-qMFfNrY5"
   },
   "outputs": [],
   "source": [
    "# iportando as bibliotecas\n",
    "import numpy as np\n",
    "\n",
    "# definindo uma função para gerar dados\n",
    "def make_data(N, err=1.0, rseed=1):\n",
    "    # randomly sample the data\n",
    "    rng = np.random.RandomState(rseed)\n",
    "    X = rng.rand(N, 1) ** 2\n",
    "    y = 10 - 1. / (X.ravel() + 0.1)\n",
    "    if err > 0:\n",
    "        y += err * rng.randn(N)\n",
    "    return X, y\n",
    "\n",
    "X, y = make_data(40)\n",
    "\n"
   ]
  },
  {
   "cell_type": "code",
   "execution_count": 14,
   "metadata": {},
   "outputs": [
    {
     "data": {
      "image/png": "[encoded data removed]",
      "text/plain": [
       "<Figure size 576x432 with 1 Axes>"
      ]
     },
     "metadata": {},
     "output_type": "display_data"
    }
   ],
   "source": [
    "# visualizando os dados gerados\n",
    "from matplotlib import pyplot as plt\n",
    "plt.figure(figsize=(8,6))\n",
    "plt.scatter(X,y)\n",
    "plt.xlabel('x')\n",
    "plt.ylabel('y')\n",
    "plt.show()"
   ]
  },
  {
   "cell_type": "code",
   "execution_count": 15,
   "metadata": {},
   "outputs": [
    {
     "data": {
      "text/plain": [
       "((40, 1), (40,))"
      ]
     },
     "execution_count": 15,
     "metadata": {},
     "output_type": "execute_result"
    }
   ],
   "source": [
    "X.shape,y.shape"
   ]
  },
  {
   "cell_type": "markdown",
   "metadata": {
    "colab_type": "text",
    "id": "HhWdOoxfNrY8"
   },
   "source": [
    "Agora podemos visualizar nossos dados, junto com os ajustes polinomiais de vários graus.\n",
    "\n",
    "** OBERVAÇÃO: ** Este código é auxiliar e não é necessário entender todos os detalhes para seguir o exemplo."
   ]
  },
  {
   "cell_type": "markdown",
   "metadata": {},
   "source": [
    "## Verificação da aderência aos dados\n",
    "\n",
    "Podemos identificar qual é o grau da função polinomial que mais se adapta à configuração dos dados"
   ]
  },
  {
   "cell_type": "code",
   "execution_count": 16,
   "metadata": {
    "colab": {
     "autoexec": {
      "startup": false,
      "wait_interval": 0
     }
    },
    "colab_type": "code",
    "id": "wV5bSiuINrY8"
   },
   "outputs": [
    {
     "data": {
      "image/png": "[encoded data removed]",
      "text/plain": [
       "<Figure size 576x432 with 1 Axes>"
      ]
     },
     "metadata": {},
     "output_type": "display_data"
    }
   ],
   "source": [
    "# importando as bibliotecas\n",
    "%matplotlib inline\n",
    "import matplotlib.pyplot as plt\n",
    "import seaborn; seaborn.set() # plot formatting\n",
    "plt.figure(figsize=(8,6))\n",
    "\n",
    "# definindo um vetor bidimensional para novos dados de entrada com 500 pontos\n",
    "X_test = np.linspace(-0.1, 1.1, 500)[:, None]\n",
    "\n",
    "# plotando uma dispersão com os dados gerados originalmente\n",
    "plt.scatter(X.ravel(), y, color='black')\n",
    "axis = plt.axis()\n",
    "\n",
    "# criando predições de funções com graus 1,3 e 5 com PolynomialRegression\n",
    "# plotando os gráficos destas funções \n",
    "for degree in [1, 3, 5]:\n",
    "    y_test = PolynomialRegression(degree).fit(X, y).predict(X_test)\n",
    "    plt.plot(X_test.ravel(), y_test, label='degree={0}'.format(degree))\n",
    "plt.xlim(-0.1, 1.0)\n",
    "plt.ylim(-2, 12)\n",
    "plt.legend(loc='best');"
   ]
  },
  {
   "cell_type": "markdown",
   "metadata": {
    "colab_type": "text",
    "id": "frxRNubeNrZA"
   },
   "source": [
    "Nesse caso, \"o botão\" que controla a complexidade do modelo é o grau do polinômio, que pode ser qualquer inteiro não negativo.\n",
    "\n",
    "Uma interessante pergunta a ser feita: qual grau de polinômio fornece um compromisso apropriado entre viés (subajuste) e variância (superajuste)?\n",
    "\n",
    "Podemos prosseguir visualizando a curva de validação para este conjunto de dados e modelo específicos; isso pode ser feito facilmente usando a função ``validation_curve`` fornecida por Scikit-Learn.\n",
    "\n",
    "Dado um modelo, um conjunto de dados, um nome de parâmetro e um intervalo a ser explorado, essa função calculará automaticamente tanto o score de treinamento como o score de validação ao longo do intervalo.\n",
    "\n",
    "## Parâmetro que mais adere aos dados (grau da polinomial) por Cross-Validation"
   ]
  },
  {
   "cell_type": "markdown",
   "metadata": {},
   "source": [
    "Utilização da Curva de Validação para procurar o grau para a melhor polinomial que se ajusta aos dados utilizando o pacote __[sklearn.model_selection.validation_curve](https://scikit-learn.org/stable/modules/generated/sklearn.model_selection.validation_curve.html)__"
   ]
  },
  {
   "cell_type": "code",
   "execution_count": 17,
   "metadata": {
    "colab": {
     "autoexec": {
      "startup": false,
      "wait_interval": 0
     }
    },
    "colab_type": "code",
    "id": "_N9Bk0ILNrZA"
   },
   "outputs": [
    {
     "data": {
      "image/png": "[encoded data removed]",
      "text/plain": [
       "<Figure size 576x432 with 1 Axes>"
      ]
     },
     "metadata": {},
     "output_type": "display_data"
    }
   ],
   "source": [
    "# importando as bibliotecas\n",
    "from sklearn.model_selection import validation_curve\n",
    "plt.figure(figsize=(8,6))\n",
    "\n",
    "# obendo os scores de validação para treino e teste\n",
    "# utilizando a classe validation curve\n",
    "degree = np.arange(0, 21)\n",
    "train_score, val_score = validation_curve(estimator=PolynomialRegression(), \n",
    "                                          X=X, \n",
    "                                          y=y, \n",
    "                                          param_name='polynomialfeatures__degree', \n",
    "                                          param_range=degree, \n",
    "                                          cv=7) # Cross-Validation hyper-param\n",
    "\n",
    "# plotando as curvas de teste e validação\n",
    "plt.plot(degree, np.median(train_score, 1), color='blue', label='training score')\n",
    "plt.plot(degree, np.median(val_score, 1), color='red', label='validation score')\n",
    "plt.legend(loc='best')\n",
    "plt.ylim(0, 1)\n",
    "plt.xlabel('degree')\n",
    "plt.ylabel('score');"
   ]
  },
  {
   "cell_type": "markdown",
   "metadata": {},
   "source": [
    "Este gráfico mostra precisamente o comportamento qualitativo que esperamos: o score de treinamento sempre é maior que o score de validação; o score de treinamento cresce lentamente junto com a complexidade do modelo; e o score de validação atinge um máximo antes de finalmente começar a cair à medida que o modelo é superajustado. \n",
    "\n",
    "A partir da curva de validação, é possível interpretar que o compromisso ideal entre viés e variância é encontrado com um polinômio de terceira ordem; podemos calcular e mostrar esse ajuste sobre os dados originais.\n"
   ]
  },
  {
   "cell_type": "code",
   "execution_count": 8,
   "metadata": {},
   "outputs": [
    {
     "name": "stdout",
     "output_type": "stream",
     "text": [
      "memory\n",
      "steps\n",
      "verbose\n",
      "polynomialfeatures\n",
      "linearregression\n",
      "polynomialfeatures__degree\n",
      "polynomialfeatures__include_bias\n",
      "polynomialfeatures__interaction_only\n",
      "polynomialfeatures__order\n",
      "linearregression__copy_X\n",
      "linearregression__fit_intercept\n",
      "linearregression__n_jobs\n",
      "linearregression__normalize\n"
     ]
    }
   ],
   "source": [
    "# Check the list of available parameters with `estimator.get_params().keys()`.\n",
    "for param in PolynomialRegression().get_params().keys():\n",
    "    print(param)"
   ]
  },
  {
   "cell_type": "markdown",
   "metadata": {},
   "source": [
    "## Plotando o gráfico de melhor ajuste da curva \n",
    "\n",
    "Utilização da polinomial de grau 3 para plotar a curva de malor ajuste aos pontos"
   ]
  },
  {
   "cell_type": "code",
   "execution_count": 9,
   "metadata": {
    "colab": {
     "autoexec": {
      "startup": false,
      "wait_interval": 0
     }
    },
    "colab_type": "code",
    "id": "AbuTN2xENrZE"
   },
   "outputs": [
    {
     "data": {
      "image/png": "[encoded data removed]",
      "text/plain": [
       "<Figure size 576x432 with 1 Axes>"
      ]
     },
     "metadata": {},
     "output_type": "display_data"
    }
   ],
   "source": [
    "# plotando o gráfico de melhor ajuste\n",
    "plt.figure(figsize=(8,6))\n",
    "plt.scatter(X.ravel(), y, color='black')\n",
    "lim = plt.axis()\n",
    "y_test = PolynomialRegression(3).fit(X, y).predict(X_test)\n",
    "plt.plot(X_test.ravel(), y_test,color='orange');\n",
    "plt.axis(lim);"
   ]
  },
  {
   "cell_type": "markdown",
   "metadata": {
    "colab_type": "text",
    "id": "yB8PNCJVNrZG"
   },
   "source": [
    "Notar que encontrar esse modelo ideal não exigiu que fosse calculado apenas o score de treinamento, mas examinando o relacionamento entre os scores de treinamento e validação, conseguimos obter um insight válido sobre o desempenho do modelo.\n",
    "\n",
    "____________"
   ]
  }
 ],
 "metadata": {
  "colab": {
   "default_view": {},
   "name": "PRACTICA GUIADA - Integrando conceptos nuevos_pt_br.ipynb",
   "provenance": [],
   "version": "0.3.2",
   "views": {}
  },
  "hide_input": false,
  "kernelspec": {
   "display_name": "Python 3 (ipykernel)",
   "language": "python",
   "name": "python3"
  },
  "language_info": {
   "codemirror_mode": {
    "name": "ipython",
    "version": 3
   },
   "file_extension": ".py",
   "mimetype": "text/x-python",
   "name": "python",
   "nbconvert_exporter": "python",
   "pygments_lexer": "ipython3",
   "version": "3.9.12"
  },
  "latex_envs": {
   "LaTeX_envs_menu_present": true,
   "autoclose": false,
   "autocomplete": true,
   "bibliofile": "biblio.bib",
   "cite_by": "apalike",
   "current_citInitial": 1,
   "eqLabelWithNumbers": true,
   "eqNumInitial": 1,
   "hotkeys": {
    "equation": "Ctrl-E",
    "itemize": "Ctrl-I"
   },
   "labels_anchors": false,
   "latex_user_defs": false,
   "report_style_numbering": false,
   "user_envs_cfg": false
  },
  "toc": {
   "base_numbering": 1,
   "nav_menu": {},
   "number_sections": true,
   "sideBar": true,
   "skip_h1_title": false,
   "title_cell": "Table of Contents",
   "title_sidebar": "Contents",
   "toc_cell": false,
   "toc_position": {},
   "toc_section_display": true,
   "toc_window_display": false
  },
  "varInspector": {
   "cols": {
    "lenName": 16,
    "lenType": 16,
    "lenVar": 40
   },
   "kernels_config": {
    "python": {
     "delete_cmd_postfix": "",
     "delete_cmd_prefix": "del ",
     "library": "var_list.py",
     "varRefreshCmd": "print(var_dic_list())"
    },
    "r": {
     "delete_cmd_postfix": ") ",
     "delete_cmd_prefix": "rm(",
     "library": "var_list.r",
     "varRefreshCmd": "cat(var_dic_list()) "
    }
   },
   "types_to_exclude": [
    "module",
    "function",
    "builtin_function_or_method",
    "instance",
    "_Feature"
   ],
   "window_display": false
  }
 },
 "nbformat": 4,
 "nbformat_minor": 4
}
