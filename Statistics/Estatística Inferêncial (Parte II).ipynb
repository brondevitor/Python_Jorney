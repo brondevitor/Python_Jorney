{
 "cells": [
  {
   "cell_type": "code",
   "execution_count": 2,
   "metadata": {
    "id": "N7zCWDyTPQBj"
   },
   "outputs": [],
   "source": [
    "import pandas as pd\n",
    "import numpy as np\n",
    "from scipy import stats\n",
    "import matplotlib.pyplot as plt\n",
    "import seaborn as sns\n",
    "import math\n",
    "from collections import Counter\n",
    "from scipy.stats import bernoulli"
   ]
  },
  {
   "cell_type": "markdown",
   "metadata": {
    "id": "9w5yV2IEPQBq"
   },
   "source": [
    "**Tópicos**:\n",
    "- Testes de Hipótese (Parte II)\n",
    "     - Metodologia Genérica do Teste de Hipótese\n",
    "     - Teste para a média com variância conhecida\n",
    "     - Teste para a média com variância desconhecida\n",
    "     - Teste t para 2 amostras \n",
    "     - Teste de correlação:\n",
    "         - Pearson\n",
    "         - Spearman\n",
    "     - Teste de Dependência \n"
   ]
  },
  {
   "cell_type": "markdown",
   "metadata": {
    "id": "CXTcXKl0NZVW"
   },
   "source": [
    "### Metodologia Genérica do Teste de Hipótese"
   ]
  },
  {
   "cell_type": "markdown",
   "metadata": {
    "id": "HUkzKK5MNZVW"
   },
   "source": [
    "* Passo 1: Fixar as hipóteses Nula e Alternativa"
   ]
  },
  {
   "cell_type": "markdown",
   "metadata": {
    "id": "_JU7Y2uoNZVW"
   },
   "source": [
    "No primeiro passo, temos que definir se iremos realizar um tese unilateral ou bilateral."
   ]
  },
  {
   "cell_type": "markdown",
   "metadata": {
    "id": "_TsNfEDbNZVW"
   },
   "source": [
    "unilateral será quando quisermos testar se a estatística da amostra é maior ou menor que o parâmetro da população, isoladamente."
   ]
  },
  {
   "cell_type": "markdown",
   "metadata": {
    "id": "3xVSLyIdNZVX"
   },
   "source": [
    "bilateral será quando quisermos testar que a estatística da amostra é diferente, sendo as condições de maior ou menor testadas simultaneamente."
   ]
  },
  {
   "cell_type": "markdown",
   "metadata": {
    "id": "6vtHO6TTNZVX"
   },
   "source": [
    "![](https://oestatistico.com.br/wp-content/uploads/2016/01/poder-teste-oestatistico.jpg)"
   ]
  },
  {
   "cell_type": "markdown",
   "metadata": {
    "id": "R6beL2DlNZVX"
   },
   "source": [
    "* Passo 2: Fixar o nível de significância, alfa"
   ]
  },
  {
   "cell_type": "markdown",
   "metadata": {
    "id": "QMeiL1-iNZVY"
   },
   "source": [
    "* Passo 3: Calcular a estatística de interesse a partir de uma amostra."
   ]
  },
  {
   "cell_type": "markdown",
   "metadata": {
    "id": "S2vriPbWNZVY"
   },
   "source": [
    "* Passo 4: Calcular o p-valor para essa estatística e decidir qual hipótese se mantém."
   ]
  },
  {
   "cell_type": "markdown",
   "metadata": {
    "id": "-n6e_moVNZVY"
   },
   "source": [
    "## Exemplos Práticos"
   ]
  },
  {
   "cell_type": "markdown",
   "metadata": {
    "id": "qtBMcVJuNZVY"
   },
   "source": [
    "### Teste para a Média Com Variância Conhecida"
   ]
  },
  {
   "cell_type": "markdown",
   "metadata": {
    "id": "PbNUnkgXNZVY"
   },
   "source": [
    "Uma máquina que enche pacotes de café com variância de 400g2 estava regulada para encher pacotes com 500g. Você decide coletar uma amostra de 16 pacotes e checar se a máquiina ainda está regulada. A amostra de 16 pacotes possui média de 492g. Baseando-se nisso, você para a produção de café para regular a máquina?"
   ]
  },
  {
   "cell_type": "code",
   "execution_count": 3,
   "metadata": {},
   "outputs": [],
   "source": [
    "# trazendo dados\n",
    "# variancia\n",
    "var = 400\n",
    "# media\n",
    "u = 500\n",
    "# numero de amostras\n",
    "n = 16\n",
    "# media amostral\n",
    "ua = 492"
   ]
  },
  {
   "cell_type": "markdown",
   "metadata": {
    "id": "VYrckFj0NZVZ"
   },
   "source": [
    "Vamos definir nossas hipóteses"
   ]
  },
  {
   "cell_type": "markdown",
   "metadata": {
    "id": "iFlgjp3eNZVZ"
   },
   "source": [
    "**H0**: u = 500g<br>\n",
    "**H1**: u != 500g"
   ]
  },
  {
   "cell_type": "markdown",
   "metadata": {
    "id": "SPtQLnKPNZVZ"
   },
   "source": [
    "Do teorema do limite central, temos que:"
   ]
  },
  {
   "cell_type": "markdown",
   "metadata": {
    "id": "EJtT4Q4_NZVZ"
   },
   "source": [
    "![](https://cdn1.byjus.com/wp-content/uploads/2019/08/central-limit-theorem-formula.jpeg)"
   ]
  },
  {
   "cell_type": "markdown",
   "metadata": {
    "id": "vEtMLZ9rNZVZ"
   },
   "source": [
    "Como temos n = 16:"
   ]
  },
  {
   "cell_type": "code",
   "execution_count": 4,
   "metadata": {},
   "outputs": [],
   "source": [
    "# desvio padrao amostral\n",
    "desv_a = np.sqrt(var/n)"
   ]
  },
  {
   "cell_type": "code",
   "execution_count": 5,
   "metadata": {},
   "outputs": [
    {
     "data": {
      "text/plain": [
       "5.0"
      ]
     },
     "execution_count": 5,
     "metadata": {},
     "output_type": "execute_result"
    }
   ],
   "source": [
    "desv_a"
   ]
  },
  {
   "cell_type": "markdown",
   "metadata": {
    "id": "ai79KW0UNZVa"
   },
   "source": [
    "Então, nossa distribuição amostral da média tem média 500 e desvio padrão 5."
   ]
  },
  {
   "cell_type": "markdown",
   "metadata": {
    "id": "NRowcqptNZVa"
   },
   "source": [
    "Vamos fixar nosso nível de significância em 0.01. Note que é um teste bilateral."
   ]
  },
  {
   "cell_type": "markdown",
   "metadata": {
    "id": "ERwNcq6PNZVa"
   },
   "source": [
    "Agora precisamos calcular a probabilidade (p valor) de encontrarmos um valor de média > 492 ou <492 , numa distribuição de média 500 e desvio padrão 5. Esse será nosso p-valor."
   ]
  },
  {
   "cell_type": "markdown",
   "metadata": {
    "id": "6J6qMZneNZVa"
   },
   "source": [
    "Primeiro, iremos calcular a probabilidade de ser < 492."
   ]
  },
  {
   "cell_type": "markdown",
   "metadata": {
    "id": "qWtQ438CNZVa"
   },
   "source": [
    "Vamos transformar nosso 492 em Z Score e calcular a probabilidade usando o scipy."
   ]
  },
  {
   "cell_type": "code",
   "execution_count": 6,
   "metadata": {},
   "outputs": [],
   "source": [
    "z_492 = (ua - u)/desv_a"
   ]
  },
  {
   "cell_type": "code",
   "execution_count": 7,
   "metadata": {},
   "outputs": [
    {
     "data": {
      "text/plain": [
       "-1.6"
      ]
     },
     "execution_count": 7,
     "metadata": {},
     "output_type": "execute_result"
    }
   ],
   "source": [
    "z_492"
   ]
  },
  {
   "cell_type": "markdown",
   "metadata": {
    "id": "qZg77-t1NZVb"
   },
   "source": [
    "Como o teste é bilateral, teremos que dividir a área de 1% (nível de significância em 2). Para cada lado, precisaremos encontrar o Z score equivalente."
   ]
  },
  {
   "cell_type": "markdown",
   "metadata": {
    "id": "fIC_MdyiNZVb"
   },
   "source": [
    "Para calcular Z a esquerda, precisaremos descobrir que valor de Z nos traz 0.5% dos dados a esquerda."
   ]
  },
  {
   "cell_type": "code",
   "execution_count": 8,
   "metadata": {},
   "outputs": [],
   "source": [
    "Z_esquerda = stats.norm.ppf(0.005)"
   ]
  },
  {
   "cell_type": "code",
   "execution_count": 9,
   "metadata": {},
   "outputs": [
    {
     "data": {
      "text/plain": [
       "-2.575829303548901"
      ]
     },
     "execution_count": 9,
     "metadata": {},
     "output_type": "execute_result"
    }
   ],
   "source": [
    "Z_esquerda"
   ]
  },
  {
   "cell_type": "markdown",
   "metadata": {
    "id": "9a9JigjCNZVb"
   },
   "source": [
    "Como  são sempre simétricos, Z à direita será igual a Z_esquerdo, porém positivo."
   ]
  },
  {
   "cell_type": "code",
   "execution_count": 10,
   "metadata": {},
   "outputs": [],
   "source": [
    "Z_direita = -1*Z_esquerda"
   ]
  },
  {
   "cell_type": "markdown",
   "metadata": {
    "id": "kd_TYc4aNZVb"
   },
   "source": [
    "Note que a região crítica do teste é aquela em que <= -2.57 e >= 2.57"
   ]
  },
  {
   "cell_type": "markdown",
   "metadata": {
    "id": "wj7ILtiVNZVc"
   },
   "source": [
    "Nosso Z_492, porém, vale -1.6. Ou seja, é maior que -2.57 e menor que 2.57. Sendo assim, não cai dentro da região crítica."
   ]
  },
  {
   "cell_type": "markdown",
   "metadata": {
    "id": "rtD3p1DANZVc"
   },
   "source": [
    "Ou seja, cai dentro da região de aceitação do teste, indicando que devemos aceitar a hipótese nula, nesse caso e afirmar que"
   ]
  },
  {
   "cell_type": "markdown",
   "metadata": {
    "id": "FMZCLGYNNZVc"
   },
   "source": [
    "Vamos calcular o p valor?"
   ]
  },
  {
   "cell_type": "code",
   "execution_count": 11,
   "metadata": {},
   "outputs": [],
   "source": [
    "p_valor = stats.norm.cdf(-1.6)"
   ]
  },
  {
   "cell_type": "code",
   "execution_count": 12,
   "metadata": {},
   "outputs": [
    {
     "data": {
      "text/plain": [
       "0.10959858339911595"
      ]
     },
     "execution_count": 12,
     "metadata": {},
     "output_type": "execute_result"
    }
   ],
   "source": [
    "p_valor*2"
   ]
  },
  {
   "cell_type": "markdown",
   "metadata": {
    "id": "4IZDQpWYNZVc"
   },
   "source": [
    "Note que 0.10959 é maior que 0.005, que é a área da região crítica à esquerda."
   ]
  },
  {
   "cell_type": "markdown",
   "metadata": {
    "id": "GsAfsAKMNZVc"
   },
   "source": [
    "Dessa forma, quando p-valor > nível de significância, não rejeitamos a hipótese nula."
   ]
  },
  {
   "cell_type": "markdown",
   "metadata": {
    "id": "L3xGRR9sNZVc"
   },
   "source": [
    "Conclusão: Não parar a produção"
   ]
  },
  {
   "cell_type": "markdown",
   "metadata": {
    "id": "jtPwwVn8NZVc"
   },
   "source": [
    "### Teste para a Média com Variância Desconhecida"
   ]
  },
  {
   "cell_type": "markdown",
   "metadata": {
    "id": "azlGf2ZwNZVd"
   },
   "source": [
    "Esse estudo de caso parece mais realista, pois na prática é muito difícil que conheçamos a variância da população. Normalmente, conhecemos a variância da amostra."
   ]
  },
  {
   "cell_type": "markdown",
   "metadata": {
    "id": "EKbBP6yINZVd"
   },
   "source": [
    "Aqui, em vez de utilizar a distribuição Z, trabalharemos com a distribuição T de Student. "
   ]
  },
  {
   "cell_type": "markdown",
   "metadata": {
    "id": "csLnahDgNZVd"
   },
   "source": [
    "A distribuição t de Student parecida com a distribuição normal. Quando n tende a infinito, ela tende a ser uma distribuição normal. Na prática, quando não conhecemos a variância populacional, podemos utilizar a variância amostral. Quando n < 30, usamos a distribuição de T Student (mais adequada para amostras menores). "
   ]
  },
  {
   "cell_type": "markdown",
   "metadata": {
    "id": "ItzFV6nfNZVd"
   },
   "source": [
    "![](https://www.researchgate.net/profile/Zexun_Chen/publication/321085266/figure/fig1/AS:631660630507553@1527611038596/Density-of-the-Student-t-distribution-for-1-2-5-and-10-degrees-of-freedom-compared-to.png)"
   ]
  },
  {
   "cell_type": "markdown",
   "metadata": {
    "id": "98-JBzedNZVd"
   },
   "source": [
    "Como o t de student é a mesma coisa do teste z, que aplicamos anteriormente, para n muito alto, podemos usar sempre o teste t para ambas as situações."
   ]
  },
  {
   "cell_type": "markdown",
   "metadata": {
    "id": "e6EmJzzZNZVd"
   },
   "source": [
    "**Exemplo Prático**"
   ]
  },
  {
   "cell_type": "markdown",
   "metadata": {
    "id": "I481WO-TNZVd"
   },
   "source": [
    "Um fabricante de cigarros afirma que seus cigarros não contêm mais que 30 mg de nicotina. Um fiscal do ministério da saúde coleta 25 cigarros para análise. Ao analisá-los ele identifica que a média de nicotina na amostra é de 31.5 mg e o desvio padrão igual a 3mg."
   ]
  },
  {
   "cell_type": "markdown",
   "metadata": {
    "id": "8MW1n-wGNZVe"
   },
   "source": [
    "Admitindo um nível de confiança de 95%, devemos ou não multar a fábrica de cigarros?"
   ]
  },
  {
   "cell_type": "markdown",
   "metadata": {
    "id": "A3oK1wO2NZVe"
   },
   "source": [
    "![](https://cdn-media-1.freecodecamp.org/images/1*frSLeAx5ObJWzD3L6a7Szw@2x.png)"
   ]
  },
  {
   "cell_type": "code",
   "execution_count": null,
   "metadata": {},
   "outputs": [],
   "source": []
  },
  {
   "cell_type": "code",
   "execution_count": null,
   "metadata": {},
   "outputs": [],
   "source": []
  },
  {
   "cell_type": "code",
   "execution_count": null,
   "metadata": {},
   "outputs": [],
   "source": []
  },
  {
   "cell_type": "code",
   "execution_count": null,
   "metadata": {},
   "outputs": [],
   "source": []
  },
  {
   "cell_type": "code",
   "execution_count": null,
   "metadata": {},
   "outputs": [],
   "source": []
  },
  {
   "cell_type": "markdown",
   "metadata": {
    "id": "hZpnLX11NZVe"
   },
   "source": [
    "Qual estatística t corresponde a um nível de significância de 5%?"
   ]
  },
  {
   "cell_type": "code",
   "execution_count": null,
   "metadata": {},
   "outputs": [],
   "source": []
  },
  {
   "cell_type": "code",
   "execution_count": null,
   "metadata": {},
   "outputs": [],
   "source": []
  },
  {
   "cell_type": "code",
   "execution_count": null,
   "metadata": {},
   "outputs": [],
   "source": []
  },
  {
   "cell_type": "markdown",
   "metadata": {
    "id": "ysJlGpOoNZVe"
   },
   "source": [
    "lembre-se que a função ppf retornaa a área (probabilidade) à esquerda de t isso significa que 5% dos nossos dados na distribuição t estão abaixo de t = -1.71. Porém, nosso teste é a direita. Então, precisamos descobrir qual valor de t deixa 95% à esquerda e 5% à direita."
   ]
  },
  {
   "cell_type": "code",
   "execution_count": null,
   "metadata": {},
   "outputs": [],
   "source": []
  },
  {
   "cell_type": "code",
   "execution_count": null,
   "metadata": {},
   "outputs": [],
   "source": []
  },
  {
   "cell_type": "code",
   "execution_count": null,
   "metadata": {},
   "outputs": [],
   "source": []
  },
  {
   "cell_type": "markdown",
   "metadata": {
    "id": "RdySf1Y-NZVf"
   },
   "source": [
    "Note que é exatamente o simétrico para alfa = 0.05."
   ]
  },
  {
   "cell_type": "markdown",
   "metadata": {
    "id": "ZuOw3kuBNZVf"
   },
   "source": [
    "No nosso caso, vemos que o t_direita é maior que o t que delimita a região crítica, indicando que a estatística do teste está dentro da região crítica. Assim, podemos concluir que a hipótese nula deve ser rejeitada."
   ]
  },
  {
   "cell_type": "markdown",
   "metadata": {
    "id": "Q7ZCPktQNZVf"
   },
   "source": [
    "Por fim, vamos calcular o p-valor."
   ]
  },
  {
   "cell_type": "markdown",
   "metadata": {
    "id": "lLJypRjjNZVf"
   },
   "source": [
    "O p valor é a probabilidade de observarmos um valor de t maior ou igual ao que encontramos. Novamente, vamos lembrar que a função só calcula a probabilidade para valores à esquerda. Então precisamos ou calcular usando o simétrico de t. "
   ]
  },
  {
   "cell_type": "code",
   "execution_count": null,
   "metadata": {},
   "outputs": [],
   "source": []
  },
  {
   "cell_type": "code",
   "execution_count": null,
   "metadata": {},
   "outputs": [],
   "source": []
  },
  {
   "cell_type": "code",
   "execution_count": null,
   "metadata": {},
   "outputs": [],
   "source": []
  },
  {
   "cell_type": "markdown",
   "metadata": {
    "id": "JaaoC7XkNZVf"
   },
   "source": [
    "Como p-valor é menor que o nível de significância, podemos rejeitar a hipótese nula e a empresa de cigarro deve ser multada."
   ]
  },
  {
   "cell_type": "markdown",
   "metadata": {
    "id": "gfVWJO-cNZVg"
   },
   "source": [
    "**Vamos ver a implementação do teste T  de uma maneira mais direta**"
   ]
  },
  {
   "cell_type": "markdown",
   "metadata": {
    "id": "jXKCwmoCNZVg"
   },
   "source": [
    "Por padrão, o teste t do ```scipt.stats``` é bilateral, ou seja, sua hipótese nula é que as médias são <i>iguais</i> e sua hipótese alternativa é de que as médias são <i>diferentes</i>"
   ]
  },
  {
   "cell_type": "code",
   "execution_count": null,
   "metadata": {},
   "outputs": [],
   "source": []
  },
  {
   "cell_type": "code",
   "execution_count": null,
   "metadata": {},
   "outputs": [],
   "source": []
  },
  {
   "cell_type": "code",
   "execution_count": null,
   "metadata": {},
   "outputs": [],
   "source": []
  },
  {
   "cell_type": "code",
   "execution_count": null,
   "metadata": {},
   "outputs": [],
   "source": []
  },
  {
   "cell_type": "code",
   "execution_count": null,
   "metadata": {},
   "outputs": [],
   "source": []
  },
  {
   "cell_type": "markdown",
   "metadata": {
    "id": "Jnu9ZzQqNZVg"
   },
   "source": [
    "Assumindo um alfa de 0.05, nós aceitaríamos a hipótese nula de que a média da população realmente é 5."
   ]
  },
  {
   "cell_type": "markdown",
   "metadata": {
    "id": "SOPH3JKtNZVg"
   },
   "source": [
    "Mas e se quiséssemos fazer um teste unilateral??"
   ]
  },
  {
   "cell_type": "markdown",
   "metadata": {
    "id": "6tBcxNwyNZVg"
   },
   "source": [
    "Vamos ver a média da amostra"
   ]
  },
  {
   "cell_type": "code",
   "execution_count": null,
   "metadata": {},
   "outputs": [],
   "source": []
  },
  {
   "cell_type": "code",
   "execution_count": null,
   "metadata": {},
   "outputs": [],
   "source": []
  },
  {
   "cell_type": "markdown",
   "metadata": {
    "id": "a0LUJUiQNZVh"
   },
   "source": [
    "A média da amostra é 6.024"
   ]
  },
  {
   "cell_type": "markdown",
   "metadata": {
    "id": "TphPWXCwNZVh"
   },
   "source": [
    "Vamos testar a hipótese de que H0: médias iguais e H1: média > 5"
   ]
  },
  {
   "cell_type": "code",
   "execution_count": null,
   "metadata": {},
   "outputs": [],
   "source": []
  },
  {
   "cell_type": "markdown",
   "metadata": {
    "id": "kFraiGczNZVh"
   },
   "source": [
    "A função abaixo nos retorna a probabilidade de termos um t < t_raiz"
   ]
  },
  {
   "cell_type": "code",
   "execution_count": null,
   "metadata": {},
   "outputs": [],
   "source": []
  },
  {
   "cell_type": "markdown",
   "metadata": {
    "id": "WXDNhcJhNZVh"
   },
   "source": [
    "Para encontrarmos a probabilidade de t >= t_raiz, subtraímos o resultado acima de 1."
   ]
  },
  {
   "cell_type": "code",
   "execution_count": null,
   "metadata": {},
   "outputs": [],
   "source": []
  },
  {
   "cell_type": "markdown",
   "metadata": {
    "id": "XIQWEyxdNZVi"
   },
   "source": [
    "Ou seja, há uma probabilidade de 21.48% de observarmos um valor de t >= a t_raiz"
   ]
  },
  {
   "cell_type": "markdown",
   "metadata": {
    "id": "kP950e8rNZVi"
   },
   "source": [
    "Como p-valor > alfa, não rejeitamos a hipótese nula."
   ]
  },
  {
   "cell_type": "markdown",
   "metadata": {
    "id": "wo-0mGSrNZVi"
   },
   "source": [
    "Num teste bilateral, o <i>p-valor é 2 vezes o p-valor do teste unilateral</i>. Dessa forma, chegaríamos ao mesmo resultado, dividindo o p-valor do teste bilateral por 2."
   ]
  },
  {
   "cell_type": "code",
   "execution_count": null,
   "metadata": {},
   "outputs": [],
   "source": []
  },
  {
   "cell_type": "markdown",
   "metadata": {
    "id": "wpC6u6V6NZVi"
   },
   "source": [
    "### Teste t para 2 amostras"
   ]
  },
  {
   "cell_type": "markdown",
   "metadata": {
    "id": "aujN3Yy4NZVi"
   },
   "source": [
    "Até agora temos considerado uma única população e tentamos realizar uma inferência para esta. Agora veremos um exemplo de teste aplicado à duas populações."
   ]
  },
  {
   "cell_type": "markdown",
   "metadata": {
    "id": "haeTL5qrNZVi"
   },
   "source": [
    "No dia a dia, independente de sermos cientistas de dados ou não, nos deparamos com questões do tipo: A campanha A convertou mais que a campanha B? O medicamento A é mais eficaz que o medicamento B?"
   ]
  },
  {
   "cell_type": "markdown",
   "metadata": {
    "id": "B7LW4FGVNZVj"
   },
   "source": [
    "Isso equivale a comparar dois conjuntos de informações resultantes das medidas obtidas  de dois experimentos. De maneira geral, um primeiro grupo, A, é dado como grupo de controle (ex: grupo que não recebeu uma campanha) e é comparado a um grupo B (ex:grupo que recebeu a campanha) o qual recebe um tratamento (aplicação de um medicamento, campanha, entre outros)."
   ]
  },
  {
   "cell_type": "markdown",
   "metadata": {
    "id": "rfNvi7JWNZVj"
   },
   "source": [
    "OBS: O tratamento matemático desse tipo de teste é mais complexo e exigira mais aulas. Assim, nos limitaremos a conhecer a aplicação desse tipo de teste no Python."
   ]
  },
  {
   "cell_type": "code",
   "execution_count": null,
   "metadata": {},
   "outputs": [],
   "source": []
  },
  {
   "cell_type": "code",
   "execution_count": null,
   "metadata": {},
   "outputs": [],
   "source": []
  },
  {
   "cell_type": "code",
   "execution_count": null,
   "metadata": {},
   "outputs": [],
   "source": []
  },
  {
   "cell_type": "code",
   "execution_count": null,
   "metadata": {},
   "outputs": [],
   "source": []
  },
  {
   "cell_type": "code",
   "execution_count": null,
   "metadata": {},
   "outputs": [],
   "source": []
  },
  {
   "cell_type": "code",
   "execution_count": null,
   "metadata": {},
   "outputs": [],
   "source": []
  },
  {
   "cell_type": "code",
   "execution_count": null,
   "metadata": {},
   "outputs": [],
   "source": []
  },
  {
   "cell_type": "markdown",
   "metadata": {
    "id": "SrGHSB6eNZVk"
   },
   "source": [
    "Rejeitamos a hipótese nula de que as distribuições tem mesma média."
   ]
  },
  {
   "cell_type": "markdown",
   "metadata": {
    "id": "9JvjwsWnNZVk"
   },
   "source": [
    "### Teste de correlação"
   ]
  },
  {
   "cell_type": "markdown",
   "metadata": {
    "id": "EPiw5koiNZVl"
   },
   "source": [
    "Utilizando o teste para a correlação vamos, antes de utilizar nossas features em um modelo, testar se são estatisticamente significantes."
   ]
  },
  {
   "cell_type": "markdown",
   "metadata": {
    "id": "bX5f2-uQNZVl"
   },
   "source": [
    "Correlações podem enganar"
   ]
  },
  {
   "cell_type": "code",
   "execution_count": null,
   "metadata": {},
   "outputs": [],
   "source": []
  },
  {
   "cell_type": "code",
   "execution_count": null,
   "metadata": {},
   "outputs": [],
   "source": []
  },
  {
   "cell_type": "code",
   "execution_count": null,
   "metadata": {},
   "outputs": [],
   "source": []
  },
  {
   "cell_type": "code",
   "execution_count": null,
   "metadata": {},
   "outputs": [],
   "source": []
  },
  {
   "cell_type": "code",
   "execution_count": null,
   "metadata": {},
   "outputs": [],
   "source": []
  },
  {
   "cell_type": "code",
   "execution_count": null,
   "metadata": {},
   "outputs": [],
   "source": []
  },
  {
   "cell_type": "code",
   "execution_count": null,
   "metadata": {},
   "outputs": [],
   "source": []
  },
  {
   "cell_type": "markdown",
   "metadata": {
    "id": "bpmep8MjNZVm"
   },
   "source": [
    "Note que a correlação vai estabilizando para o valor esperado de 0, já que geramos um dataset randômico"
   ]
  },
  {
   "cell_type": "code",
   "execution_count": null,
   "metadata": {},
   "outputs": [],
   "source": []
  },
  {
   "cell_type": "code",
   "execution_count": null,
   "metadata": {},
   "outputs": [],
   "source": []
  },
  {
   "cell_type": "code",
   "execution_count": null,
   "metadata": {},
   "outputs": [],
   "source": []
  },
  {
   "cell_type": "code",
   "execution_count": null,
   "metadata": {},
   "outputs": [],
   "source": []
  },
  {
   "cell_type": "code",
   "execution_count": null,
   "metadata": {},
   "outputs": [],
   "source": []
  },
  {
   "cell_type": "markdown",
   "metadata": {
    "id": "xx13901fNZVm"
   },
   "source": [
    "Vamos extrair as correlações de pearson para as colunas loan_status, terms e age"
   ]
  },
  {
   "cell_type": "code",
   "execution_count": null,
   "metadata": {},
   "outputs": [],
   "source": []
  },
  {
   "cell_type": "code",
   "execution_count": null,
   "metadata": {},
   "outputs": [],
   "source": []
  },
  {
   "cell_type": "code",
   "execution_count": null,
   "metadata": {},
   "outputs": [],
   "source": []
  },
  {
   "cell_type": "markdown",
   "metadata": {
    "id": "TbeMfP-3NZVn"
   },
   "source": [
    "Se estamos construindo um modelo preditivo, é interessante procurar por associações e correlação com o target"
   ]
  },
  {
   "cell_type": "code",
   "execution_count": null,
   "metadata": {},
   "outputs": [],
   "source": []
  },
  {
   "cell_type": "code",
   "execution_count": null,
   "metadata": {},
   "outputs": [],
   "source": []
  },
  {
   "cell_type": "code",
   "execution_count": null,
   "metadata": {},
   "outputs": [],
   "source": []
  },
  {
   "cell_type": "code",
   "execution_count": null,
   "metadata": {},
   "outputs": [],
   "source": []
  },
  {
   "cell_type": "code",
   "execution_count": null,
   "metadata": {},
   "outputs": [],
   "source": []
  },
  {
   "cell_type": "markdown",
   "metadata": {
    "id": "iG_zeyRuNZVo"
   },
   "source": [
    "### Teste de chi2"
   ]
  }
 ],
 "metadata": {
  "colab": {
   "name": "DSTN07 - Inferência Estatística II.ipynb",
   "provenance": []
  },
  "kernelspec": {
   "display_name": "Python 3 (ipykernel)",
   "language": "python",
   "name": "python3"
  },
  "language_info": {
   "codemirror_mode": {
    "name": "ipython",
    "version": 3
   },
   "file_extension": ".py",
   "mimetype": "text/x-python",
   "name": "python",
   "nbconvert_exporter": "python",
   "pygments_lexer": "ipython3",
   "version": "3.9.12"
  },
  "toc": {
   "base_numbering": 1,
   "nav_menu": {},
   "number_sections": true,
   "sideBar": true,
   "skip_h1_title": false,
   "title_cell": "Table of Contents",
   "title_sidebar": "Contents",
   "toc_cell": false,
   "toc_position": {
    "height": "calc(100% - 180px)",
    "left": "10px",
    "top": "150px",
    "width": "210.33087158203125px"
   },
   "toc_section_display": true,
   "toc_window_display": true
  }
 },
 "nbformat": 4,
 "nbformat_minor": 1
}
