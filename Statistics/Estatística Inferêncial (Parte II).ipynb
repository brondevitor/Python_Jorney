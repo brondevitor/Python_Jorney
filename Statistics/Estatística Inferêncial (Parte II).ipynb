{
 "cells": [
  {
   "cell_type": "code",
   "execution_count": 50,
   "metadata": {},
   "outputs": [
    {
     "name": "stdout",
     "output_type": "stream",
     "text": [
      "Collecting pingouin\n",
      "  Downloading pingouin-0.5.2.tar.gz (185 kB)\n",
      "Requirement already satisfied: numpy>=1.19 in c:\\users\\vibrsilva\\anaconda3\\lib\\site-packages (from pingouin) (1.21.5)\n"
     ]
    },
    {
     "name": "stderr",
     "output_type": "stream",
     "text": [
      "ERROR: pip's dependency resolver does not currently take into account all the packages that are installed. This behaviour is the source of the following dependency conflicts.\n",
      "imbalanced-learn 0.9.1 requires scikit-learn>=1.1.0, but you have scikit-learn 1.0.2 which is incompatible.\n"
     ]
    },
    {
     "name": "stdout",
     "output_type": "stream",
     "text": [
      "Requirement already satisfied: scipy>=1.7 in c:\\users\\vibrsilva\\anaconda3\\lib\\site-packages (from pingouin) (1.7.3)\n",
      "Requirement already satisfied: pandas>=1.0 in c:\\users\\vibrsilva\\anaconda3\\lib\\site-packages (from pingouin) (1.4.2)\n",
      "Requirement already satisfied: matplotlib>=3.0.2 in c:\\users\\vibrsilva\\anaconda3\\lib\\site-packages (from pingouin) (3.5.1)\n",
      "Requirement already satisfied: seaborn>=0.11 in c:\\users\\vibrsilva\\anaconda3\\lib\\site-packages (from pingouin) (0.11.2)\n",
      "Requirement already satisfied: statsmodels>=0.13 in c:\\users\\vibrsilva\\anaconda3\\lib\\site-packages (from pingouin) (0.13.2)\n",
      "Collecting scikit-learn<1.1.0\n",
      "  Downloading scikit_learn-1.0.2-cp39-cp39-win_amd64.whl (7.2 MB)\n",
      "Collecting pandas_flavor>=0.2.0\n",
      "  Downloading pandas_flavor-0.3.0-py3-none-any.whl (6.3 kB)\n",
      "Collecting outdated\n",
      "  Downloading outdated-0.2.2-py2.py3-none-any.whl (7.5 kB)\n",
      "Requirement already satisfied: tabulate in c:\\users\\vibrsilva\\anaconda3\\lib\\site-packages (from pingouin) (0.8.9)\n",
      "Requirement already satisfied: pillow>=6.2.0 in c:\\users\\vibrsilva\\anaconda3\\lib\\site-packages (from matplotlib>=3.0.2->pingouin) (9.0.1)\n",
      "Requirement already satisfied: cycler>=0.10 in c:\\users\\vibrsilva\\anaconda3\\lib\\site-packages (from matplotlib>=3.0.2->pingouin) (0.11.0)\n",
      "Requirement already satisfied: fonttools>=4.22.0 in c:\\users\\vibrsilva\\anaconda3\\lib\\site-packages (from matplotlib>=3.0.2->pingouin) (4.25.0)\n",
      "Requirement already satisfied: pyparsing>=2.2.1 in c:\\users\\vibrsilva\\anaconda3\\lib\\site-packages (from matplotlib>=3.0.2->pingouin) (3.0.4)\n",
      "Requirement already satisfied: python-dateutil>=2.7 in c:\\users\\vibrsilva\\anaconda3\\lib\\site-packages (from matplotlib>=3.0.2->pingouin) (2.8.2)\n",
      "Requirement already satisfied: kiwisolver>=1.0.1 in c:\\users\\vibrsilva\\anaconda3\\lib\\site-packages (from matplotlib>=3.0.2->pingouin) (1.3.2)\n",
      "Requirement already satisfied: packaging>=20.0 in c:\\users\\vibrsilva\\anaconda3\\lib\\site-packages (from matplotlib>=3.0.2->pingouin) (21.3)\n",
      "Requirement already satisfied: pytz>=2020.1 in c:\\users\\vibrsilva\\anaconda3\\lib\\site-packages (from pandas>=1.0->pingouin) (2021.3)\n",
      "Collecting lazy-loader==0.1rc2\n",
      "  Downloading lazy_loader-0.1rc2-py3-none-any.whl (5.1 kB)\n",
      "Requirement already satisfied: xarray in c:\\users\\vibrsilva\\anaconda3\\lib\\site-packages (from pandas_flavor>=0.2.0->pingouin) (0.20.1)\n",
      "Requirement already satisfied: six>=1.5 in c:\\users\\vibrsilva\\anaconda3\\lib\\site-packages (from python-dateutil>=2.7->matplotlib>=3.0.2->pingouin) (1.16.0)\n",
      "Requirement already satisfied: threadpoolctl>=2.0.0 in c:\\users\\vibrsilva\\anaconda3\\lib\\site-packages (from scikit-learn<1.1.0->pingouin) (2.2.0)\n",
      "Requirement already satisfied: joblib>=0.11 in c:\\users\\vibrsilva\\anaconda3\\lib\\site-packages (from scikit-learn<1.1.0->pingouin) (1.1.0)\n",
      "Requirement already satisfied: patsy>=0.5.2 in c:\\users\\vibrsilva\\anaconda3\\lib\\site-packages (from statsmodels>=0.13->pingouin) (0.5.2)\n",
      "Requirement already satisfied: setuptools>=44 in c:\\users\\vibrsilva\\anaconda3\\lib\\site-packages (from outdated->pingouin) (61.2.0)\n",
      "Requirement already satisfied: requests in c:\\users\\vibrsilva\\anaconda3\\lib\\site-packages (from outdated->pingouin) (2.27.1)\n",
      "Collecting littleutils\n",
      "  Downloading littleutils-0.2.2.tar.gz (6.6 kB)\n",
      "Requirement already satisfied: urllib3<1.27,>=1.21.1 in c:\\users\\vibrsilva\\anaconda3\\lib\\site-packages (from requests->outdated->pingouin) (1.26.9)\n",
      "Requirement already satisfied: certifi>=2017.4.17 in c:\\users\\vibrsilva\\anaconda3\\lib\\site-packages (from requests->outdated->pingouin) (2021.10.8)\n",
      "Requirement already satisfied: charset-normalizer~=2.0.0 in c:\\users\\vibrsilva\\anaconda3\\lib\\site-packages (from requests->outdated->pingouin) (2.0.4)\n",
      "Requirement already satisfied: idna<4,>=2.5 in c:\\users\\vibrsilva\\anaconda3\\lib\\site-packages (from requests->outdated->pingouin) (3.3)\n",
      "Building wheels for collected packages: pingouin, littleutils\n",
      "  Building wheel for pingouin (setup.py): started\n",
      "  Building wheel for pingouin (setup.py): finished with status 'done'\n",
      "  Created wheel for pingouin: filename=pingouin-0.5.2-py3-none-any.whl size=196207 sha256=2bcf3a06af6c583eede9b247a9fa70bc03332ea83b2d4d27d48f49b0e4254812\n",
      "  Stored in directory: c:\\users\\vibrsilva\\appdata\\local\\pip\\cache\\wheels\\c0\\9f\\92\\4c574395e1e8e5e08cf73dcb76815a7eaa62921833b6b0f6ad\n",
      "  Building wheel for littleutils (setup.py): started\n",
      "  Building wheel for littleutils (setup.py): finished with status 'done'\n",
      "  Created wheel for littleutils: filename=littleutils-0.2.2-py3-none-any.whl size=7048 sha256=10100d88b6efcc40f30495d9c067fa45ec4e8f74296e9d3f7226d96c862191b6\n",
      "  Stored in directory: c:\\users\\vibrsilva\\appdata\\local\\pip\\cache\\wheels\\04\\bb\\0d\\2d02ec45f29c48d6192476bfb59c5a0e64b605e7212374dd15\n",
      "Successfully built pingouin littleutils\n",
      "Installing collected packages: littleutils, lazy-loader, scikit-learn, pandas-flavor, outdated, pingouin\n",
      "  Attempting uninstall: scikit-learn\n",
      "    Found existing installation: scikit-learn 1.1.3\n",
      "    Uninstalling scikit-learn-1.1.3:\n",
      "      Successfully uninstalled scikit-learn-1.1.3\n",
      "Successfully installed lazy-loader-0.1rc2 littleutils-0.2.2 outdated-0.2.2 pandas-flavor-0.3.0 pingouin-0.5.2 scikit-learn-1.0.2\n"
     ]
    }
   ],
   "source": [
    "#!pip install pingouin"
   ]
  },
  {
   "cell_type": "code",
   "execution_count": 51,
   "metadata": {
    "id": "N7zCWDyTPQBj"
   },
   "outputs": [],
   "source": [
    "import pandas as pd\n",
    "import numpy as np\n",
    "from scipy import stats\n",
    "import matplotlib.pyplot as plt\n",
    "import seaborn as sns\n",
    "import math\n",
    "from collections import Counter\n",
    "from scipy.stats import bernoulli\n",
    "import pingouin as pg"
   ]
  },
  {
   "cell_type": "markdown",
   "metadata": {
    "id": "9w5yV2IEPQBq"
   },
   "source": [
    "**Tópicos**:\n",
    "- Testes de Hipótese (Parte II)\n",
    "     - Metodologia Genérica do Teste de Hipótese\n",
    "     - Teste para a média com variância conhecida\n",
    "     - Teste para a média com variância desconhecida\n",
    "     - Teste t para 2 amostras \n",
    "     - Teste de correlação:\n",
    "         - Pearson\n",
    "         - Spearman\n",
    "     - Teste de Dependência \n"
   ]
  },
  {
   "cell_type": "markdown",
   "metadata": {
    "id": "CXTcXKl0NZVW"
   },
   "source": [
    "### Metodologia Genérica do Teste de Hipótese"
   ]
  },
  {
   "cell_type": "markdown",
   "metadata": {
    "id": "HUkzKK5MNZVW"
   },
   "source": [
    "* Passo 1: Fixar as hipóteses Nula e Alternativa"
   ]
  },
  {
   "cell_type": "markdown",
   "metadata": {
    "id": "_JU7Y2uoNZVW"
   },
   "source": [
    "No primeiro passo, temos que definir se iremos realizar um tese unilateral ou bilateral."
   ]
  },
  {
   "cell_type": "markdown",
   "metadata": {
    "id": "_TsNfEDbNZVW"
   },
   "source": [
    "unilateral será quando quisermos testar se a estatística da amostra é maior ou menor que o parâmetro da população, isoladamente."
   ]
  },
  {
   "cell_type": "markdown",
   "metadata": {
    "id": "3xVSLyIdNZVX"
   },
   "source": [
    "bilateral será quando quisermos testar que a estatística da amostra é diferente, sendo as condições de maior ou menor testadas simultaneamente."
   ]
  },
  {
   "cell_type": "markdown",
   "metadata": {
    "id": "6vtHO6TTNZVX"
   },
   "source": [
    "![](https://oestatistico.com.br/wp-content/uploads/2016/01/poder-teste-oestatistico.jpg)"
   ]
  },
  {
   "cell_type": "markdown",
   "metadata": {
    "id": "R6beL2DlNZVX"
   },
   "source": [
    "* Passo 2: Fixar o nível de significância, alfa"
   ]
  },
  {
   "cell_type": "markdown",
   "metadata": {
    "id": "QMeiL1-iNZVY"
   },
   "source": [
    "* Passo 3: Calcular a estatística de interesse a partir de uma amostra."
   ]
  },
  {
   "cell_type": "markdown",
   "metadata": {
    "id": "S2vriPbWNZVY"
   },
   "source": [
    "* Passo 4: Calcular o p-valor para essa estatística e decidir qual hipótese se mantém."
   ]
  },
  {
   "cell_type": "markdown",
   "metadata": {
    "id": "-n6e_moVNZVY"
   },
   "source": [
    "## Exemplos Práticos"
   ]
  },
  {
   "cell_type": "markdown",
   "metadata": {
    "id": "qtBMcVJuNZVY"
   },
   "source": [
    "### Teste para a Média Com Variância Conhecida"
   ]
  },
  {
   "cell_type": "markdown",
   "metadata": {
    "id": "PbNUnkgXNZVY"
   },
   "source": [
    "Uma máquina que enche pacotes de café com variância de 400g2 estava regulada para encher pacotes com 500g. Você decide coletar uma amostra de 16 pacotes e checar se a máquiina ainda está regulada. A amostra de 16 pacotes possui média de 492g. Baseando-se nisso, você para a produção de café para regular a máquina?"
   ]
  },
  {
   "cell_type": "code",
   "execution_count": 2,
   "metadata": {},
   "outputs": [],
   "source": [
    "# trazendo dados\n",
    "# variancia\n",
    "var = 400\n",
    "# media\n",
    "u = 500\n",
    "# numero de amostras\n",
    "n = 16\n",
    "# media amostral\n",
    "ua = 492"
   ]
  },
  {
   "cell_type": "markdown",
   "metadata": {
    "id": "VYrckFj0NZVZ"
   },
   "source": [
    "Vamos definir nossas hipóteses"
   ]
  },
  {
   "cell_type": "markdown",
   "metadata": {
    "id": "iFlgjp3eNZVZ"
   },
   "source": [
    "**H0**: u = 500g<br>\n",
    "**H1**: u != 500g"
   ]
  },
  {
   "cell_type": "markdown",
   "metadata": {
    "id": "SPtQLnKPNZVZ"
   },
   "source": [
    "Do teorema do limite central, temos que:"
   ]
  },
  {
   "cell_type": "markdown",
   "metadata": {
    "id": "EJtT4Q4_NZVZ"
   },
   "source": [
    "![](https://cdn1.byjus.com/wp-content/uploads/2019/08/central-limit-theorem-formula.jpeg)"
   ]
  },
  {
   "cell_type": "markdown",
   "metadata": {
    "id": "vEtMLZ9rNZVZ"
   },
   "source": [
    "Como temos n = 16:"
   ]
  },
  {
   "cell_type": "code",
   "execution_count": 3,
   "metadata": {},
   "outputs": [],
   "source": [
    "# desvio padrao amostral\n",
    "desv_a = np.sqrt(var/n)"
   ]
  },
  {
   "cell_type": "code",
   "execution_count": 4,
   "metadata": {},
   "outputs": [
    {
     "data": {
      "text/plain": [
       "5.0"
      ]
     },
     "execution_count": 4,
     "metadata": {},
     "output_type": "execute_result"
    }
   ],
   "source": [
    "desv_a"
   ]
  },
  {
   "cell_type": "markdown",
   "metadata": {
    "id": "ai79KW0UNZVa"
   },
   "source": [
    "Então, nossa distribuição amostral da média tem média 500 e desvio padrão 5."
   ]
  },
  {
   "cell_type": "markdown",
   "metadata": {
    "id": "NRowcqptNZVa"
   },
   "source": [
    "Vamos fixar nosso nível de significância em 0.01. Note que é um teste bilateral."
   ]
  },
  {
   "cell_type": "markdown",
   "metadata": {
    "id": "ERwNcq6PNZVa"
   },
   "source": [
    "Agora precisamos calcular a probabilidade (p valor) de encontrarmos um valor de média > 492 ou <492 , numa distribuição de média 500 e desvio padrão 5. Esse será nosso p-valor."
   ]
  },
  {
   "cell_type": "markdown",
   "metadata": {
    "id": "6J6qMZneNZVa"
   },
   "source": [
    "Primeiro, iremos calcular a probabilidade de ser < 492."
   ]
  },
  {
   "cell_type": "markdown",
   "metadata": {
    "id": "qWtQ438CNZVa"
   },
   "source": [
    "Vamos transformar nosso 492 em Z Score e calcular a probabilidade usando o scipy."
   ]
  },
  {
   "cell_type": "code",
   "execution_count": 5,
   "metadata": {},
   "outputs": [],
   "source": [
    "z_492 = (ua - u)/desv_a"
   ]
  },
  {
   "cell_type": "code",
   "execution_count": 6,
   "metadata": {},
   "outputs": [
    {
     "data": {
      "text/plain": [
       "-1.6"
      ]
     },
     "execution_count": 6,
     "metadata": {},
     "output_type": "execute_result"
    }
   ],
   "source": [
    "z_492"
   ]
  },
  {
   "cell_type": "markdown",
   "metadata": {
    "id": "qZg77-t1NZVb"
   },
   "source": [
    "Como o teste é bilateral, teremos que dividir a área de 1% (nível de significância em 2). Para cada lado, precisaremos encontrar o Z score equivalente."
   ]
  },
  {
   "cell_type": "markdown",
   "metadata": {
    "id": "fIC_MdyiNZVb"
   },
   "source": [
    "Para calcular Z a esquerda, precisaremos descobrir que valor de Z nos traz 0.5% dos dados a esquerda."
   ]
  },
  {
   "cell_type": "code",
   "execution_count": 7,
   "metadata": {},
   "outputs": [],
   "source": [
    "Z_esquerda = stats.norm.ppf(0.005)"
   ]
  },
  {
   "cell_type": "code",
   "execution_count": 8,
   "metadata": {},
   "outputs": [
    {
     "data": {
      "text/plain": [
       "-2.575829303548901"
      ]
     },
     "execution_count": 8,
     "metadata": {},
     "output_type": "execute_result"
    }
   ],
   "source": [
    "Z_esquerda"
   ]
  },
  {
   "cell_type": "markdown",
   "metadata": {
    "id": "9a9JigjCNZVb"
   },
   "source": [
    "Como  são sempre simétricos, Z à direita será igual a Z_esquerdo, porém positivo."
   ]
  },
  {
   "cell_type": "code",
   "execution_count": 9,
   "metadata": {},
   "outputs": [],
   "source": [
    "Z_direita = -1*Z_esquerda"
   ]
  },
  {
   "cell_type": "markdown",
   "metadata": {
    "id": "kd_TYc4aNZVb"
   },
   "source": [
    "Note que a região crítica do teste é aquela em que <= -2.57 e >= 2.57"
   ]
  },
  {
   "cell_type": "markdown",
   "metadata": {
    "id": "wj7ILtiVNZVc"
   },
   "source": [
    "Nosso Z_492, porém, vale -1.6. Ou seja, é maior que -2.57 e menor que 2.57. Sendo assim, não cai dentro da região crítica."
   ]
  },
  {
   "cell_type": "markdown",
   "metadata": {
    "id": "rtD3p1DANZVc"
   },
   "source": [
    "Ou seja, cai dentro da região de aceitação do teste, indicando que devemos aceitar a hipótese nula, nesse caso e afirmar que"
   ]
  },
  {
   "cell_type": "markdown",
   "metadata": {
    "id": "FMZCLGYNNZVc"
   },
   "source": [
    "Vamos calcular o p valor?"
   ]
  },
  {
   "cell_type": "code",
   "execution_count": 10,
   "metadata": {},
   "outputs": [],
   "source": [
    "p_valor = stats.norm.cdf(-1.6)"
   ]
  },
  {
   "cell_type": "code",
   "execution_count": 11,
   "metadata": {},
   "outputs": [
    {
     "data": {
      "text/plain": [
       "0.10959858339911595"
      ]
     },
     "execution_count": 11,
     "metadata": {},
     "output_type": "execute_result"
    }
   ],
   "source": [
    "p_valor*2"
   ]
  },
  {
   "cell_type": "markdown",
   "metadata": {
    "id": "4IZDQpWYNZVc"
   },
   "source": [
    "Note que 0.10959 é maior que 0.005, que é a área da região crítica à esquerda."
   ]
  },
  {
   "cell_type": "markdown",
   "metadata": {
    "id": "GsAfsAKMNZVc"
   },
   "source": [
    "Dessa forma, quando p-valor > nível de significância, não rejeitamos a hipótese nula."
   ]
  },
  {
   "cell_type": "markdown",
   "metadata": {
    "id": "L3xGRR9sNZVc"
   },
   "source": [
    "Conclusão: Não parar a produção"
   ]
  },
  {
   "cell_type": "markdown",
   "metadata": {
    "id": "jtPwwVn8NZVc"
   },
   "source": [
    "### Teste para a Média com Variância Desconhecida"
   ]
  },
  {
   "cell_type": "markdown",
   "metadata": {
    "id": "azlGf2ZwNZVd"
   },
   "source": [
    "Esse estudo de caso parece mais realista, pois na prática é muito difícil que conheçamos a variância da população. Normalmente, conhecemos a variância da amostra."
   ]
  },
  {
   "cell_type": "markdown",
   "metadata": {
    "id": "EKbBP6yINZVd"
   },
   "source": [
    "Aqui, em vez de utilizar a distribuição Z, trabalharemos com a distribuição T de Student. "
   ]
  },
  {
   "cell_type": "markdown",
   "metadata": {
    "id": "csLnahDgNZVd"
   },
   "source": [
    "A distribuição t de Student parecida com a distribuição normal. Quando n tende a infinito, ela tende a ser uma distribuição normal. Na prática, quando não conhecemos a variância populacional, podemos utilizar a variância amostral. Quando n < 30, usamos a distribuição de T Student (mais adequada para amostras menores). "
   ]
  },
  {
   "cell_type": "markdown",
   "metadata": {
    "id": "ItzFV6nfNZVd"
   },
   "source": [
    "![](https://www.researchgate.net/profile/Zexun_Chen/publication/321085266/figure/fig1/AS:631660630507553@1527611038596/Density-of-the-Student-t-distribution-for-1-2-5-and-10-degrees-of-freedom-compared-to.png)"
   ]
  },
  {
   "cell_type": "markdown",
   "metadata": {
    "id": "98-JBzedNZVd"
   },
   "source": [
    "Como o t de student é a mesma coisa do teste z, que aplicamos anteriormente, para n muito alto, podemos usar sempre o teste t para ambas as situações."
   ]
  },
  {
   "cell_type": "markdown",
   "metadata": {
    "id": "e6EmJzzZNZVd"
   },
   "source": [
    "**Exemplo Prático**"
   ]
  },
  {
   "cell_type": "markdown",
   "metadata": {
    "id": "I481WO-TNZVd"
   },
   "source": [
    "Um fabricante de cigarros afirma que seus cigarros não contêm mais que 30 mg de nicotina. Um fiscal do ministério da saúde coleta 25 cigarros para análise. Ao analisá-los ele identifica que a média de nicotina na amostra é de 31.5 mg e o desvio padrão igual a 3mg."
   ]
  },
  {
   "cell_type": "markdown",
   "metadata": {
    "id": "8MW1n-wGNZVe"
   },
   "source": [
    "Admitindo um nível de confiança de 95%, devemos ou não multar a fábrica de cigarros?"
   ]
  },
  {
   "cell_type": "markdown",
   "metadata": {
    "id": "A3oK1wO2NZVe"
   },
   "source": [
    "![](https://cdn-media-1.freecodecamp.org/images/1*frSLeAx5ObJWzD3L6a7Szw@2x.png)"
   ]
  },
  {
   "cell_type": "code",
   "execution_count": 12,
   "metadata": {},
   "outputs": [],
   "source": [
    "# média da amostra\n",
    "u_amostra = 31.5\n",
    "# desvio padrão da amostra\n",
    "std_amostra = 3\n",
    "# média da população\n",
    "u_pop = 30\n",
    "# número de elementos na amostra\n",
    "n=25"
   ]
  },
  {
   "cell_type": "code",
   "execution_count": 13,
   "metadata": {},
   "outputs": [],
   "source": [
    "# Cálculo de t \n",
    "t_direita = (u_amostra-u_pop)/(std_amostra/np.sqrt(25))"
   ]
  },
  {
   "cell_type": "code",
   "execution_count": 14,
   "metadata": {},
   "outputs": [
    {
     "data": {
      "text/plain": [
       "2.5"
      ]
     },
     "execution_count": 14,
     "metadata": {},
     "output_type": "execute_result"
    }
   ],
   "source": [
    "t_direita"
   ]
  },
  {
   "cell_type": "markdown",
   "metadata": {
    "id": "hZpnLX11NZVe"
   },
   "source": [
    "Qual estatística t corresponde a um nível de significância de 5%?"
   ]
  },
  {
   "cell_type": "code",
   "execution_count": 15,
   "metadata": {},
   "outputs": [
    {
     "data": {
      "text/plain": [
       "-1.7108820799094282"
      ]
     },
     "execution_count": 15,
     "metadata": {},
     "output_type": "execute_result"
    }
   ],
   "source": [
    "alfa = 0.05\n",
    "stats.t.ppf(alfa, df=24)"
   ]
  },
  {
   "cell_type": "markdown",
   "metadata": {
    "id": "ysJlGpOoNZVe"
   },
   "source": [
    "lembre-se que a função ppf retornaa a área (probabilidade) à esquerda de t isso significa que 5% dos nossos dados na distribuição t estão abaixo de t = -1.71. Porém, nosso teste é a direita. Então, precisamos descobrir qual valor de t deixa 95% à esquerda e 5% à direita."
   ]
  },
  {
   "cell_type": "code",
   "execution_count": 16,
   "metadata": {},
   "outputs": [
    {
     "data": {
      "text/plain": [
       "1.7108820799094275"
      ]
     },
     "execution_count": 16,
     "metadata": {},
     "output_type": "execute_result"
    }
   ],
   "source": [
    "stats.t.ppf(0.95, df=24)"
   ]
  },
  {
   "cell_type": "markdown",
   "metadata": {
    "id": "RdySf1Y-NZVf"
   },
   "source": [
    "Note que é exatamente o simétrico para alfa = 0.05."
   ]
  },
  {
   "cell_type": "markdown",
   "metadata": {
    "id": "ZuOw3kuBNZVf"
   },
   "source": [
    "No nosso caso, vemos que o t_direita é maior que o t que delimita a região crítica, indicando que a estatística do teste está dentro da região crítica. Assim, podemos concluir que a hipótese nula deve ser rejeitada."
   ]
  },
  {
   "cell_type": "markdown",
   "metadata": {
    "id": "Q7ZCPktQNZVf"
   },
   "source": [
    "Por fim, vamos calcular o p-valor."
   ]
  },
  {
   "cell_type": "markdown",
   "metadata": {
    "id": "lLJypRjjNZVf"
   },
   "source": [
    "O p valor é a probabilidade de observarmos um valor de t maior ou igual ao que encontramos. Novamente, vamos lembrar que a função só calcula a probabilidade para valores à esquerda. Então precisamos ou calcular usando o simétrico de t. "
   ]
  },
  {
   "cell_type": "code",
   "execution_count": 17,
   "metadata": {},
   "outputs": [
    {
     "data": {
      "text/plain": [
       "0.009827087558289377"
      ]
     },
     "execution_count": 17,
     "metadata": {},
     "output_type": "execute_result"
    }
   ],
   "source": [
    "stats.t.cdf(x=-t_direita, df=24) # df é o grau de liberdade"
   ]
  },
  {
   "cell_type": "markdown",
   "metadata": {
    "id": "JaaoC7XkNZVf"
   },
   "source": [
    "Como p-valor é menor que o nível de significância, podemos rejeitar a hipótese nula e a empresa de cigarro deve ser multada."
   ]
  },
  {
   "cell_type": "markdown",
   "metadata": {
    "id": "gfVWJO-cNZVg"
   },
   "source": [
    "**Vamos ver a implementação do teste T  de uma maneira mais direta**"
   ]
  },
  {
   "cell_type": "markdown",
   "metadata": {
    "id": "jXKCwmoCNZVg"
   },
   "source": [
    "Por padrão, o teste t do ```scipt.stats``` é bilateral, ou seja, sua hipótese nula é que as médias são <i>iguais</i> e sua hipótese alternativa é de que as médias são <i>diferentes</i>"
   ]
  },
  {
   "cell_type": "code",
   "execution_count": 18,
   "metadata": {},
   "outputs": [],
   "source": [
    "# criando distribuição normal com média 5\n",
    "np.random.seed(10)\n",
    "rvs = stats.norm.rvs(loc=5, scale=10, size=(50))"
   ]
  },
  {
   "cell_type": "code",
   "execution_count": 19,
   "metadata": {},
   "outputs": [],
   "source": [
    "media_teste = 5\n",
    "t_bi, p_bi = stats.ttest_1samp(rvs, media_teste)"
   ]
  },
  {
   "cell_type": "code",
   "execution_count": 20,
   "metadata": {},
   "outputs": [
    {
     "data": {
      "text/plain": [
       "0.7962654899482874"
      ]
     },
     "execution_count": 20,
     "metadata": {},
     "output_type": "execute_result"
    }
   ],
   "source": [
    "# Estatística t\n",
    "t_bi"
   ]
  },
  {
   "cell_type": "code",
   "execution_count": 21,
   "metadata": {},
   "outputs": [
    {
     "data": {
      "text/plain": [
       "0.42971877541279346"
      ]
     },
     "execution_count": 21,
     "metadata": {},
     "output_type": "execute_result"
    }
   ],
   "source": [
    "# p valor\n",
    "p_bi"
   ]
  },
  {
   "cell_type": "markdown",
   "metadata": {
    "id": "Jnu9ZzQqNZVg"
   },
   "source": [
    "Assumindo um alfa de 0.05, nós aceitaríamos a hipótese nula de que a média da população realmente é 5."
   ]
  },
  {
   "cell_type": "markdown",
   "metadata": {
    "id": "SOPH3JKtNZVg"
   },
   "source": [
    "Mas e se quiséssemos fazer um teste unilateral??"
   ]
  },
  {
   "cell_type": "markdown",
   "metadata": {
    "id": "6tBcxNwyNZVg"
   },
   "source": [
    "Vamos ver a média da amostra"
   ]
  },
  {
   "cell_type": "code",
   "execution_count": 22,
   "metadata": {},
   "outputs": [
    {
     "data": {
      "text/plain": [
       "6.024862201673477"
      ]
     },
     "execution_count": 22,
     "metadata": {},
     "output_type": "execute_result"
    }
   ],
   "source": [
    "# média da amostra\n",
    "rvs.mean()"
   ]
  },
  {
   "cell_type": "markdown",
   "metadata": {
    "id": "a0LUJUiQNZVh"
   },
   "source": [
    "A média da amostra é 6.024"
   ]
  },
  {
   "cell_type": "markdown",
   "metadata": {
    "id": "TphPWXCwNZVh"
   },
   "source": [
    "Vamos testar a hipótese de que H0: médias iguais e H1: média > 5"
   ]
  },
  {
   "cell_type": "code",
   "execution_count": 23,
   "metadata": {},
   "outputs": [],
   "source": [
    "t_uni = (rvs.mean() - 5)/(rvs.std(ddof=1)/np.sqrt(50))"
   ]
  },
  {
   "cell_type": "markdown",
   "metadata": {
    "id": "kFraiGczNZVh"
   },
   "source": [
    "A função abaixo nos retorna a probabilidade de termos um t < t_raiz"
   ]
  },
  {
   "cell_type": "code",
   "execution_count": 24,
   "metadata": {},
   "outputs": [
    {
     "data": {
      "text/plain": [
       "0.7851406122936033"
      ]
     },
     "execution_count": 24,
     "metadata": {},
     "output_type": "execute_result"
    }
   ],
   "source": [
    "stats.t.cdf(t_uni, df=49)"
   ]
  },
  {
   "cell_type": "markdown",
   "metadata": {
    "id": "WXDNhcJhNZVh"
   },
   "source": [
    "Para encontrarmos a probabilidade de t >= t_raiz, subtraímos o resultado acima de 1."
   ]
  },
  {
   "cell_type": "code",
   "execution_count": 25,
   "metadata": {},
   "outputs": [
    {
     "data": {
      "text/plain": [
       "0.21485938770639668"
      ]
     },
     "execution_count": 25,
     "metadata": {},
     "output_type": "execute_result"
    }
   ],
   "source": [
    "1 - stats.t.cdf(t_uni, df=49)"
   ]
  },
  {
   "cell_type": "markdown",
   "metadata": {
    "id": "XIQWEyxdNZVi"
   },
   "source": [
    "Ou seja, há uma probabilidade de 21.48% de observarmos um valor de t >= a t_raiz"
   ]
  },
  {
   "cell_type": "markdown",
   "metadata": {
    "id": "kP950e8rNZVi"
   },
   "source": [
    "Como p-valor > alfa, não rejeitamos a hipótese nula."
   ]
  },
  {
   "cell_type": "markdown",
   "metadata": {
    "id": "wo-0mGSrNZVi"
   },
   "source": [
    "Num teste bilateral, o <i>p-valor é 2 vezes o p-valor do teste unilateral</i>. Dessa forma, chegaríamos ao mesmo resultado, dividindo o p-valor do teste bilateral por 2."
   ]
  },
  {
   "cell_type": "code",
   "execution_count": 26,
   "metadata": {},
   "outputs": [
    {
     "data": {
      "text/plain": [
       "0.21485938770639673"
      ]
     },
     "execution_count": 26,
     "metadata": {},
     "output_type": "execute_result"
    }
   ],
   "source": [
    "p_bi/2"
   ]
  },
  {
   "cell_type": "markdown",
   "metadata": {
    "id": "wpC6u6V6NZVi"
   },
   "source": [
    "### Teste t para 2 amostras"
   ]
  },
  {
   "cell_type": "markdown",
   "metadata": {
    "id": "aujN3Yy4NZVi"
   },
   "source": [
    "Até agora temos considerado uma única população e tentamos realizar uma inferência para esta. Agora veremos um exemplo de teste aplicado à duas populações."
   ]
  },
  {
   "cell_type": "markdown",
   "metadata": {
    "id": "haeTL5qrNZVi"
   },
   "source": [
    "No dia a dia, independente de sermos cientistas de dados ou não, nos deparamos com questões do tipo: A campanha A convertou mais que a campanha B? O medicamento A é mais eficaz que o medicamento B?"
   ]
  },
  {
   "cell_type": "markdown",
   "metadata": {
    "id": "B7LW4FGVNZVj"
   },
   "source": [
    "Isso equivale a comparar dois conjuntos de informações resultantes das medidas obtidas  de dois experimentos. De maneira geral, um primeiro grupo, A, é dado como grupo de controle (ex: grupo que não recebeu uma campanha) e é comparado a um grupo B (ex:grupo que recebeu a campanha) o qual recebe um tratamento (aplicação de um medicamento, campanha, entre outros)."
   ]
  },
  {
   "cell_type": "markdown",
   "metadata": {
    "id": "rfNvi7JWNZVj"
   },
   "source": [
    "OBS: O tratamento matemático desse tipo de teste é mais complexo e exigira mais aulas. Assim, nos limitaremos a conhecer a aplicação desse tipo de teste no Python."
   ]
  },
  {
   "cell_type": "code",
   "execution_count": 27,
   "metadata": {},
   "outputs": [],
   "source": [
    "# extraindo 2 amostras \n",
    "p_list = []\n",
    "np.random.seed(123)\n",
    "for i in np.arange(0,50000):\n",
    "    a1 = stats.norm.rvs(loc=1500, scale=150, size=50)\n",
    "    a2 = stats.norm.rvs(loc=1500, scale=100, size=50)\n",
    "    t, p = stats.ttest_ind(a1,a2)\n",
    "    p_list.append(p)"
   ]
  },
  {
   "cell_type": "code",
   "execution_count": 28,
   "metadata": {},
   "outputs": [
    {
     "data": {
      "text/plain": [
       "0.05024"
      ]
     },
     "execution_count": 28,
     "metadata": {},
     "output_type": "execute_result"
    }
   ],
   "source": [
    "(np.array(p_list) <= 0.05).sum()/len(p_list)"
   ]
  },
  {
   "cell_type": "code",
   "execution_count": 29,
   "metadata": {},
   "outputs": [],
   "source": [
    "np.random.seed(51)\n",
    "a1 = stats.norm.rvs(loc=1700, scale=150, size=50)\n",
    "a2 = stats.norm.rvs(loc=1500, scale=100, size=50)"
   ]
  },
  {
   "cell_type": "code",
   "execution_count": 30,
   "metadata": {},
   "outputs": [
    {
     "data": {
      "image/png": "[encoded data removed]",
      "text/plain": [
       "<Figure size 432x288 with 1 Axes>"
      ]
     },
     "metadata": {
      "needs_background": "light"
     },
     "output_type": "display_data"
    }
   ],
   "source": [
    "plt.hist(a1, label='a1 sample', alpha=0.3)\n",
    "plt.axvline(a1.mean(),color= 'blue')\n",
    "plt.axvline(a2.mean(), color='orange')\n",
    "plt.hist(a2, label='a2 sample', alpha=0.3)\n",
    "plt.legend()\n",
    "plt.show()"
   ]
  },
  {
   "cell_type": "code",
   "execution_count": 31,
   "metadata": {},
   "outputs": [],
   "source": [
    "t, p = stats.ttest_ind(a1,a2)"
   ]
  },
  {
   "cell_type": "code",
   "execution_count": 32,
   "metadata": {},
   "outputs": [
    {
     "data": {
      "text/plain": [
       "1.2495036718593313e-12"
      ]
     },
     "execution_count": 32,
     "metadata": {},
     "output_type": "execute_result"
    }
   ],
   "source": [
    "p"
   ]
  },
  {
   "cell_type": "markdown",
   "metadata": {
    "id": "SrGHSB6eNZVk"
   },
   "source": [
    "Rejeitamos a hipótese nula de que as distribuições tem mesma média."
   ]
  },
  {
   "cell_type": "markdown",
   "metadata": {
    "id": "9JvjwsWnNZVk"
   },
   "source": [
    "### Teste de correlação"
   ]
  },
  {
   "cell_type": "markdown",
   "metadata": {
    "id": "EPiw5koiNZVl"
   },
   "source": [
    "Utilizando o teste para a correlação vamos, antes de utilizar nossas features em um modelo, testar se são estatisticamente significantes."
   ]
  },
  {
   "cell_type": "markdown",
   "metadata": {
    "id": "bX5f2-uQNZVl"
   },
   "source": [
    "Correlações podem enganar"
   ]
  },
  {
   "cell_type": "code",
   "execution_count": 33,
   "metadata": {},
   "outputs": [],
   "source": [
    "# gerando dados aleatorios\n",
    "np.random.seed(100)\n",
    "x_random = np.random.randint(1,100,20000)\n",
    "y_random = np.random.randint(1,100,20000)"
   ]
  },
  {
   "cell_type": "code",
   "execution_count": 35,
   "metadata": {},
   "outputs": [
    {
     "data": {
      "image/png": "[encoded data removed]",
      "text/plain": [
       "<Figure size 432x288 with 1 Axes>"
      ]
     },
     "metadata": {
      "needs_background": "light"
     },
     "output_type": "display_data"
    }
   ],
   "source": [
    "plt.scatter(x_random , y_random)\n",
    "\n",
    "plt.xlabel('x')\n",
    "plt.ylabel('y')\n",
    "plt.show()"
   ]
  },
  {
   "cell_type": "code",
   "execution_count": 36,
   "metadata": {},
   "outputs": [],
   "source": [
    "df_random = pd.DataFrame({'x' : x_random , 'y' : y_random})"
   ]
  },
  {
   "cell_type": "code",
   "execution_count": 37,
   "metadata": {},
   "outputs": [],
   "source": [
    "#extraindo samples\n",
    "df_random_50 = df_random.sample(50)\n",
    "df_random_100 = df_random.sample(100)\n",
    "df_random_500 = df_random.sample(500)"
   ]
  },
  {
   "cell_type": "code",
   "execution_count": 38,
   "metadata": {},
   "outputs": [
    {
     "data": {
      "text/html": [
       "<div>\n",
       "<style scoped>\n",
       "    .dataframe tbody tr th:only-of-type {\n",
       "        vertical-align: middle;\n",
       "    }\n",
       "\n",
       "    .dataframe tbody tr th {\n",
       "        vertical-align: top;\n",
       "    }\n",
       "\n",
       "    .dataframe thead th {\n",
       "        text-align: right;\n",
       "    }\n",
       "</style>\n",
       "<table border=\"1\" class=\"dataframe\">\n",
       "  <thead>\n",
       "    <tr style=\"text-align: right;\">\n",
       "      <th></th>\n",
       "      <th>x</th>\n",
       "      <th>y</th>\n",
       "    </tr>\n",
       "  </thead>\n",
       "  <tbody>\n",
       "    <tr>\n",
       "      <th>x</th>\n",
       "      <td>1.000000</td>\n",
       "      <td>0.152621</td>\n",
       "    </tr>\n",
       "    <tr>\n",
       "      <th>y</th>\n",
       "      <td>0.152621</td>\n",
       "      <td>1.000000</td>\n",
       "    </tr>\n",
       "  </tbody>\n",
       "</table>\n",
       "</div>"
      ],
      "text/plain": [
       "          x         y\n",
       "x  1.000000  0.152621\n",
       "y  0.152621  1.000000"
      ]
     },
     "execution_count": 38,
     "metadata": {},
     "output_type": "execute_result"
    }
   ],
   "source": [
    "df_random_50.corr()"
   ]
  },
  {
   "cell_type": "code",
   "execution_count": 39,
   "metadata": {},
   "outputs": [
    {
     "data": {
      "text/html": [
       "<div>\n",
       "<style scoped>\n",
       "    .dataframe tbody tr th:only-of-type {\n",
       "        vertical-align: middle;\n",
       "    }\n",
       "\n",
       "    .dataframe tbody tr th {\n",
       "        vertical-align: top;\n",
       "    }\n",
       "\n",
       "    .dataframe thead th {\n",
       "        text-align: right;\n",
       "    }\n",
       "</style>\n",
       "<table border=\"1\" class=\"dataframe\">\n",
       "  <thead>\n",
       "    <tr style=\"text-align: right;\">\n",
       "      <th></th>\n",
       "      <th>x</th>\n",
       "      <th>y</th>\n",
       "    </tr>\n",
       "  </thead>\n",
       "  <tbody>\n",
       "    <tr>\n",
       "      <th>x</th>\n",
       "      <td>1.000000</td>\n",
       "      <td>0.018651</td>\n",
       "    </tr>\n",
       "    <tr>\n",
       "      <th>y</th>\n",
       "      <td>0.018651</td>\n",
       "      <td>1.000000</td>\n",
       "    </tr>\n",
       "  </tbody>\n",
       "</table>\n",
       "</div>"
      ],
      "text/plain": [
       "          x         y\n",
       "x  1.000000  0.018651\n",
       "y  0.018651  1.000000"
      ]
     },
     "execution_count": 39,
     "metadata": {},
     "output_type": "execute_result"
    }
   ],
   "source": [
    "df_random_100.corr()"
   ]
  },
  {
   "cell_type": "code",
   "execution_count": 40,
   "metadata": {},
   "outputs": [
    {
     "data": {
      "text/html": [
       "<div>\n",
       "<style scoped>\n",
       "    .dataframe tbody tr th:only-of-type {\n",
       "        vertical-align: middle;\n",
       "    }\n",
       "\n",
       "    .dataframe tbody tr th {\n",
       "        vertical-align: top;\n",
       "    }\n",
       "\n",
       "    .dataframe thead th {\n",
       "        text-align: right;\n",
       "    }\n",
       "</style>\n",
       "<table border=\"1\" class=\"dataframe\">\n",
       "  <thead>\n",
       "    <tr style=\"text-align: right;\">\n",
       "      <th></th>\n",
       "      <th>x</th>\n",
       "      <th>y</th>\n",
       "    </tr>\n",
       "  </thead>\n",
       "  <tbody>\n",
       "    <tr>\n",
       "      <th>x</th>\n",
       "      <td>1.000000</td>\n",
       "      <td>-0.005542</td>\n",
       "    </tr>\n",
       "    <tr>\n",
       "      <th>y</th>\n",
       "      <td>-0.005542</td>\n",
       "      <td>1.000000</td>\n",
       "    </tr>\n",
       "  </tbody>\n",
       "</table>\n",
       "</div>"
      ],
      "text/plain": [
       "          x         y\n",
       "x  1.000000 -0.005542\n",
       "y -0.005542  1.000000"
      ]
     },
     "execution_count": 40,
     "metadata": {},
     "output_type": "execute_result"
    }
   ],
   "source": [
    "df_random_500.corr()"
   ]
  },
  {
   "cell_type": "markdown",
   "metadata": {
    "id": "bpmep8MjNZVm"
   },
   "source": [
    "Note que a correlação vai estabilizando para o valor esperado de 0, já que geramos um dataset randômico"
   ]
  },
  {
   "cell_type": "code",
   "execution_count": 41,
   "metadata": {},
   "outputs": [],
   "source": [
    "# vamos ler dados sobre empréstimos e estudar os testes de correlação\n",
    "df_loan = pd.read_csv('loan.csv')"
   ]
  },
  {
   "cell_type": "code",
   "execution_count": 42,
   "metadata": {},
   "outputs": [],
   "source": [
    "# Convertendo para 1 e 0 a coluna de loan\n",
    "df_loan.loc[df_loan['loan_status'] == 'PAIDOFF', ['loan_status']] = 1\n",
    "df_loan.loc[df_loan['loan_status']!=1, ['loan_status']] = 0"
   ]
  },
  {
   "cell_type": "code",
   "execution_count": 43,
   "metadata": {},
   "outputs": [],
   "source": [
    "df_loan['loan_status'] = df_loan['loan_status'].astype('int')"
   ]
  },
  {
   "cell_type": "markdown",
   "metadata": {
    "id": "xx13901fNZVm"
   },
   "source": [
    "Vamos extrair as correlações de pearson para as colunas loan_status, terms e age"
   ]
  },
  {
   "cell_type": "code",
   "execution_count": 44,
   "metadata": {},
   "outputs": [],
   "source": [
    "df_loan_p = df_loan.loc[:,['loan_status','terms','age']].corr()"
   ]
  },
  {
   "cell_type": "markdown",
   "metadata": {
    "id": "TbeMfP-3NZVn"
   },
   "source": [
    "Se estamos construindo um modelo preditivo, é interessante procurar por associações e correlação com o target"
   ]
  },
  {
   "cell_type": "code",
   "execution_count": 45,
   "metadata": {},
   "outputs": [
    {
     "data": {
      "text/plain": [
       "loan_status    1.000000\n",
       "terms         -0.108395\n",
       "age            0.018939\n",
       "Name: loan_status, dtype: float64"
      ]
     },
     "execution_count": 45,
     "metadata": {},
     "output_type": "execute_result"
    }
   ],
   "source": [
    "df_loan_p['loan_status']"
   ]
  },
  {
   "cell_type": "code",
   "execution_count": 46,
   "metadata": {},
   "outputs": [
    {
     "data": {
      "text/html": [
       "<div>\n",
       "<style scoped>\n",
       "    .dataframe tbody tr th:only-of-type {\n",
       "        vertical-align: middle;\n",
       "    }\n",
       "\n",
       "    .dataframe tbody tr th {\n",
       "        vertical-align: top;\n",
       "    }\n",
       "\n",
       "    .dataframe thead th {\n",
       "        text-align: right;\n",
       "    }\n",
       "</style>\n",
       "<table border=\"1\" class=\"dataframe\">\n",
       "  <thead>\n",
       "    <tr style=\"text-align: right;\">\n",
       "      <th></th>\n",
       "      <th>Principal</th>\n",
       "      <th>terms</th>\n",
       "      <th>past_due_days</th>\n",
       "      <th>age</th>\n",
       "    </tr>\n",
       "    <tr>\n",
       "      <th>loan_status</th>\n",
       "      <th></th>\n",
       "      <th></th>\n",
       "      <th></th>\n",
       "      <th></th>\n",
       "    </tr>\n",
       "  </thead>\n",
       "  <tbody>\n",
       "    <tr>\n",
       "      <th>0</th>\n",
       "      <td>955.5</td>\n",
       "      <td>23.885000</td>\n",
       "      <td>36.01</td>\n",
       "      <td>30.975</td>\n",
       "    </tr>\n",
       "    <tr>\n",
       "      <th>1</th>\n",
       "      <td>935.0</td>\n",
       "      <td>22.116667</td>\n",
       "      <td>NaN</td>\n",
       "      <td>31.210</td>\n",
       "    </tr>\n",
       "  </tbody>\n",
       "</table>\n",
       "</div>"
      ],
      "text/plain": [
       "             Principal      terms  past_due_days     age\n",
       "loan_status                                             \n",
       "0                955.5  23.885000          36.01  30.975\n",
       "1                935.0  22.116667            NaN  31.210"
      ]
     },
     "execution_count": 46,
     "metadata": {},
     "output_type": "execute_result"
    }
   ],
   "source": [
    "df_loan.groupby('loan_status').mean()"
   ]
  },
  {
   "cell_type": "code",
   "execution_count": 47,
   "metadata": {},
   "outputs": [
    {
     "data": {
      "image/png": "[encoded data removed]",
      "text/plain": [
       "<Figure size 432x288 with 1 Axes>"
      ]
     },
     "metadata": {
      "needs_background": "light"
     },
     "output_type": "display_data"
    }
   ],
   "source": [
    "sns.boxplot(x='loan_status', y='terms', data=df_loan)\n",
    "plt.show()"
   ]
  },
  {
   "cell_type": "code",
   "execution_count": 48,
   "metadata": {},
   "outputs": [
    {
     "data": {
      "image/png": "[encoded data removed]",
      "text/plain": [
       "<Figure size 432x288 with 1 Axes>"
      ]
     },
     "metadata": {
      "needs_background": "light"
     },
     "output_type": "display_data"
    }
   ],
   "source": [
    "sns.boxplot(x='loan_status', y='age', data=df_loan)\n",
    "plt.show()"
   ]
  },
  {
   "cell_type": "code",
   "execution_count": 52,
   "metadata": {},
   "outputs": [
    {
     "data": {
      "text/html": [
       "<div>\n",
       "<style scoped>\n",
       "    .dataframe tbody tr th:only-of-type {\n",
       "        vertical-align: middle;\n",
       "    }\n",
       "\n",
       "    .dataframe tbody tr th {\n",
       "        vertical-align: top;\n",
       "    }\n",
       "\n",
       "    .dataframe thead th {\n",
       "        text-align: right;\n",
       "    }\n",
       "</style>\n",
       "<table border=\"1\" class=\"dataframe\">\n",
       "  <thead>\n",
       "    <tr style=\"text-align: right;\">\n",
       "      <th></th>\n",
       "      <th>n</th>\n",
       "      <th>r</th>\n",
       "      <th>CI95%</th>\n",
       "      <th>p-val</th>\n",
       "      <th>BF10</th>\n",
       "      <th>power</th>\n",
       "    </tr>\n",
       "  </thead>\n",
       "  <tbody>\n",
       "    <tr>\n",
       "      <th>pearson</th>\n",
       "      <td>500</td>\n",
       "      <td>-0.108395</td>\n",
       "      <td>[-0.19, -0.02]</td>\n",
       "      <td>0.015314</td>\n",
       "      <td>1.05</td>\n",
       "      <td>0.680195</td>\n",
       "    </tr>\n",
       "  </tbody>\n",
       "</table>\n",
       "</div>"
      ],
      "text/plain": [
       "           n         r           CI95%     p-val  BF10     power\n",
       "pearson  500 -0.108395  [-0.19, -0.02]  0.015314  1.05  0.680195"
      ]
     },
     "execution_count": 52,
     "metadata": {},
     "output_type": "execute_result"
    }
   ],
   "source": [
    "#usando biblioteca pingouin \n",
    "pg.corr(df_loan['loan_status'], df_loan['terms'], methods = 'pearson')"
   ]
  },
  {
   "cell_type": "code",
   "execution_count": 53,
   "metadata": {},
   "outputs": [
    {
     "data": {
      "text/html": [
       "<div>\n",
       "<style scoped>\n",
       "    .dataframe tbody tr th:only-of-type {\n",
       "        vertical-align: middle;\n",
       "    }\n",
       "\n",
       "    .dataframe tbody tr th {\n",
       "        vertical-align: top;\n",
       "    }\n",
       "\n",
       "    .dataframe thead th {\n",
       "        text-align: right;\n",
       "    }\n",
       "</style>\n",
       "<table border=\"1\" class=\"dataframe\">\n",
       "  <thead>\n",
       "    <tr style=\"text-align: right;\">\n",
       "      <th></th>\n",
       "      <th>n</th>\n",
       "      <th>r</th>\n",
       "      <th>CI95%</th>\n",
       "      <th>p-val</th>\n",
       "      <th>BF10</th>\n",
       "      <th>power</th>\n",
       "    </tr>\n",
       "  </thead>\n",
       "  <tbody>\n",
       "    <tr>\n",
       "      <th>pearson</th>\n",
       "      <td>500</td>\n",
       "      <td>0.018939</td>\n",
       "      <td>[-0.07, 0.11]</td>\n",
       "      <td>0.67268</td>\n",
       "      <td>0.061</td>\n",
       "      <td>0.070668</td>\n",
       "    </tr>\n",
       "  </tbody>\n",
       "</table>\n",
       "</div>"
      ],
      "text/plain": [
       "           n         r          CI95%    p-val   BF10     power\n",
       "pearson  500  0.018939  [-0.07, 0.11]  0.67268  0.061  0.070668"
      ]
     },
     "execution_count": 53,
     "metadata": {},
     "output_type": "execute_result"
    }
   ],
   "source": [
    "pg.corr(df_loan['loan_status'] , df_loan['age'] , method = 'pearson')"
   ]
  },
  {
   "cell_type": "code",
   "execution_count": 54,
   "metadata": {},
   "outputs": [],
   "source": [
    "# usando a biblioteca scipy\n",
    "p_corr_terms, p_p_terms = stats.pearsonr(df_loan['loan_status'], df_loan['terms'])"
   ]
  },
  {
   "cell_type": "code",
   "execution_count": 55,
   "metadata": {},
   "outputs": [
    {
     "data": {
      "text/plain": [
       "(-0.10839544070972226, 0.015313538429204306)"
      ]
     },
     "execution_count": 55,
     "metadata": {},
     "output_type": "execute_result"
    }
   ],
   "source": [
    "p_corr_terms, p_p_terms"
   ]
  },
  {
   "cell_type": "code",
   "execution_count": 56,
   "metadata": {},
   "outputs": [],
   "source": [
    "p_corr_age, p_p_age = stats.pearsonr(df_loan['loan_status'], df_loan['age'])"
   ]
  },
  {
   "cell_type": "code",
   "execution_count": 57,
   "metadata": {},
   "outputs": [
    {
     "data": {
      "text/plain": [
       "(0.01893926255939875, 0.6726800061535693)"
      ]
     },
     "execution_count": 57,
     "metadata": {},
     "output_type": "execute_result"
    }
   ],
   "source": [
    "p_corr_age, p_p_age"
   ]
  },
  {
   "cell_type": "markdown",
   "metadata": {},
   "source": [
    "## Teste Cramer V"
   ]
  },
  {
   "cell_type": "markdown",
   "metadata": {},
   "source": [
    "Em estatística, o V de Cramér é uma medida de associação entre duas variáveis ​​nominais, dando um valor entre 0 e +1"
   ]
  },
  {
   "cell_type": "code",
   "execution_count": 63,
   "metadata": {},
   "outputs": [],
   "source": [
    "# cramer V\n",
    "def cac(df, cat_cols):\n",
    "    df=df\n",
    "    cat_cols=cat_cols\n",
    "    # dicionário para guardar o cramer V de cada coluna em relação às demais\n",
    "    dict_cramer = {}\n",
    "    # primeiro for loop é para percorrer as colunas categóricas\n",
    "    for cat in cat_cols:\n",
    "        # lista para guardar os valores obtidos de cramer v a cada coluna \n",
    "        cramer_v_list = []\n",
    "        # segundo for loop é para percorrer para uma variável categórica todas as colunas do dataframe\n",
    "        for cat_ in cat_cols:\n",
    "            # gerando a tabela de contingência\n",
    "            df_cross = pd.crosstab(df[cat], df[cat_])\n",
    "            # extraindo o valor de chi2\n",
    "            chi2_teste, p, df_, arr = stats.chi2_contingency(df_cross)\n",
    "            # calculando o número de linhas\n",
    "            r = len(df_cross)\n",
    "            # calculando o número de colunas\n",
    "            c = len(df_cross.columns)\n",
    "            # calculando a soma dos elementos das células\n",
    "            n = df_cross.to_numpy().sum()\n",
    "            # calculando o V de cramer\n",
    "            V = np.sqrt((chi2_teste/(n*(np.min([r,c]) -1))))\n",
    "            # appendando o resultado na lista\n",
    "            cramer_v_list.append(V)\n",
    "        # salvando para um elemento do dicionário a lista contendo os V de cramer correspondentes\n",
    "        dict_cramer[cat] = cramer_v_list\n",
    "        # criando dataframe a partir do dicionário\n",
    "        df_v_cramer = pd.DataFrame(dict_cramer)\n",
    "        # adicionando o índice com o nome das variáveis\n",
    "        df_v_cramer.index=cat_cols\n",
    "    return df_v_cramer"
   ]
  },
  {
   "cell_type": "code",
   "execution_count": 64,
   "metadata": {},
   "outputs": [],
   "source": [
    "cramer_v_matrix = cac(df_loan, cat_cols=['loan_status', 'Gender','education'])"
   ]
  },
  {
   "cell_type": "code",
   "execution_count": 65,
   "metadata": {},
   "outputs": [
    {
     "data": {
      "text/plain": [
       "loan_status    0.995833\n",
       "Gender         0.071256\n",
       "education      0.033123\n",
       "Name: loan_status, dtype: float64"
      ]
     },
     "execution_count": 65,
     "metadata": {},
     "output_type": "execute_result"
    }
   ],
   "source": [
    "cramer_v_matrix['loan_status']"
   ]
  },
  {
   "cell_type": "markdown",
   "metadata": {},
   "source": [
    "Logo notamos que nenhuma das variaveis possui correlação forte com Loan_Status"
   ]
  },
  {
   "cell_type": "markdown",
   "metadata": {
    "id": "iG_zeyRuNZVo"
   },
   "source": [
    "### Teste de chi2"
   ]
  },
  {
   "cell_type": "markdown",
   "metadata": {},
   "source": [
    "O teste Chi Quadrado de Pearson é um teste de hipóteses estatístico utilizado para comparar duas variáveis categóricas.Temos algumas suposições que devem respeitadas para usar o teste Chi Quadrado:\n",
    "   - Independência entre as observações e variáveis\n",
    "   - Pelo menos 5 observações para cada casela da tabela\n",
    "     \n",
    "Não Utilizar quando :\n",
    "  - Quando temos dependência entre as observações\n",
    "  - Quando temos caselas na tabela com menos de 5 observações\n",
    "  - Quando as variáveis não são categóricas\n",
    "       "
   ]
  },
  {
   "cell_type": "code",
   "execution_count": 67,
   "metadata": {},
   "outputs": [
    {
     "name": "stdout",
     "output_type": "stream",
     "text": [
      "Feature: loan_status\n",
      "p-valor: 7.632584767734904e-110\n",
      "----------\n",
      "Feature: Gender\n",
      "p-valor: 0.11108728958553357\n",
      "----------\n",
      "Feature: education\n",
      "p-valor: 0.9080976609678291\n",
      "----------\n"
     ]
    }
   ],
   "source": [
    "# Testando a significância do Chi2 para as variáveis\n",
    "cat_cols=['loan_status', 'Gender','education']\n",
    "for cat in cat_cols:  \n",
    "    table = pd.crosstab(df_loan['loan_status'], df_loan[cat])\n",
    "    chi2, p, dof, expected = stats.chi2_contingency(table.values)\n",
    "    print(f'Feature: {cat}')\n",
    "    print(f'p-valor: {p}')\n",
    "    print(10*'-')"
   ]
  },
  {
   "cell_type": "markdown",
   "metadata": {},
   "source": [
    "comparar com o nível de significancia, caso seja menos que ele podemos concluir que há "
   ]
  }
 ],
 "metadata": {
  "colab": {
   "name": "DSTN07 - Inferência Estatística II.ipynb",
   "provenance": []
  },
  "kernelspec": {
   "display_name": "Python 3 (ipykernel)",
   "language": "python",
   "name": "python3"
  },
  "language_info": {
   "codemirror_mode": {
    "name": "ipython",
    "version": 3
   },
   "file_extension": ".py",
   "mimetype": "text/x-python",
   "name": "python",
   "nbconvert_exporter": "python",
   "pygments_lexer": "ipython3",
   "version": "3.9.12"
  },
  "toc": {
   "base_numbering": 1,
   "nav_menu": {},
   "number_sections": true,
   "sideBar": true,
   "skip_h1_title": false,
   "title_cell": "Table of Contents",
   "title_sidebar": "Contents",
   "toc_cell": false,
   "toc_position": {
    "height": "calc(100% - 180px)",
    "left": "10px",
    "top": "150px",
    "width": "210.33087158203125px"
   },
   "toc_section_display": true,
   "toc_window_display": true
  }
 },
 "nbformat": 4,
 "nbformat_minor": 1
}
