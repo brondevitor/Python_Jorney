{
 "cells": [
  {
   "cell_type": "code",
   "execution_count": 1,
   "metadata": {
    "id": "Cqfq30QfhOH3"
   },
   "outputs": [],
   "source": [
    "import pandas as pd\n",
    "import numpy as np\n",
    "from scipy import stats"
   ]
  },
  {
   "cell_type": "markdown",
   "metadata": {
    "id": "PHGYm4HIhOH-"
   },
   "source": [
    "**Tópicos**:\n",
    " - Tipos de variáveis\n",
    " - Medidas-Resumo:\n",
    "     - Medidas de Tendência Central\n",
    "     - Medidas de Dispersão\n",
    "     - Quantis, Quartis e Percentis\n",
    " - Análise Bidimensional:\n",
    "     - Associação Entre Variáveis Qualitativas\n",
    "     - Associação Entre Variáveis Quantitativas (parte I)\n",
    " - Matriz de Correlação\n",
    " - Exercício"
   ]
  },
  {
   "cell_type": "markdown",
   "metadata": {
    "id": "chatoelshOH_"
   },
   "source": [
    "# Tipos de Variáveis"
   ]
  },
  {
   "cell_type": "markdown",
   "metadata": {
    "id": "E-J_zyB8hOIA"
   },
   "source": [
    "A ferramenta de trabalho do cientista são os dados disponíveis. Dessa forma, precisamos entender um pouco sobre as possíveis naturezas que os dados podem assumir."
   ]
  },
  {
   "cell_type": "markdown",
   "metadata": {
    "id": "5ZKiiA4AhOIA"
   },
   "source": [
    "Basicamente, as variáveis são classificadas em qualitativas e quantitativas."
   ]
  },
  {
   "cell_type": "markdown",
   "metadata": {
    "id": "ye98gyIGhOIB"
   },
   "source": [
    "> **Qualitativa**: Qualidade/Característica que não se pode medir.\n"
   ]
  },
  {
   "cell_type": "markdown",
   "metadata": {
    "id": "E5S_FwMahOIC"
   },
   "source": [
    "> **Quantitativa**: Atributo/Característica que pode ser medido(a)"
   ]
  },
  {
   "cell_type": "markdown",
   "metadata": {
    "id": "f4AQX6ZxhOID"
   },
   "source": [
    "Dentro de variáveis qualitativas ainda podemos ter a seguinte subdivisão:"
   ]
  },
  {
   "cell_type": "markdown",
   "metadata": {
    "id": "UUWLn1JihOIE"
   },
   "source": [
    "> **Nominal**: Não é possível criar ordenação. Exemplo: Cor dos olhos "
   ]
  },
  {
   "cell_type": "markdown",
   "metadata": {
    "id": "HI1uOC_xhOIF"
   },
   "source": [
    "> **Ordinal**: É possível ordenar. Exemplo: Nível de Escolaridade, Cargos em uma empresa (C-Level, Head, Gerente, Tech Lead)"
   ]
  },
  {
   "cell_type": "markdown",
   "metadata": {
    "id": "TatQBDrUhOIG"
   },
   "source": [
    "Por sua vez, as variáveis quantitativas possuem a seguinte subdivisão:"
   ]
  },
  {
   "cell_type": "markdown",
   "metadata": {
    "id": "LpAp1XehhOIG"
   },
   "source": [
    "> **Discreta**: Resultam geralmente de uma contagem. Exemplo: Número de Filhos, Número de Gols"
   ]
  },
  {
   "cell_type": "markdown",
   "metadata": {
    "id": "1CDl5hI6hOIH"
   },
   "source": [
    "> **Contínua**: O valor percente aos números reais e resultam geralmente de uma mensuração. Exemplo: Altura, Peso."
   ]
  },
  {
   "cell_type": "markdown",
   "metadata": {
    "id": "9FNHl6m9hOII"
   },
   "source": [
    "![](https://www.researchgate.net/profile/Marcel_Queiroz2/publication/311607483/figure/fig4/AS:438948062339075@1481664781910/Figura-15-Classificacao-dos-principais-tipos-de-variaveis-Triola-2005-3-Bastos.png)"
   ]
  },
  {
   "cell_type": "markdown",
   "metadata": {
    "id": "soup2St1hOIJ"
   },
   "source": [
    "Para cada tipo de variável existem métodos e técnicas apropriadas para resumir e investigar relações. Em alguns momentos, poderemos adaptar algumas técnicas usadas em um caso para o outro."
   ]
  },
  {
   "cell_type": "markdown",
   "metadata": {
    "id": "eIxe4IXghOIJ"
   },
   "source": [
    "# Medidas-Resumo"
   ]
  },
  {
   "cell_type": "markdown",
   "metadata": {
    "id": "yTTXppGvhOIK"
   },
   "source": [
    "Uma medida-resumo é um valor que traz uma característica capaz de resumir um conjuntos de dados. Podemos dividí-las entre medidas de posição e medidas de dispersão. Vamos ver um pouquinho delas."
   ]
  },
  {
   "cell_type": "markdown",
   "metadata": {
    "id": "N6ymGurDhOIL"
   },
   "source": [
    "## Medidas de Tendência Central"
   ]
  },
  {
   "cell_type": "markdown",
   "metadata": {
    "id": "CdDNWWfAhOIL"
   },
   "source": [
    "Basicamente, nos deparamos com três medidas de tendência central:\n",
    "* Média\n",
    "* Mediana\n",
    "* Moda"
   ]
  },
  {
   "cell_type": "markdown",
   "metadata": {
    "id": "49zyAKTfhOIL"
   },
   "source": [
    "### Média"
   ]
  },
  {
   "cell_type": "markdown",
   "metadata": {
    "id": "McU9TEgzhOIM"
   },
   "source": [
    "![](https://www.estudopratico.com.br/wp-content/uploads/2014/05/media-aritmetica-simples.jpg)"
   ]
  },
  {
   "cell_type": "markdown",
   "metadata": {
    "id": "CcePvu1BhOIM"
   },
   "source": [
    "A média, apesar de bastante utilizada, é fortemente influenciada por outliers."
   ]
  },
  {
   "cell_type": "code",
   "execution_count": 2,
   "metadata": {},
   "outputs": [
    {
     "data": {
      "text/plain": [
       "17.857142857142858"
      ]
     },
     "execution_count": 2,
     "metadata": {},
     "output_type": "execute_result"
    }
   ],
   "source": [
    "# calculando média com numpy\n",
    "np.mean([1,2,3,4,5,10,100])"
   ]
  },
  {
   "cell_type": "markdown",
   "metadata": {
    "id": "k6sPdAIehOIS"
   },
   "source": [
    "### Mediana"
   ]
  },
  {
   "cell_type": "markdown",
   "metadata": {
    "id": "jC7OLORqhOIS"
   },
   "source": [
    "A outra medida utilizada como representante de um conjunto de dados é a mediana. Diferentemente da média, essa estatística sofre menos com outliers."
   ]
  },
  {
   "cell_type": "markdown",
   "metadata": {
    "id": "q3mLwMg4hOIT"
   },
   "source": [
    "Depois de ordenar o conjunto de dados em ordem crescente ou decrescente, a mediana será o valor que divide nosso conjunto em 2: 50% acima e 50% abaixo desse valor."
   ]
  },
  {
   "cell_type": "code",
   "execution_count": 4,
   "metadata": {},
   "outputs": [
    {
     "data": {
      "text/plain": [
       "4.0"
      ]
     },
     "execution_count": 4,
     "metadata": {},
     "output_type": "execute_result"
    }
   ],
   "source": [
    "np.median([1,2,3,4,5,10,100])"
   ]
  },
  {
   "cell_type": "markdown",
   "metadata": {
    "id": "lnTsSzg8hOIX"
   },
   "source": [
    "### Moda"
   ]
  },
  {
   "cell_type": "markdown",
   "metadata": {
    "id": "Dv8m1CTDhOIX"
   },
   "source": [
    "A moda é a observação mais comum do nosso conjunto de dados e é mais utilizada em dados qualitativos ou quando os dados quantitativos são discretos"
   ]
  },
  {
   "cell_type": "code",
   "execution_count": 5,
   "metadata": {},
   "outputs": [
    {
     "data": {
      "text/plain": [
       "ModeResult(mode=array(['verde'], dtype='<U5'), count=array([3]))"
      ]
     },
     "execution_count": 5,
     "metadata": {},
     "output_type": "execute_result"
    }
   ],
   "source": [
    "# Qual a cor mais comum?\n",
    "stats.mode(['verde','azul','verde','verde'])"
   ]
  },
  {
   "cell_type": "markdown",
   "metadata": {
    "id": "XOyl3SsxhOIa"
   },
   "source": [
    "## Medidas de Dispersão"
   ]
  },
  {
   "cell_type": "markdown",
   "metadata": {
    "id": "9pxnPHZPhOIb"
   },
   "source": [
    "Por qual motivo precisamos de medidas de dispersão?"
   ]
  },
  {
   "cell_type": "markdown",
   "metadata": {
    "id": "yJTHILgRhOIb"
   },
   "source": [
    "![](https://upload.wikimedia.org/wikipedia/commons/thumb/6/69/WrappedNormalPDF.png/1200px-WrappedNormalPDF.png)"
   ]
  },
  {
   "cell_type": "markdown",
   "metadata": {
    "id": "U3A6l1RwhOIb"
   },
   "source": [
    "Não importa conhecer só a média, precisamos entender a variabilidade dos dados em torno dessa média."
   ]
  },
  {
   "cell_type": "markdown",
   "metadata": {
    "id": "eJFKFAlIhOIc"
   },
   "source": [
    "### Amplitude"
   ]
  },
  {
   "cell_type": "markdown",
   "metadata": {
    "id": "1lZIdl6uhOIc"
   },
   "source": [
    "Uma das medidas que utilizamos para ter noção da variabilidade é a amplitude. Ela é simplesmente a diferença entre os valores máximo e mínimo da série de dados."
   ]
  },
  {
   "cell_type": "code",
   "execution_count": 6,
   "metadata": {},
   "outputs": [],
   "source": [
    "lista = [1,2,3,4,5,6,7]"
   ]
  },
  {
   "cell_type": "code",
   "execution_count": 8,
   "metadata": {},
   "outputs": [],
   "source": [
    "amplitude = np.max(lista) - np.min(lista)"
   ]
  },
  {
   "cell_type": "code",
   "execution_count": 9,
   "metadata": {},
   "outputs": [
    {
     "data": {
      "text/plain": [
       "6"
      ]
     },
     "execution_count": 9,
     "metadata": {},
     "output_type": "execute_result"
    }
   ],
   "source": [
    "amplitude"
   ]
  },
  {
   "cell_type": "markdown",
   "metadata": {
    "id": "2rMYRqlPhOIj"
   },
   "source": [
    "### Variância Amostral"
   ]
  },
  {
   "cell_type": "markdown",
   "metadata": {
    "id": "RDLPHISshOIj"
   },
   "source": [
    "A amplitude não leva em consideração a média para seu cálculo. A variância, por sua vez, mede o grau de distância entre os pontos e a média."
   ]
  },
  {
   "cell_type": "markdown",
   "metadata": {
    "id": "t9Gm9m-hhOIj"
   },
   "source": [
    "![](https://linkconcursos.com.br/wp-content/uploads/2013/03/varianciadaamostra.jpg)"
   ]
  },
  {
   "cell_type": "code",
   "execution_count": 10,
   "metadata": {},
   "outputs": [],
   "source": [
    "lista2 = np.array([1,2,3,4,5])"
   ]
  },
  {
   "cell_type": "code",
   "execution_count": 11,
   "metadata": {},
   "outputs": [],
   "source": [
    "# extraindo a média da amostra\n",
    "media_lista2 = np.mean(lista2)"
   ]
  },
  {
   "cell_type": "code",
   "execution_count": 12,
   "metadata": {},
   "outputs": [],
   "source": [
    "# extraindo os desvios ao quadrado da média\n",
    "desvios_quadrado = (lista2 - media_lista2)**2"
   ]
  },
  {
   "cell_type": "code",
   "execution_count": 13,
   "metadata": {},
   "outputs": [
    {
     "data": {
      "text/plain": [
       "array([4., 1., 0., 1., 4.])"
      ]
     },
     "execution_count": 13,
     "metadata": {},
     "output_type": "execute_result"
    }
   ],
   "source": [
    "desvios_quadrado"
   ]
  },
  {
   "cell_type": "code",
   "execution_count": 14,
   "metadata": {},
   "outputs": [
    {
     "data": {
      "text/plain": [
       "2.5"
      ]
     },
     "execution_count": 14,
     "metadata": {},
     "output_type": "execute_result"
    }
   ],
   "source": [
    "# somando os devios e dividindo por n-1\n",
    "np.sum(desvios_quadrado)/(len(desvios_quadrado) -1)"
   ]
  },
  {
   "cell_type": "markdown",
   "metadata": {
    "id": "bCId7EE7hOIt"
   },
   "source": [
    "### Desvio Padrão Amostal"
   ]
  },
  {
   "cell_type": "markdown",
   "metadata": {
    "id": "-lDY3jAlhOIt"
   },
   "source": [
    "Uma das dificuldades de se utilizar a variância é que, por ter a potenciação ao quadrado, seu resultado não é expresso nas unidades originais. Se tivermos a variável salário, por exemplo, a variância será em salários^2."
   ]
  },
  {
   "cell_type": "markdown",
   "metadata": {
    "id": "9bKrLgpBhOIu"
   },
   "source": [
    "Para vencer esse fator, o desvio padrão simplesmente é colocado como a raiz quadrada da variância."
   ]
  },
  {
   "cell_type": "code",
   "execution_count": 16,
   "metadata": {},
   "outputs": [
    {
     "data": {
      "text/plain": [
       "2.5000000000000004"
      ]
     },
     "execution_count": 16,
     "metadata": {},
     "output_type": "execute_result"
    }
   ],
   "source": [
    "(lista2.std(ddof=1))**2"
   ]
  },
  {
   "cell_type": "markdown",
   "metadata": {
    "id": "7ue4sc5IhOIu"
   },
   "source": [
    "## Quantis, Percentis e Quartis"
   ]
  },
  {
   "cell_type": "markdown",
   "metadata": {
    "id": "mcK8mYmahOIu"
   },
   "source": [
    "Mesmo com as medidas de tendência central e variabilidade, falta representar a simetria da distribuição dos dados."
   ]
  },
  {
   "cell_type": "markdown",
   "metadata": {
    "id": "fk-r3vYuhOIv"
   },
   "source": [
    "Nós comentamos que a mediana é o valor que deixa metate dos dados acima e abaixo. Vamos definir uma outra medida, <i> p-quantil</i>, escrita como <i>q(p)</i>, sendo p uma proporção qualquer entre 0 e 1, de tal maneira que 100*p% das observações da série sejam menores que <i>q(p)</i>."
   ]
  },
  {
   "cell_type": "markdown",
   "metadata": {
    "id": "YOoh0zqrhOIv"
   },
   "source": [
    "Sendo assim, a mediana é o q(0.5), pois resulta em 100*0.5 = 50% dos dados abaixo do valor. "
   ]
  },
  {
   "cell_type": "markdown",
   "metadata": {
    "id": "VOX8TYiphOIv"
   },
   "source": [
    "O Percentil é a forma mais direta de falar desses números. Podemos perguntar pelo percentil 50 e este será igual ao valor abaixo do qual 50% dos dados se encontram. Um caso particular dos percentis são os quartis. Temos 3 quartis, 1, 2, 3. \n",
    "O Primeiro Quartil é o valor abaixo do qual 25% dos dados se encontram, o Segundo Quartil é o valor abaixo do qual 50% dos dados se encontram (note que isso é igual ao Percentil 50 e quantil 0.5) e o Terceiro Quartil seria o valor abaixo do qual 75% dos dados se encontram. Dessas relações, podemos definir:"
   ]
  },
  {
   "cell_type": "markdown",
   "metadata": {
    "id": "EXj_msZdhOIw"
   },
   "source": [
    "Para encontrar quantis, podemos utilizar a função ```np.quantile()``` e para encontrar percentis, podemos utilizar ```np.percentile()```"
   ]
  },
  {
   "cell_type": "code",
   "execution_count": null,
   "metadata": {},
   "outputs": [],
   "source": []
  },
  {
   "cell_type": "code",
   "execution_count": null,
   "metadata": {},
   "outputs": [],
   "source": []
  },
  {
   "cell_type": "markdown",
   "metadata": {
    "id": "aMoqr73BhOIy"
   },
   "source": [
    "Dos quartis derivamos o BoxPlot."
   ]
  },
  {
   "cell_type": "markdown",
   "metadata": {
    "id": "v17eXQcnhOIz"
   },
   "source": [
    "![](https://i0.wp.com/www.abgconsultoria.com.br/blog/wp-content/uploads/boxplot-1-1024x664.png?resize=1024%2C664)"
   ]
  },
  {
   "cell_type": "markdown",
   "metadata": {
    "id": "8j3WpYBphOIz"
   },
   "source": [
    "# Análise Bidimensional"
   ]
  },
  {
   "cell_type": "markdown",
   "metadata": {
    "id": "wjb8f1zGhOIz"
   },
   "source": [
    "Quando consideramos duas variáveis podemos nos deparar com três situações:\n",
    "* As duas variáveis são qualitativas\n",
    "* As duas variáveis são quantitativas \n",
    "* Uma variável é qualitativa e a outra é quantitativa"
   ]
  },
  {
   "cell_type": "markdown",
   "metadata": {
    "id": "vLxIwI2ghOIz"
   },
   "source": [
    "Quando queremos encontrar associações e correlações entre as variáveis, podemos utilizar métodos gráficos ou medidas específicas. "
   ]
  },
  {
   "cell_type": "markdown",
   "metadata": {
    "id": "gX18EEvzhOIz"
   },
   "source": [
    "De maneira geral, podemos quantificar o grau de associação entre duas variáveis  por meio dos chamados <b>coeficientes de associação</b> ou <b>correlação</b>. Para facilitar assimilação e comparações, usualmente esses coeficientes possuem valores limitados entre 0 e 1 ou -1 e 1. A proximidade do 0 indicará fraca associação ou correlação."
   ]
  },
  {
   "cell_type": "markdown",
   "metadata": {
    "id": "emHkUTCrhOI0"
   },
   "source": [
    "A partir de agora vamos estudar um pouco de como obter insights sobre as relações das variáveis de um dataset."
   ]
  },
  {
   "cell_type": "markdown",
   "metadata": {
    "id": "Po863CZ8hOI0"
   },
   "source": [
    "## Associação Entre Variáveis Qualitativas"
   ]
  },
  {
   "cell_type": "markdown",
   "metadata": {
    "id": "K8c5Hws0hOI0"
   },
   "source": [
    "### Tabela de Contingência"
   ]
  },
  {
   "cell_type": "markdown",
   "metadata": {
    "id": "ZDmeJVc2hOI0"
   },
   "source": [
    "Uma forma de representar dados entre duas variáveis qualitativas é por meio de tabelas de contingência."
   ]
  },
  {
   "cell_type": "markdown",
   "metadata": {
    "id": "NOwqio2ehOI1"
   },
   "source": [
    "Imagine que em uma escola de 100 alunos, cada um pode se inscrever em apenas uma das duas disciplinas possíveis: Matemática e Estatística (coitados). Além disso, os alunos podem ser do sexo feminino ou masculino."
   ]
  },
  {
   "cell_type": "markdown",
   "metadata": {
    "id": "PHDX0LebhOI1"
   },
   "source": [
    "Vamos criar uma tabela em que nas linhas teremos a informação de sexo e nas colunas teremos as informações sobre as disciplinas."
   ]
  },
  {
   "cell_type": "code",
   "execution_count": null,
   "metadata": {},
   "outputs": [],
   "source": []
  },
  {
   "cell_type": "code",
   "execution_count": null,
   "metadata": {},
   "outputs": [],
   "source": []
  },
  {
   "cell_type": "code",
   "execution_count": null,
   "metadata": {},
   "outputs": [],
   "source": []
  },
  {
   "cell_type": "markdown",
   "metadata": {
    "id": "ZOKf1a42hOI4"
   },
   "source": [
    "* Quantos alunos do sexo masculino?"
   ]
  },
  {
   "cell_type": "code",
   "execution_count": null,
   "metadata": {},
   "outputs": [],
   "source": []
  },
  {
   "cell_type": "markdown",
   "metadata": {
    "id": "qV8gf4u2hOI5"
   },
   "source": [
    "* Quantos alunos do sexo Feminino?"
   ]
  },
  {
   "cell_type": "code",
   "execution_count": null,
   "metadata": {},
   "outputs": [],
   "source": []
  },
  {
   "cell_type": "markdown",
   "metadata": {
    "id": "a07jqjy6hOI6"
   },
   "source": [
    "* Quantos alunos em Estatística?"
   ]
  },
  {
   "cell_type": "code",
   "execution_count": null,
   "metadata": {},
   "outputs": [],
   "source": []
  },
  {
   "cell_type": "markdown",
   "metadata": {
    "id": "UA6U31MJhOI8"
   },
   "source": [
    "* Quantos alunos em Matemática?"
   ]
  },
  {
   "cell_type": "code",
   "execution_count": null,
   "metadata": {},
   "outputs": [],
   "source": []
  },
  {
   "cell_type": "markdown",
   "metadata": {
    "id": "j6Jf-H8ihOI9"
   },
   "source": [
    "Veja que a soma de todas as células resultam em 100."
   ]
  },
  {
   "cell_type": "markdown",
   "metadata": {
    "id": "cMtn_WUihOI9"
   },
   "source": [
    "Isso é uma tabela de contingência! Vamos definí-la como uma tabela que cruza duas variáveis qualitativas e guarda em suas células o número de observações correspondentes às combinações possíveis das duas variáveis."
   ]
  },
  {
   "cell_type": "markdown",
   "metadata": {
    "id": "9X-QYhJ_hOI-"
   },
   "source": [
    "No nosso exemplo, as combinações possíveis são: **```Feminino-Estatística```**, **```Feminino-Matemática```**, **```Masculino-Estatística```** e **```Masculino-Matemática```**"
   ]
  },
  {
   "cell_type": "markdown",
   "metadata": {
    "id": "c67geiaUhOI-"
   },
   "source": [
    "No pandas, podemos utilizar o método **```pd.crosstab```** para criar uma tabela de contingência."
   ]
  },
  {
   "cell_type": "code",
   "execution_count": null,
   "metadata": {},
   "outputs": [],
   "source": []
  },
  {
   "cell_type": "code",
   "execution_count": null,
   "metadata": {},
   "outputs": [],
   "source": []
  },
  {
   "cell_type": "code",
   "execution_count": null,
   "metadata": {},
   "outputs": [],
   "source": []
  },
  {
   "cell_type": "markdown",
   "metadata": {
    "id": "f1ki-VFchOJB"
   },
   "source": [
    "### Medindo associação entre variáveis qualitativas"
   ]
  },
  {
   "cell_type": "markdown",
   "metadata": {
    "id": "QyfG_r_ZhOJB"
   },
   "source": [
    "Para exemplificar o a medição da relação entre variáveis qualitativas, considere os seguintes dados:"
   ]
  },
  {
   "cell_type": "code",
   "execution_count": null,
   "metadata": {},
   "outputs": [],
   "source": []
  },
  {
   "cell_type": "code",
   "execution_count": null,
   "metadata": {},
   "outputs": [],
   "source": []
  },
  {
   "cell_type": "markdown",
   "metadata": {
    "id": "TpwIPkBjhOJE"
   },
   "source": [
    "Podemos dizer se existe alguma associação entre o sexo e a escolha da disciplina?"
   ]
  },
  {
   "cell_type": "markdown",
   "metadata": {
    "id": "ydzpf4iNhOJE"
   },
   "source": [
    "Inicialmente é difícil tirar qualquer conclusão. Uma das formas de começar a visualizar tais relações é extraindo proporções (entre linhas ou colunas) para então fazermos algumas comparações."
   ]
  },
  {
   "cell_type": "markdown",
   "metadata": {
    "id": "IvN5veDHhOJE"
   },
   "source": [
    "Vamos calcular o % de alunos que prefere cada uma das disciplinas."
   ]
  },
  {
   "cell_type": "code",
   "execution_count": null,
   "metadata": {},
   "outputs": [],
   "source": []
  },
  {
   "cell_type": "markdown",
   "metadata": {
    "id": "JmkQDAiGhOJF"
   },
   "source": [
    "Podemos ver que, independentemente do sexo, 68% dos alunos preferem Matemática e 32% preferem estatística. Não havendo dependência entre as variáveis, deveríamos observar essas mesmas proporções para cada sexo. Vamos observar isso!"
   ]
  },
  {
   "cell_type": "code",
   "execution_count": null,
   "metadata": {},
   "outputs": [],
   "source": []
  },
  {
   "cell_type": "markdown",
   "metadata": {
    "id": "rvVTGBIShOJH"
   },
   "source": [
    "Veja que no sexo masculino, 35% São de Estatística e 65% são de Matemática. Ao passo que no sexo feminino, temos 23% em Estatística e 77% em Matemática."
   ]
  },
  {
   "cell_type": "markdown",
   "metadata": {
    "id": "Ndpry2B7hOJH"
   },
   "source": [
    "Dessa forma, vemos que esses valores diferem do que foi observado anteriormente, o que é um indício de que há relação entre essas duas variáveis."
   ]
  },
  {
   "cell_type": "markdown",
   "metadata": {
    "id": "DsycL5_4hOJH"
   },
   "source": [
    "Havendo associação entre as variáveis, é interessante que essa relação seja quantificada. É disso que trataremos na próxima sessão :)"
   ]
  },
  {
   "cell_type": "markdown",
   "metadata": {
    "id": "fvoBFi29hOJH"
   },
   "source": [
    "#### Chi2"
   ]
  },
  {
   "cell_type": "markdown",
   "metadata": {
    "id": "Hb-HNhYvhOJH"
   },
   "source": [
    "Bom, vamos tentar calcular os desvios das proporções observadas em relação às esperadas!"
   ]
  },
  {
   "cell_type": "code",
   "execution_count": null,
   "metadata": {},
   "outputs": [],
   "source": []
  },
  {
   "cell_type": "markdown",
   "metadata": {
    "id": "LqidCy_fhOJI"
   },
   "source": [
    "Se olharmos para o Total, vemos que temos 170 alunos do sexo Masculino e 65 do sexo Feminino. Sendo assim, deveríamos esperar que, para o sexo Masculino, 0.32x170 alunos fossem de Estatística e 0.68x170  alunos fossem de Matemática. "
   ]
  },
  {
   "cell_type": "markdown",
   "metadata": {
    "id": "OhvZfLomhOJI"
   },
   "source": [
    "Da mesma maneira, 0.32x65 alunos do sexo feminino seriam de Estatística e 0.68x65 alunos seriam de Matemática."
   ]
  },
  {
   "cell_type": "markdown",
   "metadata": {
    "id": "dnARW1YqhOJJ"
   },
   "source": [
    "Vamos calcular os desvios da seguinte forma:"
   ]
  },
  {
   "cell_type": "markdown",
   "metadata": {
    "id": "bScIxMRWhOJJ"
   },
   "source": [
    "$\\huge\\frac{\\left( o-e \\right)^{2}}{e}$"
   ]
  },
  {
   "cell_type": "markdown",
   "metadata": {
    "id": "eYLkh3PnhOJJ"
   },
   "source": [
    "o: observado<br>\n",
    "e: esperado"
   ]
  },
  {
   "cell_type": "code",
   "execution_count": null,
   "metadata": {},
   "outputs": [],
   "source": []
  },
  {
   "cell_type": "code",
   "execution_count": null,
   "metadata": {},
   "outputs": [],
   "source": []
  },
  {
   "cell_type": "code",
   "execution_count": null,
   "metadata": {},
   "outputs": [],
   "source": []
  },
  {
   "cell_type": "markdown",
   "metadata": {
    "id": "fM1jkM9ZhOJN"
   },
   "source": [
    "Vamos criar dois arrays, um de valores esperados e outro de valores observados\n"
   ]
  },
  {
   "cell_type": "code",
   "execution_count": null,
   "metadata": {},
   "outputs": [],
   "source": []
  },
  {
   "cell_type": "code",
   "execution_count": null,
   "metadata": {},
   "outputs": [],
   "source": []
  },
  {
   "cell_type": "code",
   "execution_count": null,
   "metadata": {},
   "outputs": [],
   "source": []
  },
  {
   "cell_type": "markdown",
   "metadata": {
    "id": "ZYBsVi6-hOJP"
   },
   "source": [
    "Para nosso caso, os desvios assumiriam os seguintes valores:"
   ]
  },
  {
   "cell_type": "code",
   "execution_count": null,
   "metadata": {},
   "outputs": [],
   "source": []
  },
  {
   "cell_type": "code",
   "execution_count": null,
   "metadata": {},
   "outputs": [],
   "source": []
  },
  {
   "cell_type": "markdown",
   "metadata": {
    "id": "QDTanLjnhOJQ"
   },
   "source": [
    "Vamos definir uma estatística χ² que é a soma desse array."
   ]
  },
  {
   "cell_type": "markdown",
   "metadata": {
    "id": "BdhYn3GUhOJU"
   },
   "source": [
    "Quanto maior for o valor de chi2, maior a associação entre as variáveis."
   ]
  },
  {
   "cell_type": "markdown",
   "metadata": {
    "id": "hO_11fgMhOJU"
   },
   "source": [
    "#### Cramer V"
   ]
  },
  {
   "cell_type": "markdown",
   "metadata": {
    "id": "rQMLSCeohOJU"
   },
   "source": [
    "Apesar de termos encontrado uma estatística que mede o grau de associação, não possuímos nenhum poder de comparação entre outras associações. Isso, pois o valor de X² depende do tamanho da tabela de contingência."
   ]
  },
  {
   "cell_type": "markdown",
   "metadata": {
    "id": "qlzWJyD1hOJU"
   },
   "source": [
    "Como meio de contornar esse inconveniente, definiu-se uma nova estatística, chamada V de Cramer, que é normalizada entre 0 e 1 e que utiliza o X² como base. Dessa maneira, temos uma medida que podemos utilizar para comparações."
   ]
  },
  {
   "cell_type": "markdown",
   "metadata": {
    "id": "rs4kDgfjhOJU"
   },
   "source": [
    "\\begin{equation*}\n",
    "V = \\sqrt{\\frac{\\chi^2}{n\\times\\left(\\text{MIN}\\left(r, c\\right) - 1\\right)}}\n",
    "\\end{equation*}"
   ]
  },
  {
   "cell_type": "markdown",
   "metadata": {
    "id": "qTw6Qrr7hOJV"
   },
   "source": [
    "* X²: Chi Quadrado\n",
    "* n: soma dos elementos da tabela de contingência\n",
    "* r: número de linhas da tabela de contingência\n",
    "* c: número de colunas da tabela de contingência"
   ]
  },
  {
   "cell_type": "markdown",
   "metadata": {
    "id": "pDoUKqC7hOJV"
   },
   "source": [
    "O caso especial em que a tabela de contingência é 2x2 é chamado de Cramer phi"
   ]
  },
  {
   "cell_type": "markdown",
   "metadata": {
    "id": "HoTWWdqBhOJV"
   },
   "source": [
    "Vamos extrair essas informações da nossa tabela"
   ]
  },
  {
   "cell_type": "markdown",
   "metadata": {
    "id": "Vc8pxiDThOJY"
   },
   "source": [
    "Para determinar o nível de força dessa associação, precisamos levar em consideração ainda o grau de liberdade. O grau de liberdade é simplesmente MIN(r,c) - 1. Segundo Cohen (1988, pp. 222,224, 225), devemos observar esse grau de liberdade antes de tirar conclusões sobre o valor de V."
   ]
  },
  {
   "cell_type": "markdown",
   "metadata": {
    "id": "uQEfwGRDhOJY"
   },
   "source": [
    "Vamos calcular nosso grau de liberdade, gl."
   ]
  },
  {
   "cell_type": "markdown",
   "metadata": {
    "id": "n3FvTBqMhOJa"
   },
   "source": [
    "A interpretação de V, seguindo a tabela proposta por Cohen, baseada em graus de liberdade, gl, é esta abaixo:"
   ]
  },
  {
   "cell_type": "markdown",
   "metadata": {
    "id": "uAOcr1uFhOJa"
   },
   "source": [
    "Segundo nosso resultado, podemos concluir que há uma associação baixa entre a disciplina e o sexo dos alunos."
   ]
  },
  {
   "cell_type": "markdown",
   "metadata": {
    "id": "skNxoXbhhOJa"
   },
   "source": [
    "Esse método serve para avaliar tanto variáveis qualitativas nominais quanto ordinais."
   ]
  },
  {
   "cell_type": "markdown",
   "metadata": {
    "id": "mYYTm0H9hOJa"
   },
   "source": [
    "Outros métodos de medição de associação:\n",
    "    - Information Value (Weight of Evidence) - muito usado em fraude e crédito\n",
    "    - Theil's U - não possui simetria"
   ]
  },
  {
   "cell_type": "markdown",
   "metadata": {
    "id": "27D2NSFPhOJb"
   },
   "source": [
    "Essas técnicas serão mais detalhadas depois de nos aprofundarmos em classificação e conhecermos conceitos como entropia, gini, probabilidade condicional e estivermos no tópico de seleção de features."
   ]
  },
  {
   "cell_type": "markdown",
   "metadata": {
    "id": "YIu18s8zhOJb"
   },
   "source": [
    "## Associação Entre variáveis Quantitativas"
   ]
  },
  {
   "cell_type": "markdown",
   "metadata": {
    "id": "lG-B5qbZhOJb"
   },
   "source": [
    "### Correlação de Pearson"
   ]
  },
  {
   "cell_type": "markdown",
   "metadata": {
    "id": "Y6PzAinbhOJb"
   },
   "source": [
    "A segunda combinação possível é quando nos deparamos com duas variáveis quantitativas, sejam elas discretas ou contínuas. Nesse sentido, há um ganho de métodos e visualizações em relação ao caso anterior."
   ]
  },
  {
   "cell_type": "markdown",
   "metadata": {
    "id": "QEZWE5JVhOJb"
   },
   "source": [
    "Uma das formas de analisar relações entre variáveis quantiativas é por meio de gráficos de dispersão. Vamos analisar a relação entre o tempo de serviço de agentes de uma companhia de seguros e seu número de clientes."
   ]
  },
  {
   "cell_type": "markdown",
   "metadata": {
    "id": "zgStyEfKhOJd"
   },
   "source": [
    "Vemos que parece haver alguma relação entre o tempo e o número de clientes. Nesse caso, quanto maior o tempo de serviço, mais clientes os agentes têm."
   ]
  },
  {
   "cell_type": "markdown",
   "metadata": {
    "id": "5Dn26RQHhOJe"
   },
   "source": [
    "Vejamos agora outro conjunto de dados."
   ]
  },
  {
   "cell_type": "markdown",
   "metadata": {
    "id": "QlEVXm1bhOJf"
   },
   "source": [
    "Nesse exemplo, podemos ver uma relação inversa, pois quanto maior a renda familiar (em salários mínimos), menor é a tendência de se gastar com assistência médica (% da renda anual)"
   ]
  },
  {
   "cell_type": "markdown",
   "metadata": {
    "id": "zslXbfW4hOJf"
   },
   "source": [
    "Por fim, temos um último conjunto de dados para olhar. Vamos carregá-lo."
   ]
  },
  {
   "cell_type": "markdown",
   "metadata": {
    "id": "D5_u6cuBhOJh"
   },
   "source": [
    "Vamos plotar novamento um gráfico de dispersão com as duas variáveis."
   ]
  },
  {
   "cell_type": "markdown",
   "metadata": {
    "id": "hXu_WnoBhOJh"
   },
   "source": [
    "Note que, contrariamente aos outros dois gráficos, parece não haver relação muito clara entre as variáveis, isto é, conhecer o resultado do teste de língua estrangeira não nos traz muita informação sobre o tempo que cada operador leverá para operar a máquina."
   ]
  },
  {
   "cell_type": "markdown",
   "metadata": {
    "id": "FFPybG81hOJi"
   },
   "source": [
    "Nesse tipo de situação, existe pouca ou nenhuma associação. Mas mesmo que qualitativamente tenhamos identificado alguns padrões, não dá para saber, por exemplo, qual associação é mais forte ou fraca."
   ]
  },
  {
   "cell_type": "markdown",
   "metadata": {
    "id": "P_-r47V_hOJi"
   },
   "source": [
    "Para isso, vamos investigar uma estatística que nos ajudará a quantificar essas relações: A correlação."
   ]
  },
  {
   "cell_type": "markdown",
   "metadata": {
    "id": "EZ7s8p6ohOJi"
   },
   "source": [
    "Existem muitos tipos de associação, inicialmente vamos focar em entender a mais simples delas, que é a linear. Isto é, iremos definir uma medida que avalia o quanto a nuvem de pontos que estamos observando se aproximam de uma reta. Como propriedade importante, a correlação linear sempre estará dentro de um intervalo de -1 a 1."
   ]
  },
  {
   "cell_type": "markdown",
   "metadata": {
    "id": "EzEHynMvhOJi"
   },
   "source": [
    "Vamos observar os gráficos abaixo, cujas nuvens de pontos foram centralizadas."
   ]
  },
  {
   "cell_type": "markdown",
   "metadata": {
    "id": "czH3w0nShOJi"
   },
   "source": [
    "![]()"
   ]
  },
  {
   "cell_type": "markdown",
   "metadata": {
    "id": "aqZ_O7eYhOJl"
   },
   "source": [
    "Na figura (a), vemos uma associação linear (se aproxima de uma reta) e positiva. Note que a maioria dos pontos estão localizados nos quadrantes 1 e 3. Nesses quadrantes, as coordenadas (x,y) dos pontos possuem o mesmo sinal e, portanto, o produto entre elas é sempre positivo. Se somássemos o produto de todos as coordenadas de todos os pontos, a soma seria positiva, por haver mais pontos localizados nessas regiões."
   ]
  },
  {
   "cell_type": "markdown",
   "metadata": {
    "id": "MS7NZzXkhOJl"
   },
   "source": [
    "De maneira análoga, na figura (b) temos o inverso da Figura (a), mais pontos nos quadrantes 2 e 4. Neles, as coordenadas dos pontos possuem sinais distinto e, dessa forma, os produtos resultarão em um número negativo. Nesse caso, havendo mais pontos presentes nessas regiões, as somas desses produtos resultaria em um número negativo."
   ]
  },
  {
   "cell_type": "markdown",
   "metadata": {
    "id": "PJgTw37LhOJm"
   },
   "source": [
    "Por fim, podemos ver que a Figura (c) possui pontos espalhados por todos os quadrantes. Dessa forma, se somarmos os produtos das coordenadas, teremos um valor próximo a zero, pois cada ponto positivo possui seu correspondente simétrico e acabará cancelando na soma."
   ]
  },
  {
   "cell_type": "markdown",
   "metadata": {
    "id": "KFBTgKTKhOJm"
   },
   "source": [
    "Alguma semelhança com o X²?"
   ]
  },
  {
   "cell_type": "markdown",
   "metadata": {
    "id": "5b8EemqPhOJm"
   },
   "source": [
    "Perceba que estamos somando termos e isso pode crescer indefinidamente, a menos que usemos fatores para isolar o efeito do tamanho da amostra. Para isso iremos utilizar a média dos produtos. "
   ]
  },
  {
   "cell_type": "markdown",
   "metadata": {
    "id": "rZh49uhhhOJm"
   },
   "source": [
    "Bora fazer isso na prática?"
   ]
  },
  {
   "cell_type": "markdown",
   "metadata": {
    "id": "CDCmNg0MhOJm"
   },
   "source": [
    "Vamos usar o conjunto abaixo para calcular a correlação linear entre as variáveis."
   ]
  },
  {
   "cell_type": "markdown",
   "metadata": {
    "id": "AqNCbIrZhOJn"
   },
   "source": [
    "1. Subtrair a média (centralizar os dados na média)"
   ]
  },
  {
   "cell_type": "markdown",
   "metadata": {
    "id": "JRZdZcuBhOJo"
   },
   "source": [
    "Vamos criar uma coluna nova com a subtração da média de cada coluna"
   ]
  },
  {
   "cell_type": "markdown",
   "metadata": {
    "id": "K_ntob9FhOJr"
   },
   "source": [
    "Observando as duas colunas, vemos que o produto das coordenadas é mais afetado pela coordenada Y, pois sua variabilidade é maior. Para corrigir esse efeito, precisamos dividir os termos pelo desvio padrão das respectivas amostra."
   ]
  },
  {
   "cell_type": "markdown",
   "metadata": {
    "id": "qo0b4Y0ehOJr"
   },
   "source": [
    "2. Dividir pelo desvio padrão"
   ]
  },
  {
   "cell_type": "markdown",
   "metadata": {
    "id": "jbHvPNs3hOJt"
   },
   "source": [
    "Agora a escala das variáveis foi ajustada."
   ]
  },
  {
   "cell_type": "markdown",
   "metadata": {
    "id": "-5dzLd3phOJu"
   },
   "source": [
    "Por fim, vamos multiplicar as novas coordenadas e colocar o resultado numa nova coluna."
   ]
  },
  {
   "cell_type": "markdown",
   "metadata": {
    "id": "qDeYTgYohOJu"
   },
   "source": [
    "3. Multiplicar coordenadas"
   ]
  },
  {
   "cell_type": "markdown",
   "metadata": {
    "id": "v3JXoFf3hOJv"
   },
   "source": [
    "Por último, para isolar o efeito do tamanho da amostra, vamos extraira a média dos produtos."
   ]
  },
  {
   "cell_type": "markdown",
   "metadata": {
    "id": "aNe38hPAhOJw"
   },
   "source": [
    "Como esperado, a correlação é positiva e bem forte!"
   ]
  },
  {
   "cell_type": "markdown",
   "metadata": {
    "id": "YjXBOy0DhOJw"
   },
   "source": [
    "Vamos visualizar nossos dados centralizados?"
   ]
  },
  {
   "cell_type": "markdown",
   "metadata": {
    "id": "l_Pb8t2ahOJx"
   },
   "source": [
    "Aqui ainda temos o problema de escala."
   ]
  },
  {
   "cell_type": "markdown",
   "metadata": {
    "id": "gsaLr--YhOJy"
   },
   "source": [
    "---"
   ]
  },
  {
   "cell_type": "markdown",
   "metadata": {
    "id": "k34LAZnkhOJy"
   },
   "source": [
    "> Pontos de Atenção"
   ]
  },
  {
   "cell_type": "markdown",
   "metadata": {
    "id": "9a1iPnY_hOJy"
   },
   "source": [
    "Embora poderoso, o método da correlação de pearson pode trazer alguns pontos negativos e aos quais devemos estar atentos."
   ]
  },
  {
   "cell_type": "markdown",
   "metadata": {
    "id": "LtuHOin5hOJy"
   },
   "source": [
    "**NÃO OLHE APENAS OS NÚMEROS**"
   ]
  },
  {
   "cell_type": "markdown",
   "metadata": {
    "id": "bY5QX8SBhOJy"
   },
   "source": [
    "![](https://46gyn61z4i0t1u1pnq2bbk2e-wpengine.netdna-ssl.com/wp-content/uploads/2018/05/Misinterpreting-correlations.png)"
   ]
  },
  {
   "cell_type": "markdown",
   "metadata": {
    "id": "KKBHViqmhOJy"
   },
   "source": [
    "**CORRELAÇÃO NÃO IMPLICA CAUSA**"
   ]
  },
  {
   "cell_type": "markdown",
   "metadata": {
    "id": "HZieZI5VhOJy"
   },
   "source": [
    "![](https://images.megapixl.com/3788/37881989.jpg)"
   ]
  },
  {
   "cell_type": "markdown",
   "metadata": {
    "id": "_jk5xqe4hOJy"
   },
   "source": [
    "O verão, sol mais intenso, causa o aumento no consumo de produtos como sorvete e também é responsável pelo aumento de casos de insolação."
   ]
  },
  {
   "cell_type": "markdown",
   "metadata": {
    "id": "vW5bplYIhOJz"
   },
   "source": [
    "Se calculássemos uma correlação entre o consumo de sorvete e aumento de casos de insolação, detectaríamos uma correlação positiva! Mas a verdade é que um não causa o outro."
   ]
  },
  {
   "cell_type": "markdown",
   "metadata": {
    "id": "hD5P8VswhOJz"
   },
   "source": [
    "> Provocação: Existe Causa sem Correlação??"
   ]
  },
  {
   "cell_type": "markdown",
   "metadata": {
    "id": "ISUrRHIvhOJz"
   },
   "source": [
    "## Matriz de Correlação"
   ]
  },
  {
   "cell_type": "markdown",
   "metadata": {
    "id": "6zTi9_CnhOJz"
   },
   "source": [
    "A Matriz de correlação é um conjunto de correlações entre as variáveis. Variável por variável o método realiza o cálculo e o coloca no formato de dataframe. Usando a biblioteca seaborn, podemos dar um aspecto visual interessante e obter alguns insights."
   ]
  },
  {
   "cell_type": "markdown",
   "metadata": {
    "id": "VnObjj4WhOJ1"
   },
   "source": [
    "# Exercício"
   ]
  },
  {
   "cell_type": "markdown",
   "metadata": {
    "id": "WSHPDKV6hOJ1"
   },
   "source": [
    "Construa uma função para o cálculo do Cramer V e outra para criar uma matriz de Cramer (igual a de correlação)"
   ]
  }
 ],
 "metadata": {
  "colab": {
   "name": "DSTN07 -  Estatística Descritiva - Parte I.ipynb",
   "provenance": []
  },
  "kernelspec": {
   "display_name": "Python 3 (ipykernel)",
   "language": "python",
   "name": "python3"
  },
  "language_info": {
   "codemirror_mode": {
    "name": "ipython",
    "version": 3
   },
   "file_extension": ".py",
   "mimetype": "text/x-python",
   "name": "python",
   "nbconvert_exporter": "python",
   "pygments_lexer": "ipython3",
   "version": "3.9.12"
  },
  "toc": {
   "base_numbering": 1,
   "nav_menu": {},
   "number_sections": true,
   "sideBar": true,
   "skip_h1_title": false,
   "title_cell": "Table of Contents",
   "title_sidebar": "Contents",
   "toc_cell": false,
   "toc_position": {
    "height": "calc(100% - 180px)",
    "left": "10px",
    "top": "150px",
    "width": "293.2608642578125px"
   },
   "toc_section_display": true,
   "toc_window_display": true
  }
 },
 "nbformat": 4,
 "nbformat_minor": 1
}
