{
 "cells": [
  {
   "cell_type": "code",
   "execution_count": 1,
   "metadata": {
    "executionInfo": {
     "elapsed": 1783,
     "status": "ok",
     "timestamp": 1604534846652,
     "user": {
      "displayName": "Bruno Carlos Vieira dos Santos",
      "photoUrl": "https://lh3.googleusercontent.com/a-/AOh14GjyjhO1J7E4_amgTO6tdRfjO7rX05VY1sZ1CCHw=s64",
      "userId": "03042938749526543894"
     },
     "user_tz": 180
    },
    "id": "N7zCWDyTPQBj"
   },
   "outputs": [],
   "source": [
    "import pandas as pd\n",
    "import numpy as np\n",
    "from scipy import stats\n",
    "import matplotlib.pyplot as plt\n",
    "import seaborn as sns\n",
    "import math\n",
    "from collections import Counter\n",
    "from scipy.stats import bernoulli"
   ]
  },
  {
   "cell_type": "markdown",
   "metadata": {
    "id": "9w5yV2IEPQBq"
   },
   "source": [
    "**Tópicos**:\n",
    "         \n",
    " - Distribuições de Probabilidade\n",
    "     - Distribuições Contínuas\n",
    "         - Distribuição Normal\n",
    "         - Distribuição Normal Padrão\n",
    " - Inferência Estatística (Parte I)\n",
    "     - Amostragem\n",
    "     - O que é Inferência Estatística\n",
    "     - Lei dos Grandes Números\n",
    "     - Teorema do Limite Central\n",
    "     - Intervalo de Confiança\n",
    "     - Teste de Hipótese\n",
    "         - O que é um Teste de Hipótese\n",
    "         - Um exemplo simples\n",
    "         - Metodologia Genérica do Teste de Hipótese\n",
    "         - P valor\n",
    "         - Exemplo Prático"
   ]
  },
  {
   "cell_type": "markdown",
   "metadata": {
    "id": "ht7XijXRPQC4"
   },
   "source": [
    "## Distribuições Contínuas"
   ]
  },
  {
   "cell_type": "markdown",
   "metadata": {
    "id": "97po-s93PQC5"
   },
   "source": [
    "### Distribuição Normal"
   ]
  },
  {
   "cell_type": "markdown",
   "metadata": {
    "id": "O8imNZZePQC5"
   },
   "source": [
    "![](https://i.pinimg.com/originals/34/9b/f6/349bf66317f5a051c89a7b26264c9062.jpg)"
   ]
  },
  {
   "cell_type": "markdown",
   "metadata": {
    "id": "Pf7pS1hQPQC5"
   },
   "source": [
    "A Distribuição Normal é uma distribuiçao contínua e é uma das mais conhecidas na estatística e na ciência de dados. Isso, pois muitos fenômenos podem ser modelados por meio de uma distribuição normal."
   ]
  },
  {
   "cell_type": "markdown",
   "metadata": {
    "id": "T4XJYDAJPQC5"
   },
   "source": [
    "Exemplo: Altura de uma população, Idade de uma população, retorno financeiro de ações e etc."
   ]
  },
  {
   "cell_type": "markdown",
   "metadata": {
    "id": "jj4tax5JPQC5"
   },
   "source": [
    "Matematicamente, uma distribuição é normal se segue a seguinte função de densidade de probabilidade."
   ]
  },
  {
   "cell_type": "markdown",
   "metadata": {
    "id": "EvRn37cFPQC5"
   },
   "source": [
    "![](https://wikimedia.org/api/rest_v1/media/math/render/svg/362834b765239b64cf7719a3a3a04e172c883e3d)"
   ]
  },
  {
   "cell_type": "markdown",
   "metadata": {},
   "source": [
    "O que é densidade de probabilidade? Por qual motivo não utilizamos um valor de probabilidade?"
   ]
  },
  {
   "cell_type": "markdown",
   "metadata": {
    "id": "gUNlfiyvPQC5"
   },
   "source": [
    "Pra definir essa função, precisamos de uma média, representada pela letra grega mi e um desvio padrão, representado pela letra grega sigma."
   ]
  },
  {
   "cell_type": "markdown",
   "metadata": {
    "id": "eJWA9Jf2PQC5"
   },
   "source": [
    "Diferentemente da Função de Massa de Probabilidade, essa Função não retorna a probabilidade, mas um valor correspondente ao que se conhece por densidade. Para calcular a probabilidade temos que encontrar a área dentro do intervalo especificado."
   ]
  },
  {
   "cell_type": "markdown",
   "metadata": {
    "id": "LgXlMz7SPQC5"
   },
   "source": [
    "![](https://statistics.laerd.com/statistical-guides/img/normal-7.png)"
   ]
  },
  {
   "cell_type": "markdown",
   "metadata": {
    "id": "STcNDZ2EPQC6"
   },
   "source": [
    "Características interessantes:\n",
    "- A curva é simétrica em relação a média\n",
    "- A média, a moda e a mediana são iguais"
   ]
  },
  {
   "cell_type": "markdown",
   "metadata": {
    "id": "biGDin5xPQC6"
   },
   "source": [
    "Lembram do BoxPLot?"
   ]
  },
  {
   "cell_type": "markdown",
   "metadata": {
    "id": "Y6KGvLXdPQC6"
   },
   "source": [
    "![](https://jingwen-z.github.io/images/20190319-boxplot-vs-pdf.png)"
   ]
  },
  {
   "cell_type": "markdown",
   "metadata": {
    "id": "WLihzMTSPQC6"
   },
   "source": [
    "o IQR nos ajudava a localizar outliers na distribuição."
   ]
  },
  {
   "cell_type": "markdown",
   "metadata": {
    "id": "msKokCn_PQC6"
   },
   "source": [
    "A distribuição normal é amplamente usada, mas já pararam pra pensar o trampo que daria para calcular as áreas? Isso envolve o cálculo de integrais, que é algo do cálculo II."
   ]
  },
  {
   "cell_type": "markdown",
   "metadata": {
    "id": "LmEQVfPXPQC6"
   },
   "source": [
    "Será que existe um jeito mais fácil? Sim! Vamos ver como a curva normal padrão pode nos ajudar!"
   ]
  },
  {
   "cell_type": "markdown",
   "metadata": {
    "id": "PDzRxpSbPQC6"
   },
   "source": [
    "### Distribuição Normal Padrão"
   ]
  },
  {
   "cell_type": "markdown",
   "metadata": {
    "id": "_a0wa7oaPQC6"
   },
   "source": [
    "Os pesquisadores calcularam valores de probabilidade para uma curva específica normal. Essa curva possui média igual a 0 e desvio padrão igual a 1."
   ]
  },
  {
   "cell_type": "markdown",
   "metadata": {
    "id": "dImM4G1sPQC7"
   },
   "source": [
    "Tá, mas dificilmente nossas distribuições vão ter exatamente média 0 e desvio padrão 1, certo? Certo!"
   ]
  },
  {
   "cell_type": "markdown",
   "metadata": {
    "id": "uwzI_EoNPQC7"
   },
   "source": [
    "O pulo do gato é que qualquer distribuição normal poderá passar pelo processo de padronização, que ajustará os valores de tal forma que média seja igual a 0 e o desvio padrão seja igual a 1."
   ]
  },
  {
   "cell_type": "markdown",
   "metadata": {
    "id": "PvnNVDvePQC7"
   },
   "source": [
    "Para isso utilizamos a transformação abaixo:"
   ]
  },
  {
   "cell_type": "markdown",
   "metadata": {
    "id": "iaO0_Eq6PQC7"
   },
   "source": [
    "![](https://encrypted-tbn0.gstatic.com/images?q=tbn%3AANd9GcRKw5o96x3h5uI4_-LC9l-MANxreLjcFB_QdQ&usqp=CAU)"
   ]
  },
  {
   "cell_type": "markdown",
   "metadata": {
    "id": "8xSGNKCfPQC7"
   },
   "source": [
    "Vamos criar uma distribuição normal e padronizá-la!"
   ]
  },
  {
   "cell_type": "code",
   "execution_count": 2,
   "metadata": {},
   "outputs": [],
   "source": [
    "normal_dist = np.random.normal(50, 5, 3000)"
   ]
  },
  {
   "cell_type": "code",
   "execution_count": 11,
   "metadata": {},
   "outputs": [
    {
     "data": {
      "image/png": "[encoded data removed]",
      "text/plain": [
       "<Figure size 432x288 with 1 Axes>"
      ]
     },
     "metadata": {
      "needs_background": "light"
     },
     "output_type": "display_data"
    }
   ],
   "source": [
    "sns.histplot(normal_dist)\n",
    "plt.title('Curva Normal com Média = 50 e Desvio Padrão = 5')\n",
    "plt.show()"
   ]
  },
  {
   "cell_type": "code",
   "execution_count": 4,
   "metadata": {},
   "outputs": [],
   "source": [
    "# media \n",
    "media_normal = normal_dist.mean()\n",
    "# desvio \n",
    "desvio_normal = normal_dist.std()\n",
    "# padronização\n",
    "z_normal_dist = (normal_dist - media_normal)/desvio_normal"
   ]
  },
  {
   "cell_type": "code",
   "execution_count": 12,
   "metadata": {},
   "outputs": [
    {
     "data": {
      "image/png": "[encoded data removed]",
      "text/plain": [
       "<Figure size 432x288 with 1 Axes>"
      ]
     },
     "metadata": {
      "needs_background": "light"
     },
     "output_type": "display_data"
    }
   ],
   "source": [
    "sns.histplot(z_normal_dist)\n",
    "plt.title('Curva Normal com Média = 0 e Desvio Padrão = 1')\n",
    "plt.show()\n",
    "\n"
   ]
  },
  {
   "cell_type": "markdown",
   "metadata": {
    "id": "y8w5j9QyPQC-"
   },
   "source": [
    "Se quisermos saber, por exemplo, qual a probabilidade de observarmos valores menores que 45, transformamos 45 para Z score e usamos a função ```stats.norm.cdf``` para obter a probabilidade."
   ]
  },
  {
   "cell_type": "markdown",
   "metadata": {},
   "source": [
    "Antes disso, vamos ver como o python vai nos retornar as probabilidades"
   ]
  },
  {
   "cell_type": "markdown",
   "metadata": {},
   "source": [
    "![](https://i.stack.imgur.com/fGYNp.png)"
   ]
  },
  {
   "cell_type": "markdown",
   "metadata": {},
   "source": [
    "Acima temos uma curva normal padrão e temos um valor de x igual a 1.645, que é o Z score. Se quisermos descobrir a probabilidade de encontrarmos um valor < 1.645, usamos a função stats.norm.cdf, passando como argumento o valor do Z score."
   ]
  },
  {
   "cell_type": "code",
   "execution_count": 14,
   "metadata": {},
   "outputs": [
    {
     "data": {
      "text/plain": [
       "0.9500150944608786"
      ]
     },
     "execution_count": 14,
     "metadata": {},
     "output_type": "execute_result"
    }
   ],
   "source": [
    "stats.norm.cdf(1.645)"
   ]
  },
  {
   "cell_type": "markdown",
   "metadata": {},
   "source": [
    "Note que a probabilidade de encontrarmos um valor abaixo de 1.645 na curva normal padrão é de 95%"
   ]
  },
  {
   "cell_type": "markdown",
   "metadata": {},
   "source": [
    "Se quisermos saber o inverso"
   ]
  },
  {
   "cell_type": "code",
   "execution_count": 15,
   "metadata": {},
   "outputs": [
    {
     "data": {
      "text/plain": [
       "1.6448536269514722"
      ]
     },
     "execution_count": 15,
     "metadata": {},
     "output_type": "execute_result"
    }
   ],
   "source": [
    "stats.norm.ppf(0.95)"
   ]
  },
  {
   "cell_type": "markdown",
   "metadata": {},
   "source": [
    "Sendo assim, vamos calcular o Z score de 45 e usar nossa função ```stats.norm.cdf```"
   ]
  },
  {
   "cell_type": "code",
   "execution_count": 16,
   "metadata": {},
   "outputs": [],
   "source": [
    "z_45= (45-media_normal) / desvio_normal"
   ]
  },
  {
   "cell_type": "code",
   "execution_count": 17,
   "metadata": {},
   "outputs": [
    {
     "data": {
      "text/plain": [
       "0.1577700726901457"
      ]
     },
     "execution_count": 17,
     "metadata": {},
     "output_type": "execute_result"
    }
   ],
   "source": [
    "stats.norm.cdf(z_45)"
   ]
  },
  {
   "cell_type": "markdown",
   "metadata": {},
   "source": [
    "# Inferência Estatística Parte I"
   ]
  },
  {
   "cell_type": "markdown",
   "metadata": {},
   "source": [
    "## Amostragem"
   ]
  },
  {
   "cell_type": "markdown",
   "metadata": {},
   "source": [
    "![](https://sites.google.com/site/estatisticabasicacc/_/rsrc/1472780771430/conteudo/parte-2---inferencia/01---amostragem/Screenshot%20from%202015-10-13%2015%3A30%3A17.png)"
   ]
  },
  {
   "cell_type": "markdown",
   "metadata": {},
   "source": [
    "A Amostragem está mais presente no dia a dia do que você imagina! Duvida?"
   ]
  },
  {
   "cell_type": "markdown",
   "metadata": {},
   "source": [
    "Estamos realizando amostragem quando:\n",
    "- Experimentamos um pouco de comida para descobrir se está salgado demais\n",
    "- Bebemos um pequeno gole de café para descobrir se está muito quente"
   ]
  },
  {
   "cell_type": "markdown",
   "metadata": {},
   "source": [
    "Mas por qual motivo realizar uma amostragem é tão importante?"
   ]
  },
  {
   "cell_type": "markdown",
   "metadata": {},
   "source": [
    "A beleza de se utilizar uma amostra é poder inferir características da população que a originou! Mas por qual motivo nós simplesmente não utilizamos a população?"
   ]
  },
  {
   "cell_type": "markdown",
   "metadata": {},
   "source": [
    "Alguns motivos para que desejemos extrair amostras:\n",
    "- A coleta pode ser destrutiva\n",
    "- Coleta impossível\n",
    "- Coleta muito cara"
   ]
  },
  {
   "cell_type": "markdown",
   "metadata": {},
   "source": [
    "Como fazer ?"
   ]
  },
  {
   "cell_type": "markdown",
   "metadata": {},
   "source": [
    "Existem alguns tipos de amostragem. Duas delas são bastante utilizadas:\n",
    "- Aleatória\n"
   ]
  },
  {
   "cell_type": "markdown",
   "metadata": {},
   "source": [
    "<img src=https://cdn2.vectorstock.com/i/1000x1000/65/31/simple-random-sampling-method-in-statistics-vector-28746531.jpg height=400 width=400>"
   ]
  },
  {
   "cell_type": "markdown",
   "metadata": {},
   "source": [
    "Na amostragem aleatória, não olhamos pra qualquer característica dos dados. Tomamos uma decisão, de fato, completamente aleatória ao escolher os elementos da amostra."
   ]
  },
  {
   "cell_type": "markdown",
   "metadata": {},
   "source": [
    "* Estratificada"
   ]
  },
  {
   "cell_type": "markdown",
   "metadata": {},
   "source": [
    "<img src=https://thumbs.dreamstime.com/z/método-de-amostragem-estratificado-nas-estat%C3%ADsticas-investigação-sobre-recolha-dados-por-em-técnicas-pesquisa-cient%C3%ADfica-168640347.jpg height=400 width=400>"
   ]
  },
  {
   "cell_type": "markdown",
   "metadata": {},
   "source": [
    "Quando alguma característica da população é muito importante, queremos garantir sua representatividade na amostra. Para isso, utilizamos uma amostragem estratificada, que é aleatória dentro da característica de interesse."
   ]
  },
  {
   "cell_type": "markdown",
   "metadata": {},
   "source": [
    "No processo de amostragem, o que interessa é garantir representatividade!!!"
   ]
  },
  {
   "cell_type": "markdown",
   "metadata": {},
   "source": [
    "## Lei dos Grandes Números"
   ]
  },
  {
   "cell_type": "markdown",
   "metadata": {},
   "source": [
    "<img src=\"https://justflipacoin.com/img/share-a-coin.png\" width=300 height=300>"
   ]
  },
  {
   "cell_type": "markdown",
   "metadata": {},
   "source": [
    "Baseando-se na imagem abaixo, que lado da moeda vocês escolhem? Cara ou Coroa??? Por qual motivo??"
   ]
  },
  {
   "cell_type": "markdown",
   "metadata": {},
   "source": [
    "<img src=https://miro.medium.com/max/1400/0*9HhaHUzYJuHZ6I3b width=500 height=500>"
   ]
  },
  {
   "cell_type": "markdown",
   "metadata": {},
   "source": [
    "A lei dos grandes números fala que quanto mais experimentos fizermos, mais próximos da média real/teórica (valor esperado) chegaremos!"
   ]
  },
  {
   "cell_type": "code",
   "execution_count": null,
   "metadata": {},
   "outputs": [],
   "source": []
  },
  {
   "cell_type": "code",
   "execution_count": null,
   "metadata": {},
   "outputs": [],
   "source": []
  },
  {
   "cell_type": "code",
   "execution_count": null,
   "metadata": {},
   "outputs": [],
   "source": []
  },
  {
   "cell_type": "code",
   "execution_count": null,
   "metadata": {},
   "outputs": [],
   "source": []
  },
  {
   "cell_type": "code",
   "execution_count": null,
   "metadata": {},
   "outputs": [],
   "source": []
  },
  {
   "cell_type": "markdown",
   "metadata": {},
   "source": [
    "Note que quanto mais lançamentos fazemos, mais próximo de 0.5 se aproxima a média de ocorrências de Caras."
   ]
  },
  {
   "cell_type": "markdown",
   "metadata": {},
   "source": [
    "## Teorema do Limite Central"
   ]
  },
  {
   "cell_type": "markdown",
   "metadata": {},
   "source": [
    "Vamos definir uma distribuição qualquer"
   ]
  },
  {
   "cell_type": "code",
   "execution_count": null,
   "metadata": {},
   "outputs": [],
   "source": []
  },
  {
   "cell_type": "code",
   "execution_count": null,
   "metadata": {},
   "outputs": [],
   "source": []
  },
  {
   "cell_type": "code",
   "execution_count": null,
   "metadata": {},
   "outputs": [],
   "source": []
  },
  {
   "cell_type": "code",
   "execution_count": null,
   "metadata": {},
   "outputs": [],
   "source": []
  },
  {
   "cell_type": "code",
   "execution_count": null,
   "metadata": {},
   "outputs": [],
   "source": []
  },
  {
   "cell_type": "code",
   "execution_count": null,
   "metadata": {},
   "outputs": [],
   "source": []
  },
  {
   "cell_type": "code",
   "execution_count": null,
   "metadata": {},
   "outputs": [],
   "source": []
  },
  {
   "cell_type": "markdown",
   "metadata": {},
   "source": [
    "Agora, imagine que iremos coletar diversas amostras de tamanhos diferentes, n vezes. Ou seja, vamos repetir o experimento de amostragem n vezes."
   ]
  },
  {
   "cell_type": "markdown",
   "metadata": {},
   "source": [
    "De cada n amostras de tamanhos distintos, vamos extrair a média e observar sua distribuição."
   ]
  },
  {
   "cell_type": "markdown",
   "metadata": {},
   "source": [
    "![](https://cdn1.byjus.com/wp-content/uploads/2019/08/central-limit-theorem-formula.jpeg)"
   ]
  },
  {
   "cell_type": "markdown",
   "metadata": {},
   "source": [
    "A média da distribuição amostral é igual a média populacional e o desvio padrão amostral é igual ao desvio padrão populacional dividido pela raiz do número de elementos na amostra."
   ]
  },
  {
   "cell_type": "code",
   "execution_count": null,
   "metadata": {},
   "outputs": [],
   "source": []
  },
  {
   "cell_type": "code",
   "execution_count": null,
   "metadata": {},
   "outputs": [],
   "source": []
  },
  {
   "cell_type": "code",
   "execution_count": null,
   "metadata": {},
   "outputs": [],
   "source": []
  },
  {
   "cell_type": "code",
   "execution_count": null,
   "metadata": {},
   "outputs": [],
   "source": []
  },
  {
   "cell_type": "code",
   "execution_count": null,
   "metadata": {},
   "outputs": [],
   "source": []
  },
  {
   "cell_type": "code",
   "execution_count": null,
   "metadata": {},
   "outputs": [],
   "source": []
  },
  {
   "cell_type": "code",
   "execution_count": null,
   "metadata": {},
   "outputs": [],
   "source": []
  },
  {
   "cell_type": "markdown",
   "metadata": {},
   "source": [
    "## Intervalo de Confiança"
   ]
  },
  {
   "cell_type": "markdown",
   "metadata": {},
   "source": [
    "A estatística que estamos estudando é baseada em experimentos e amostras. As estimativas que criamos a partir de uma única amostra são pontuais."
   ]
  },
  {
   "cell_type": "markdown",
   "metadata": {},
   "source": [
    "Mas e se tivéssemos a oportunidade de repetir a coleta dessa amostra várias e várias vezes? Será que obteríamos os mesmos resultados? \n",
    "\n"
   ]
  },
  {
   "cell_type": "markdown",
   "metadata": {},
   "source": [
    "<i>Provavelmente não. </i>\n"
   ]
  },
  {
   "cell_type": "markdown",
   "metadata": {},
   "source": [
    "Nesse contexto, o Intervalo de Confiança surge como uma forma de se obter uma faixa de valores, dentro da qual a característica de interesse se encontra, com um dado <i>nível de confiança</i>."
   ]
  },
  {
   "cell_type": "markdown",
   "metadata": {},
   "source": [
    "![](https://i.stack.imgur.com/VUXj4.png)"
   ]
  },
  {
   "cell_type": "markdown",
   "metadata": {},
   "source": [
    "O que significa o <i>Nível de confiança?</i>"
   ]
  },
  {
   "cell_type": "markdown",
   "metadata": {},
   "source": [
    "O que significa dizer que A média está contida no intervalo [10, 20] com 95% de confiança"
   ]
  },
  {
   "cell_type": "markdown",
   "metadata": {},
   "source": [
    "Significa que há uma probabilidade de 95% da média estar entre 10 e 20!"
   ]
  },
  {
   "cell_type": "markdown",
   "metadata": {},
   "source": [
    "![](https://qi33nyo9wf-flywheel.netdna-ssl.com/blog-images/grraphh.png)"
   ]
  },
  {
   "cell_type": "markdown",
   "metadata": {},
   "source": [
    "**Exemplo prático**"
   ]
  },
  {
   "cell_type": "markdown",
   "metadata": {},
   "source": [
    "Em uma companhia aérea temos um vôo com 368 assentos, com um número de passagens vendidas de n=400. Sendo que a probabilidade de no-show é de 10%, e o custo de um passageiro excedente é de 1.000,00 Reais, com $ 0.95 $ de confiança, qual é a exposição financeira total da empresa aérea?"
   ]
  },
  {
   "cell_type": "code",
   "execution_count": null,
   "metadata": {},
   "outputs": [],
   "source": []
  },
  {
   "cell_type": "code",
   "execution_count": null,
   "metadata": {},
   "outputs": [],
   "source": []
  },
  {
   "cell_type": "code",
   "execution_count": null,
   "metadata": {},
   "outputs": [],
   "source": []
  },
  {
   "cell_type": "code",
   "execution_count": null,
   "metadata": {},
   "outputs": [],
   "source": []
  },
  {
   "cell_type": "code",
   "execution_count": null,
   "metadata": {},
   "outputs": [],
   "source": []
  },
  {
   "cell_type": "code",
   "execution_count": null,
   "metadata": {},
   "outputs": [],
   "source": []
  },
  {
   "cell_type": "code",
   "execution_count": null,
   "metadata": {},
   "outputs": [],
   "source": []
  },
  {
   "cell_type": "markdown",
   "metadata": {},
   "source": [
    "## Testes de Hipóteses"
   ]
  },
  {
   "cell_type": "markdown",
   "metadata": {},
   "source": [
    "### O que é um Teste de Hipótese"
   ]
  },
  {
   "cell_type": "markdown",
   "metadata": {},
   "source": [
    "Como falado anteriormente, muitas vezes é impossível obter a população inteira. Dessa forma, precisamos trabalhar com uma amostra, uma parte pertencente ao todo!"
   ]
  },
  {
   "cell_type": "markdown",
   "metadata": {},
   "source": [
    "Às vezes queremos/precisamos comparar populações ou temos alguma hipótese sobre os parâmetros de uma população e tudo que temos são amostras.\n",
    "Pois bem, o teste de hipótese nos fornece uma metodologia para que, a partir das evidências trazidas pela amostra, possamos concluir algo sobre a população."
   ]
  },
  {
   "cell_type": "markdown",
   "metadata": {},
   "source": [
    "### Um exemplo simples"
   ]
  },
  {
   "cell_type": "markdown",
   "metadata": {},
   "source": [
    "Uma certa reportagem de TV falou que o salário médio de um Cientista de Dados é 20 mil Reais. "
   ]
  },
  {
   "cell_type": "code",
   "execution_count": null,
   "metadata": {},
   "outputs": [],
   "source": []
  },
  {
   "cell_type": "code",
   "execution_count": null,
   "metadata": {},
   "outputs": [],
   "source": []
  },
  {
   "cell_type": "code",
   "execution_count": null,
   "metadata": {},
   "outputs": [],
   "source": []
  },
  {
   "cell_type": "code",
   "execution_count": null,
   "metadata": {},
   "outputs": [],
   "source": []
  },
  {
   "cell_type": "markdown",
   "metadata": {},
   "source": [
    "Será que é verdade?"
   ]
  },
  {
   "cell_type": "markdown",
   "metadata": {},
   "source": [
    "Você decide procurar no Glassdoor qual que é a média salarial para esse cargo. Dessa forma, você possui agora uma média amostral que aponta que o salário médio é 15 mil. E agora? Qual o real salário? Será que o valor obtido, 15 mil reais, não foi fruto do processo de amostragem?"
   ]
  },
  {
   "cell_type": "markdown",
   "metadata": {},
   "source": [
    "### Erro tipo I  & Erro do Tipo II"
   ]
  },
  {
   "cell_type": "markdown",
   "metadata": {},
   "source": [
    "Mesmo realizando um teste de hipótese, podemos chegar à conclusões erradas. Para o nosso exemplo, vamos estabelecer 2 hipóteses: \n"
   ]
  },
  {
   "cell_type": "markdown",
   "metadata": {},
   "source": [
    "**Hipótese 0** (também chamada de hipótese nula), é a afirmação que fazemos a respeito do parâmetro populacional.\n",
    "No nosso caso, nossa hipótese é que o salário é 20 mil Reais."
   ]
  },
  {
   "cell_type": "markdown",
   "metadata": {},
   "source": [
    "**Hipótese 1** (também chamada de hipótese alternativa), é a hipótese que iremos adotar, caso a hipótese 0, inicial, não se sustente estatísticamente."
   ]
  },
  {
   "cell_type": "markdown",
   "metadata": {},
   "source": [
    "![](https://encrypted-tbn0.gstatic.com/images?q=tbn%3AANd9GcQAxinK5rj3TUMHsLCblMOqULBXe7eGYKKN2g&usqp=CAU)"
   ]
  },
  {
   "cell_type": "markdown",
   "metadata": {},
   "source": [
    "**Erro Tipo I**: Rejeitar a H0 quando ela é verdadeira"
   ]
  },
  {
   "cell_type": "markdown",
   "metadata": {},
   "source": [
    "**Erro Tipo II**: Aceitar H0 quando ela é falsa"
   ]
  },
  {
   "cell_type": "markdown",
   "metadata": {},
   "source": [
    "O nível de significância, **Alfa**, vai ser a probabilidade de cometermos erro do tipo I."
   ]
  },
  {
   "cell_type": "markdown",
   "metadata": {},
   "source": [
    "* Alfa = 5%\n",
    "* Alfa = 1%"
   ]
  },
  {
   "cell_type": "markdown",
   "metadata": {},
   "source": [
    "<img src=\"https://educationalresearchtechniques.files.wordpress.com/2016/02/1.png?w=624\">"
   ]
  },
  {
   "cell_type": "markdown",
   "metadata": {},
   "source": [
    "A área que corresponde à probabilidade de 5% é conhecida como região crítica"
   ]
  },
  {
   "cell_type": "markdown",
   "metadata": {},
   "source": [
    "Para o erro tipo II, o que influencia é o tamanho da amostra e o tamanho do efeito a ser observado."
   ]
  },
  {
   "cell_type": "markdown",
   "metadata": {},
   "source": [
    "Quanto maior o tamanho da amostra, menor a variância, como vimos de acordo com o TLC. Menos achatada é a curva e menos sobreposição. Da mesma forma, quanto maior for o tamanho do efeito que se queira observar, menor a probabilidade de erro tipo II."
   ]
  },
  {
   "cell_type": "markdown",
   "metadata": {},
   "source": [
    "![](https://www.ijam-web.org/articles/2017/3/2/images/IntJAcadMed_2017_3_2_268_222485_f1.jpg)"
   ]
  },
  {
   "cell_type": "markdown",
   "metadata": {},
   "source": [
    "Se continuamos com o mesmo tamanho de amostra e diminuímos a probabilidade de erro tipo I, automaticamente aumentamos a probabilidade de erro tipo II."
   ]
  },
  {
   "cell_type": "markdown",
   "metadata": {},
   "source": [
    "![](https://upload.wikimedia.org/wikipedia/commons/0/0d/Teste-de-hipóteses.gif)"
   ]
  },
  {
   "cell_type": "markdown",
   "metadata": {},
   "source": [
    "### P- valor\n",
    "\n"
   ]
  },
  {
   "cell_type": "markdown",
   "metadata": {},
   "source": [
    "Quem é o p-valor na fila do pão?"
   ]
  },
  {
   "cell_type": "markdown",
   "metadata": {},
   "source": [
    "Bom, dado que definimos nossas hipóteses  e nossa probabilidade de erro do tipo I chegou a hora de realmente testar a hipótese."
   ]
  },
  {
   "cell_type": "markdown",
   "metadata": {},
   "source": [
    "O cálculo gira em torno de descobrir qual é a **probabilidade de observamos uma estatística ou efeito tão grande quanto o que estamos observando na nossa amostra, dada que a hipótese nula é verdadeira.**"
   ]
  },
  {
   "cell_type": "markdown",
   "metadata": {},
   "source": [
    "* Se p-value <= nível de significância, rejeitamos a hipótese nula e aceitamos a hipótese alternativa\n",
    "* se p-value  nível de significância, não temos evidência suficiente para rejeitar a hipótese nula."
   ]
  },
  {
   "cell_type": "markdown",
   "metadata": {},
   "source": [
    "### Metodologia Genérica do Teste de Hipótese"
   ]
  },
  {
   "cell_type": "markdown",
   "metadata": {},
   "source": [
    "* Passo 1: Fixar as hipóteses Nula e Alternativa"
   ]
  },
  {
   "cell_type": "markdown",
   "metadata": {},
   "source": [
    "No primeiro passo, temos que definir se iremos realizar um tese unilateral ou bilateral."
   ]
  },
  {
   "cell_type": "markdown",
   "metadata": {},
   "source": [
    "unilateral será quando quisermos testar se a estatística da amostra é maior ou menor que o parâmetro da população, isoladamente."
   ]
  },
  {
   "cell_type": "markdown",
   "metadata": {},
   "source": [
    "bilateral será quando quisermos testar que a estatística da amostra é diferente, sendo as condições de maior ou menor testadas simultaneamente."
   ]
  },
  {
   "cell_type": "markdown",
   "metadata": {},
   "source": [
    "![](https://oestatistico.com.br/wp-content/uploads/2016/01/poder-teste-oestatistico.jpg)"
   ]
  },
  {
   "cell_type": "markdown",
   "metadata": {},
   "source": [
    "* Passo 2: Fixar o nível de significância, alfa"
   ]
  },
  {
   "cell_type": "markdown",
   "metadata": {},
   "source": [
    "* Passo 3: Calcular a estatística de interesse a partir de uma amostra."
   ]
  },
  {
   "cell_type": "markdown",
   "metadata": {},
   "source": [
    "* Passo 4: Calcular o p-valor para essa estatística e decidir qual hipótese se mantém."
   ]
  },
  {
   "cell_type": "markdown",
   "metadata": {},
   "source": [
    "## Exemplos Práticos"
   ]
  },
  {
   "cell_type": "markdown",
   "metadata": {},
   "source": [
    "### Teste para a Média"
   ]
  },
  {
   "cell_type": "markdown",
   "metadata": {},
   "source": [
    "Uma máquina que enche pacotes de café com variância de 400g2 estava regulada para encher pacotes com 500g. Você decide coletar uma amostra de 16 pacotes e checar se a máquiina ainda está regulada. A amostra de 16 pacotes possui média de 492g. Baseando-se nisso, você para a produção de café para regular a máquina?"
   ]
  },
  {
   "cell_type": "code",
   "execution_count": null,
   "metadata": {},
   "outputs": [],
   "source": []
  },
  {
   "cell_type": "code",
   "execution_count": null,
   "metadata": {},
   "outputs": [],
   "source": []
  },
  {
   "cell_type": "code",
   "execution_count": null,
   "metadata": {},
   "outputs": [],
   "source": []
  },
  {
   "cell_type": "code",
   "execution_count": null,
   "metadata": {},
   "outputs": [],
   "source": []
  },
  {
   "cell_type": "code",
   "execution_count": null,
   "metadata": {},
   "outputs": [],
   "source": []
  },
  {
   "cell_type": "markdown",
   "metadata": {},
   "source": [
    "Vamos definir nossas hipóteses"
   ]
  },
  {
   "cell_type": "markdown",
   "metadata": {},
   "source": [
    "**H0**: u = 500g<br>\n",
    "**H1**: u != 500g"
   ]
  },
  {
   "cell_type": "markdown",
   "metadata": {},
   "source": [
    "Do teorema do limite central, temos que:"
   ]
  },
  {
   "cell_type": "markdown",
   "metadata": {},
   "source": [
    "![](https://cdn1.byjus.com/wp-content/uploads/2019/08/central-limit-theorem-formula.jpeg)"
   ]
  },
  {
   "cell_type": "markdown",
   "metadata": {},
   "source": [
    "Como temos n = 16:"
   ]
  },
  {
   "cell_type": "code",
   "execution_count": null,
   "metadata": {},
   "outputs": [],
   "source": []
  },
  {
   "cell_type": "code",
   "execution_count": null,
   "metadata": {},
   "outputs": [],
   "source": []
  },
  {
   "cell_type": "code",
   "execution_count": null,
   "metadata": {},
   "outputs": [],
   "source": []
  },
  {
   "cell_type": "code",
   "execution_count": null,
   "metadata": {},
   "outputs": [],
   "source": []
  },
  {
   "cell_type": "markdown",
   "metadata": {},
   "source": [
    "Então, nossa distribuição amostral da média tem média 500 e desvio padrão 5."
   ]
  },
  {
   "cell_type": "markdown",
   "metadata": {},
   "source": [
    "Vamos fixar nosso nível de significância em 0.01. Note que é um teste bilateral."
   ]
  },
  {
   "cell_type": "markdown",
   "metadata": {},
   "source": [
    "Agora precisamos calcular a probabilidade (p valor) de encontrarmos um valor de média > 492 ou <492 , numa distribuição de média 500 e desvio padrão 5. Esse será nosso p-valor."
   ]
  },
  {
   "cell_type": "markdown",
   "metadata": {},
   "source": [
    "Primeiro, iremos calcular a probabilidade de ser < 492."
   ]
  },
  {
   "cell_type": "markdown",
   "metadata": {},
   "source": [
    "Vamos transformar nosso 492 em Z Score e calcular a probabilidade usando o scipy."
   ]
  },
  {
   "cell_type": "code",
   "execution_count": null,
   "metadata": {},
   "outputs": [],
   "source": []
  },
  {
   "cell_type": "code",
   "execution_count": null,
   "metadata": {},
   "outputs": [],
   "source": []
  },
  {
   "cell_type": "code",
   "execution_count": null,
   "metadata": {},
   "outputs": [],
   "source": []
  },
  {
   "cell_type": "code",
   "execution_count": null,
   "metadata": {},
   "outputs": [],
   "source": []
  },
  {
   "cell_type": "markdown",
   "metadata": {},
   "source": [
    "![](https://encrypted-tbn0.gstatic.com/images?q=tbn%3AANd9GcQ4eNsKX20I2nZpf5QnJFDanHBKferFhH86-Q&usqp=CAU)"
   ]
  },
  {
   "cell_type": "markdown",
   "metadata": {},
   "source": [
    "Como o teste é bilateral, teremos que dividir a área de 1% (nível de significância em 2). Para cada lado, precisaremos encontrar o Z score equivalente."
   ]
  },
  {
   "cell_type": "markdown",
   "metadata": {},
   "source": [
    "Para calcular Z a esquerda, precisaremos descobrir que valor de Z nos traz 0.005% dos dados a esquerda."
   ]
  },
  {
   "cell_type": "code",
   "execution_count": null,
   "metadata": {},
   "outputs": [],
   "source": []
  },
  {
   "cell_type": "code",
   "execution_count": null,
   "metadata": {},
   "outputs": [],
   "source": []
  },
  {
   "cell_type": "code",
   "execution_count": null,
   "metadata": {},
   "outputs": [],
   "source": []
  },
  {
   "cell_type": "code",
   "execution_count": null,
   "metadata": {},
   "outputs": [],
   "source": []
  },
  {
   "cell_type": "code",
   "execution_count": null,
   "metadata": {},
   "outputs": [],
   "source": []
  },
  {
   "cell_type": "markdown",
   "metadata": {},
   "source": [
    "Como  são sempre simétricos, Z à direita será igual a Z_esquerdo, porém positivo."
   ]
  },
  {
   "cell_type": "code",
   "execution_count": null,
   "metadata": {},
   "outputs": [],
   "source": []
  },
  {
   "cell_type": "code",
   "execution_count": null,
   "metadata": {},
   "outputs": [],
   "source": []
  },
  {
   "cell_type": "code",
   "execution_count": null,
   "metadata": {},
   "outputs": [],
   "source": []
  },
  {
   "cell_type": "markdown",
   "metadata": {},
   "source": [
    "Note que a região crítica do teste é aquela em que <= -2.57 e >= 2.57"
   ]
  },
  {
   "cell_type": "markdown",
   "metadata": {},
   "source": [
    "Nosso Z_492, porém, vale -1.6. Ou seja, é maior que -2.57 e menor que 2.57. Sendo assim, não cai dentro da região crítica."
   ]
  },
  {
   "cell_type": "markdown",
   "metadata": {},
   "source": [
    "Ou seja, cai dentro da região de aceitação do teste, indicando que devemos aceitar a hipótese nula, nesse caso e afirmar que"
   ]
  },
  {
   "cell_type": "markdown",
   "metadata": {},
   "source": [
    "Vamos calcular o p valor?"
   ]
  },
  {
   "cell_type": "code",
   "execution_count": null,
   "metadata": {},
   "outputs": [],
   "source": []
  },
  {
   "cell_type": "code",
   "execution_count": null,
   "metadata": {},
   "outputs": [],
   "source": []
  },
  {
   "cell_type": "code",
   "execution_count": null,
   "metadata": {},
   "outputs": [],
   "source": []
  },
  {
   "cell_type": "markdown",
   "metadata": {},
   "source": [
    "Note que 0.054 é maior que 0.005, que é a área da região crítica à esquerda."
   ]
  },
  {
   "cell_type": "markdown",
   "metadata": {},
   "source": [
    "Dessa forma, quando p-valor > nível de significância, não rejeitamos a hipótese nula."
   ]
  }
 ],
 "metadata": {
  "colab": {
   "name": "DSTN07 -  Estatística Descritiva - Parte II.ipynb",
   "provenance": []
  },
  "kernelspec": {
   "display_name": "Python 3 (ipykernel)",
   "language": "python",
   "name": "python3"
  },
  "language_info": {
   "codemirror_mode": {
    "name": "ipython",
    "version": 3
   },
   "file_extension": ".py",
   "mimetype": "text/x-python",
   "name": "python",
   "nbconvert_exporter": "python",
   "pygments_lexer": "ipython3",
   "version": "3.9.12"
  },
  "toc": {
   "base_numbering": 1,
   "nav_menu": {},
   "number_sections": true,
   "sideBar": true,
   "skip_h1_title": false,
   "title_cell": "Table of Contents",
   "title_sidebar": "Contents",
   "toc_cell": false,
   "toc_position": {
    "height": "calc(100% - 180px)",
    "left": "10px",
    "top": "150px",
    "width": "210.33087158203125px"
   },
   "toc_section_display": true,
   "toc_window_display": true
  }
 },
 "nbformat": 4,
 "nbformat_minor": 1
}
