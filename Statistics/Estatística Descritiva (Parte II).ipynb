{
 "cells": [
  {
   "cell_type": "markdown",
   "metadata": {
    "id": "t1RW2-5fPQBi"
   },
   "source": [
    "Hoje continuaremos com associações entre variáveis e depois conheceremos um pouco sobre distribuições de probabilidade."
   ]
  },
  {
   "cell_type": "code",
   "execution_count": 1,
   "metadata": {
    "executionInfo": {
     "elapsed": 1783,
     "status": "ok",
     "timestamp": 1604534846652,
     "user": {
      "displayName": "Bruno Carlos Vieira dos Santos",
      "photoUrl": "https://lh3.googleusercontent.com/a-/AOh14GjyjhO1J7E4_amgTO6tdRfjO7rX05VY1sZ1CCHw=s64",
      "userId": "03042938749526543894"
     },
     "user_tz": 180
    },
    "id": "N7zCWDyTPQBj"
   },
   "outputs": [],
   "source": [
    "import pandas as pd\n",
    "import numpy as np\n",
    "from scipy import stats\n",
    "import matplotlib.pyplot as plt\n",
    "import seaborn as sns\n",
    "import math\n",
    "from collections import Counter\n",
    "from scipy.stats import bernoulli"
   ]
  },
  {
   "cell_type": "markdown",
   "metadata": {
    "id": "9w5yV2IEPQBq"
   },
   "source": [
    "**Tópicos**:\n",
    " \n",
    " - Análise Bidimensional:\n",
    "     - Associação Entre Variáveis Quantitativas (parte II)\n",
    "         - Correlação de Spearman\n",
    "         - Spearman vs Pearson\n",
    "     - Associação Entre Variáveis Qualitativas e Quantitativas\n",
    "          - Correlação Point-Biserial\n",
    "          - R2\n",
    "          \n",
    " - Distribuições de Probabilidade\n",
    "     - O que são Distribuições de Probabilidade\n",
    "     - Distribuições Discretas\n",
    "         - Distribuição de Bernoulli\n",
    "         - Distribuição Binomial\n",
    "     - Distribuições Contínuas\n",
    "         - Distribuição Normal\n",
    "         - Distribuição Normal Padrão\n",
    " - Exercício\n"
   ]
  },
  {
   "cell_type": "markdown",
   "metadata": {
    "id": "lhQY5-tGPQBr"
   },
   "source": [
    "# Análise Bidimensional"
   ]
  },
  {
   "cell_type": "markdown",
   "metadata": {
    "id": "S6YZ0wL1PQBs"
   },
   "source": [
    "Vamos continuar com os estudos sobre análise bidimensional, olhando para associações entre variáveis quantitativas."
   ]
  },
  {
   "cell_type": "markdown",
   "metadata": {
    "id": "7lIUm9HlPQBs"
   },
   "source": [
    "## Associação Entre Variáveis Quantitativas (parte II)"
   ]
  },
  {
   "cell_type": "markdown",
   "metadata": {
    "id": "m5PthEwbPQBt"
   },
   "source": [
    "Vimos a correlação de Pearson e como ela pode ser calculada com numpy e pandas. Agora, será introduzido um novo meio de medir essa relação, que apresenta algumas vantagens. Vimos que a correlação de pearson varia de  -1 a 1 e que esta mede a relação <i>linear</i> entre variáveis quantitativas. Mas e se a relação não for linear? Bom, aí podemos utilizar a correlação de Spearman."
   ]
  },
  {
   "cell_type": "markdown",
   "metadata": {
    "id": "yhTbTrxCPQBu"
   },
   "source": [
    "## Correlação de Spearman"
   ]
  },
  {
   "cell_type": "markdown",
   "metadata": {
    "id": "NTJiZd0SPQBu"
   },
   "source": [
    "Para calcular a correlação de Spearman, vamo seguir o passo a passo:"
   ]
  },
  {
   "cell_type": "markdown",
   "metadata": {
    "id": "h_zpeWRtPQBv"
   },
   "source": [
    "<ol>\n",
    "    <li> Extrair o ranking de valores para as variáveis</li>\n",
    "    <li> Calcular a distância dos rankings </li>\n",
    "    <li> Calcular a distância ao quadrado</li>\n",
    "    <li> Aplicar a equação de Spearman </li>\n",
    "</ol>"
   ]
  },
  {
   "cell_type": "code",
   "execution_count": 2,
   "metadata": {},
   "outputs": [
    {
     "data": {
      "text/html": [
       "<div>\n",
       "<style scoped>\n",
       "    .dataframe tbody tr th:only-of-type {\n",
       "        vertical-align: middle;\n",
       "    }\n",
       "\n",
       "    .dataframe tbody tr th {\n",
       "        vertical-align: top;\n",
       "    }\n",
       "\n",
       "    .dataframe thead th {\n",
       "        text-align: right;\n",
       "    }\n",
       "</style>\n",
       "<table border=\"1\" class=\"dataframe\">\n",
       "  <thead>\n",
       "    <tr style=\"text-align: right;\">\n",
       "      <th></th>\n",
       "      <th>x</th>\n",
       "      <th>y</th>\n",
       "    </tr>\n",
       "  </thead>\n",
       "  <tbody>\n",
       "    <tr>\n",
       "      <th>0</th>\n",
       "      <td>73</td>\n",
       "      <td>77</td>\n",
       "    </tr>\n",
       "    <tr>\n",
       "      <th>1</th>\n",
       "      <td>76</td>\n",
       "      <td>78</td>\n",
       "    </tr>\n",
       "    <tr>\n",
       "      <th>2</th>\n",
       "      <td>78</td>\n",
       "      <td>79</td>\n",
       "    </tr>\n",
       "    <tr>\n",
       "      <th>3</th>\n",
       "      <td>65</td>\n",
       "      <td>80</td>\n",
       "    </tr>\n",
       "    <tr>\n",
       "      <th>4</th>\n",
       "      <td>86</td>\n",
       "      <td>86</td>\n",
       "    </tr>\n",
       "    <tr>\n",
       "      <th>5</th>\n",
       "      <td>82</td>\n",
       "      <td>89</td>\n",
       "    </tr>\n",
       "    <tr>\n",
       "      <th>6</th>\n",
       "      <td>91</td>\n",
       "      <td>95</td>\n",
       "    </tr>\n",
       "  </tbody>\n",
       "</table>\n",
       "</div>"
      ],
      "text/plain": [
       "    x   y\n",
       "0  73  77\n",
       "1  76  78\n",
       "2  78  79\n",
       "3  65  80\n",
       "4  86  86\n",
       "5  82  89\n",
       "6  91  95"
      ]
     },
     "execution_count": 2,
     "metadata": {},
     "output_type": "execute_result"
    }
   ],
   "source": [
    "# Dados para teste\n",
    "df_spearman = pd.DataFrame({'x':[73, 76, 78, 65, 86, 82, 91],\n",
    "                            'y':[77, 78, 79, 80, 86, 89, 95]})\n",
    "df_spearman"
   ]
  },
  {
   "cell_type": "markdown",
   "metadata": {
    "id": "EbC4JZ7ePQBz"
   },
   "source": [
    "**1. Extrair o ranking de valores para as variáveis**"
   ]
  },
  {
   "cell_type": "markdown",
   "metadata": {
    "id": "kJmj6hKkPQB0"
   },
   "source": [
    "Vamos extrair o ranking de cada valor em relação às suas respectivas colunas."
   ]
  },
  {
   "cell_type": "code",
   "execution_count": 3,
   "metadata": {},
   "outputs": [],
   "source": [
    "df_spearman['x_rank'] = df_spearman['x'].rank(ascending = False)\n",
    "df_spearman['y_rank'] = df_spearman['y'].rank(ascending = False)"
   ]
  },
  {
   "cell_type": "code",
   "execution_count": 4,
   "metadata": {},
   "outputs": [
    {
     "data": {
      "text/html": [
       "<div>\n",
       "<style scoped>\n",
       "    .dataframe tbody tr th:only-of-type {\n",
       "        vertical-align: middle;\n",
       "    }\n",
       "\n",
       "    .dataframe tbody tr th {\n",
       "        vertical-align: top;\n",
       "    }\n",
       "\n",
       "    .dataframe thead th {\n",
       "        text-align: right;\n",
       "    }\n",
       "</style>\n",
       "<table border=\"1\" class=\"dataframe\">\n",
       "  <thead>\n",
       "    <tr style=\"text-align: right;\">\n",
       "      <th></th>\n",
       "      <th>x</th>\n",
       "      <th>y</th>\n",
       "      <th>x_rank</th>\n",
       "      <th>y_rank</th>\n",
       "    </tr>\n",
       "  </thead>\n",
       "  <tbody>\n",
       "    <tr>\n",
       "      <th>0</th>\n",
       "      <td>73</td>\n",
       "      <td>77</td>\n",
       "      <td>6.0</td>\n",
       "      <td>7.0</td>\n",
       "    </tr>\n",
       "    <tr>\n",
       "      <th>1</th>\n",
       "      <td>76</td>\n",
       "      <td>78</td>\n",
       "      <td>5.0</td>\n",
       "      <td>6.0</td>\n",
       "    </tr>\n",
       "    <tr>\n",
       "      <th>2</th>\n",
       "      <td>78</td>\n",
       "      <td>79</td>\n",
       "      <td>4.0</td>\n",
       "      <td>5.0</td>\n",
       "    </tr>\n",
       "    <tr>\n",
       "      <th>3</th>\n",
       "      <td>65</td>\n",
       "      <td>80</td>\n",
       "      <td>7.0</td>\n",
       "      <td>4.0</td>\n",
       "    </tr>\n",
       "    <tr>\n",
       "      <th>4</th>\n",
       "      <td>86</td>\n",
       "      <td>86</td>\n",
       "      <td>2.0</td>\n",
       "      <td>3.0</td>\n",
       "    </tr>\n",
       "    <tr>\n",
       "      <th>5</th>\n",
       "      <td>82</td>\n",
       "      <td>89</td>\n",
       "      <td>3.0</td>\n",
       "      <td>2.0</td>\n",
       "    </tr>\n",
       "    <tr>\n",
       "      <th>6</th>\n",
       "      <td>91</td>\n",
       "      <td>95</td>\n",
       "      <td>1.0</td>\n",
       "      <td>1.0</td>\n",
       "    </tr>\n",
       "  </tbody>\n",
       "</table>\n",
       "</div>"
      ],
      "text/plain": [
       "    x   y  x_rank  y_rank\n",
       "0  73  77     6.0     7.0\n",
       "1  76  78     5.0     6.0\n",
       "2  78  79     4.0     5.0\n",
       "3  65  80     7.0     4.0\n",
       "4  86  86     2.0     3.0\n",
       "5  82  89     3.0     2.0\n",
       "6  91  95     1.0     1.0"
      ]
     },
     "execution_count": 4,
     "metadata": {},
     "output_type": "execute_result"
    }
   ],
   "source": [
    "df_spearman"
   ]
  },
  {
   "cell_type": "markdown",
   "metadata": {
    "id": "0LHsfGuiPQB5"
   },
   "source": [
    "**2. Calcular a distância dos rankings**"
   ]
  },
  {
   "cell_type": "markdown",
   "metadata": {
    "id": "-vicYyAPPQB5"
   },
   "source": [
    "Agora vamos calcular as diferenças de ranking por linhas."
   ]
  },
  {
   "cell_type": "code",
   "execution_count": 5,
   "metadata": {},
   "outputs": [
    {
     "data": {
      "text/html": [
       "<div>\n",
       "<style scoped>\n",
       "    .dataframe tbody tr th:only-of-type {\n",
       "        vertical-align: middle;\n",
       "    }\n",
       "\n",
       "    .dataframe tbody tr th {\n",
       "        vertical-align: top;\n",
       "    }\n",
       "\n",
       "    .dataframe thead th {\n",
       "        text-align: right;\n",
       "    }\n",
       "</style>\n",
       "<table border=\"1\" class=\"dataframe\">\n",
       "  <thead>\n",
       "    <tr style=\"text-align: right;\">\n",
       "      <th></th>\n",
       "      <th>x</th>\n",
       "      <th>y</th>\n",
       "      <th>x_rank</th>\n",
       "      <th>y_rank</th>\n",
       "      <th>d</th>\n",
       "    </tr>\n",
       "  </thead>\n",
       "  <tbody>\n",
       "    <tr>\n",
       "      <th>0</th>\n",
       "      <td>73</td>\n",
       "      <td>77</td>\n",
       "      <td>6.0</td>\n",
       "      <td>7.0</td>\n",
       "      <td>-1.0</td>\n",
       "    </tr>\n",
       "    <tr>\n",
       "      <th>1</th>\n",
       "      <td>76</td>\n",
       "      <td>78</td>\n",
       "      <td>5.0</td>\n",
       "      <td>6.0</td>\n",
       "      <td>-1.0</td>\n",
       "    </tr>\n",
       "    <tr>\n",
       "      <th>2</th>\n",
       "      <td>78</td>\n",
       "      <td>79</td>\n",
       "      <td>4.0</td>\n",
       "      <td>5.0</td>\n",
       "      <td>-1.0</td>\n",
       "    </tr>\n",
       "    <tr>\n",
       "      <th>3</th>\n",
       "      <td>65</td>\n",
       "      <td>80</td>\n",
       "      <td>7.0</td>\n",
       "      <td>4.0</td>\n",
       "      <td>3.0</td>\n",
       "    </tr>\n",
       "    <tr>\n",
       "      <th>4</th>\n",
       "      <td>86</td>\n",
       "      <td>86</td>\n",
       "      <td>2.0</td>\n",
       "      <td>3.0</td>\n",
       "      <td>-1.0</td>\n",
       "    </tr>\n",
       "    <tr>\n",
       "      <th>5</th>\n",
       "      <td>82</td>\n",
       "      <td>89</td>\n",
       "      <td>3.0</td>\n",
       "      <td>2.0</td>\n",
       "      <td>1.0</td>\n",
       "    </tr>\n",
       "    <tr>\n",
       "      <th>6</th>\n",
       "      <td>91</td>\n",
       "      <td>95</td>\n",
       "      <td>1.0</td>\n",
       "      <td>1.0</td>\n",
       "      <td>0.0</td>\n",
       "    </tr>\n",
       "  </tbody>\n",
       "</table>\n",
       "</div>"
      ],
      "text/plain": [
       "    x   y  x_rank  y_rank    d\n",
       "0  73  77     6.0     7.0 -1.0\n",
       "1  76  78     5.0     6.0 -1.0\n",
       "2  78  79     4.0     5.0 -1.0\n",
       "3  65  80     7.0     4.0  3.0\n",
       "4  86  86     2.0     3.0 -1.0\n",
       "5  82  89     3.0     2.0  1.0\n",
       "6  91  95     1.0     1.0  0.0"
      ]
     },
     "execution_count": 5,
     "metadata": {},
     "output_type": "execute_result"
    }
   ],
   "source": [
    "df_spearman['d'] = df_spearman['x_rank'] - df_spearman['y_rank']\n",
    "df_spearman"
   ]
  },
  {
   "cell_type": "markdown",
   "metadata": {
    "id": "At4pyJjkPQB7"
   },
   "source": [
    "**3. Calcular a distância ao quadrado**"
   ]
  },
  {
   "cell_type": "code",
   "execution_count": 6,
   "metadata": {},
   "outputs": [
    {
     "data": {
      "text/html": [
       "<div>\n",
       "<style scoped>\n",
       "    .dataframe tbody tr th:only-of-type {\n",
       "        vertical-align: middle;\n",
       "    }\n",
       "\n",
       "    .dataframe tbody tr th {\n",
       "        vertical-align: top;\n",
       "    }\n",
       "\n",
       "    .dataframe thead th {\n",
       "        text-align: right;\n",
       "    }\n",
       "</style>\n",
       "<table border=\"1\" class=\"dataframe\">\n",
       "  <thead>\n",
       "    <tr style=\"text-align: right;\">\n",
       "      <th></th>\n",
       "      <th>x</th>\n",
       "      <th>y</th>\n",
       "      <th>x_rank</th>\n",
       "      <th>y_rank</th>\n",
       "      <th>d</th>\n",
       "      <th>d2</th>\n",
       "    </tr>\n",
       "  </thead>\n",
       "  <tbody>\n",
       "    <tr>\n",
       "      <th>0</th>\n",
       "      <td>73</td>\n",
       "      <td>77</td>\n",
       "      <td>6.0</td>\n",
       "      <td>7.0</td>\n",
       "      <td>-1.0</td>\n",
       "      <td>1.0</td>\n",
       "    </tr>\n",
       "    <tr>\n",
       "      <th>1</th>\n",
       "      <td>76</td>\n",
       "      <td>78</td>\n",
       "      <td>5.0</td>\n",
       "      <td>6.0</td>\n",
       "      <td>-1.0</td>\n",
       "      <td>1.0</td>\n",
       "    </tr>\n",
       "    <tr>\n",
       "      <th>2</th>\n",
       "      <td>78</td>\n",
       "      <td>79</td>\n",
       "      <td>4.0</td>\n",
       "      <td>5.0</td>\n",
       "      <td>-1.0</td>\n",
       "      <td>1.0</td>\n",
       "    </tr>\n",
       "    <tr>\n",
       "      <th>3</th>\n",
       "      <td>65</td>\n",
       "      <td>80</td>\n",
       "      <td>7.0</td>\n",
       "      <td>4.0</td>\n",
       "      <td>3.0</td>\n",
       "      <td>9.0</td>\n",
       "    </tr>\n",
       "    <tr>\n",
       "      <th>4</th>\n",
       "      <td>86</td>\n",
       "      <td>86</td>\n",
       "      <td>2.0</td>\n",
       "      <td>3.0</td>\n",
       "      <td>-1.0</td>\n",
       "      <td>1.0</td>\n",
       "    </tr>\n",
       "    <tr>\n",
       "      <th>5</th>\n",
       "      <td>82</td>\n",
       "      <td>89</td>\n",
       "      <td>3.0</td>\n",
       "      <td>2.0</td>\n",
       "      <td>1.0</td>\n",
       "      <td>1.0</td>\n",
       "    </tr>\n",
       "    <tr>\n",
       "      <th>6</th>\n",
       "      <td>91</td>\n",
       "      <td>95</td>\n",
       "      <td>1.0</td>\n",
       "      <td>1.0</td>\n",
       "      <td>0.0</td>\n",
       "      <td>0.0</td>\n",
       "    </tr>\n",
       "  </tbody>\n",
       "</table>\n",
       "</div>"
      ],
      "text/plain": [
       "    x   y  x_rank  y_rank    d   d2\n",
       "0  73  77     6.0     7.0 -1.0  1.0\n",
       "1  76  78     5.0     6.0 -1.0  1.0\n",
       "2  78  79     4.0     5.0 -1.0  1.0\n",
       "3  65  80     7.0     4.0  3.0  9.0\n",
       "4  86  86     2.0     3.0 -1.0  1.0\n",
       "5  82  89     3.0     2.0  1.0  1.0\n",
       "6  91  95     1.0     1.0  0.0  0.0"
      ]
     },
     "execution_count": 6,
     "metadata": {},
     "output_type": "execute_result"
    }
   ],
   "source": [
    "df_spearman['d2'] = df_spearman['d']**2\n",
    "df_spearman"
   ]
  },
  {
   "cell_type": "markdown",
   "metadata": {
    "id": "U-YT-zTbPQB-"
   },
   "source": [
    "**4. Aplicar a equação de Spearman**"
   ]
  },
  {
   "cell_type": "markdown",
   "metadata": {
    "id": "CKXMcQuDPQB-"
   },
   "source": [
    "<img src=\"https://bloqm.files.wordpress.com/2013/10/rho-de-spearman.jpg\" height=300 width=300>"
   ]
  },
  {
   "cell_type": "code",
   "execution_count": 7,
   "metadata": {},
   "outputs": [],
   "source": [
    "sum_d2 = df_spearman['d2'].sum()\n",
    "n = len(df_spearman)\n",
    "rs = 1 - (6*sum_d2)/(n*(n**2-1))"
   ]
  },
  {
   "cell_type": "code",
   "execution_count": 8,
   "metadata": {},
   "outputs": [
    {
     "data": {
      "text/plain": [
       "0.75"
      ]
     },
     "execution_count": 8,
     "metadata": {},
     "output_type": "execute_result"
    }
   ],
   "source": [
    "rs"
   ]
  },
  {
   "cell_type": "markdown",
   "metadata": {
    "id": "uDGrXLDxPQCB"
   },
   "source": [
    "Vamos validar nosso método, comparando-o com o resultado obtido pelo método ```.corr(method='spearman')``` do pandas"
   ]
  },
  {
   "cell_type": "code",
   "execution_count": 9,
   "metadata": {},
   "outputs": [
    {
     "data": {
      "text/html": [
       "<div>\n",
       "<style scoped>\n",
       "    .dataframe tbody tr th:only-of-type {\n",
       "        vertical-align: middle;\n",
       "    }\n",
       "\n",
       "    .dataframe tbody tr th {\n",
       "        vertical-align: top;\n",
       "    }\n",
       "\n",
       "    .dataframe thead th {\n",
       "        text-align: right;\n",
       "    }\n",
       "</style>\n",
       "<table border=\"1\" class=\"dataframe\">\n",
       "  <thead>\n",
       "    <tr style=\"text-align: right;\">\n",
       "      <th></th>\n",
       "      <th>x</th>\n",
       "      <th>y</th>\n",
       "    </tr>\n",
       "  </thead>\n",
       "  <tbody>\n",
       "    <tr>\n",
       "      <th>x</th>\n",
       "      <td>1.00</td>\n",
       "      <td>0.75</td>\n",
       "    </tr>\n",
       "    <tr>\n",
       "      <th>y</th>\n",
       "      <td>0.75</td>\n",
       "      <td>1.00</td>\n",
       "    </tr>\n",
       "  </tbody>\n",
       "</table>\n",
       "</div>"
      ],
      "text/plain": [
       "      x     y\n",
       "x  1.00  0.75\n",
       "y  0.75  1.00"
      ]
     },
     "execution_count": 9,
     "metadata": {},
     "output_type": "execute_result"
    }
   ],
   "source": [
    "df_spearman[['x' , 'y']].corr(method = 'spearman')"
   ]
  },
  {
   "cell_type": "markdown",
   "metadata": {
    "id": "pkDVgz7qPQCD"
   },
   "source": [
    "## Spearman vs Pearson"
   ]
  },
  {
   "cell_type": "markdown",
   "metadata": {
    "id": "dRtrchDgPQCD"
   },
   "source": [
    "### Não Linearidade"
   ]
  },
  {
   "cell_type": "markdown",
   "metadata": {
    "id": "oQIoLrsdPQCD"
   },
   "source": [
    "Vamos ver como Spearman consegue captar padrões que Pearson deixa \"passar\""
   ]
  },
  {
   "cell_type": "code",
   "execution_count": 10,
   "metadata": {},
   "outputs": [],
   "source": [
    "# variavel independente\n",
    "x = np.arange(-10,10)"
   ]
  },
  {
   "cell_type": "code",
   "execution_count": 11,
   "metadata": {},
   "outputs": [],
   "source": [
    "# variável dependente\n",
    "# curva expoencial\n",
    "y = np.exp(x)"
   ]
  },
  {
   "cell_type": "code",
   "execution_count": 12,
   "metadata": {},
   "outputs": [],
   "source": [
    "df_correlations = pd.DataFrame({'x':x , 'y': y})"
   ]
  },
  {
   "cell_type": "code",
   "execution_count": 13,
   "metadata": {},
   "outputs": [
    {
     "data": {
      "image/png": "[encoded data removed]",
      "text/plain": [
       "<Figure size 432x288 with 1 Axes>"
      ]
     },
     "metadata": {
      "needs_background": "light"
     },
     "output_type": "display_data"
    }
   ],
   "source": [
    "# Grafico de X e Y\n",
    "plt.scatter(x , y)\n",
    "plt.xlabel('x')\n",
    "plt.ylabel('e^x')\n",
    "plt.title('Relação não linear')\n",
    "plt.show()\n"
   ]
  },
  {
   "cell_type": "code",
   "execution_count": 14,
   "metadata": {},
   "outputs": [
    {
     "data": {
      "text/html": [
       "<div>\n",
       "<style scoped>\n",
       "    .dataframe tbody tr th:only-of-type {\n",
       "        vertical-align: middle;\n",
       "    }\n",
       "\n",
       "    .dataframe tbody tr th {\n",
       "        vertical-align: top;\n",
       "    }\n",
       "\n",
       "    .dataframe thead th {\n",
       "        text-align: right;\n",
       "    }\n",
       "</style>\n",
       "<table border=\"1\" class=\"dataframe\">\n",
       "  <thead>\n",
       "    <tr style=\"text-align: right;\">\n",
       "      <th></th>\n",
       "      <th>x</th>\n",
       "      <th>y</th>\n",
       "    </tr>\n",
       "  </thead>\n",
       "  <tbody>\n",
       "    <tr>\n",
       "      <th>x</th>\n",
       "      <td>1.000000</td>\n",
       "      <td>0.538701</td>\n",
       "    </tr>\n",
       "    <tr>\n",
       "      <th>y</th>\n",
       "      <td>0.538701</td>\n",
       "      <td>1.000000</td>\n",
       "    </tr>\n",
       "  </tbody>\n",
       "</table>\n",
       "</div>"
      ],
      "text/plain": [
       "          x         y\n",
       "x  1.000000  0.538701\n",
       "y  0.538701  1.000000"
      ]
     },
     "execution_count": 14,
     "metadata": {},
     "output_type": "execute_result"
    }
   ],
   "source": [
    "#Correlação de Pearson\n",
    "df_correlations.corr()"
   ]
  },
  {
   "cell_type": "code",
   "execution_count": 15,
   "metadata": {},
   "outputs": [
    {
     "data": {
      "text/html": [
       "<div>\n",
       "<style scoped>\n",
       "    .dataframe tbody tr th:only-of-type {\n",
       "        vertical-align: middle;\n",
       "    }\n",
       "\n",
       "    .dataframe tbody tr th {\n",
       "        vertical-align: top;\n",
       "    }\n",
       "\n",
       "    .dataframe thead th {\n",
       "        text-align: right;\n",
       "    }\n",
       "</style>\n",
       "<table border=\"1\" class=\"dataframe\">\n",
       "  <thead>\n",
       "    <tr style=\"text-align: right;\">\n",
       "      <th></th>\n",
       "      <th>x</th>\n",
       "      <th>y</th>\n",
       "    </tr>\n",
       "  </thead>\n",
       "  <tbody>\n",
       "    <tr>\n",
       "      <th>x</th>\n",
       "      <td>1.0</td>\n",
       "      <td>1.0</td>\n",
       "    </tr>\n",
       "    <tr>\n",
       "      <th>y</th>\n",
       "      <td>1.0</td>\n",
       "      <td>1.0</td>\n",
       "    </tr>\n",
       "  </tbody>\n",
       "</table>\n",
       "</div>"
      ],
      "text/plain": [
       "     x    y\n",
       "x  1.0  1.0\n",
       "y  1.0  1.0"
      ]
     },
     "execution_count": 15,
     "metadata": {},
     "output_type": "execute_result"
    }
   ],
   "source": [
    "#Correlação de Spearman\n",
    "df_correlations.corr(method = 'spearman')"
   ]
  },
  {
   "cell_type": "markdown",
   "metadata": {
    "id": "7kKn_7fyPQCM"
   },
   "source": [
    "Note que a correlação de Pearson não consegue captar uma relação não-linear tão bem quanto a de Spearman."
   ]
  },
  {
   "cell_type": "markdown",
   "metadata": {
    "id": "dzkYHw94PQCM"
   },
   "source": [
    "### Outliers"
   ]
  },
  {
   "cell_type": "markdown",
   "metadata": {
    "id": "V_CfF7oMPQCM"
   },
   "source": [
    "Quando existem outliers na amostra, a correlação de pearson é fortemente afetada, podendo resultar até mesmo numa inversão de tendência."
   ]
  },
  {
   "cell_type": "code",
   "execution_count": 16,
   "metadata": {},
   "outputs": [],
   "source": [
    "# Variável independente\n",
    "x1 = np.arange(1,11)\n",
    "# Variável dependente\n",
    "y1 = -0.1*x1"
   ]
  },
  {
   "cell_type": "code",
   "execution_count": 17,
   "metadata": {},
   "outputs": [],
   "source": [
    "x1 = np.append(x1, [30])\n",
    "y1 = np.append(y1, [50])"
   ]
  },
  {
   "cell_type": "code",
   "execution_count": 18,
   "metadata": {},
   "outputs": [],
   "source": [
    "df_correlations1 = pd.DataFrame({'x1':x1, 'y1':y1})"
   ]
  },
  {
   "cell_type": "code",
   "execution_count": 19,
   "metadata": {},
   "outputs": [
    {
     "data": {
      "text/plain": [
       "Text(0.5, 1.0, 'Relação Não-Linear')"
      ]
     },
     "execution_count": 19,
     "metadata": {},
     "output_type": "execute_result"
    },
    {
     "data": {
      "image/png": "[encoded data removed]",
      "text/plain": [
       "<Figure size 432x288 with 1 Axes>"
      ]
     },
     "metadata": {
      "needs_background": "light"
     },
     "output_type": "display_data"
    }
   ],
   "source": [
    "plt.scatter(x1, y1)\n",
    "plt.xlabel('x')\n",
    "plt.ylabel('x^2')\n",
    "plt.title('Relação Não-Linear')"
   ]
  },
  {
   "cell_type": "code",
   "execution_count": 20,
   "metadata": {},
   "outputs": [
    {
     "data": {
      "text/html": [
       "<div>\n",
       "<style scoped>\n",
       "    .dataframe tbody tr th:only-of-type {\n",
       "        vertical-align: middle;\n",
       "    }\n",
       "\n",
       "    .dataframe tbody tr th {\n",
       "        vertical-align: top;\n",
       "    }\n",
       "\n",
       "    .dataframe thead th {\n",
       "        text-align: right;\n",
       "    }\n",
       "</style>\n",
       "<table border=\"1\" class=\"dataframe\">\n",
       "  <thead>\n",
       "    <tr style=\"text-align: right;\">\n",
       "      <th></th>\n",
       "      <th>x1</th>\n",
       "      <th>y1</th>\n",
       "    </tr>\n",
       "  </thead>\n",
       "  <tbody>\n",
       "    <tr>\n",
       "      <th>x1</th>\n",
       "      <td>1.00000</td>\n",
       "      <td>0.92503</td>\n",
       "    </tr>\n",
       "    <tr>\n",
       "      <th>y1</th>\n",
       "      <td>0.92503</td>\n",
       "      <td>1.00000</td>\n",
       "    </tr>\n",
       "  </tbody>\n",
       "</table>\n",
       "</div>"
      ],
      "text/plain": [
       "         x1       y1\n",
       "x1  1.00000  0.92503\n",
       "y1  0.92503  1.00000"
      ]
     },
     "execution_count": 20,
     "metadata": {},
     "output_type": "execute_result"
    }
   ],
   "source": [
    "# correlação de pearson para x^2\n",
    "df_correlations1.corr()"
   ]
  },
  {
   "cell_type": "code",
   "execution_count": 21,
   "metadata": {},
   "outputs": [
    {
     "data": {
      "text/html": [
       "<div>\n",
       "<style scoped>\n",
       "    .dataframe tbody tr th:only-of-type {\n",
       "        vertical-align: middle;\n",
       "    }\n",
       "\n",
       "    .dataframe tbody tr th {\n",
       "        vertical-align: top;\n",
       "    }\n",
       "\n",
       "    .dataframe thead th {\n",
       "        text-align: right;\n",
       "    }\n",
       "</style>\n",
       "<table border=\"1\" class=\"dataframe\">\n",
       "  <thead>\n",
       "    <tr style=\"text-align: right;\">\n",
       "      <th></th>\n",
       "      <th>x1</th>\n",
       "      <th>y1</th>\n",
       "    </tr>\n",
       "  </thead>\n",
       "  <tbody>\n",
       "    <tr>\n",
       "      <th>x1</th>\n",
       "      <td>1.0</td>\n",
       "      <td>-0.5</td>\n",
       "    </tr>\n",
       "    <tr>\n",
       "      <th>y1</th>\n",
       "      <td>-0.5</td>\n",
       "      <td>1.0</td>\n",
       "    </tr>\n",
       "  </tbody>\n",
       "</table>\n",
       "</div>"
      ],
      "text/plain": [
       "     x1   y1\n",
       "x1  1.0 -0.5\n",
       "y1 -0.5  1.0"
      ]
     },
     "execution_count": 21,
     "metadata": {},
     "output_type": "execute_result"
    }
   ],
   "source": [
    "# correlação de spearman para x^2\n",
    "df_correlations1.corr(method='spearman')"
   ]
  },
  {
   "cell_type": "markdown",
   "metadata": {
    "id": "2wm0z7KKPQCU"
   },
   "source": [
    "## Associação Entre Variáveis Qualitativas e Quantitativas"
   ]
  },
  {
   "cell_type": "markdown",
   "metadata": {
    "id": "nk6uis98PQCU"
   },
   "source": [
    "Nossa última possível combinação entre natureza de variáveis é o caso de querermos medir relações entre uma variável qualitativa e uma variável quantitativa. Para isso utilizaremos a correlação Point-Biserial e a análise de R2."
   ]
  },
  {
   "cell_type": "markdown",
   "metadata": {
    "id": "_u0du_pyPQCU"
   },
   "source": [
    "### Correlação Point-Biserial"
   ]
  },
  {
   "cell_type": "markdown",
   "metadata": {
    "id": "Mbe3nSpGPQCU"
   },
   "source": [
    "A correlaçao Point-Biserial é um caso particular da correlação de Pearson. É usada para casos em que têm-se uma variável dicotômica (2 valores possíveis) e uma variável contínua."
   ]
  },
  {
   "cell_type": "markdown",
   "metadata": {
    "id": "9iTQ5wLRPQCU"
   },
   "source": [
    "![](https://wikimedia.org/api/rest_v1/media/math/render/svg/790e9e1b2fd9213233a747036ff6b87efe4efb5e)"
   ]
  },
  {
   "cell_type": "markdown",
   "metadata": {
    "id": "Q6JS4dg4PQCV"
   },
   "source": [
    "Assim como as demais correlações, a Point-Biserial varia de -1 a 1. Na equação acima:"
   ]
  },
  {
   "cell_type": "markdown",
   "metadata": {
    "id": "tg2ChVwOPQCV"
   },
   "source": [
    "```M1```: Média da variável contínua para o grupo 1<br>\n",
    "```M0```: Média da variável contínua para o grupo 0<br>\n",
    "```n1```: Número de observações do grupo 1<br>\n",
    "```n0```: Número de observações do grupo 0<br>\n",
    "```n```:  Número total de observações<br>\n",
    "```Sn```: Desvio Padrão Populacional<br>"
   ]
  },
  {
   "cell_type": "markdown",
   "metadata": {
    "id": "xUpuD14pPQCV"
   },
   "source": [
    "Vamos criar uma variável contínua cuja. Porém, vamos constituí-la de um primeiro grupo, x1, cuja média é 10 e desvio padrão é 10 e outro grupo, x2, cuja média é 60 e desvio padrão é 10. Criaremos 100 amostras para as quais a variável y corresponde a 1 e 100 para as quais a variável y é 0."
   ]
  },
  {
   "cell_type": "code",
   "execution_count": 23,
   "metadata": {},
   "outputs": [],
   "source": [
    "np.random.seed(10)\n",
    "x1 = np.random.normal(10, 10, 100)\n",
    "x2 = np.random.normal(60, 10, 100)\n",
    "y = 100*[0] + 100*[1]"
   ]
  },
  {
   "cell_type": "code",
   "execution_count": 24,
   "metadata": {},
   "outputs": [],
   "source": [
    "df_pb = pd.DataFrame({'x':np.concatenate([x1,x2]), 'y':y})"
   ]
  },
  {
   "cell_type": "code",
   "execution_count": 25,
   "metadata": {},
   "outputs": [],
   "source": [
    "M0 = df_pb.groupby('y').mean().iloc[0,0]\n",
    "M1 = df_pb.groupby('y').mean().iloc[1,0]\n",
    "std_ = df_pb['x'].std(ddof=0)"
   ]
  },
  {
   "cell_type": "code",
   "execution_count": 26,
   "metadata": {},
   "outputs": [
    {
     "data": {
      "text/plain": [
       "0.931246752810707"
      ]
     },
     "execution_count": 26,
     "metadata": {},
     "output_type": "execute_result"
    }
   ],
   "source": [
    "((M1-M0)/std_)*np.sqrt(0.5**2)"
   ]
  },
  {
   "cell_type": "markdown",
   "metadata": {
    "id": "J94fke7iPQCZ"
   },
   "source": [
    "A correlação Point-Biserial será numericamente igual a Correlação de Pearson."
   ]
  },
  {
   "cell_type": "code",
   "execution_count": 27,
   "metadata": {},
   "outputs": [
    {
     "data": {
      "text/html": [
       "<div>\n",
       "<style scoped>\n",
       "    .dataframe tbody tr th:only-of-type {\n",
       "        vertical-align: middle;\n",
       "    }\n",
       "\n",
       "    .dataframe tbody tr th {\n",
       "        vertical-align: top;\n",
       "    }\n",
       "\n",
       "    .dataframe thead th {\n",
       "        text-align: right;\n",
       "    }\n",
       "</style>\n",
       "<table border=\"1\" class=\"dataframe\">\n",
       "  <thead>\n",
       "    <tr style=\"text-align: right;\">\n",
       "      <th></th>\n",
       "      <th>x</th>\n",
       "      <th>y</th>\n",
       "    </tr>\n",
       "  </thead>\n",
       "  <tbody>\n",
       "    <tr>\n",
       "      <th>x</th>\n",
       "      <td>1.000000</td>\n",
       "      <td>0.931247</td>\n",
       "    </tr>\n",
       "    <tr>\n",
       "      <th>y</th>\n",
       "      <td>0.931247</td>\n",
       "      <td>1.000000</td>\n",
       "    </tr>\n",
       "  </tbody>\n",
       "</table>\n",
       "</div>"
      ],
      "text/plain": [
       "          x         y\n",
       "x  1.000000  0.931247\n",
       "y  0.931247  1.000000"
      ]
     },
     "execution_count": 27,
     "metadata": {},
     "output_type": "execute_result"
    }
   ],
   "source": [
    "df_pb.corr()"
   ]
  },
  {
   "cell_type": "markdown",
   "metadata": {
    "id": "JmxfOpqKPQCa"
   },
   "source": [
    "### R2"
   ]
  },
  {
   "cell_type": "markdown",
   "metadata": {
    "id": "J_2LRBUxPQCa"
   },
   "source": [
    "A última medida de associação entre as variáveis que veremos é o R2. O R2 quantifica o quanto, em %, a variável X explica a variável Y. E para isso, ele utiliza o conceito de variância, o qual já vimos!.\n",
    "A lógica por trás desse cálculo é a seguinte:<br>\n",
    "\n",
    "Vamos medir a variância do nosso conjunto de dados Y. Se a variância de Y, quando olhada dentro de grupos X, for menor, significa que X explica uma parcela (%) de Y. Esse % é justamente nosso R2."
   ]
  },
  {
   "cell_type": "markdown",
   "metadata": {
    "id": "EMeyiQQ3PQCa"
   },
   "source": [
    "Imagine a variável salário! Dentro de uma empresa o salário pode variar desde RS 5.000,00 a RS 100.000,00. Uma alta variabilidade, concorda? Mas se olharmos os grupos (cargos) separadamente, o salário tende a variar pouco entre os gerentes, C-Level, Tech Leads, pois cargos parecidos tendem a ganhar salários parecidos. Ou seja, a variabilidade diminui quando olhamos a variável salário pela perspectiva dos cargos."
   ]
  },
  {
   "cell_type": "code",
   "execution_count": 28,
   "metadata": {},
   "outputs": [],
   "source": [
    "# Variável salário para cada cargo de engenharia\n",
    "estg = np.random.choice(np.arange(1000, 2000), 100)\n",
    "eng_jr = np.random.choice(np.arange(4500, 7000), 100)\n",
    "eng = np.random.choice(np.arange(6500, 8000), 100)\n",
    "eng_sr = np.random.choice(np.arange(7500, 11000), 100)\n",
    "salarios = np.concatenate([estg, eng_jr, eng, eng_sr])"
   ]
  },
  {
   "cell_type": "code",
   "execution_count": 29,
   "metadata": {},
   "outputs": [],
   "source": [
    "cargo = 100*['estg'] + 100*['eng_jr'] + 100*['eng'] + 100*['eng_sr']"
   ]
  },
  {
   "cell_type": "code",
   "execution_count": 30,
   "metadata": {},
   "outputs": [
    {
     "data": {
      "text/html": [
       "<div>\n",
       "<style scoped>\n",
       "    .dataframe tbody tr th:only-of-type {\n",
       "        vertical-align: middle;\n",
       "    }\n",
       "\n",
       "    .dataframe tbody tr th {\n",
       "        vertical-align: top;\n",
       "    }\n",
       "\n",
       "    .dataframe thead th {\n",
       "        text-align: right;\n",
       "    }\n",
       "</style>\n",
       "<table border=\"1\" class=\"dataframe\">\n",
       "  <thead>\n",
       "    <tr style=\"text-align: right;\">\n",
       "      <th></th>\n",
       "      <th>Cargo</th>\n",
       "      <th>Salário</th>\n",
       "    </tr>\n",
       "  </thead>\n",
       "  <tbody>\n",
       "    <tr>\n",
       "      <th>0</th>\n",
       "      <td>estg</td>\n",
       "      <td>1265</td>\n",
       "    </tr>\n",
       "    <tr>\n",
       "      <th>1</th>\n",
       "      <td>estg</td>\n",
       "      <td>1283</td>\n",
       "    </tr>\n",
       "    <tr>\n",
       "      <th>2</th>\n",
       "      <td>estg</td>\n",
       "      <td>1308</td>\n",
       "    </tr>\n",
       "    <tr>\n",
       "      <th>3</th>\n",
       "      <td>estg</td>\n",
       "      <td>1346</td>\n",
       "    </tr>\n",
       "    <tr>\n",
       "      <th>4</th>\n",
       "      <td>estg</td>\n",
       "      <td>1825</td>\n",
       "    </tr>\n",
       "    <tr>\n",
       "      <th>...</th>\n",
       "      <td>...</td>\n",
       "      <td>...</td>\n",
       "    </tr>\n",
       "    <tr>\n",
       "      <th>395</th>\n",
       "      <td>eng_sr</td>\n",
       "      <td>9521</td>\n",
       "    </tr>\n",
       "    <tr>\n",
       "      <th>396</th>\n",
       "      <td>eng_sr</td>\n",
       "      <td>9155</td>\n",
       "    </tr>\n",
       "    <tr>\n",
       "      <th>397</th>\n",
       "      <td>eng_sr</td>\n",
       "      <td>9444</td>\n",
       "    </tr>\n",
       "    <tr>\n",
       "      <th>398</th>\n",
       "      <td>eng_sr</td>\n",
       "      <td>7515</td>\n",
       "    </tr>\n",
       "    <tr>\n",
       "      <th>399</th>\n",
       "      <td>eng_sr</td>\n",
       "      <td>10786</td>\n",
       "    </tr>\n",
       "  </tbody>\n",
       "</table>\n",
       "<p>400 rows × 2 columns</p>\n",
       "</div>"
      ],
      "text/plain": [
       "      Cargo  Salário\n",
       "0      estg     1265\n",
       "1      estg     1283\n",
       "2      estg     1308\n",
       "3      estg     1346\n",
       "4      estg     1825\n",
       "..      ...      ...\n",
       "395  eng_sr     9521\n",
       "396  eng_sr     9155\n",
       "397  eng_sr     9444\n",
       "398  eng_sr     7515\n",
       "399  eng_sr    10786\n",
       "\n",
       "[400 rows x 2 columns]"
      ]
     },
     "execution_count": 30,
     "metadata": {},
     "output_type": "execute_result"
    }
   ],
   "source": [
    "df_salario = pd.DataFrame({'Cargo': cargo , 'Salário' : salarios})\n",
    "df_salario"
   ]
  },
  {
   "cell_type": "code",
   "execution_count": 32,
   "metadata": {},
   "outputs": [],
   "source": [
    "var_total = (df_salario['Salário'].std())**2"
   ]
  },
  {
   "cell_type": "code",
   "execution_count": 37,
   "metadata": {},
   "outputs": [
    {
     "data": {
      "text/plain": [
       "9028016.004204256"
      ]
     },
     "execution_count": 37,
     "metadata": {},
     "output_type": "execute_result"
    }
   ],
   "source": [
    "var_total"
   ]
  },
  {
   "cell_type": "markdown",
   "metadata": {
    "id": "aq8Xt8ruPQCe"
   },
   "source": [
    "Agora iremos calcular a variância olhando pela perspectiva dos cargos. Para isso precisaremos de uma medida-resumo, que pode ser a média. Mas iremos ponderar a média das variâncias pelo número de observações de cada grupo."
   ]
  },
  {
   "cell_type": "code",
   "execution_count": 33,
   "metadata": {},
   "outputs": [],
   "source": [
    "var_estg = (estg.std())**2\n",
    "var_eng_jr = (eng_jr.std())**2\n",
    "var_eng = (eng.std())**2\n",
    "var_eng_sr = (eng_sr.std())**2"
   ]
  },
  {
   "cell_type": "code",
   "execution_count": 34,
   "metadata": {},
   "outputs": [],
   "source": [
    "var_combinada = (100*var_estg + 100*var_eng_jr + 100*var_eng + 100*var_eng_sr)/400"
   ]
  },
  {
   "cell_type": "code",
   "execution_count": 35,
   "metadata": {},
   "outputs": [
    {
     "data": {
      "text/plain": [
       "437215.165625"
      ]
     },
     "execution_count": 35,
     "metadata": {},
     "output_type": "execute_result"
    }
   ],
   "source": [
    "var_combinada"
   ]
  },
  {
   "cell_type": "code",
   "execution_count": 36,
   "metadata": {},
   "outputs": [
    {
     "data": {
      "text/plain": [
       "True"
      ]
     },
     "execution_count": 36,
     "metadata": {},
     "output_type": "execute_result"
    }
   ],
   "source": [
    "var_total > var_combinada"
   ]
  },
  {
   "cell_type": "markdown",
   "metadata": {
    "id": "qaRIBLPCPQCh"
   },
   "source": [
    "# Distribuições de Probabilidade"
   ]
  },
  {
   "cell_type": "markdown",
   "metadata": {
    "id": "NMHTkQOOPQCh"
   },
   "source": [
    "Uma distribuição de probabilidade é um modelo matemático capaz de nos fornecer a probabilidade de ocorrência de um evento."
   ]
  },
  {
   "cell_type": "markdown",
   "metadata": {
    "id": "9gJ4y0lxPQCh"
   },
   "source": [
    "Podemos classificá-las em dois tipos:\n",
    "- Discreta\n",
    "- Contínua"
   ]
  },
  {
   "cell_type": "markdown",
   "metadata": {
    "id": "6v57XDDfPQCh"
   },
   "source": [
    "As distribuições discretas são utilizadas para modelar variáveis contáveis, como o número de gols numa partida de futebol (0,1,2,3,4...)"
   ]
  },
  {
   "cell_type": "markdown",
   "metadata": {
    "id": "5MjLCMSwPQCi"
   },
   "source": [
    "As distribuições contínuas, por sua vez, são utilizadas quando queremos modelar variáveis cujas ocorrências podem estar associadas a infinitos valores dentro de um intervalo. Exemplo: Temperatura. A temperatura de uma cidade pode assumir qualquer valor entre 10 e 20 graus, seja ele 10.1, 10.2, 10.2123, 10.2345, e assim por diante. São infinitos valores possíveis."
   ]
  },
  {
   "cell_type": "markdown",
   "metadata": {
    "id": "kFUE2gMnPQCi"
   },
   "source": [
    "Vamos ver alguns casos especiais de cada uma dessas distribuições!"
   ]
  },
  {
   "cell_type": "markdown",
   "metadata": {
    "id": "q1NQYE5SPQCi"
   },
   "source": [
    "## Distribuições Discretas"
   ]
  },
  {
   "cell_type": "markdown",
   "metadata": {
    "id": "mC1LfSVdPQCi"
   },
   "source": [
    "### Uniforme"
   ]
  },
  {
   "cell_type": "markdown",
   "metadata": {
    "id": "b4EaN-9IPQCi"
   },
   "source": [
    "Quando os valores possíveis para um evento possuírem igual probabilidade de ocorrência, dizemos que estes seguem uma distribuição uniforme."
   ]
  },
  {
   "cell_type": "markdown",
   "metadata": {
    "id": "MocefXl8PQCi"
   },
   "source": [
    "Um exemplo claro desse caso é o lançamento de um dado não viciado."
   ]
  },
  {
   "cell_type": "markdown",
   "metadata": {
    "id": "oeS2gTqgPQCi"
   },
   "source": [
    "Um dado possui 6 lados e, se não estiver viciado, cada face possuirá igual probabilidade de ocorrer em um lançamento."
   ]
  },
  {
   "cell_type": "markdown",
   "metadata": {
    "id": "-9FDPPhiPQCi"
   },
   "source": [
    "Nesse caso, o modelo matemático que descreve a probabilidade para as possíveis ocorrências é:"
   ]
  },
  {
   "cell_type": "markdown",
   "metadata": {
    "id": "0OmDKGDaPQCj"
   },
   "source": [
    "Onde P é a probabilidade, x são os valores possíveis e n a quantidade de elementos possíveis de ocorrer."
   ]
  },
  {
   "cell_type": "markdown",
   "metadata": {
    "id": "ZLLYBKt1PQCj"
   },
   "source": [
    "Vamos simular o lançamento de um dado e observar a distribuição dos resultados obtidos."
   ]
  },
  {
   "cell_type": "code",
   "execution_count": 38,
   "metadata": {},
   "outputs": [],
   "source": [
    "# seed\n",
    "np.random.seed(100)\n",
    "# numero de lançamentos\n",
    "n= 10000\n",
    "# valor mínimo\n",
    "valor_min = 1\n",
    "# valor máximo\n",
    "valor_max = 6 + 1 \n",
    "lancamentos = np.random.randint(low=valor_min, high=valor_max, size=n)"
   ]
  },
  {
   "cell_type": "code",
   "execution_count": 39,
   "metadata": {},
   "outputs": [
    {
     "name": "stderr",
     "output_type": "stream",
     "text": [
      "C:\\Users\\vibrsilva\\Anaconda3\\lib\\site-packages\\seaborn\\distributions.py:2619: FutureWarning: `distplot` is a deprecated function and will be removed in a future version. Please adapt your code to use either `displot` (a figure-level function with similar flexibility) or `histplot` (an axes-level function for histograms).\n",
      "  warnings.warn(msg, FutureWarning)\n"
     ]
    },
    {
     "data": {
      "text/plain": [
       "<AxesSubplot:xlabel='Face Obtida'>"
      ]
     },
     "execution_count": 39,
     "metadata": {},
     "output_type": "execute_result"
    },
    {
     "data": {
      "image/png": "[encoded data removed]",
      "text/plain": [
       "<Figure size 432x288 with 1 Axes>"
      ]
     },
     "metadata": {
      "needs_background": "light"
     },
     "output_type": "display_data"
    }
   ],
   "source": [
    "sns.distplot(lancamentos , axlabel= 'Face Obtida' , kde= False)"
   ]
  },
  {
   "cell_type": "markdown",
   "metadata": {
    "id": "VwIxdbkYPQCl"
   },
   "source": [
    "Note que cada face ocorre um número próximo de vezes."
   ]
  },
  {
   "cell_type": "code",
   "execution_count": 40,
   "metadata": {},
   "outputs": [],
   "source": [
    "df_lancamentos = pd.DataFrame(lancamentos , columns = ['Face'])"
   ]
  },
  {
   "cell_type": "code",
   "execution_count": 41,
   "metadata": {},
   "outputs": [
    {
     "data": {
      "text/plain": [
       "Face\n",
       "1    1650\n",
       "2    1630\n",
       "3    1743\n",
       "4    1659\n",
       "5    1662\n",
       "6    1656\n",
       "dtype: int64"
      ]
     },
     "execution_count": 41,
     "metadata": {},
     "output_type": "execute_result"
    }
   ],
   "source": [
    "df_lancamentos.groupby('Face').size()"
   ]
  },
  {
   "cell_type": "markdown",
   "metadata": {
    "id": "fZs27gLFPQCl"
   },
   "source": [
    "### Bernoulli"
   ]
  },
  {
   "cell_type": "markdown",
   "metadata": {
    "id": "08oIPuuvPQCm"
   },
   "source": [
    "A distribuição de Bernoulli é uma outra distribuição discreta, cujo propósito é avaliar a probabilidade de sucesso de um evento. Por sucesso, fala-se em um evento de interesse do pesquisador. \n",
    "A probabilidade de sucesso do evento é p e a probabilidade de fracasso é 1 - p."
   ]
  },
  {
   "cell_type": "markdown",
   "metadata": {
    "id": "dbmlW4F7PQCm"
   },
   "source": [
    "Um exemplo bastante comum dessa distribuição envolve o lançamento de uma moeda, em que dar \"coroa\" pode ser o evento de sucesso com probabilidade p e dar \"cara\" pode ser o evento de fracasso, de probabilidade 1 - p. Quando a moeda não é viciada, espera-se que  p = 0.5."
   ]
  },
  {
   "cell_type": "markdown",
   "metadata": {
    "id": "6VB0GP2oPQCm"
   },
   "source": [
    "Porém, há uma série de aplicações bastante conhecidas e definidas que utilizam distribuição de bernoulli, tais como:\n",
    "- Ramo de Seguros\n",
    "- Ramo de Crédito"
   ]
  },
  {
   "cell_type": "markdown",
   "metadata": {
    "id": "niy1cjMFPQCm"
   },
   "source": [
    "**a distribuição de Bernoulli, a média é sempre a probabilidade de sucesso, p, e a a variância é p(1-p)**"
   ]
  },
  {
   "cell_type": "markdown",
   "metadata": {
    "id": "yqUUqlukPQCm"
   },
   "source": [
    "Para simular um evento que segue uma distribuição de Bernoulli, usamos a biblioteca scipy e o módulo stats. ```scipy.stats```"
   ]
  },
  {
   "cell_type": "code",
   "execution_count": null,
   "metadata": {},
   "outputs": [],
   "source": []
  },
  {
   "cell_type": "code",
   "execution_count": null,
   "metadata": {},
   "outputs": [],
   "source": []
  },
  {
   "cell_type": "code",
   "execution_count": null,
   "metadata": {},
   "outputs": [],
   "source": []
  },
  {
   "cell_type": "code",
   "execution_count": null,
   "metadata": {},
   "outputs": [],
   "source": []
  },
  {
   "cell_type": "code",
   "execution_count": null,
   "metadata": {},
   "outputs": [],
   "source": []
  },
  {
   "cell_type": "code",
   "execution_count": null,
   "metadata": {},
   "outputs": [],
   "source": []
  },
  {
   "cell_type": "code",
   "execution_count": null,
   "metadata": {},
   "outputs": [],
   "source": []
  },
  {
   "cell_type": "code",
   "execution_count": null,
   "metadata": {},
   "outputs": [],
   "source": []
  },
  {
   "cell_type": "code",
   "execution_count": null,
   "metadata": {},
   "outputs": [],
   "source": []
  },
  {
   "cell_type": "code",
   "execution_count": null,
   "metadata": {},
   "outputs": [],
   "source": []
  },
  {
   "cell_type": "code",
   "execution_count": null,
   "metadata": {},
   "outputs": [],
   "source": []
  },
  {
   "cell_type": "code",
   "execution_count": null,
   "metadata": {},
   "outputs": [],
   "source": []
  },
  {
   "cell_type": "code",
   "execution_count": null,
   "metadata": {},
   "outputs": [],
   "source": []
  },
  {
   "cell_type": "code",
   "execution_count": null,
   "metadata": {},
   "outputs": [],
   "source": []
  },
  {
   "cell_type": "markdown",
   "metadata": {
    "id": "BrSsIR4wPQCq"
   },
   "source": [
    "## Distribuição binomial"
   ]
  },
  {
   "cell_type": "markdown",
   "metadata": {
    "id": "DG1McoiVPQCq"
   },
   "source": [
    "Agora, imagine que repetimos um ensaio de bernoulli (o lançamento de uma moeda, por exemplo) um número n de vezes. A quantidade de vezes que obtivemos sucesso nos n ensaios resultaram em uma probabilidade. "
   ]
  },
  {
   "cell_type": "markdown",
   "metadata": {
    "id": "-KgLXa_HPQCq"
   },
   "source": [
    "Exemplo: Qual a probabilidade de obtermos 2 caras em 5 lançamentos de uma moeda não viciada ?"
   ]
  },
  {
   "cell_type": "markdown",
   "metadata": {
    "id": "HQjC_7nNPQCq"
   },
   "source": [
    "Se realizarmos m vezes os 5 lançamentos, conseguimos construir uma curva de probabilidade e responder essa pergunta."
   ]
  },
  {
   "cell_type": "markdown",
   "metadata": {
    "id": "W9Vr04a4PQCq"
   },
   "source": [
    "![](https://miro.medium.com/max/2100/1*WVD2_j2CJkb14LR7nVsvjw.jpeg)"
   ]
  },
  {
   "cell_type": "code",
   "execution_count": null,
   "metadata": {},
   "outputs": [],
   "source": []
  },
  {
   "cell_type": "code",
   "execution_count": null,
   "metadata": {},
   "outputs": [],
   "source": []
  },
  {
   "cell_type": "code",
   "execution_count": null,
   "metadata": {},
   "outputs": [],
   "source": []
  },
  {
   "cell_type": "code",
   "execution_count": null,
   "metadata": {},
   "outputs": [],
   "source": []
  },
  {
   "cell_type": "code",
   "execution_count": null,
   "metadata": {},
   "outputs": [],
   "source": []
  },
  {
   "cell_type": "code",
   "execution_count": null,
   "metadata": {},
   "outputs": [],
   "source": []
  },
  {
   "cell_type": "code",
   "execution_count": null,
   "metadata": {},
   "outputs": [],
   "source": []
  },
  {
   "cell_type": "code",
   "execution_count": null,
   "metadata": {},
   "outputs": [],
   "source": []
  },
  {
   "cell_type": "markdown",
   "metadata": {
    "id": "-a1TpbgGPQCw"
   },
   "source": [
    "Também temos a forma \"analítica\" de construir uma curva de probabilidade para esse tipo de ensaio, utilizando a equação abaixo."
   ]
  },
  {
   "cell_type": "markdown",
   "metadata": {
    "id": "nNWdSgXePQCw"
   },
   "source": [
    "![](https://wikimedia.org/api/rest_v1/media/math/render/svg/9757f2616b6e9dffea51a6d9bcf9f958988063c3)"
   ]
  },
  {
   "cell_type": "markdown",
   "metadata": {
    "id": "puC3gxJSPQCw"
   },
   "source": [
    "Onde:<br>\n",
    "```n```: Número de ensaios<br>\n",
    "```p```: Probabilidade de Sucesso<br>\n",
    "```k```: Número de sucessos<br>"
   ]
  },
  {
   "cell_type": "markdown",
   "metadata": {
    "id": "MtiHOwZ9PQCw"
   },
   "source": [
    "Lembram do Fatorial?"
   ]
  },
  {
   "cell_type": "markdown",
   "metadata": {
    "id": "LeOYovnwPQCw"
   },
   "source": [
    "**Fatorial de 5**: 5 x 4 x 3 x 2 x 1"
   ]
  },
  {
   "cell_type": "markdown",
   "metadata": {
    "id": "dyYAsAFQPQCw"
   },
   "source": [
    "Aplicando ao nosso caso: n = 5, p = 0.5, k = 2"
   ]
  },
  {
   "cell_type": "code",
   "execution_count": null,
   "metadata": {},
   "outputs": [],
   "source": []
  },
  {
   "cell_type": "code",
   "execution_count": null,
   "metadata": {},
   "outputs": [],
   "source": []
  },
  {
   "cell_type": "code",
   "execution_count": null,
   "metadata": {},
   "outputs": [],
   "source": []
  },
  {
   "cell_type": "code",
   "execution_count": null,
   "metadata": {},
   "outputs": [],
   "source": []
  },
  {
   "cell_type": "code",
   "execution_count": null,
   "metadata": {},
   "outputs": [],
   "source": []
  },
  {
   "cell_type": "markdown",
   "metadata": {
    "id": "I4x7Hpz4PQCz"
   },
   "source": [
    "Note que para distribuições discretas, podemos associar diretamente um valor (observação) a uma probabilidade por meio de uma função matemática ou simulação. Essa função matemática se chama Função de Massa de Probabilidade."
   ]
  },
  {
   "cell_type": "markdown",
   "metadata": {
    "id": "wMX1U2EYPQCz"
   },
   "source": [
    "Exemplo de Aplicação: Call Center"
   ]
  },
  {
   "cell_type": "markdown",
   "metadata": {
    "id": "dRL1Va2gPQCz"
   },
   "source": [
    "Imagine que você trabalha como cientista numna empresa de Call Center e você encontra as seguintes informações sobre a operação:\n",
    "* A probabilidade de conversão de um cliente a cada ligação é 4% <br>\n",
    "* Cada funcionário faz em média 50 ligações por dia <br>\n",
    "* A receita média que cada cliente traz é RS 20.00 <br>\n",
    "* A empresa tem 100 funcionários ligando para clientes<br>\n",
    "* Cada funcionário recebe um salário de RS 200.00 por dia de trabalho<br>"
   ]
  },
  {
   "cell_type": "markdown",
   "metadata": {
    "id": "8LdFpCJiPQCz"
   },
   "source": [
    "Vocês conseguem imaginar os funcionários como distribuições binomiais?"
   ]
  },
  {
   "cell_type": "markdown",
   "metadata": {
    "id": "jm7ES9MmPQCz"
   },
   "source": [
    "Cada funcionário é uma distribuição binomial, cujo p=4% e n=50."
   ]
  },
  {
   "cell_type": "code",
   "execution_count": 22,
   "metadata": {
    "executionInfo": {
     "elapsed": 1017,
     "status": "ok",
     "timestamp": 1604534941290,
     "user": {
      "displayName": "Bruno Carlos Vieira dos Santos",
      "photoUrl": "https://lh3.googleusercontent.com/a-/AOh14GjyjhO1J7E4_amgTO6tdRfjO7rX05VY1sZ1CCHw=s64",
      "userId": "03042938749526543894"
     },
     "user_tz": 180
    },
    "id": "fpFubVb9PQC0"
   },
   "outputs": [],
   "source": [
    "# Simulação do call center\n",
    "\n",
    "# numero de funcionarios\n",
    "funcionarios = 100\n",
    "# Salario dos funcionarios\n",
    "salario = 200\n",
    "# numero de ligações\n",
    "n_ligacoes = 50\n",
    "# probabilidade de sucesso da ligação \n",
    "p = 0.04\n",
    "#receita trazida por um sucesso\n",
    "receita = 100"
   ]
  },
  {
   "cell_type": "code",
   "execution_count": null,
   "metadata": {},
   "outputs": [],
   "source": []
  },
  {
   "cell_type": "code",
   "execution_count": null,
   "metadata": {},
   "outputs": [],
   "source": []
  },
  {
   "cell_type": "code",
   "execution_count": null,
   "metadata": {},
   "outputs": [],
   "source": []
  },
  {
   "cell_type": "markdown",
   "metadata": {
    "id": "DHmOWrcPPQC2"
   },
   "source": [
    "O que você como cientista de dados pode propor?"
   ]
  },
  {
   "cell_type": "markdown",
   "metadata": {
    "id": "NvYdcQgMPQC2"
   },
   "source": [
    "* Aumentar número de ligações!\n",
    "* Aumentar a conversão! (COMO?) --> Faça um modelo"
   ]
  },
  {
   "cell_type": "markdown",
   "metadata": {
    "id": "dah74MHOPQC3"
   },
   "source": [
    "Vamos supor que cada funcionário recebeu treinamento e agora consegue fazer 55 ligações. E seu modelo consegue aumentar a conversão para 5%."
   ]
  },
  {
   "cell_type": "code",
   "execution_count": null,
   "metadata": {},
   "outputs": [],
   "source": []
  },
  {
   "cell_type": "code",
   "execution_count": null,
   "metadata": {},
   "outputs": [],
   "source": []
  },
  {
   "cell_type": "code",
   "execution_count": null,
   "metadata": {},
   "outputs": [],
   "source": []
  },
  {
   "cell_type": "code",
   "execution_count": null,
   "metadata": {},
   "outputs": [],
   "source": []
  },
  {
   "cell_type": "code",
   "execution_count": null,
   "metadata": {},
   "outputs": [],
   "source": []
  },
  {
   "cell_type": "code",
   "execution_count": null,
   "metadata": {},
   "outputs": [],
   "source": []
  },
  {
   "cell_type": "code",
   "execution_count": null,
   "metadata": {},
   "outputs": [],
   "source": []
  },
  {
   "cell_type": "markdown",
   "metadata": {
    "id": "ht7XijXRPQC4"
   },
   "source": [
    "## Distribuições Contínuas"
   ]
  },
  {
   "cell_type": "markdown",
   "metadata": {
    "id": "97po-s93PQC5"
   },
   "source": [
    "### Distribuição Normal"
   ]
  },
  {
   "cell_type": "markdown",
   "metadata": {
    "id": "O8imNZZePQC5"
   },
   "source": [
    "![](https://i.pinimg.com/originals/34/9b/f6/349bf66317f5a051c89a7b26264c9062.jpg)"
   ]
  },
  {
   "cell_type": "markdown",
   "metadata": {
    "id": "Pf7pS1hQPQC5"
   },
   "source": [
    "A Distribuição Normal é uma distribuiçao contínua e é uma das mais conhecidas na estatística e na ciência de dados. Isso, pois muitos fenômenos podem ser modelados por meio de uma distribuição normal."
   ]
  },
  {
   "cell_type": "markdown",
   "metadata": {
    "id": "T4XJYDAJPQC5"
   },
   "source": [
    "Exemplo: Altura de uma população, Idade de uma população, retorno financeiro de ações e etc."
   ]
  },
  {
   "cell_type": "markdown",
   "metadata": {
    "id": "jj4tax5JPQC5"
   },
   "source": [
    "Matematicamente, uma distribuição é normal se segue a seguinte função de densidade de probabilidade."
   ]
  },
  {
   "cell_type": "markdown",
   "metadata": {
    "id": "EvRn37cFPQC5"
   },
   "source": [
    "![](https://wikimedia.org/api/rest_v1/media/math/render/svg/362834b765239b64cf7719a3a3a04e172c883e3d)"
   ]
  },
  {
   "cell_type": "markdown",
   "metadata": {
    "id": "gUNlfiyvPQC5"
   },
   "source": [
    "Pra definir essa função, precisamos de uma média, representada pela letra grega mi e um desvio padrão, representado pela letra grega sigma."
   ]
  },
  {
   "cell_type": "markdown",
   "metadata": {
    "id": "eJWA9Jf2PQC5"
   },
   "source": [
    "Diferentemente da Função de Massa de Probabilidade, essa Função não retorna a probabilidade, mas um valor correspondente ao que se conhece por densidade. Para calcular a probabilidade temos que encontrar a área dentro do intervalo especificado."
   ]
  },
  {
   "cell_type": "markdown",
   "metadata": {
    "id": "LgXlMz7SPQC5"
   },
   "source": [
    "![](https://statistics.laerd.com/statistical-guides/img/normal-7.png)"
   ]
  },
  {
   "cell_type": "markdown",
   "metadata": {
    "id": "STcNDZ2EPQC6"
   },
   "source": [
    "Características interessantes:\n",
    "- A curva é simétrica em relação a média\n",
    "- A média, a moda e a mediana são iguais"
   ]
  },
  {
   "cell_type": "markdown",
   "metadata": {
    "id": "biGDin5xPQC6"
   },
   "source": [
    "Lembram do BoxPLot?"
   ]
  },
  {
   "cell_type": "markdown",
   "metadata": {
    "id": "Y6KGvLXdPQC6"
   },
   "source": [
    "![](https://jingwen-z.github.io/images/20190319-boxplot-vs-pdf.png)"
   ]
  },
  {
   "cell_type": "markdown",
   "metadata": {
    "id": "WLihzMTSPQC6"
   },
   "source": [
    "o IQR nos ajudava a localizar outliers na distribuição."
   ]
  },
  {
   "cell_type": "markdown",
   "metadata": {
    "id": "msKokCn_PQC6"
   },
   "source": [
    "A distribuição normal é amplamente usada, mas já pararam pra pensar o trampo que daria para calcular as áreas? Isso envolve o cálculo de integrais, que é algo do cálculo II."
   ]
  },
  {
   "cell_type": "markdown",
   "metadata": {
    "id": "LmEQVfPXPQC6"
   },
   "source": [
    "Será que existe um jeito mais fácil? Sim! Vamos ver como a curva normal padrão pode nos ajudar!"
   ]
  },
  {
   "cell_type": "markdown",
   "metadata": {
    "id": "PDzRxpSbPQC6"
   },
   "source": [
    "### Distribuição Normal Padrão"
   ]
  },
  {
   "cell_type": "markdown",
   "metadata": {
    "id": "_a0wa7oaPQC6"
   },
   "source": [
    "Os pesquisadores calcularam valores de probabilidade para uma curva específica normal. Essa curva possui média igual a 0 e desvio padrão igual a 1."
   ]
  },
  {
   "cell_type": "markdown",
   "metadata": {
    "id": "dImM4G1sPQC7"
   },
   "source": [
    "Tá, mas dificilmente nossas distribuições vão ter exatamente média 0 e desvio padrão 1, certo? Certo!"
   ]
  },
  {
   "cell_type": "markdown",
   "metadata": {
    "id": "uwzI_EoNPQC7"
   },
   "source": [
    "O pulo do gato é que qualquer distribuição normal poderá passar pelo processo de padronização, que ajustará os valores de tal forma que média seja igual a 0 e o desvio padrão seja igual a 1."
   ]
  },
  {
   "cell_type": "markdown",
   "metadata": {
    "id": "PvnNVDvePQC7"
   },
   "source": [
    "Para isso utilizamos a transformação abaixo:"
   ]
  },
  {
   "cell_type": "markdown",
   "metadata": {
    "id": "iaO0_Eq6PQC7"
   },
   "source": [
    "![](https://encrypted-tbn0.gstatic.com/images?q=tbn%3AANd9GcRKw5o96x3h5uI4_-LC9l-MANxreLjcFB_QdQ&usqp=CAU)"
   ]
  },
  {
   "cell_type": "markdown",
   "metadata": {
    "id": "8xSGNKCfPQC7"
   },
   "source": [
    "Vamos criar uma distribuição normal e padronizá-la!"
   ]
  },
  {
   "cell_type": "code",
   "execution_count": null,
   "metadata": {},
   "outputs": [],
   "source": []
  },
  {
   "cell_type": "code",
   "execution_count": null,
   "metadata": {},
   "outputs": [],
   "source": []
  },
  {
   "cell_type": "code",
   "execution_count": null,
   "metadata": {},
   "outputs": [],
   "source": []
  },
  {
   "cell_type": "code",
   "execution_count": null,
   "metadata": {},
   "outputs": [],
   "source": []
  },
  {
   "cell_type": "code",
   "execution_count": null,
   "metadata": {},
   "outputs": [],
   "source": []
  },
  {
   "cell_type": "code",
   "execution_count": null,
   "metadata": {},
   "outputs": [],
   "source": []
  },
  {
   "cell_type": "code",
   "execution_count": null,
   "metadata": {},
   "outputs": [],
   "source": []
  },
  {
   "cell_type": "code",
   "execution_count": null,
   "metadata": {},
   "outputs": [],
   "source": []
  },
  {
   "cell_type": "code",
   "execution_count": null,
   "metadata": {},
   "outputs": [],
   "source": []
  },
  {
   "cell_type": "markdown",
   "metadata": {
    "id": "y8w5j9QyPQC-"
   },
   "source": [
    "Se quisermos saber, por exemplo, qual a probabilidade de observarmos valores menores que 45, transformamos 45 para Z score e usamos a função ```stats.norm.cdf``` para obter a probabilidade."
   ]
  },
  {
   "cell_type": "code",
   "execution_count": null,
   "metadata": {},
   "outputs": [],
   "source": []
  },
  {
   "cell_type": "code",
   "execution_count": null,
   "metadata": {},
   "outputs": [],
   "source": []
  },
  {
   "cell_type": "code",
   "execution_count": null,
   "metadata": {},
   "outputs": [],
   "source": []
  }
 ],
 "metadata": {
  "colab": {
   "name": "DSTN07 -  Estatística Descritiva - Parte II.ipynb",
   "provenance": []
  },
  "kernelspec": {
   "display_name": "Python 3 (ipykernel)",
   "language": "python",
   "name": "python3"
  },
  "language_info": {
   "codemirror_mode": {
    "name": "ipython",
    "version": 3
   },
   "file_extension": ".py",
   "mimetype": "text/x-python",
   "name": "python",
   "nbconvert_exporter": "python",
   "pygments_lexer": "ipython3",
   "version": "3.9.12"
  },
  "toc": {
   "base_numbering": 1,
   "nav_menu": {},
   "number_sections": true,
   "sideBar": true,
   "skip_h1_title": false,
   "title_cell": "Table of Contents",
   "title_sidebar": "Contents",
   "toc_cell": false,
   "toc_position": {
    "height": "calc(100% - 180px)",
    "left": "10px",
    "top": "150px",
    "width": "180.71249389648438px"
   },
   "toc_section_display": true,
   "toc_window_display": true
  }
 },
 "nbformat": 4,
 "nbformat_minor": 1
}
