{
 "cells": [
  {
   "cell_type": "markdown",
   "metadata": {
    "id": "t1RW2-5fPQBi"
   },
   "source": [
    "Hoje continuaremos com associações entre variáveis e depois conheceremos um pouco sobre distribuições de probabilidade."
   ]
  },
  {
   "cell_type": "code",
   "execution_count": 3,
   "metadata": {
    "executionInfo": {
     "elapsed": 1783,
     "status": "ok",
     "timestamp": 1604534846652,
     "user": {
      "displayName": "Bruno Carlos Vieira dos Santos",
      "photoUrl": "https://lh3.googleusercontent.com/a-/AOh14GjyjhO1J7E4_amgTO6tdRfjO7rX05VY1sZ1CCHw=s64",
      "userId": "03042938749526543894"
     },
     "user_tz": 180
    },
    "id": "N7zCWDyTPQBj"
   },
   "outputs": [],
   "source": [
    "import pandas as pd\n",
    "import numpy as np\n",
    "from scipy import stats\n",
    "import matplotlib.pyplot as plt\n",
    "import seaborn as sns\n",
    "import math\n",
    "from collections import Counter\n",
    "from scipy.stats import bernoulli"
   ]
  },
  {
   "cell_type": "markdown",
   "metadata": {
    "id": "9w5yV2IEPQBq"
   },
   "source": [
    "**Tópicos**:\n",
    " \n",
    " - Análise Bidimensional:\n",
    "     - Associação Entre Variáveis Quantitativas (parte II)\n",
    "         - Correlação de Spearman\n",
    "         - Spearman vs Pearson\n",
    "     - Associação Entre Variáveis Qualitativas e Quantitativas\n",
    "          - Correlação Point-Biserial\n",
    "          - R2\n",
    "          \n",
    " - Distribuições de Probabilidade\n",
    "     - O que são Distribuições de Probabilidade\n",
    "     - Distribuições Discretas\n",
    "         - Distribuição de Bernoulli\n",
    "         - Distribuição Binomial\n",
    "     - Distribuições Contínuas\n",
    "         - Distribuição Normal\n",
    "         - Distribuição Normal Padrão\n",
    " - Exercício\n"
   ]
  },
  {
   "cell_type": "markdown",
   "metadata": {
    "id": "lhQY5-tGPQBr"
   },
   "source": [
    "# Análise Bidimensional"
   ]
  },
  {
   "cell_type": "markdown",
   "metadata": {
    "id": "S6YZ0wL1PQBs"
   },
   "source": [
    "Vamos continuar com os estudos sobre análise bidimensional, olhando para associações entre variáveis quantitativas."
   ]
  },
  {
   "cell_type": "markdown",
   "metadata": {
    "id": "7lIUm9HlPQBs"
   },
   "source": [
    "## Associação Entre Variáveis Quantitativas (parte II)"
   ]
  },
  {
   "cell_type": "markdown",
   "metadata": {
    "id": "m5PthEwbPQBt"
   },
   "source": [
    "Vimos a correlação de Pearson e como ela pode ser calculada com numpy e pandas. Agora, será introduzido um novo meio de medir essa relação, que apresenta algumas vantagens. Vimos que a correlação de pearson varia de  -1 a 1 e que esta mede a relação <i>linear</i> entre variáveis quantitativas. Mas e se a relação não for linear? Bom, aí podemos utilizar a correlação de Spearman."
   ]
  },
  {
   "cell_type": "markdown",
   "metadata": {
    "id": "yhTbTrxCPQBu"
   },
   "source": [
    "## Correlação de Spearman"
   ]
  },
  {
   "cell_type": "markdown",
   "metadata": {
    "id": "NTJiZd0SPQBu"
   },
   "source": [
    "Para calcular a correlação de Spearman, vamo seguir o passo a passo:"
   ]
  },
  {
   "cell_type": "markdown",
   "metadata": {
    "id": "h_zpeWRtPQBv"
   },
   "source": [
    "<ol>\n",
    "    <li> Extrair o ranking de valores para as variáveis</li>\n",
    "    <li> Calcular a distância dos rankings </li>\n",
    "    <li> Calcular a distância ao quadrado</li>\n",
    "    <li> Aplicar a equação de Spearman </li>\n",
    "</ol>"
   ]
  },
  {
   "cell_type": "markdown",
   "metadata": {
    "id": "EbC4JZ7ePQBz"
   },
   "source": [
    "**1. Extrair o ranking de valores para as variáveis**"
   ]
  },
  {
   "cell_type": "markdown",
   "metadata": {
    "id": "kJmj6hKkPQB0"
   },
   "source": [
    "Vamos extrair o ranking de cada valor em relação às suas respectivas colunas."
   ]
  },
  {
   "cell_type": "code",
   "execution_count": null,
   "metadata": {},
   "outputs": [],
   "source": []
  },
  {
   "cell_type": "code",
   "execution_count": null,
   "metadata": {},
   "outputs": [],
   "source": []
  },
  {
   "cell_type": "code",
   "execution_count": null,
   "metadata": {},
   "outputs": [],
   "source": []
  },
  {
   "cell_type": "code",
   "execution_count": null,
   "metadata": {},
   "outputs": [],
   "source": []
  },
  {
   "cell_type": "code",
   "execution_count": null,
   "metadata": {},
   "outputs": [],
   "source": []
  },
  {
   "cell_type": "markdown",
   "metadata": {
    "id": "0LHsfGuiPQB5"
   },
   "source": [
    "**2. Calcular a distância dos rankings**"
   ]
  },
  {
   "cell_type": "markdown",
   "metadata": {
    "id": "-vicYyAPPQB5"
   },
   "source": [
    "Agora vamos calcular as diferenças de ranking por linhas."
   ]
  },
  {
   "cell_type": "code",
   "execution_count": null,
   "metadata": {},
   "outputs": [],
   "source": []
  },
  {
   "cell_type": "code",
   "execution_count": null,
   "metadata": {},
   "outputs": [],
   "source": []
  },
  {
   "cell_type": "markdown",
   "metadata": {
    "id": "At4pyJjkPQB7"
   },
   "source": [
    "**3. Calcular a distância ao quadrado**"
   ]
  },
  {
   "cell_type": "code",
   "execution_count": null,
   "metadata": {},
   "outputs": [],
   "source": []
  },
  {
   "cell_type": "code",
   "execution_count": null,
   "metadata": {},
   "outputs": [],
   "source": []
  },
  {
   "cell_type": "markdown",
   "metadata": {
    "id": "U-YT-zTbPQB-"
   },
   "source": [
    "**4. Aplicar a equação de Spearman**"
   ]
  },
  {
   "cell_type": "markdown",
   "metadata": {
    "id": "CKXMcQuDPQB-"
   },
   "source": [
    "<img src=\"https://bloqm.files.wordpress.com/2013/10/rho-de-spearman.jpg\" height=300 width=300>"
   ]
  },
  {
   "cell_type": "code",
   "execution_count": null,
   "metadata": {},
   "outputs": [],
   "source": []
  },
  {
   "cell_type": "code",
   "execution_count": null,
   "metadata": {},
   "outputs": [],
   "source": []
  },
  {
   "cell_type": "code",
   "execution_count": null,
   "metadata": {},
   "outputs": [],
   "source": []
  },
  {
   "cell_type": "markdown",
   "metadata": {
    "id": "uDGrXLDxPQCB"
   },
   "source": [
    "Vamos validar nosso método, comparando-o com o resultado obtido pelo método ```.corr(method='spearman')``` do pandas"
   ]
  },
  {
   "cell_type": "code",
   "execution_count": null,
   "metadata": {},
   "outputs": [],
   "source": []
  },
  {
   "cell_type": "code",
   "execution_count": null,
   "metadata": {},
   "outputs": [],
   "source": []
  },
  {
   "cell_type": "markdown",
   "metadata": {
    "id": "pkDVgz7qPQCD"
   },
   "source": [
    "## Spearman vs Pearson"
   ]
  },
  {
   "cell_type": "markdown",
   "metadata": {
    "id": "dRtrchDgPQCD"
   },
   "source": [
    "### Não Linearidade"
   ]
  },
  {
   "cell_type": "markdown",
   "metadata": {
    "id": "oQIoLrsdPQCD"
   },
   "source": [
    "Vamos ver como Spearman consegue captar padrões que Pearson deixa \"passar\""
   ]
  },
  {
   "cell_type": "code",
   "execution_count": null,
   "metadata": {},
   "outputs": [],
   "source": []
  },
  {
   "cell_type": "code",
   "execution_count": null,
   "metadata": {},
   "outputs": [],
   "source": []
  },
  {
   "cell_type": "code",
   "execution_count": null,
   "metadata": {},
   "outputs": [],
   "source": []
  },
  {
   "cell_type": "code",
   "execution_count": null,
   "metadata": {},
   "outputs": [],
   "source": []
  },
  {
   "cell_type": "code",
   "execution_count": null,
   "metadata": {},
   "outputs": [],
   "source": []
  },
  {
   "cell_type": "code",
   "execution_count": null,
   "metadata": {},
   "outputs": [],
   "source": []
  },
  {
   "cell_type": "markdown",
   "metadata": {
    "id": "7kKn_7fyPQCM"
   },
   "source": [
    "Note que a correlação de Pearson não consegue captar uma relação não-linear tão bem quanto a de Spearman."
   ]
  },
  {
   "cell_type": "markdown",
   "metadata": {
    "id": "dzkYHw94PQCM"
   },
   "source": [
    "### Outliers"
   ]
  },
  {
   "cell_type": "markdown",
   "metadata": {
    "id": "V_CfF7oMPQCM"
   },
   "source": [
    "Quando existem outliers na amostra, a correlação de pearson é fortemente afetada, podendo resultar até mesmo numa inversão de tendência."
   ]
  },
  {
   "cell_type": "code",
   "execution_count": null,
   "metadata": {},
   "outputs": [],
   "source": []
  },
  {
   "cell_type": "code",
   "execution_count": null,
   "metadata": {},
   "outputs": [],
   "source": []
  },
  {
   "cell_type": "code",
   "execution_count": null,
   "metadata": {},
   "outputs": [],
   "source": []
  },
  {
   "cell_type": "code",
   "execution_count": null,
   "metadata": {},
   "outputs": [],
   "source": []
  },
  {
   "cell_type": "code",
   "execution_count": null,
   "metadata": {},
   "outputs": [],
   "source": []
  },
  {
   "cell_type": "code",
   "execution_count": null,
   "metadata": {},
   "outputs": [],
   "source": []
  },
  {
   "cell_type": "code",
   "execution_count": null,
   "metadata": {},
   "outputs": [],
   "source": []
  },
  {
   "cell_type": "code",
   "execution_count": null,
   "metadata": {},
   "outputs": [],
   "source": []
  },
  {
   "cell_type": "markdown",
   "metadata": {
    "id": "2wm0z7KKPQCU"
   },
   "source": [
    "## Associação Entre Variáveis Qualitativas e Quantitativas"
   ]
  },
  {
   "cell_type": "markdown",
   "metadata": {
    "id": "nk6uis98PQCU"
   },
   "source": [
    "Nossa última possível combinação entre natureza de variáveis é o caso de querermos medir relações entre uma variável qualitativa e uma variável quantitativa. Para isso utilizaremos a correlação Point-Biserial e a análise de R2."
   ]
  },
  {
   "cell_type": "markdown",
   "metadata": {
    "id": "_u0du_pyPQCU"
   },
   "source": [
    "### Correlação Point-Biserial"
   ]
  },
  {
   "cell_type": "markdown",
   "metadata": {
    "id": "Mbe3nSpGPQCU"
   },
   "source": [
    "A correlaçao Point-Biserial é um caso particular da correlação de Pearson. É usada para casos em que têm-se uma variável dicotômica (2 valores possíveis) e uma variável contínua."
   ]
  },
  {
   "cell_type": "markdown",
   "metadata": {
    "id": "9iTQ5wLRPQCU"
   },
   "source": [
    "![](https://wikimedia.org/api/rest_v1/media/math/render/svg/790e9e1b2fd9213233a747036ff6b87efe4efb5e)"
   ]
  },
  {
   "cell_type": "markdown",
   "metadata": {
    "id": "Q6JS4dg4PQCV"
   },
   "source": [
    "Assim como as demais correlações, a Point-Biserial varia de -1 a 1. Na equação acima:"
   ]
  },
  {
   "cell_type": "markdown",
   "metadata": {
    "id": "tg2ChVwOPQCV"
   },
   "source": [
    "```M1```: Média da variável contínua para o grupo 1<br>\n",
    "```M0```: Média da variável contínua para o grupo 0<br>\n",
    "```n1```: Número de observações do grupo 1<br>\n",
    "```n0```: Número de observações do grupo 0<br>\n",
    "```n```:  Número total de observações<br>\n",
    "```Sn```: Desvio Padrão Populacional<br>"
   ]
  },
  {
   "cell_type": "markdown",
   "metadata": {
    "id": "xUpuD14pPQCV"
   },
   "source": [
    "Vamos criar uma variável contínua cuja. Porém, vamos constituí-la de um primeiro grupo, x1, cuja média é 10 e desvio padrão é 10 e outro grupo, x2, cuja média é 60 e desvio padrão é 10. Criaremos 100 amostras para as quais a variável y corresponde a 1 e 100 para as quais a variável y é 0."
   ]
  },
  {
   "cell_type": "code",
   "execution_count": null,
   "metadata": {},
   "outputs": [],
   "source": []
  },
  {
   "cell_type": "code",
   "execution_count": null,
   "metadata": {},
   "outputs": [],
   "source": []
  },
  {
   "cell_type": "code",
   "execution_count": null,
   "metadata": {},
   "outputs": [],
   "source": []
  },
  {
   "cell_type": "code",
   "execution_count": null,
   "metadata": {},
   "outputs": [],
   "source": []
  },
  {
   "cell_type": "code",
   "execution_count": null,
   "metadata": {},
   "outputs": [],
   "source": []
  },
  {
   "cell_type": "code",
   "execution_count": null,
   "metadata": {},
   "outputs": [],
   "source": []
  },
  {
   "cell_type": "markdown",
   "metadata": {
    "id": "J94fke7iPQCZ"
   },
   "source": [
    "A correlação Point-Biserial será numericamente igual a Correlação de Pearson."
   ]
  },
  {
   "cell_type": "code",
   "execution_count": null,
   "metadata": {},
   "outputs": [],
   "source": []
  },
  {
   "cell_type": "code",
   "execution_count": null,
   "metadata": {},
   "outputs": [],
   "source": []
  },
  {
   "cell_type": "code",
   "execution_count": null,
   "metadata": {},
   "outputs": [],
   "source": []
  },
  {
   "cell_type": "code",
   "execution_count": null,
   "metadata": {},
   "outputs": [],
   "source": []
  },
  {
   "cell_type": "markdown",
   "metadata": {
    "id": "JmxfOpqKPQCa"
   },
   "source": [
    "### R2"
   ]
  },
  {
   "cell_type": "markdown",
   "metadata": {
    "id": "J_2LRBUxPQCa"
   },
   "source": [
    "A última medida de associação entre as variáveis que veremos é o R2. O R2 quantifica o quanto, em %, a variável X explica a variável Y. E para isso, ele utiliza o conceito de variância, o qual já vimos!.\n",
    "A lógica por trás desse cálculo é a seguinte:<br>\n",
    "\n",
    "Vamos medir a variância do nosso conjunto de dados Y. Se a variância de Y, quando olhada dentro de grupos X, for menor, significa que X explica uma parcela (%) de Y. Esse % é justamente nosso R2."
   ]
  },
  {
   "cell_type": "markdown",
   "metadata": {
    "id": "EMeyiQQ3PQCa"
   },
   "source": [
    "Imagine a variável salário! Dentro de uma empresa o salário pode variar desde RS 5.000,00 a RS 100.000,00. Uma alta variabilidade, concorda? Mas se olharmos os grupos (cargos) separadamente, o salário tende a variar pouco entre os gerentes, C-Level, Tech Leads, pois cargos parecidos tendem a ganhar salários parecidos. Ou seja, a variabilidade diminui quando olhamos a variável salário pela perspectiva dos cargos."
   ]
  },
  {
   "cell_type": "code",
   "execution_count": null,
   "metadata": {},
   "outputs": [],
   "source": []
  },
  {
   "cell_type": "code",
   "execution_count": null,
   "metadata": {},
   "outputs": [],
   "source": []
  },
  {
   "cell_type": "code",
   "execution_count": null,
   "metadata": {},
   "outputs": [],
   "source": []
  },
  {
   "cell_type": "code",
   "execution_count": null,
   "metadata": {},
   "outputs": [],
   "source": []
  },
  {
   "cell_type": "code",
   "execution_count": null,
   "metadata": {},
   "outputs": [],
   "source": []
  },
  {
   "cell_type": "code",
   "execution_count": null,
   "metadata": {},
   "outputs": [],
   "source": []
  },
  {
   "cell_type": "code",
   "execution_count": null,
   "metadata": {},
   "outputs": [],
   "source": []
  },
  {
   "cell_type": "markdown",
   "metadata": {
    "id": "aq8Xt8ruPQCe"
   },
   "source": [
    "Agora iremos calcular a variância olhando pela perspectiva dos cargos. Para isso precisaremos de uma medida-resumo, que pode ser a média. Mas iremos ponderar a média das variâncias pelo número de observações de cada grupo."
   ]
  },
  {
   "cell_type": "code",
   "execution_count": null,
   "metadata": {},
   "outputs": [],
   "source": []
  },
  {
   "cell_type": "code",
   "execution_count": null,
   "metadata": {},
   "outputs": [],
   "source": []
  },
  {
   "cell_type": "code",
   "execution_count": null,
   "metadata": {},
   "outputs": [],
   "source": []
  },
  {
   "cell_type": "code",
   "execution_count": null,
   "metadata": {},
   "outputs": [],
   "source": []
  },
  {
   "cell_type": "code",
   "execution_count": null,
   "metadata": {},
   "outputs": [],
   "source": []
  },
  {
   "cell_type": "code",
   "execution_count": null,
   "metadata": {},
   "outputs": [],
   "source": []
  },
  {
   "cell_type": "code",
   "execution_count": null,
   "metadata": {},
   "outputs": [],
   "source": []
  },
  {
   "cell_type": "markdown",
   "metadata": {
    "id": "qaRIBLPCPQCh"
   },
   "source": [
    "# Distribuições de Probabilidade"
   ]
  },
  {
   "cell_type": "markdown",
   "metadata": {
    "id": "NMHTkQOOPQCh"
   },
   "source": [
    "Uma distribuição de probabilidade é um modelo matemático capaz de nos fornecer a probabilidade de ocorrência de um evento."
   ]
  },
  {
   "cell_type": "markdown",
   "metadata": {
    "id": "9gJ4y0lxPQCh"
   },
   "source": [
    "Podemos classificá-las em dois tipos:\n",
    "- Discreta\n",
    "- Contínua"
   ]
  },
  {
   "cell_type": "markdown",
   "metadata": {
    "id": "6v57XDDfPQCh"
   },
   "source": [
    "As distribuições discretas são utilizadas para modelar variáveis contáveis, como o número de gols numa partida de futebol (0,1,2,3,4...)"
   ]
  },
  {
   "cell_type": "markdown",
   "metadata": {
    "id": "5MjLCMSwPQCi"
   },
   "source": [
    "As distribuições contínuas, por sua vez, são utilizadas quando queremos modelar variáveis cujas ocorrências podem estar associadas a infinitos valores dentro de um intervalo. Exemplo: Temperatura. A temperatura de uma cidade pode assumir qualquer valor entre 10 e 20 graus, seja ele 10.1, 10.2, 10.2123, 10.2345, e assim por diante. São infinitos valores possíveis."
   ]
  },
  {
   "cell_type": "markdown",
   "metadata": {
    "id": "kFUE2gMnPQCi"
   },
   "source": [
    "Vamos ver alguns casos especiais de cada uma dessas distribuições!"
   ]
  },
  {
   "cell_type": "markdown",
   "metadata": {
    "id": "q1NQYE5SPQCi"
   },
   "source": [
    "## Distribuições Discretas"
   ]
  },
  {
   "cell_type": "markdown",
   "metadata": {
    "id": "mC1LfSVdPQCi"
   },
   "source": [
    "### Uniforme"
   ]
  },
  {
   "cell_type": "markdown",
   "metadata": {
    "id": "b4EaN-9IPQCi"
   },
   "source": [
    "Quando os valores possíveis para um evento possuírem igual probabilidade de ocorrência, dizemos que estes seguem uma distribuição uniforme."
   ]
  },
  {
   "cell_type": "markdown",
   "metadata": {
    "id": "MocefXl8PQCi"
   },
   "source": [
    "Um exemplo claro desse caso é o lançamento de um dado não viciado."
   ]
  },
  {
   "cell_type": "markdown",
   "metadata": {
    "id": "oeS2gTqgPQCi"
   },
   "source": [
    "Um dado possui 6 lados e, se não estiver viciado, cada face possuirá igual probabilidade de ocorrer em um lançamento."
   ]
  },
  {
   "cell_type": "markdown",
   "metadata": {
    "id": "-9FDPPhiPQCi"
   },
   "source": [
    "Nesse caso, o modelo matemático que descreve a probabilidade para as possíveis ocorrências é:"
   ]
  },
  {
   "cell_type": "markdown",
   "metadata": {
    "id": "0OmDKGDaPQCj"
   },
   "source": [
    "Onde P é a probabilidade, x são os valores possíveis e n a quantidade de elementos possíveis de ocorrer."
   ]
  },
  {
   "cell_type": "markdown",
   "metadata": {
    "id": "ZLLYBKt1PQCj"
   },
   "source": [
    "Vamos simular o lançamento de um dado e observar a distribuição dos resultados obtidos."
   ]
  },
  {
   "cell_type": "code",
   "execution_count": null,
   "metadata": {},
   "outputs": [],
   "source": []
  },
  {
   "cell_type": "code",
   "execution_count": null,
   "metadata": {},
   "outputs": [],
   "source": []
  },
  {
   "cell_type": "code",
   "execution_count": null,
   "metadata": {},
   "outputs": [],
   "source": []
  },
  {
   "cell_type": "code",
   "execution_count": null,
   "metadata": {},
   "outputs": [],
   "source": []
  },
  {
   "cell_type": "code",
   "execution_count": null,
   "metadata": {},
   "outputs": [],
   "source": []
  },
  {
   "cell_type": "code",
   "execution_count": null,
   "metadata": {},
   "outputs": [],
   "source": []
  },
  {
   "cell_type": "code",
   "execution_count": null,
   "metadata": {},
   "outputs": [],
   "source": []
  },
  {
   "cell_type": "markdown",
   "metadata": {
    "id": "VwIxdbkYPQCl"
   },
   "source": [
    "Note que cada face ocorre um número próximo de vezes."
   ]
  },
  {
   "cell_type": "code",
   "execution_count": null,
   "metadata": {},
   "outputs": [],
   "source": []
  },
  {
   "cell_type": "code",
   "execution_count": null,
   "metadata": {},
   "outputs": [],
   "source": []
  },
  {
   "cell_type": "code",
   "execution_count": null,
   "metadata": {},
   "outputs": [],
   "source": []
  },
  {
   "cell_type": "markdown",
   "metadata": {
    "id": "fZs27gLFPQCl"
   },
   "source": [
    "### Bernoulli"
   ]
  },
  {
   "cell_type": "markdown",
   "metadata": {
    "id": "08oIPuuvPQCm"
   },
   "source": [
    "A distribuição de Bernoulli é uma outra distribuição discreta, cujo propósito é avaliar a probabilidade de sucesso de um evento. Por sucesso, fala-se em um evento de interesse do pesquisador. \n",
    "A probabilidade de sucesso do evento é p e a probabilidade de fracasso é 1 - p."
   ]
  },
  {
   "cell_type": "markdown",
   "metadata": {
    "id": "dbmlW4F7PQCm"
   },
   "source": [
    "Um exemplo bastante comum dessa distribuição envolve o lançamento de uma moeda, em que dar \"coroa\" pode ser o evento de sucesso com probabilidade p e dar \"cara\" pode ser o evento de fracasso, de probabilidade 1 - p. Quando a moeda não é viciada, espera-se que  p = 0.5."
   ]
  },
  {
   "cell_type": "markdown",
   "metadata": {
    "id": "6VB0GP2oPQCm"
   },
   "source": [
    "Porém, há uma série de aplicações bastante conhecidas e definidas que utilizam distribuição de bernoulli, tais como:\n",
    "- Ramo de Seguros\n",
    "- Ramo de Crédito"
   ]
  },
  {
   "cell_type": "markdown",
   "metadata": {
    "id": "niy1cjMFPQCm"
   },
   "source": [
    "**a distribuição de Bernoulli, a média é sempre a probabilidade de sucesso, p, e a a variância é p(1-p)**"
   ]
  },
  {
   "cell_type": "markdown",
   "metadata": {
    "id": "yqUUqlukPQCm"
   },
   "source": [
    "Para simular um evento que segue uma distribuição de Bernoulli, usamos a biblioteca scipy e o módulo stats. ```scipy.stats```"
   ]
  },
  {
   "cell_type": "code",
   "execution_count": null,
   "metadata": {},
   "outputs": [],
   "source": []
  },
  {
   "cell_type": "code",
   "execution_count": null,
   "metadata": {},
   "outputs": [],
   "source": []
  },
  {
   "cell_type": "code",
   "execution_count": null,
   "metadata": {},
   "outputs": [],
   "source": []
  },
  {
   "cell_type": "code",
   "execution_count": null,
   "metadata": {},
   "outputs": [],
   "source": []
  },
  {
   "cell_type": "code",
   "execution_count": null,
   "metadata": {},
   "outputs": [],
   "source": []
  },
  {
   "cell_type": "code",
   "execution_count": null,
   "metadata": {},
   "outputs": [],
   "source": []
  },
  {
   "cell_type": "code",
   "execution_count": null,
   "metadata": {},
   "outputs": [],
   "source": []
  },
  {
   "cell_type": "code",
   "execution_count": null,
   "metadata": {},
   "outputs": [],
   "source": []
  },
  {
   "cell_type": "code",
   "execution_count": null,
   "metadata": {},
   "outputs": [],
   "source": []
  },
  {
   "cell_type": "code",
   "execution_count": null,
   "metadata": {},
   "outputs": [],
   "source": []
  },
  {
   "cell_type": "code",
   "execution_count": null,
   "metadata": {},
   "outputs": [],
   "source": []
  },
  {
   "cell_type": "code",
   "execution_count": null,
   "metadata": {},
   "outputs": [],
   "source": []
  },
  {
   "cell_type": "code",
   "execution_count": null,
   "metadata": {},
   "outputs": [],
   "source": []
  },
  {
   "cell_type": "code",
   "execution_count": null,
   "metadata": {},
   "outputs": [],
   "source": []
  },
  {
   "cell_type": "markdown",
   "metadata": {
    "id": "BrSsIR4wPQCq"
   },
   "source": [
    "## Distribuição binomial"
   ]
  },
  {
   "cell_type": "markdown",
   "metadata": {
    "id": "DG1McoiVPQCq"
   },
   "source": [
    "Agora, imagine que repetimos um ensaio de bernoulli (o lançamento de uma moeda, por exemplo) um número n de vezes. A quantidade de vezes que obtivemos sucesso nos n ensaios resultaram em uma probabilidade. "
   ]
  },
  {
   "cell_type": "markdown",
   "metadata": {
    "id": "-KgLXa_HPQCq"
   },
   "source": [
    "Exemplo: Qual a probabilidade de obtermos 2 caras em 5 lançamentos de uma moeda não viciada ?"
   ]
  },
  {
   "cell_type": "markdown",
   "metadata": {
    "id": "HQjC_7nNPQCq"
   },
   "source": [
    "Se realizarmos m vezes os 5 lançamentos, conseguimos construir uma curva de probabilidade e responder essa pergunta."
   ]
  },
  {
   "cell_type": "markdown",
   "metadata": {
    "id": "W9Vr04a4PQCq"
   },
   "source": [
    "![](https://miro.medium.com/max/2100/1*WVD2_j2CJkb14LR7nVsvjw.jpeg)"
   ]
  },
  {
   "cell_type": "code",
   "execution_count": null,
   "metadata": {},
   "outputs": [],
   "source": []
  },
  {
   "cell_type": "code",
   "execution_count": null,
   "metadata": {},
   "outputs": [],
   "source": []
  },
  {
   "cell_type": "code",
   "execution_count": null,
   "metadata": {},
   "outputs": [],
   "source": []
  },
  {
   "cell_type": "code",
   "execution_count": null,
   "metadata": {},
   "outputs": [],
   "source": []
  },
  {
   "cell_type": "code",
   "execution_count": null,
   "metadata": {},
   "outputs": [],
   "source": []
  },
  {
   "cell_type": "code",
   "execution_count": null,
   "metadata": {},
   "outputs": [],
   "source": []
  },
  {
   "cell_type": "code",
   "execution_count": null,
   "metadata": {},
   "outputs": [],
   "source": []
  },
  {
   "cell_type": "code",
   "execution_count": null,
   "metadata": {},
   "outputs": [],
   "source": []
  },
  {
   "cell_type": "markdown",
   "metadata": {
    "id": "-a1TpbgGPQCw"
   },
   "source": [
    "Também temos a forma \"analítica\" de construir uma curva de probabilidade para esse tipo de ensaio, utilizando a equação abaixo."
   ]
  },
  {
   "cell_type": "markdown",
   "metadata": {
    "id": "nNWdSgXePQCw"
   },
   "source": [
    "![](https://wikimedia.org/api/rest_v1/media/math/render/svg/9757f2616b6e9dffea51a6d9bcf9f958988063c3)"
   ]
  },
  {
   "cell_type": "markdown",
   "metadata": {
    "id": "puC3gxJSPQCw"
   },
   "source": [
    "Onde:<br>\n",
    "```n```: Número de ensaios<br>\n",
    "```p```: Probabilidade de Sucesso<br>\n",
    "```k```: Número de sucessos<br>"
   ]
  },
  {
   "cell_type": "markdown",
   "metadata": {
    "id": "MtiHOwZ9PQCw"
   },
   "source": [
    "Lembram do Fatorial?"
   ]
  },
  {
   "cell_type": "markdown",
   "metadata": {
    "id": "LeOYovnwPQCw"
   },
   "source": [
    "**Fatorial de 5**: 5 x 4 x 3 x 2 x 1"
   ]
  },
  {
   "cell_type": "markdown",
   "metadata": {
    "id": "dyYAsAFQPQCw"
   },
   "source": [
    "Aplicando ao nosso caso: n = 5, p = 0.5, k = 2"
   ]
  },
  {
   "cell_type": "code",
   "execution_count": null,
   "metadata": {},
   "outputs": [],
   "source": []
  },
  {
   "cell_type": "code",
   "execution_count": null,
   "metadata": {},
   "outputs": [],
   "source": []
  },
  {
   "cell_type": "code",
   "execution_count": null,
   "metadata": {},
   "outputs": [],
   "source": []
  },
  {
   "cell_type": "code",
   "execution_count": null,
   "metadata": {},
   "outputs": [],
   "source": []
  },
  {
   "cell_type": "code",
   "execution_count": null,
   "metadata": {},
   "outputs": [],
   "source": []
  },
  {
   "cell_type": "markdown",
   "metadata": {
    "id": "I4x7Hpz4PQCz"
   },
   "source": [
    "Note que para distribuições discretas, podemos associar diretamente um valor (observação) a uma probabilidade por meio de uma função matemática ou simulação. Essa função matemática se chama Função de Massa de Probabilidade."
   ]
  },
  {
   "cell_type": "markdown",
   "metadata": {
    "id": "wMX1U2EYPQCz"
   },
   "source": [
    "Exemplo de Aplicação: Call Center"
   ]
  },
  {
   "cell_type": "markdown",
   "metadata": {
    "id": "dRL1Va2gPQCz"
   },
   "source": [
    "Imagine que você trabalha como cientista numna empresa de Call Center e você encontra as seguintes informações sobre a operação:\n",
    "* A probabilidade de conversão de um cliente a cada ligação é 4% <br>\n",
    "* Cada funcionário faz em média 50 ligações por dia <br>\n",
    "* A receita média que cada cliente traz é RS 20.00 <br>\n",
    "* A empresa tem 100 funcionários ligando para clientes<br>\n",
    "* Cada funcionário recebe um salário de RS 200.00 por dia de trabalho<br>"
   ]
  },
  {
   "cell_type": "markdown",
   "metadata": {
    "id": "8LdFpCJiPQCz"
   },
   "source": [
    "Vocês conseguem imaginar os funcionários como distribuições binomiais?"
   ]
  },
  {
   "cell_type": "markdown",
   "metadata": {
    "id": "jm7ES9MmPQCz"
   },
   "source": [
    "Cada funcionário é uma distribuição binomial, cujo p=4% e n=50."
   ]
  },
  {
   "cell_type": "code",
   "execution_count": 7,
   "metadata": {
    "executionInfo": {
     "elapsed": 1017,
     "status": "ok",
     "timestamp": 1604534941290,
     "user": {
      "displayName": "Bruno Carlos Vieira dos Santos",
      "photoUrl": "https://lh3.googleusercontent.com/a-/AOh14GjyjhO1J7E4_amgTO6tdRfjO7rX05VY1sZ1CCHw=s64",
      "userId": "03042938749526543894"
     },
     "user_tz": 180
    },
    "id": "fpFubVb9PQC0"
   },
   "outputs": [],
   "source": [
    "# Simulação do call center\n",
    "\n",
    "# numero de funcionarios\n",
    "funcionarios = 100\n",
    "# Salario dos funcionarios\n",
    "salario = 200\n",
    "# numero de ligações\n",
    "n_ligacoes = 50\n",
    "# probabilidade de sucesso da ligação \n",
    "p = 0.04\n",
    "#receita trazida por um sucesso\n",
    "receita = 100"
   ]
  },
  {
   "cell_type": "code",
   "execution_count": null,
   "metadata": {},
   "outputs": [],
   "source": []
  },
  {
   "cell_type": "code",
   "execution_count": null,
   "metadata": {},
   "outputs": [],
   "source": []
  },
  {
   "cell_type": "code",
   "execution_count": null,
   "metadata": {},
   "outputs": [],
   "source": []
  },
  {
   "cell_type": "markdown",
   "metadata": {
    "id": "DHmOWrcPPQC2"
   },
   "source": [
    "O que você como cientista de dados pode propor?"
   ]
  },
  {
   "cell_type": "markdown",
   "metadata": {
    "id": "NvYdcQgMPQC2"
   },
   "source": [
    "* Aumentar número de ligações!\n",
    "* Aumentar a conversão! (COMO?) --> Faça um modelo"
   ]
  },
  {
   "cell_type": "markdown",
   "metadata": {
    "id": "dah74MHOPQC3"
   },
   "source": [
    "Vamos supor que cada funcionário recebeu treinamento e agora consegue fazer 55 ligações. E seu modelo consegue aumentar a conversão para 5%."
   ]
  },
  {
   "cell_type": "code",
   "execution_count": null,
   "metadata": {},
   "outputs": [],
   "source": []
  },
  {
   "cell_type": "code",
   "execution_count": null,
   "metadata": {},
   "outputs": [],
   "source": []
  },
  {
   "cell_type": "code",
   "execution_count": null,
   "metadata": {},
   "outputs": [],
   "source": []
  },
  {
   "cell_type": "code",
   "execution_count": null,
   "metadata": {},
   "outputs": [],
   "source": []
  },
  {
   "cell_type": "code",
   "execution_count": null,
   "metadata": {},
   "outputs": [],
   "source": []
  },
  {
   "cell_type": "code",
   "execution_count": null,
   "metadata": {},
   "outputs": [],
   "source": []
  },
  {
   "cell_type": "code",
   "execution_count": null,
   "metadata": {},
   "outputs": [],
   "source": []
  },
  {
   "cell_type": "markdown",
   "metadata": {
    "id": "ht7XijXRPQC4"
   },
   "source": [
    "## Distribuições Contínuas"
   ]
  },
  {
   "cell_type": "markdown",
   "metadata": {
    "id": "97po-s93PQC5"
   },
   "source": [
    "### Distribuição Normal"
   ]
  },
  {
   "cell_type": "markdown",
   "metadata": {
    "id": "O8imNZZePQC5"
   },
   "source": [
    "![](https://i.pinimg.com/originals/34/9b/f6/349bf66317f5a051c89a7b26264c9062.jpg)"
   ]
  },
  {
   "cell_type": "markdown",
   "metadata": {
    "id": "Pf7pS1hQPQC5"
   },
   "source": [
    "A Distribuição Normal é uma distribuiçao contínua e é uma das mais conhecidas na estatística e na ciência de dados. Isso, pois muitos fenômenos podem ser modelados por meio de uma distribuição normal."
   ]
  },
  {
   "cell_type": "markdown",
   "metadata": {
    "id": "T4XJYDAJPQC5"
   },
   "source": [
    "Exemplo: Altura de uma população, Idade de uma população, retorno financeiro de ações e etc."
   ]
  },
  {
   "cell_type": "markdown",
   "metadata": {
    "id": "jj4tax5JPQC5"
   },
   "source": [
    "Matematicamente, uma distribuição é normal se segue a seguinte função de densidade de probabilidade."
   ]
  },
  {
   "cell_type": "markdown",
   "metadata": {
    "id": "EvRn37cFPQC5"
   },
   "source": [
    "![](https://wikimedia.org/api/rest_v1/media/math/render/svg/362834b765239b64cf7719a3a3a04e172c883e3d)"
   ]
  },
  {
   "cell_type": "markdown",
   "metadata": {
    "id": "gUNlfiyvPQC5"
   },
   "source": [
    "Pra definir essa função, precisamos de uma média, representada pela letra grega mi e um desvio padrão, representado pela letra grega sigma."
   ]
  },
  {
   "cell_type": "markdown",
   "metadata": {
    "id": "eJWA9Jf2PQC5"
   },
   "source": [
    "Diferentemente da Função de Massa de Probabilidade, essa Função não retorna a probabilidade, mas um valor correspondente ao que se conhece por densidade. Para calcular a probabilidade temos que encontrar a área dentro do intervalo especificado."
   ]
  },
  {
   "cell_type": "markdown",
   "metadata": {
    "id": "LgXlMz7SPQC5"
   },
   "source": [
    "![](https://statistics.laerd.com/statistical-guides/img/normal-7.png)"
   ]
  },
  {
   "cell_type": "markdown",
   "metadata": {
    "id": "STcNDZ2EPQC6"
   },
   "source": [
    "Características interessantes:\n",
    "- A curva é simétrica em relação a média\n",
    "- A média, a moda e a mediana são iguais"
   ]
  },
  {
   "cell_type": "markdown",
   "metadata": {
    "id": "biGDin5xPQC6"
   },
   "source": [
    "Lembram do BoxPLot?"
   ]
  },
  {
   "cell_type": "markdown",
   "metadata": {
    "id": "Y6KGvLXdPQC6"
   },
   "source": [
    "![](https://jingwen-z.github.io/images/20190319-boxplot-vs-pdf.png)"
   ]
  },
  {
   "cell_type": "markdown",
   "metadata": {
    "id": "WLihzMTSPQC6"
   },
   "source": [
    "o IQR nos ajudava a localizar outliers na distribuição."
   ]
  },
  {
   "cell_type": "markdown",
   "metadata": {
    "id": "msKokCn_PQC6"
   },
   "source": [
    "A distribuição normal é amplamente usada, mas já pararam pra pensar o trampo que daria para calcular as áreas? Isso envolve o cálculo de integrais, que é algo do cálculo II."
   ]
  },
  {
   "cell_type": "markdown",
   "metadata": {
    "id": "LmEQVfPXPQC6"
   },
   "source": [
    "Será que existe um jeito mais fácil? Sim! Vamos ver como a curva normal padrão pode nos ajudar!"
   ]
  },
  {
   "cell_type": "markdown",
   "metadata": {
    "id": "PDzRxpSbPQC6"
   },
   "source": [
    "### Distribuição Normal Padrão"
   ]
  },
  {
   "cell_type": "markdown",
   "metadata": {
    "id": "_a0wa7oaPQC6"
   },
   "source": [
    "Os pesquisadores calcularam valores de probabilidade para uma curva específica normal. Essa curva possui média igual a 0 e desvio padrão igual a 1."
   ]
  },
  {
   "cell_type": "markdown",
   "metadata": {
    "id": "dImM4G1sPQC7"
   },
   "source": [
    "Tá, mas dificilmente nossas distribuições vão ter exatamente média 0 e desvio padrão 1, certo? Certo!"
   ]
  },
  {
   "cell_type": "markdown",
   "metadata": {
    "id": "uwzI_EoNPQC7"
   },
   "source": [
    "O pulo do gato é que qualquer distribuição normal poderá passar pelo processo de padronização, que ajustará os valores de tal forma que média seja igual a 0 e o desvio padrão seja igual a 1."
   ]
  },
  {
   "cell_type": "markdown",
   "metadata": {
    "id": "PvnNVDvePQC7"
   },
   "source": [
    "Para isso utilizamos a transformação abaixo:"
   ]
  },
  {
   "cell_type": "markdown",
   "metadata": {
    "id": "iaO0_Eq6PQC7"
   },
   "source": [
    "![](https://encrypted-tbn0.gstatic.com/images?q=tbn%3AANd9GcRKw5o96x3h5uI4_-LC9l-MANxreLjcFB_QdQ&usqp=CAU)"
   ]
  },
  {
   "cell_type": "markdown",
   "metadata": {
    "id": "8xSGNKCfPQC7"
   },
   "source": [
    "Vamos criar uma distribuição normal e padronizá-la!"
   ]
  },
  {
   "cell_type": "code",
   "execution_count": null,
   "metadata": {},
   "outputs": [],
   "source": []
  },
  {
   "cell_type": "code",
   "execution_count": null,
   "metadata": {},
   "outputs": [],
   "source": []
  },
  {
   "cell_type": "code",
   "execution_count": null,
   "metadata": {},
   "outputs": [],
   "source": []
  },
  {
   "cell_type": "code",
   "execution_count": null,
   "metadata": {},
   "outputs": [],
   "source": []
  },
  {
   "cell_type": "code",
   "execution_count": null,
   "metadata": {},
   "outputs": [],
   "source": []
  },
  {
   "cell_type": "code",
   "execution_count": null,
   "metadata": {},
   "outputs": [],
   "source": []
  },
  {
   "cell_type": "code",
   "execution_count": null,
   "metadata": {},
   "outputs": [],
   "source": []
  },
  {
   "cell_type": "code",
   "execution_count": null,
   "metadata": {},
   "outputs": [],
   "source": []
  },
  {
   "cell_type": "code",
   "execution_count": null,
   "metadata": {},
   "outputs": [],
   "source": []
  },
  {
   "cell_type": "markdown",
   "metadata": {
    "id": "y8w5j9QyPQC-"
   },
   "source": [
    "Se quisermos saber, por exemplo, qual a probabilidade de observarmos valores menores que 45, transformamos 45 para Z score e usamos a função ```stats.norm.cdf``` para obter a probabilidade."
   ]
  },
  {
   "cell_type": "code",
   "execution_count": null,
   "metadata": {},
   "outputs": [],
   "source": []
  },
  {
   "cell_type": "code",
   "execution_count": null,
   "metadata": {},
   "outputs": [],
   "source": []
  },
  {
   "cell_type": "code",
   "execution_count": null,
   "metadata": {},
   "outputs": [],
   "source": []
  }
 ],
 "metadata": {
  "colab": {
   "name": "DSTN07 -  Estatística Descritiva - Parte II.ipynb",
   "provenance": []
  },
  "kernelspec": {
   "display_name": "Python 3 (ipykernel)",
   "language": "python",
   "name": "python3"
  },
  "language_info": {
   "codemirror_mode": {
    "name": "ipython",
    "version": 3
   },
   "file_extension": ".py",
   "mimetype": "text/x-python",
   "name": "python",
   "nbconvert_exporter": "python",
   "pygments_lexer": "ipython3",
   "version": "3.9.12"
  },
  "toc": {
   "base_numbering": 1,
   "nav_menu": {},
   "number_sections": true,
   "sideBar": true,
   "skip_h1_title": false,
   "title_cell": "Table of Contents",
   "title_sidebar": "Contents",
   "toc_cell": false,
   "toc_position": {
    "height": "calc(100% - 180px)",
    "left": "10px",
    "top": "150px",
    "width": "180.71249389648438px"
   },
   "toc_section_display": true,
   "toc_window_display": true
  }
 },
 "nbformat": 4,
 "nbformat_minor": 1
}
