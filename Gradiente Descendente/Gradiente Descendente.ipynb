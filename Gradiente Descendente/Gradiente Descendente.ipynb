{
 "cells": [
  {
   "cell_type": "code",
   "execution_count": 25,
   "metadata": {},
   "outputs": [],
   "source": [
    "import pandas as pd\n",
    "import numpy as np\n",
    "import statsmodels.api as sm\n",
    "import scipy.stats\n",
    "import matplotlib.pyplot as plt\n",
    "from tqdm import tqdm"
   ]
  },
  {
   "cell_type": "markdown",
   "metadata": {},
   "source": [
    "# Regressão Linear"
   ]
  },
  {
   "cell_type": "markdown",
   "metadata": {},
   "source": [
    "Vamos iniciar ajustando nossos dados normalmente com o auxílio da biblioteca statsmodels"
   ]
  },
  {
   "cell_type": "markdown",
   "metadata": {},
   "source": [
    "Lendo os dados"
   ]
  },
  {
   "cell_type": "code",
   "execution_count": 26,
   "metadata": {},
   "outputs": [],
   "source": [
    "df_reservatorio = pd.read_csv('clorofila.csv')"
   ]
  },
  {
   "cell_type": "code",
   "execution_count": 27,
   "metadata": {},
   "outputs": [
    {
     "data": {
      "text/html": [
       "<div>\n",
       "<style scoped>\n",
       "    .dataframe tbody tr th:only-of-type {\n",
       "        vertical-align: middle;\n",
       "    }\n",
       "\n",
       "    .dataframe tbody tr th {\n",
       "        vertical-align: top;\n",
       "    }\n",
       "\n",
       "    .dataframe thead th {\n",
       "        text-align: right;\n",
       "    }\n",
       "</style>\n",
       "<table border=\"1\" class=\"dataframe\">\n",
       "  <thead>\n",
       "    <tr style=\"text-align: right;\">\n",
       "      <th></th>\n",
       "      <th>Condutividade</th>\n",
       "      <th>DO</th>\n",
       "      <th>pH</th>\n",
       "      <th>ORP</th>\n",
       "      <th>Profundidade</th>\n",
       "      <th>Temperatura</th>\n",
       "      <th>Turbidez</th>\n",
       "      <th>Clorofila</th>\n",
       "    </tr>\n",
       "  </thead>\n",
       "  <tbody>\n",
       "    <tr>\n",
       "      <th>0</th>\n",
       "      <td>121.73</td>\n",
       "      <td>8.32</td>\n",
       "      <td>7.47</td>\n",
       "      <td>198.04</td>\n",
       "      <td>0.37</td>\n",
       "      <td>20.55</td>\n",
       "      <td>6.98</td>\n",
       "      <td>59.97</td>\n",
       "    </tr>\n",
       "    <tr>\n",
       "      <th>1</th>\n",
       "      <td>121.29</td>\n",
       "      <td>5.67</td>\n",
       "      <td>6.90</td>\n",
       "      <td>231.30</td>\n",
       "      <td>0.40</td>\n",
       "      <td>19.98</td>\n",
       "      <td>4.65</td>\n",
       "      <td>30.59</td>\n",
       "    </tr>\n",
       "    <tr>\n",
       "      <th>2</th>\n",
       "      <td>120.77</td>\n",
       "      <td>5.33</td>\n",
       "      <td>6.79</td>\n",
       "      <td>229.20</td>\n",
       "      <td>0.42</td>\n",
       "      <td>19.61</td>\n",
       "      <td>3.94</td>\n",
       "      <td>17.06</td>\n",
       "    </tr>\n",
       "    <tr>\n",
       "      <th>3</th>\n",
       "      <td>119.50</td>\n",
       "      <td>7.61</td>\n",
       "      <td>7.10</td>\n",
       "      <td>228.61</td>\n",
       "      <td>0.41</td>\n",
       "      <td>19.47</td>\n",
       "      <td>5.20</td>\n",
       "      <td>38.00</td>\n",
       "    </tr>\n",
       "    <tr>\n",
       "      <th>4</th>\n",
       "      <td>121.17</td>\n",
       "      <td>7.96</td>\n",
       "      <td>7.12</td>\n",
       "      <td>208.77</td>\n",
       "      <td>0.39</td>\n",
       "      <td>19.73</td>\n",
       "      <td>4.76</td>\n",
       "      <td>24.39</td>\n",
       "    </tr>\n",
       "  </tbody>\n",
       "</table>\n",
       "</div>"
      ],
      "text/plain": [
       "   Condutividade    DO    pH     ORP  Profundidade  Temperatura  Turbidez  \\\n",
       "0         121.73  8.32  7.47  198.04          0.37        20.55      6.98   \n",
       "1         121.29  5.67  6.90  231.30          0.40        19.98      4.65   \n",
       "2         120.77  5.33  6.79  229.20          0.42        19.61      3.94   \n",
       "3         119.50  7.61  7.10  228.61          0.41        19.47      5.20   \n",
       "4         121.17  7.96  7.12  208.77          0.39        19.73      4.76   \n",
       "\n",
       "   Clorofila  \n",
       "0      59.97  \n",
       "1      30.59  \n",
       "2      17.06  \n",
       "3      38.00  \n",
       "4      24.39  "
      ]
     },
     "execution_count": 27,
     "metadata": {},
     "output_type": "execute_result"
    }
   ],
   "source": [
    "df_reservatorio.head()"
   ]
  },
  {
   "cell_type": "markdown",
   "metadata": {},
   "source": [
    "X será uma series contendo a variável preditora, pH"
   ]
  },
  {
   "cell_type": "markdown",
   "metadata": {},
   "source": [
    "Y será uma series com os valores de Clorofila, nossa variável resposta"
   ]
  },
  {
   "cell_type": "code",
   "execution_count": 28,
   "metadata": {},
   "outputs": [],
   "source": [
    "X = df_reservatorio['pH']\n",
    "Y = df_reservatorio['Clorofila'] "
   ]
  },
  {
   "cell_type": "markdown",
   "metadata": {},
   "source": [
    "Aqui, precisamos garantir que exista intercepto"
   ]
  },
  {
   "cell_type": "code",
   "execution_count": 29,
   "metadata": {},
   "outputs": [],
   "source": [
    "X = sm.add_constant(X)"
   ]
  },
  {
   "cell_type": "markdown",
   "metadata": {},
   "source": [
    "Inicializando o modelo e startando o processo de busca dos parâmetros Betas"
   ]
  },
  {
   "cell_type": "code",
   "execution_count": 30,
   "metadata": {},
   "outputs": [],
   "source": [
    "modelo_linear_mult = sm.OLS(Y, X)\n",
    "modelo_linear_mult = modelo_linear_mult.fit()"
   ]
  },
  {
   "cell_type": "markdown",
   "metadata": {},
   "source": [
    "Sumarizando os resultados na tabela"
   ]
  },
  {
   "cell_type": "code",
   "execution_count": 31,
   "metadata": {},
   "outputs": [
    {
     "name": "stdout",
     "output_type": "stream",
     "text": [
      "                            OLS Regression Results                            \n",
      "==============================================================================\n",
      "Dep. Variable:              Clorofila   R-squared:                       0.283\n",
      "Model:                            OLS   Adj. R-squared:                  0.281\n",
      "Method:                 Least Squares   F-statistic:                     200.9\n",
      "Date:                Thu, 29 Dec 2022   Prob (F-statistic):           1.08e-38\n",
      "Time:                        23:21:33   Log-Likelihood:                -2013.2\n",
      "No. Observations:                 512   AIC:                             4030.\n",
      "Df Residuals:                     510   BIC:                             4039.\n",
      "Df Model:                           1                                         \n",
      "Covariance Type:            nonrobust                                         \n",
      "==============================================================================\n",
      "                 coef    std err          t      P>|t|      [0.025      0.975]\n",
      "------------------------------------------------------------------------------\n",
      "const        -52.6095      5.710     -9.214      0.000     -63.827     -41.392\n",
      "pH            10.4960      0.740     14.176      0.000       9.041      11.951\n",
      "==============================================================================\n",
      "Omnibus:                       43.111   Durbin-Watson:                   0.240\n",
      "Prob(Omnibus):                  0.000   Jarque-Bera (JB):               53.605\n",
      "Skew:                           0.696   Prob(JB):                     2.29e-12\n",
      "Kurtosis:                       3.759   Cond. No.                         81.9\n",
      "==============================================================================\n",
      "\n",
      "Notes:\n",
      "[1] Standard Errors assume that the covariance matrix of the errors is correctly specified.\n"
     ]
    }
   ],
   "source": [
    "print(modelo_linear_mult.summary())"
   ]
  },
  {
   "cell_type": "markdown",
   "metadata": {},
   "source": [
    "# Gradiente Descendente"
   ]
  },
  {
   "cell_type": "markdown",
   "metadata": {},
   "source": [
    "Vamos definir inicialmente listas para guardar os valores de MSE, Beta 0 e Beta 1 a cada iteração que será feita."
   ]
  },
  {
   "cell_type": "code",
   "execution_count": 32,
   "metadata": {},
   "outputs": [],
   "source": [
    "np.random.seed(100)\n",
    "MSE = []\n",
    "B1 = []\n",
    "B0 = []\n",
    "B1.append(np.random.rand())\n",
    "B0.append(np.random.rand())\n"
   ]
  },
  {
   "cell_type": "markdown",
   "metadata": {},
   "source": [
    "Vamos agora definir os valores de alfa (taxa de aprendizado) e número de iterações n_iter\n"
   ]
  },
  {
   "cell_type": "code",
   "execution_count": 33,
   "metadata": {},
   "outputs": [],
   "source": [
    "X_ph = df_reservatorio['pH']\n",
    "alfa = 0.01\n",
    "n_inter = 20000"
   ]
  },
  {
   "cell_type": "markdown",
   "metadata": {},
   "source": [
    "Vamos criar funções para:\n",
    "* Calcular o MSE\n",
    "* Calcular o Gradiente em relação a B0\n",
    "* Calcular o Gradiente em relação a B1"
   ]
  },
  {
   "cell_type": "code",
   "execution_count": 34,
   "metadata": {},
   "outputs": [],
   "source": [
    "# MSE\n",
    "def mean_squared_error(y_real , y_previsto):\n",
    "    return np.mean((y_real - y_previsto)**2)\n"
   ]
  },
  {
   "cell_type": "code",
   "execution_count": 35,
   "metadata": {},
   "outputs": [],
   "source": [
    "#Gradiente BO\n",
    "def gradiente_b0(Y, y_previsto):\n",
    "    gradient = (-2/len(y_previsto))*np.sum(Y-y_previsto)\n",
    "    return gradient"
   ]
  },
  {
   "cell_type": "code",
   "execution_count": 36,
   "metadata": {},
   "outputs": [],
   "source": [
    "#Gradiente B1\n",
    "def gradiente_b1(Y, y_previsto, X):\n",
    "    gradient = ((-2/len(y_previsto))*(np.sum((Y-y_previsto)*X)))\n",
    "    return gradient"
   ]
  },
  {
   "cell_type": "code",
   "execution_count": 37,
   "metadata": {},
   "outputs": [
    {
     "name": "stderr",
     "output_type": "stream",
     "text": [
      "100%|██████████| 20000/20000 [00:25<00:00, 789.72it/s] \n"
     ]
    }
   ],
   "source": [
    "for i in tqdm(range(n_inter)):\n",
    "    y_previsto = B1[i]*X_ph + B0[i]\n",
    "    B0.append(B0[i] - alfa*gradiente_b0(Y, y_previsto))\n",
    "    B1.append(B1[i] - alfa*gradiente_b1(Y, y_previsto , X_ph))\n",
    "    MSE.append(mean_squared_error(Y, y_previsto))\n"
   ]
  },
  {
   "cell_type": "code",
   "execution_count": 41,
   "metadata": {},
   "outputs": [],
   "source": [
    "plt.plot(range(n_inter) , MSE)\n",
    "plt.xlabel('interação')\n",
    "plt.ylabel('Clorofila')\n",
    "\n",
    "for i in tqdm(range(n_inter+1)):\n",
    "    y_previsto_gd = B0[i] + B1[i]*X_ph\n",
    "    plt.plot(X_ph , y_previsto_gd , color = 'red', alpha = 0.05)\n",
    "    if i == n_inter:\n",
    "        plt.plot(X_ph, y_previsto_gd, color = 'black')\n",
    "plt.show()"
   ]
  },
  {
   "cell_type": "code",
   "execution_count": 39,
   "metadata": {},
   "outputs": [
    {
     "data": {
      "text/plain": [
       "-51.160472460425964"
      ]
     },
     "execution_count": 39,
     "metadata": {},
     "output_type": "execute_result"
    }
   ],
   "source": [
    "B0[-1]"
   ]
  },
  {
   "cell_type": "code",
   "execution_count": 40,
   "metadata": {},
   "outputs": [
    {
     "data": {
      "text/plain": [
       "10.30893030095601"
      ]
     },
     "execution_count": 40,
     "metadata": {},
     "output_type": "execute_result"
    }
   ],
   "source": [
    "B1[-1]"
   ]
  },
  {
   "cell_type": "markdown",
   "metadata": {},
   "source": []
  },
  {
   "cell_type": "code",
   "execution_count": null,
   "metadata": {},
   "outputs": [],
   "source": []
  },
  {
   "cell_type": "code",
   "execution_count": null,
   "metadata": {},
   "outputs": [],
   "source": []
  }
 ],
 "metadata": {
  "colab": {
   "name": "DSTN07 -  Estatística Descritiva - Parte II.ipynb",
   "provenance": []
  },
  "kernelspec": {
   "display_name": "Python 3",
   "language": "python",
   "name": "python3"
  },
  "language_info": {
   "codemirror_mode": {
    "name": "ipython",
    "version": 3
   },
   "file_extension": ".py",
   "mimetype": "text/x-python",
   "name": "python",
   "nbconvert_exporter": "python",
   "pygments_lexer": "ipython3",
   "version": "3.10.7"
  },
  "toc": {
   "base_numbering": 1,
   "nav_menu": {},
   "number_sections": true,
   "sideBar": true,
   "skip_h1_title": false,
   "title_cell": "Table of Contents",
   "title_sidebar": "Contents",
   "toc_cell": false,
   "toc_position": {
    "height": "calc(100% - 180px)",
    "left": "10px",
    "top": "150px",
    "width": "165px"
   },
   "toc_section_display": true,
   "toc_window_display": true
  },
  "vscode": {
   "interpreter": {
    "hash": "1b6d5490dc853743c69acbca43441b5ce9a7e47f1b2ebca3ad67ba05fadf5421"
   }
  }
 },
 "nbformat": 4,
 "nbformat_minor": 1
}
