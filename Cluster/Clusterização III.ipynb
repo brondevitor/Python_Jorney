{
 "cells": [
  {
   "cell_type": "markdown",
   "metadata": {},
   "source": [
    "<img src=\"imgs/dh_logo.png\" align=\"right\" width=\"50%\">"
   ]
  },
  {
   "cell_type": "code",
   "execution_count": 48,
   "metadata": {},
   "outputs": [],
   "source": [
    "import numpy as np\n",
    "from kmodes.kmodes import KModes"
   ]
  },
  {
   "cell_type": "markdown",
   "metadata": {},
   "source": [
    "---------------\n",
    "\n",
    "# K-Modes\n",
    "\n",
    "Vimos em aula que  o algoritmo K-Means não consegue trabalhar com dados não numéricos (categóricos) e, apesar de podermos codificar nossas features categóricas como números, nem sempre essa será a alternativa mais apropriada. Como alternativa para esses casos em que temos variáveis categóricas, podemos utilizar uma versão do K-Means denominada K-Modes. Como o próprio nome já sugere, nesse algoritmo trabalharemos com as Modas, em vez das Médias.\n",
    "\n",
    "A abordagem K-Modes modifica o processo K-Means padrão para agrupar dados categóricos, substituindo a função de distância euclidiana pela medida de dissimilaridade de correspondência simples, usando a moda para representar centroides de cluster e atualizando as modas com os valores categóricos mais frequentes em cada uma das iterações do processo de agrupamento. Essas modificações garantem que o processo de agrupamento vá convergir para um resultado mínimo local. A métrica de dissimilaridade usada para os modos K ​​é a distância de Hamming da teoria da informação. Quanto maior o número de incompatibilidades de valores categóricos entre X e Y são, mais diferentes são os dois objetos. \n",
    "\n",
    "<img src=\"https://miro.medium.com/max/660/0*pGD1J2G3DVWQ44S5.png\">\n",
    "\n",
    "O processo de agrupamento de K-Modes consiste nas seguintes etapas:\n",
    "- Escolher aleatoriamente k indivíduos únicos como os centróides iniciais dos k cluster (modas).\n",
    "- Calcular as distâncias entre cada objeto e o centroide de cada cluster; atribuindo os indivíduos aos centróides mais próximos. Nesse step usamos a distância de Hamming.\n",
    "- Calcular um novo centroide, baseado nas modas de cada atributo.\n",
    "- Repetir os passos até que os centroides não mudem, ou os indivíduos não mudem de cluster.\n",
    "\n",
    "Da mesma forma que podemos utilizar o Elbow como método de escolha do número de clusters no Kmeans, vamos utilizar para o Kmodes. "
   ]
  },
  {
   "cell_type": "markdown",
   "metadata": {},
   "source": [
    "## Exemplo Prático"
   ]
  },
  {
   "cell_type": "code",
   "execution_count": 47,
   "metadata": {},
   "outputs": [],
   "source": [
    "df_bank = pd.read_csv('bank-full.csv', sep=';')"
   ]
  },
  {
   "cell_type": "code",
   "execution_count": 56,
   "metadata": {},
   "outputs": [
    {
     "name": "stdout",
     "output_type": "stream",
     "text": [
      "CPU times: user 10.3 s, sys: 84.6 ms, total: 10.4 s\n",
      "Wall time: 10.4 s\n"
     ]
    },
    {
     "data": {
      "text/html": [
       "<div>\n",
       "<style scoped>\n",
       "    .dataframe tbody tr th:only-of-type {\n",
       "        vertical-align: middle;\n",
       "    }\n",
       "\n",
       "    .dataframe tbody tr th {\n",
       "        vertical-align: top;\n",
       "    }\n",
       "\n",
       "    .dataframe thead th {\n",
       "        text-align: right;\n",
       "    }\n",
       "</style>\n",
       "<table border=\"1\" class=\"dataframe\">\n",
       "  <thead>\n",
       "    <tr style=\"text-align: right;\">\n",
       "      <th></th>\n",
       "      <th>0</th>\n",
       "      <th>1</th>\n",
       "      <th>2</th>\n",
       "      <th>3</th>\n",
       "      <th>4</th>\n",
       "      <th>5</th>\n",
       "      <th>6</th>\n",
       "      <th>7</th>\n",
       "      <th>8</th>\n",
       "      <th>9</th>\n",
       "      <th>10</th>\n",
       "      <th>11</th>\n",
       "      <th>12</th>\n",
       "      <th>13</th>\n",
       "      <th>14</th>\n",
       "      <th>15</th>\n",
       "      <th>16</th>\n",
       "    </tr>\n",
       "  </thead>\n",
       "  <tbody>\n",
       "    <tr>\n",
       "      <th>0</th>\n",
       "      <td>36</td>\n",
       "      <td>blue-collar</td>\n",
       "      <td>married</td>\n",
       "      <td>secondary</td>\n",
       "      <td>no</td>\n",
       "      <td>0</td>\n",
       "      <td>yes</td>\n",
       "      <td>no</td>\n",
       "      <td>cellular</td>\n",
       "      <td>18</td>\n",
       "      <td>may</td>\n",
       "      <td>139</td>\n",
       "      <td>1</td>\n",
       "      <td>-1</td>\n",
       "      <td>0</td>\n",
       "      <td>unknown</td>\n",
       "      <td>no</td>\n",
       "    </tr>\n",
       "    <tr>\n",
       "      <th>1</th>\n",
       "      <td>35</td>\n",
       "      <td>management</td>\n",
       "      <td>single</td>\n",
       "      <td>tertiary</td>\n",
       "      <td>no</td>\n",
       "      <td>0</td>\n",
       "      <td>no</td>\n",
       "      <td>no</td>\n",
       "      <td>cellular</td>\n",
       "      <td>20</td>\n",
       "      <td>aug</td>\n",
       "      <td>119</td>\n",
       "      <td>2</td>\n",
       "      <td>-1</td>\n",
       "      <td>0</td>\n",
       "      <td>unknown</td>\n",
       "      <td>no</td>\n",
       "    </tr>\n",
       "    <tr>\n",
       "      <th>2</th>\n",
       "      <td>41</td>\n",
       "      <td>technician</td>\n",
       "      <td>married</td>\n",
       "      <td>secondary</td>\n",
       "      <td>no</td>\n",
       "      <td>0</td>\n",
       "      <td>no</td>\n",
       "      <td>yes</td>\n",
       "      <td>cellular</td>\n",
       "      <td>29</td>\n",
       "      <td>jul</td>\n",
       "      <td>85</td>\n",
       "      <td>3</td>\n",
       "      <td>-1</td>\n",
       "      <td>0</td>\n",
       "      <td>unknown</td>\n",
       "      <td>no</td>\n",
       "    </tr>\n",
       "  </tbody>\n",
       "</table>\n",
       "</div>"
      ],
      "text/plain": [
       "    0            1        2          3   4  5    6    7         8   9   10  \\\n",
       "0  36  blue-collar  married  secondary  no  0  yes   no  cellular  18  may   \n",
       "1  35   management   single   tertiary  no  0   no   no  cellular  20  aug   \n",
       "2  41   technician  married  secondary  no  0   no  yes  cellular  29  jul   \n",
       "\n",
       "    11 12  13 14       15  16  \n",
       "0  139  1  -1  0  unknown  no  \n",
       "1  119  2  -1  0  unknown  no  \n",
       "2   85  3  -1  0  unknown  no  "
      ]
     },
     "execution_count": 56,
     "metadata": {},
     "output_type": "execute_result"
    }
   ],
   "source": [
    "%%time\n",
    "# modelo\n",
    "km = KModes(n_clusters=3, random_state=123)\n",
    "clusters = km.fit_predict(df_bank)\n",
    "\n",
    "# centroids\n",
    "pd.DataFrame(km.cluster_centroids_)"
   ]
  },
  {
   "cell_type": "code",
   "execution_count": 65,
   "metadata": {},
   "outputs": [
    {
     "data": {
      "text/plain": [
       "array([0, 0, 0, ..., 0, 0, 0], dtype=uint16)"
      ]
     },
     "execution_count": 65,
     "metadata": {},
     "output_type": "execute_result"
    }
   ],
   "source": [
    "km.predict(df_bank)"
   ]
  },
  {
   "cell_type": "markdown",
   "metadata": {},
   "source": [
    "# Agrupamento Hierárquico\n",
    "\n",
    "Os algoritmos de agrupamento hierárquico reúnem indivíduos similares em grupos. Dois tipos desses algoritmos são:\n",
    "\n",
    "\n",
    "- Aglomerativo: O tipo aglomerativo usa uma abordagem Bottom up. A ideia principal aqui é começar com todos os indivíduos separadamente, cada um representnado um único cluster e então, pouco a pouco, ir aglomerando todos os dados, até que todos os pontos formem um único cluster.\n",
    "\n",
    "- Divisivo: O tipo divisivo, por sua vez, usa uma abordagem conhecida como Top down. A ideia é iniciar a clusterização,assumindo que todos os dados fazem parte de um único cluster. Pouco a pouco, a cada iteração, os pontos são desmembrados em clusters menores, até o ponto em que cada cluster é representado por um único indivíduo da amostra.\n",
    "\n",
    "O diagrama abaixo mostra esse processo:\n",
    "\n",
    "<img src=\"https://miro.medium.com/max/627/0*E-qictlO_9isi0Dl.png\" >\n",
    "\n",
    "\n",
    "O algoritmo em si, funciona da seguinte forma:\n",
    "<br>\n",
    "<br>\n",
    "1) Cada linha do dataset corresponderá,incialmente, a um cluster específico\n",
    "<img src=\"https://miro.medium.com/max/700/1*PPmCcLOkDIEVbv1ZAMF18g.png\">\n",
    "<br>\n",
    "2) Tomamos os dois clusters mais próximos e condensamo-os em um novo cluster\n",
    "<img src=\"https://miro.medium.com/max/700/1*r-XmRRM1VpdIS81ufbtmCQ.png\">\n",
    "<br>\n",
    "3) Repetimos o processo, até que todos os dados pertençam a um único cluster\n",
    "<img src=\"https://miro.medium.com/max/700/1*RrAR6lueQ1cqXi0aNddSvg.png\">"
   ]
  },
  {
   "cell_type": "markdown",
   "metadata": {},
   "source": [
    "O resultado final da clusterização é um gráfico chamado de dendrograma."
   ]
  },
  {
   "cell_type": "markdown",
   "metadata": {},
   "source": [
    "O dendrograma é um diagrama que representa os clusters e as distâncias entre eles."
   ]
  },
  {
   "cell_type": "markdown",
   "metadata": {},
   "source": [
    "<img src=\"https://miro.medium.com/proxy/1*LBOReupihNEsI6Kot3Q6YQ.png\">"
   ]
  },
  {
   "cell_type": "markdown",
   "metadata": {},
   "source": [
    "Uma visão mais intuitiva da hierarquia formada:<br>\n",
    "<img src=\"https://miro.medium.com/max/1000/1*JPQRbJDw2E1_HEvwzVTDDw.jpeg\">\n",
    "<img src=\"https://miro.medium.com/max/1000/1*fw1vlNtq2vPFmAXsBy1_dA.jpeg\">"
   ]
  },
  {
   "cell_type": "markdown",
   "metadata": {},
   "source": [
    "Os pontos 9 e 23, por exemplo, formam um único cluster. A distância entre eles é de 0.15. Depois que eles se juntam, incorporam a amostra 17 a eles, formando um terceiro \"subcluster\" na hierarquia."
   ]
  },
  {
   "cell_type": "markdown",
   "metadata": {},
   "source": [
    "No final, temos um único cluster. Lembrando que essa é a abordagem Bottom Up. A Abordagem Top down segue os mesmos passos anteriores, mas no sentido de desmembramento."
   ]
  },
  {
   "cell_type": "markdown",
   "metadata": {},
   "source": [
    "Podemos usar um dendrograma para visualizar o histórico de agrupamentos e descobrir o número ideal de clusters.\n",
    "Para isso:\n",
    "\n",
    "- Determine a maior distância vertical que não intercepta nenhum dos outros clusters\n",
    "- Desenhe uma linha horizontal em ambas as extremidades\n",
    "\n",
    "O número ideal de clusters é igual ao número de linhas verticais passando pela linha horizontal.\n",
    "Por exemplo, no caso acima, a melhor escolha para número de clusters será 4."
   ]
  },
  {
   "cell_type": "markdown",
   "metadata": {},
   "source": [
    "Nesse algoritmo podemos variar tanto a métrica de distância, quanto a forma como ela é generalizada para os clusters. Vejamos:\n"
   ]
  },
  {
   "cell_type": "markdown",
   "metadata": {},
   "source": [
    "- Single Linkage:<br>\n",
    "A distância entre os clusters é representada pela mínima distância entre instâncias de cada cluster\n",
    "    <img src=\"https://miro.medium.com/max/1400/1*es5FXhkbEGXzYJbljM3kwA.png\" width=400>"
   ]
  },
  {
   "cell_type": "markdown",
   "metadata": {},
   "source": [
    "- Prós:\n",
    "    Essa abordagem pode clusterizar formatos não elípticos, desde que a distância entre os clusters não seja muit pequena.\n",
    "<img src=\"https://miro.medium.com/max/982/1*C-BNL_MDzJ6uXKgvhBy0Pg.jpeg\">\n",
    "<img src=\"https://miro.medium.com/max/982/1*iQDFke1lM13R82JPG3GqNg.jpeg\">\n",
    "- Contras:\n",
    "    Não consque separar bem, se existir ruído entre os clusters\n",
    "    <img src=\"https://miro.medium.com/max/734/1*ViZVqbai7fDLZZ4kpfXyUg.jpeg\">\n",
    "    <img src=\"https://miro.medium.com/max/734/1*zTG9v1NQlUYD5N6NM70wRg.jpeg\">"
   ]
  },
  {
   "cell_type": "markdown",
   "metadata": {},
   "source": [
    "\n",
    "- Complete Linkage:<br>\n",
    "A distância entre os clusters é representada pela máxima distância entre instâcnias de cada cluster\n",
    "    <img src=\"https://miro.medium.com/max/1400/1*_MtnDQmsLh54vlRdo0BkcA.png\" width=400>"
   ]
  },
  {
   "cell_type": "markdown",
   "metadata": {},
   "source": [
    "- Prós:\n",
    "    Essa abordagem permite clusterizar quando há ruído entre os clusters.\n",
    "<img src=\"https://miro.medium.com/max/734/1*xpR9pkp5Z4P7ZUBtoF-eWA.jpeg\">\n",
    "<img src=\"https://miro.medium.com/max/734/1*pjGdCFuhMD_DWjxYkN8QRA.jpeg\">\n",
    "- Contras:\n",
    "    É viesada quando existem clusters muito grandes. \n",
    "    <img src=\"https://miro.medium.com/max/734/1*hpzH_kxtv_YGzi8cSwIXzA.jpeg\">\n",
    "    <img src=\"https://miro.medium.com/max/734/1*itIRbzJFd4_5AUNs7G0zdw.jpeg\">"
   ]
  },
  {
   "cell_type": "markdown",
   "metadata": {},
   "source": [
    "- Average Linkage:<br>\n",
    "A distância entre os clusters é representada pela média da distância entre instâncias de cada cluster\n",
    "    <img src=\"https://miro.medium.com/max/1400/1*3xyaBTEqkF7EH8I_0tqfXw.png\" width=400>"
   ]
  },
  {
   "cell_type": "markdown",
   "metadata": {},
   "source": [
    "Possui os mesmos prós e contras da abordagem anterior."
   ]
  },
  {
   "cell_type": "markdown",
   "metadata": {},
   "source": [
    "- Ward Linkage\n",
    "A distância entre os clusters é a SSE\n",
    "<img src=\"https://miro.medium.com/max/1028/1*oAKli0U57Z20-GNpcqy6AA.png\">"
   ]
  },
  {
   "cell_type": "markdown",
   "metadata": {},
   "source": [
    "Possui os mesmos prós e contras da abordagem anterior."
   ]
  },
  {
   "cell_type": "markdown",
   "metadata": {},
   "source": [
    "- Limitações do algoritmo:\n",
    "- Não existe uma função matemática de custo para otimizar\n",
    "- Todas as abordagens para calcular a distâncias entre os clusters possuem desvantagens\n",
    "- Em um dataset com alta dimensionalidade, o tempo de cálculo aumenta muito"
   ]
  },
  {
   "cell_type": "markdown",
   "metadata": {},
   "source": [
    "## Exemplo Prático"
   ]
  },
  {
   "cell_type": "code",
   "execution_count": 87,
   "metadata": {},
   "outputs": [],
   "source": [
    "from sklearn.preprocessing import MinMaxScaler\n",
    "from sklearn.impute import SimpleImputer\n",
    "from sklearn.pipeline import Pipeline\n",
    "import pandas as pd\n",
    "import numpy as np\n",
    "from matplotlib import pyplot as plt\n",
    "from sklearn.cluster import AgglomerativeClustering\n",
    "import scipy.cluster.hierarchy as sch"
   ]
  },
  {
   "cell_type": "code",
   "execution_count": 81,
   "metadata": {},
   "outputs": [],
   "source": [
    "df = pd.read_csv('dataset1.csv')"
   ]
  },
  {
   "cell_type": "code",
   "execution_count": 82,
   "metadata": {},
   "outputs": [],
   "source": [
    "pipe = Pipeline(steps=[('impute', SimpleImputer(strategy='median')), ('scaler', MinMaxScaler())])"
   ]
  },
  {
   "cell_type": "code",
   "execution_count": 83,
   "metadata": {},
   "outputs": [],
   "source": [
    "X  = df.drop('CUST_ID', axis=1)"
   ]
  },
  {
   "cell_type": "code",
   "execution_count": 85,
   "metadata": {},
   "outputs": [],
   "source": [
    "X1 = pipe.fit_transform(X)"
   ]
  },
  {
   "cell_type": "code",
   "execution_count": 91,
   "metadata": {},
   "outputs": [
    {
     "data": {
      "text/plain": [
       "array([[5.21900000e+03, 8.44200000e+03, 1.72999894e-04, 2.00000000e+00],\n",
       "       [1.81000000e+02, 4.40100000e+03, 2.06843536e-04, 2.00000000e+00],\n",
       "       [4.62900000e+03, 7.91900000e+03, 4.08797153e-04, 2.00000000e+00],\n",
       "       ...,\n",
       "       [1.78870000e+04, 1.78910000e+04, 2.42228899e+01, 4.18700000e+03],\n",
       "       [1.78930000e+04, 1.78950000e+04, 3.28216626e+01, 4.76300000e+03],\n",
       "       [1.78960000e+04, 1.78970000e+04, 6.75834039e+01, 8.95000000e+03]])"
      ]
     },
     "execution_count": 91,
     "metadata": {},
     "output_type": "execute_result"
    }
   ],
   "source": [
    "sch.linkage(X1, method='ward')"
   ]
  },
  {
   "cell_type": "code",
   "execution_count": 88,
   "metadata": {},
   "outputs": [
    {
     "data": {
      "image/png": "[encoded data removed]",
      "text/plain": [
       "<Figure size 576x396 with 1 Axes>"
      ]
     },
     "metadata": {},
     "output_type": "display_data"
    }
   ],
   "source": [
    "dendrogram = sch.dendrogram(sch.linkage(X1, method='ward'))"
   ]
  },
  {
   "cell_type": "code",
   "execution_count": 92,
   "metadata": {},
   "outputs": [],
   "source": [
    "model = AgglomerativeClustering(n_clusters=2, affinity='euclidean', linkage='ward')\n",
    "model.fit(X1)\n",
    "labels = model.labels_"
   ]
  },
  {
   "cell_type": "code",
   "execution_count": 93,
   "metadata": {},
   "outputs": [
    {
     "data": {
      "text/plain": [
       "array([1, 1, 0, ..., 0, 1, 0])"
      ]
     },
     "execution_count": 93,
     "metadata": {},
     "output_type": "execute_result"
    }
   ],
   "source": [
    "labels"
   ]
  },
  {
   "cell_type": "markdown",
   "metadata": {},
   "source": [
    "# Bônus - K-Prototypes"
   ]
  },
  {
   "cell_type": "markdown",
   "metadata": {},
   "source": [
    "https://towardsdatascience.com/the-k-prototype-as-clustering-algorithm-for-mixed-data-type-categorical-and-numerical-fe7c50538ebb"
   ]
  },
  {
   "cell_type": "markdown",
   "metadata": {},
   "source": [
    "https://www.youtube.com/watch?v=8eATPLDJ0NQ"
   ]
  },
  {
   "cell_type": "markdown",
   "metadata": {},
   "source": [
    "https://github.com/srivatsan88/YouTubeLI/blob/master/K_Prototype_for_Mixed_Datatypes.ipynb"
   ]
  },
  {
   "cell_type": "markdown",
   "metadata": {},
   "source": [
    "https://medium.com/analytics-vidhya/practical-implementation-of-k-means-hierarchical-and-dbscan-clustering-on-dataset-with-bd7f3d13ef7f"
   ]
  }
 ],
 "metadata": {
  "kernelspec": {
   "display_name": "Python 3",
   "language": "python",
   "name": "python3"
  },
  "language_info": {
   "codemirror_mode": {
    "name": "ipython",
    "version": 3
   },
   "file_extension": ".py",
   "mimetype": "text/x-python",
   "name": "python",
   "nbconvert_exporter": "python",
   "pygments_lexer": "ipython3",
   "version": "3.8.3"
  },
  "latex_envs": {
   "LaTeX_envs_menu_present": true,
   "autoclose": false,
   "autocomplete": true,
   "bibliofile": "biblio.bib",
   "cite_by": "apalike",
   "current_citInitial": 1,
   "eqLabelWithNumbers": true,
   "eqNumInitial": 1,
   "hotkeys": {
    "equation": "Ctrl-E",
    "itemize": "Ctrl-I"
   },
   "labels_anchors": false,
   "latex_user_defs": false,
   "report_style_numbering": false,
   "user_envs_cfg": false
  },
  "toc": {
   "base_numbering": 1,
   "nav_menu": {},
   "number_sections": true,
   "sideBar": true,
   "skip_h1_title": false,
   "title_cell": "Table of Contents",
   "title_sidebar": "Contents",
   "toc_cell": false,
   "toc_position": {},
   "toc_section_display": true,
   "toc_window_display": false
  },
  "varInspector": {
   "cols": {
    "lenName": 16,
    "lenType": 16,
    "lenVar": 40
   },
   "kernels_config": {
    "python": {
     "delete_cmd_postfix": "",
     "delete_cmd_prefix": "del ",
     "library": "var_list.py",
     "varRefreshCmd": "print(var_dic_list())"
    },
    "r": {
     "delete_cmd_postfix": ") ",
     "delete_cmd_prefix": "rm(",
     "library": "var_list.r",
     "varRefreshCmd": "cat(var_dic_list()) "
    }
   },
   "types_to_exclude": [
    "module",
    "function",
    "builtin_function_or_method",
    "instance",
    "_Feature"
   ],
   "window_display": false
  }
 },
 "nbformat": 4,
 "nbformat_minor": 4
}
