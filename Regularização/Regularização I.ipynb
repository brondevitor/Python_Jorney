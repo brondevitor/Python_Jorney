{
 "cells": [
  {
   "cell_type": "markdown",
   "metadata": {},
   "source": [
    "# Regularização em Machine Learning\n",
    "\n",
    "Um dos principais aspectos do treinamento do seu modelo de aprendizado de máquina é evitar o overfitting, pois neste caso o modelo terá uma baixa precisão. Isso acontece porque o seu modelo dificilmente irá conseguir capturar o ruído em seu conjunto de dados de treinamento. Por ruído, queremos dizer os pontos de dados que realmente não representam as propriedades reais de seus dados, mas de chance aleatória. Aprender esses pontos de dados torna o seu modelo mais flexível, sob o risco de overfitting.\n",
    "\n",
    "O conceito de balanceamento de viés e variância é útil para entender o fenômeno do overfitting e variação de balanceamento, para controlar erros do Machine Leanrning.\n",
    "\n",
    "## Formas de Regularização\n",
    "\n",
    "Vamos abordar aqui duas formas de se fazer a regularização:\n",
    "\n",
    "I. Aumentar o conjunto de dados (número de observações) \\\n",
    "II. Penalização dos otimizadores\n",
    "\n",
    "## Aumento do conjunto de dados\n",
    "\n",
    "O Overfitting pode ser controlado aumentando o tamanho do conjunto de dados de treinamento. Aumentar o tamanho do conjunto de dados para evitar ajustes excessivos se refere ao aumento do número de observações (ou linhas) e não do número de recursos (ou colunas). A adição de colunas pode levar ao aumento da complexidade do problema e, portanto, pode resultar em um pior desempenho. A seguir veremos um exemplo de como aumentar um conjunto de dados para Regularizar um modelo\n",
    "\n",
    "## Penalização de otimizadores\n",
    "\n",
    "Regularização é uma técnica que restringe/regulariza/reduz as estimativas dos coeficientes, diminuiindo seus valores, que ficam portanto mais próximos de zero. Em outras palavras, esta técnica desencoraja a aprendizagem de um modelo mais complexo ou flexível, de modo a evitar o risco de overfitting.\n",
    "\n",
    "Uma relação simples de regressão linear se parece com a fórmula abaixo, onde $y$ representa a relação aprendida e 𝜃 representa as estimativas de coeficiente para diferentes variáveis ou preditores (x).\n",
    "\n",
    "\n",
    "<br>\n",
    "<br>\n",
    "$$y = \\theta_0 + \\theta_1x_1 + \\theta_2x_2 + \\theta_3x_3 + ... + \\theta_nx_n$$\n",
    "<br>\n",
    "<br>\n",
    "\n",
    "O procedimento de ajuste envolve uma função de perda, conhecida como soma residual de quadrados ou RSS, sendo que os coeficientes são escolhidos, de forma que minimizem essa função de perda.\n",
    "\n",
    "A regularização ajustará os coeficientes com base nos seus dados de treinamento. Se houver ruído nos dados de treinamento, os coeficientes estimados não serão generalizados nos dados futuros. É aqui que a regularização entra e encolhe ou regulariza essas estimativas aprendidas para zero."
   ]
  },
  {
   "cell_type": "markdown",
   "metadata": {},
   "source": [
    "----------\n",
    "\n",
    "# Tipos de Regularização por Penalização dos Otimizadores\n",
    "\n",
    "1. Ridge\n",
    "2. Lasso\n",
    "3. ElasticNet\n",
    "\n",
    "## 1. Ridge Regression\n",
    "\n",
    "<br>\n",
    "<br>\n",
    "$$Ridge : \\lambda \\sum_{i=1}^{n} \\theta_i^2$$\n",
    "<br>\n",
    "<br>\n",
    "\n",
    "A fórmula acima mostra o coeficiente de Ridge que modifica a regressão pela adição da quantidade de contração. Agora, os coeficientes são estimados minimizando essa função, e o λ é o parâmetro de sintonia que decide quanto queremos penalizar a flexibilidade do nosso modelo. O aumento na flexibilidade de um modelo é representado pelo aumento de seus coeficientes e, se quisermos minimizar a função acima, esses coeficientes precisam ser pequenos. É assim que a técnica de regressão de Ridge impede que os coeficientes subam demais. Além disso, observe que encolhemos a associação estimada de cada variável com a resposta, exceto o intercepto $\\theta_0$. \n",
    "\n",
    "Quando λ = 0, o termo de penalidade não tem efeito, e as estimativas produzidas por regressão de ridge serão iguais a mínimos quadrados. No entanto, como λ → ∞, o impacto da penalidade de contração aumenta, e as estimativas coeficientes da regressão se aproximam de zero. Como pode ser visto, selecionar um bom valor de λ é crítico. A validação cruzada é útil para esse propósito. As estimativas dos coeficientes produzidas por este método são também conhecidas como norma L2.\n",
    "\n",
    "<img src=\"https://miro.medium.com/max/1400/1*hAGhQehrqAmT1pvz3q4t8Q.png\" width=500>\n",
    "<br>\n",
    "Podemos ver esse problema da seguinte forma:\n",
    "<br>\n",
    "<img src=\"https://miro.medium.com/max/1400/1*sC4KLMHU0j_1gR3VmlgGtg.png\" width=300>\n",
    "\n",
    "Os coeficientes que são produzidos pelo método dos mínimos quadrados padrão são escala equivariante, ou seja, se multiplicarmos cada entrada por c, então os coeficientes correspondentes são escalonados por um fator de 1 / c. Portanto, independentemente de como o preditor é escalado, a multiplicação de preditor e coeficiente permanece a mesma. No entanto, esse não é o caso da regressão de Ridge e, portanto, precisamos padronizar os preditores ou trazer os preditores para a mesma escala antes de executar a regressão de Ridge.\n"
   ]
  },
  {
   "cell_type": "code",
   "execution_count": 1,
   "metadata": {},
   "outputs": [],
   "source": [
    "import matplotlib.pyplot as plt\n",
    "import numpy as np\n",
    "import pandas as pd\n",
    "import matplotlib\n",
    "matplotlib.rcParams.update({'font.size': 12})\n",
    "from sklearn.datasets import fetch_california_housing\n",
    "from sklearn.model_selection import train_test_split\n",
    "from sklearn.linear_model import LinearRegression\n",
    "from sklearn.linear_model import Ridge"
   ]
  },
  {
   "cell_type": "code",
   "execution_count": 2,
   "metadata": {},
   "outputs": [
    {
     "data": {
      "text/html": [
       "<div>\n",
       "<style scoped>\n",
       "    .dataframe tbody tr th:only-of-type {\n",
       "        vertical-align: middle;\n",
       "    }\n",
       "\n",
       "    .dataframe tbody tr th {\n",
       "        vertical-align: top;\n",
       "    }\n",
       "\n",
       "    .dataframe thead th {\n",
       "        text-align: right;\n",
       "    }\n",
       "</style>\n",
       "<table border=\"1\" class=\"dataframe\">\n",
       "  <thead>\n",
       "    <tr style=\"text-align: right;\">\n",
       "      <th></th>\n",
       "      <th>MedInc</th>\n",
       "      <th>HouseAge</th>\n",
       "      <th>AveRooms</th>\n",
       "      <th>AveBedrms</th>\n",
       "      <th>Population</th>\n",
       "      <th>AveOccup</th>\n",
       "      <th>Latitude</th>\n",
       "      <th>Longitude</th>\n",
       "    </tr>\n",
       "  </thead>\n",
       "  <tbody>\n",
       "    <tr>\n",
       "      <th>0</th>\n",
       "      <td>8.3252</td>\n",
       "      <td>41.0</td>\n",
       "      <td>6.984127</td>\n",
       "      <td>1.023810</td>\n",
       "      <td>322.0</td>\n",
       "      <td>2.555556</td>\n",
       "      <td>37.88</td>\n",
       "      <td>-122.23</td>\n",
       "    </tr>\n",
       "    <tr>\n",
       "      <th>1</th>\n",
       "      <td>8.3014</td>\n",
       "      <td>21.0</td>\n",
       "      <td>6.238137</td>\n",
       "      <td>0.971880</td>\n",
       "      <td>2401.0</td>\n",
       "      <td>2.109842</td>\n",
       "      <td>37.86</td>\n",
       "      <td>-122.22</td>\n",
       "    </tr>\n",
       "    <tr>\n",
       "      <th>2</th>\n",
       "      <td>7.2574</td>\n",
       "      <td>52.0</td>\n",
       "      <td>8.288136</td>\n",
       "      <td>1.073446</td>\n",
       "      <td>496.0</td>\n",
       "      <td>2.802260</td>\n",
       "      <td>37.85</td>\n",
       "      <td>-122.24</td>\n",
       "    </tr>\n",
       "    <tr>\n",
       "      <th>3</th>\n",
       "      <td>5.6431</td>\n",
       "      <td>52.0</td>\n",
       "      <td>5.817352</td>\n",
       "      <td>1.073059</td>\n",
       "      <td>558.0</td>\n",
       "      <td>2.547945</td>\n",
       "      <td>37.85</td>\n",
       "      <td>-122.25</td>\n",
       "    </tr>\n",
       "    <tr>\n",
       "      <th>4</th>\n",
       "      <td>3.8462</td>\n",
       "      <td>52.0</td>\n",
       "      <td>6.281853</td>\n",
       "      <td>1.081081</td>\n",
       "      <td>565.0</td>\n",
       "      <td>2.181467</td>\n",
       "      <td>37.85</td>\n",
       "      <td>-122.25</td>\n",
       "    </tr>\n",
       "  </tbody>\n",
       "</table>\n",
       "</div>"
      ],
      "text/plain": [
       "   MedInc  HouseAge  AveRooms  AveBedrms  Population  AveOccup  Latitude  \\\n",
       "0  8.3252      41.0  6.984127   1.023810       322.0  2.555556     37.88   \n",
       "1  8.3014      21.0  6.238137   0.971880      2401.0  2.109842     37.86   \n",
       "2  7.2574      52.0  8.288136   1.073446       496.0  2.802260     37.85   \n",
       "3  5.6431      52.0  5.817352   1.073059       558.0  2.547945     37.85   \n",
       "4  3.8462      52.0  6.281853   1.081081       565.0  2.181467     37.85   \n",
       "\n",
       "   Longitude  \n",
       "0    -122.23  \n",
       "1    -122.22  \n",
       "2    -122.24  \n",
       "3    -122.25  \n",
       "4    -122.25  "
      ]
     },
     "execution_count": 2,
     "metadata": {},
     "output_type": "execute_result"
    }
   ],
   "source": [
    "cali_data = fetch_california_housing()\n",
    "cali_df = pd.DataFrame(cali_data.data , columns = cali_data.feature_names)\n",
    "cali_df.head()"
   ]
  },
  {
   "cell_type": "code",
   "execution_count": 3,
   "metadata": {},
   "outputs": [],
   "source": [
    "# add another column that contain the house prices which in sklearn are considered as target\n",
    "cali_df['Price'] = cali_data.target\n",
    "newX=cali_df.drop('Price' , axis =1)\n",
    "newY= cali_df['Price']\n",
    "\n",
    "X_train , X_test, y_train, y_test= train_test_split(newX,newY, test_size=0.33, random_state=3)"
   ]
  },
  {
   "cell_type": "code",
   "execution_count": 4,
   "metadata": {},
   "outputs": [
    {
     "data": {
      "text/html": [
       "<style>#sk-container-id-1 {color: black;background-color: white;}#sk-container-id-1 pre{padding: 0;}#sk-container-id-1 div.sk-toggleable {background-color: white;}#sk-container-id-1 label.sk-toggleable__label {cursor: pointer;display: block;width: 100%;margin-bottom: 0;padding: 0.3em;box-sizing: border-box;text-align: center;}#sk-container-id-1 label.sk-toggleable__label-arrow:before {content: \"▸\";float: left;margin-right: 0.25em;color: #696969;}#sk-container-id-1 label.sk-toggleable__label-arrow:hover:before {color: black;}#sk-container-id-1 div.sk-estimator:hover label.sk-toggleable__label-arrow:before {color: black;}#sk-container-id-1 div.sk-toggleable__content {max-height: 0;max-width: 0;overflow: hidden;text-align: left;background-color: #f0f8ff;}#sk-container-id-1 div.sk-toggleable__content pre {margin: 0.2em;color: black;border-radius: 0.25em;background-color: #f0f8ff;}#sk-container-id-1 input.sk-toggleable__control:checked~div.sk-toggleable__content {max-height: 200px;max-width: 100%;overflow: auto;}#sk-container-id-1 input.sk-toggleable__control:checked~label.sk-toggleable__label-arrow:before {content: \"▾\";}#sk-container-id-1 div.sk-estimator input.sk-toggleable__control:checked~label.sk-toggleable__label {background-color: #d4ebff;}#sk-container-id-1 div.sk-label input.sk-toggleable__control:checked~label.sk-toggleable__label {background-color: #d4ebff;}#sk-container-id-1 input.sk-hidden--visually {border: 0;clip: rect(1px 1px 1px 1px);clip: rect(1px, 1px, 1px, 1px);height: 1px;margin: -1px;overflow: hidden;padding: 0;position: absolute;width: 1px;}#sk-container-id-1 div.sk-estimator {font-family: monospace;background-color: #f0f8ff;border: 1px dotted black;border-radius: 0.25em;box-sizing: border-box;margin-bottom: 0.5em;}#sk-container-id-1 div.sk-estimator:hover {background-color: #d4ebff;}#sk-container-id-1 div.sk-parallel-item::after {content: \"\";width: 100%;border-bottom: 1px solid gray;flex-grow: 1;}#sk-container-id-1 div.sk-label:hover label.sk-toggleable__label {background-color: #d4ebff;}#sk-container-id-1 div.sk-serial::before {content: \"\";position: absolute;border-left: 1px solid gray;box-sizing: border-box;top: 0;bottom: 0;left: 50%;z-index: 0;}#sk-container-id-1 div.sk-serial {display: flex;flex-direction: column;align-items: center;background-color: white;padding-right: 0.2em;padding-left: 0.2em;position: relative;}#sk-container-id-1 div.sk-item {position: relative;z-index: 1;}#sk-container-id-1 div.sk-parallel {display: flex;align-items: stretch;justify-content: center;background-color: white;position: relative;}#sk-container-id-1 div.sk-item::before, #sk-container-id-1 div.sk-parallel-item::before {content: \"\";position: absolute;border-left: 1px solid gray;box-sizing: border-box;top: 0;bottom: 0;left: 50%;z-index: -1;}#sk-container-id-1 div.sk-parallel-item {display: flex;flex-direction: column;z-index: 1;position: relative;background-color: white;}#sk-container-id-1 div.sk-parallel-item:first-child::after {align-self: flex-end;width: 50%;}#sk-container-id-1 div.sk-parallel-item:last-child::after {align-self: flex-start;width: 50%;}#sk-container-id-1 div.sk-parallel-item:only-child::after {width: 0;}#sk-container-id-1 div.sk-dashed-wrapped {border: 1px dashed gray;margin: 0 0.4em 0.5em 0.4em;box-sizing: border-box;padding-bottom: 0.4em;background-color: white;}#sk-container-id-1 div.sk-label label {font-family: monospace;font-weight: bold;display: inline-block;line-height: 1.2em;}#sk-container-id-1 div.sk-label-container {text-align: center;}#sk-container-id-1 div.sk-container {/* jupyter's `normalize.less` sets `[hidden] { display: none; }` but bootstrap.min.css set `[hidden] { display: none !important; }` so we also need the `!important` here to be able to override the default hidden behavior on the sphinx rendered scikit-learn.org. See: https://github.com/scikit-learn/scikit-learn/issues/21755 */display: inline-block !important;position: relative;}#sk-container-id-1 div.sk-text-repr-fallback {display: none;}</style><div id=\"sk-container-id-1\" class=\"sk-top-container\"><div class=\"sk-text-repr-fallback\"><pre>Ridge(alpha=100)</pre><b>In a Jupyter environment, please rerun this cell to show the HTML representation or trust the notebook. <br />On GitHub, the HTML representation is unable to render, please try loading this page with nbviewer.org.</b></div><div class=\"sk-container\" hidden><div class=\"sk-item\"><div class=\"sk-estimator sk-toggleable\"><input class=\"sk-toggleable__control sk-hidden--visually\" id=\"sk-estimator-id-1\" type=\"checkbox\" checked><label for=\"sk-estimator-id-1\" class=\"sk-toggleable__label sk-toggleable__label-arrow\">Ridge</label><div class=\"sk-toggleable__content\"><pre>Ridge(alpha=100)</pre></div></div></div></div></div>"
      ],
      "text/plain": [
       "Ridge(alpha=100)"
      ]
     },
     "execution_count": 4,
     "metadata": {},
     "output_type": "execute_result"
    }
   ],
   "source": [
    "lr = LinearRegression()\n",
    "lr.fit(X_train, y_train)\n",
    "rr = Ridge(alpha=0.01) \n",
    "# Quanto maior o valor Alpha, mais restrito serão os coeficientes ; baixo alfa > maior generalização\n",
    "rr.fit(X_train , y_train)\n",
    "rr100 = Ridge(alpha=100)\n",
    "rr100.fit(X_train , y_train)"
   ]
  },
  {
   "cell_type": "code",
   "execution_count": 5,
   "metadata": {},
   "outputs": [],
   "source": [
    "train_score=lr.score(X_train, y_train)\n",
    "test_score=lr.score(X_test, y_test)\n",
    "ridge_train_score = rr.score(X_train,y_train)\n",
    "ridge_test_score = rr.score(X_test, y_test)\n",
    "ridge_train_score100 = rr100.score(X_train,y_train)\n",
    "ridge_test_score100 = rr100.score(X_test, y_test)"
   ]
  },
  {
   "cell_type": "code",
   "execution_count": 6,
   "metadata": {},
   "outputs": [
    {
     "name": "stdout",
     "output_type": "stream",
     "text": [
      "Linear Reg Train Score: 0.6082951018632644\n",
      "Linear Reg Test Score: 0.5964388657346261\n",
      "----------------------------------------------------------------------------------------------------\n",
      "Ridge Reg Train Score: 0.6082951018509163\n",
      "Ridge Reg Test Score: 0.5964397845945382\n",
      "----------------------------------------------------------------------------------------------------\n",
      "Ridge Reg 100 Train Score: 0.6075226508546894\n",
      "Ridge Reg 100 Test Score: 0.6023315731675578\n"
     ]
    }
   ],
   "source": [
    "print(f'Linear Reg Train Score: {train_score}')\n",
    "print(f'Linear Reg Test Score: {test_score}')\n",
    "print('-'*100)\n",
    "print(f'Ridge Reg Train Score: {ridge_train_score}')\n",
    "print(f'Ridge Reg Test Score: {ridge_test_score}')\n",
    "print('-'*100)\n",
    "print(f'Ridge Reg 100 Train Score: {ridge_train_score100}')\n",
    "print(f'Ridge Reg 100 Test Score: {ridge_test_score100}')"
   ]
  },
  {
   "cell_type": "code",
   "execution_count": 7,
   "metadata": {},
   "outputs": [
    {
     "data": {
      "image/png": "[encoded data removed]",
      "text/plain": [
       "<Figure size 432x288 with 1 Axes>"
      ]
     },
     "metadata": {
      "needs_background": "light"
     },
     "output_type": "display_data"
    }
   ],
   "source": [
    "\n",
    "plt.plot(rr.coef_,alpha=0.7,linestyle='none',marker='*',markersize=5,color='red',label=r'Ridge; $\\alpha = 0.01$',zorder=7) \n",
    "plt.plot(rr100.coef_,alpha=0.5,linestyle='none',marker='d',markersize=6,color='blue',label=r'Ridge; $\\alpha = 100$') \n",
    "plt.plot(lr.coef_,alpha=0.4,linestyle='none',marker='o',markersize=7,color='green',label='Linear Regression')\n",
    "plt.xlabel('Coefficient Index',fontsize=16)\n",
    "plt.ylabel('Coefficient Magnitude',fontsize=16)\n",
    "plt.legend(fontsize=13,loc=4)\n",
    "plt.show()"
   ]
  },
  {
   "cell_type": "markdown",
   "metadata": {},
   "source": [
    "\n",
    "\n",
    "## 2. Lasso Regression\n",
    "\n",
    "<br>\n",
    "<br>\n",
    "$$Lasso : \\lambda \\sum_{i=1}^{n} |\\theta_i| $$\n",
    "<br>\n",
    "<br>\n",
    "<img src=\"https://miro.medium.com/max/1400/1*P5Lq5mAi4WAch7oIeiS3WA.png\" width=400>\n",
    "<img src=\"https://miro.medium.com/max/1400/1*JH9eAS2I9mwOpuFLg-gD6g.png\" width=300>\n",
    "\n",
    "Lasso é outra variação de regularização, em que a função acima é minimizada. É claro que essa variação difere da regressão de Ridge apenas em penalizar os altos coeficientes. Ele usa | $\\theta_i$ | (módulo) em vez de quadrados de $\\theta_i$, como sua penalidade. Nas estatísticas, isso é conhecido como a norma L1.\n",
    "\n",
    "Vamos dar uma olhada nos métodos acima com uma perspectiva diferente: a regressão de Ridge pode ser pensada como resolvendo uma equação, onde a soma dos quadrados dos coeficientes é menor ou igual a s. E o Lasso pode ser pensado como uma equação onde a soma do módulo de coeficientes é menor ou igual a s. Aqui, s é uma constante que existe para cada valor do fator de encolhimento λ. Essas equações também são chamadas de funções de restrição.\n",
    "\n",
    "Considere os seus dois parâmetros em um determinado problema. Então, de acordo com a formulação acima, a regressão de Ridge é expressa por $\\theta_1^2 +  \\theta_2^2 ≤ c$. Isto implica que os coeficientes de regressão de Ridge têm a menor RSS (função de perda) para todos os pontos que se encontram dentro da circunferência dada por $\\theta_1^2 +  \\theta_2^2 ≤ c$.\n",
    "\n",
    "Da mesma forma, para Lasso, a equação se torna $ |\\theta_1| +  |\\theta_2| ≤ t $. Isto implica que os coeficientes de Lasso possuem o menor RSS (função de perda) para todos os pontos que estão dentro do diamante dado por $ |\\theta_1| +  |\\theta_2| ≤ t $.\n",
    "\n",
    "<br>\n",
    "<img src=\"https://miro.medium.com/max/1400/1*Jd03Hyt2bpEv1r7UijLlpg.png\" style=\"height:350px\">\n",
    "<br>\n",
    "\n",
    "A imagem acima mostra as funções de restrição (áreas verdes), para Lasso (esquerda) e regressão de Ridge (direita), juntamente com contornos para RSS (elipse vermelha). Pontos na elipse compartilham o valor do RSS. Para um valor muito grande de s, as regiões verdes conterão o centro da elipse, fazendo estimativas de coeficiente de ambas as técnicas de regressão, iguais às estimativas de mínimos quadrados. Mas, este não é o caso na imagem acima. Nesse caso, as estimativas do coeficiente de regressão de Lasso e Ridge são fornecidas pelo primeiro ponto em que uma elipse entra em contato com a região de restrição. Como a regressão de Ridge possui uma restrição circular sem pontos agudos, essa interseção geralmente não ocorre em um eixo e, portanto, as estimativas do coeficiente de regressão de Ridge serão exclusivamente diferentes de zero. No entanto, a restrição de Lasso tem cantos em cada um dos eixos e, portanto, a elipse geralmente cruza a região de restrição em um eixo. Quando isso ocorre, um dos coeficientes será igual a zero. Em dimensões mais altas (onde os parâmetros são muito maiores que 2), muitas das estimativas de coeficiente podem ser iguais a zero simultaneamente.\n",
    "\n",
    "Isso esclarece a desvantagem óbvia da regressão de Ridge, que é a interpretabilidade do modelo. Reduzirá os coeficientes dos preditores menos importantes, muito próximos de zero. Mas isso nunca os tornará exatamente zero. Em outras palavras, o modelo final incluirá todos os preditores. No entanto, no caso do Lasso, a penalidade de L1 tem o efeito de forçar algumas das estimativas de coeficiente a serem exatamente iguais a zero quando o parâmetro de ajuste λ é suficientemente grande. Portanto, o método do Lasso também realiza seleção de variáveis ​​e é dito que produz modelos escassos.\n",
    "\n",
    "## 3. ElasticNet Regression (L1 + L2)\n",
    "\n",
    "A regressão ElasticNet combina o poder da regressão Ridge e Lasso em um algoritmo. O que isso significa é que, com a ElasticNet, o algoritmo pode remover variáveis fracas como no Lasso ou reduzi-las a quase zero como no Ridge. Todos esses algoritmos são exemplos de Regularização.\n",
    "\n",
    "Para ler mais acesse o artigo [Elastic Net Regression in Python](https://www.datacamp.com/community/tutorials/tutorial-ridge-lasso-elastic-net)"
   ]
  },
  {
   "cell_type": "markdown",
   "metadata": {},
   "source": [
    "-------------\n",
    "\n",
    "## Trade-off entre viés e variância\n",
    "\n",
    "O modelo de regressão linear simples, no qual você pretende predizer n observações da variável de resposta, Y, com uma combinação linear de m variáveis preditoras, X e um termo de erro normalmente distribuído com variação σ2, é definido por uma equação linear. Como não conhecemos os parâmetros verdadeiros, temos que estimar esses parâmetros a partir da amostra. Na abordagem de mínimos quadrados ordinários (OLS), estimamos-os como β estimados de tal maneira que a soma dos quadrados dos resíduos é a menor possível. \n",
    "\n",
    "\n",
    "\n",
    "Para ler mais acesse o artigo [Regularization: Ridge, Lasso and Elastic Net](https://www.datacamp.com/community/tutorials/tutorial-ridge-lasso-elastic-net)\n",
    "\n",
    "## O que a Regularização faz exatamente?\n",
    "\n",
    "Um modelo padrão de mínimos quadrados tende a apresentar alguma variação, ou seja, esse modelo não generaliza bem para um conjunto de dados diferente dos dados de treinamento. **A regularização reduz significativamente a variância do modelo, sem aumento substancial de seu viés.** Portanto, o parâmetro de ajuste λ, usado nas técnicas de regularização descritas acima, controla o impacto na variação. À medida que o valor de λ aumenta, reduz o valor dos coeficientes e, assim, reduz a variação. Até certo ponto, esse aumento em λ é benéfico, pois reduz apenas a variação (evitando, portanto, o ajuste excessivo), sem perder propriedades importantes nos dados. Mas, após um certo valor, o modelo começa a perder propriedades importantes, dando origem a um viés no modelo e, portanto, a um ajuste insuficiente. Portanto, o valor de λ deve ser cuidadosamente selecionado.\n",
    "\n",
    "É tudo o que você precisa para começar a regularizar. É uma técnica útil que pode ajudar a melhorar a precisão dos seus modelos de regressão. Uma biblioteca popular para implementar esses algoritmos é o Scikit-Learn. Ele tem uma API maravilhosa que pode fazer seu modelo funcionar com apenas algumas linhas de código em python.\n",
    "\n",
    "Artigo original [Regularization in Machine Learning](https://towardsdatascience.com/regularization-in-machine-learning-76441ddcf99a)\n"
   ]
  },
  {
   "cell_type": "markdown",
   "metadata": {},
   "source": [
    "___________________"
   ]
  },
  {
   "cell_type": "markdown",
   "metadata": {},
   "source": [
    "# Um pouco de Prática"
   ]
  },
  {
   "cell_type": "markdown",
   "metadata": {},
   "source": [
    "O desemprego é uma grande preocupação socioeconômica e política para qualquer país e, portanto, gerenciá-lo é a principal tarefa de qualquer governo. Nesta prática, tentaremos construir algoritmos de regressão para prever o desemprego em uma economia."
   ]
  },
  {
   "cell_type": "markdown",
   "metadata": {},
   "source": [
    "Vamos definir o Passo a Passo"
   ]
  },
  {
   "cell_type": "markdown",
   "metadata": {},
   "source": [
    "- Carregar as bibliotecas, módulos, classes e funções\n",
    "- Carregar os dados\n",
    "- Definir os preditores e a variável resposta\n",
    "- Criar os conjuntos de treino e teste\n",
    "- Construir os modelos de regressão, prever e avaliar os resultados"
   ]
  },
  {
   "cell_type": "code",
   "execution_count": 8,
   "metadata": {},
   "outputs": [],
   "source": [
    "import pandas as pd\n",
    "import numpy as np\n",
    "from sklearn import model_selection\n",
    "from sklearn.linear_model import LinearRegression\n",
    "from sklearn.linear_model import Ridge\n",
    "from sklearn.linear_model import Lasso\n",
    "from sklearn.linear_model import ElasticNet\n",
    "from sklearn.neighbors import KNeighborsRegressor\n",
    "from sklearn.tree import DecisionTreeRegressor\n",
    "from sklearn.svm import SVR\n",
    "from sklearn.ensemble import RandomForestRegressor\n",
    "from sklearn.metrics import r2_score\n",
    "from sklearn.model_selection import train_test_split\n",
    "from sklearn.metrics import mean_squared_error\n",
    "from math import sqrt"
   ]
  },
  {
   "cell_type": "code",
   "execution_count": 10,
   "metadata": {},
   "outputs": [
    {
     "name": "stdout",
     "output_type": "stream",
     "text": [
      "(574, 6)\n"
     ]
    },
    {
     "data": {
      "text/html": [
       "<div>\n",
       "<style scoped>\n",
       "    .dataframe tbody tr th:only-of-type {\n",
       "        vertical-align: middle;\n",
       "    }\n",
       "\n",
       "    .dataframe tbody tr th {\n",
       "        vertical-align: top;\n",
       "    }\n",
       "\n",
       "    .dataframe thead th {\n",
       "        text-align: right;\n",
       "    }\n",
       "</style>\n",
       "<table border=\"1\" class=\"dataframe\">\n",
       "  <thead>\n",
       "    <tr style=\"text-align: right;\">\n",
       "      <th></th>\n",
       "      <th>Unnamed: 0</th>\n",
       "      <th>pce</th>\n",
       "      <th>pop</th>\n",
       "      <th>psavert</th>\n",
       "      <th>uempmed</th>\n",
       "      <th>unemploy</th>\n",
       "    </tr>\n",
       "  </thead>\n",
       "  <tbody>\n",
       "    <tr>\n",
       "      <th>count</th>\n",
       "      <td>574.000000</td>\n",
       "      <td>574.000000</td>\n",
       "      <td>574.000000</td>\n",
       "      <td>574.000000</td>\n",
       "      <td>574.000000</td>\n",
       "      <td>574.000000</td>\n",
       "    </tr>\n",
       "    <tr>\n",
       "      <th>mean</th>\n",
       "      <td>287.500000</td>\n",
       "      <td>4820.092683</td>\n",
       "      <td>257159.652662</td>\n",
       "      <td>8.567247</td>\n",
       "      <td>8.608711</td>\n",
       "      <td>7771.310105</td>\n",
       "    </tr>\n",
       "    <tr>\n",
       "      <th>std</th>\n",
       "      <td>165.843802</td>\n",
       "      <td>3556.803613</td>\n",
       "      <td>36682.398508</td>\n",
       "      <td>2.964179</td>\n",
       "      <td>4.106645</td>\n",
       "      <td>2641.959180</td>\n",
       "    </tr>\n",
       "    <tr>\n",
       "      <th>min</th>\n",
       "      <td>1.000000</td>\n",
       "      <td>506.700000</td>\n",
       "      <td>198712.000000</td>\n",
       "      <td>2.200000</td>\n",
       "      <td>4.000000</td>\n",
       "      <td>2685.000000</td>\n",
       "    </tr>\n",
       "    <tr>\n",
       "      <th>25%</th>\n",
       "      <td>144.250000</td>\n",
       "      <td>1578.300000</td>\n",
       "      <td>224896.000000</td>\n",
       "      <td>6.400000</td>\n",
       "      <td>6.000000</td>\n",
       "      <td>6284.000000</td>\n",
       "    </tr>\n",
       "    <tr>\n",
       "      <th>50%</th>\n",
       "      <td>287.500000</td>\n",
       "      <td>3936.850000</td>\n",
       "      <td>253060.000000</td>\n",
       "      <td>8.400000</td>\n",
       "      <td>7.500000</td>\n",
       "      <td>7494.000000</td>\n",
       "    </tr>\n",
       "    <tr>\n",
       "      <th>75%</th>\n",
       "      <td>430.750000</td>\n",
       "      <td>7626.325000</td>\n",
       "      <td>290290.750000</td>\n",
       "      <td>11.100000</td>\n",
       "      <td>9.100000</td>\n",
       "      <td>8685.500000</td>\n",
       "    </tr>\n",
       "    <tr>\n",
       "      <th>max</th>\n",
       "      <td>574.000000</td>\n",
       "      <td>12193.800000</td>\n",
       "      <td>320402.295000</td>\n",
       "      <td>17.300000</td>\n",
       "      <td>25.200000</td>\n",
       "      <td>15352.000000</td>\n",
       "    </tr>\n",
       "  </tbody>\n",
       "</table>\n",
       "</div>"
      ],
      "text/plain": [
       "       Unnamed: 0           pce            pop     psavert     uempmed  \\\n",
       "count  574.000000    574.000000     574.000000  574.000000  574.000000   \n",
       "mean   287.500000   4820.092683  257159.652662    8.567247    8.608711   \n",
       "std    165.843802   3556.803613   36682.398508    2.964179    4.106645   \n",
       "min      1.000000    506.700000  198712.000000    2.200000    4.000000   \n",
       "25%    144.250000   1578.300000  224896.000000    6.400000    6.000000   \n",
       "50%    287.500000   3936.850000  253060.000000    8.400000    7.500000   \n",
       "75%    430.750000   7626.325000  290290.750000   11.100000    9.100000   \n",
       "max    574.000000  12193.800000  320402.295000   17.300000   25.200000   \n",
       "\n",
       "           unemploy  \n",
       "count    574.000000  \n",
       "mean    7771.310105  \n",
       "std     2641.959180  \n",
       "min     2685.000000  \n",
       "25%     6284.000000  \n",
       "50%     7494.000000  \n",
       "75%     8685.500000  \n",
       "max    15352.000000  "
      ]
     },
     "execution_count": 10,
     "metadata": {},
     "output_type": "execute_result"
    }
   ],
   "source": [
    "df= pd.read_csv('unemployment_data.csv')\n",
    "print(df.shape)\n",
    "df.describe()"
   ]
  },
  {
   "cell_type": "code",
   "execution_count": 11,
   "metadata": {},
   "outputs": [],
   "source": [
    "df.drop('Unnamed: 0' , axis=1,inplace =True)"
   ]
  },
  {
   "cell_type": "code",
   "execution_count": 13,
   "metadata": {},
   "outputs": [
    {
     "data": {
      "text/html": [
       "<div>\n",
       "<style scoped>\n",
       "    .dataframe tbody tr th:only-of-type {\n",
       "        vertical-align: middle;\n",
       "    }\n",
       "\n",
       "    .dataframe tbody tr th {\n",
       "        vertical-align: top;\n",
       "    }\n",
       "\n",
       "    .dataframe thead th {\n",
       "        text-align: right;\n",
       "    }\n",
       "</style>\n",
       "<table border=\"1\" class=\"dataframe\">\n",
       "  <thead>\n",
       "    <tr style=\"text-align: right;\">\n",
       "      <th></th>\n",
       "      <th>pce</th>\n",
       "      <th>pop</th>\n",
       "      <th>psavert</th>\n",
       "      <th>uempmed</th>\n",
       "      <th>unemploy</th>\n",
       "    </tr>\n",
       "  </thead>\n",
       "  <tbody>\n",
       "    <tr>\n",
       "      <th>count</th>\n",
       "      <td>574.000000</td>\n",
       "      <td>574.000000</td>\n",
       "      <td>574.000000</td>\n",
       "      <td>574.000000</td>\n",
       "      <td>574.000000</td>\n",
       "    </tr>\n",
       "    <tr>\n",
       "      <th>mean</th>\n",
       "      <td>0.395290</td>\n",
       "      <td>0.802615</td>\n",
       "      <td>0.495217</td>\n",
       "      <td>0.341616</td>\n",
       "      <td>7771.310105</td>\n",
       "    </tr>\n",
       "    <tr>\n",
       "      <th>std</th>\n",
       "      <td>0.291690</td>\n",
       "      <td>0.114489</td>\n",
       "      <td>0.171340</td>\n",
       "      <td>0.162962</td>\n",
       "      <td>2641.959180</td>\n",
       "    </tr>\n",
       "    <tr>\n",
       "      <th>min</th>\n",
       "      <td>0.041554</td>\n",
       "      <td>0.620195</td>\n",
       "      <td>0.127168</td>\n",
       "      <td>0.158730</td>\n",
       "      <td>2685.000000</td>\n",
       "    </tr>\n",
       "    <tr>\n",
       "      <th>25%</th>\n",
       "      <td>0.129435</td>\n",
       "      <td>0.701918</td>\n",
       "      <td>0.369942</td>\n",
       "      <td>0.238095</td>\n",
       "      <td>6284.000000</td>\n",
       "    </tr>\n",
       "    <tr>\n",
       "      <th>50%</th>\n",
       "      <td>0.322857</td>\n",
       "      <td>0.789820</td>\n",
       "      <td>0.485549</td>\n",
       "      <td>0.297619</td>\n",
       "      <td>7494.000000</td>\n",
       "    </tr>\n",
       "    <tr>\n",
       "      <th>75%</th>\n",
       "      <td>0.625426</td>\n",
       "      <td>0.906020</td>\n",
       "      <td>0.641618</td>\n",
       "      <td>0.361111</td>\n",
       "      <td>8685.500000</td>\n",
       "    </tr>\n",
       "    <tr>\n",
       "      <th>max</th>\n",
       "      <td>1.000000</td>\n",
       "      <td>1.000000</td>\n",
       "      <td>1.000000</td>\n",
       "      <td>1.000000</td>\n",
       "      <td>15352.000000</td>\n",
       "    </tr>\n",
       "  </tbody>\n",
       "</table>\n",
       "</div>"
      ],
      "text/plain": [
       "              pce         pop     psavert     uempmed      unemploy\n",
       "count  574.000000  574.000000  574.000000  574.000000    574.000000\n",
       "mean     0.395290    0.802615    0.495217    0.341616   7771.310105\n",
       "std      0.291690    0.114489    0.171340    0.162962   2641.959180\n",
       "min      0.041554    0.620195    0.127168    0.158730   2685.000000\n",
       "25%      0.129435    0.701918    0.369942    0.238095   6284.000000\n",
       "50%      0.322857    0.789820    0.485549    0.297619   7494.000000\n",
       "75%      0.625426    0.906020    0.641618    0.361111   8685.500000\n",
       "max      1.000000    1.000000    1.000000    1.000000  15352.000000"
      ]
     },
     "execution_count": 13,
     "metadata": {},
     "output_type": "execute_result"
    }
   ],
   "source": [
    "target = ['unemploy']\n",
    "predictors = list(set(list(df.columns))-set(target))\n",
    "df[predictors] = df[predictors]/df[predictors].max()\n",
    "df.describe()"
   ]
  },
  {
   "cell_type": "code",
   "execution_count": 15,
   "metadata": {},
   "outputs": [
    {
     "name": "stdout",
     "output_type": "stream",
     "text": [
      "(401, 4)\n",
      "(173, 4)\n"
     ]
    }
   ],
   "source": [
    "#Criar os conjuntos de treino e teste\n",
    "X = df[predictors].values\n",
    "y = df[target].values\n",
    "\n",
    "X_train, X_test, y_train, y_test = train_test_split(X, y, test_size=0.30, random_state=40)\n",
    "print(X_train.shape); print(X_test.shape)"
   ]
  },
  {
   "cell_type": "code",
   "execution_count": 16,
   "metadata": {},
   "outputs": [
    {
     "name": "stdout",
     "output_type": "stream",
     "text": [
      "986.4203778792611\n",
      "0.8643441807823631\n",
      "1044.7751718256557\n",
      "0.831615696708742\n"
     ]
    }
   ],
   "source": [
    "# Regressão linear\n",
    "lr = LinearRegression()\n",
    "lr.fit(X_train, y_train)\n",
    "\n",
    "# Avaliação Regressão Linear\n",
    "pred_train_lr= lr.predict(X_train)\n",
    "print(np.sqrt(mean_squared_error(y_train,pred_train_lr)))\n",
    "print(r2_score(y_train, pred_train_lr))\n",
    "\n",
    "pred_test_lr= lr.predict(X_test)\n",
    "print(np.sqrt(mean_squared_error(y_test,pred_test_lr))) \n",
    "print(r2_score(y_test, pred_test_lr))"
   ]
  },
  {
   "cell_type": "code",
   "execution_count": 17,
   "metadata": {},
   "outputs": [
    {
     "name": "stdout",
     "output_type": "stream",
     "text": [
      "990.8064876879897\n",
      "0.8631351138028003\n",
      "1040.3512413393082\n",
      "0.8330386695177573\n"
     ]
    }
   ],
   "source": [
    "# Ridge Regression\n",
    "rr = Ridge(alpha=0.01)\n",
    "rr.fit(X_train, y_train) \n",
    "pred_train_rr= rr.predict(X_train)\n",
    "print(np.sqrt(mean_squared_error(y_train,pred_train_rr)))\n",
    "print(r2_score(y_train, pred_train_rr))\n",
    "\n",
    "pred_test_rr= rr.predict(X_test)\n",
    "print(np.sqrt(mean_squared_error(y_test,pred_test_rr))) \n",
    "print(r2_score(y_test, pred_test_rr))"
   ]
  },
  {
   "cell_type": "code",
   "execution_count": 18,
   "metadata": {},
   "outputs": [
    {
     "name": "stdout",
     "output_type": "stream",
     "text": [
      "986.4208828058871\n",
      "0.8643440419039413\n",
      "1044.6822216393111\n",
      "0.8316456565633901\n"
     ]
    }
   ],
   "source": [
    "# Lasso Regression\n",
    "model_lasso = Lasso(alpha=0.01)\n",
    "model_lasso.fit(X_train, y_train) \n",
    "pred_train_lasso= model_lasso.predict(X_train)\n",
    "print(np.sqrt(mean_squared_error(y_train,pred_train_lasso)))\n",
    "print(r2_score(y_train, pred_train_lasso))\n",
    "\n",
    "pred_test_lasso= model_lasso.predict(X_test)\n",
    "print(np.sqrt(mean_squared_error(y_test,pred_test_lasso))) \n",
    "print(r2_score(y_test, pred_test_lasso))"
   ]
  },
  {
   "cell_type": "code",
   "execution_count": 19,
   "metadata": {},
   "outputs": [
    {
     "name": "stdout",
     "output_type": "stream",
     "text": [
      "1353.5137565331572\n",
      "0.7445889364059675\n",
      "1380.6610280090797\n",
      "0.7059439969407901\n"
     ]
    }
   ],
   "source": [
    "#Elastic Net\n",
    "model_enet = ElasticNet(alpha = 0.01)\n",
    "model_enet.fit(X_train, y_train) \n",
    "pred_train_enet= model_enet.predict(X_train)\n",
    "print(np.sqrt(mean_squared_error(y_train,pred_train_enet)))\n",
    "print(r2_score(y_train, pred_train_enet))\n",
    "\n",
    "pred_test_enet= model_enet.predict(X_test)\n",
    "print(np.sqrt(mean_squared_error(y_test,pred_test_enet)))\n",
    "print(r2_score(y_test, pred_test_enet))"
   ]
  }
 ],
 "metadata": {
  "kernelspec": {
   "display_name": "Python 3 (ipykernel)",
   "language": "python",
   "name": "python3"
  },
  "language_info": {
   "codemirror_mode": {
    "name": "ipython",
    "version": 3
   },
   "file_extension": ".py",
   "mimetype": "text/x-python",
   "name": "python",
   "nbconvert_exporter": "python",
   "pygments_lexer": "ipython3",
   "version": "3.9.12"
  },
  "latex_envs": {
   "LaTeX_envs_menu_present": true,
   "autoclose": false,
   "autocomplete": true,
   "bibliofile": "biblio.bib",
   "cite_by": "apalike",
   "current_citInitial": 1,
   "eqLabelWithNumbers": true,
   "eqNumInitial": 1,
   "hotkeys": {
    "equation": "Ctrl-E",
    "itemize": "Ctrl-I"
   },
   "labels_anchors": false,
   "latex_user_defs": false,
   "report_style_numbering": false,
   "user_envs_cfg": false
  },
  "nteract": {
   "version": "nteract-on-jupyter@1.9.7"
  },
  "toc": {
   "base_numbering": 1,
   "nav_menu": {},
   "number_sections": true,
   "sideBar": true,
   "skip_h1_title": false,
   "title_cell": "Table of Contents",
   "title_sidebar": "Contents",
   "toc_cell": false,
   "toc_position": {},
   "toc_section_display": true,
   "toc_window_display": false
  },
  "varInspector": {
   "cols": {
    "lenName": 16,
    "lenType": 16,
    "lenVar": 40
   },
   "kernels_config": {
    "python": {
     "delete_cmd_postfix": "",
     "delete_cmd_prefix": "del ",
     "library": "var_list.py",
     "varRefreshCmd": "print(var_dic_list())"
    },
    "r": {
     "delete_cmd_postfix": ") ",
     "delete_cmd_prefix": "rm(",
     "library": "var_list.r",
     "varRefreshCmd": "cat(var_dic_list()) "
    }
   },
   "types_to_exclude": [
    "module",
    "function",
    "builtin_function_or_method",
    "instance",
    "_Feature"
   ],
   "window_display": false
  }
 },
 "nbformat": 4,
 "nbformat_minor": 4
}
