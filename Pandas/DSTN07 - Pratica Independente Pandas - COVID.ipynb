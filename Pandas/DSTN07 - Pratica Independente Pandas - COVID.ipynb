{
 "cells": [
  {
   "cell_type": "markdown",
   "metadata": {
    "colab_type": "text",
    "id": "1QcD8nC22vGe"
   },
   "source": [
    "# Prática Independente de Pandas 1."
   ]
  },
  {
   "cell_type": "markdown",
   "metadata": {
    "colab_type": "text",
    "id": "PksRKb8L2vGg"
   },
   "source": [
    "### 1. Introdução.\n",
    "\n",
    "#### Diariamente, o Ministério da Saúde, por meio da Secretaria de Vigilância em Saúde (SVS/MS) divulga dados consolidados sobre o [COVID-19](https://covid.saude.gov.br/)."
   ]
  },
  {
   "cell_type": "markdown",
   "metadata": {
    "colab_type": "text",
    "id": "VjHffsC32vGh"
   },
   "source": [
    "#### Importamos as bibliotecas a serem usadas."
   ]
  },
  {
   "cell_type": "code",
   "execution_count": null,
   "metadata": {
    "colab": {},
    "colab_type": "code",
    "id": "xHGBG5__2vGj"
   },
   "outputs": [],
   "source": []
  },
  {
   "cell_type": "markdown",
   "metadata": {
    "colab_type": "text",
    "id": "1pk1BOEd2vGp"
   },
   "source": [
    "#### Importamos os dados a serem usados."
   ]
  },
  {
   "cell_type": "code",
   "execution_count": null,
   "metadata": {
    "colab": {},
    "colab_type": "code",
    "id": "txDGtZPQ2vGq"
   },
   "outputs": [],
   "source": []
  },
  {
   "cell_type": "code",
   "execution_count": null,
   "metadata": {
    "colab": {},
    "colab_type": "code",
    "id": "QE_N2QhU2vGt",
    "outputId": "77a7e429-e351-441e-d2df-cb23fb28a03f"
   },
   "outputs": [
    {
     "data": {
      "text/html": [
       "<div>\n",
       "<style scoped>\n",
       "    .dataframe tbody tr th:only-of-type {\n",
       "        vertical-align: middle;\n",
       "    }\n",
       "\n",
       "    .dataframe tbody tr th {\n",
       "        vertical-align: top;\n",
       "    }\n",
       "\n",
       "    .dataframe thead th {\n",
       "        text-align: right;\n",
       "    }\n",
       "</style>\n",
       "<table border=\"1\" class=\"dataframe\">\n",
       "  <thead>\n",
       "    <tr style=\"text-align: right;\">\n",
       "      <th></th>\n",
       "      <th>regiao</th>\n",
       "      <th>estado</th>\n",
       "      <th>municipio</th>\n",
       "      <th>coduf</th>\n",
       "      <th>codmun</th>\n",
       "      <th>codRegiaoSaude</th>\n",
       "      <th>nomeRegiaoSaude</th>\n",
       "      <th>data</th>\n",
       "      <th>semanaEpi</th>\n",
       "      <th>populacaoTCU2019</th>\n",
       "      <th>casosAcumulado</th>\n",
       "      <th>obitosAcumulado</th>\n",
       "      <th>Recuperadosnovos</th>\n",
       "      <th>emAcompanhamentoNovos</th>\n",
       "    </tr>\n",
       "  </thead>\n",
       "  <tbody>\n",
       "    <tr>\n",
       "      <th>0</th>\n",
       "      <td>Brasil</td>\n",
       "      <td>NaN</td>\n",
       "      <td>NaN</td>\n",
       "      <td>76</td>\n",
       "      <td>NaN</td>\n",
       "      <td>NaN</td>\n",
       "      <td>NaN</td>\n",
       "      <td>2020-02-26</td>\n",
       "      <td>9</td>\n",
       "      <td>210147125.0</td>\n",
       "      <td>1</td>\n",
       "      <td>0</td>\n",
       "      <td>NaN</td>\n",
       "      <td>NaN</td>\n",
       "    </tr>\n",
       "    <tr>\n",
       "      <th>1</th>\n",
       "      <td>Brasil</td>\n",
       "      <td>NaN</td>\n",
       "      <td>NaN</td>\n",
       "      <td>76</td>\n",
       "      <td>NaN</td>\n",
       "      <td>NaN</td>\n",
       "      <td>NaN</td>\n",
       "      <td>2020-02-27</td>\n",
       "      <td>9</td>\n",
       "      <td>210147125.0</td>\n",
       "      <td>1</td>\n",
       "      <td>0</td>\n",
       "      <td>NaN</td>\n",
       "      <td>NaN</td>\n",
       "    </tr>\n",
       "    <tr>\n",
       "      <th>2</th>\n",
       "      <td>Brasil</td>\n",
       "      <td>NaN</td>\n",
       "      <td>NaN</td>\n",
       "      <td>76</td>\n",
       "      <td>NaN</td>\n",
       "      <td>NaN</td>\n",
       "      <td>NaN</td>\n",
       "      <td>2020-02-28</td>\n",
       "      <td>9</td>\n",
       "      <td>210147125.0</td>\n",
       "      <td>1</td>\n",
       "      <td>0</td>\n",
       "      <td>NaN</td>\n",
       "      <td>NaN</td>\n",
       "    </tr>\n",
       "    <tr>\n",
       "      <th>3</th>\n",
       "      <td>Brasil</td>\n",
       "      <td>NaN</td>\n",
       "      <td>NaN</td>\n",
       "      <td>76</td>\n",
       "      <td>NaN</td>\n",
       "      <td>NaN</td>\n",
       "      <td>NaN</td>\n",
       "      <td>2020-02-29</td>\n",
       "      <td>9</td>\n",
       "      <td>210147125.0</td>\n",
       "      <td>2</td>\n",
       "      <td>0</td>\n",
       "      <td>NaN</td>\n",
       "      <td>NaN</td>\n",
       "    </tr>\n",
       "    <tr>\n",
       "      <th>4</th>\n",
       "      <td>Brasil</td>\n",
       "      <td>NaN</td>\n",
       "      <td>NaN</td>\n",
       "      <td>76</td>\n",
       "      <td>NaN</td>\n",
       "      <td>NaN</td>\n",
       "      <td>NaN</td>\n",
       "      <td>2020-03-01</td>\n",
       "      <td>10</td>\n",
       "      <td>210147125.0</td>\n",
       "      <td>2</td>\n",
       "      <td>0</td>\n",
       "      <td>NaN</td>\n",
       "      <td>NaN</td>\n",
       "    </tr>\n",
       "    <tr>\n",
       "      <th>...</th>\n",
       "      <td>...</td>\n",
       "      <td>...</td>\n",
       "      <td>...</td>\n",
       "      <td>...</td>\n",
       "      <td>...</td>\n",
       "      <td>...</td>\n",
       "      <td>...</td>\n",
       "      <td>...</td>\n",
       "      <td>...</td>\n",
       "      <td>...</td>\n",
       "      <td>...</td>\n",
       "      <td>...</td>\n",
       "      <td>...</td>\n",
       "      <td>...</td>\n",
       "    </tr>\n",
       "    <tr>\n",
       "      <th>95911</th>\n",
       "      <td>Centro-Oeste</td>\n",
       "      <td>DF</td>\n",
       "      <td>Brasília</td>\n",
       "      <td>53</td>\n",
       "      <td>530010.0</td>\n",
       "      <td>53001.0</td>\n",
       "      <td>Brasília</td>\n",
       "      <td>2020-05-16</td>\n",
       "      <td>20</td>\n",
       "      <td>3015268.0</td>\n",
       "      <td>4140</td>\n",
       "      <td>56</td>\n",
       "      <td>NaN</td>\n",
       "      <td>NaN</td>\n",
       "    </tr>\n",
       "    <tr>\n",
       "      <th>95912</th>\n",
       "      <td>Centro-Oeste</td>\n",
       "      <td>DF</td>\n",
       "      <td>Brasília</td>\n",
       "      <td>53</td>\n",
       "      <td>530010.0</td>\n",
       "      <td>53001.0</td>\n",
       "      <td>Brasília</td>\n",
       "      <td>2020-05-17</td>\n",
       "      <td>21</td>\n",
       "      <td>3015268.0</td>\n",
       "      <td>4368</td>\n",
       "      <td>59</td>\n",
       "      <td>NaN</td>\n",
       "      <td>NaN</td>\n",
       "    </tr>\n",
       "    <tr>\n",
       "      <th>95913</th>\n",
       "      <td>Centro-Oeste</td>\n",
       "      <td>DF</td>\n",
       "      <td>Brasília</td>\n",
       "      <td>53</td>\n",
       "      <td>530010.0</td>\n",
       "      <td>53001.0</td>\n",
       "      <td>Brasília</td>\n",
       "      <td>2020-05-18</td>\n",
       "      <td>21</td>\n",
       "      <td>3015268.0</td>\n",
       "      <td>4619</td>\n",
       "      <td>66</td>\n",
       "      <td>NaN</td>\n",
       "      <td>NaN</td>\n",
       "    </tr>\n",
       "    <tr>\n",
       "      <th>95914</th>\n",
       "      <td>Centro-Oeste</td>\n",
       "      <td>DF</td>\n",
       "      <td>Brasília</td>\n",
       "      <td>53</td>\n",
       "      <td>530010.0</td>\n",
       "      <td>53001.0</td>\n",
       "      <td>Brasília</td>\n",
       "      <td>2020-05-19</td>\n",
       "      <td>21</td>\n",
       "      <td>3015268.0</td>\n",
       "      <td>4853</td>\n",
       "      <td>72</td>\n",
       "      <td>NaN</td>\n",
       "      <td>NaN</td>\n",
       "    </tr>\n",
       "    <tr>\n",
       "      <th>95915</th>\n",
       "      <td>Centro-Oeste</td>\n",
       "      <td>DF</td>\n",
       "      <td>Brasília</td>\n",
       "      <td>53</td>\n",
       "      <td>530010.0</td>\n",
       "      <td>53001.0</td>\n",
       "      <td>Brasília</td>\n",
       "      <td>2020-05-20</td>\n",
       "      <td>21</td>\n",
       "      <td>3015268.0</td>\n",
       "      <td>5161</td>\n",
       "      <td>77</td>\n",
       "      <td>NaN</td>\n",
       "      <td>NaN</td>\n",
       "    </tr>\n",
       "  </tbody>\n",
       "</table>\n",
       "<p>95916 rows × 14 columns</p>\n",
       "</div>"
      ],
      "text/plain": [
       "             regiao estado municipio  coduf    codmun  codRegiaoSaude  \\\n",
       "0            Brasil    NaN       NaN     76       NaN             NaN   \n",
       "1            Brasil    NaN       NaN     76       NaN             NaN   \n",
       "2            Brasil    NaN       NaN     76       NaN             NaN   \n",
       "3            Brasil    NaN       NaN     76       NaN             NaN   \n",
       "4            Brasil    NaN       NaN     76       NaN             NaN   \n",
       "...             ...    ...       ...    ...       ...             ...   \n",
       "95911  Centro-Oeste     DF  Brasília     53  530010.0         53001.0   \n",
       "95912  Centro-Oeste     DF  Brasília     53  530010.0         53001.0   \n",
       "95913  Centro-Oeste     DF  Brasília     53  530010.0         53001.0   \n",
       "95914  Centro-Oeste     DF  Brasília     53  530010.0         53001.0   \n",
       "95915  Centro-Oeste     DF  Brasília     53  530010.0         53001.0   \n",
       "\n",
       "      nomeRegiaoSaude        data  semanaEpi  populacaoTCU2019  \\\n",
       "0                 NaN  2020-02-26          9       210147125.0   \n",
       "1                 NaN  2020-02-27          9       210147125.0   \n",
       "2                 NaN  2020-02-28          9       210147125.0   \n",
       "3                 NaN  2020-02-29          9       210147125.0   \n",
       "4                 NaN  2020-03-01         10       210147125.0   \n",
       "...               ...         ...        ...               ...   \n",
       "95911        Brasília  2020-05-16         20         3015268.0   \n",
       "95912        Brasília  2020-05-17         21         3015268.0   \n",
       "95913        Brasília  2020-05-18         21         3015268.0   \n",
       "95914        Brasília  2020-05-19         21         3015268.0   \n",
       "95915        Brasília  2020-05-20         21         3015268.0   \n",
       "\n",
       "       casosAcumulado  obitosAcumulado  Recuperadosnovos  \\\n",
       "0                   1                0               NaN   \n",
       "1                   1                0               NaN   \n",
       "2                   1                0               NaN   \n",
       "3                   2                0               NaN   \n",
       "4                   2                0               NaN   \n",
       "...               ...              ...               ...   \n",
       "95911            4140               56               NaN   \n",
       "95912            4368               59               NaN   \n",
       "95913            4619               66               NaN   \n",
       "95914            4853               72               NaN   \n",
       "95915            5161               77               NaN   \n",
       "\n",
       "       emAcompanhamentoNovos  \n",
       "0                        NaN  \n",
       "1                        NaN  \n",
       "2                        NaN  \n",
       "3                        NaN  \n",
       "4                        NaN  \n",
       "...                      ...  \n",
       "95911                    NaN  \n",
       "95912                    NaN  \n",
       "95913                    NaN  \n",
       "95914                    NaN  \n",
       "95915                    NaN  \n",
       "\n",
       "[95916 rows x 14 columns]"
      ]
     },
     "execution_count": 4,
     "metadata": {
      "tags": []
     },
     "output_type": "execute_result"
    }
   ],
   "source": [
    "covid19Brasil"
   ]
  },
  {
   "cell_type": "markdown",
   "metadata": {
    "colab_type": "text",
    "id": "OPLNLqg-2vGx"
   },
   "source": [
    "#### Exercício 1.1: Faça um slice no dataframe para considerar apenas os dados do estado de São Paulo."
   ]
  },
  {
   "cell_type": "code",
   "execution_count": null,
   "metadata": {
    "colab": {},
    "colab_type": "code",
    "id": "2xQQjnZG2vGx"
   },
   "outputs": [],
   "source": []
  },
  {
   "cell_type": "markdown",
   "metadata": {
    "colab_type": "text",
    "id": "48nYF3yU2vG1"
   },
   "source": [
    "#### Exercício 1.2: Selecione também um dataset contendo apenas os dados para a capital de SP."
   ]
  },
  {
   "cell_type": "code",
   "execution_count": null,
   "metadata": {
    "colab": {},
    "colab_type": "code",
    "id": "621Laqgc2vG1"
   },
   "outputs": [],
   "source": []
  },
  {
   "cell_type": "markdown",
   "metadata": {
    "colab_type": "text",
    "id": "lZ99tUlf2vG4"
   },
   "source": [
    "### 2. Explorando o dataset."
   ]
  },
  {
   "cell_type": "markdown",
   "metadata": {
    "colab_type": "text",
    "id": "JEVIHd1C2vG5"
   },
   "source": [
    "#### Exercício 2.1. Quantas linhas e quantas colunas tem o dataset?"
   ]
  },
  {
   "cell_type": "code",
   "execution_count": null,
   "metadata": {
    "colab": {},
    "colab_type": "code",
    "id": "3oyH79d52vG5"
   },
   "outputs": [],
   "source": []
  },
  {
   "cell_type": "markdown",
   "metadata": {
    "colab_type": "text",
    "id": "fidB9adK2vG9"
   },
   "source": [
    "#### Exercício 2.2 Que informação o dataset tem? Imprima o nome das colunas."
   ]
  },
  {
   "cell_type": "code",
   "execution_count": null,
   "metadata": {
    "colab": {},
    "colab_type": "code",
    "id": "KZnAomZe2vG-"
   },
   "outputs": [],
   "source": []
  },
  {
   "cell_type": "markdown",
   "metadata": {
    "colab_type": "text",
    "id": "E9sjpscF2vHB"
   },
   "source": [
    "#### Exercício 2.3: Como o dataset está indexado?"
   ]
  },
  {
   "cell_type": "code",
   "execution_count": null,
   "metadata": {
    "colab": {},
    "colab_type": "code",
    "id": "Dhz3-MM-2vHB"
   },
   "outputs": [],
   "source": []
  },
  {
   "cell_type": "markdown",
   "metadata": {
    "colab_type": "text",
    "id": "SqDnsQzU2vHE"
   },
   "source": [
    "#### Exercício 2.4: Qual é o tipo da quarta coluna?"
   ]
  },
  {
   "cell_type": "code",
   "execution_count": null,
   "metadata": {
    "colab": {},
    "colab_type": "code",
    "id": "0izoGlDW2vHE"
   },
   "outputs": [],
   "source": []
  },
  {
   "cell_type": "markdown",
   "metadata": {
    "colab_type": "text",
    "id": "Jz6-eg6E2vHH"
   },
   "source": [
    "#### Exercício 2.5: Qual é o município com o maior número de observações no dataset?"
   ]
  },
  {
   "cell_type": "code",
   "execution_count": null,
   "metadata": {
    "colab": {},
    "colab_type": "code",
    "id": "s297enXE2vHI"
   },
   "outputs": [],
   "source": []
  },
  {
   "cell_type": "markdown",
   "metadata": {
    "colab_type": "text",
    "id": "AK1g88pn2vHL"
   },
   "source": [
    "#### Exercício 2.6: Como os nomes das regiões de saúde estão distribuídos no dataset? "
   ]
  },
  {
   "cell_type": "code",
   "execution_count": null,
   "metadata": {
    "colab": {},
    "colab_type": "code",
    "id": "wDEVvvtk2vHM"
   },
   "outputs": [],
   "source": []
  },
  {
   "cell_type": "markdown",
   "metadata": {
    "colab_type": "text",
    "id": "_tVKevqd2vHO"
   },
   "source": [
    "#### Exercício 2.7: Qual é o número de casos acumulados na capital de SP, no dia 2020-08-31? "
   ]
  },
  {
   "cell_type": "code",
   "execution_count": null,
   "metadata": {
    "colab": {},
    "colab_type": "code",
    "id": "I9ZAbUE_2vHP"
   },
   "outputs": [],
   "source": []
  },
  {
   "cell_type": "markdown",
   "metadata": {
    "colab_type": "text",
    "id": "DmmopF6O2vHR"
   },
   "source": [
    "#### Exercício 2.8: Qual é o número total de casos acumulados para todas as cidades do estado de SP, no dia 2020-08-31? "
   ]
  },
  {
   "cell_type": "code",
   "execution_count": null,
   "metadata": {
    "colab": {},
    "colab_type": "code",
    "id": "iXpFoT5V2vHS"
   },
   "outputs": [],
   "source": []
  },
  {
   "cell_type": "markdown",
   "metadata": {
    "colab_type": "text",
    "id": "LtJVwqBH2vHV"
   },
   "source": [
    "#### Exercício 2.9: Qual é o valor médio de \"semanaEpi\"  durante todo o período? "
   ]
  },
  {
   "cell_type": "code",
   "execution_count": null,
   "metadata": {
    "colab": {},
    "colab_type": "code",
    "id": "2gTI2YIf2vHV"
   },
   "outputs": [],
   "source": []
  },
  {
   "cell_type": "code",
   "execution_count": null,
   "metadata": {
    "colab": {},
    "colab_type": "code",
    "id": "2hsmSA7v2vHY"
   },
   "outputs": [],
   "source": []
  },
  {
   "cell_type": "markdown",
   "metadata": {
    "colab_type": "text",
    "id": "eluDEWt42vHb"
   },
   "source": [
    "### 3. Indexando e organizando os dados."
   ]
  },
  {
   "cell_type": "markdown",
   "metadata": {
    "colab_type": "text",
    "id": "hL4khbIR2vHc"
   },
   "source": [
    "#### Exercício 3.1:  Selecionar, no dataframe com observações referentes ao estado de SP, valores não duplicados para as colunas 'municipio','coduf', 'codmun', 'codRegiaoSaude' e atribuí-las a um objeto novo chamado 'covid19SPMunicipios'."
   ]
  },
  {
   "cell_type": "code",
   "execution_count": null,
   "metadata": {
    "colab": {},
    "colab_type": "code",
    "id": "Xjp_bBvk2vHc"
   },
   "outputs": [],
   "source": []
  },
  {
   "cell_type": "markdown",
   "metadata": {
    "colab_type": "text",
    "id": "06ldbBbj2vHe"
   },
   "source": [
    "#### Exercício 3.2:  Selecionar as primeiras 20 linhas de 'covid19SPMunicipios'"
   ]
  },
  {
   "cell_type": "code",
   "execution_count": null,
   "metadata": {
    "colab": {},
    "colab_type": "code",
    "id": "C2SkHSQn2vHf"
   },
   "outputs": [],
   "source": []
  },
  {
   "cell_type": "markdown",
   "metadata": {
    "colab_type": "text",
    "id": "fOqK_E002vHh"
   },
   "source": [
    "#### Exercício 3.3:  Selecionar uma amostra aleatória de 100 linhas de 'covid19SPMunicipios'"
   ]
  },
  {
   "cell_type": "code",
   "execution_count": null,
   "metadata": {
    "colab": {},
    "colab_type": "code",
    "id": "WbwB3Cog2vHh"
   },
   "outputs": [],
   "source": []
  },
  {
   "cell_type": "markdown",
   "metadata": {
    "colab_type": "text",
    "id": "xtyUL2Cd2vHk"
   },
   "source": [
    "#### Exercício 3.4: Escolher todas as colunas, exceto 'coduf'. (Dica: utilize a propriedade columns para filtrar as colunas.)"
   ]
  },
  {
   "cell_type": "code",
   "execution_count": null,
   "metadata": {
    "colab": {},
    "colab_type": "code",
    "id": "aa4pLYiZ2vHk"
   },
   "outputs": [],
   "source": []
  },
  {
   "cell_type": "markdown",
   "metadata": {
    "colab_type": "text",
    "id": "fFhSSFNM2vHm"
   },
   "source": [
    "#### Exercício 3.5: Organizar o dataset dos municípios segundo a população, de forma decrescente."
   ]
  },
  {
   "cell_type": "code",
   "execution_count": null,
   "metadata": {
    "colab": {},
    "colab_type": "code",
    "id": "KyRuwGRC2vHn",
    "scrolled": true
   },
   "outputs": [],
   "source": []
  },
  {
   "cell_type": "markdown",
   "metadata": {
    "colab_type": "text",
    "id": "nV6J1MBl2vHp"
   },
   "source": [
    "#### Exercício 3.6: Qual é a média da população dos municípios, depois de excluirmos aqueles cujas populações são menores que 10000000 e maiores que 500000 habitantes?"
   ]
  },
  {
   "cell_type": "code",
   "execution_count": null,
   "metadata": {
    "colab": {},
    "colab_type": "code",
    "id": "Zz1Lp53u2vHp"
   },
   "outputs": [],
   "source": []
  }
 ],
 "metadata": {
  "colab": {
   "collapsed_sections": [],
   "name": "DSTN07 - Pratica Independente Pandas - COVID.ipynb",
   "provenance": []
  },
  "kernelspec": {
   "display_name": "Python 3 (ipykernel)",
   "language": "python",
   "name": "python3"
  },
  "language_info": {
   "codemirror_mode": {
    "name": "ipython",
    "version": 3
   },
   "file_extension": ".py",
   "mimetype": "text/x-python",
   "name": "python",
   "nbconvert_exporter": "python",
   "pygments_lexer": "ipython3",
   "version": "3.9.12"
  }
 },
 "nbformat": 4,
 "nbformat_minor": 1
}
