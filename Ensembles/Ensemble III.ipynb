{
 "cells": [
  {
   "cell_type": "markdown",
   "metadata": {},
   "source": [
    "# Outros Métodos de Boosting\n",
    "\n",
    "<br>\n",
    "<br>\n",
    "<img src=\"https://miro.medium.com/max/3630/1*VGSoqefx3Rz5Pws6qpLwOQ@2x.png\" align=\"center\" width=\"100%\">\n",
    "<br>\n",
    "<br>\n",
    "\n",
    "Fala galera! Tudo bem? Na últimas aulas vimos algoritmos de ensemble e falamos sobre os diversos tipos, desde o *Voting Classifier*, passamos pelo *Stacking*, algoritmos *Bagging* e, mais  recentemente, falamos de *Boosting*, quando conversamos um pouco sobre *Adaboost* e *Gradient Boosting*.\n",
    "\n",
    "A ideia hoje é trazer para vocês algumas outras implementações de *Boosting* que dividem o pódio de estado da arte desses algoritmos.\n",
    "\n",
    "Dentro desse pódio temos, não necessariamente nessa ordem:\n",
    "\n",
    "\n",
    "1. XGboost\n",
    "  \n",
    "2. LightGBM\n",
    "\n",
    "3. CatBoost"
   ]
  },
  {
   "cell_type": "markdown",
   "metadata": {},
   "source": [
    "Hoje iremos falar um pouco mais sobre cada um, trazendo o que cada implementa de melhoria e exploraremos em código o pode desses algoritmos."
   ]
  },
  {
   "cell_type": "markdown",
   "metadata": {},
   "source": [
    "<img src=\"https://miro.medium.com/max/700/1*i0CA9ho0WArOj-0UdpuKGQ.png\" width=\"70%\">"
   ]
  },
  {
   "cell_type": "markdown",
   "metadata": {},
   "source": [
    "_________________"
   ]
  },
  {
   "cell_type": "markdown",
   "metadata": {},
   "source": [
    "## XGBoost\n",
    "\n",
    "O XGBoost é um algoritmo de aprendizado de máquina baseado em árvore de decisão que usa uma estrutura de *Boosting*. Em problemas de previsão envolvendo dados não estruturados (imagens, texto, etc.), as redes neurais artificiais tendem a superar todos os outros algoritmos ou estruturas. No entanto, quando se trata de dados estruturados / tabulares de pequeno a médio porte, os algoritmos baseados em árvore de decisão são considerados os melhores da classe no momento. "
   ]
  },
  {
   "cell_type": "markdown",
   "metadata": {},
   "source": [
    "<img src=\"https://miro.medium.com/max/1400/1*QJZ6W-Pck_W7RlIDwUIN9Q.jpeg\" width=\"90%\">"
   ]
  },
  {
   "cell_type": "markdown",
   "metadata": {},
   "source": [
    "O algoritmo GBoost foi desenvolvido como um projeto de pesquisa na Universidade de Washington. O projeto foi apresentado na Conferência SIGKDD em 2016 por Tianqi Chen e Carlos Guestrin e pôs fogo no parquinho do aprendizado de máquina. \n",
    "\n",
    "Desde que veio ao mundo, o XGBoost tem sido um vencedor de inúmeras competições Kaggle, mas também é destaque em aplicações de ponta na indústria. \n",
    "\n",
    "Hoje existe uma grande comunidade que mantém esse algoritmo. São cerca de 350 colaboradores e aproximadamente 3.600 commits no GitHub. "
   ]
  },
  {
   "cell_type": "markdown",
   "metadata": {},
   "source": [
    "Imagine que você seja um recrutador que é responsável por entrevistar vários candidatos. Cada etapa da evolução de algoritmos baseados em árvore pode ser vista como uma versão do processo seletivo.\n"
   ]
  },
  {
   "cell_type": "markdown",
   "metadata": {},
   "source": [
    "*Decision Tree* : O recrutador possui uma determinada experiência com recrutamento e leva em consideração critérios como: nível de formação, anos de experiência, performance nas entrevistas, entre outras, para tomar a decisão de contratar ou não contratar. Mas a palavra final é dele."
   ]
  },
  {
   "cell_type": "markdown",
   "metadata": {},
   "source": [
    "*Bagging*: Agora imagine que em vez de um único recrutador, o processo seletivo contará com vários recrutadores, com backgrounds diferentes e cada um tem um voto que contribuirá na decisão final."
   ]
  },
  {
   "cell_type": "markdown",
   "metadata": {},
   "source": [
    "*Random Forest*: Parecido com o processo anterior, o Random Forest traz uma outra característica interessante a esse processo seletivo. Não só existirão diferentes recrutadores e eles terão um voto que será combinado, mas também cada recrutador avaliará o candidato em diferentes critérios."
   ]
  },
  {
   "cell_type": "markdown",
   "metadata": {},
   "source": [
    "*Boosting*: Esta é uma abordagem alternativa em que cada entrevistador altera os critérios de avaliação com base no feedback do entrevistador anterior. Isso \"aumenta\" a eficiência do processo de entrevista, implementando um processo de avaliação mais dinâmico.\n"
   ]
  },
  {
   "cell_type": "markdown",
   "metadata": {},
   "source": [
    "*Gradient Boosting*:Um caso especial de *Boosting* onde os erros são minimizados pelo algoritmo de descida gradiente, por exemplo as consultorias se aproveitam do uso de cases para eliminar candidatos menos qualificados.\n"
   ]
  },
  {
   "cell_type": "markdown",
   "metadata": {},
   "source": [
    "*XGBoost*: Pense no XGBoost como o Cristiano Ronaldo dopado. O Gradient Boosting combina otimizações de software e hardware para produir resultados superiores usando menos recurso de computação e menor tempo."
   ]
  },
  {
   "cell_type": "markdown",
   "metadata": {},
   "source": [
    "<img src=\"https://miro.medium.com/max/1000/1*VGSoqefx3Rz5Pws6qpLwOQ@2x.png\" width=700>"
   ]
  },
  {
   "cell_type": "markdown",
   "metadata": {},
   "source": [
    "## O que é *Extreme* no XGBoost?"
   ]
  },
  {
   "cell_type": "markdown",
   "metadata": {},
   "source": [
    "XGBoost e Gradient Boosting Machines (GBMs) são ambos métodos de árvore que aplicam o princípio de impulsionar alunos fracos (CARTs geralmente) usando a arquitetura de gradiente descendente. No entanto, o XGBoost melhora a estrutura de base do GBM por meio da otimização de sistemas e melhorias algorítmicas.\n"
   ]
  },
  {
   "cell_type": "markdown",
   "metadata": {},
   "source": [
    "<img src=\"https://miro.medium.com/max/1400/1*FLshv-wVDfu-i54OqvZdHg.png\" width=\"60%\">"
   ]
  },
  {
   "cell_type": "markdown",
   "metadata": {},
   "source": [
    "Vamos falar um pouco sobre essas otimizações."
   ]
  },
  {
   "cell_type": "markdown",
   "metadata": {},
   "source": [
    "**Paralelização**: O XGBoost aborda o processo de construção de árvore sequencial usando implementação paralelizada. Isso é possível devido à natureza intercambiável dos loops usados ​​para construir os *weark learners*; o loop externo que enumera os nós folha de uma árvore e o segundo loop interno que calcula os recursos. Este aninhamento de loops limita a paralelização porque sem completar o loop interno (mais exigente computacionalmente dos dois), o loop externo não pode ser iniciado. Portanto, para melhorar o tempo de execução, a ordem dos loops é trocada usando a inicialização por meio de uma varredura global de todas as instâncias e classificação usando encadeamentos paralelos. Essa opção melhora o desempenho algorítmico ao compensar qualquer sobrecarga de paralelização na computação.\n"
   ]
  },
  {
   "cell_type": "markdown",
   "metadata": {},
   "source": [
    "**Pruning**: O critério de parada para divisão de árvore dentro da estrutura do GBM é ganancioso por natureza e depende do critério de perda negativa no ponto de divisão. O XGBoost usa o parâmetro ‘max_depth’ conforme especificado em vez do primeiro e começa a podar as árvores para trás. Esta abordagem ‘em primeiro lugar’ melhora o desempenho computacional significativamente. Basicamente, o algoritmo tem mais opções de pruning do que em outros métodos.\n",
    "\n"
   ]
  },
  {
   "cell_type": "markdown",
   "metadata": {},
   "source": [
    "**Hardware**: Este algoritmo foi projetado para fazer uso eficiente dos recursos de hardware. Isso é alcançado pela detecção do cache, alocando buffers internos em cada thread para armazenar estatísticas de gradiente. Aprimoramentos adicionais, como computação \"fora do núcleo\" otimizam o espaço em disco disponível, ao mesmo tempo em que lida com grandes frames de dados que não cabem na memória.\n"
   ]
  },
  {
   "cell_type": "markdown",
   "metadata": {},
   "source": [
    "**Melhorias do Algoritmo**:"
   ]
  },
  {
   "cell_type": "markdown",
   "metadata": {},
   "source": [
    "- Regularization: o XGBoost usa regularização LASSO (L1) e Ridge (L2) para evitar overfitting.\n",
    "- Sparsity Awareness: XGBoost naturalmente admite missing values nas features e trata isso automaticamente. Basicamente ele aprende a como preencher os valores faltosos de forma a maximizar o resultado.\n",
    "- Weighted Quantile Sketch: O XGBoost aplica uma aproximação de quantis para descobrir os melhores threhsolds para as features.\n",
    "- Cross-validation: O algoritmo implementa internamente a validação cruzada."
   ]
  },
  {
   "cell_type": "markdown",
   "metadata": {},
   "source": [
    "BenchMark:"
   ]
  },
  {
   "cell_type": "markdown",
   "metadata": {},
   "source": [
    "<img src=\"https://miro.medium.com/max/1400/1*U72CpSTnJ-XTjCisJqCqLg.jpeg\" width=\"50%\">"
   ]
  },
  {
   "cell_type": "markdown",
   "metadata": {},
   "source": [
    "Conforme demonstrado no gráfico acima, o modelo XGBoost tem a melhor combinação de desempenho de previsão e tempo de processamento em comparação com outros algoritmos. Outros estudos de benchmarking rigorosos produziram resultados semelhantes. Não é à toa que o XGBoost é amplamente usado em competições recentes de Data Science.\n"
   ]
  },
  {
   "cell_type": "markdown",
   "metadata": {},
   "source": [
    "Mesmo com todas essas características e benefícios e melhorias, fica o questionamento: Sempre devemos utilizar o XGBoost?"
   ]
  },
  {
   "cell_type": "markdown",
   "metadata": {},
   "source": [
    "Quando se trata de Aprendizado de Máquina (ou mesmo de vida), não há almoço grátis. Como cientistas de dados, devemos testar todos os algoritmos possíveis para os dados disponíveis para identificar o algoritmo campeão. Além disso, escolher o algoritmo certo não é suficiente. Devemos também escolher a configuração correta do algoritmo para um conjunto de dados ajustando os hiperparâmetros. Além disso, existem várias outras considerações para escolher o algoritmo vencedor, como complexidade computacional, explicabilidade e facilidade de implementação. Este é exatamente o ponto onde o Machine Learning começa a se afastar da ciência para a arte. É alquimia algumas vezes."
   ]
  },
  {
   "cell_type": "markdown",
   "metadata": {},
   "source": [
    "## Implementação"
   ]
  },
  {
   "cell_type": "code",
   "execution_count": 1,
   "metadata": {},
   "outputs": [],
   "source": [
    "# import o subpacote load_boston pra importar os dados que iremos utilizar\n",
    "from sklearn.datasets import load_boston\n",
    "# carregue os dados\n",
    "boston = load_boston()"
   ]
  },
  {
   "cell_type": "code",
   "execution_count": 2,
   "metadata": {},
   "outputs": [
    {
     "data": {
      "text/plain": [
       "dict_keys(['data', 'target', 'feature_names', 'DESCR', 'filename'])"
      ]
     },
     "execution_count": 2,
     "metadata": {},
     "output_type": "execute_result"
    }
   ],
   "source": [
    "#essa estrutura é como um dicionário e possui chaves\n",
    "boston.keys()"
   ]
  },
  {
   "cell_type": "code",
   "execution_count": 3,
   "metadata": {},
   "outputs": [
    {
     "data": {
      "text/plain": [
       "(506, 13)"
      ]
     },
     "execution_count": 3,
     "metadata": {},
     "output_type": "execute_result"
    }
   ],
   "source": [
    "# vamos ver o shape\n",
    "boston['data'].shape"
   ]
  },
  {
   "cell_type": "code",
   "execution_count": 4,
   "metadata": {},
   "outputs": [
    {
     "data": {
      "text/plain": [
       "array(['CRIM', 'ZN', 'INDUS', 'CHAS', 'NOX', 'RM', 'AGE', 'DIS', 'RAD',\n",
       "       'TAX', 'PTRATIO', 'B', 'LSTAT'], dtype='<U7')"
      ]
     },
     "execution_count": 4,
     "metadata": {},
     "output_type": "execute_result"
    }
   ],
   "source": [
    "# vamos ver quais colunas temos à disposição\n",
    "boston['feature_names']"
   ]
  },
  {
   "cell_type": "code",
   "execution_count": 5,
   "metadata": {},
   "outputs": [
    {
     "name": "stdout",
     "output_type": "stream",
     "text": [
      ".. _boston_dataset:\n",
      "\n",
      "Boston house prices dataset\n",
      "---------------------------\n",
      "\n",
      "**Data Set Characteristics:**  \n",
      "\n",
      "    :Number of Instances: 506 \n",
      "\n",
      "    :Number of Attributes: 13 numeric/categorical predictive. Median Value (attribute 14) is usually the target.\n",
      "\n",
      "    :Attribute Information (in order):\n",
      "        - CRIM     per capita crime rate by town\n",
      "        - ZN       proportion of residential land zoned for lots over 25,000 sq.ft.\n",
      "        - INDUS    proportion of non-retail business acres per town\n",
      "        - CHAS     Charles River dummy variable (= 1 if tract bounds river; 0 otherwise)\n",
      "        - NOX      nitric oxides concentration (parts per 10 million)\n",
      "        - RM       average number of rooms per dwelling\n",
      "        - AGE      proportion of owner-occupied units built prior to 1940\n",
      "        - DIS      weighted distances to five Boston employment centres\n",
      "        - RAD      index of accessibility to radial highways\n",
      "        - TAX      full-value property-tax rate per $10,000\n",
      "        - PTRATIO  pupil-teacher ratio by town\n",
      "        - B        1000(Bk - 0.63)^2 where Bk is the proportion of blacks by town\n",
      "        - LSTAT    % lower status of the population\n",
      "        - MEDV     Median value of owner-occupied homes in $1000's\n",
      "\n",
      "    :Missing Attribute Values: None\n",
      "\n",
      "    :Creator: Harrison, D. and Rubinfeld, D.L.\n",
      "\n",
      "This is a copy of UCI ML housing dataset.\n",
      "https://archive.ics.uci.edu/ml/machine-learning-databases/housing/\n",
      "\n",
      "\n",
      "This dataset was taken from the StatLib library which is maintained at Carnegie Mellon University.\n",
      "\n",
      "The Boston house-price data of Harrison, D. and Rubinfeld, D.L. 'Hedonic\n",
      "prices and the demand for clean air', J. Environ. Economics & Management,\n",
      "vol.5, 81-102, 1978.   Used in Belsley, Kuh & Welsch, 'Regression diagnostics\n",
      "...', Wiley, 1980.   N.B. Various transformations are used in the table on\n",
      "pages 244-261 of the latter.\n",
      "\n",
      "The Boston house-price data has been used in many machine learning papers that address regression\n",
      "problems.   \n",
      "     \n",
      ".. topic:: References\n",
      "\n",
      "   - Belsley, Kuh & Welsch, 'Regression diagnostics: Identifying Influential Data and Sources of Collinearity', Wiley, 1980. 244-261.\n",
      "   - Quinlan,R. (1993). Combining Instance-Based and Model-Based Learning. In Proceedings on the Tenth International Conference of Machine Learning, 236-243, University of Massachusetts, Amherst. Morgan Kaufmann.\n",
      "\n"
     ]
    }
   ],
   "source": [
    "# também temos uma descrição dos dados\n",
    "print(boston['DESCR'])"
   ]
  },
  {
   "cell_type": "code",
   "execution_count": 6,
   "metadata": {},
   "outputs": [],
   "source": [
    "# import o pandas\n",
    "import pandas as pd\n",
    "# convertendo para dataframe\n",
    "df_boston = pd.DataFrame(boston['data'], columns=boston['feature_names'])"
   ]
  },
  {
   "cell_type": "code",
   "execution_count": 7,
   "metadata": {},
   "outputs": [
    {
     "data": {
      "text/html": [
       "<div>\n",
       "<style scoped>\n",
       "    .dataframe tbody tr th:only-of-type {\n",
       "        vertical-align: middle;\n",
       "    }\n",
       "\n",
       "    .dataframe tbody tr th {\n",
       "        vertical-align: top;\n",
       "    }\n",
       "\n",
       "    .dataframe thead th {\n",
       "        text-align: right;\n",
       "    }\n",
       "</style>\n",
       "<table border=\"1\" class=\"dataframe\">\n",
       "  <thead>\n",
       "    <tr style=\"text-align: right;\">\n",
       "      <th></th>\n",
       "      <th>CRIM</th>\n",
       "      <th>ZN</th>\n",
       "      <th>INDUS</th>\n",
       "      <th>CHAS</th>\n",
       "      <th>NOX</th>\n",
       "      <th>RM</th>\n",
       "      <th>AGE</th>\n",
       "      <th>DIS</th>\n",
       "      <th>RAD</th>\n",
       "      <th>TAX</th>\n",
       "      <th>PTRATIO</th>\n",
       "      <th>B</th>\n",
       "      <th>LSTAT</th>\n",
       "    </tr>\n",
       "  </thead>\n",
       "  <tbody>\n",
       "    <tr>\n",
       "      <th>0</th>\n",
       "      <td>0.00632</td>\n",
       "      <td>18.0</td>\n",
       "      <td>2.31</td>\n",
       "      <td>0.0</td>\n",
       "      <td>0.538</td>\n",
       "      <td>6.575</td>\n",
       "      <td>65.2</td>\n",
       "      <td>4.0900</td>\n",
       "      <td>1.0</td>\n",
       "      <td>296.0</td>\n",
       "      <td>15.3</td>\n",
       "      <td>396.90</td>\n",
       "      <td>4.98</td>\n",
       "    </tr>\n",
       "    <tr>\n",
       "      <th>1</th>\n",
       "      <td>0.02731</td>\n",
       "      <td>0.0</td>\n",
       "      <td>7.07</td>\n",
       "      <td>0.0</td>\n",
       "      <td>0.469</td>\n",
       "      <td>6.421</td>\n",
       "      <td>78.9</td>\n",
       "      <td>4.9671</td>\n",
       "      <td>2.0</td>\n",
       "      <td>242.0</td>\n",
       "      <td>17.8</td>\n",
       "      <td>396.90</td>\n",
       "      <td>9.14</td>\n",
       "    </tr>\n",
       "    <tr>\n",
       "      <th>2</th>\n",
       "      <td>0.02729</td>\n",
       "      <td>0.0</td>\n",
       "      <td>7.07</td>\n",
       "      <td>0.0</td>\n",
       "      <td>0.469</td>\n",
       "      <td>7.185</td>\n",
       "      <td>61.1</td>\n",
       "      <td>4.9671</td>\n",
       "      <td>2.0</td>\n",
       "      <td>242.0</td>\n",
       "      <td>17.8</td>\n",
       "      <td>392.83</td>\n",
       "      <td>4.03</td>\n",
       "    </tr>\n",
       "    <tr>\n",
       "      <th>3</th>\n",
       "      <td>0.03237</td>\n",
       "      <td>0.0</td>\n",
       "      <td>2.18</td>\n",
       "      <td>0.0</td>\n",
       "      <td>0.458</td>\n",
       "      <td>6.998</td>\n",
       "      <td>45.8</td>\n",
       "      <td>6.0622</td>\n",
       "      <td>3.0</td>\n",
       "      <td>222.0</td>\n",
       "      <td>18.7</td>\n",
       "      <td>394.63</td>\n",
       "      <td>2.94</td>\n",
       "    </tr>\n",
       "    <tr>\n",
       "      <th>4</th>\n",
       "      <td>0.06905</td>\n",
       "      <td>0.0</td>\n",
       "      <td>2.18</td>\n",
       "      <td>0.0</td>\n",
       "      <td>0.458</td>\n",
       "      <td>7.147</td>\n",
       "      <td>54.2</td>\n",
       "      <td>6.0622</td>\n",
       "      <td>3.0</td>\n",
       "      <td>222.0</td>\n",
       "      <td>18.7</td>\n",
       "      <td>396.90</td>\n",
       "      <td>5.33</td>\n",
       "    </tr>\n",
       "  </tbody>\n",
       "</table>\n",
       "</div>"
      ],
      "text/plain": [
       "      CRIM    ZN  INDUS  CHAS    NOX     RM   AGE     DIS  RAD    TAX  \\\n",
       "0  0.00632  18.0   2.31   0.0  0.538  6.575  65.2  4.0900  1.0  296.0   \n",
       "1  0.02731   0.0   7.07   0.0  0.469  6.421  78.9  4.9671  2.0  242.0   \n",
       "2  0.02729   0.0   7.07   0.0  0.469  7.185  61.1  4.9671  2.0  242.0   \n",
       "3  0.03237   0.0   2.18   0.0  0.458  6.998  45.8  6.0622  3.0  222.0   \n",
       "4  0.06905   0.0   2.18   0.0  0.458  7.147  54.2  6.0622  3.0  222.0   \n",
       "\n",
       "   PTRATIO       B  LSTAT  \n",
       "0     15.3  396.90   4.98  \n",
       "1     17.8  396.90   9.14  \n",
       "2     17.8  392.83   4.03  \n",
       "3     18.7  394.63   2.94  \n",
       "4     18.7  396.90   5.33  "
      ]
     },
     "execution_count": 7,
     "metadata": {},
     "output_type": "execute_result"
    }
   ],
   "source": [
    "df_boston.head()"
   ]
  },
  {
   "cell_type": "code",
   "execution_count": 8,
   "metadata": {},
   "outputs": [],
   "source": [
    "# traga a coluna target\n",
    "df_boston['target'] = boston['target']"
   ]
  },
  {
   "cell_type": "code",
   "execution_count": 9,
   "metadata": {},
   "outputs": [
    {
     "data": {
      "text/html": [
       "<div>\n",
       "<style scoped>\n",
       "    .dataframe tbody tr th:only-of-type {\n",
       "        vertical-align: middle;\n",
       "    }\n",
       "\n",
       "    .dataframe tbody tr th {\n",
       "        vertical-align: top;\n",
       "    }\n",
       "\n",
       "    .dataframe thead th {\n",
       "        text-align: right;\n",
       "    }\n",
       "</style>\n",
       "<table border=\"1\" class=\"dataframe\">\n",
       "  <thead>\n",
       "    <tr style=\"text-align: right;\">\n",
       "      <th></th>\n",
       "      <th>CRIM</th>\n",
       "      <th>ZN</th>\n",
       "      <th>INDUS</th>\n",
       "      <th>CHAS</th>\n",
       "      <th>NOX</th>\n",
       "      <th>RM</th>\n",
       "      <th>AGE</th>\n",
       "      <th>DIS</th>\n",
       "      <th>RAD</th>\n",
       "      <th>TAX</th>\n",
       "      <th>PTRATIO</th>\n",
       "      <th>B</th>\n",
       "      <th>LSTAT</th>\n",
       "      <th>target</th>\n",
       "    </tr>\n",
       "  </thead>\n",
       "  <tbody>\n",
       "    <tr>\n",
       "      <th>0</th>\n",
       "      <td>0.00632</td>\n",
       "      <td>18.0</td>\n",
       "      <td>2.31</td>\n",
       "      <td>0.0</td>\n",
       "      <td>0.538</td>\n",
       "      <td>6.575</td>\n",
       "      <td>65.2</td>\n",
       "      <td>4.0900</td>\n",
       "      <td>1.0</td>\n",
       "      <td>296.0</td>\n",
       "      <td>15.3</td>\n",
       "      <td>396.90</td>\n",
       "      <td>4.98</td>\n",
       "      <td>24.0</td>\n",
       "    </tr>\n",
       "    <tr>\n",
       "      <th>1</th>\n",
       "      <td>0.02731</td>\n",
       "      <td>0.0</td>\n",
       "      <td>7.07</td>\n",
       "      <td>0.0</td>\n",
       "      <td>0.469</td>\n",
       "      <td>6.421</td>\n",
       "      <td>78.9</td>\n",
       "      <td>4.9671</td>\n",
       "      <td>2.0</td>\n",
       "      <td>242.0</td>\n",
       "      <td>17.8</td>\n",
       "      <td>396.90</td>\n",
       "      <td>9.14</td>\n",
       "      <td>21.6</td>\n",
       "    </tr>\n",
       "    <tr>\n",
       "      <th>2</th>\n",
       "      <td>0.02729</td>\n",
       "      <td>0.0</td>\n",
       "      <td>7.07</td>\n",
       "      <td>0.0</td>\n",
       "      <td>0.469</td>\n",
       "      <td>7.185</td>\n",
       "      <td>61.1</td>\n",
       "      <td>4.9671</td>\n",
       "      <td>2.0</td>\n",
       "      <td>242.0</td>\n",
       "      <td>17.8</td>\n",
       "      <td>392.83</td>\n",
       "      <td>4.03</td>\n",
       "      <td>34.7</td>\n",
       "    </tr>\n",
       "    <tr>\n",
       "      <th>3</th>\n",
       "      <td>0.03237</td>\n",
       "      <td>0.0</td>\n",
       "      <td>2.18</td>\n",
       "      <td>0.0</td>\n",
       "      <td>0.458</td>\n",
       "      <td>6.998</td>\n",
       "      <td>45.8</td>\n",
       "      <td>6.0622</td>\n",
       "      <td>3.0</td>\n",
       "      <td>222.0</td>\n",
       "      <td>18.7</td>\n",
       "      <td>394.63</td>\n",
       "      <td>2.94</td>\n",
       "      <td>33.4</td>\n",
       "    </tr>\n",
       "    <tr>\n",
       "      <th>4</th>\n",
       "      <td>0.06905</td>\n",
       "      <td>0.0</td>\n",
       "      <td>2.18</td>\n",
       "      <td>0.0</td>\n",
       "      <td>0.458</td>\n",
       "      <td>7.147</td>\n",
       "      <td>54.2</td>\n",
       "      <td>6.0622</td>\n",
       "      <td>3.0</td>\n",
       "      <td>222.0</td>\n",
       "      <td>18.7</td>\n",
       "      <td>396.90</td>\n",
       "      <td>5.33</td>\n",
       "      <td>36.2</td>\n",
       "    </tr>\n",
       "  </tbody>\n",
       "</table>\n",
       "</div>"
      ],
      "text/plain": [
       "      CRIM    ZN  INDUS  CHAS    NOX     RM   AGE     DIS  RAD    TAX  \\\n",
       "0  0.00632  18.0   2.31   0.0  0.538  6.575  65.2  4.0900  1.0  296.0   \n",
       "1  0.02731   0.0   7.07   0.0  0.469  6.421  78.9  4.9671  2.0  242.0   \n",
       "2  0.02729   0.0   7.07   0.0  0.469  7.185  61.1  4.9671  2.0  242.0   \n",
       "3  0.03237   0.0   2.18   0.0  0.458  6.998  45.8  6.0622  3.0  222.0   \n",
       "4  0.06905   0.0   2.18   0.0  0.458  7.147  54.2  6.0622  3.0  222.0   \n",
       "\n",
       "   PTRATIO       B  LSTAT  target  \n",
       "0     15.3  396.90   4.98    24.0  \n",
       "1     17.8  396.90   9.14    21.6  \n",
       "2     17.8  392.83   4.03    34.7  \n",
       "3     18.7  394.63   2.94    33.4  \n",
       "4     18.7  396.90   5.33    36.2  "
      ]
     },
     "execution_count": 9,
     "metadata": {},
     "output_type": "execute_result"
    }
   ],
   "source": [
    "df_boston.head()"
   ]
  },
  {
   "cell_type": "markdown",
   "metadata": {},
   "source": [
    "Se você planeja usar o XGBoost em um conjunto de dados que possui recursos categóricos, pode considerar a aplicação de alguma codificação (como codificação one-hot) a tais recursos antes de treinar o modelo. Além disso, se houver alguns valores ausentes, como NA, no conjunto de dados, você pode ou não fazer um tratamento separado para eles, porque o XGBoost é capaz de lidar com os valores ausentes internamente. "
   ]
  },
  {
   "cell_type": "markdown",
   "metadata": {},
   "source": [
    "Sem se aprofundar em mais análises exploratórias e engenharia de recursos, agora você se concentrará na aplicação do algoritmo para treinar o modelo nesses dados.\n"
   ]
  },
  {
   "cell_type": "markdown",
   "metadata": {},
   "source": [
    "Você construirá o modelo usando Árvores como alunos básicos (que são os alunos básicos padrão) usando a API compatível com scikit-learn do XGBoost."
   ]
  },
  {
   "cell_type": "code",
   "execution_count": 10,
   "metadata": {},
   "outputs": [],
   "source": [
    "# import xgboost\n",
    "import xgboost as xgb\n",
    "# traga a métrica mean squared error\n",
    "from sklearn.metrics import mean_squared_error\n",
    "# import o numpy\n",
    "import numpy as np"
   ]
  },
  {
   "cell_type": "code",
   "execution_count": 11,
   "metadata": {},
   "outputs": [],
   "source": [
    "# separe X e y\n",
    "X, y = df_boston.drop('target', axis=1), df_boston['target']"
   ]
  },
  {
   "cell_type": "markdown",
   "metadata": {},
   "source": [
    "Hiperparâmetros:\n",
    "\n",
    "Vamos dividir os hiperparâmetros do XGBoost em algumas categorias:\n",
    "    \n",
    "   - Gerais\n",
    "   - Boosting\n",
    "   - Aprendizado\n",
    "   \n",
    "* Gerais:\n",
    "    - `booster`: \n",
    "        Esse parâmetro nos ajuda a escolher qual weak learner usar. Basicamente existem 3 opções: gbtree, gblinear e dart. \n",
    "    - `verbosity`: Controla o monitoramento da execução; 0 (silent), 1(warning), 3(debug)\n",
    "    - `nthread`: Indica o número de núcleos de processamento paralelo\n",
    "* Boosting:\n",
    "    Como o tree booster sempre performa melhor que o linear, vamos no ater aos hiperparâmetros desse booster.\n",
    "    - ```eta```[default=0.3]: Também conhecido como learning_rate. Valores típicos vão de 0.01 a 0.2, mas o range ´ [0,1]. É analogo ao learning_rate do GBM.\n",
    "    - ```gamma```[default=0]. Também conhecido como min_split_loss. Quanto maior, menos nós serão construídos. Range [0, inf]\n",
    "    - ```max_depth```[default=6]: É o mesmo que no GBM. Define a máxima profundidade das árvores.Valores típicos estão entre 3-10\n",
    "    - ```min_child_weight```[default=1]: É parecido com o min_child_leaf do GBM, mas é diferente. Aqui estamos somando os pesos das instâncias presentes em cada folha e não somente o número delas. Quanto maior for esse valor, mais conservador é o algoritmo em criar nós. Range [0, inf]\n",
    "   - ```subsample```[default=1]: Percentual de observações que serãos selecionadas para o treinamento de cada weak learner. Valores pequenos levam a underfitting. Range (0,1]. Valores típicos estão entre [0.5, 1].\n",
    "   - ```colsample_bytree, colsample_bylevel, colsample_bynode``` [default=1]: Esses hiperparâmetros possuem range de (0,1] e especificam a fração de colunas do dataset que será utilizada nos splits.\n",
    "       - colsample_bytree: É o subsample de colunas usadas ao construir uma árvore. Esse subsampling ocorrerá a cada árvore construída.\n",
    "       - colsample_bylevel: É o subsample usado em cada nível da árvore. A cada novo nível gerado, o subsampling é feito a partir das colunas iniciais.\n",
    "       - colsample_bynode: É a fração de colunas usadas em cada split de nó. \n",
    "       \n",
    "       Note que os parâmetros são cumulativos. Dessa forma, se escolhermos {'colsample_bytree':0.5, 'colsample_bylevel':0.5, 'colsample_bynode':0.5} em 80 features, o resultado é que das 100 features, apenas 10 serão usadas de fato em cada nó.\n",
    "       \n",
    "    - ```lambda``` [default=1]: Também chamado de reg_lambda. É a regularização L2.\n",
    "    - ```alpha``` [default=0]: Também chamado de reg_alpha. É o termo de regularização L1.\n",
    "    - ```tree_method```[default=auto]: É o algoritmo de construção utilizado. Pode ser approx, hist, gpu_hist, exact.\n",
    "    - ```scale_pos_weigth```[default=1]: É usado em caso de desbalanceamento de classe. Vai ajudar a convergir mais rápido também. Um valor típico para considerar é: n_negative/n_positive\n",
    "\n",
    "\n",
    "Para um aprofundamento: https://xgboost.readthedocs.io/en/latest/parameter.html#parameters-for-tree-booster\n",
    "\n",
    "* Aprendizado:\n",
    "    Esses referem-se, basicamente, as métricas de performance e a loss do treinamento.\n",
    "    - objective: Métrica que será usada para aprender\n",
    "    - eval_metric: Métrica' usada na validação\n",
    "    - seed: Número aleatório para garantir reprodutibilidade\n",
    "    \n",
    "    "
   ]
  },
  {
   "cell_type": "code",
   "execution_count": 12,
   "metadata": {},
   "outputs": [],
   "source": [
    "# import train_test_split \n",
    "from sklearn.model_selection import train_test_split"
   ]
  },
  {
   "cell_type": "code",
   "execution_count": 13,
   "metadata": {},
   "outputs": [],
   "source": [
    "# divida em X_train, X_test, y_train, y_test e defina test_size=0.2\n",
    "X_train, X_test, y_train, y_test = train_test_split(X, y, test_size=0.2, random_state=123)\n",
    "X_train.reset_index(drop=True, inplace=True)\n",
    "X_test.reset_index(drop=True, inplace=True)"
   ]
  },
  {
   "cell_type": "code",
   "execution_count": 14,
   "metadata": {},
   "outputs": [
    {
     "name": "stderr",
     "output_type": "stream",
     "text": [
      "/opt/anaconda3/lib/python3.8/site-packages/pandas/core/indexing.py:671: SettingWithCopyWarning: \n",
      "A value is trying to be set on a copy of a slice from a DataFrame\n",
      "\n",
      "See the caveats in the documentation: https://pandas.pydata.org/pandas-docs/stable/user_guide/indexing.html#returning-a-view-versus-a-copy\n",
      "  self._setitem_with_indexer(indexer, value)\n",
      "<ipython-input-14-bc214046dbf9>:1: SettingWithCopyWarning: \n",
      "A value is trying to be set on a copy of a slice from a DataFrame\n",
      "\n",
      "See the caveats in the documentation: https://pandas.pydata.org/pandas-docs/stable/user_guide/indexing.html#returning-a-view-versus-a-copy\n",
      "  X_train.loc[[0,1,2],['CHAS']] = np.nan\n",
      "<ipython-input-14-bc214046dbf9>:2: SettingWithCopyWarning: \n",
      "A value is trying to be set on a copy of a slice from a DataFrame\n",
      "\n",
      "See the caveats in the documentation: https://pandas.pydata.org/pandas-docs/stable/user_guide/indexing.html#returning-a-view-versus-a-copy\n",
      "  X_train.loc[[10,3,20, 30],['PTRATIO']] = np.nan\n"
     ]
    }
   ],
   "source": [
    "X_train.loc[[0,1,2],['CHAS']] = np.nan\n",
    "X_train.loc[[10,3,20, 30],['PTRATIO']] = np.nan\n"
   ]
  },
  {
   "cell_type": "code",
   "execution_count": 15,
   "metadata": {},
   "outputs": [
    {
     "name": "stderr",
     "output_type": "stream",
     "text": [
      "<ipython-input-15-1c1856437aa8>:1: SettingWithCopyWarning: \n",
      "A value is trying to be set on a copy of a slice from a DataFrame\n",
      "\n",
      "See the caveats in the documentation: https://pandas.pydata.org/pandas-docs/stable/user_guide/indexing.html#returning-a-view-versus-a-copy\n",
      "  X_test.loc[[10,76,100],['CHAS']] = np.nan\n",
      "<ipython-input-15-1c1856437aa8>:2: SettingWithCopyWarning: \n",
      "A value is trying to be set on a copy of a slice from a DataFrame\n",
      "\n",
      "See the caveats in the documentation: https://pandas.pydata.org/pandas-docs/stable/user_guide/indexing.html#returning-a-view-versus-a-copy\n",
      "  X_test.loc[[16,7,26, 40],['PTRATIO']] = np.nan\n"
     ]
    }
   ],
   "source": [
    "X_test.loc[[10,76,100],['CHAS']] = np.nan\n",
    "X_test.loc[[16,7,26, 40],['PTRATIO']] = np.nan"
   ]
  },
  {
   "cell_type": "code",
   "execution_count": 16,
   "metadata": {},
   "outputs": [],
   "source": [
    "# crie um objeto XGBoostRegressor\n",
    "xgb_regressor = xgb.XGBRegressor(seed=1)"
   ]
  },
  {
   "cell_type": "code",
   "execution_count": 17,
   "metadata": {},
   "outputs": [
    {
     "name": "stdout",
     "output_type": "stream",
     "text": [
      "Fitting 10 folds for each of 50 candidates, totalling 500 fits\n",
      "[CV] subsample=0.6, reg_lambda=1, reg_alpha=0, n_estimators=100, min_child_weight=5, max_depth=2, learning_rate=0.1, gamma=1.5, colsample_bytree=1.0 \n",
      "[CV]  subsample=0.6, reg_lambda=1, reg_alpha=0, n_estimators=100, min_child_weight=5, max_depth=2, learning_rate=0.1, gamma=1.5, colsample_bytree=1.0, score=-2.299, total=   0.1s\n",
      "[CV] subsample=0.6, reg_lambda=1, reg_alpha=0, n_estimators=100, min_child_weight=5, max_depth=2, learning_rate=0.1, gamma=1.5, colsample_bytree=1.0 \n",
      "[CV]  subsample=0.6, reg_lambda=1, reg_alpha=0, n_estimators=100, min_child_weight=5, max_depth=2, learning_rate=0.1, gamma=1.5, colsample_bytree=1.0, score=-2.890, total=   0.0s\n",
      "[CV] subsample=0.6, reg_lambda=1, reg_alpha=0, n_estimators=100, min_child_weight=5, max_depth=2, learning_rate=0.1, gamma=1.5, colsample_bytree=1.0 \n",
      "[CV]  subsample=0.6, reg_lambda=1, reg_alpha=0, n_estimators=100, min_child_weight=5, max_depth=2, learning_rate=0.1, gamma=1.5, colsample_bytree=1.0, score=-1.916, total=   0.0s\n",
      "[CV] subsample=0.6, reg_lambda=1, reg_alpha=0, n_estimators=100, min_child_weight=5, max_depth=2, learning_rate=0.1, gamma=1.5, colsample_bytree=1.0 \n",
      "[CV]  subsample=0.6, reg_lambda=1, reg_alpha=0, n_estimators=100, min_child_weight=5, max_depth=2, learning_rate=0.1, gamma=1.5, colsample_bytree=1.0, score=-2.233, total=   0.0s\n",
      "[CV] subsample=0.6, reg_lambda=1, reg_alpha=0, n_estimators=100, min_child_weight=5, max_depth=2, learning_rate=0.1, gamma=1.5, colsample_bytree=1.0 \n",
      "[CV]  subsample=0.6, reg_lambda=1, reg_alpha=0, n_estimators=100, min_child_weight=5, max_depth=2, learning_rate=0.1, gamma=1.5, colsample_bytree=1.0, score=-2.431, total=   0.0s\n",
      "[CV] subsample=0.6, reg_lambda=1, reg_alpha=0, n_estimators=100, min_child_weight=5, max_depth=2, learning_rate=0.1, gamma=1.5, colsample_bytree=1.0 \n",
      "[CV]  subsample=0.6, reg_lambda=1, reg_alpha=0, n_estimators=100, min_child_weight=5, max_depth=2, learning_rate=0.1, gamma=1.5, colsample_bytree=1.0, score=-2.338, total=   0.0s\n",
      "[CV] subsample=0.6, reg_lambda=1, reg_alpha=0, n_estimators=100, min_child_weight=5, max_depth=2, learning_rate=0.1, gamma=1.5, colsample_bytree=1.0 \n"
     ]
    },
    {
     "name": "stderr",
     "output_type": "stream",
     "text": [
      "[Parallel(n_jobs=1)]: Using backend SequentialBackend with 1 concurrent workers.\n",
      "[Parallel(n_jobs=1)]: Done   1 out of   1 | elapsed:    0.1s remaining:    0.0s\n",
      "[Parallel(n_jobs=1)]: Done   2 out of   2 | elapsed:    0.1s remaining:    0.0s\n"
     ]
    },
    {
     "name": "stdout",
     "output_type": "stream",
     "text": [
      "[CV]  subsample=0.6, reg_lambda=1, reg_alpha=0, n_estimators=100, min_child_weight=5, max_depth=2, learning_rate=0.1, gamma=1.5, colsample_bytree=1.0, score=-1.734, total=   0.1s\n",
      "[CV] subsample=0.6, reg_lambda=1, reg_alpha=0, n_estimators=100, min_child_weight=5, max_depth=2, learning_rate=0.1, gamma=1.5, colsample_bytree=1.0 \n",
      "[CV]  subsample=0.6, reg_lambda=1, reg_alpha=0, n_estimators=100, min_child_weight=5, max_depth=2, learning_rate=0.1, gamma=1.5, colsample_bytree=1.0, score=-2.504, total=   0.0s\n",
      "[CV] subsample=0.6, reg_lambda=1, reg_alpha=0, n_estimators=100, min_child_weight=5, max_depth=2, learning_rate=0.1, gamma=1.5, colsample_bytree=1.0 \n",
      "[CV]  subsample=0.6, reg_lambda=1, reg_alpha=0, n_estimators=100, min_child_weight=5, max_depth=2, learning_rate=0.1, gamma=1.5, colsample_bytree=1.0, score=-2.727, total=   0.0s\n",
      "[CV] subsample=0.6, reg_lambda=1, reg_alpha=0, n_estimators=100, min_child_weight=5, max_depth=2, learning_rate=0.1, gamma=1.5, colsample_bytree=1.0 \n",
      "[CV]  subsample=0.6, reg_lambda=1, reg_alpha=0, n_estimators=100, min_child_weight=5, max_depth=2, learning_rate=0.1, gamma=1.5, colsample_bytree=1.0, score=-2.235, total=   0.0s\n",
      "[CV] subsample=0.4, reg_lambda=4.5, reg_alpha=1, n_estimators=100, min_child_weight=1, max_depth=2, learning_rate=0.01, gamma=2, colsample_bytree=0.8 \n",
      "[CV]  subsample=0.4, reg_lambda=4.5, reg_alpha=1, n_estimators=100, min_child_weight=1, max_depth=2, learning_rate=0.01, gamma=2, colsample_bytree=0.8, score=-7.097, total=   0.0s\n",
      "[CV] subsample=0.4, reg_lambda=4.5, reg_alpha=1, n_estimators=100, min_child_weight=1, max_depth=2, learning_rate=0.01, gamma=2, colsample_bytree=0.8 \n",
      "[CV]  subsample=0.4, reg_lambda=4.5, reg_alpha=1, n_estimators=100, min_child_weight=1, max_depth=2, learning_rate=0.01, gamma=2, colsample_bytree=0.8, score=-10.972, total=   0.0s\n",
      "[CV] subsample=0.4, reg_lambda=4.5, reg_alpha=1, n_estimators=100, min_child_weight=1, max_depth=2, learning_rate=0.01, gamma=2, colsample_bytree=0.8 \n",
      "[CV]  subsample=0.4, reg_lambda=4.5, reg_alpha=1, n_estimators=100, min_child_weight=1, max_depth=2, learning_rate=0.01, gamma=2, colsample_bytree=0.8, score=-7.895, total=   0.0s\n",
      "[CV] subsample=0.4, reg_lambda=4.5, reg_alpha=1, n_estimators=100, min_child_weight=1, max_depth=2, learning_rate=0.01, gamma=2, colsample_bytree=0.8 \n",
      "[CV]  subsample=0.4, reg_lambda=4.5, reg_alpha=1, n_estimators=100, min_child_weight=1, max_depth=2, learning_rate=0.01, gamma=2, colsample_bytree=0.8, score=-8.240, total=   0.0s\n",
      "[CV] subsample=0.4, reg_lambda=4.5, reg_alpha=1, n_estimators=100, min_child_weight=1, max_depth=2, learning_rate=0.01, gamma=2, colsample_bytree=0.8 \n",
      "[CV]  subsample=0.4, reg_lambda=4.5, reg_alpha=1, n_estimators=100, min_child_weight=1, max_depth=2, learning_rate=0.01, gamma=2, colsample_bytree=0.8, score=-9.245, total=   0.0s\n",
      "[CV] subsample=0.4, reg_lambda=4.5, reg_alpha=1, n_estimators=100, min_child_weight=1, max_depth=2, learning_rate=0.01, gamma=2, colsample_bytree=0.8 \n",
      "[CV]  subsample=0.4, reg_lambda=4.5, reg_alpha=1, n_estimators=100, min_child_weight=1, max_depth=2, learning_rate=0.01, gamma=2, colsample_bytree=0.8, score=-9.543, total=   0.0s\n",
      "[CV] subsample=0.4, reg_lambda=4.5, reg_alpha=1, n_estimators=100, min_child_weight=1, max_depth=2, learning_rate=0.01, gamma=2, colsample_bytree=0.8 \n",
      "[CV]  subsample=0.4, reg_lambda=4.5, reg_alpha=1, n_estimators=100, min_child_weight=1, max_depth=2, learning_rate=0.01, gamma=2, colsample_bytree=0.8, score=-7.755, total=   0.0s\n",
      "[CV] subsample=0.4, reg_lambda=4.5, reg_alpha=1, n_estimators=100, min_child_weight=1, max_depth=2, learning_rate=0.01, gamma=2, colsample_bytree=0.8 \n",
      "[CV]  subsample=0.4, reg_lambda=4.5, reg_alpha=1, n_estimators=100, min_child_weight=1, max_depth=2, learning_rate=0.01, gamma=2, colsample_bytree=0.8, score=-9.399, total=   0.0s\n",
      "[CV] subsample=0.4, reg_lambda=4.5, reg_alpha=1, n_estimators=100, min_child_weight=1, max_depth=2, learning_rate=0.01, gamma=2, colsample_bytree=0.8 \n",
      "[CV]  subsample=0.4, reg_lambda=4.5, reg_alpha=1, n_estimators=100, min_child_weight=1, max_depth=2, learning_rate=0.01, gamma=2, colsample_bytree=0.8, score=-8.679, total=   0.0s\n",
      "[CV] subsample=0.4, reg_lambda=4.5, reg_alpha=1, n_estimators=100, min_child_weight=1, max_depth=2, learning_rate=0.01, gamma=2, colsample_bytree=0.8 \n",
      "[CV]  subsample=0.4, reg_lambda=4.5, reg_alpha=1, n_estimators=100, min_child_weight=1, max_depth=2, learning_rate=0.01, gamma=2, colsample_bytree=0.8, score=-9.415, total=   0.0s\n",
      "[CV] subsample=0.2, reg_lambda=4.5, reg_alpha=0.5, n_estimators=250, min_child_weight=1, max_depth=2, learning_rate=0.001, gamma=0.5, colsample_bytree=1.0 \n",
      "[CV]  subsample=0.2, reg_lambda=4.5, reg_alpha=0.5, n_estimators=250, min_child_weight=1, max_depth=2, learning_rate=0.001, gamma=0.5, colsample_bytree=1.0, score=-14.706, total=   0.0s\n",
      "[CV] subsample=0.2, reg_lambda=4.5, reg_alpha=0.5, n_estimators=250, min_child_weight=1, max_depth=2, learning_rate=0.001, gamma=0.5, colsample_bytree=1.0 \n",
      "[CV]  subsample=0.2, reg_lambda=4.5, reg_alpha=0.5, n_estimators=250, min_child_weight=1, max_depth=2, learning_rate=0.001, gamma=0.5, colsample_bytree=1.0, score=-20.508, total=   0.1s\n",
      "[CV] subsample=0.2, reg_lambda=4.5, reg_alpha=0.5, n_estimators=250, min_child_weight=1, max_depth=2, learning_rate=0.001, gamma=0.5, colsample_bytree=1.0 \n",
      "[CV]  subsample=0.2, reg_lambda=4.5, reg_alpha=0.5, n_estimators=250, min_child_weight=1, max_depth=2, learning_rate=0.001, gamma=0.5, colsample_bytree=1.0, score=-16.760, total=   0.0s\n",
      "[CV] subsample=0.2, reg_lambda=4.5, reg_alpha=0.5, n_estimators=250, min_child_weight=1, max_depth=2, learning_rate=0.001, gamma=0.5, colsample_bytree=1.0 \n",
      "[CV]  subsample=0.2, reg_lambda=4.5, reg_alpha=0.5, n_estimators=250, min_child_weight=1, max_depth=2, learning_rate=0.001, gamma=0.5, colsample_bytree=1.0, score=-16.522, total=   0.0s\n",
      "[CV] subsample=0.2, reg_lambda=4.5, reg_alpha=0.5, n_estimators=250, min_child_weight=1, max_depth=2, learning_rate=0.001, gamma=0.5, colsample_bytree=1.0 \n",
      "[CV]  subsample=0.2, reg_lambda=4.5, reg_alpha=0.5, n_estimators=250, min_child_weight=1, max_depth=2, learning_rate=0.001, gamma=0.5, colsample_bytree=1.0, score=-17.635, total=   0.0s\n",
      "[CV] subsample=0.2, reg_lambda=4.5, reg_alpha=0.5, n_estimators=250, min_child_weight=1, max_depth=2, learning_rate=0.001, gamma=0.5, colsample_bytree=1.0 \n",
      "[CV]  subsample=0.2, reg_lambda=4.5, reg_alpha=0.5, n_estimators=250, min_child_weight=1, max_depth=2, learning_rate=0.001, gamma=0.5, colsample_bytree=1.0, score=-18.089, total=   0.0s\n",
      "[CV] subsample=0.2, reg_lambda=4.5, reg_alpha=0.5, n_estimators=250, min_child_weight=1, max_depth=2, learning_rate=0.001, gamma=0.5, colsample_bytree=1.0 \n",
      "[CV]  subsample=0.2, reg_lambda=4.5, reg_alpha=0.5, n_estimators=250, min_child_weight=1, max_depth=2, learning_rate=0.001, gamma=0.5, colsample_bytree=1.0, score=-16.988, total=   0.1s\n",
      "[CV] subsample=0.2, reg_lambda=4.5, reg_alpha=0.5, n_estimators=250, min_child_weight=1, max_depth=2, learning_rate=0.001, gamma=0.5, colsample_bytree=1.0 \n",
      "[CV]  subsample=0.2, reg_lambda=4.5, reg_alpha=0.5, n_estimators=250, min_child_weight=1, max_depth=2, learning_rate=0.001, gamma=0.5, colsample_bytree=1.0, score=-18.477, total=   0.1s\n",
      "[CV] subsample=0.2, reg_lambda=4.5, reg_alpha=0.5, n_estimators=250, min_child_weight=1, max_depth=2, learning_rate=0.001, gamma=0.5, colsample_bytree=1.0 \n",
      "[CV]  subsample=0.2, reg_lambda=4.5, reg_alpha=0.5, n_estimators=250, min_child_weight=1, max_depth=2, learning_rate=0.001, gamma=0.5, colsample_bytree=1.0, score=-17.038, total=   0.1s\n",
      "[CV] subsample=0.2, reg_lambda=4.5, reg_alpha=0.5, n_estimators=250, min_child_weight=1, max_depth=2, learning_rate=0.001, gamma=0.5, colsample_bytree=1.0 \n",
      "[CV]  subsample=0.2, reg_lambda=4.5, reg_alpha=0.5, n_estimators=250, min_child_weight=1, max_depth=2, learning_rate=0.001, gamma=0.5, colsample_bytree=1.0, score=-18.225, total=   0.0s\n",
      "[CV] subsample=0.7, reg_lambda=1, reg_alpha=0, n_estimators=100, min_child_weight=7, max_depth=4, learning_rate=0.1, gamma=0.1, colsample_bytree=1.0 \n",
      "[CV]  subsample=0.7, reg_lambda=1, reg_alpha=0, n_estimators=100, min_child_weight=7, max_depth=4, learning_rate=0.1, gamma=0.1, colsample_bytree=1.0, score=-1.935, total=   0.0s\n",
      "[CV] subsample=0.7, reg_lambda=1, reg_alpha=0, n_estimators=100, min_child_weight=7, max_depth=4, learning_rate=0.1, gamma=0.1, colsample_bytree=1.0 \n"
     ]
    },
    {
     "name": "stdout",
     "output_type": "stream",
     "text": [
      "[CV]  subsample=0.7, reg_lambda=1, reg_alpha=0, n_estimators=100, min_child_weight=7, max_depth=4, learning_rate=0.1, gamma=0.1, colsample_bytree=1.0, score=-2.540, total=   0.1s\n",
      "[CV] subsample=0.7, reg_lambda=1, reg_alpha=0, n_estimators=100, min_child_weight=7, max_depth=4, learning_rate=0.1, gamma=0.1, colsample_bytree=1.0 \n",
      "[CV]  subsample=0.7, reg_lambda=1, reg_alpha=0, n_estimators=100, min_child_weight=7, max_depth=4, learning_rate=0.1, gamma=0.1, colsample_bytree=1.0, score=-1.696, total=   0.0s\n",
      "[CV] subsample=0.7, reg_lambda=1, reg_alpha=0, n_estimators=100, min_child_weight=7, max_depth=4, learning_rate=0.1, gamma=0.1, colsample_bytree=1.0 \n",
      "[CV]  subsample=0.7, reg_lambda=1, reg_alpha=0, n_estimators=100, min_child_weight=7, max_depth=4, learning_rate=0.1, gamma=0.1, colsample_bytree=1.0, score=-2.044, total=   0.0s\n",
      "[CV] subsample=0.7, reg_lambda=1, reg_alpha=0, n_estimators=100, min_child_weight=7, max_depth=4, learning_rate=0.1, gamma=0.1, colsample_bytree=1.0 \n",
      "[CV]  subsample=0.7, reg_lambda=1, reg_alpha=0, n_estimators=100, min_child_weight=7, max_depth=4, learning_rate=0.1, gamma=0.1, colsample_bytree=1.0, score=-2.303, total=   0.0s\n",
      "[CV] subsample=0.7, reg_lambda=1, reg_alpha=0, n_estimators=100, min_child_weight=7, max_depth=4, learning_rate=0.1, gamma=0.1, colsample_bytree=1.0 \n",
      "[CV]  subsample=0.7, reg_lambda=1, reg_alpha=0, n_estimators=100, min_child_weight=7, max_depth=4, learning_rate=0.1, gamma=0.1, colsample_bytree=1.0, score=-2.218, total=   0.1s\n",
      "[CV] subsample=0.7, reg_lambda=1, reg_alpha=0, n_estimators=100, min_child_weight=7, max_depth=4, learning_rate=0.1, gamma=0.1, colsample_bytree=1.0 \n",
      "[CV]  subsample=0.7, reg_lambda=1, reg_alpha=0, n_estimators=100, min_child_weight=7, max_depth=4, learning_rate=0.1, gamma=0.1, colsample_bytree=1.0, score=-1.708, total=   0.0s\n",
      "[CV] subsample=0.7, reg_lambda=1, reg_alpha=0, n_estimators=100, min_child_weight=7, max_depth=4, learning_rate=0.1, gamma=0.1, colsample_bytree=1.0 \n",
      "[CV]  subsample=0.7, reg_lambda=1, reg_alpha=0, n_estimators=100, min_child_weight=7, max_depth=4, learning_rate=0.1, gamma=0.1, colsample_bytree=1.0, score=-2.156, total=   0.0s\n",
      "[CV] subsample=0.7, reg_lambda=1, reg_alpha=0, n_estimators=100, min_child_weight=7, max_depth=4, learning_rate=0.1, gamma=0.1, colsample_bytree=1.0 \n",
      "[CV]  subsample=0.7, reg_lambda=1, reg_alpha=0, n_estimators=100, min_child_weight=7, max_depth=4, learning_rate=0.1, gamma=0.1, colsample_bytree=1.0, score=-2.684, total=   0.0s\n",
      "[CV] subsample=0.7, reg_lambda=1, reg_alpha=0, n_estimators=100, min_child_weight=7, max_depth=4, learning_rate=0.1, gamma=0.1, colsample_bytree=1.0 \n",
      "[CV]  subsample=0.7, reg_lambda=1, reg_alpha=0, n_estimators=100, min_child_weight=7, max_depth=4, learning_rate=0.1, gamma=0.1, colsample_bytree=1.0, score=-1.896, total=   0.0s\n",
      "[CV] subsample=0.5, reg_lambda=4.5, reg_alpha=1, n_estimators=500, min_child_weight=7, max_depth=10, learning_rate=0.001, gamma=0.01, colsample_bytree=1.0 \n",
      "[CV]  subsample=0.5, reg_lambda=4.5, reg_alpha=1, n_estimators=500, min_child_weight=7, max_depth=10, learning_rate=0.001, gamma=0.01, colsample_bytree=1.0, score=-11.542, total=   0.1s\n",
      "[CV] subsample=0.5, reg_lambda=4.5, reg_alpha=1, n_estimators=500, min_child_weight=7, max_depth=10, learning_rate=0.001, gamma=0.01, colsample_bytree=1.0 \n",
      "[CV]  subsample=0.5, reg_lambda=4.5, reg_alpha=1, n_estimators=500, min_child_weight=7, max_depth=10, learning_rate=0.001, gamma=0.01, colsample_bytree=1.0, score=-16.299, total=   0.1s\n",
      "[CV] subsample=0.5, reg_lambda=4.5, reg_alpha=1, n_estimators=500, min_child_weight=7, max_depth=10, learning_rate=0.001, gamma=0.01, colsample_bytree=1.0 \n",
      "[CV]  subsample=0.5, reg_lambda=4.5, reg_alpha=1, n_estimators=500, min_child_weight=7, max_depth=10, learning_rate=0.001, gamma=0.01, colsample_bytree=1.0, score=-13.005, total=   0.1s\n",
      "[CV] subsample=0.5, reg_lambda=4.5, reg_alpha=1, n_estimators=500, min_child_weight=7, max_depth=10, learning_rate=0.001, gamma=0.01, colsample_bytree=1.0 \n",
      "[CV]  subsample=0.5, reg_lambda=4.5, reg_alpha=1, n_estimators=500, min_child_weight=7, max_depth=10, learning_rate=0.001, gamma=0.01, colsample_bytree=1.0, score=-12.913, total=   0.1s\n",
      "[CV] subsample=0.5, reg_lambda=4.5, reg_alpha=1, n_estimators=500, min_child_weight=7, max_depth=10, learning_rate=0.001, gamma=0.01, colsample_bytree=1.0 \n",
      "[CV]  subsample=0.5, reg_lambda=4.5, reg_alpha=1, n_estimators=500, min_child_weight=7, max_depth=10, learning_rate=0.001, gamma=0.01, colsample_bytree=1.0, score=-14.063, total=   0.1s\n",
      "[CV] subsample=0.5, reg_lambda=4.5, reg_alpha=1, n_estimators=500, min_child_weight=7, max_depth=10, learning_rate=0.001, gamma=0.01, colsample_bytree=1.0 \n",
      "[CV]  subsample=0.5, reg_lambda=4.5, reg_alpha=1, n_estimators=500, min_child_weight=7, max_depth=10, learning_rate=0.001, gamma=0.01, colsample_bytree=1.0, score=-14.303, total=   0.1s\n",
      "[CV] subsample=0.5, reg_lambda=4.5, reg_alpha=1, n_estimators=500, min_child_weight=7, max_depth=10, learning_rate=0.001, gamma=0.01, colsample_bytree=1.0 \n",
      "[CV]  subsample=0.5, reg_lambda=4.5, reg_alpha=1, n_estimators=500, min_child_weight=7, max_depth=10, learning_rate=0.001, gamma=0.01, colsample_bytree=1.0, score=-12.998, total=   0.2s\n",
      "[CV] subsample=0.5, reg_lambda=4.5, reg_alpha=1, n_estimators=500, min_child_weight=7, max_depth=10, learning_rate=0.001, gamma=0.01, colsample_bytree=1.0 \n",
      "[CV]  subsample=0.5, reg_lambda=4.5, reg_alpha=1, n_estimators=500, min_child_weight=7, max_depth=10, learning_rate=0.001, gamma=0.01, colsample_bytree=1.0, score=-14.568, total=   0.1s\n",
      "[CV] subsample=0.5, reg_lambda=4.5, reg_alpha=1, n_estimators=500, min_child_weight=7, max_depth=10, learning_rate=0.001, gamma=0.01, colsample_bytree=1.0 \n",
      "[CV]  subsample=0.5, reg_lambda=4.5, reg_alpha=1, n_estimators=500, min_child_weight=7, max_depth=10, learning_rate=0.001, gamma=0.01, colsample_bytree=1.0, score=-13.342, total=   0.2s\n",
      "[CV] subsample=0.5, reg_lambda=4.5, reg_alpha=1, n_estimators=500, min_child_weight=7, max_depth=10, learning_rate=0.001, gamma=0.01, colsample_bytree=1.0 \n",
      "[CV]  subsample=0.5, reg_lambda=4.5, reg_alpha=1, n_estimators=500, min_child_weight=7, max_depth=10, learning_rate=0.001, gamma=0.01, colsample_bytree=1.0, score=-14.430, total=   0.1s\n",
      "[CV] subsample=0.7, reg_lambda=3, reg_alpha=1, n_estimators=100, min_child_weight=3, max_depth=10, learning_rate=0.001, gamma=0.01, colsample_bytree=0.6 \n",
      "[CV]  subsample=0.7, reg_lambda=3, reg_alpha=1, n_estimators=100, min_child_weight=3, max_depth=10, learning_rate=0.001, gamma=0.01, colsample_bytree=0.6, score=-17.011, total=   0.0s\n",
      "[CV] subsample=0.7, reg_lambda=3, reg_alpha=1, n_estimators=100, min_child_weight=3, max_depth=10, learning_rate=0.001, gamma=0.01, colsample_bytree=0.6 \n",
      "[CV]  subsample=0.7, reg_lambda=3, reg_alpha=1, n_estimators=100, min_child_weight=3, max_depth=10, learning_rate=0.001, gamma=0.01, colsample_bytree=0.6, score=-22.883, total=   0.0s\n",
      "[CV] subsample=0.7, reg_lambda=3, reg_alpha=1, n_estimators=100, min_child_weight=3, max_depth=10, learning_rate=0.001, gamma=0.01, colsample_bytree=0.6 \n",
      "[CV]  subsample=0.7, reg_lambda=3, reg_alpha=1, n_estimators=100, min_child_weight=3, max_depth=10, learning_rate=0.001, gamma=0.01, colsample_bytree=0.6, score=-19.252, total=   0.0s\n",
      "[CV] subsample=0.7, reg_lambda=3, reg_alpha=1, n_estimators=100, min_child_weight=3, max_depth=10, learning_rate=0.001, gamma=0.01, colsample_bytree=0.6 \n",
      "[CV]  subsample=0.7, reg_lambda=3, reg_alpha=1, n_estimators=100, min_child_weight=3, max_depth=10, learning_rate=0.001, gamma=0.01, colsample_bytree=0.6, score=-18.730, total=   0.0s\n",
      "[CV] subsample=0.7, reg_lambda=3, reg_alpha=1, n_estimators=100, min_child_weight=3, max_depth=10, learning_rate=0.001, gamma=0.01, colsample_bytree=0.6 \n",
      "[CV]  subsample=0.7, reg_lambda=3, reg_alpha=1, n_estimators=100, min_child_weight=3, max_depth=10, learning_rate=0.001, gamma=0.01, colsample_bytree=0.6, score=-19.878, total=   0.0s\n",
      "[CV] subsample=0.7, reg_lambda=3, reg_alpha=1, n_estimators=100, min_child_weight=3, max_depth=10, learning_rate=0.001, gamma=0.01, colsample_bytree=0.6 \n",
      "[CV]  subsample=0.7, reg_lambda=3, reg_alpha=1, n_estimators=100, min_child_weight=3, max_depth=10, learning_rate=0.001, gamma=0.01, colsample_bytree=0.6, score=-20.480, total=   0.0s\n",
      "[CV] subsample=0.7, reg_lambda=3, reg_alpha=1, n_estimators=100, min_child_weight=3, max_depth=10, learning_rate=0.001, gamma=0.01, colsample_bytree=0.6 \n",
      "[CV]  subsample=0.7, reg_lambda=3, reg_alpha=1, n_estimators=100, min_child_weight=3, max_depth=10, learning_rate=0.001, gamma=0.01, colsample_bytree=0.6, score=-19.602, total=   0.0s\n",
      "[CV] subsample=0.7, reg_lambda=3, reg_alpha=1, n_estimators=100, min_child_weight=3, max_depth=10, learning_rate=0.001, gamma=0.01, colsample_bytree=0.6 \n",
      "[CV]  subsample=0.7, reg_lambda=3, reg_alpha=1, n_estimators=100, min_child_weight=3, max_depth=10, learning_rate=0.001, gamma=0.01, colsample_bytree=0.6, score=-20.932, total=   0.0s\n",
      "[CV] subsample=0.7, reg_lambda=3, reg_alpha=1, n_estimators=100, min_child_weight=3, max_depth=10, learning_rate=0.001, gamma=0.01, colsample_bytree=0.6 \n",
      "[CV]  subsample=0.7, reg_lambda=3, reg_alpha=1, n_estimators=100, min_child_weight=3, max_depth=10, learning_rate=0.001, gamma=0.01, colsample_bytree=0.6, score=-19.473, total=   0.0s\n",
      "[CV] subsample=0.7, reg_lambda=3, reg_alpha=1, n_estimators=100, min_child_weight=3, max_depth=10, learning_rate=0.001, gamma=0.01, colsample_bytree=0.6 \n"
     ]
    },
    {
     "name": "stdout",
     "output_type": "stream",
     "text": [
      "[CV]  subsample=0.7, reg_lambda=3, reg_alpha=1, n_estimators=100, min_child_weight=3, max_depth=10, learning_rate=0.001, gamma=0.01, colsample_bytree=0.6, score=-20.545, total=   0.0s\n",
      "[CV] subsample=0.7, reg_lambda=1, reg_alpha=0.5, n_estimators=250, min_child_weight=7, max_depth=7, learning_rate=0.001, gamma=0.3, colsample_bytree=0.6 \n",
      "[CV]  subsample=0.7, reg_lambda=1, reg_alpha=0.5, n_estimators=250, min_child_weight=7, max_depth=7, learning_rate=0.001, gamma=0.3, colsample_bytree=0.6, score=-14.558, total=   0.1s\n",
      "[CV] subsample=0.7, reg_lambda=1, reg_alpha=0.5, n_estimators=250, min_child_weight=7, max_depth=7, learning_rate=0.001, gamma=0.3, colsample_bytree=0.6 \n",
      "[CV]  subsample=0.7, reg_lambda=1, reg_alpha=0.5, n_estimators=250, min_child_weight=7, max_depth=7, learning_rate=0.001, gamma=0.3, colsample_bytree=0.6, score=-19.888, total=   0.2s\n",
      "[CV] subsample=0.7, reg_lambda=1, reg_alpha=0.5, n_estimators=250, min_child_weight=7, max_depth=7, learning_rate=0.001, gamma=0.3, colsample_bytree=0.6 \n",
      "[CV]  subsample=0.7, reg_lambda=1, reg_alpha=0.5, n_estimators=250, min_child_weight=7, max_depth=7, learning_rate=0.001, gamma=0.3, colsample_bytree=0.6, score=-16.584, total=   0.1s\n",
      "[CV] subsample=0.7, reg_lambda=1, reg_alpha=0.5, n_estimators=250, min_child_weight=7, max_depth=7, learning_rate=0.001, gamma=0.3, colsample_bytree=0.6 \n",
      "[CV]  subsample=0.7, reg_lambda=1, reg_alpha=0.5, n_estimators=250, min_child_weight=7, max_depth=7, learning_rate=0.001, gamma=0.3, colsample_bytree=0.6, score=-16.131, total=   0.1s\n",
      "[CV] subsample=0.7, reg_lambda=1, reg_alpha=0.5, n_estimators=250, min_child_weight=7, max_depth=7, learning_rate=0.001, gamma=0.3, colsample_bytree=0.6 \n",
      "[CV]  subsample=0.7, reg_lambda=1, reg_alpha=0.5, n_estimators=250, min_child_weight=7, max_depth=7, learning_rate=0.001, gamma=0.3, colsample_bytree=0.6, score=-17.240, total=   0.1s\n",
      "[CV] subsample=0.7, reg_lambda=1, reg_alpha=0.5, n_estimators=250, min_child_weight=7, max_depth=7, learning_rate=0.001, gamma=0.3, colsample_bytree=0.6 \n",
      "[CV]  subsample=0.7, reg_lambda=1, reg_alpha=0.5, n_estimators=250, min_child_weight=7, max_depth=7, learning_rate=0.001, gamma=0.3, colsample_bytree=0.6, score=-17.702, total=   0.1s\n",
      "[CV] subsample=0.7, reg_lambda=1, reg_alpha=0.5, n_estimators=250, min_child_weight=7, max_depth=7, learning_rate=0.001, gamma=0.3, colsample_bytree=0.6 \n",
      "[CV]  subsample=0.7, reg_lambda=1, reg_alpha=0.5, n_estimators=250, min_child_weight=7, max_depth=7, learning_rate=0.001, gamma=0.3, colsample_bytree=0.6, score=-16.792, total=   0.1s\n",
      "[CV] subsample=0.7, reg_lambda=1, reg_alpha=0.5, n_estimators=250, min_child_weight=7, max_depth=7, learning_rate=0.001, gamma=0.3, colsample_bytree=0.6 \n",
      "[CV]  subsample=0.7, reg_lambda=1, reg_alpha=0.5, n_estimators=250, min_child_weight=7, max_depth=7, learning_rate=0.001, gamma=0.3, colsample_bytree=0.6, score=-18.067, total=   0.1s\n",
      "[CV] subsample=0.7, reg_lambda=1, reg_alpha=0.5, n_estimators=250, min_child_weight=7, max_depth=7, learning_rate=0.001, gamma=0.3, colsample_bytree=0.6 \n",
      "[CV]  subsample=0.7, reg_lambda=1, reg_alpha=0.5, n_estimators=250, min_child_weight=7, max_depth=7, learning_rate=0.001, gamma=0.3, colsample_bytree=0.6, score=-16.843, total=   0.1s\n",
      "[CV] subsample=0.7, reg_lambda=1, reg_alpha=0.5, n_estimators=250, min_child_weight=7, max_depth=7, learning_rate=0.001, gamma=0.3, colsample_bytree=0.6 \n",
      "[CV]  subsample=0.7, reg_lambda=1, reg_alpha=0.5, n_estimators=250, min_child_weight=7, max_depth=7, learning_rate=0.001, gamma=0.3, colsample_bytree=0.6, score=-17.721, total=   0.1s\n",
      "[CV] subsample=0.4, reg_lambda=1.5, reg_alpha=0, n_estimators=1000, min_child_weight=1, max_depth=7, learning_rate=0.01, gamma=0.3, colsample_bytree=0.6 \n",
      "[CV]  subsample=0.4, reg_lambda=1.5, reg_alpha=0, n_estimators=1000, min_child_weight=1, max_depth=7, learning_rate=0.01, gamma=0.3, colsample_bytree=0.6, score=-2.113, total=   0.6s\n",
      "[CV] subsample=0.4, reg_lambda=1.5, reg_alpha=0, n_estimators=1000, min_child_weight=1, max_depth=7, learning_rate=0.01, gamma=0.3, colsample_bytree=0.6 \n",
      "[CV]  subsample=0.4, reg_lambda=1.5, reg_alpha=0, n_estimators=1000, min_child_weight=1, max_depth=7, learning_rate=0.01, gamma=0.3, colsample_bytree=0.6, score=-2.476, total=   0.7s\n",
      "[CV] subsample=0.4, reg_lambda=1.5, reg_alpha=0, n_estimators=1000, min_child_weight=1, max_depth=7, learning_rate=0.01, gamma=0.3, colsample_bytree=0.6 \n",
      "[CV]  subsample=0.4, reg_lambda=1.5, reg_alpha=0, n_estimators=1000, min_child_weight=1, max_depth=7, learning_rate=0.01, gamma=0.3, colsample_bytree=0.6, score=-1.410, total=   0.6s\n",
      "[CV] subsample=0.4, reg_lambda=1.5, reg_alpha=0, n_estimators=1000, min_child_weight=1, max_depth=7, learning_rate=0.01, gamma=0.3, colsample_bytree=0.6 \n",
      "[CV]  subsample=0.4, reg_lambda=1.5, reg_alpha=0, n_estimators=1000, min_child_weight=1, max_depth=7, learning_rate=0.01, gamma=0.3, colsample_bytree=0.6, score=-1.819, total=   0.6s\n",
      "[CV] subsample=0.4, reg_lambda=1.5, reg_alpha=0, n_estimators=1000, min_child_weight=1, max_depth=7, learning_rate=0.01, gamma=0.3, colsample_bytree=0.6 \n",
      "[CV]  subsample=0.4, reg_lambda=1.5, reg_alpha=0, n_estimators=1000, min_child_weight=1, max_depth=7, learning_rate=0.01, gamma=0.3, colsample_bytree=0.6, score=-2.344, total=   0.6s\n",
      "[CV] subsample=0.4, reg_lambda=1.5, reg_alpha=0, n_estimators=1000, min_child_weight=1, max_depth=7, learning_rate=0.01, gamma=0.3, colsample_bytree=0.6 \n",
      "[CV]  subsample=0.4, reg_lambda=1.5, reg_alpha=0, n_estimators=1000, min_child_weight=1, max_depth=7, learning_rate=0.01, gamma=0.3, colsample_bytree=0.6, score=-2.299, total=   0.6s\n",
      "[CV] subsample=0.4, reg_lambda=1.5, reg_alpha=0, n_estimators=1000, min_child_weight=1, max_depth=7, learning_rate=0.01, gamma=0.3, colsample_bytree=0.6 \n",
      "[CV]  subsample=0.4, reg_lambda=1.5, reg_alpha=0, n_estimators=1000, min_child_weight=1, max_depth=7, learning_rate=0.01, gamma=0.3, colsample_bytree=0.6, score=-1.416, total=   0.7s\n",
      "[CV] subsample=0.4, reg_lambda=1.5, reg_alpha=0, n_estimators=1000, min_child_weight=1, max_depth=7, learning_rate=0.01, gamma=0.3, colsample_bytree=0.6 \n",
      "[CV]  subsample=0.4, reg_lambda=1.5, reg_alpha=0, n_estimators=1000, min_child_weight=1, max_depth=7, learning_rate=0.01, gamma=0.3, colsample_bytree=0.6, score=-2.717, total=   0.6s\n",
      "[CV] subsample=0.4, reg_lambda=1.5, reg_alpha=0, n_estimators=1000, min_child_weight=1, max_depth=7, learning_rate=0.01, gamma=0.3, colsample_bytree=0.6 \n",
      "[CV]  subsample=0.4, reg_lambda=1.5, reg_alpha=0, n_estimators=1000, min_child_weight=1, max_depth=7, learning_rate=0.01, gamma=0.3, colsample_bytree=0.6, score=-2.585, total=   0.7s\n",
      "[CV] subsample=0.4, reg_lambda=1.5, reg_alpha=0, n_estimators=1000, min_child_weight=1, max_depth=7, learning_rate=0.01, gamma=0.3, colsample_bytree=0.6 \n",
      "[CV]  subsample=0.4, reg_lambda=1.5, reg_alpha=0, n_estimators=1000, min_child_weight=1, max_depth=7, learning_rate=0.01, gamma=0.3, colsample_bytree=0.6, score=-1.951, total=   0.7s\n",
      "[CV] subsample=0.7, reg_lambda=3, reg_alpha=0, n_estimators=250, min_child_weight=7, max_depth=10, learning_rate=0.01, gamma=0.3, colsample_bytree=1.0 \n",
      "[CV]  subsample=0.7, reg_lambda=3, reg_alpha=0, n_estimators=250, min_child_weight=7, max_depth=10, learning_rate=0.01, gamma=0.3, colsample_bytree=1.0, score=-2.563, total=   0.3s\n",
      "[CV] subsample=0.7, reg_lambda=3, reg_alpha=0, n_estimators=250, min_child_weight=7, max_depth=10, learning_rate=0.01, gamma=0.3, colsample_bytree=1.0 \n",
      "[CV]  subsample=0.7, reg_lambda=3, reg_alpha=0, n_estimators=250, min_child_weight=7, max_depth=10, learning_rate=0.01, gamma=0.3, colsample_bytree=1.0, score=-3.904, total=   0.2s\n",
      "[CV] subsample=0.7, reg_lambda=3, reg_alpha=0, n_estimators=250, min_child_weight=7, max_depth=10, learning_rate=0.01, gamma=0.3, colsample_bytree=1.0 \n",
      "[CV]  subsample=0.7, reg_lambda=3, reg_alpha=0, n_estimators=250, min_child_weight=7, max_depth=10, learning_rate=0.01, gamma=0.3, colsample_bytree=1.0, score=-2.360, total=   0.2s\n",
      "[CV] subsample=0.7, reg_lambda=3, reg_alpha=0, n_estimators=250, min_child_weight=7, max_depth=10, learning_rate=0.01, gamma=0.3, colsample_bytree=1.0 \n",
      "[CV]  subsample=0.7, reg_lambda=3, reg_alpha=0, n_estimators=250, min_child_weight=7, max_depth=10, learning_rate=0.01, gamma=0.3, colsample_bytree=1.0, score=-2.956, total=   0.2s\n",
      "[CV] subsample=0.7, reg_lambda=3, reg_alpha=0, n_estimators=250, min_child_weight=7, max_depth=10, learning_rate=0.01, gamma=0.3, colsample_bytree=1.0 \n"
     ]
    },
    {
     "name": "stdout",
     "output_type": "stream",
     "text": [
      "[CV]  subsample=0.7, reg_lambda=3, reg_alpha=0, n_estimators=250, min_child_weight=7, max_depth=10, learning_rate=0.01, gamma=0.3, colsample_bytree=1.0, score=-3.427, total=   0.2s\n",
      "[CV] subsample=0.7, reg_lambda=3, reg_alpha=0, n_estimators=250, min_child_weight=7, max_depth=10, learning_rate=0.01, gamma=0.3, colsample_bytree=1.0 \n",
      "[CV]  subsample=0.7, reg_lambda=3, reg_alpha=0, n_estimators=250, min_child_weight=7, max_depth=10, learning_rate=0.01, gamma=0.3, colsample_bytree=1.0, score=-3.308, total=   0.1s\n",
      "[CV] subsample=0.7, reg_lambda=3, reg_alpha=0, n_estimators=250, min_child_weight=7, max_depth=10, learning_rate=0.01, gamma=0.3, colsample_bytree=1.0 \n",
      "[CV]  subsample=0.7, reg_lambda=3, reg_alpha=0, n_estimators=250, min_child_weight=7, max_depth=10, learning_rate=0.01, gamma=0.3, colsample_bytree=1.0, score=-2.124, total=   0.1s\n",
      "[CV] subsample=0.7, reg_lambda=3, reg_alpha=0, n_estimators=250, min_child_weight=7, max_depth=10, learning_rate=0.01, gamma=0.3, colsample_bytree=1.0 \n",
      "[CV]  subsample=0.7, reg_lambda=3, reg_alpha=0, n_estimators=250, min_child_weight=7, max_depth=10, learning_rate=0.01, gamma=0.3, colsample_bytree=1.0, score=-3.015, total=   0.1s\n",
      "[CV] subsample=0.7, reg_lambda=3, reg_alpha=0, n_estimators=250, min_child_weight=7, max_depth=10, learning_rate=0.01, gamma=0.3, colsample_bytree=1.0 \n",
      "[CV]  subsample=0.7, reg_lambda=3, reg_alpha=0, n_estimators=250, min_child_weight=7, max_depth=10, learning_rate=0.01, gamma=0.3, colsample_bytree=1.0, score=-3.470, total=   0.2s\n",
      "[CV] subsample=0.7, reg_lambda=3, reg_alpha=0, n_estimators=250, min_child_weight=7, max_depth=10, learning_rate=0.01, gamma=0.3, colsample_bytree=1.0 \n",
      "[CV]  subsample=0.7, reg_lambda=3, reg_alpha=0, n_estimators=250, min_child_weight=7, max_depth=10, learning_rate=0.01, gamma=0.3, colsample_bytree=1.0, score=-2.982, total=   0.1s\n",
      "[CV] subsample=0.4, reg_lambda=2, reg_alpha=0.5, n_estimators=250, min_child_weight=7, max_depth=7, learning_rate=0.001, gamma=2, colsample_bytree=0.6 \n",
      "[CV]  subsample=0.4, reg_lambda=2, reg_alpha=0.5, n_estimators=250, min_child_weight=7, max_depth=7, learning_rate=0.001, gamma=2, colsample_bytree=0.6, score=-14.636, total=   0.1s\n",
      "[CV] subsample=0.4, reg_lambda=2, reg_alpha=0.5, n_estimators=250, min_child_weight=7, max_depth=7, learning_rate=0.001, gamma=2, colsample_bytree=0.6 \n",
      "[CV]  subsample=0.4, reg_lambda=2, reg_alpha=0.5, n_estimators=250, min_child_weight=7, max_depth=7, learning_rate=0.001, gamma=2, colsample_bytree=0.6, score=-20.073, total=   0.1s\n",
      "[CV] subsample=0.4, reg_lambda=2, reg_alpha=0.5, n_estimators=250, min_child_weight=7, max_depth=7, learning_rate=0.001, gamma=2, colsample_bytree=0.6 \n",
      "[CV]  subsample=0.4, reg_lambda=2, reg_alpha=0.5, n_estimators=250, min_child_weight=7, max_depth=7, learning_rate=0.001, gamma=2, colsample_bytree=0.6, score=-16.593, total=   0.1s\n",
      "[CV] subsample=0.4, reg_lambda=2, reg_alpha=0.5, n_estimators=250, min_child_weight=7, max_depth=7, learning_rate=0.001, gamma=2, colsample_bytree=0.6 \n",
      "[CV]  subsample=0.4, reg_lambda=2, reg_alpha=0.5, n_estimators=250, min_child_weight=7, max_depth=7, learning_rate=0.001, gamma=2, colsample_bytree=0.6, score=-16.189, total=   0.1s\n",
      "[CV] subsample=0.4, reg_lambda=2, reg_alpha=0.5, n_estimators=250, min_child_weight=7, max_depth=7, learning_rate=0.001, gamma=2, colsample_bytree=0.6 \n",
      "[CV]  subsample=0.4, reg_lambda=2, reg_alpha=0.5, n_estimators=250, min_child_weight=7, max_depth=7, learning_rate=0.001, gamma=2, colsample_bytree=0.6, score=-17.305, total=   0.1s\n",
      "[CV] subsample=0.4, reg_lambda=2, reg_alpha=0.5, n_estimators=250, min_child_weight=7, max_depth=7, learning_rate=0.001, gamma=2, colsample_bytree=0.6 \n",
      "[CV]  subsample=0.4, reg_lambda=2, reg_alpha=0.5, n_estimators=250, min_child_weight=7, max_depth=7, learning_rate=0.001, gamma=2, colsample_bytree=0.6, score=-17.832, total=   0.1s\n",
      "[CV] subsample=0.4, reg_lambda=2, reg_alpha=0.5, n_estimators=250, min_child_weight=7, max_depth=7, learning_rate=0.001, gamma=2, colsample_bytree=0.6 \n",
      "[CV]  subsample=0.4, reg_lambda=2, reg_alpha=0.5, n_estimators=250, min_child_weight=7, max_depth=7, learning_rate=0.001, gamma=2, colsample_bytree=0.6, score=-16.803, total=   0.1s\n",
      "[CV] subsample=0.4, reg_lambda=2, reg_alpha=0.5, n_estimators=250, min_child_weight=7, max_depth=7, learning_rate=0.001, gamma=2, colsample_bytree=0.6 \n",
      "[CV]  subsample=0.4, reg_lambda=2, reg_alpha=0.5, n_estimators=250, min_child_weight=7, max_depth=7, learning_rate=0.001, gamma=2, colsample_bytree=0.6, score=-18.229, total=   0.1s\n",
      "[CV] subsample=0.4, reg_lambda=2, reg_alpha=0.5, n_estimators=250, min_child_weight=7, max_depth=7, learning_rate=0.001, gamma=2, colsample_bytree=0.6 \n",
      "[CV]  subsample=0.4, reg_lambda=2, reg_alpha=0.5, n_estimators=250, min_child_weight=7, max_depth=7, learning_rate=0.001, gamma=2, colsample_bytree=0.6, score=-16.878, total=   0.1s\n",
      "[CV] subsample=0.4, reg_lambda=2, reg_alpha=0.5, n_estimators=250, min_child_weight=7, max_depth=7, learning_rate=0.001, gamma=2, colsample_bytree=0.6 \n",
      "[CV]  subsample=0.4, reg_lambda=2, reg_alpha=0.5, n_estimators=250, min_child_weight=7, max_depth=7, learning_rate=0.001, gamma=2, colsample_bytree=0.6, score=-17.852, total=   0.1s\n",
      "[CV] subsample=0.4, reg_lambda=2, reg_alpha=0, n_estimators=100, min_child_weight=7, max_depth=10, learning_rate=0.01, gamma=0.3, colsample_bytree=0.6 \n",
      "[CV]  subsample=0.4, reg_lambda=2, reg_alpha=0, n_estimators=100, min_child_weight=7, max_depth=10, learning_rate=0.01, gamma=0.3, colsample_bytree=0.6, score=-6.910, total=   0.0s\n",
      "[CV] subsample=0.4, reg_lambda=2, reg_alpha=0, n_estimators=100, min_child_weight=7, max_depth=10, learning_rate=0.01, gamma=0.3, colsample_bytree=0.6 \n",
      "[CV]  subsample=0.4, reg_lambda=2, reg_alpha=0, n_estimators=100, min_child_weight=7, max_depth=10, learning_rate=0.01, gamma=0.3, colsample_bytree=0.6, score=-10.419, total=   0.0s\n",
      "[CV] subsample=0.4, reg_lambda=2, reg_alpha=0, n_estimators=100, min_child_weight=7, max_depth=10, learning_rate=0.01, gamma=0.3, colsample_bytree=0.6 \n",
      "[CV]  subsample=0.4, reg_lambda=2, reg_alpha=0, n_estimators=100, min_child_weight=7, max_depth=10, learning_rate=0.01, gamma=0.3, colsample_bytree=0.6, score=-7.843, total=   0.0s\n",
      "[CV] subsample=0.4, reg_lambda=2, reg_alpha=0, n_estimators=100, min_child_weight=7, max_depth=10, learning_rate=0.01, gamma=0.3, colsample_bytree=0.6 \n",
      "[CV]  subsample=0.4, reg_lambda=2, reg_alpha=0, n_estimators=100, min_child_weight=7, max_depth=10, learning_rate=0.01, gamma=0.3, colsample_bytree=0.6, score=-8.000, total=   0.0s\n",
      "[CV] subsample=0.4, reg_lambda=2, reg_alpha=0, n_estimators=100, min_child_weight=7, max_depth=10, learning_rate=0.01, gamma=0.3, colsample_bytree=0.6 \n",
      "[CV]  subsample=0.4, reg_lambda=2, reg_alpha=0, n_estimators=100, min_child_weight=7, max_depth=10, learning_rate=0.01, gamma=0.3, colsample_bytree=0.6, score=-8.951, total=   0.0s\n",
      "[CV] subsample=0.4, reg_lambda=2, reg_alpha=0, n_estimators=100, min_child_weight=7, max_depth=10, learning_rate=0.01, gamma=0.3, colsample_bytree=0.6 \n",
      "[CV]  subsample=0.4, reg_lambda=2, reg_alpha=0, n_estimators=100, min_child_weight=7, max_depth=10, learning_rate=0.01, gamma=0.3, colsample_bytree=0.6, score=-9.200, total=   0.0s\n",
      "[CV] subsample=0.4, reg_lambda=2, reg_alpha=0, n_estimators=100, min_child_weight=7, max_depth=10, learning_rate=0.01, gamma=0.3, colsample_bytree=0.6 \n",
      "[CV]  subsample=0.4, reg_lambda=2, reg_alpha=0, n_estimators=100, min_child_weight=7, max_depth=10, learning_rate=0.01, gamma=0.3, colsample_bytree=0.6, score=-7.660, total=   0.0s\n",
      "[CV] subsample=0.4, reg_lambda=2, reg_alpha=0, n_estimators=100, min_child_weight=7, max_depth=10, learning_rate=0.01, gamma=0.3, colsample_bytree=0.6 \n",
      "[CV]  subsample=0.4, reg_lambda=2, reg_alpha=0, n_estimators=100, min_child_weight=7, max_depth=10, learning_rate=0.01, gamma=0.3, colsample_bytree=0.6, score=-9.167, total=   0.0s\n",
      "[CV] subsample=0.4, reg_lambda=2, reg_alpha=0, n_estimators=100, min_child_weight=7, max_depth=10, learning_rate=0.01, gamma=0.3, colsample_bytree=0.6 \n",
      "[CV]  subsample=0.4, reg_lambda=2, reg_alpha=0, n_estimators=100, min_child_weight=7, max_depth=10, learning_rate=0.01, gamma=0.3, colsample_bytree=0.6, score=-8.564, total=   0.0s\n",
      "[CV] subsample=0.4, reg_lambda=2, reg_alpha=0, n_estimators=100, min_child_weight=7, max_depth=10, learning_rate=0.01, gamma=0.3, colsample_bytree=0.6 \n"
     ]
    },
    {
     "name": "stdout",
     "output_type": "stream",
     "text": [
      "[CV]  subsample=0.4, reg_lambda=2, reg_alpha=0, n_estimators=100, min_child_weight=7, max_depth=10, learning_rate=0.01, gamma=0.3, colsample_bytree=0.6, score=-9.097, total=   0.0s\n",
      "[CV] subsample=0.7, reg_lambda=1, reg_alpha=1, n_estimators=100, min_child_weight=7, max_depth=10, learning_rate=0.001, gamma=0.3, colsample_bytree=0.8 \n",
      "[CV]  subsample=0.7, reg_lambda=1, reg_alpha=1, n_estimators=100, min_child_weight=7, max_depth=10, learning_rate=0.001, gamma=0.3, colsample_bytree=0.8, score=-16.991, total=   0.0s\n",
      "[CV] subsample=0.7, reg_lambda=1, reg_alpha=1, n_estimators=100, min_child_weight=7, max_depth=10, learning_rate=0.001, gamma=0.3, colsample_bytree=0.8 \n",
      "[CV]  subsample=0.7, reg_lambda=1, reg_alpha=1, n_estimators=100, min_child_weight=7, max_depth=10, learning_rate=0.001, gamma=0.3, colsample_bytree=0.8, score=-22.799, total=   0.0s\n",
      "[CV] subsample=0.7, reg_lambda=1, reg_alpha=1, n_estimators=100, min_child_weight=7, max_depth=10, learning_rate=0.001, gamma=0.3, colsample_bytree=0.8 \n",
      "[CV]  subsample=0.7, reg_lambda=1, reg_alpha=1, n_estimators=100, min_child_weight=7, max_depth=10, learning_rate=0.001, gamma=0.3, colsample_bytree=0.8, score=-19.239, total=   0.0s\n",
      "[CV] subsample=0.7, reg_lambda=1, reg_alpha=1, n_estimators=100, min_child_weight=7, max_depth=10, learning_rate=0.001, gamma=0.3, colsample_bytree=0.8 \n",
      "[CV]  subsample=0.7, reg_lambda=1, reg_alpha=1, n_estimators=100, min_child_weight=7, max_depth=10, learning_rate=0.001, gamma=0.3, colsample_bytree=0.8, score=-18.705, total=   0.0s\n",
      "[CV] subsample=0.7, reg_lambda=1, reg_alpha=1, n_estimators=100, min_child_weight=7, max_depth=10, learning_rate=0.001, gamma=0.3, colsample_bytree=0.8 \n",
      "[CV]  subsample=0.7, reg_lambda=1, reg_alpha=1, n_estimators=100, min_child_weight=7, max_depth=10, learning_rate=0.001, gamma=0.3, colsample_bytree=0.8, score=-19.877, total=   0.0s\n",
      "[CV] subsample=0.7, reg_lambda=1, reg_alpha=1, n_estimators=100, min_child_weight=7, max_depth=10, learning_rate=0.001, gamma=0.3, colsample_bytree=0.8 \n",
      "[CV]  subsample=0.7, reg_lambda=1, reg_alpha=1, n_estimators=100, min_child_weight=7, max_depth=10, learning_rate=0.001, gamma=0.3, colsample_bytree=0.8, score=-20.424, total=   0.1s\n",
      "[CV] subsample=0.7, reg_lambda=1, reg_alpha=1, n_estimators=100, min_child_weight=7, max_depth=10, learning_rate=0.001, gamma=0.3, colsample_bytree=0.8 \n",
      "[CV]  subsample=0.7, reg_lambda=1, reg_alpha=1, n_estimators=100, min_child_weight=7, max_depth=10, learning_rate=0.001, gamma=0.3, colsample_bytree=0.8, score=-19.594, total=   0.0s\n",
      "[CV] subsample=0.7, reg_lambda=1, reg_alpha=1, n_estimators=100, min_child_weight=7, max_depth=10, learning_rate=0.001, gamma=0.3, colsample_bytree=0.8 \n",
      "[CV]  subsample=0.7, reg_lambda=1, reg_alpha=1, n_estimators=100, min_child_weight=7, max_depth=10, learning_rate=0.001, gamma=0.3, colsample_bytree=0.8, score=-20.870, total=   0.0s\n",
      "[CV] subsample=0.7, reg_lambda=1, reg_alpha=1, n_estimators=100, min_child_weight=7, max_depth=10, learning_rate=0.001, gamma=0.3, colsample_bytree=0.8 \n",
      "[CV]  subsample=0.7, reg_lambda=1, reg_alpha=1, n_estimators=100, min_child_weight=7, max_depth=10, learning_rate=0.001, gamma=0.3, colsample_bytree=0.8, score=-19.454, total=   0.0s\n",
      "[CV] subsample=0.7, reg_lambda=1, reg_alpha=1, n_estimators=100, min_child_weight=7, max_depth=10, learning_rate=0.001, gamma=0.3, colsample_bytree=0.8 \n",
      "[CV]  subsample=0.7, reg_lambda=1, reg_alpha=1, n_estimators=100, min_child_weight=7, max_depth=10, learning_rate=0.001, gamma=0.3, colsample_bytree=0.8, score=-20.485, total=   0.0s\n",
      "[CV] subsample=0.5, reg_lambda=3, reg_alpha=1, n_estimators=100, min_child_weight=7, max_depth=4, learning_rate=0.001, gamma=0.3, colsample_bytree=0.6 \n",
      "[CV]  subsample=0.5, reg_lambda=3, reg_alpha=1, n_estimators=100, min_child_weight=7, max_depth=4, learning_rate=0.001, gamma=0.3, colsample_bytree=0.6, score=-17.028, total=   0.0s\n",
      "[CV] subsample=0.5, reg_lambda=3, reg_alpha=1, n_estimators=100, min_child_weight=7, max_depth=4, learning_rate=0.001, gamma=0.3, colsample_bytree=0.6 \n",
      "[CV]  subsample=0.5, reg_lambda=3, reg_alpha=1, n_estimators=100, min_child_weight=7, max_depth=4, learning_rate=0.001, gamma=0.3, colsample_bytree=0.6, score=-22.928, total=   0.0s\n",
      "[CV] subsample=0.5, reg_lambda=3, reg_alpha=1, n_estimators=100, min_child_weight=7, max_depth=4, learning_rate=0.001, gamma=0.3, colsample_bytree=0.6 \n",
      "[CV]  subsample=0.5, reg_lambda=3, reg_alpha=1, n_estimators=100, min_child_weight=7, max_depth=4, learning_rate=0.001, gamma=0.3, colsample_bytree=0.6, score=-19.251, total=   0.0s\n",
      "[CV] subsample=0.5, reg_lambda=3, reg_alpha=1, n_estimators=100, min_child_weight=7, max_depth=4, learning_rate=0.001, gamma=0.3, colsample_bytree=0.6 \n",
      "[CV]  subsample=0.5, reg_lambda=3, reg_alpha=1, n_estimators=100, min_child_weight=7, max_depth=4, learning_rate=0.001, gamma=0.3, colsample_bytree=0.6, score=-18.736, total=   0.0s\n",
      "[CV] subsample=0.5, reg_lambda=3, reg_alpha=1, n_estimators=100, min_child_weight=7, max_depth=4, learning_rate=0.001, gamma=0.3, colsample_bytree=0.6 \n",
      "[CV]  subsample=0.5, reg_lambda=3, reg_alpha=1, n_estimators=100, min_child_weight=7, max_depth=4, learning_rate=0.001, gamma=0.3, colsample_bytree=0.6, score=-19.903, total=   0.0s\n",
      "[CV] subsample=0.5, reg_lambda=3, reg_alpha=1, n_estimators=100, min_child_weight=7, max_depth=4, learning_rate=0.001, gamma=0.3, colsample_bytree=0.6 \n",
      "[CV]  subsample=0.5, reg_lambda=3, reg_alpha=1, n_estimators=100, min_child_weight=7, max_depth=4, learning_rate=0.001, gamma=0.3, colsample_bytree=0.6, score=-20.494, total=   0.0s\n",
      "[CV] subsample=0.5, reg_lambda=3, reg_alpha=1, n_estimators=100, min_child_weight=7, max_depth=4, learning_rate=0.001, gamma=0.3, colsample_bytree=0.6 \n",
      "[CV]  subsample=0.5, reg_lambda=3, reg_alpha=1, n_estimators=100, min_child_weight=7, max_depth=4, learning_rate=0.001, gamma=0.3, colsample_bytree=0.6, score=-19.621, total=   0.0s\n",
      "[CV] subsample=0.5, reg_lambda=3, reg_alpha=1, n_estimators=100, min_child_weight=7, max_depth=4, learning_rate=0.001, gamma=0.3, colsample_bytree=0.6 \n",
      "[CV]  subsample=0.5, reg_lambda=3, reg_alpha=1, n_estimators=100, min_child_weight=7, max_depth=4, learning_rate=0.001, gamma=0.3, colsample_bytree=0.6, score=-20.957, total=   0.0s\n",
      "[CV] subsample=0.5, reg_lambda=3, reg_alpha=1, n_estimators=100, min_child_weight=7, max_depth=4, learning_rate=0.001, gamma=0.3, colsample_bytree=0.6 \n",
      "[CV]  subsample=0.5, reg_lambda=3, reg_alpha=1, n_estimators=100, min_child_weight=7, max_depth=4, learning_rate=0.001, gamma=0.3, colsample_bytree=0.6, score=-19.484, total=   0.0s\n",
      "[CV] subsample=0.5, reg_lambda=3, reg_alpha=1, n_estimators=100, min_child_weight=7, max_depth=4, learning_rate=0.001, gamma=0.3, colsample_bytree=0.6 \n",
      "[CV]  subsample=0.5, reg_lambda=3, reg_alpha=1, n_estimators=100, min_child_weight=7, max_depth=4, learning_rate=0.001, gamma=0.3, colsample_bytree=0.6, score=-20.559, total=   0.0s\n",
      "[CV] subsample=0.2, reg_lambda=1.5, reg_alpha=0, n_estimators=500, min_child_weight=5, max_depth=7, learning_rate=0.1, gamma=0.01, colsample_bytree=0.8 \n",
      "[CV]  subsample=0.2, reg_lambda=1.5, reg_alpha=0, n_estimators=500, min_child_weight=5, max_depth=7, learning_rate=0.1, gamma=0.01, colsample_bytree=0.8, score=-2.633, total=   0.3s\n",
      "[CV] subsample=0.2, reg_lambda=1.5, reg_alpha=0, n_estimators=500, min_child_weight=5, max_depth=7, learning_rate=0.1, gamma=0.01, colsample_bytree=0.8 \n",
      "[CV]  subsample=0.2, reg_lambda=1.5, reg_alpha=0, n_estimators=500, min_child_weight=5, max_depth=7, learning_rate=0.1, gamma=0.01, colsample_bytree=0.8, score=-2.546, total=   0.2s\n",
      "[CV] subsample=0.2, reg_lambda=1.5, reg_alpha=0, n_estimators=500, min_child_weight=5, max_depth=7, learning_rate=0.1, gamma=0.01, colsample_bytree=0.8 \n",
      "[CV]  subsample=0.2, reg_lambda=1.5, reg_alpha=0, n_estimators=500, min_child_weight=5, max_depth=7, learning_rate=0.1, gamma=0.01, colsample_bytree=0.8, score=-1.811, total=   0.2s\n",
      "[CV] subsample=0.2, reg_lambda=1.5, reg_alpha=0, n_estimators=500, min_child_weight=5, max_depth=7, learning_rate=0.1, gamma=0.01, colsample_bytree=0.8 \n",
      "[CV]  subsample=0.2, reg_lambda=1.5, reg_alpha=0, n_estimators=500, min_child_weight=5, max_depth=7, learning_rate=0.1, gamma=0.01, colsample_bytree=0.8, score=-2.495, total=   0.2s\n",
      "[CV] subsample=0.2, reg_lambda=1.5, reg_alpha=0, n_estimators=500, min_child_weight=5, max_depth=7, learning_rate=0.1, gamma=0.01, colsample_bytree=0.8 \n"
     ]
    },
    {
     "name": "stdout",
     "output_type": "stream",
     "text": [
      "[CV]  subsample=0.2, reg_lambda=1.5, reg_alpha=0, n_estimators=500, min_child_weight=5, max_depth=7, learning_rate=0.1, gamma=0.01, colsample_bytree=0.8, score=-2.309, total=   0.2s\n",
      "[CV] subsample=0.2, reg_lambda=1.5, reg_alpha=0, n_estimators=500, min_child_weight=5, max_depth=7, learning_rate=0.1, gamma=0.01, colsample_bytree=0.8 \n",
      "[CV]  subsample=0.2, reg_lambda=1.5, reg_alpha=0, n_estimators=500, min_child_weight=5, max_depth=7, learning_rate=0.1, gamma=0.01, colsample_bytree=0.8, score=-2.422, total=   0.2s\n",
      "[CV] subsample=0.2, reg_lambda=1.5, reg_alpha=0, n_estimators=500, min_child_weight=5, max_depth=7, learning_rate=0.1, gamma=0.01, colsample_bytree=0.8 \n",
      "[CV]  subsample=0.2, reg_lambda=1.5, reg_alpha=0, n_estimators=500, min_child_weight=5, max_depth=7, learning_rate=0.1, gamma=0.01, colsample_bytree=0.8, score=-1.856, total=   0.2s\n",
      "[CV] subsample=0.2, reg_lambda=1.5, reg_alpha=0, n_estimators=500, min_child_weight=5, max_depth=7, learning_rate=0.1, gamma=0.01, colsample_bytree=0.8 \n",
      "[CV]  subsample=0.2, reg_lambda=1.5, reg_alpha=0, n_estimators=500, min_child_weight=5, max_depth=7, learning_rate=0.1, gamma=0.01, colsample_bytree=0.8, score=-2.362, total=   0.2s\n",
      "[CV] subsample=0.2, reg_lambda=1.5, reg_alpha=0, n_estimators=500, min_child_weight=5, max_depth=7, learning_rate=0.1, gamma=0.01, colsample_bytree=0.8 \n",
      "[CV]  subsample=0.2, reg_lambda=1.5, reg_alpha=0, n_estimators=500, min_child_weight=5, max_depth=7, learning_rate=0.1, gamma=0.01, colsample_bytree=0.8, score=-2.833, total=   0.2s\n",
      "[CV] subsample=0.2, reg_lambda=1.5, reg_alpha=0, n_estimators=500, min_child_weight=5, max_depth=7, learning_rate=0.1, gamma=0.01, colsample_bytree=0.8 \n",
      "[CV]  subsample=0.2, reg_lambda=1.5, reg_alpha=0, n_estimators=500, min_child_weight=5, max_depth=7, learning_rate=0.1, gamma=0.01, colsample_bytree=0.8, score=-2.207, total=   0.2s\n",
      "[CV] subsample=0.5, reg_lambda=3, reg_alpha=1, n_estimators=100, min_child_weight=5, max_depth=7, learning_rate=0.01, gamma=1.5, colsample_bytree=0.6 \n",
      "[CV]  subsample=0.5, reg_lambda=3, reg_alpha=1, n_estimators=100, min_child_weight=5, max_depth=7, learning_rate=0.01, gamma=1.5, colsample_bytree=0.6, score=-6.952, total=   0.0s\n",
      "[CV] subsample=0.5, reg_lambda=3, reg_alpha=1, n_estimators=100, min_child_weight=5, max_depth=7, learning_rate=0.01, gamma=1.5, colsample_bytree=0.6 \n",
      "[CV]  subsample=0.5, reg_lambda=3, reg_alpha=1, n_estimators=100, min_child_weight=5, max_depth=7, learning_rate=0.01, gamma=1.5, colsample_bytree=0.6, score=-10.555, total=   0.0s\n",
      "[CV] subsample=0.5, reg_lambda=3, reg_alpha=1, n_estimators=100, min_child_weight=5, max_depth=7, learning_rate=0.01, gamma=1.5, colsample_bytree=0.6 \n",
      "[CV]  subsample=0.5, reg_lambda=3, reg_alpha=1, n_estimators=100, min_child_weight=5, max_depth=7, learning_rate=0.01, gamma=1.5, colsample_bytree=0.6, score=-7.820, total=   0.0s\n",
      "[CV] subsample=0.5, reg_lambda=3, reg_alpha=1, n_estimators=100, min_child_weight=5, max_depth=7, learning_rate=0.01, gamma=1.5, colsample_bytree=0.6 \n",
      "[CV]  subsample=0.5, reg_lambda=3, reg_alpha=1, n_estimators=100, min_child_weight=5, max_depth=7, learning_rate=0.01, gamma=1.5, colsample_bytree=0.6, score=-8.102, total=   0.0s\n",
      "[CV] subsample=0.5, reg_lambda=3, reg_alpha=1, n_estimators=100, min_child_weight=5, max_depth=7, learning_rate=0.01, gamma=1.5, colsample_bytree=0.6 \n",
      "[CV]  subsample=0.5, reg_lambda=3, reg_alpha=1, n_estimators=100, min_child_weight=5, max_depth=7, learning_rate=0.01, gamma=1.5, colsample_bytree=0.6, score=-9.003, total=   0.0s\n",
      "[CV] subsample=0.5, reg_lambda=3, reg_alpha=1, n_estimators=100, min_child_weight=5, max_depth=7, learning_rate=0.01, gamma=1.5, colsample_bytree=0.6 \n",
      "[CV]  subsample=0.5, reg_lambda=3, reg_alpha=1, n_estimators=100, min_child_weight=5, max_depth=7, learning_rate=0.01, gamma=1.5, colsample_bytree=0.6, score=-9.304, total=   0.0s\n",
      "[CV] subsample=0.5, reg_lambda=3, reg_alpha=1, n_estimators=100, min_child_weight=5, max_depth=7, learning_rate=0.01, gamma=1.5, colsample_bytree=0.6 \n",
      "[CV]  subsample=0.5, reg_lambda=3, reg_alpha=1, n_estimators=100, min_child_weight=5, max_depth=7, learning_rate=0.01, gamma=1.5, colsample_bytree=0.6, score=-7.639, total=   0.0s\n",
      "[CV] subsample=0.5, reg_lambda=3, reg_alpha=1, n_estimators=100, min_child_weight=5, max_depth=7, learning_rate=0.01, gamma=1.5, colsample_bytree=0.6 \n",
      "[CV]  subsample=0.5, reg_lambda=3, reg_alpha=1, n_estimators=100, min_child_weight=5, max_depth=7, learning_rate=0.01, gamma=1.5, colsample_bytree=0.6, score=-9.192, total=   0.0s\n",
      "[CV] subsample=0.5, reg_lambda=3, reg_alpha=1, n_estimators=100, min_child_weight=5, max_depth=7, learning_rate=0.01, gamma=1.5, colsample_bytree=0.6 \n",
      "[CV]  subsample=0.5, reg_lambda=3, reg_alpha=1, n_estimators=100, min_child_weight=5, max_depth=7, learning_rate=0.01, gamma=1.5, colsample_bytree=0.6, score=-8.576, total=   0.0s\n",
      "[CV] subsample=0.5, reg_lambda=3, reg_alpha=1, n_estimators=100, min_child_weight=5, max_depth=7, learning_rate=0.01, gamma=1.5, colsample_bytree=0.6 \n",
      "[CV]  subsample=0.5, reg_lambda=3, reg_alpha=1, n_estimators=100, min_child_weight=5, max_depth=7, learning_rate=0.01, gamma=1.5, colsample_bytree=0.6, score=-9.132, total=   0.0s\n",
      "[CV] subsample=0.4, reg_lambda=1, reg_alpha=0, n_estimators=500, min_child_weight=7, max_depth=2, learning_rate=0.01, gamma=0.1, colsample_bytree=1.0 \n",
      "[CV]  subsample=0.4, reg_lambda=1, reg_alpha=0, n_estimators=500, min_child_weight=7, max_depth=2, learning_rate=0.01, gamma=0.1, colsample_bytree=1.0, score=-2.358, total=   0.1s\n",
      "[CV] subsample=0.4, reg_lambda=1, reg_alpha=0, n_estimators=500, min_child_weight=7, max_depth=2, learning_rate=0.01, gamma=0.1, colsample_bytree=1.0 \n",
      "[CV]  subsample=0.4, reg_lambda=1, reg_alpha=0, n_estimators=500, min_child_weight=7, max_depth=2, learning_rate=0.01, gamma=0.1, colsample_bytree=1.0, score=-3.032, total=   0.1s\n",
      "[CV] subsample=0.4, reg_lambda=1, reg_alpha=0, n_estimators=500, min_child_weight=7, max_depth=2, learning_rate=0.01, gamma=0.1, colsample_bytree=1.0 \n",
      "[CV]  subsample=0.4, reg_lambda=1, reg_alpha=0, n_estimators=500, min_child_weight=7, max_depth=2, learning_rate=0.01, gamma=0.1, colsample_bytree=1.0, score=-1.722, total=   0.1s\n",
      "[CV] subsample=0.4, reg_lambda=1, reg_alpha=0, n_estimators=500, min_child_weight=7, max_depth=2, learning_rate=0.01, gamma=0.1, colsample_bytree=1.0 \n",
      "[CV]  subsample=0.4, reg_lambda=1, reg_alpha=0, n_estimators=500, min_child_weight=7, max_depth=2, learning_rate=0.01, gamma=0.1, colsample_bytree=1.0, score=-2.260, total=   0.1s\n",
      "[CV] subsample=0.4, reg_lambda=1, reg_alpha=0, n_estimators=500, min_child_weight=7, max_depth=2, learning_rate=0.01, gamma=0.1, colsample_bytree=1.0 \n",
      "[CV]  subsample=0.4, reg_lambda=1, reg_alpha=0, n_estimators=500, min_child_weight=7, max_depth=2, learning_rate=0.01, gamma=0.1, colsample_bytree=1.0, score=-2.803, total=   0.1s\n",
      "[CV] subsample=0.4, reg_lambda=1, reg_alpha=0, n_estimators=500, min_child_weight=7, max_depth=2, learning_rate=0.01, gamma=0.1, colsample_bytree=1.0 \n",
      "[CV]  subsample=0.4, reg_lambda=1, reg_alpha=0, n_estimators=500, min_child_weight=7, max_depth=2, learning_rate=0.01, gamma=0.1, colsample_bytree=1.0, score=-2.718, total=   0.1s\n",
      "[CV] subsample=0.4, reg_lambda=1, reg_alpha=0, n_estimators=500, min_child_weight=7, max_depth=2, learning_rate=0.01, gamma=0.1, colsample_bytree=1.0 \n",
      "[CV]  subsample=0.4, reg_lambda=1, reg_alpha=0, n_estimators=500, min_child_weight=7, max_depth=2, learning_rate=0.01, gamma=0.1, colsample_bytree=1.0, score=-1.690, total=   0.2s\n",
      "[CV] subsample=0.4, reg_lambda=1, reg_alpha=0, n_estimators=500, min_child_weight=7, max_depth=2, learning_rate=0.01, gamma=0.1, colsample_bytree=1.0 \n",
      "[CV]  subsample=0.4, reg_lambda=1, reg_alpha=0, n_estimators=500, min_child_weight=7, max_depth=2, learning_rate=0.01, gamma=0.1, colsample_bytree=1.0, score=-2.387, total=   0.2s\n",
      "[CV] subsample=0.4, reg_lambda=1, reg_alpha=0, n_estimators=500, min_child_weight=7, max_depth=2, learning_rate=0.01, gamma=0.1, colsample_bytree=1.0 \n",
      "[CV]  subsample=0.4, reg_lambda=1, reg_alpha=0, n_estimators=500, min_child_weight=7, max_depth=2, learning_rate=0.01, gamma=0.1, colsample_bytree=1.0, score=-2.975, total=   0.1s\n",
      "[CV] subsample=0.4, reg_lambda=1, reg_alpha=0, n_estimators=500, min_child_weight=7, max_depth=2, learning_rate=0.01, gamma=0.1, colsample_bytree=1.0 \n"
     ]
    },
    {
     "name": "stdout",
     "output_type": "stream",
     "text": [
      "[CV]  subsample=0.4, reg_lambda=1, reg_alpha=0, n_estimators=500, min_child_weight=7, max_depth=2, learning_rate=0.01, gamma=0.1, colsample_bytree=1.0, score=-2.360, total=   0.1s\n",
      "[CV] subsample=0.7, reg_lambda=3, reg_alpha=0, n_estimators=500, min_child_weight=1, max_depth=7, learning_rate=0.1, gamma=1, colsample_bytree=1.0 \n",
      "[CV]  subsample=0.7, reg_lambda=3, reg_alpha=0, n_estimators=500, min_child_weight=1, max_depth=7, learning_rate=0.1, gamma=1, colsample_bytree=1.0, score=-2.359, total=   0.5s\n",
      "[CV] subsample=0.7, reg_lambda=3, reg_alpha=0, n_estimators=500, min_child_weight=1, max_depth=7, learning_rate=0.1, gamma=1, colsample_bytree=1.0 \n",
      "[CV]  subsample=0.7, reg_lambda=3, reg_alpha=0, n_estimators=500, min_child_weight=1, max_depth=7, learning_rate=0.1, gamma=1, colsample_bytree=1.0, score=-2.544, total=   0.5s\n",
      "[CV] subsample=0.7, reg_lambda=3, reg_alpha=0, n_estimators=500, min_child_weight=1, max_depth=7, learning_rate=0.1, gamma=1, colsample_bytree=1.0 \n",
      "[CV]  subsample=0.7, reg_lambda=3, reg_alpha=0, n_estimators=500, min_child_weight=1, max_depth=7, learning_rate=0.1, gamma=1, colsample_bytree=1.0, score=-1.377, total=   0.5s\n",
      "[CV] subsample=0.7, reg_lambda=3, reg_alpha=0, n_estimators=500, min_child_weight=1, max_depth=7, learning_rate=0.1, gamma=1, colsample_bytree=1.0 \n",
      "[CV]  subsample=0.7, reg_lambda=3, reg_alpha=0, n_estimators=500, min_child_weight=1, max_depth=7, learning_rate=0.1, gamma=1, colsample_bytree=1.0, score=-1.813, total=   0.5s\n",
      "[CV] subsample=0.7, reg_lambda=3, reg_alpha=0, n_estimators=500, min_child_weight=1, max_depth=7, learning_rate=0.1, gamma=1, colsample_bytree=1.0 \n",
      "[CV]  subsample=0.7, reg_lambda=3, reg_alpha=0, n_estimators=500, min_child_weight=1, max_depth=7, learning_rate=0.1, gamma=1, colsample_bytree=1.0, score=-2.335, total=   0.5s\n",
      "[CV] subsample=0.7, reg_lambda=3, reg_alpha=0, n_estimators=500, min_child_weight=1, max_depth=7, learning_rate=0.1, gamma=1, colsample_bytree=1.0 \n",
      "[CV]  subsample=0.7, reg_lambda=3, reg_alpha=0, n_estimators=500, min_child_weight=1, max_depth=7, learning_rate=0.1, gamma=1, colsample_bytree=1.0, score=-2.143, total=   0.5s\n",
      "[CV] subsample=0.7, reg_lambda=3, reg_alpha=0, n_estimators=500, min_child_weight=1, max_depth=7, learning_rate=0.1, gamma=1, colsample_bytree=1.0 \n",
      "[CV]  subsample=0.7, reg_lambda=3, reg_alpha=0, n_estimators=500, min_child_weight=1, max_depth=7, learning_rate=0.1, gamma=1, colsample_bytree=1.0, score=-1.753, total=   0.6s\n",
      "[CV] subsample=0.7, reg_lambda=3, reg_alpha=0, n_estimators=500, min_child_weight=1, max_depth=7, learning_rate=0.1, gamma=1, colsample_bytree=1.0 \n",
      "[CV]  subsample=0.7, reg_lambda=3, reg_alpha=0, n_estimators=500, min_child_weight=1, max_depth=7, learning_rate=0.1, gamma=1, colsample_bytree=1.0, score=-2.981, total=   0.6s\n",
      "[CV] subsample=0.7, reg_lambda=3, reg_alpha=0, n_estimators=500, min_child_weight=1, max_depth=7, learning_rate=0.1, gamma=1, colsample_bytree=1.0 \n",
      "[CV]  subsample=0.7, reg_lambda=3, reg_alpha=0, n_estimators=500, min_child_weight=1, max_depth=7, learning_rate=0.1, gamma=1, colsample_bytree=1.0, score=-2.606, total=   0.5s\n",
      "[CV] subsample=0.7, reg_lambda=3, reg_alpha=0, n_estimators=500, min_child_weight=1, max_depth=7, learning_rate=0.1, gamma=1, colsample_bytree=1.0 \n",
      "[CV]  subsample=0.7, reg_lambda=3, reg_alpha=0, n_estimators=500, min_child_weight=1, max_depth=7, learning_rate=0.1, gamma=1, colsample_bytree=1.0, score=-2.407, total=   0.6s\n",
      "[CV] subsample=0.6, reg_lambda=1, reg_alpha=1, n_estimators=250, min_child_weight=1, max_depth=7, learning_rate=0.1, gamma=2, colsample_bytree=0.8 \n",
      "[CV]  subsample=0.6, reg_lambda=1, reg_alpha=1, n_estimators=250, min_child_weight=1, max_depth=7, learning_rate=0.1, gamma=2, colsample_bytree=0.8, score=-2.298, total=   0.2s\n",
      "[CV] subsample=0.6, reg_lambda=1, reg_alpha=1, n_estimators=250, min_child_weight=1, max_depth=7, learning_rate=0.1, gamma=2, colsample_bytree=0.8 \n",
      "[CV]  subsample=0.6, reg_lambda=1, reg_alpha=1, n_estimators=250, min_child_weight=1, max_depth=7, learning_rate=0.1, gamma=2, colsample_bytree=0.8, score=-2.725, total=   0.3s\n",
      "[CV] subsample=0.6, reg_lambda=1, reg_alpha=1, n_estimators=250, min_child_weight=1, max_depth=7, learning_rate=0.1, gamma=2, colsample_bytree=0.8 \n",
      "[CV]  subsample=0.6, reg_lambda=1, reg_alpha=1, n_estimators=250, min_child_weight=1, max_depth=7, learning_rate=0.1, gamma=2, colsample_bytree=0.8, score=-1.495, total=   0.3s\n",
      "[CV] subsample=0.6, reg_lambda=1, reg_alpha=1, n_estimators=250, min_child_weight=1, max_depth=7, learning_rate=0.1, gamma=2, colsample_bytree=0.8 \n",
      "[CV]  subsample=0.6, reg_lambda=1, reg_alpha=1, n_estimators=250, min_child_weight=1, max_depth=7, learning_rate=0.1, gamma=2, colsample_bytree=0.8, score=-1.883, total=   0.2s\n",
      "[CV] subsample=0.6, reg_lambda=1, reg_alpha=1, n_estimators=250, min_child_weight=1, max_depth=7, learning_rate=0.1, gamma=2, colsample_bytree=0.8 \n",
      "[CV]  subsample=0.6, reg_lambda=1, reg_alpha=1, n_estimators=250, min_child_weight=1, max_depth=7, learning_rate=0.1, gamma=2, colsample_bytree=0.8, score=-2.430, total=   0.2s\n",
      "[CV] subsample=0.6, reg_lambda=1, reg_alpha=1, n_estimators=250, min_child_weight=1, max_depth=7, learning_rate=0.1, gamma=2, colsample_bytree=0.8 \n",
      "[CV]  subsample=0.6, reg_lambda=1, reg_alpha=1, n_estimators=250, min_child_weight=1, max_depth=7, learning_rate=0.1, gamma=2, colsample_bytree=0.8, score=-1.946, total=   0.3s\n",
      "[CV] subsample=0.6, reg_lambda=1, reg_alpha=1, n_estimators=250, min_child_weight=1, max_depth=7, learning_rate=0.1, gamma=2, colsample_bytree=0.8 \n",
      "[CV]  subsample=0.6, reg_lambda=1, reg_alpha=1, n_estimators=250, min_child_weight=1, max_depth=7, learning_rate=0.1, gamma=2, colsample_bytree=0.8, score=-1.720, total=   0.2s\n",
      "[CV] subsample=0.6, reg_lambda=1, reg_alpha=1, n_estimators=250, min_child_weight=1, max_depth=7, learning_rate=0.1, gamma=2, colsample_bytree=0.8 \n",
      "[CV]  subsample=0.6, reg_lambda=1, reg_alpha=1, n_estimators=250, min_child_weight=1, max_depth=7, learning_rate=0.1, gamma=2, colsample_bytree=0.8, score=-2.649, total=   0.2s\n",
      "[CV] subsample=0.6, reg_lambda=1, reg_alpha=1, n_estimators=250, min_child_weight=1, max_depth=7, learning_rate=0.1, gamma=2, colsample_bytree=0.8 \n",
      "[CV]  subsample=0.6, reg_lambda=1, reg_alpha=1, n_estimators=250, min_child_weight=1, max_depth=7, learning_rate=0.1, gamma=2, colsample_bytree=0.8, score=-2.793, total=   0.3s\n",
      "[CV] subsample=0.6, reg_lambda=1, reg_alpha=1, n_estimators=250, min_child_weight=1, max_depth=7, learning_rate=0.1, gamma=2, colsample_bytree=0.8 \n",
      "[CV]  subsample=0.6, reg_lambda=1, reg_alpha=1, n_estimators=250, min_child_weight=1, max_depth=7, learning_rate=0.1, gamma=2, colsample_bytree=0.8, score=-2.040, total=   0.3s\n",
      "[CV] subsample=0.6, reg_lambda=1.5, reg_alpha=0, n_estimators=1000, min_child_weight=3, max_depth=7, learning_rate=0.1, gamma=2, colsample_bytree=0.6 \n",
      "[CV]  subsample=0.6, reg_lambda=1.5, reg_alpha=0, n_estimators=1000, min_child_weight=3, max_depth=7, learning_rate=0.1, gamma=2, colsample_bytree=0.6, score=-2.298, total=   1.0s\n",
      "[CV] subsample=0.6, reg_lambda=1.5, reg_alpha=0, n_estimators=1000, min_child_weight=3, max_depth=7, learning_rate=0.1, gamma=2, colsample_bytree=0.6 \n",
      "[CV]  subsample=0.6, reg_lambda=1.5, reg_alpha=0, n_estimators=1000, min_child_weight=3, max_depth=7, learning_rate=0.1, gamma=2, colsample_bytree=0.6, score=-2.393, total=   0.8s\n",
      "[CV] subsample=0.6, reg_lambda=1.5, reg_alpha=0, n_estimators=1000, min_child_weight=3, max_depth=7, learning_rate=0.1, gamma=2, colsample_bytree=0.6 \n",
      "[CV]  subsample=0.6, reg_lambda=1.5, reg_alpha=0, n_estimators=1000, min_child_weight=3, max_depth=7, learning_rate=0.1, gamma=2, colsample_bytree=0.6, score=-1.368, total=   0.8s\n",
      "[CV] subsample=0.6, reg_lambda=1.5, reg_alpha=0, n_estimators=1000, min_child_weight=3, max_depth=7, learning_rate=0.1, gamma=2, colsample_bytree=0.6 \n",
      "[CV]  subsample=0.6, reg_lambda=1.5, reg_alpha=0, n_estimators=1000, min_child_weight=3, max_depth=7, learning_rate=0.1, gamma=2, colsample_bytree=0.6, score=-1.838, total=   0.8s\n",
      "[CV] subsample=0.6, reg_lambda=1.5, reg_alpha=0, n_estimators=1000, min_child_weight=3, max_depth=7, learning_rate=0.1, gamma=2, colsample_bytree=0.6 \n",
      "[CV]  subsample=0.6, reg_lambda=1.5, reg_alpha=0, n_estimators=1000, min_child_weight=3, max_depth=7, learning_rate=0.1, gamma=2, colsample_bytree=0.6, score=-2.408, total=   0.9s\n",
      "[CV] subsample=0.6, reg_lambda=1.5, reg_alpha=0, n_estimators=1000, min_child_weight=3, max_depth=7, learning_rate=0.1, gamma=2, colsample_bytree=0.6 \n"
     ]
    },
    {
     "name": "stdout",
     "output_type": "stream",
     "text": [
      "[CV]  subsample=0.6, reg_lambda=1.5, reg_alpha=0, n_estimators=1000, min_child_weight=3, max_depth=7, learning_rate=0.1, gamma=2, colsample_bytree=0.6, score=-2.115, total=   0.8s\n",
      "[CV] subsample=0.6, reg_lambda=1.5, reg_alpha=0, n_estimators=1000, min_child_weight=3, max_depth=7, learning_rate=0.1, gamma=2, colsample_bytree=0.6 \n",
      "[CV]  subsample=0.6, reg_lambda=1.5, reg_alpha=0, n_estimators=1000, min_child_weight=3, max_depth=7, learning_rate=0.1, gamma=2, colsample_bytree=0.6, score=-1.787, total=   0.9s\n",
      "[CV] subsample=0.6, reg_lambda=1.5, reg_alpha=0, n_estimators=1000, min_child_weight=3, max_depth=7, learning_rate=0.1, gamma=2, colsample_bytree=0.6 \n",
      "[CV]  subsample=0.6, reg_lambda=1.5, reg_alpha=0, n_estimators=1000, min_child_weight=3, max_depth=7, learning_rate=0.1, gamma=2, colsample_bytree=0.6, score=-2.366, total=   0.9s\n",
      "[CV] subsample=0.6, reg_lambda=1.5, reg_alpha=0, n_estimators=1000, min_child_weight=3, max_depth=7, learning_rate=0.1, gamma=2, colsample_bytree=0.6 \n",
      "[CV]  subsample=0.6, reg_lambda=1.5, reg_alpha=0, n_estimators=1000, min_child_weight=3, max_depth=7, learning_rate=0.1, gamma=2, colsample_bytree=0.6, score=-2.564, total=   0.9s\n",
      "[CV] subsample=0.6, reg_lambda=1.5, reg_alpha=0, n_estimators=1000, min_child_weight=3, max_depth=7, learning_rate=0.1, gamma=2, colsample_bytree=0.6 \n",
      "[CV]  subsample=0.6, reg_lambda=1.5, reg_alpha=0, n_estimators=1000, min_child_weight=3, max_depth=7, learning_rate=0.1, gamma=2, colsample_bytree=0.6, score=-1.929, total=   0.9s\n",
      "[CV] subsample=0.5, reg_lambda=2, reg_alpha=1, n_estimators=500, min_child_weight=7, max_depth=4, learning_rate=0.1, gamma=1.5, colsample_bytree=0.6 \n",
      "[CV]  subsample=0.5, reg_lambda=2, reg_alpha=1, n_estimators=500, min_child_weight=7, max_depth=4, learning_rate=0.1, gamma=1.5, colsample_bytree=0.6, score=-1.962, total=   0.3s\n",
      "[CV] subsample=0.5, reg_lambda=2, reg_alpha=1, n_estimators=500, min_child_weight=7, max_depth=4, learning_rate=0.1, gamma=1.5, colsample_bytree=0.6 \n",
      "[CV]  subsample=0.5, reg_lambda=2, reg_alpha=1, n_estimators=500, min_child_weight=7, max_depth=4, learning_rate=0.1, gamma=1.5, colsample_bytree=0.6, score=-2.481, total=   0.2s\n",
      "[CV] subsample=0.5, reg_lambda=2, reg_alpha=1, n_estimators=500, min_child_weight=7, max_depth=4, learning_rate=0.1, gamma=1.5, colsample_bytree=0.6 \n",
      "[CV]  subsample=0.5, reg_lambda=2, reg_alpha=1, n_estimators=500, min_child_weight=7, max_depth=4, learning_rate=0.1, gamma=1.5, colsample_bytree=0.6, score=-1.616, total=   0.3s\n",
      "[CV] subsample=0.5, reg_lambda=2, reg_alpha=1, n_estimators=500, min_child_weight=7, max_depth=4, learning_rate=0.1, gamma=1.5, colsample_bytree=0.6 \n",
      "[CV]  subsample=0.5, reg_lambda=2, reg_alpha=1, n_estimators=500, min_child_weight=7, max_depth=4, learning_rate=0.1, gamma=1.5, colsample_bytree=0.6, score=-1.961, total=   0.2s\n",
      "[CV] subsample=0.5, reg_lambda=2, reg_alpha=1, n_estimators=500, min_child_weight=7, max_depth=4, learning_rate=0.1, gamma=1.5, colsample_bytree=0.6 \n",
      "[CV]  subsample=0.5, reg_lambda=2, reg_alpha=1, n_estimators=500, min_child_weight=7, max_depth=4, learning_rate=0.1, gamma=1.5, colsample_bytree=0.6, score=-2.231, total=   0.2s\n",
      "[CV] subsample=0.5, reg_lambda=2, reg_alpha=1, n_estimators=500, min_child_weight=7, max_depth=4, learning_rate=0.1, gamma=1.5, colsample_bytree=0.6 \n",
      "[CV]  subsample=0.5, reg_lambda=2, reg_alpha=1, n_estimators=500, min_child_weight=7, max_depth=4, learning_rate=0.1, gamma=1.5, colsample_bytree=0.6, score=-2.054, total=   0.2s\n",
      "[CV] subsample=0.5, reg_lambda=2, reg_alpha=1, n_estimators=500, min_child_weight=7, max_depth=4, learning_rate=0.1, gamma=1.5, colsample_bytree=0.6 \n",
      "[CV]  subsample=0.5, reg_lambda=2, reg_alpha=1, n_estimators=500, min_child_weight=7, max_depth=4, learning_rate=0.1, gamma=1.5, colsample_bytree=0.6, score=-1.724, total=   0.2s\n",
      "[CV] subsample=0.5, reg_lambda=2, reg_alpha=1, n_estimators=500, min_child_weight=7, max_depth=4, learning_rate=0.1, gamma=1.5, colsample_bytree=0.6 \n",
      "[CV]  subsample=0.5, reg_lambda=2, reg_alpha=1, n_estimators=500, min_child_weight=7, max_depth=4, learning_rate=0.1, gamma=1.5, colsample_bytree=0.6, score=-2.513, total=   0.3s\n",
      "[CV] subsample=0.5, reg_lambda=2, reg_alpha=1, n_estimators=500, min_child_weight=7, max_depth=4, learning_rate=0.1, gamma=1.5, colsample_bytree=0.6 \n",
      "[CV]  subsample=0.5, reg_lambda=2, reg_alpha=1, n_estimators=500, min_child_weight=7, max_depth=4, learning_rate=0.1, gamma=1.5, colsample_bytree=0.6, score=-2.544, total=   0.3s\n",
      "[CV] subsample=0.5, reg_lambda=2, reg_alpha=1, n_estimators=500, min_child_weight=7, max_depth=4, learning_rate=0.1, gamma=1.5, colsample_bytree=0.6 \n",
      "[CV]  subsample=0.5, reg_lambda=2, reg_alpha=1, n_estimators=500, min_child_weight=7, max_depth=4, learning_rate=0.1, gamma=1.5, colsample_bytree=0.6, score=-1.933, total=   0.4s\n",
      "[CV] subsample=0.4, reg_lambda=4.5, reg_alpha=0.5, n_estimators=500, min_child_weight=1, max_depth=4, learning_rate=0.1, gamma=0.1, colsample_bytree=0.3 \n",
      "[CV]  subsample=0.4, reg_lambda=4.5, reg_alpha=0.5, n_estimators=500, min_child_weight=1, max_depth=4, learning_rate=0.1, gamma=0.1, colsample_bytree=0.3, score=-2.244, total=   0.2s\n",
      "[CV] subsample=0.4, reg_lambda=4.5, reg_alpha=0.5, n_estimators=500, min_child_weight=1, max_depth=4, learning_rate=0.1, gamma=0.1, colsample_bytree=0.3 \n",
      "[CV]  subsample=0.4, reg_lambda=4.5, reg_alpha=0.5, n_estimators=500, min_child_weight=1, max_depth=4, learning_rate=0.1, gamma=0.1, colsample_bytree=0.3, score=-2.525, total=   0.3s\n",
      "[CV] subsample=0.4, reg_lambda=4.5, reg_alpha=0.5, n_estimators=500, min_child_weight=1, max_depth=4, learning_rate=0.1, gamma=0.1, colsample_bytree=0.3 \n",
      "[CV]  subsample=0.4, reg_lambda=4.5, reg_alpha=0.5, n_estimators=500, min_child_weight=1, max_depth=4, learning_rate=0.1, gamma=0.1, colsample_bytree=0.3, score=-1.575, total=   0.3s\n",
      "[CV] subsample=0.4, reg_lambda=4.5, reg_alpha=0.5, n_estimators=500, min_child_weight=1, max_depth=4, learning_rate=0.1, gamma=0.1, colsample_bytree=0.3 \n",
      "[CV]  subsample=0.4, reg_lambda=4.5, reg_alpha=0.5, n_estimators=500, min_child_weight=1, max_depth=4, learning_rate=0.1, gamma=0.1, colsample_bytree=0.3, score=-2.051, total=   0.3s\n",
      "[CV] subsample=0.4, reg_lambda=4.5, reg_alpha=0.5, n_estimators=500, min_child_weight=1, max_depth=4, learning_rate=0.1, gamma=0.1, colsample_bytree=0.3 \n",
      "[CV]  subsample=0.4, reg_lambda=4.5, reg_alpha=0.5, n_estimators=500, min_child_weight=1, max_depth=4, learning_rate=0.1, gamma=0.1, colsample_bytree=0.3, score=-2.487, total=   0.3s\n",
      "[CV] subsample=0.4, reg_lambda=4.5, reg_alpha=0.5, n_estimators=500, min_child_weight=1, max_depth=4, learning_rate=0.1, gamma=0.1, colsample_bytree=0.3 \n",
      "[CV]  subsample=0.4, reg_lambda=4.5, reg_alpha=0.5, n_estimators=500, min_child_weight=1, max_depth=4, learning_rate=0.1, gamma=0.1, colsample_bytree=0.3, score=-2.182, total=   0.3s\n",
      "[CV] subsample=0.4, reg_lambda=4.5, reg_alpha=0.5, n_estimators=500, min_child_weight=1, max_depth=4, learning_rate=0.1, gamma=0.1, colsample_bytree=0.3 \n",
      "[CV]  subsample=0.4, reg_lambda=4.5, reg_alpha=0.5, n_estimators=500, min_child_weight=1, max_depth=4, learning_rate=0.1, gamma=0.1, colsample_bytree=0.3, score=-1.781, total=   0.2s\n",
      "[CV] subsample=0.4, reg_lambda=4.5, reg_alpha=0.5, n_estimators=500, min_child_weight=1, max_depth=4, learning_rate=0.1, gamma=0.1, colsample_bytree=0.3 \n",
      "[CV]  subsample=0.4, reg_lambda=4.5, reg_alpha=0.5, n_estimators=500, min_child_weight=1, max_depth=4, learning_rate=0.1, gamma=0.1, colsample_bytree=0.3, score=-2.947, total=   0.2s\n",
      "[CV] subsample=0.4, reg_lambda=4.5, reg_alpha=0.5, n_estimators=500, min_child_weight=1, max_depth=4, learning_rate=0.1, gamma=0.1, colsample_bytree=0.3 \n",
      "[CV]  subsample=0.4, reg_lambda=4.5, reg_alpha=0.5, n_estimators=500, min_child_weight=1, max_depth=4, learning_rate=0.1, gamma=0.1, colsample_bytree=0.3, score=-2.695, total=   0.3s\n",
      "[CV] subsample=0.4, reg_lambda=4.5, reg_alpha=0.5, n_estimators=500, min_child_weight=1, max_depth=4, learning_rate=0.1, gamma=0.1, colsample_bytree=0.3 \n",
      "[CV]  subsample=0.4, reg_lambda=4.5, reg_alpha=0.5, n_estimators=500, min_child_weight=1, max_depth=4, learning_rate=0.1, gamma=0.1, colsample_bytree=0.3, score=-2.269, total=   0.2s\n",
      "[CV] subsample=0.7, reg_lambda=3, reg_alpha=0.5, n_estimators=250, min_child_weight=5, max_depth=2, learning_rate=0.1, gamma=0.1, colsample_bytree=0.6 \n",
      "[CV]  subsample=0.7, reg_lambda=3, reg_alpha=0.5, n_estimators=250, min_child_weight=5, max_depth=2, learning_rate=0.1, gamma=0.1, colsample_bytree=0.6, score=-1.953, total=   0.1s\n",
      "[CV] subsample=0.7, reg_lambda=3, reg_alpha=0.5, n_estimators=250, min_child_weight=5, max_depth=2, learning_rate=0.1, gamma=0.1, colsample_bytree=0.6 \n",
      "[CV]  subsample=0.7, reg_lambda=3, reg_alpha=0.5, n_estimators=250, min_child_weight=5, max_depth=2, learning_rate=0.1, gamma=0.1, colsample_bytree=0.6, score=-2.718, total=   0.1s\n",
      "[CV] subsample=0.7, reg_lambda=3, reg_alpha=0.5, n_estimators=250, min_child_weight=5, max_depth=2, learning_rate=0.1, gamma=0.1, colsample_bytree=0.6 \n"
     ]
    },
    {
     "name": "stdout",
     "output_type": "stream",
     "text": [
      "[CV]  subsample=0.7, reg_lambda=3, reg_alpha=0.5, n_estimators=250, min_child_weight=5, max_depth=2, learning_rate=0.1, gamma=0.1, colsample_bytree=0.6, score=-1.775, total=   0.1s\n",
      "[CV] subsample=0.7, reg_lambda=3, reg_alpha=0.5, n_estimators=250, min_child_weight=5, max_depth=2, learning_rate=0.1, gamma=0.1, colsample_bytree=0.6 \n",
      "[CV]  subsample=0.7, reg_lambda=3, reg_alpha=0.5, n_estimators=250, min_child_weight=5, max_depth=2, learning_rate=0.1, gamma=0.1, colsample_bytree=0.6, score=-2.143, total=   0.1s\n",
      "[CV] subsample=0.7, reg_lambda=3, reg_alpha=0.5, n_estimators=250, min_child_weight=5, max_depth=2, learning_rate=0.1, gamma=0.1, colsample_bytree=0.6 \n",
      "[CV]  subsample=0.7, reg_lambda=3, reg_alpha=0.5, n_estimators=250, min_child_weight=5, max_depth=2, learning_rate=0.1, gamma=0.1, colsample_bytree=0.6, score=-2.312, total=   0.1s\n",
      "[CV] subsample=0.7, reg_lambda=3, reg_alpha=0.5, n_estimators=250, min_child_weight=5, max_depth=2, learning_rate=0.1, gamma=0.1, colsample_bytree=0.6 \n",
      "[CV]  subsample=0.7, reg_lambda=3, reg_alpha=0.5, n_estimators=250, min_child_weight=5, max_depth=2, learning_rate=0.1, gamma=0.1, colsample_bytree=0.6, score=-2.219, total=   0.1s\n",
      "[CV] subsample=0.7, reg_lambda=3, reg_alpha=0.5, n_estimators=250, min_child_weight=5, max_depth=2, learning_rate=0.1, gamma=0.1, colsample_bytree=0.6 \n",
      "[CV]  subsample=0.7, reg_lambda=3, reg_alpha=0.5, n_estimators=250, min_child_weight=5, max_depth=2, learning_rate=0.1, gamma=0.1, colsample_bytree=0.6, score=-1.514, total=   0.1s\n",
      "[CV] subsample=0.7, reg_lambda=3, reg_alpha=0.5, n_estimators=250, min_child_weight=5, max_depth=2, learning_rate=0.1, gamma=0.1, colsample_bytree=0.6 \n",
      "[CV]  subsample=0.7, reg_lambda=3, reg_alpha=0.5, n_estimators=250, min_child_weight=5, max_depth=2, learning_rate=0.1, gamma=0.1, colsample_bytree=0.6, score=-2.324, total=   0.1s\n",
      "[CV] subsample=0.7, reg_lambda=3, reg_alpha=0.5, n_estimators=250, min_child_weight=5, max_depth=2, learning_rate=0.1, gamma=0.1, colsample_bytree=0.6 \n",
      "[CV]  subsample=0.7, reg_lambda=3, reg_alpha=0.5, n_estimators=250, min_child_weight=5, max_depth=2, learning_rate=0.1, gamma=0.1, colsample_bytree=0.6, score=-2.652, total=   0.1s\n",
      "[CV] subsample=0.7, reg_lambda=3, reg_alpha=0.5, n_estimators=250, min_child_weight=5, max_depth=2, learning_rate=0.1, gamma=0.1, colsample_bytree=0.6 \n",
      "[CV]  subsample=0.7, reg_lambda=3, reg_alpha=0.5, n_estimators=250, min_child_weight=5, max_depth=2, learning_rate=0.1, gamma=0.1, colsample_bytree=0.6, score=-2.007, total=   0.1s\n",
      "[CV] subsample=0.7, reg_lambda=4.5, reg_alpha=0.5, n_estimators=1000, min_child_weight=3, max_depth=10, learning_rate=0.1, gamma=1.5, colsample_bytree=0.8 \n",
      "[CV]  subsample=0.7, reg_lambda=4.5, reg_alpha=0.5, n_estimators=1000, min_child_weight=3, max_depth=10, learning_rate=0.1, gamma=1.5, colsample_bytree=0.8, score=-2.363, total=   1.2s\n",
      "[CV] subsample=0.7, reg_lambda=4.5, reg_alpha=0.5, n_estimators=1000, min_child_weight=3, max_depth=10, learning_rate=0.1, gamma=1.5, colsample_bytree=0.8 \n",
      "[CV]  subsample=0.7, reg_lambda=4.5, reg_alpha=0.5, n_estimators=1000, min_child_weight=3, max_depth=10, learning_rate=0.1, gamma=1.5, colsample_bytree=0.8, score=-2.709, total=   1.3s\n",
      "[CV] subsample=0.7, reg_lambda=4.5, reg_alpha=0.5, n_estimators=1000, min_child_weight=3, max_depth=10, learning_rate=0.1, gamma=1.5, colsample_bytree=0.8 \n",
      "[CV]  subsample=0.7, reg_lambda=4.5, reg_alpha=0.5, n_estimators=1000, min_child_weight=3, max_depth=10, learning_rate=0.1, gamma=1.5, colsample_bytree=0.8, score=-1.320, total=   1.1s\n",
      "[CV] subsample=0.7, reg_lambda=4.5, reg_alpha=0.5, n_estimators=1000, min_child_weight=3, max_depth=10, learning_rate=0.1, gamma=1.5, colsample_bytree=0.8 \n",
      "[CV]  subsample=0.7, reg_lambda=4.5, reg_alpha=0.5, n_estimators=1000, min_child_weight=3, max_depth=10, learning_rate=0.1, gamma=1.5, colsample_bytree=0.8, score=-1.886, total=   1.2s\n",
      "[CV] subsample=0.7, reg_lambda=4.5, reg_alpha=0.5, n_estimators=1000, min_child_weight=3, max_depth=10, learning_rate=0.1, gamma=1.5, colsample_bytree=0.8 \n",
      "[CV]  subsample=0.7, reg_lambda=4.5, reg_alpha=0.5, n_estimators=1000, min_child_weight=3, max_depth=10, learning_rate=0.1, gamma=1.5, colsample_bytree=0.8, score=-2.394, total=   1.3s\n",
      "[CV] subsample=0.7, reg_lambda=4.5, reg_alpha=0.5, n_estimators=1000, min_child_weight=3, max_depth=10, learning_rate=0.1, gamma=1.5, colsample_bytree=0.8 \n",
      "[CV]  subsample=0.7, reg_lambda=4.5, reg_alpha=0.5, n_estimators=1000, min_child_weight=3, max_depth=10, learning_rate=0.1, gamma=1.5, colsample_bytree=0.8, score=-2.117, total=   1.2s\n",
      "[CV] subsample=0.7, reg_lambda=4.5, reg_alpha=0.5, n_estimators=1000, min_child_weight=3, max_depth=10, learning_rate=0.1, gamma=1.5, colsample_bytree=0.8 \n",
      "[CV]  subsample=0.7, reg_lambda=4.5, reg_alpha=0.5, n_estimators=1000, min_child_weight=3, max_depth=10, learning_rate=0.1, gamma=1.5, colsample_bytree=0.8, score=-1.672, total=   1.2s\n",
      "[CV] subsample=0.7, reg_lambda=4.5, reg_alpha=0.5, n_estimators=1000, min_child_weight=3, max_depth=10, learning_rate=0.1, gamma=1.5, colsample_bytree=0.8 \n",
      "[CV]  subsample=0.7, reg_lambda=4.5, reg_alpha=0.5, n_estimators=1000, min_child_weight=3, max_depth=10, learning_rate=0.1, gamma=1.5, colsample_bytree=0.8, score=-2.549, total=   1.4s\n",
      "[CV] subsample=0.7, reg_lambda=4.5, reg_alpha=0.5, n_estimators=1000, min_child_weight=3, max_depth=10, learning_rate=0.1, gamma=1.5, colsample_bytree=0.8 \n",
      "[CV]  subsample=0.7, reg_lambda=4.5, reg_alpha=0.5, n_estimators=1000, min_child_weight=3, max_depth=10, learning_rate=0.1, gamma=1.5, colsample_bytree=0.8, score=-2.630, total=   1.2s\n",
      "[CV] subsample=0.7, reg_lambda=4.5, reg_alpha=0.5, n_estimators=1000, min_child_weight=3, max_depth=10, learning_rate=0.1, gamma=1.5, colsample_bytree=0.8 \n",
      "[CV]  subsample=0.7, reg_lambda=4.5, reg_alpha=0.5, n_estimators=1000, min_child_weight=3, max_depth=10, learning_rate=0.1, gamma=1.5, colsample_bytree=0.8, score=-2.063, total=   1.3s\n",
      "[CV] subsample=0.5, reg_lambda=4.5, reg_alpha=0.5, n_estimators=1000, min_child_weight=3, max_depth=7, learning_rate=0.01, gamma=2, colsample_bytree=0.8 \n",
      "[CV]  subsample=0.5, reg_lambda=4.5, reg_alpha=0.5, n_estimators=1000, min_child_weight=3, max_depth=7, learning_rate=0.01, gamma=2, colsample_bytree=0.8, score=-2.124, total=   0.6s\n",
      "[CV] subsample=0.5, reg_lambda=4.5, reg_alpha=0.5, n_estimators=1000, min_child_weight=3, max_depth=7, learning_rate=0.01, gamma=2, colsample_bytree=0.8 \n",
      "[CV]  subsample=0.5, reg_lambda=4.5, reg_alpha=0.5, n_estimators=1000, min_child_weight=3, max_depth=7, learning_rate=0.01, gamma=2, colsample_bytree=0.8, score=-2.549, total=   0.7s\n",
      "[CV] subsample=0.5, reg_lambda=4.5, reg_alpha=0.5, n_estimators=1000, min_child_weight=3, max_depth=7, learning_rate=0.01, gamma=2, colsample_bytree=0.8 \n",
      "[CV]  subsample=0.5, reg_lambda=4.5, reg_alpha=0.5, n_estimators=1000, min_child_weight=3, max_depth=7, learning_rate=0.01, gamma=2, colsample_bytree=0.8, score=-1.450, total=   0.9s\n",
      "[CV] subsample=0.5, reg_lambda=4.5, reg_alpha=0.5, n_estimators=1000, min_child_weight=3, max_depth=7, learning_rate=0.01, gamma=2, colsample_bytree=0.8 \n",
      "[CV]  subsample=0.5, reg_lambda=4.5, reg_alpha=0.5, n_estimators=1000, min_child_weight=3, max_depth=7, learning_rate=0.01, gamma=2, colsample_bytree=0.8, score=-1.980, total=   0.8s\n",
      "[CV] subsample=0.5, reg_lambda=4.5, reg_alpha=0.5, n_estimators=1000, min_child_weight=3, max_depth=7, learning_rate=0.01, gamma=2, colsample_bytree=0.8 \n",
      "[CV]  subsample=0.5, reg_lambda=4.5, reg_alpha=0.5, n_estimators=1000, min_child_weight=3, max_depth=7, learning_rate=0.01, gamma=2, colsample_bytree=0.8, score=-2.376, total=   0.8s\n",
      "[CV] subsample=0.5, reg_lambda=4.5, reg_alpha=0.5, n_estimators=1000, min_child_weight=3, max_depth=7, learning_rate=0.01, gamma=2, colsample_bytree=0.8 \n",
      "[CV]  subsample=0.5, reg_lambda=4.5, reg_alpha=0.5, n_estimators=1000, min_child_weight=3, max_depth=7, learning_rate=0.01, gamma=2, colsample_bytree=0.8, score=-2.221, total=   0.7s\n",
      "[CV] subsample=0.5, reg_lambda=4.5, reg_alpha=0.5, n_estimators=1000, min_child_weight=3, max_depth=7, learning_rate=0.01, gamma=2, colsample_bytree=0.8 \n",
      "[CV]  subsample=0.5, reg_lambda=4.5, reg_alpha=0.5, n_estimators=1000, min_child_weight=3, max_depth=7, learning_rate=0.01, gamma=2, colsample_bytree=0.8, score=-1.476, total=   0.7s\n",
      "[CV] subsample=0.5, reg_lambda=4.5, reg_alpha=0.5, n_estimators=1000, min_child_weight=3, max_depth=7, learning_rate=0.01, gamma=2, colsample_bytree=0.8 \n"
     ]
    },
    {
     "name": "stdout",
     "output_type": "stream",
     "text": [
      "[CV]  subsample=0.5, reg_lambda=4.5, reg_alpha=0.5, n_estimators=1000, min_child_weight=3, max_depth=7, learning_rate=0.01, gamma=2, colsample_bytree=0.8, score=-2.349, total=   0.7s\n",
      "[CV] subsample=0.5, reg_lambda=4.5, reg_alpha=0.5, n_estimators=1000, min_child_weight=3, max_depth=7, learning_rate=0.01, gamma=2, colsample_bytree=0.8 \n",
      "[CV]  subsample=0.5, reg_lambda=4.5, reg_alpha=0.5, n_estimators=1000, min_child_weight=3, max_depth=7, learning_rate=0.01, gamma=2, colsample_bytree=0.8, score=-2.587, total=   0.8s\n",
      "[CV] subsample=0.5, reg_lambda=4.5, reg_alpha=0.5, n_estimators=1000, min_child_weight=3, max_depth=7, learning_rate=0.01, gamma=2, colsample_bytree=0.8 \n",
      "[CV]  subsample=0.5, reg_lambda=4.5, reg_alpha=0.5, n_estimators=1000, min_child_weight=3, max_depth=7, learning_rate=0.01, gamma=2, colsample_bytree=0.8, score=-1.976, total=   0.8s\n",
      "[CV] subsample=0.5, reg_lambda=1.5, reg_alpha=0, n_estimators=1000, min_child_weight=3, max_depth=7, learning_rate=0.1, gamma=1.5, colsample_bytree=1.0 \n",
      "[CV]  subsample=0.5, reg_lambda=1.5, reg_alpha=0, n_estimators=1000, min_child_weight=3, max_depth=7, learning_rate=0.1, gamma=1.5, colsample_bytree=1.0, score=-2.255, total=   0.9s\n",
      "[CV] subsample=0.5, reg_lambda=1.5, reg_alpha=0, n_estimators=1000, min_child_weight=3, max_depth=7, learning_rate=0.1, gamma=1.5, colsample_bytree=1.0 \n",
      "[CV]  subsample=0.5, reg_lambda=1.5, reg_alpha=0, n_estimators=1000, min_child_weight=3, max_depth=7, learning_rate=0.1, gamma=1.5, colsample_bytree=1.0, score=-2.928, total=   0.9s\n",
      "[CV] subsample=0.5, reg_lambda=1.5, reg_alpha=0, n_estimators=1000, min_child_weight=3, max_depth=7, learning_rate=0.1, gamma=1.5, colsample_bytree=1.0 \n",
      "[CV]  subsample=0.5, reg_lambda=1.5, reg_alpha=0, n_estimators=1000, min_child_weight=3, max_depth=7, learning_rate=0.1, gamma=1.5, colsample_bytree=1.0, score=-1.417, total=   1.0s\n",
      "[CV] subsample=0.5, reg_lambda=1.5, reg_alpha=0, n_estimators=1000, min_child_weight=3, max_depth=7, learning_rate=0.1, gamma=1.5, colsample_bytree=1.0 \n",
      "[CV]  subsample=0.5, reg_lambda=1.5, reg_alpha=0, n_estimators=1000, min_child_weight=3, max_depth=7, learning_rate=0.1, gamma=1.5, colsample_bytree=1.0, score=-2.106, total=   1.0s\n",
      "[CV] subsample=0.5, reg_lambda=1.5, reg_alpha=0, n_estimators=1000, min_child_weight=3, max_depth=7, learning_rate=0.1, gamma=1.5, colsample_bytree=1.0 \n",
      "[CV]  subsample=0.5, reg_lambda=1.5, reg_alpha=0, n_estimators=1000, min_child_weight=3, max_depth=7, learning_rate=0.1, gamma=1.5, colsample_bytree=1.0, score=-2.473, total=   1.1s\n",
      "[CV] subsample=0.5, reg_lambda=1.5, reg_alpha=0, n_estimators=1000, min_child_weight=3, max_depth=7, learning_rate=0.1, gamma=1.5, colsample_bytree=1.0 \n",
      "[CV]  subsample=0.5, reg_lambda=1.5, reg_alpha=0, n_estimators=1000, min_child_weight=3, max_depth=7, learning_rate=0.1, gamma=1.5, colsample_bytree=1.0, score=-2.228, total=   1.1s\n",
      "[CV] subsample=0.5, reg_lambda=1.5, reg_alpha=0, n_estimators=1000, min_child_weight=3, max_depth=7, learning_rate=0.1, gamma=1.5, colsample_bytree=1.0 \n",
      "[CV]  subsample=0.5, reg_lambda=1.5, reg_alpha=0, n_estimators=1000, min_child_weight=3, max_depth=7, learning_rate=0.1, gamma=1.5, colsample_bytree=1.0, score=-1.678, total=   1.1s\n",
      "[CV] subsample=0.5, reg_lambda=1.5, reg_alpha=0, n_estimators=1000, min_child_weight=3, max_depth=7, learning_rate=0.1, gamma=1.5, colsample_bytree=1.0 \n",
      "[CV]  subsample=0.5, reg_lambda=1.5, reg_alpha=0, n_estimators=1000, min_child_weight=3, max_depth=7, learning_rate=0.1, gamma=1.5, colsample_bytree=1.0, score=-2.558, total=   1.1s\n",
      "[CV] subsample=0.5, reg_lambda=1.5, reg_alpha=0, n_estimators=1000, min_child_weight=3, max_depth=7, learning_rate=0.1, gamma=1.5, colsample_bytree=1.0 \n",
      "[CV]  subsample=0.5, reg_lambda=1.5, reg_alpha=0, n_estimators=1000, min_child_weight=3, max_depth=7, learning_rate=0.1, gamma=1.5, colsample_bytree=1.0, score=-2.803, total=   1.2s\n",
      "[CV] subsample=0.5, reg_lambda=1.5, reg_alpha=0, n_estimators=1000, min_child_weight=3, max_depth=7, learning_rate=0.1, gamma=1.5, colsample_bytree=1.0 \n",
      "[CV]  subsample=0.5, reg_lambda=1.5, reg_alpha=0, n_estimators=1000, min_child_weight=3, max_depth=7, learning_rate=0.1, gamma=1.5, colsample_bytree=1.0, score=-2.028, total=   1.1s\n",
      "[CV] subsample=0.7, reg_lambda=1, reg_alpha=0, n_estimators=100, min_child_weight=7, max_depth=7, learning_rate=0.01, gamma=2, colsample_bytree=1.0 \n",
      "[CV]  subsample=0.7, reg_lambda=1, reg_alpha=0, n_estimators=100, min_child_weight=7, max_depth=7, learning_rate=0.01, gamma=2, colsample_bytree=1.0, score=-6.885, total=   0.1s\n",
      "[CV] subsample=0.7, reg_lambda=1, reg_alpha=0, n_estimators=100, min_child_weight=7, max_depth=7, learning_rate=0.01, gamma=2, colsample_bytree=1.0 \n",
      "[CV]  subsample=0.7, reg_lambda=1, reg_alpha=0, n_estimators=100, min_child_weight=7, max_depth=7, learning_rate=0.01, gamma=2, colsample_bytree=1.0, score=-9.933, total=   0.1s\n",
      "[CV] subsample=0.7, reg_lambda=1, reg_alpha=0, n_estimators=100, min_child_weight=7, max_depth=7, learning_rate=0.01, gamma=2, colsample_bytree=1.0 \n",
      "[CV]  subsample=0.7, reg_lambda=1, reg_alpha=0, n_estimators=100, min_child_weight=7, max_depth=7, learning_rate=0.01, gamma=2, colsample_bytree=1.0, score=-7.838, total=   0.1s\n",
      "[CV] subsample=0.7, reg_lambda=1, reg_alpha=0, n_estimators=100, min_child_weight=7, max_depth=7, learning_rate=0.01, gamma=2, colsample_bytree=1.0 \n",
      "[CV]  subsample=0.7, reg_lambda=1, reg_alpha=0, n_estimators=100, min_child_weight=7, max_depth=7, learning_rate=0.01, gamma=2, colsample_bytree=1.0, score=-7.870, total=   0.3s\n",
      "[CV] subsample=0.7, reg_lambda=1, reg_alpha=0, n_estimators=100, min_child_weight=7, max_depth=7, learning_rate=0.01, gamma=2, colsample_bytree=1.0 \n",
      "[CV]  subsample=0.7, reg_lambda=1, reg_alpha=0, n_estimators=100, min_child_weight=7, max_depth=7, learning_rate=0.01, gamma=2, colsample_bytree=1.0, score=-8.887, total=   0.2s\n",
      "[CV] subsample=0.7, reg_lambda=1, reg_alpha=0, n_estimators=100, min_child_weight=7, max_depth=7, learning_rate=0.01, gamma=2, colsample_bytree=1.0 \n",
      "[CV]  subsample=0.7, reg_lambda=1, reg_alpha=0, n_estimators=100, min_child_weight=7, max_depth=7, learning_rate=0.01, gamma=2, colsample_bytree=1.0, score=-8.754, total=   0.1s\n",
      "[CV] subsample=0.7, reg_lambda=1, reg_alpha=0, n_estimators=100, min_child_weight=7, max_depth=7, learning_rate=0.01, gamma=2, colsample_bytree=1.0 \n",
      "[CV]  subsample=0.7, reg_lambda=1, reg_alpha=0, n_estimators=100, min_child_weight=7, max_depth=7, learning_rate=0.01, gamma=2, colsample_bytree=1.0, score=-7.558, total=   0.1s\n",
      "[CV] subsample=0.7, reg_lambda=1, reg_alpha=0, n_estimators=100, min_child_weight=7, max_depth=7, learning_rate=0.01, gamma=2, colsample_bytree=1.0 \n",
      "[CV]  subsample=0.7, reg_lambda=1, reg_alpha=0, n_estimators=100, min_child_weight=7, max_depth=7, learning_rate=0.01, gamma=2, colsample_bytree=1.0, score=-8.785, total=   0.1s\n",
      "[CV] subsample=0.7, reg_lambda=1, reg_alpha=0, n_estimators=100, min_child_weight=7, max_depth=7, learning_rate=0.01, gamma=2, colsample_bytree=1.0 \n",
      "[CV]  subsample=0.7, reg_lambda=1, reg_alpha=0, n_estimators=100, min_child_weight=7, max_depth=7, learning_rate=0.01, gamma=2, colsample_bytree=1.0, score=-8.425, total=   0.1s\n",
      "[CV] subsample=0.7, reg_lambda=1, reg_alpha=0, n_estimators=100, min_child_weight=7, max_depth=7, learning_rate=0.01, gamma=2, colsample_bytree=1.0 \n",
      "[CV]  subsample=0.7, reg_lambda=1, reg_alpha=0, n_estimators=100, min_child_weight=7, max_depth=7, learning_rate=0.01, gamma=2, colsample_bytree=1.0, score=-8.658, total=   0.1s\n",
      "[CV] subsample=0.5, reg_lambda=4.5, reg_alpha=0.5, n_estimators=250, min_child_weight=1, max_depth=10, learning_rate=0.01, gamma=0.1, colsample_bytree=1.0 \n",
      "[CV]  subsample=0.5, reg_lambda=4.5, reg_alpha=0.5, n_estimators=250, min_child_weight=1, max_depth=10, learning_rate=0.01, gamma=0.1, colsample_bytree=1.0, score=-2.842, total=   0.3s\n",
      "[CV] subsample=0.5, reg_lambda=4.5, reg_alpha=0.5, n_estimators=250, min_child_weight=1, max_depth=10, learning_rate=0.01, gamma=0.1, colsample_bytree=1.0 \n",
      "[CV]  subsample=0.5, reg_lambda=4.5, reg_alpha=0.5, n_estimators=250, min_child_weight=1, max_depth=10, learning_rate=0.01, gamma=0.1, colsample_bytree=1.0, score=-4.265, total=   0.3s\n",
      "[CV] subsample=0.5, reg_lambda=4.5, reg_alpha=0.5, n_estimators=250, min_child_weight=1, max_depth=10, learning_rate=0.01, gamma=0.1, colsample_bytree=1.0 \n"
     ]
    },
    {
     "name": "stdout",
     "output_type": "stream",
     "text": [
      "[CV]  subsample=0.5, reg_lambda=4.5, reg_alpha=0.5, n_estimators=250, min_child_weight=1, max_depth=10, learning_rate=0.01, gamma=0.1, colsample_bytree=1.0, score=-2.262, total=   0.4s\n",
      "[CV] subsample=0.5, reg_lambda=4.5, reg_alpha=0.5, n_estimators=250, min_child_weight=1, max_depth=10, learning_rate=0.01, gamma=0.1, colsample_bytree=1.0 \n",
      "[CV]  subsample=0.5, reg_lambda=4.5, reg_alpha=0.5, n_estimators=250, min_child_weight=1, max_depth=10, learning_rate=0.01, gamma=0.1, colsample_bytree=1.0, score=-3.222, total=   0.3s\n",
      "[CV] subsample=0.5, reg_lambda=4.5, reg_alpha=0.5, n_estimators=250, min_child_weight=1, max_depth=10, learning_rate=0.01, gamma=0.1, colsample_bytree=1.0 \n",
      "[CV]  subsample=0.5, reg_lambda=4.5, reg_alpha=0.5, n_estimators=250, min_child_weight=1, max_depth=10, learning_rate=0.01, gamma=0.1, colsample_bytree=1.0, score=-3.555, total=   0.2s\n",
      "[CV] subsample=0.5, reg_lambda=4.5, reg_alpha=0.5, n_estimators=250, min_child_weight=1, max_depth=10, learning_rate=0.01, gamma=0.1, colsample_bytree=1.0 \n",
      "[CV]  subsample=0.5, reg_lambda=4.5, reg_alpha=0.5, n_estimators=250, min_child_weight=1, max_depth=10, learning_rate=0.01, gamma=0.1, colsample_bytree=1.0, score=-3.513, total=   0.3s\n",
      "[CV] subsample=0.5, reg_lambda=4.5, reg_alpha=0.5, n_estimators=250, min_child_weight=1, max_depth=10, learning_rate=0.01, gamma=0.1, colsample_bytree=1.0 \n",
      "[CV]  subsample=0.5, reg_lambda=4.5, reg_alpha=0.5, n_estimators=250, min_child_weight=1, max_depth=10, learning_rate=0.01, gamma=0.1, colsample_bytree=1.0, score=-2.481, total=   0.3s\n",
      "[CV] subsample=0.5, reg_lambda=4.5, reg_alpha=0.5, n_estimators=250, min_child_weight=1, max_depth=10, learning_rate=0.01, gamma=0.1, colsample_bytree=1.0 \n",
      "[CV]  subsample=0.5, reg_lambda=4.5, reg_alpha=0.5, n_estimators=250, min_child_weight=1, max_depth=10, learning_rate=0.01, gamma=0.1, colsample_bytree=1.0, score=-3.354, total=   0.4s\n",
      "[CV] subsample=0.5, reg_lambda=4.5, reg_alpha=0.5, n_estimators=250, min_child_weight=1, max_depth=10, learning_rate=0.01, gamma=0.1, colsample_bytree=1.0 \n",
      "[CV]  subsample=0.5, reg_lambda=4.5, reg_alpha=0.5, n_estimators=250, min_child_weight=1, max_depth=10, learning_rate=0.01, gamma=0.1, colsample_bytree=1.0, score=-3.490, total=   0.3s\n",
      "[CV] subsample=0.5, reg_lambda=4.5, reg_alpha=0.5, n_estimators=250, min_child_weight=1, max_depth=10, learning_rate=0.01, gamma=0.1, colsample_bytree=1.0 \n",
      "[CV]  subsample=0.5, reg_lambda=4.5, reg_alpha=0.5, n_estimators=250, min_child_weight=1, max_depth=10, learning_rate=0.01, gamma=0.1, colsample_bytree=1.0, score=-3.541, total=   0.3s\n",
      "[CV] subsample=0.4, reg_lambda=4.5, reg_alpha=0, n_estimators=1000, min_child_weight=1, max_depth=7, learning_rate=0.1, gamma=0.01, colsample_bytree=0.6 \n",
      "[CV]  subsample=0.4, reg_lambda=4.5, reg_alpha=0, n_estimators=1000, min_child_weight=1, max_depth=7, learning_rate=0.1, gamma=0.01, colsample_bytree=0.6, score=-2.039, total=   1.5s\n",
      "[CV] subsample=0.4, reg_lambda=4.5, reg_alpha=0, n_estimators=1000, min_child_weight=1, max_depth=7, learning_rate=0.1, gamma=0.01, colsample_bytree=0.6 \n",
      "[CV]  subsample=0.4, reg_lambda=4.5, reg_alpha=0, n_estimators=1000, min_child_weight=1, max_depth=7, learning_rate=0.1, gamma=0.01, colsample_bytree=0.6, score=-2.753, total=   1.5s\n",
      "[CV] subsample=0.4, reg_lambda=4.5, reg_alpha=0, n_estimators=1000, min_child_weight=1, max_depth=7, learning_rate=0.1, gamma=0.01, colsample_bytree=0.6 \n",
      "[CV]  subsample=0.4, reg_lambda=4.5, reg_alpha=0, n_estimators=1000, min_child_weight=1, max_depth=7, learning_rate=0.1, gamma=0.01, colsample_bytree=0.6, score=-1.402, total=   1.5s\n",
      "[CV] subsample=0.4, reg_lambda=4.5, reg_alpha=0, n_estimators=1000, min_child_weight=1, max_depth=7, learning_rate=0.1, gamma=0.01, colsample_bytree=0.6 \n",
      "[CV]  subsample=0.4, reg_lambda=4.5, reg_alpha=0, n_estimators=1000, min_child_weight=1, max_depth=7, learning_rate=0.1, gamma=0.01, colsample_bytree=0.6, score=-1.960, total=   1.7s\n",
      "[CV] subsample=0.4, reg_lambda=4.5, reg_alpha=0, n_estimators=1000, min_child_weight=1, max_depth=7, learning_rate=0.1, gamma=0.01, colsample_bytree=0.6 \n",
      "[CV]  subsample=0.4, reg_lambda=4.5, reg_alpha=0, n_estimators=1000, min_child_weight=1, max_depth=7, learning_rate=0.1, gamma=0.01, colsample_bytree=0.6, score=-2.348, total=   1.6s\n",
      "[CV] subsample=0.4, reg_lambda=4.5, reg_alpha=0, n_estimators=1000, min_child_weight=1, max_depth=7, learning_rate=0.1, gamma=0.01, colsample_bytree=0.6 \n",
      "[CV]  subsample=0.4, reg_lambda=4.5, reg_alpha=0, n_estimators=1000, min_child_weight=1, max_depth=7, learning_rate=0.1, gamma=0.01, colsample_bytree=0.6, score=-2.387, total=   1.6s\n",
      "[CV] subsample=0.4, reg_lambda=4.5, reg_alpha=0, n_estimators=1000, min_child_weight=1, max_depth=7, learning_rate=0.1, gamma=0.01, colsample_bytree=0.6 \n",
      "[CV]  subsample=0.4, reg_lambda=4.5, reg_alpha=0, n_estimators=1000, min_child_weight=1, max_depth=7, learning_rate=0.1, gamma=0.01, colsample_bytree=0.6, score=-1.773, total=   1.6s\n",
      "[CV] subsample=0.4, reg_lambda=4.5, reg_alpha=0, n_estimators=1000, min_child_weight=1, max_depth=7, learning_rate=0.1, gamma=0.01, colsample_bytree=0.6 \n",
      "[CV]  subsample=0.4, reg_lambda=4.5, reg_alpha=0, n_estimators=1000, min_child_weight=1, max_depth=7, learning_rate=0.1, gamma=0.01, colsample_bytree=0.6, score=-2.978, total=   1.6s\n",
      "[CV] subsample=0.4, reg_lambda=4.5, reg_alpha=0, n_estimators=1000, min_child_weight=1, max_depth=7, learning_rate=0.1, gamma=0.01, colsample_bytree=0.6 \n",
      "[CV]  subsample=0.4, reg_lambda=4.5, reg_alpha=0, n_estimators=1000, min_child_weight=1, max_depth=7, learning_rate=0.1, gamma=0.01, colsample_bytree=0.6, score=-2.632, total=   2.2s\n",
      "[CV] subsample=0.4, reg_lambda=4.5, reg_alpha=0, n_estimators=1000, min_child_weight=1, max_depth=7, learning_rate=0.1, gamma=0.01, colsample_bytree=0.6 \n",
      "[CV]  subsample=0.4, reg_lambda=4.5, reg_alpha=0, n_estimators=1000, min_child_weight=1, max_depth=7, learning_rate=0.1, gamma=0.01, colsample_bytree=0.6, score=-2.200, total=   2.8s\n",
      "[CV] subsample=0.6, reg_lambda=2, reg_alpha=1, n_estimators=100, min_child_weight=7, max_depth=2, learning_rate=0.01, gamma=0.1, colsample_bytree=0.6 \n",
      "[CV]  subsample=0.6, reg_lambda=2, reg_alpha=1, n_estimators=100, min_child_weight=7, max_depth=2, learning_rate=0.01, gamma=0.1, colsample_bytree=0.6, score=-6.613, total=   0.1s\n",
      "[CV] subsample=0.6, reg_lambda=2, reg_alpha=1, n_estimators=100, min_child_weight=7, max_depth=2, learning_rate=0.01, gamma=0.1, colsample_bytree=0.6 \n",
      "[CV]  subsample=0.6, reg_lambda=2, reg_alpha=1, n_estimators=100, min_child_weight=7, max_depth=2, learning_rate=0.01, gamma=0.1, colsample_bytree=0.6, score=-10.286, total=   0.1s\n",
      "[CV] subsample=0.6, reg_lambda=2, reg_alpha=1, n_estimators=100, min_child_weight=7, max_depth=2, learning_rate=0.01, gamma=0.1, colsample_bytree=0.6 \n",
      "[CV]  subsample=0.6, reg_lambda=2, reg_alpha=1, n_estimators=100, min_child_weight=7, max_depth=2, learning_rate=0.01, gamma=0.1, colsample_bytree=0.6, score=-7.764, total=   0.1s\n",
      "[CV] subsample=0.6, reg_lambda=2, reg_alpha=1, n_estimators=100, min_child_weight=7, max_depth=2, learning_rate=0.01, gamma=0.1, colsample_bytree=0.6 \n",
      "[CV]  subsample=0.6, reg_lambda=2, reg_alpha=1, n_estimators=100, min_child_weight=7, max_depth=2, learning_rate=0.01, gamma=0.1, colsample_bytree=0.6, score=-7.844, total=   0.1s\n",
      "[CV] subsample=0.6, reg_lambda=2, reg_alpha=1, n_estimators=100, min_child_weight=7, max_depth=2, learning_rate=0.01, gamma=0.1, colsample_bytree=0.6 \n",
      "[CV]  subsample=0.6, reg_lambda=2, reg_alpha=1, n_estimators=100, min_child_weight=7, max_depth=2, learning_rate=0.01, gamma=0.1, colsample_bytree=0.6, score=-8.775, total=   0.1s\n",
      "[CV] subsample=0.6, reg_lambda=2, reg_alpha=1, n_estimators=100, min_child_weight=7, max_depth=2, learning_rate=0.01, gamma=0.1, colsample_bytree=0.6 \n",
      "[CV]  subsample=0.6, reg_lambda=2, reg_alpha=1, n_estimators=100, min_child_weight=7, max_depth=2, learning_rate=0.01, gamma=0.1, colsample_bytree=0.6, score=-9.114, total=   0.1s\n",
      "[CV] subsample=0.6, reg_lambda=2, reg_alpha=1, n_estimators=100, min_child_weight=7, max_depth=2, learning_rate=0.01, gamma=0.1, colsample_bytree=0.6 \n",
      "[CV]  subsample=0.6, reg_lambda=2, reg_alpha=1, n_estimators=100, min_child_weight=7, max_depth=2, learning_rate=0.01, gamma=0.1, colsample_bytree=0.6, score=-7.561, total=   0.1s\n",
      "[CV] subsample=0.6, reg_lambda=2, reg_alpha=1, n_estimators=100, min_child_weight=7, max_depth=2, learning_rate=0.01, gamma=0.1, colsample_bytree=0.6 \n"
     ]
    },
    {
     "name": "stdout",
     "output_type": "stream",
     "text": [
      "[CV]  subsample=0.6, reg_lambda=2, reg_alpha=1, n_estimators=100, min_child_weight=7, max_depth=2, learning_rate=0.01, gamma=0.1, colsample_bytree=0.6, score=-8.912, total=   0.1s\n",
      "[CV] subsample=0.6, reg_lambda=2, reg_alpha=1, n_estimators=100, min_child_weight=7, max_depth=2, learning_rate=0.01, gamma=0.1, colsample_bytree=0.6 \n",
      "[CV]  subsample=0.6, reg_lambda=2, reg_alpha=1, n_estimators=100, min_child_weight=7, max_depth=2, learning_rate=0.01, gamma=0.1, colsample_bytree=0.6, score=-8.437, total=   0.1s\n",
      "[CV] subsample=0.6, reg_lambda=2, reg_alpha=1, n_estimators=100, min_child_weight=7, max_depth=2, learning_rate=0.01, gamma=0.1, colsample_bytree=0.6 \n",
      "[CV]  subsample=0.6, reg_lambda=2, reg_alpha=1, n_estimators=100, min_child_weight=7, max_depth=2, learning_rate=0.01, gamma=0.1, colsample_bytree=0.6, score=-8.875, total=   0.1s\n",
      "[CV] subsample=0.4, reg_lambda=4.5, reg_alpha=0.5, n_estimators=1000, min_child_weight=5, max_depth=7, learning_rate=0.1, gamma=0.1, colsample_bytree=0.6 \n",
      "[CV]  subsample=0.4, reg_lambda=4.5, reg_alpha=0.5, n_estimators=1000, min_child_weight=5, max_depth=7, learning_rate=0.1, gamma=0.1, colsample_bytree=0.6, score=-1.869, total=   1.3s\n",
      "[CV] subsample=0.4, reg_lambda=4.5, reg_alpha=0.5, n_estimators=1000, min_child_weight=5, max_depth=7, learning_rate=0.1, gamma=0.1, colsample_bytree=0.6 \n",
      "[CV]  subsample=0.4, reg_lambda=4.5, reg_alpha=0.5, n_estimators=1000, min_child_weight=5, max_depth=7, learning_rate=0.1, gamma=0.1, colsample_bytree=0.6, score=-2.557, total=   0.9s\n",
      "[CV] subsample=0.4, reg_lambda=4.5, reg_alpha=0.5, n_estimators=1000, min_child_weight=5, max_depth=7, learning_rate=0.1, gamma=0.1, colsample_bytree=0.6 \n",
      "[CV]  subsample=0.4, reg_lambda=4.5, reg_alpha=0.5, n_estimators=1000, min_child_weight=5, max_depth=7, learning_rate=0.1, gamma=0.1, colsample_bytree=0.6, score=-1.734, total=   0.9s\n",
      "[CV] subsample=0.4, reg_lambda=4.5, reg_alpha=0.5, n_estimators=1000, min_child_weight=5, max_depth=7, learning_rate=0.1, gamma=0.1, colsample_bytree=0.6 \n",
      "[CV]  subsample=0.4, reg_lambda=4.5, reg_alpha=0.5, n_estimators=1000, min_child_weight=5, max_depth=7, learning_rate=0.1, gamma=0.1, colsample_bytree=0.6, score=-2.251, total=   1.1s\n",
      "[CV] subsample=0.4, reg_lambda=4.5, reg_alpha=0.5, n_estimators=1000, min_child_weight=5, max_depth=7, learning_rate=0.1, gamma=0.1, colsample_bytree=0.6 \n",
      "[CV]  subsample=0.4, reg_lambda=4.5, reg_alpha=0.5, n_estimators=1000, min_child_weight=5, max_depth=7, learning_rate=0.1, gamma=0.1, colsample_bytree=0.6, score=-2.220, total=   1.1s\n",
      "[CV] subsample=0.4, reg_lambda=4.5, reg_alpha=0.5, n_estimators=1000, min_child_weight=5, max_depth=7, learning_rate=0.1, gamma=0.1, colsample_bytree=0.6 \n",
      "[CV]  subsample=0.4, reg_lambda=4.5, reg_alpha=0.5, n_estimators=1000, min_child_weight=5, max_depth=7, learning_rate=0.1, gamma=0.1, colsample_bytree=0.6, score=-2.091, total=   1.0s\n",
      "[CV] subsample=0.4, reg_lambda=4.5, reg_alpha=0.5, n_estimators=1000, min_child_weight=5, max_depth=7, learning_rate=0.1, gamma=0.1, colsample_bytree=0.6 \n",
      "[CV]  subsample=0.4, reg_lambda=4.5, reg_alpha=0.5, n_estimators=1000, min_child_weight=5, max_depth=7, learning_rate=0.1, gamma=0.1, colsample_bytree=0.6, score=-1.556, total=   1.0s\n",
      "[CV] subsample=0.4, reg_lambda=4.5, reg_alpha=0.5, n_estimators=1000, min_child_weight=5, max_depth=7, learning_rate=0.1, gamma=0.1, colsample_bytree=0.6 \n",
      "[CV]  subsample=0.4, reg_lambda=4.5, reg_alpha=0.5, n_estimators=1000, min_child_weight=5, max_depth=7, learning_rate=0.1, gamma=0.1, colsample_bytree=0.6, score=-2.352, total=   0.8s\n",
      "[CV] subsample=0.4, reg_lambda=4.5, reg_alpha=0.5, n_estimators=1000, min_child_weight=5, max_depth=7, learning_rate=0.1, gamma=0.1, colsample_bytree=0.6 \n",
      "[CV]  subsample=0.4, reg_lambda=4.5, reg_alpha=0.5, n_estimators=1000, min_child_weight=5, max_depth=7, learning_rate=0.1, gamma=0.1, colsample_bytree=0.6, score=-2.765, total=   0.9s\n",
      "[CV] subsample=0.4, reg_lambda=4.5, reg_alpha=0.5, n_estimators=1000, min_child_weight=5, max_depth=7, learning_rate=0.1, gamma=0.1, colsample_bytree=0.6 \n",
      "[CV]  subsample=0.4, reg_lambda=4.5, reg_alpha=0.5, n_estimators=1000, min_child_weight=5, max_depth=7, learning_rate=0.1, gamma=0.1, colsample_bytree=0.6, score=-1.919, total=   0.8s\n",
      "[CV] subsample=0.6, reg_lambda=3, reg_alpha=0, n_estimators=250, min_child_weight=7, max_depth=10, learning_rate=0.001, gamma=2, colsample_bytree=0.3 \n",
      "[CV]  subsample=0.6, reg_lambda=3, reg_alpha=0, n_estimators=250, min_child_weight=7, max_depth=10, learning_rate=0.001, gamma=2, colsample_bytree=0.3, score=-14.471, total=   0.2s\n",
      "[CV] subsample=0.6, reg_lambda=3, reg_alpha=0, n_estimators=250, min_child_weight=7, max_depth=10, learning_rate=0.001, gamma=2, colsample_bytree=0.3 \n",
      "[CV]  subsample=0.6, reg_lambda=3, reg_alpha=0, n_estimators=250, min_child_weight=7, max_depth=10, learning_rate=0.001, gamma=2, colsample_bytree=0.3, score=-20.178, total=   0.1s\n",
      "[CV] subsample=0.6, reg_lambda=3, reg_alpha=0, n_estimators=250, min_child_weight=7, max_depth=10, learning_rate=0.001, gamma=2, colsample_bytree=0.3 \n",
      "[CV]  subsample=0.6, reg_lambda=3, reg_alpha=0, n_estimators=250, min_child_weight=7, max_depth=10, learning_rate=0.001, gamma=2, colsample_bytree=0.3, score=-16.517, total=   0.1s\n",
      "[CV] subsample=0.6, reg_lambda=3, reg_alpha=0, n_estimators=250, min_child_weight=7, max_depth=10, learning_rate=0.001, gamma=2, colsample_bytree=0.3 \n",
      "[CV]  subsample=0.6, reg_lambda=3, reg_alpha=0, n_estimators=250, min_child_weight=7, max_depth=10, learning_rate=0.001, gamma=2, colsample_bytree=0.3, score=-16.130, total=   0.1s\n",
      "[CV] subsample=0.6, reg_lambda=3, reg_alpha=0, n_estimators=250, min_child_weight=7, max_depth=10, learning_rate=0.001, gamma=2, colsample_bytree=0.3 \n",
      "[CV]  subsample=0.6, reg_lambda=3, reg_alpha=0, n_estimators=250, min_child_weight=7, max_depth=10, learning_rate=0.001, gamma=2, colsample_bytree=0.3, score=-17.225, total=   0.1s\n",
      "[CV] subsample=0.6, reg_lambda=3, reg_alpha=0, n_estimators=250, min_child_weight=7, max_depth=10, learning_rate=0.001, gamma=2, colsample_bytree=0.3 \n",
      "[CV]  subsample=0.6, reg_lambda=3, reg_alpha=0, n_estimators=250, min_child_weight=7, max_depth=10, learning_rate=0.001, gamma=2, colsample_bytree=0.3, score=-17.800, total=   0.1s\n",
      "[CV] subsample=0.6, reg_lambda=3, reg_alpha=0, n_estimators=250, min_child_weight=7, max_depth=10, learning_rate=0.001, gamma=2, colsample_bytree=0.3 \n",
      "[CV]  subsample=0.6, reg_lambda=3, reg_alpha=0, n_estimators=250, min_child_weight=7, max_depth=10, learning_rate=0.001, gamma=2, colsample_bytree=0.3, score=-16.777, total=   0.1s\n",
      "[CV] subsample=0.6, reg_lambda=3, reg_alpha=0, n_estimators=250, min_child_weight=7, max_depth=10, learning_rate=0.001, gamma=2, colsample_bytree=0.3 \n",
      "[CV]  subsample=0.6, reg_lambda=3, reg_alpha=0, n_estimators=250, min_child_weight=7, max_depth=10, learning_rate=0.001, gamma=2, colsample_bytree=0.3, score=-18.225, total=   0.1s\n",
      "[CV] subsample=0.6, reg_lambda=3, reg_alpha=0, n_estimators=250, min_child_weight=7, max_depth=10, learning_rate=0.001, gamma=2, colsample_bytree=0.3 \n",
      "[CV]  subsample=0.6, reg_lambda=3, reg_alpha=0, n_estimators=250, min_child_weight=7, max_depth=10, learning_rate=0.001, gamma=2, colsample_bytree=0.3, score=-16.868, total=   0.1s\n",
      "[CV] subsample=0.6, reg_lambda=3, reg_alpha=0, n_estimators=250, min_child_weight=7, max_depth=10, learning_rate=0.001, gamma=2, colsample_bytree=0.3 \n",
      "[CV]  subsample=0.6, reg_lambda=3, reg_alpha=0, n_estimators=250, min_child_weight=7, max_depth=10, learning_rate=0.001, gamma=2, colsample_bytree=0.3, score=-17.805, total=   0.1s\n",
      "[CV] subsample=0.2, reg_lambda=4.5, reg_alpha=0, n_estimators=250, min_child_weight=7, max_depth=4, learning_rate=0.01, gamma=0.3, colsample_bytree=0.3 \n",
      "[CV]  subsample=0.2, reg_lambda=4.5, reg_alpha=0, n_estimators=250, min_child_weight=7, max_depth=4, learning_rate=0.01, gamma=0.3, colsample_bytree=0.3, score=-2.998, total=   0.1s\n",
      "[CV] subsample=0.2, reg_lambda=4.5, reg_alpha=0, n_estimators=250, min_child_weight=7, max_depth=4, learning_rate=0.01, gamma=0.3, colsample_bytree=0.3 \n",
      "[CV]  subsample=0.2, reg_lambda=4.5, reg_alpha=0, n_estimators=250, min_child_weight=7, max_depth=4, learning_rate=0.01, gamma=0.3, colsample_bytree=0.3, score=-5.538, total=   0.2s\n",
      "[CV] subsample=0.2, reg_lambda=4.5, reg_alpha=0, n_estimators=250, min_child_weight=7, max_depth=4, learning_rate=0.01, gamma=0.3, colsample_bytree=0.3 \n",
      "[CV]  subsample=0.2, reg_lambda=4.5, reg_alpha=0, n_estimators=250, min_child_weight=7, max_depth=4, learning_rate=0.01, gamma=0.3, colsample_bytree=0.3, score=-2.754, total=   0.1s\n",
      "[CV] subsample=0.2, reg_lambda=4.5, reg_alpha=0, n_estimators=250, min_child_weight=7, max_depth=4, learning_rate=0.01, gamma=0.3, colsample_bytree=0.3 \n"
     ]
    },
    {
     "name": "stdout",
     "output_type": "stream",
     "text": [
      "[CV]  subsample=0.2, reg_lambda=4.5, reg_alpha=0, n_estimators=250, min_child_weight=7, max_depth=4, learning_rate=0.01, gamma=0.3, colsample_bytree=0.3, score=-3.584, total=   0.1s\n",
      "[CV] subsample=0.2, reg_lambda=4.5, reg_alpha=0, n_estimators=250, min_child_weight=7, max_depth=4, learning_rate=0.01, gamma=0.3, colsample_bytree=0.3 \n",
      "[CV]  subsample=0.2, reg_lambda=4.5, reg_alpha=0, n_estimators=250, min_child_weight=7, max_depth=4, learning_rate=0.01, gamma=0.3, colsample_bytree=0.3, score=-4.270, total=   0.1s\n",
      "[CV] subsample=0.2, reg_lambda=4.5, reg_alpha=0, n_estimators=250, min_child_weight=7, max_depth=4, learning_rate=0.01, gamma=0.3, colsample_bytree=0.3 \n",
      "[CV]  subsample=0.2, reg_lambda=4.5, reg_alpha=0, n_estimators=250, min_child_weight=7, max_depth=4, learning_rate=0.01, gamma=0.3, colsample_bytree=0.3, score=-4.461, total=   0.1s\n",
      "[CV] subsample=0.2, reg_lambda=4.5, reg_alpha=0, n_estimators=250, min_child_weight=7, max_depth=4, learning_rate=0.01, gamma=0.3, colsample_bytree=0.3 \n",
      "[CV]  subsample=0.2, reg_lambda=4.5, reg_alpha=0, n_estimators=250, min_child_weight=7, max_depth=4, learning_rate=0.01, gamma=0.3, colsample_bytree=0.3, score=-2.418, total=   0.1s\n",
      "[CV] subsample=0.2, reg_lambda=4.5, reg_alpha=0, n_estimators=250, min_child_weight=7, max_depth=4, learning_rate=0.01, gamma=0.3, colsample_bytree=0.3 \n",
      "[CV]  subsample=0.2, reg_lambda=4.5, reg_alpha=0, n_estimators=250, min_child_weight=7, max_depth=4, learning_rate=0.01, gamma=0.3, colsample_bytree=0.3, score=-4.432, total=   0.2s\n",
      "[CV] subsample=0.2, reg_lambda=4.5, reg_alpha=0, n_estimators=250, min_child_weight=7, max_depth=4, learning_rate=0.01, gamma=0.3, colsample_bytree=0.3 \n",
      "[CV]  subsample=0.2, reg_lambda=4.5, reg_alpha=0, n_estimators=250, min_child_weight=7, max_depth=4, learning_rate=0.01, gamma=0.3, colsample_bytree=0.3, score=-3.950, total=   0.2s\n",
      "[CV] subsample=0.2, reg_lambda=4.5, reg_alpha=0, n_estimators=250, min_child_weight=7, max_depth=4, learning_rate=0.01, gamma=0.3, colsample_bytree=0.3 \n",
      "[CV]  subsample=0.2, reg_lambda=4.5, reg_alpha=0, n_estimators=250, min_child_weight=7, max_depth=4, learning_rate=0.01, gamma=0.3, colsample_bytree=0.3, score=-4.252, total=   0.1s\n",
      "[CV] subsample=0.5, reg_lambda=1, reg_alpha=1, n_estimators=1000, min_child_weight=5, max_depth=10, learning_rate=0.1, gamma=0.3, colsample_bytree=0.3 \n",
      "[CV]  subsample=0.5, reg_lambda=1, reg_alpha=1, n_estimators=1000, min_child_weight=5, max_depth=10, learning_rate=0.1, gamma=0.3, colsample_bytree=0.3, score=-2.361, total=   0.9s\n",
      "[CV] subsample=0.5, reg_lambda=1, reg_alpha=1, n_estimators=1000, min_child_weight=5, max_depth=10, learning_rate=0.1, gamma=0.3, colsample_bytree=0.3 \n",
      "[CV]  subsample=0.5, reg_lambda=1, reg_alpha=1, n_estimators=1000, min_child_weight=5, max_depth=10, learning_rate=0.1, gamma=0.3, colsample_bytree=0.3, score=-2.681, total=   1.0s\n",
      "[CV] subsample=0.5, reg_lambda=1, reg_alpha=1, n_estimators=1000, min_child_weight=5, max_depth=10, learning_rate=0.1, gamma=0.3, colsample_bytree=0.3 \n",
      "[CV]  subsample=0.5, reg_lambda=1, reg_alpha=1, n_estimators=1000, min_child_weight=5, max_depth=10, learning_rate=0.1, gamma=0.3, colsample_bytree=0.3, score=-1.765, total=   0.9s\n",
      "[CV] subsample=0.5, reg_lambda=1, reg_alpha=1, n_estimators=1000, min_child_weight=5, max_depth=10, learning_rate=0.1, gamma=0.3, colsample_bytree=0.3 \n",
      "[CV]  subsample=0.5, reg_lambda=1, reg_alpha=1, n_estimators=1000, min_child_weight=5, max_depth=10, learning_rate=0.1, gamma=0.3, colsample_bytree=0.3, score=-2.181, total=   0.8s\n",
      "[CV] subsample=0.5, reg_lambda=1, reg_alpha=1, n_estimators=1000, min_child_weight=5, max_depth=10, learning_rate=0.1, gamma=0.3, colsample_bytree=0.3 \n",
      "[CV]  subsample=0.5, reg_lambda=1, reg_alpha=1, n_estimators=1000, min_child_weight=5, max_depth=10, learning_rate=0.1, gamma=0.3, colsample_bytree=0.3, score=-2.370, total=   1.1s\n",
      "[CV] subsample=0.5, reg_lambda=1, reg_alpha=1, n_estimators=1000, min_child_weight=5, max_depth=10, learning_rate=0.1, gamma=0.3, colsample_bytree=0.3 \n",
      "[CV]  subsample=0.5, reg_lambda=1, reg_alpha=1, n_estimators=1000, min_child_weight=5, max_depth=10, learning_rate=0.1, gamma=0.3, colsample_bytree=0.3, score=-2.195, total=   0.9s\n",
      "[CV] subsample=0.5, reg_lambda=1, reg_alpha=1, n_estimators=1000, min_child_weight=5, max_depth=10, learning_rate=0.1, gamma=0.3, colsample_bytree=0.3 \n",
      "[CV]  subsample=0.5, reg_lambda=1, reg_alpha=1, n_estimators=1000, min_child_weight=5, max_depth=10, learning_rate=0.1, gamma=0.3, colsample_bytree=0.3, score=-1.517, total=   1.0s\n",
      "[CV] subsample=0.5, reg_lambda=1, reg_alpha=1, n_estimators=1000, min_child_weight=5, max_depth=10, learning_rate=0.1, gamma=0.3, colsample_bytree=0.3 \n",
      "[CV]  subsample=0.5, reg_lambda=1, reg_alpha=1, n_estimators=1000, min_child_weight=5, max_depth=10, learning_rate=0.1, gamma=0.3, colsample_bytree=0.3, score=-2.855, total=   1.0s\n",
      "[CV] subsample=0.5, reg_lambda=1, reg_alpha=1, n_estimators=1000, min_child_weight=5, max_depth=10, learning_rate=0.1, gamma=0.3, colsample_bytree=0.3 \n",
      "[CV]  subsample=0.5, reg_lambda=1, reg_alpha=1, n_estimators=1000, min_child_weight=5, max_depth=10, learning_rate=0.1, gamma=0.3, colsample_bytree=0.3, score=-2.771, total=   1.0s\n",
      "[CV] subsample=0.5, reg_lambda=1, reg_alpha=1, n_estimators=1000, min_child_weight=5, max_depth=10, learning_rate=0.1, gamma=0.3, colsample_bytree=0.3 \n",
      "[CV]  subsample=0.5, reg_lambda=1, reg_alpha=1, n_estimators=1000, min_child_weight=5, max_depth=10, learning_rate=0.1, gamma=0.3, colsample_bytree=0.3, score=-2.314, total=   1.1s\n",
      "[CV] subsample=0.4, reg_lambda=1, reg_alpha=0.5, n_estimators=500, min_child_weight=3, max_depth=2, learning_rate=0.1, gamma=0.1, colsample_bytree=0.8 \n",
      "[CV]  subsample=0.4, reg_lambda=1, reg_alpha=0.5, n_estimators=500, min_child_weight=3, max_depth=2, learning_rate=0.1, gamma=0.1, colsample_bytree=0.8, score=-2.145, total=   0.2s\n",
      "[CV] subsample=0.4, reg_lambda=1, reg_alpha=0.5, n_estimators=500, min_child_weight=3, max_depth=2, learning_rate=0.1, gamma=0.1, colsample_bytree=0.8 \n",
      "[CV]  subsample=0.4, reg_lambda=1, reg_alpha=0.5, n_estimators=500, min_child_weight=3, max_depth=2, learning_rate=0.1, gamma=0.1, colsample_bytree=0.8, score=-2.643, total=   0.2s\n",
      "[CV] subsample=0.4, reg_lambda=1, reg_alpha=0.5, n_estimators=500, min_child_weight=3, max_depth=2, learning_rate=0.1, gamma=0.1, colsample_bytree=0.8 \n",
      "[CV]  subsample=0.4, reg_lambda=1, reg_alpha=0.5, n_estimators=500, min_child_weight=3, max_depth=2, learning_rate=0.1, gamma=0.1, colsample_bytree=0.8, score=-1.832, total=   0.2s\n",
      "[CV] subsample=0.4, reg_lambda=1, reg_alpha=0.5, n_estimators=500, min_child_weight=3, max_depth=2, learning_rate=0.1, gamma=0.1, colsample_bytree=0.8 \n",
      "[CV]  subsample=0.4, reg_lambda=1, reg_alpha=0.5, n_estimators=500, min_child_weight=3, max_depth=2, learning_rate=0.1, gamma=0.1, colsample_bytree=0.8, score=-2.278, total=   0.2s\n",
      "[CV] subsample=0.4, reg_lambda=1, reg_alpha=0.5, n_estimators=500, min_child_weight=3, max_depth=2, learning_rate=0.1, gamma=0.1, colsample_bytree=0.8 \n",
      "[CV]  subsample=0.4, reg_lambda=1, reg_alpha=0.5, n_estimators=500, min_child_weight=3, max_depth=2, learning_rate=0.1, gamma=0.1, colsample_bytree=0.8, score=-2.319, total=   0.2s\n",
      "[CV] subsample=0.4, reg_lambda=1, reg_alpha=0.5, n_estimators=500, min_child_weight=3, max_depth=2, learning_rate=0.1, gamma=0.1, colsample_bytree=0.8 \n",
      "[CV]  subsample=0.4, reg_lambda=1, reg_alpha=0.5, n_estimators=500, min_child_weight=3, max_depth=2, learning_rate=0.1, gamma=0.1, colsample_bytree=0.8, score=-2.276, total=   0.2s\n",
      "[CV] subsample=0.4, reg_lambda=1, reg_alpha=0.5, n_estimators=500, min_child_weight=3, max_depth=2, learning_rate=0.1, gamma=0.1, colsample_bytree=0.8 \n",
      "[CV]  subsample=0.4, reg_lambda=1, reg_alpha=0.5, n_estimators=500, min_child_weight=3, max_depth=2, learning_rate=0.1, gamma=0.1, colsample_bytree=0.8, score=-1.676, total=   0.2s\n",
      "[CV] subsample=0.4, reg_lambda=1, reg_alpha=0.5, n_estimators=500, min_child_weight=3, max_depth=2, learning_rate=0.1, gamma=0.1, colsample_bytree=0.8 \n",
      "[CV]  subsample=0.4, reg_lambda=1, reg_alpha=0.5, n_estimators=500, min_child_weight=3, max_depth=2, learning_rate=0.1, gamma=0.1, colsample_bytree=0.8, score=-2.705, total=   0.2s\n",
      "[CV] subsample=0.4, reg_lambda=1, reg_alpha=0.5, n_estimators=500, min_child_weight=3, max_depth=2, learning_rate=0.1, gamma=0.1, colsample_bytree=0.8 \n",
      "[CV]  subsample=0.4, reg_lambda=1, reg_alpha=0.5, n_estimators=500, min_child_weight=3, max_depth=2, learning_rate=0.1, gamma=0.1, colsample_bytree=0.8, score=-2.756, total=   0.2s\n",
      "[CV] subsample=0.4, reg_lambda=1, reg_alpha=0.5, n_estimators=500, min_child_weight=3, max_depth=2, learning_rate=0.1, gamma=0.1, colsample_bytree=0.8 \n"
     ]
    },
    {
     "name": "stdout",
     "output_type": "stream",
     "text": [
      "[CV]  subsample=0.4, reg_lambda=1, reg_alpha=0.5, n_estimators=500, min_child_weight=3, max_depth=2, learning_rate=0.1, gamma=0.1, colsample_bytree=0.8, score=-1.796, total=   0.2s\n",
      "[CV] subsample=0.5, reg_lambda=1, reg_alpha=0, n_estimators=250, min_child_weight=1, max_depth=2, learning_rate=0.01, gamma=1, colsample_bytree=0.8 \n",
      "[CV]  subsample=0.5, reg_lambda=1, reg_alpha=0, n_estimators=250, min_child_weight=1, max_depth=2, learning_rate=0.01, gamma=1, colsample_bytree=0.8, score=-2.783, total=   0.1s\n",
      "[CV] subsample=0.5, reg_lambda=1, reg_alpha=0, n_estimators=250, min_child_weight=1, max_depth=2, learning_rate=0.01, gamma=1, colsample_bytree=0.8 \n",
      "[CV]  subsample=0.5, reg_lambda=1, reg_alpha=0, n_estimators=250, min_child_weight=1, max_depth=2, learning_rate=0.01, gamma=1, colsample_bytree=0.8, score=-4.104, total=   0.1s\n",
      "[CV] subsample=0.5, reg_lambda=1, reg_alpha=0, n_estimators=250, min_child_weight=1, max_depth=2, learning_rate=0.01, gamma=1, colsample_bytree=0.8 \n",
      "[CV]  subsample=0.5, reg_lambda=1, reg_alpha=0, n_estimators=250, min_child_weight=1, max_depth=2, learning_rate=0.01, gamma=1, colsample_bytree=0.8, score=-2.463, total=   0.1s\n",
      "[CV] subsample=0.5, reg_lambda=1, reg_alpha=0, n_estimators=250, min_child_weight=1, max_depth=2, learning_rate=0.01, gamma=1, colsample_bytree=0.8 \n",
      "[CV]  subsample=0.5, reg_lambda=1, reg_alpha=0, n_estimators=250, min_child_weight=1, max_depth=2, learning_rate=0.01, gamma=1, colsample_bytree=0.8, score=-2.898, total=   0.1s\n",
      "[CV] subsample=0.5, reg_lambda=1, reg_alpha=0, n_estimators=250, min_child_weight=1, max_depth=2, learning_rate=0.01, gamma=1, colsample_bytree=0.8 \n",
      "[CV]  subsample=0.5, reg_lambda=1, reg_alpha=0, n_estimators=250, min_child_weight=1, max_depth=2, learning_rate=0.01, gamma=1, colsample_bytree=0.8, score=-3.417, total=   0.1s\n",
      "[CV] subsample=0.5, reg_lambda=1, reg_alpha=0, n_estimators=250, min_child_weight=1, max_depth=2, learning_rate=0.01, gamma=1, colsample_bytree=0.8 \n",
      "[CV]  subsample=0.5, reg_lambda=1, reg_alpha=0, n_estimators=250, min_child_weight=1, max_depth=2, learning_rate=0.01, gamma=1, colsample_bytree=0.8, score=-3.568, total=   0.1s\n",
      "[CV] subsample=0.5, reg_lambda=1, reg_alpha=0, n_estimators=250, min_child_weight=1, max_depth=2, learning_rate=0.01, gamma=1, colsample_bytree=0.8 \n",
      "[CV]  subsample=0.5, reg_lambda=1, reg_alpha=0, n_estimators=250, min_child_weight=1, max_depth=2, learning_rate=0.01, gamma=1, colsample_bytree=0.8, score=-2.228, total=   0.1s\n",
      "[CV] subsample=0.5, reg_lambda=1, reg_alpha=0, n_estimators=250, min_child_weight=1, max_depth=2, learning_rate=0.01, gamma=1, colsample_bytree=0.8 \n",
      "[CV]  subsample=0.5, reg_lambda=1, reg_alpha=0, n_estimators=250, min_child_weight=1, max_depth=2, learning_rate=0.01, gamma=1, colsample_bytree=0.8, score=-3.108, total=   0.1s\n",
      "[CV] subsample=0.5, reg_lambda=1, reg_alpha=0, n_estimators=250, min_child_weight=1, max_depth=2, learning_rate=0.01, gamma=1, colsample_bytree=0.8 \n",
      "[CV]  subsample=0.5, reg_lambda=1, reg_alpha=0, n_estimators=250, min_child_weight=1, max_depth=2, learning_rate=0.01, gamma=1, colsample_bytree=0.8, score=-3.666, total=   0.1s\n",
      "[CV] subsample=0.5, reg_lambda=1, reg_alpha=0, n_estimators=250, min_child_weight=1, max_depth=2, learning_rate=0.01, gamma=1, colsample_bytree=0.8 \n",
      "[CV]  subsample=0.5, reg_lambda=1, reg_alpha=0, n_estimators=250, min_child_weight=1, max_depth=2, learning_rate=0.01, gamma=1, colsample_bytree=0.8, score=-3.175, total=   0.1s\n",
      "[CV] subsample=0.4, reg_lambda=2, reg_alpha=0.5, n_estimators=500, min_child_weight=5, max_depth=2, learning_rate=0.01, gamma=1.5, colsample_bytree=0.6 \n",
      "[CV]  subsample=0.4, reg_lambda=2, reg_alpha=0.5, n_estimators=500, min_child_weight=5, max_depth=2, learning_rate=0.01, gamma=1.5, colsample_bytree=0.6, score=-2.410, total=   0.2s\n",
      "[CV] subsample=0.4, reg_lambda=2, reg_alpha=0.5, n_estimators=500, min_child_weight=5, max_depth=2, learning_rate=0.01, gamma=1.5, colsample_bytree=0.6 \n",
      "[CV]  subsample=0.4, reg_lambda=2, reg_alpha=0.5, n_estimators=500, min_child_weight=5, max_depth=2, learning_rate=0.01, gamma=1.5, colsample_bytree=0.6, score=-2.991, total=   0.2s\n",
      "[CV] subsample=0.4, reg_lambda=2, reg_alpha=0.5, n_estimators=500, min_child_weight=5, max_depth=2, learning_rate=0.01, gamma=1.5, colsample_bytree=0.6 \n",
      "[CV]  subsample=0.4, reg_lambda=2, reg_alpha=0.5, n_estimators=500, min_child_weight=5, max_depth=2, learning_rate=0.01, gamma=1.5, colsample_bytree=0.6, score=-1.715, total=   0.2s\n",
      "[CV] subsample=0.4, reg_lambda=2, reg_alpha=0.5, n_estimators=500, min_child_weight=5, max_depth=2, learning_rate=0.01, gamma=1.5, colsample_bytree=0.6 \n",
      "[CV]  subsample=0.4, reg_lambda=2, reg_alpha=0.5, n_estimators=500, min_child_weight=5, max_depth=2, learning_rate=0.01, gamma=1.5, colsample_bytree=0.6, score=-2.276, total=   0.2s\n",
      "[CV] subsample=0.4, reg_lambda=2, reg_alpha=0.5, n_estimators=500, min_child_weight=5, max_depth=2, learning_rate=0.01, gamma=1.5, colsample_bytree=0.6 \n",
      "[CV]  subsample=0.4, reg_lambda=2, reg_alpha=0.5, n_estimators=500, min_child_weight=5, max_depth=2, learning_rate=0.01, gamma=1.5, colsample_bytree=0.6, score=-2.731, total=   0.2s\n",
      "[CV] subsample=0.4, reg_lambda=2, reg_alpha=0.5, n_estimators=500, min_child_weight=5, max_depth=2, learning_rate=0.01, gamma=1.5, colsample_bytree=0.6 \n",
      "[CV]  subsample=0.4, reg_lambda=2, reg_alpha=0.5, n_estimators=500, min_child_weight=5, max_depth=2, learning_rate=0.01, gamma=1.5, colsample_bytree=0.6, score=-2.726, total=   0.2s\n",
      "[CV] subsample=0.4, reg_lambda=2, reg_alpha=0.5, n_estimators=500, min_child_weight=5, max_depth=2, learning_rate=0.01, gamma=1.5, colsample_bytree=0.6 \n",
      "[CV]  subsample=0.4, reg_lambda=2, reg_alpha=0.5, n_estimators=500, min_child_weight=5, max_depth=2, learning_rate=0.01, gamma=1.5, colsample_bytree=0.6, score=-1.768, total=   0.2s\n",
      "[CV] subsample=0.4, reg_lambda=2, reg_alpha=0.5, n_estimators=500, min_child_weight=5, max_depth=2, learning_rate=0.01, gamma=1.5, colsample_bytree=0.6 \n",
      "[CV]  subsample=0.4, reg_lambda=2, reg_alpha=0.5, n_estimators=500, min_child_weight=5, max_depth=2, learning_rate=0.01, gamma=1.5, colsample_bytree=0.6, score=-2.502, total=   0.2s\n",
      "[CV] subsample=0.4, reg_lambda=2, reg_alpha=0.5, n_estimators=500, min_child_weight=5, max_depth=2, learning_rate=0.01, gamma=1.5, colsample_bytree=0.6 \n",
      "[CV]  subsample=0.4, reg_lambda=2, reg_alpha=0.5, n_estimators=500, min_child_weight=5, max_depth=2, learning_rate=0.01, gamma=1.5, colsample_bytree=0.6, score=-2.936, total=   0.3s\n",
      "[CV] subsample=0.4, reg_lambda=2, reg_alpha=0.5, n_estimators=500, min_child_weight=5, max_depth=2, learning_rate=0.01, gamma=1.5, colsample_bytree=0.6 \n",
      "[CV]  subsample=0.4, reg_lambda=2, reg_alpha=0.5, n_estimators=500, min_child_weight=5, max_depth=2, learning_rate=0.01, gamma=1.5, colsample_bytree=0.6, score=-2.424, total=   0.2s\n",
      "[CV] subsample=0.2, reg_lambda=3, reg_alpha=0.5, n_estimators=500, min_child_weight=7, max_depth=4, learning_rate=0.01, gamma=0.01, colsample_bytree=0.3 \n",
      "[CV]  subsample=0.2, reg_lambda=3, reg_alpha=0.5, n_estimators=500, min_child_weight=7, max_depth=4, learning_rate=0.01, gamma=0.01, colsample_bytree=0.3, score=-2.560, total=   0.2s\n",
      "[CV] subsample=0.2, reg_lambda=3, reg_alpha=0.5, n_estimators=500, min_child_weight=7, max_depth=4, learning_rate=0.01, gamma=0.01, colsample_bytree=0.3 \n",
      "[CV]  subsample=0.2, reg_lambda=3, reg_alpha=0.5, n_estimators=500, min_child_weight=7, max_depth=4, learning_rate=0.01, gamma=0.01, colsample_bytree=0.3, score=-3.535, total=   0.2s\n",
      "[CV] subsample=0.2, reg_lambda=3, reg_alpha=0.5, n_estimators=500, min_child_weight=7, max_depth=4, learning_rate=0.01, gamma=0.01, colsample_bytree=0.3 \n",
      "[CV]  subsample=0.2, reg_lambda=3, reg_alpha=0.5, n_estimators=500, min_child_weight=7, max_depth=4, learning_rate=0.01, gamma=0.01, colsample_bytree=0.3, score=-1.866, total=   0.3s\n",
      "[CV] subsample=0.2, reg_lambda=3, reg_alpha=0.5, n_estimators=500, min_child_weight=7, max_depth=4, learning_rate=0.01, gamma=0.01, colsample_bytree=0.3 \n",
      "[CV]  subsample=0.2, reg_lambda=3, reg_alpha=0.5, n_estimators=500, min_child_weight=7, max_depth=4, learning_rate=0.01, gamma=0.01, colsample_bytree=0.3, score=-2.575, total=   0.2s\n",
      "[CV] subsample=0.2, reg_lambda=3, reg_alpha=0.5, n_estimators=500, min_child_weight=7, max_depth=4, learning_rate=0.01, gamma=0.01, colsample_bytree=0.3 \n"
     ]
    },
    {
     "name": "stdout",
     "output_type": "stream",
     "text": [
      "[CV]  subsample=0.2, reg_lambda=3, reg_alpha=0.5, n_estimators=500, min_child_weight=7, max_depth=4, learning_rate=0.01, gamma=0.01, colsample_bytree=0.3, score=-3.183, total=   0.2s\n",
      "[CV] subsample=0.2, reg_lambda=3, reg_alpha=0.5, n_estimators=500, min_child_weight=7, max_depth=4, learning_rate=0.01, gamma=0.01, colsample_bytree=0.3 \n",
      "[CV]  subsample=0.2, reg_lambda=3, reg_alpha=0.5, n_estimators=500, min_child_weight=7, max_depth=4, learning_rate=0.01, gamma=0.01, colsample_bytree=0.3, score=-2.947, total=   0.2s\n",
      "[CV] subsample=0.2, reg_lambda=3, reg_alpha=0.5, n_estimators=500, min_child_weight=7, max_depth=4, learning_rate=0.01, gamma=0.01, colsample_bytree=0.3 \n",
      "[CV]  subsample=0.2, reg_lambda=3, reg_alpha=0.5, n_estimators=500, min_child_weight=7, max_depth=4, learning_rate=0.01, gamma=0.01, colsample_bytree=0.3, score=-1.857, total=   0.3s\n",
      "[CV] subsample=0.2, reg_lambda=3, reg_alpha=0.5, n_estimators=500, min_child_weight=7, max_depth=4, learning_rate=0.01, gamma=0.01, colsample_bytree=0.3 \n",
      "[CV]  subsample=0.2, reg_lambda=3, reg_alpha=0.5, n_estimators=500, min_child_weight=7, max_depth=4, learning_rate=0.01, gamma=0.01, colsample_bytree=0.3, score=-3.033, total=   0.2s\n",
      "[CV] subsample=0.2, reg_lambda=3, reg_alpha=0.5, n_estimators=500, min_child_weight=7, max_depth=4, learning_rate=0.01, gamma=0.01, colsample_bytree=0.3 \n",
      "[CV]  subsample=0.2, reg_lambda=3, reg_alpha=0.5, n_estimators=500, min_child_weight=7, max_depth=4, learning_rate=0.01, gamma=0.01, colsample_bytree=0.3, score=-3.080, total=   0.3s\n",
      "[CV] subsample=0.2, reg_lambda=3, reg_alpha=0.5, n_estimators=500, min_child_weight=7, max_depth=4, learning_rate=0.01, gamma=0.01, colsample_bytree=0.3 \n",
      "[CV]  subsample=0.2, reg_lambda=3, reg_alpha=0.5, n_estimators=500, min_child_weight=7, max_depth=4, learning_rate=0.01, gamma=0.01, colsample_bytree=0.3, score=-3.040, total=   0.2s\n",
      "[CV] subsample=0.5, reg_lambda=2, reg_alpha=0.5, n_estimators=500, min_child_weight=7, max_depth=10, learning_rate=0.01, gamma=0.1, colsample_bytree=0.8 \n",
      "[CV]  subsample=0.5, reg_lambda=2, reg_alpha=0.5, n_estimators=500, min_child_weight=7, max_depth=10, learning_rate=0.01, gamma=0.1, colsample_bytree=0.8, score=-2.001, total=   0.5s\n",
      "[CV] subsample=0.5, reg_lambda=2, reg_alpha=0.5, n_estimators=500, min_child_weight=7, max_depth=10, learning_rate=0.01, gamma=0.1, colsample_bytree=0.8 \n",
      "[CV]  subsample=0.5, reg_lambda=2, reg_alpha=0.5, n_estimators=500, min_child_weight=7, max_depth=10, learning_rate=0.01, gamma=0.1, colsample_bytree=0.8, score=-2.784, total=   0.5s\n",
      "[CV] subsample=0.5, reg_lambda=2, reg_alpha=0.5, n_estimators=500, min_child_weight=7, max_depth=10, learning_rate=0.01, gamma=0.1, colsample_bytree=0.8 \n",
      "[CV]  subsample=0.5, reg_lambda=2, reg_alpha=0.5, n_estimators=500, min_child_weight=7, max_depth=10, learning_rate=0.01, gamma=0.1, colsample_bytree=0.8, score=-1.567, total=   0.4s\n",
      "[CV] subsample=0.5, reg_lambda=2, reg_alpha=0.5, n_estimators=500, min_child_weight=7, max_depth=10, learning_rate=0.01, gamma=0.1, colsample_bytree=0.8 \n",
      "[CV]  subsample=0.5, reg_lambda=2, reg_alpha=0.5, n_estimators=500, min_child_weight=7, max_depth=10, learning_rate=0.01, gamma=0.1, colsample_bytree=0.8, score=-2.075, total=   0.4s\n",
      "[CV] subsample=0.5, reg_lambda=2, reg_alpha=0.5, n_estimators=500, min_child_weight=7, max_depth=10, learning_rate=0.01, gamma=0.1, colsample_bytree=0.8 \n",
      "[CV]  subsample=0.5, reg_lambda=2, reg_alpha=0.5, n_estimators=500, min_child_weight=7, max_depth=10, learning_rate=0.01, gamma=0.1, colsample_bytree=0.8, score=-2.495, total=   0.4s\n",
      "[CV] subsample=0.5, reg_lambda=2, reg_alpha=0.5, n_estimators=500, min_child_weight=7, max_depth=10, learning_rate=0.01, gamma=0.1, colsample_bytree=0.8 \n",
      "[CV]  subsample=0.5, reg_lambda=2, reg_alpha=0.5, n_estimators=500, min_child_weight=7, max_depth=10, learning_rate=0.01, gamma=0.1, colsample_bytree=0.8, score=-2.492, total=   0.3s\n",
      "[CV] subsample=0.5, reg_lambda=2, reg_alpha=0.5, n_estimators=500, min_child_weight=7, max_depth=10, learning_rate=0.01, gamma=0.1, colsample_bytree=0.8 \n",
      "[CV]  subsample=0.5, reg_lambda=2, reg_alpha=0.5, n_estimators=500, min_child_weight=7, max_depth=10, learning_rate=0.01, gamma=0.1, colsample_bytree=0.8, score=-1.380, total=   0.4s\n",
      "[CV] subsample=0.5, reg_lambda=2, reg_alpha=0.5, n_estimators=500, min_child_weight=7, max_depth=10, learning_rate=0.01, gamma=0.1, colsample_bytree=0.8 \n",
      "[CV]  subsample=0.5, reg_lambda=2, reg_alpha=0.5, n_estimators=500, min_child_weight=7, max_depth=10, learning_rate=0.01, gamma=0.1, colsample_bytree=0.8, score=-2.119, total=   0.4s\n",
      "[CV] subsample=0.5, reg_lambda=2, reg_alpha=0.5, n_estimators=500, min_child_weight=7, max_depth=10, learning_rate=0.01, gamma=0.1, colsample_bytree=0.8 \n",
      "[CV]  subsample=0.5, reg_lambda=2, reg_alpha=0.5, n_estimators=500, min_child_weight=7, max_depth=10, learning_rate=0.01, gamma=0.1, colsample_bytree=0.8, score=-2.662, total=   0.4s\n",
      "[CV] subsample=0.5, reg_lambda=2, reg_alpha=0.5, n_estimators=500, min_child_weight=7, max_depth=10, learning_rate=0.01, gamma=0.1, colsample_bytree=0.8 \n",
      "[CV]  subsample=0.5, reg_lambda=2, reg_alpha=0.5, n_estimators=500, min_child_weight=7, max_depth=10, learning_rate=0.01, gamma=0.1, colsample_bytree=0.8, score=-1.919, total=   0.4s\n",
      "[CV] subsample=0.6, reg_lambda=1, reg_alpha=1, n_estimators=1000, min_child_weight=7, max_depth=7, learning_rate=0.1, gamma=0.5, colsample_bytree=1.0 \n",
      "[CV]  subsample=0.6, reg_lambda=1, reg_alpha=1, n_estimators=1000, min_child_weight=7, max_depth=7, learning_rate=0.1, gamma=0.5, colsample_bytree=1.0, score=-1.865, total=   0.9s\n",
      "[CV] subsample=0.6, reg_lambda=1, reg_alpha=1, n_estimators=1000, min_child_weight=7, max_depth=7, learning_rate=0.1, gamma=0.5, colsample_bytree=1.0 \n",
      "[CV]  subsample=0.6, reg_lambda=1, reg_alpha=1, n_estimators=1000, min_child_weight=7, max_depth=7, learning_rate=0.1, gamma=0.5, colsample_bytree=1.0, score=-2.766, total=   0.8s\n",
      "[CV] subsample=0.6, reg_lambda=1, reg_alpha=1, n_estimators=1000, min_child_weight=7, max_depth=7, learning_rate=0.1, gamma=0.5, colsample_bytree=1.0 \n",
      "[CV]  subsample=0.6, reg_lambda=1, reg_alpha=1, n_estimators=1000, min_child_weight=7, max_depth=7, learning_rate=0.1, gamma=0.5, colsample_bytree=1.0, score=-1.475, total=   0.9s\n",
      "[CV] subsample=0.6, reg_lambda=1, reg_alpha=1, n_estimators=1000, min_child_weight=7, max_depth=7, learning_rate=0.1, gamma=0.5, colsample_bytree=1.0 \n",
      "[CV]  subsample=0.6, reg_lambda=1, reg_alpha=1, n_estimators=1000, min_child_weight=7, max_depth=7, learning_rate=0.1, gamma=0.5, colsample_bytree=1.0, score=-2.228, total=   0.9s\n",
      "[CV] subsample=0.6, reg_lambda=1, reg_alpha=1, n_estimators=1000, min_child_weight=7, max_depth=7, learning_rate=0.1, gamma=0.5, colsample_bytree=1.0 \n",
      "[CV]  subsample=0.6, reg_lambda=1, reg_alpha=1, n_estimators=1000, min_child_weight=7, max_depth=7, learning_rate=0.1, gamma=0.5, colsample_bytree=1.0, score=-2.318, total=   0.8s\n",
      "[CV] subsample=0.6, reg_lambda=1, reg_alpha=1, n_estimators=1000, min_child_weight=7, max_depth=7, learning_rate=0.1, gamma=0.5, colsample_bytree=1.0 \n",
      "[CV]  subsample=0.6, reg_lambda=1, reg_alpha=1, n_estimators=1000, min_child_weight=7, max_depth=7, learning_rate=0.1, gamma=0.5, colsample_bytree=1.0, score=-2.420, total=   0.8s\n",
      "[CV] subsample=0.6, reg_lambda=1, reg_alpha=1, n_estimators=1000, min_child_weight=7, max_depth=7, learning_rate=0.1, gamma=0.5, colsample_bytree=1.0 \n",
      "[CV]  subsample=0.6, reg_lambda=1, reg_alpha=1, n_estimators=1000, min_child_weight=7, max_depth=7, learning_rate=0.1, gamma=0.5, colsample_bytree=1.0, score=-1.525, total=   0.9s\n",
      "[CV] subsample=0.6, reg_lambda=1, reg_alpha=1, n_estimators=1000, min_child_weight=7, max_depth=7, learning_rate=0.1, gamma=0.5, colsample_bytree=1.0 \n",
      "[CV]  subsample=0.6, reg_lambda=1, reg_alpha=1, n_estimators=1000, min_child_weight=7, max_depth=7, learning_rate=0.1, gamma=0.5, colsample_bytree=1.0, score=-2.248, total=   0.8s\n",
      "[CV] subsample=0.6, reg_lambda=1, reg_alpha=1, n_estimators=1000, min_child_weight=7, max_depth=7, learning_rate=0.1, gamma=0.5, colsample_bytree=1.0 \n",
      "[CV]  subsample=0.6, reg_lambda=1, reg_alpha=1, n_estimators=1000, min_child_weight=7, max_depth=7, learning_rate=0.1, gamma=0.5, colsample_bytree=1.0, score=-2.705, total=   0.9s\n",
      "[CV] subsample=0.6, reg_lambda=1, reg_alpha=1, n_estimators=1000, min_child_weight=7, max_depth=7, learning_rate=0.1, gamma=0.5, colsample_bytree=1.0 \n"
     ]
    },
    {
     "name": "stdout",
     "output_type": "stream",
     "text": [
      "[CV]  subsample=0.6, reg_lambda=1, reg_alpha=1, n_estimators=1000, min_child_weight=7, max_depth=7, learning_rate=0.1, gamma=0.5, colsample_bytree=1.0, score=-1.579, total=   0.8s\n",
      "[CV] subsample=0.4, reg_lambda=3, reg_alpha=0, n_estimators=250, min_child_weight=5, max_depth=10, learning_rate=0.1, gamma=2, colsample_bytree=0.8 \n",
      "[CV]  subsample=0.4, reg_lambda=3, reg_alpha=0, n_estimators=250, min_child_weight=5, max_depth=10, learning_rate=0.1, gamma=2, colsample_bytree=0.8, score=-2.106, total=   0.2s\n",
      "[CV] subsample=0.4, reg_lambda=3, reg_alpha=0, n_estimators=250, min_child_weight=5, max_depth=10, learning_rate=0.1, gamma=2, colsample_bytree=0.8 \n",
      "[CV]  subsample=0.4, reg_lambda=3, reg_alpha=0, n_estimators=250, min_child_weight=5, max_depth=10, learning_rate=0.1, gamma=2, colsample_bytree=0.8, score=-2.874, total=   0.2s\n",
      "[CV] subsample=0.4, reg_lambda=3, reg_alpha=0, n_estimators=250, min_child_weight=5, max_depth=10, learning_rate=0.1, gamma=2, colsample_bytree=0.8 \n",
      "[CV]  subsample=0.4, reg_lambda=3, reg_alpha=0, n_estimators=250, min_child_weight=5, max_depth=10, learning_rate=0.1, gamma=2, colsample_bytree=0.8, score=-1.755, total=   0.2s\n",
      "[CV] subsample=0.4, reg_lambda=3, reg_alpha=0, n_estimators=250, min_child_weight=5, max_depth=10, learning_rate=0.1, gamma=2, colsample_bytree=0.8 \n",
      "[CV]  subsample=0.4, reg_lambda=3, reg_alpha=0, n_estimators=250, min_child_weight=5, max_depth=10, learning_rate=0.1, gamma=2, colsample_bytree=0.8, score=-2.152, total=   0.2s\n",
      "[CV] subsample=0.4, reg_lambda=3, reg_alpha=0, n_estimators=250, min_child_weight=5, max_depth=10, learning_rate=0.1, gamma=2, colsample_bytree=0.8 \n",
      "[CV]  subsample=0.4, reg_lambda=3, reg_alpha=0, n_estimators=250, min_child_weight=5, max_depth=10, learning_rate=0.1, gamma=2, colsample_bytree=0.8, score=-2.289, total=   0.2s\n",
      "[CV] subsample=0.4, reg_lambda=3, reg_alpha=0, n_estimators=250, min_child_weight=5, max_depth=10, learning_rate=0.1, gamma=2, colsample_bytree=0.8 \n",
      "[CV]  subsample=0.4, reg_lambda=3, reg_alpha=0, n_estimators=250, min_child_weight=5, max_depth=10, learning_rate=0.1, gamma=2, colsample_bytree=0.8, score=-2.138, total=   0.3s\n",
      "[CV] subsample=0.4, reg_lambda=3, reg_alpha=0, n_estimators=250, min_child_weight=5, max_depth=10, learning_rate=0.1, gamma=2, colsample_bytree=0.8 \n",
      "[CV]  subsample=0.4, reg_lambda=3, reg_alpha=0, n_estimators=250, min_child_weight=5, max_depth=10, learning_rate=0.1, gamma=2, colsample_bytree=0.8, score=-1.402, total=   0.2s\n",
      "[CV] subsample=0.4, reg_lambda=3, reg_alpha=0, n_estimators=250, min_child_weight=5, max_depth=10, learning_rate=0.1, gamma=2, colsample_bytree=0.8 \n",
      "[CV]  subsample=0.4, reg_lambda=3, reg_alpha=0, n_estimators=250, min_child_weight=5, max_depth=10, learning_rate=0.1, gamma=2, colsample_bytree=0.8, score=-2.487, total=   0.3s\n",
      "[CV] subsample=0.4, reg_lambda=3, reg_alpha=0, n_estimators=250, min_child_weight=5, max_depth=10, learning_rate=0.1, gamma=2, colsample_bytree=0.8 \n",
      "[CV]  subsample=0.4, reg_lambda=3, reg_alpha=0, n_estimators=250, min_child_weight=5, max_depth=10, learning_rate=0.1, gamma=2, colsample_bytree=0.8, score=-2.734, total=   0.2s\n",
      "[CV] subsample=0.4, reg_lambda=3, reg_alpha=0, n_estimators=250, min_child_weight=5, max_depth=10, learning_rate=0.1, gamma=2, colsample_bytree=0.8 \n",
      "[CV]  subsample=0.4, reg_lambda=3, reg_alpha=0, n_estimators=250, min_child_weight=5, max_depth=10, learning_rate=0.1, gamma=2, colsample_bytree=0.8, score=-1.849, total=   0.2s\n",
      "[CV] subsample=0.7, reg_lambda=1, reg_alpha=0, n_estimators=500, min_child_weight=7, max_depth=2, learning_rate=0.001, gamma=0.3, colsample_bytree=0.3 \n",
      "[CV]  subsample=0.7, reg_lambda=1, reg_alpha=0, n_estimators=500, min_child_weight=7, max_depth=2, learning_rate=0.001, gamma=0.3, colsample_bytree=0.3, score=-10.849, total=   0.2s\n",
      "[CV] subsample=0.7, reg_lambda=1, reg_alpha=0, n_estimators=500, min_child_weight=7, max_depth=2, learning_rate=0.001, gamma=0.3, colsample_bytree=0.3 \n",
      "[CV]  subsample=0.7, reg_lambda=1, reg_alpha=0, n_estimators=500, min_child_weight=7, max_depth=2, learning_rate=0.001, gamma=0.3, colsample_bytree=0.3, score=-16.125, total=   0.2s\n",
      "[CV] subsample=0.7, reg_lambda=1, reg_alpha=0, n_estimators=500, min_child_weight=7, max_depth=2, learning_rate=0.001, gamma=0.3, colsample_bytree=0.3 \n",
      "[CV]  subsample=0.7, reg_lambda=1, reg_alpha=0, n_estimators=500, min_child_weight=7, max_depth=2, learning_rate=0.001, gamma=0.3, colsample_bytree=0.3, score=-12.767, total=   0.2s\n",
      "[CV] subsample=0.7, reg_lambda=1, reg_alpha=0, n_estimators=500, min_child_weight=7, max_depth=2, learning_rate=0.001, gamma=0.3, colsample_bytree=0.3 \n",
      "[CV]  subsample=0.7, reg_lambda=1, reg_alpha=0, n_estimators=500, min_child_weight=7, max_depth=2, learning_rate=0.001, gamma=0.3, colsample_bytree=0.3, score=-12.463, total=   0.2s\n",
      "[CV] subsample=0.7, reg_lambda=1, reg_alpha=0, n_estimators=500, min_child_weight=7, max_depth=2, learning_rate=0.001, gamma=0.3, colsample_bytree=0.3 \n",
      "[CV]  subsample=0.7, reg_lambda=1, reg_alpha=0, n_estimators=500, min_child_weight=7, max_depth=2, learning_rate=0.001, gamma=0.3, colsample_bytree=0.3, score=-13.551, total=   0.2s\n",
      "[CV] subsample=0.7, reg_lambda=1, reg_alpha=0, n_estimators=500, min_child_weight=7, max_depth=2, learning_rate=0.001, gamma=0.3, colsample_bytree=0.3 \n",
      "[CV]  subsample=0.7, reg_lambda=1, reg_alpha=0, n_estimators=500, min_child_weight=7, max_depth=2, learning_rate=0.001, gamma=0.3, colsample_bytree=0.3, score=-13.929, total=   0.2s\n",
      "[CV] subsample=0.7, reg_lambda=1, reg_alpha=0, n_estimators=500, min_child_weight=7, max_depth=2, learning_rate=0.001, gamma=0.3, colsample_bytree=0.3 \n",
      "[CV]  subsample=0.7, reg_lambda=1, reg_alpha=0, n_estimators=500, min_child_weight=7, max_depth=2, learning_rate=0.001, gamma=0.3, colsample_bytree=0.3, score=-12.813, total=   0.1s\n",
      "[CV] subsample=0.7, reg_lambda=1, reg_alpha=0, n_estimators=500, min_child_weight=7, max_depth=2, learning_rate=0.001, gamma=0.3, colsample_bytree=0.3 \n",
      "[CV]  subsample=0.7, reg_lambda=1, reg_alpha=0, n_estimators=500, min_child_weight=7, max_depth=2, learning_rate=0.001, gamma=0.3, colsample_bytree=0.3, score=-14.189, total=   0.2s\n",
      "[CV] subsample=0.7, reg_lambda=1, reg_alpha=0, n_estimators=500, min_child_weight=7, max_depth=2, learning_rate=0.001, gamma=0.3, colsample_bytree=0.3 \n",
      "[CV]  subsample=0.7, reg_lambda=1, reg_alpha=0, n_estimators=500, min_child_weight=7, max_depth=2, learning_rate=0.001, gamma=0.3, colsample_bytree=0.3, score=-13.206, total=   0.2s\n",
      "[CV] subsample=0.7, reg_lambda=1, reg_alpha=0, n_estimators=500, min_child_weight=7, max_depth=2, learning_rate=0.001, gamma=0.3, colsample_bytree=0.3 \n",
      "[CV]  subsample=0.7, reg_lambda=1, reg_alpha=0, n_estimators=500, min_child_weight=7, max_depth=2, learning_rate=0.001, gamma=0.3, colsample_bytree=0.3, score=-13.859, total=   0.2s\n",
      "[CV] subsample=0.2, reg_lambda=2, reg_alpha=1, n_estimators=100, min_child_weight=1, max_depth=2, learning_rate=0.001, gamma=0.5, colsample_bytree=0.6 \n",
      "[CV]  subsample=0.2, reg_lambda=2, reg_alpha=1, n_estimators=100, min_child_weight=1, max_depth=2, learning_rate=0.001, gamma=0.5, colsample_bytree=0.6, score=-17.019, total=   0.0s\n",
      "[CV] subsample=0.2, reg_lambda=2, reg_alpha=1, n_estimators=100, min_child_weight=1, max_depth=2, learning_rate=0.001, gamma=0.5, colsample_bytree=0.6 \n",
      "[CV]  subsample=0.2, reg_lambda=2, reg_alpha=1, n_estimators=100, min_child_weight=1, max_depth=2, learning_rate=0.001, gamma=0.5, colsample_bytree=0.6, score=-23.009, total=   0.0s\n",
      "[CV] subsample=0.2, reg_lambda=2, reg_alpha=1, n_estimators=100, min_child_weight=1, max_depth=2, learning_rate=0.001, gamma=0.5, colsample_bytree=0.6 \n",
      "[CV]  subsample=0.2, reg_lambda=2, reg_alpha=1, n_estimators=100, min_child_weight=1, max_depth=2, learning_rate=0.001, gamma=0.5, colsample_bytree=0.6, score=-19.283, total=   0.0s\n",
      "[CV] subsample=0.2, reg_lambda=2, reg_alpha=1, n_estimators=100, min_child_weight=1, max_depth=2, learning_rate=0.001, gamma=0.5, colsample_bytree=0.6 \n",
      "[CV]  subsample=0.2, reg_lambda=2, reg_alpha=1, n_estimators=100, min_child_weight=1, max_depth=2, learning_rate=0.001, gamma=0.5, colsample_bytree=0.6, score=-18.768, total=   0.0s\n",
      "[CV] subsample=0.2, reg_lambda=2, reg_alpha=1, n_estimators=100, min_child_weight=1, max_depth=2, learning_rate=0.001, gamma=0.5, colsample_bytree=0.6 \n",
      "[CV]  subsample=0.2, reg_lambda=2, reg_alpha=1, n_estimators=100, min_child_weight=1, max_depth=2, learning_rate=0.001, gamma=0.5, colsample_bytree=0.6, score=-19.955, total=   0.0s\n",
      "[CV] subsample=0.2, reg_lambda=2, reg_alpha=1, n_estimators=100, min_child_weight=1, max_depth=2, learning_rate=0.001, gamma=0.5, colsample_bytree=0.6 \n",
      "[CV]  subsample=0.2, reg_lambda=2, reg_alpha=1, n_estimators=100, min_child_weight=1, max_depth=2, learning_rate=0.001, gamma=0.5, colsample_bytree=0.6, score=-20.533, total=   0.0s\n",
      "[CV] subsample=0.2, reg_lambda=2, reg_alpha=1, n_estimators=100, min_child_weight=1, max_depth=2, learning_rate=0.001, gamma=0.5, colsample_bytree=0.6 \n"
     ]
    },
    {
     "name": "stdout",
     "output_type": "stream",
     "text": [
      "[CV]  subsample=0.2, reg_lambda=2, reg_alpha=1, n_estimators=100, min_child_weight=1, max_depth=2, learning_rate=0.001, gamma=0.5, colsample_bytree=0.6, score=-19.647, total=   0.0s\n",
      "[CV] subsample=0.2, reg_lambda=2, reg_alpha=1, n_estimators=100, min_child_weight=1, max_depth=2, learning_rate=0.001, gamma=0.5, colsample_bytree=0.6 \n",
      "[CV]  subsample=0.2, reg_lambda=2, reg_alpha=1, n_estimators=100, min_child_weight=1, max_depth=2, learning_rate=0.001, gamma=0.5, colsample_bytree=0.6, score=-21.007, total=   0.0s\n",
      "[CV] subsample=0.2, reg_lambda=2, reg_alpha=1, n_estimators=100, min_child_weight=1, max_depth=2, learning_rate=0.001, gamma=0.5, colsample_bytree=0.6 \n",
      "[CV]  subsample=0.2, reg_lambda=2, reg_alpha=1, n_estimators=100, min_child_weight=1, max_depth=2, learning_rate=0.001, gamma=0.5, colsample_bytree=0.6, score=-19.533, total=   0.0s\n",
      "[CV] subsample=0.2, reg_lambda=2, reg_alpha=1, n_estimators=100, min_child_weight=1, max_depth=2, learning_rate=0.001, gamma=0.5, colsample_bytree=0.6 \n",
      "[CV]  subsample=0.2, reg_lambda=2, reg_alpha=1, n_estimators=100, min_child_weight=1, max_depth=2, learning_rate=0.001, gamma=0.5, colsample_bytree=0.6, score=-20.600, total=   0.0s\n",
      "[CV] subsample=0.5, reg_lambda=4.5, reg_alpha=1, n_estimators=100, min_child_weight=7, max_depth=7, learning_rate=0.01, gamma=1.5, colsample_bytree=0.3 \n",
      "[CV]  subsample=0.5, reg_lambda=4.5, reg_alpha=1, n_estimators=100, min_child_weight=7, max_depth=7, learning_rate=0.01, gamma=1.5, colsample_bytree=0.3, score=-6.742, total=   0.0s\n",
      "[CV] subsample=0.5, reg_lambda=4.5, reg_alpha=1, n_estimators=100, min_child_weight=7, max_depth=7, learning_rate=0.01, gamma=1.5, colsample_bytree=0.3 \n",
      "[CV]  subsample=0.5, reg_lambda=4.5, reg_alpha=1, n_estimators=100, min_child_weight=7, max_depth=7, learning_rate=0.01, gamma=1.5, colsample_bytree=0.3, score=-11.071, total=   0.0s\n",
      "[CV] subsample=0.5, reg_lambda=4.5, reg_alpha=1, n_estimators=100, min_child_weight=7, max_depth=7, learning_rate=0.01, gamma=1.5, colsample_bytree=0.3 \n",
      "[CV]  subsample=0.5, reg_lambda=4.5, reg_alpha=1, n_estimators=100, min_child_weight=7, max_depth=7, learning_rate=0.01, gamma=1.5, colsample_bytree=0.3, score=-7.694, total=   0.0s\n",
      "[CV] subsample=0.5, reg_lambda=4.5, reg_alpha=1, n_estimators=100, min_child_weight=7, max_depth=7, learning_rate=0.01, gamma=1.5, colsample_bytree=0.3 \n",
      "[CV]  subsample=0.5, reg_lambda=4.5, reg_alpha=1, n_estimators=100, min_child_weight=7, max_depth=7, learning_rate=0.01, gamma=1.5, colsample_bytree=0.3, score=-8.026, total=   0.0s\n",
      "[CV] subsample=0.5, reg_lambda=4.5, reg_alpha=1, n_estimators=100, min_child_weight=7, max_depth=7, learning_rate=0.01, gamma=1.5, colsample_bytree=0.3 \n",
      "[CV]  subsample=0.5, reg_lambda=4.5, reg_alpha=1, n_estimators=100, min_child_weight=7, max_depth=7, learning_rate=0.01, gamma=1.5, colsample_bytree=0.3, score=-8.972, total=   0.0s\n",
      "[CV] subsample=0.5, reg_lambda=4.5, reg_alpha=1, n_estimators=100, min_child_weight=7, max_depth=7, learning_rate=0.01, gamma=1.5, colsample_bytree=0.3 \n",
      "[CV]  subsample=0.5, reg_lambda=4.5, reg_alpha=1, n_estimators=100, min_child_weight=7, max_depth=7, learning_rate=0.01, gamma=1.5, colsample_bytree=0.3, score=-9.486, total=   0.0s\n",
      "[CV] subsample=0.5, reg_lambda=4.5, reg_alpha=1, n_estimators=100, min_child_weight=7, max_depth=7, learning_rate=0.01, gamma=1.5, colsample_bytree=0.3 \n",
      "[CV]  subsample=0.5, reg_lambda=4.5, reg_alpha=1, n_estimators=100, min_child_weight=7, max_depth=7, learning_rate=0.01, gamma=1.5, colsample_bytree=0.3, score=-7.592, total=   0.0s\n",
      "[CV] subsample=0.5, reg_lambda=4.5, reg_alpha=1, n_estimators=100, min_child_weight=7, max_depth=7, learning_rate=0.01, gamma=1.5, colsample_bytree=0.3 \n",
      "[CV]  subsample=0.5, reg_lambda=4.5, reg_alpha=1, n_estimators=100, min_child_weight=7, max_depth=7, learning_rate=0.01, gamma=1.5, colsample_bytree=0.3, score=-9.323, total=   0.0s\n",
      "[CV] subsample=0.5, reg_lambda=4.5, reg_alpha=1, n_estimators=100, min_child_weight=7, max_depth=7, learning_rate=0.01, gamma=1.5, colsample_bytree=0.3 \n",
      "[CV]  subsample=0.5, reg_lambda=4.5, reg_alpha=1, n_estimators=100, min_child_weight=7, max_depth=7, learning_rate=0.01, gamma=1.5, colsample_bytree=0.3, score=-8.610, total=   0.1s\n",
      "[CV] subsample=0.5, reg_lambda=4.5, reg_alpha=1, n_estimators=100, min_child_weight=7, max_depth=7, learning_rate=0.01, gamma=1.5, colsample_bytree=0.3 \n",
      "[CV]  subsample=0.5, reg_lambda=4.5, reg_alpha=1, n_estimators=100, min_child_weight=7, max_depth=7, learning_rate=0.01, gamma=1.5, colsample_bytree=0.3, score=-9.225, total=   0.1s\n",
      "[CV] subsample=0.6, reg_lambda=3, reg_alpha=0.5, n_estimators=250, min_child_weight=5, max_depth=7, learning_rate=0.01, gamma=2, colsample_bytree=1.0 \n",
      "[CV]  subsample=0.6, reg_lambda=3, reg_alpha=0.5, n_estimators=250, min_child_weight=5, max_depth=7, learning_rate=0.01, gamma=2, colsample_bytree=1.0, score=-2.658, total=   0.1s\n",
      "[CV] subsample=0.6, reg_lambda=3, reg_alpha=0.5, n_estimators=250, min_child_weight=5, max_depth=7, learning_rate=0.01, gamma=2, colsample_bytree=1.0 \n",
      "[CV]  subsample=0.6, reg_lambda=3, reg_alpha=0.5, n_estimators=250, min_child_weight=5, max_depth=7, learning_rate=0.01, gamma=2, colsample_bytree=1.0, score=-3.970, total=   0.2s\n",
      "[CV] subsample=0.6, reg_lambda=3, reg_alpha=0.5, n_estimators=250, min_child_weight=5, max_depth=7, learning_rate=0.01, gamma=2, colsample_bytree=1.0 \n",
      "[CV]  subsample=0.6, reg_lambda=3, reg_alpha=0.5, n_estimators=250, min_child_weight=5, max_depth=7, learning_rate=0.01, gamma=2, colsample_bytree=1.0, score=-2.297, total=   0.2s\n",
      "[CV] subsample=0.6, reg_lambda=3, reg_alpha=0.5, n_estimators=250, min_child_weight=5, max_depth=7, learning_rate=0.01, gamma=2, colsample_bytree=1.0 \n",
      "[CV]  subsample=0.6, reg_lambda=3, reg_alpha=0.5, n_estimators=250, min_child_weight=5, max_depth=7, learning_rate=0.01, gamma=2, colsample_bytree=1.0, score=-2.993, total=   0.2s\n",
      "[CV] subsample=0.6, reg_lambda=3, reg_alpha=0.5, n_estimators=250, min_child_weight=5, max_depth=7, learning_rate=0.01, gamma=2, colsample_bytree=1.0 \n",
      "[CV]  subsample=0.6, reg_lambda=3, reg_alpha=0.5, n_estimators=250, min_child_weight=5, max_depth=7, learning_rate=0.01, gamma=2, colsample_bytree=1.0, score=-3.434, total=   0.1s\n",
      "[CV] subsample=0.6, reg_lambda=3, reg_alpha=0.5, n_estimators=250, min_child_weight=5, max_depth=7, learning_rate=0.01, gamma=2, colsample_bytree=1.0 \n",
      "[CV]  subsample=0.6, reg_lambda=3, reg_alpha=0.5, n_estimators=250, min_child_weight=5, max_depth=7, learning_rate=0.01, gamma=2, colsample_bytree=1.0, score=-3.266, total=   0.2s\n",
      "[CV] subsample=0.6, reg_lambda=3, reg_alpha=0.5, n_estimators=250, min_child_weight=5, max_depth=7, learning_rate=0.01, gamma=2, colsample_bytree=1.0 \n",
      "[CV]  subsample=0.6, reg_lambda=3, reg_alpha=0.5, n_estimators=250, min_child_weight=5, max_depth=7, learning_rate=0.01, gamma=2, colsample_bytree=1.0, score=-2.134, total=   0.1s\n",
      "[CV] subsample=0.6, reg_lambda=3, reg_alpha=0.5, n_estimators=250, min_child_weight=5, max_depth=7, learning_rate=0.01, gamma=2, colsample_bytree=1.0 \n",
      "[CV]  subsample=0.6, reg_lambda=3, reg_alpha=0.5, n_estimators=250, min_child_weight=5, max_depth=7, learning_rate=0.01, gamma=2, colsample_bytree=1.0, score=-3.055, total=   0.2s\n",
      "[CV] subsample=0.6, reg_lambda=3, reg_alpha=0.5, n_estimators=250, min_child_weight=5, max_depth=7, learning_rate=0.01, gamma=2, colsample_bytree=1.0 \n",
      "[CV]  subsample=0.6, reg_lambda=3, reg_alpha=0.5, n_estimators=250, min_child_weight=5, max_depth=7, learning_rate=0.01, gamma=2, colsample_bytree=1.0, score=-3.497, total=   0.1s\n",
      "[CV] subsample=0.6, reg_lambda=3, reg_alpha=0.5, n_estimators=250, min_child_weight=5, max_depth=7, learning_rate=0.01, gamma=2, colsample_bytree=1.0 \n",
      "[CV]  subsample=0.6, reg_lambda=3, reg_alpha=0.5, n_estimators=250, min_child_weight=5, max_depth=7, learning_rate=0.01, gamma=2, colsample_bytree=1.0, score=-3.031, total=   0.2s\n",
      "[CV] subsample=0.7, reg_lambda=1.5, reg_alpha=0.5, n_estimators=1000, min_child_weight=7, max_depth=10, learning_rate=0.001, gamma=0.01, colsample_bytree=1.0 \n",
      "[CV]  subsample=0.7, reg_lambda=1.5, reg_alpha=0.5, n_estimators=1000, min_child_weight=7, max_depth=10, learning_rate=0.001, gamma=0.01, colsample_bytree=1.0, score=-6.905, total=   0.5s\n",
      "[CV] subsample=0.7, reg_lambda=1.5, reg_alpha=0.5, n_estimators=1000, min_child_weight=7, max_depth=10, learning_rate=0.001, gamma=0.01, colsample_bytree=1.0 \n"
     ]
    },
    {
     "name": "stdout",
     "output_type": "stream",
     "text": [
      "[CV]  subsample=0.7, reg_lambda=1.5, reg_alpha=0.5, n_estimators=1000, min_child_weight=7, max_depth=10, learning_rate=0.001, gamma=0.01, colsample_bytree=1.0, score=-10.061, total=   0.5s\n",
      "[CV] subsample=0.7, reg_lambda=1.5, reg_alpha=0.5, n_estimators=1000, min_child_weight=7, max_depth=10, learning_rate=0.001, gamma=0.01, colsample_bytree=1.0 \n",
      "[CV]  subsample=0.7, reg_lambda=1.5, reg_alpha=0.5, n_estimators=1000, min_child_weight=7, max_depth=10, learning_rate=0.001, gamma=0.01, colsample_bytree=1.0, score=-7.870, total=   0.5s\n",
      "[CV] subsample=0.7, reg_lambda=1.5, reg_alpha=0.5, n_estimators=1000, min_child_weight=7, max_depth=10, learning_rate=0.001, gamma=0.01, colsample_bytree=1.0 \n",
      "[CV]  subsample=0.7, reg_lambda=1.5, reg_alpha=0.5, n_estimators=1000, min_child_weight=7, max_depth=10, learning_rate=0.001, gamma=0.01, colsample_bytree=1.0, score=-7.998, total=   0.5s\n",
      "[CV] subsample=0.7, reg_lambda=1.5, reg_alpha=0.5, n_estimators=1000, min_child_weight=7, max_depth=10, learning_rate=0.001, gamma=0.01, colsample_bytree=1.0 \n",
      "[CV]  subsample=0.7, reg_lambda=1.5, reg_alpha=0.5, n_estimators=1000, min_child_weight=7, max_depth=10, learning_rate=0.001, gamma=0.01, colsample_bytree=1.0, score=-8.948, total=   0.5s\n",
      "[CV] subsample=0.7, reg_lambda=1.5, reg_alpha=0.5, n_estimators=1000, min_child_weight=7, max_depth=10, learning_rate=0.001, gamma=0.01, colsample_bytree=1.0 \n",
      "[CV]  subsample=0.7, reg_lambda=1.5, reg_alpha=0.5, n_estimators=1000, min_child_weight=7, max_depth=10, learning_rate=0.001, gamma=0.01, colsample_bytree=1.0, score=-8.893, total=   0.5s\n",
      "[CV] subsample=0.7, reg_lambda=1.5, reg_alpha=0.5, n_estimators=1000, min_child_weight=7, max_depth=10, learning_rate=0.001, gamma=0.01, colsample_bytree=1.0 \n",
      "[CV]  subsample=0.7, reg_lambda=1.5, reg_alpha=0.5, n_estimators=1000, min_child_weight=7, max_depth=10, learning_rate=0.001, gamma=0.01, colsample_bytree=1.0, score=-7.556, total=   0.6s\n",
      "[CV] subsample=0.7, reg_lambda=1.5, reg_alpha=0.5, n_estimators=1000, min_child_weight=7, max_depth=10, learning_rate=0.001, gamma=0.01, colsample_bytree=1.0 \n",
      "[CV]  subsample=0.7, reg_lambda=1.5, reg_alpha=0.5, n_estimators=1000, min_child_weight=7, max_depth=10, learning_rate=0.001, gamma=0.01, colsample_bytree=1.0, score=-8.912, total=   0.6s\n",
      "[CV] subsample=0.7, reg_lambda=1.5, reg_alpha=0.5, n_estimators=1000, min_child_weight=7, max_depth=10, learning_rate=0.001, gamma=0.01, colsample_bytree=1.0 \n",
      "[CV]  subsample=0.7, reg_lambda=1.5, reg_alpha=0.5, n_estimators=1000, min_child_weight=7, max_depth=10, learning_rate=0.001, gamma=0.01, colsample_bytree=1.0, score=-8.525, total=   0.6s\n",
      "[CV] subsample=0.7, reg_lambda=1.5, reg_alpha=0.5, n_estimators=1000, min_child_weight=7, max_depth=10, learning_rate=0.001, gamma=0.01, colsample_bytree=1.0 \n",
      "[CV]  subsample=0.7, reg_lambda=1.5, reg_alpha=0.5, n_estimators=1000, min_child_weight=7, max_depth=10, learning_rate=0.001, gamma=0.01, colsample_bytree=1.0, score=-8.805, total=   0.6s\n",
      "[CV] subsample=0.6, reg_lambda=2, reg_alpha=1, n_estimators=100, min_child_weight=3, max_depth=2, learning_rate=0.001, gamma=1.5, colsample_bytree=0.8 \n",
      "[CV]  subsample=0.6, reg_lambda=2, reg_alpha=1, n_estimators=100, min_child_weight=3, max_depth=2, learning_rate=0.001, gamma=1.5, colsample_bytree=0.8, score=-17.007, total=   0.1s\n",
      "[CV] subsample=0.6, reg_lambda=2, reg_alpha=1, n_estimators=100, min_child_weight=3, max_depth=2, learning_rate=0.001, gamma=1.5, colsample_bytree=0.8 \n",
      "[CV]  subsample=0.6, reg_lambda=2, reg_alpha=1, n_estimators=100, min_child_weight=3, max_depth=2, learning_rate=0.001, gamma=1.5, colsample_bytree=0.8, score=-22.840, total=   0.1s\n",
      "[CV] subsample=0.6, reg_lambda=2, reg_alpha=1, n_estimators=100, min_child_weight=3, max_depth=2, learning_rate=0.001, gamma=1.5, colsample_bytree=0.8 \n",
      "[CV]  subsample=0.6, reg_lambda=2, reg_alpha=1, n_estimators=100, min_child_weight=3, max_depth=2, learning_rate=0.001, gamma=1.5, colsample_bytree=0.8, score=-19.240, total=   0.1s\n",
      "[CV] subsample=0.6, reg_lambda=2, reg_alpha=1, n_estimators=100, min_child_weight=3, max_depth=2, learning_rate=0.001, gamma=1.5, colsample_bytree=0.8 \n",
      "[CV]  subsample=0.6, reg_lambda=2, reg_alpha=1, n_estimators=100, min_child_weight=3, max_depth=2, learning_rate=0.001, gamma=1.5, colsample_bytree=0.8, score=-18.712, total=   0.1s\n",
      "[CV] subsample=0.6, reg_lambda=2, reg_alpha=1, n_estimators=100, min_child_weight=3, max_depth=2, learning_rate=0.001, gamma=1.5, colsample_bytree=0.8 \n",
      "[CV]  subsample=0.6, reg_lambda=2, reg_alpha=1, n_estimators=100, min_child_weight=3, max_depth=2, learning_rate=0.001, gamma=1.5, colsample_bytree=0.8, score=-19.883, total=   0.0s\n",
      "[CV] subsample=0.6, reg_lambda=2, reg_alpha=1, n_estimators=100, min_child_weight=3, max_depth=2, learning_rate=0.001, gamma=1.5, colsample_bytree=0.8 \n",
      "[CV]  subsample=0.6, reg_lambda=2, reg_alpha=1, n_estimators=100, min_child_weight=3, max_depth=2, learning_rate=0.001, gamma=1.5, colsample_bytree=0.8, score=-20.453, total=   0.0s\n",
      "[CV] subsample=0.6, reg_lambda=2, reg_alpha=1, n_estimators=100, min_child_weight=3, max_depth=2, learning_rate=0.001, gamma=1.5, colsample_bytree=0.8 \n",
      "[CV]  subsample=0.6, reg_lambda=2, reg_alpha=1, n_estimators=100, min_child_weight=3, max_depth=2, learning_rate=0.001, gamma=1.5, colsample_bytree=0.8, score=-19.595, total=   0.0s\n",
      "[CV] subsample=0.6, reg_lambda=2, reg_alpha=1, n_estimators=100, min_child_weight=3, max_depth=2, learning_rate=0.001, gamma=1.5, colsample_bytree=0.8 \n",
      "[CV]  subsample=0.6, reg_lambda=2, reg_alpha=1, n_estimators=100, min_child_weight=3, max_depth=2, learning_rate=0.001, gamma=1.5, colsample_bytree=0.8, score=-20.912, total=   0.0s\n",
      "[CV] subsample=0.6, reg_lambda=2, reg_alpha=1, n_estimators=100, min_child_weight=3, max_depth=2, learning_rate=0.001, gamma=1.5, colsample_bytree=0.8 \n",
      "[CV]  subsample=0.6, reg_lambda=2, reg_alpha=1, n_estimators=100, min_child_weight=3, max_depth=2, learning_rate=0.001, gamma=1.5, colsample_bytree=0.8, score=-19.451, total=   0.0s\n",
      "[CV] subsample=0.6, reg_lambda=2, reg_alpha=1, n_estimators=100, min_child_weight=3, max_depth=2, learning_rate=0.001, gamma=1.5, colsample_bytree=0.8 \n",
      "[CV]  subsample=0.6, reg_lambda=2, reg_alpha=1, n_estimators=100, min_child_weight=3, max_depth=2, learning_rate=0.001, gamma=1.5, colsample_bytree=0.8, score=-20.527, total=   0.1s\n",
      "[CV] subsample=0.7, reg_lambda=2, reg_alpha=0.5, n_estimators=100, min_child_weight=3, max_depth=10, learning_rate=0.001, gamma=2, colsample_bytree=1.0 \n",
      "[CV]  subsample=0.7, reg_lambda=2, reg_alpha=0.5, n_estimators=100, min_child_weight=3, max_depth=10, learning_rate=0.001, gamma=2, colsample_bytree=1.0, score=-17.002, total=   0.0s\n",
      "[CV] subsample=0.7, reg_lambda=2, reg_alpha=0.5, n_estimators=100, min_child_weight=3, max_depth=10, learning_rate=0.001, gamma=2, colsample_bytree=1.0 \n",
      "[CV]  subsample=0.7, reg_lambda=2, reg_alpha=0.5, n_estimators=100, min_child_weight=3, max_depth=10, learning_rate=0.001, gamma=2, colsample_bytree=1.0, score=-22.802, total=   0.0s\n",
      "[CV] subsample=0.7, reg_lambda=2, reg_alpha=0.5, n_estimators=100, min_child_weight=3, max_depth=10, learning_rate=0.001, gamma=2, colsample_bytree=1.0 \n",
      "[CV]  subsample=0.7, reg_lambda=2, reg_alpha=0.5, n_estimators=100, min_child_weight=3, max_depth=10, learning_rate=0.001, gamma=2, colsample_bytree=1.0, score=-19.224, total=   0.0s\n",
      "[CV] subsample=0.7, reg_lambda=2, reg_alpha=0.5, n_estimators=100, min_child_weight=3, max_depth=10, learning_rate=0.001, gamma=2, colsample_bytree=1.0 \n",
      "[CV]  subsample=0.7, reg_lambda=2, reg_alpha=0.5, n_estimators=100, min_child_weight=3, max_depth=10, learning_rate=0.001, gamma=2, colsample_bytree=1.0, score=-18.743, total=   0.0s\n",
      "[CV] subsample=0.7, reg_lambda=2, reg_alpha=0.5, n_estimators=100, min_child_weight=3, max_depth=10, learning_rate=0.001, gamma=2, colsample_bytree=1.0 \n",
      "[CV]  subsample=0.7, reg_lambda=2, reg_alpha=0.5, n_estimators=100, min_child_weight=3, max_depth=10, learning_rate=0.001, gamma=2, colsample_bytree=1.0, score=-19.928, total=   0.1s\n",
      "[CV] subsample=0.7, reg_lambda=2, reg_alpha=0.5, n_estimators=100, min_child_weight=3, max_depth=10, learning_rate=0.001, gamma=2, colsample_bytree=1.0 \n",
      "[CV]  subsample=0.7, reg_lambda=2, reg_alpha=0.5, n_estimators=100, min_child_weight=3, max_depth=10, learning_rate=0.001, gamma=2, colsample_bytree=1.0, score=-20.448, total=   0.1s\n",
      "[CV] subsample=0.7, reg_lambda=2, reg_alpha=0.5, n_estimators=100, min_child_weight=3, max_depth=10, learning_rate=0.001, gamma=2, colsample_bytree=1.0 \n",
      "[CV]  subsample=0.7, reg_lambda=2, reg_alpha=0.5, n_estimators=100, min_child_weight=3, max_depth=10, learning_rate=0.001, gamma=2, colsample_bytree=1.0, score=-19.590, total=   0.0s\n",
      "[CV] subsample=0.7, reg_lambda=2, reg_alpha=0.5, n_estimators=100, min_child_weight=3, max_depth=10, learning_rate=0.001, gamma=2, colsample_bytree=1.0 \n",
      "[CV]  subsample=0.7, reg_lambda=2, reg_alpha=0.5, n_estimators=100, min_child_weight=3, max_depth=10, learning_rate=0.001, gamma=2, colsample_bytree=1.0, score=-20.893, total=   0.0s\n",
      "[CV] subsample=0.7, reg_lambda=2, reg_alpha=0.5, n_estimators=100, min_child_weight=3, max_depth=10, learning_rate=0.001, gamma=2, colsample_bytree=1.0 \n"
     ]
    },
    {
     "name": "stdout",
     "output_type": "stream",
     "text": [
      "[CV]  subsample=0.7, reg_lambda=2, reg_alpha=0.5, n_estimators=100, min_child_weight=3, max_depth=10, learning_rate=0.001, gamma=2, colsample_bytree=1.0, score=-19.432, total=   0.1s\n",
      "[CV] subsample=0.7, reg_lambda=2, reg_alpha=0.5, n_estimators=100, min_child_weight=3, max_depth=10, learning_rate=0.001, gamma=2, colsample_bytree=1.0 \n",
      "[CV]  subsample=0.7, reg_lambda=2, reg_alpha=0.5, n_estimators=100, min_child_weight=3, max_depth=10, learning_rate=0.001, gamma=2, colsample_bytree=1.0, score=-20.542, total=   0.1s\n",
      "[CV] subsample=0.6, reg_lambda=1, reg_alpha=0.5, n_estimators=500, min_child_weight=5, max_depth=7, learning_rate=0.001, gamma=0.5, colsample_bytree=1.0 \n",
      "[CV]  subsample=0.6, reg_lambda=1, reg_alpha=0.5, n_estimators=500, min_child_weight=5, max_depth=7, learning_rate=0.001, gamma=0.5, colsample_bytree=1.0, score=-11.373, total=   0.3s\n",
      "[CV] subsample=0.6, reg_lambda=1, reg_alpha=0.5, n_estimators=500, min_child_weight=5, max_depth=7, learning_rate=0.001, gamma=0.5, colsample_bytree=1.0 \n",
      "[CV]  subsample=0.6, reg_lambda=1, reg_alpha=0.5, n_estimators=500, min_child_weight=5, max_depth=7, learning_rate=0.001, gamma=0.5, colsample_bytree=1.0, score=-15.726, total=   0.3s\n",
      "[CV] subsample=0.6, reg_lambda=1, reg_alpha=0.5, n_estimators=500, min_child_weight=5, max_depth=7, learning_rate=0.001, gamma=0.5, colsample_bytree=1.0 \n",
      "[CV]  subsample=0.6, reg_lambda=1, reg_alpha=0.5, n_estimators=500, min_child_weight=5, max_depth=7, learning_rate=0.001, gamma=0.5, colsample_bytree=1.0, score=-12.893, total=   0.4s\n",
      "[CV] subsample=0.6, reg_lambda=1, reg_alpha=0.5, n_estimators=500, min_child_weight=5, max_depth=7, learning_rate=0.001, gamma=0.5, colsample_bytree=1.0 \n",
      "[CV]  subsample=0.6, reg_lambda=1, reg_alpha=0.5, n_estimators=500, min_child_weight=5, max_depth=7, learning_rate=0.001, gamma=0.5, colsample_bytree=1.0, score=-12.711, total=   0.3s\n",
      "[CV] subsample=0.6, reg_lambda=1, reg_alpha=0.5, n_estimators=500, min_child_weight=5, max_depth=7, learning_rate=0.001, gamma=0.5, colsample_bytree=1.0 \n",
      "[CV]  subsample=0.6, reg_lambda=1, reg_alpha=0.5, n_estimators=500, min_child_weight=5, max_depth=7, learning_rate=0.001, gamma=0.5, colsample_bytree=1.0, score=-13.821, total=   0.3s\n",
      "[CV] subsample=0.6, reg_lambda=1, reg_alpha=0.5, n_estimators=500, min_child_weight=5, max_depth=7, learning_rate=0.001, gamma=0.5, colsample_bytree=1.0 \n",
      "[CV]  subsample=0.6, reg_lambda=1, reg_alpha=0.5, n_estimators=500, min_child_weight=5, max_depth=7, learning_rate=0.001, gamma=0.5, colsample_bytree=1.0, score=-13.986, total=   0.2s\n",
      "[CV] subsample=0.6, reg_lambda=1, reg_alpha=0.5, n_estimators=500, min_child_weight=5, max_depth=7, learning_rate=0.001, gamma=0.5, colsample_bytree=1.0 \n",
      "[CV]  subsample=0.6, reg_lambda=1, reg_alpha=0.5, n_estimators=500, min_child_weight=5, max_depth=7, learning_rate=0.001, gamma=0.5, colsample_bytree=1.0, score=-12.903, total=   0.3s\n",
      "[CV] subsample=0.6, reg_lambda=1, reg_alpha=0.5, n_estimators=500, min_child_weight=5, max_depth=7, learning_rate=0.001, gamma=0.5, colsample_bytree=1.0 \n",
      "[CV]  subsample=0.6, reg_lambda=1, reg_alpha=0.5, n_estimators=500, min_child_weight=5, max_depth=7, learning_rate=0.001, gamma=0.5, colsample_bytree=1.0, score=-14.217, total=   0.3s\n",
      "[CV] subsample=0.6, reg_lambda=1, reg_alpha=0.5, n_estimators=500, min_child_weight=5, max_depth=7, learning_rate=0.001, gamma=0.5, colsample_bytree=1.0 \n",
      "[CV]  subsample=0.6, reg_lambda=1, reg_alpha=0.5, n_estimators=500, min_child_weight=5, max_depth=7, learning_rate=0.001, gamma=0.5, colsample_bytree=1.0, score=-13.138, total=   0.2s\n",
      "[CV] subsample=0.6, reg_lambda=1, reg_alpha=0.5, n_estimators=500, min_child_weight=5, max_depth=7, learning_rate=0.001, gamma=0.5, colsample_bytree=1.0 \n",
      "[CV]  subsample=0.6, reg_lambda=1, reg_alpha=0.5, n_estimators=500, min_child_weight=5, max_depth=7, learning_rate=0.001, gamma=0.5, colsample_bytree=1.0, score=-13.964, total=   0.3s\n",
      "[CV] subsample=0.6, reg_lambda=1.5, reg_alpha=0.5, n_estimators=1000, min_child_weight=1, max_depth=7, learning_rate=0.01, gamma=0.1, colsample_bytree=0.8 \n",
      "[CV]  subsample=0.6, reg_lambda=1.5, reg_alpha=0.5, n_estimators=1000, min_child_weight=1, max_depth=7, learning_rate=0.01, gamma=0.1, colsample_bytree=0.8, score=-2.150, total=   1.1s\n",
      "[CV] subsample=0.6, reg_lambda=1.5, reg_alpha=0.5, n_estimators=1000, min_child_weight=1, max_depth=7, learning_rate=0.01, gamma=0.1, colsample_bytree=0.8 \n",
      "[CV]  subsample=0.6, reg_lambda=1.5, reg_alpha=0.5, n_estimators=1000, min_child_weight=1, max_depth=7, learning_rate=0.01, gamma=0.1, colsample_bytree=0.8, score=-2.482, total=   1.0s\n",
      "[CV] subsample=0.6, reg_lambda=1.5, reg_alpha=0.5, n_estimators=1000, min_child_weight=1, max_depth=7, learning_rate=0.01, gamma=0.1, colsample_bytree=0.8 \n",
      "[CV]  subsample=0.6, reg_lambda=1.5, reg_alpha=0.5, n_estimators=1000, min_child_weight=1, max_depth=7, learning_rate=0.01, gamma=0.1, colsample_bytree=0.8, score=-1.344, total=   1.1s\n",
      "[CV] subsample=0.6, reg_lambda=1.5, reg_alpha=0.5, n_estimators=1000, min_child_weight=1, max_depth=7, learning_rate=0.01, gamma=0.1, colsample_bytree=0.8 \n",
      "[CV]  subsample=0.6, reg_lambda=1.5, reg_alpha=0.5, n_estimators=1000, min_child_weight=1, max_depth=7, learning_rate=0.01, gamma=0.1, colsample_bytree=0.8, score=-1.888, total=   1.0s\n",
      "[CV] subsample=0.6, reg_lambda=1.5, reg_alpha=0.5, n_estimators=1000, min_child_weight=1, max_depth=7, learning_rate=0.01, gamma=0.1, colsample_bytree=0.8 \n",
      "[CV]  subsample=0.6, reg_lambda=1.5, reg_alpha=0.5, n_estimators=1000, min_child_weight=1, max_depth=7, learning_rate=0.01, gamma=0.1, colsample_bytree=0.8, score=-2.423, total=   1.0s\n",
      "[CV] subsample=0.6, reg_lambda=1.5, reg_alpha=0.5, n_estimators=1000, min_child_weight=1, max_depth=7, learning_rate=0.01, gamma=0.1, colsample_bytree=0.8 \n",
      "[CV]  subsample=0.6, reg_lambda=1.5, reg_alpha=0.5, n_estimators=1000, min_child_weight=1, max_depth=7, learning_rate=0.01, gamma=0.1, colsample_bytree=0.8, score=-2.212, total=   1.0s\n",
      "[CV] subsample=0.6, reg_lambda=1.5, reg_alpha=0.5, n_estimators=1000, min_child_weight=1, max_depth=7, learning_rate=0.01, gamma=0.1, colsample_bytree=0.8 \n",
      "[CV]  subsample=0.6, reg_lambda=1.5, reg_alpha=0.5, n_estimators=1000, min_child_weight=1, max_depth=7, learning_rate=0.01, gamma=0.1, colsample_bytree=0.8, score=-1.453, total=   1.1s\n",
      "[CV] subsample=0.6, reg_lambda=1.5, reg_alpha=0.5, n_estimators=1000, min_child_weight=1, max_depth=7, learning_rate=0.01, gamma=0.1, colsample_bytree=0.8 \n",
      "[CV]  subsample=0.6, reg_lambda=1.5, reg_alpha=0.5, n_estimators=1000, min_child_weight=1, max_depth=7, learning_rate=0.01, gamma=0.1, colsample_bytree=0.8, score=-2.617, total=   1.1s\n",
      "[CV] subsample=0.6, reg_lambda=1.5, reg_alpha=0.5, n_estimators=1000, min_child_weight=1, max_depth=7, learning_rate=0.01, gamma=0.1, colsample_bytree=0.8 \n",
      "[CV]  subsample=0.6, reg_lambda=1.5, reg_alpha=0.5, n_estimators=1000, min_child_weight=1, max_depth=7, learning_rate=0.01, gamma=0.1, colsample_bytree=0.8, score=-2.691, total=   1.0s\n",
      "[CV] subsample=0.6, reg_lambda=1.5, reg_alpha=0.5, n_estimators=1000, min_child_weight=1, max_depth=7, learning_rate=0.01, gamma=0.1, colsample_bytree=0.8 \n",
      "[CV]  subsample=0.6, reg_lambda=1.5, reg_alpha=0.5, n_estimators=1000, min_child_weight=1, max_depth=7, learning_rate=0.01, gamma=0.1, colsample_bytree=0.8, score=-2.090, total=   1.0s\n",
      "[CV] subsample=0.5, reg_lambda=1, reg_alpha=0, n_estimators=1000, min_child_weight=3, max_depth=10, learning_rate=0.1, gamma=0.5, colsample_bytree=1.0 \n",
      "[CV]  subsample=0.5, reg_lambda=1, reg_alpha=0, n_estimators=1000, min_child_weight=3, max_depth=10, learning_rate=0.1, gamma=0.5, colsample_bytree=1.0, score=-2.226, total=   1.2s\n",
      "[CV] subsample=0.5, reg_lambda=1, reg_alpha=0, n_estimators=1000, min_child_weight=3, max_depth=10, learning_rate=0.1, gamma=0.5, colsample_bytree=1.0 \n",
      "[CV]  subsample=0.5, reg_lambda=1, reg_alpha=0, n_estimators=1000, min_child_weight=3, max_depth=10, learning_rate=0.1, gamma=0.5, colsample_bytree=1.0, score=-2.815, total=   1.2s\n",
      "[CV] subsample=0.5, reg_lambda=1, reg_alpha=0, n_estimators=1000, min_child_weight=3, max_depth=10, learning_rate=0.1, gamma=0.5, colsample_bytree=1.0 \n",
      "[CV]  subsample=0.5, reg_lambda=1, reg_alpha=0, n_estimators=1000, min_child_weight=3, max_depth=10, learning_rate=0.1, gamma=0.5, colsample_bytree=1.0, score=-1.292, total=   1.2s\n",
      "[CV] subsample=0.5, reg_lambda=1, reg_alpha=0, n_estimators=1000, min_child_weight=3, max_depth=10, learning_rate=0.1, gamma=0.5, colsample_bytree=1.0 \n"
     ]
    },
    {
     "name": "stdout",
     "output_type": "stream",
     "text": [
      "[CV]  subsample=0.5, reg_lambda=1, reg_alpha=0, n_estimators=1000, min_child_weight=3, max_depth=10, learning_rate=0.1, gamma=0.5, colsample_bytree=1.0, score=-1.903, total=   1.2s\n",
      "[CV] subsample=0.5, reg_lambda=1, reg_alpha=0, n_estimators=1000, min_child_weight=3, max_depth=10, learning_rate=0.1, gamma=0.5, colsample_bytree=1.0 \n",
      "[CV]  subsample=0.5, reg_lambda=1, reg_alpha=0, n_estimators=1000, min_child_weight=3, max_depth=10, learning_rate=0.1, gamma=0.5, colsample_bytree=1.0, score=-2.467, total=   1.1s\n",
      "[CV] subsample=0.5, reg_lambda=1, reg_alpha=0, n_estimators=1000, min_child_weight=3, max_depth=10, learning_rate=0.1, gamma=0.5, colsample_bytree=1.0 \n",
      "[CV]  subsample=0.5, reg_lambda=1, reg_alpha=0, n_estimators=1000, min_child_weight=3, max_depth=10, learning_rate=0.1, gamma=0.5, colsample_bytree=1.0, score=-2.299, total=   1.1s\n",
      "[CV] subsample=0.5, reg_lambda=1, reg_alpha=0, n_estimators=1000, min_child_weight=3, max_depth=10, learning_rate=0.1, gamma=0.5, colsample_bytree=1.0 \n",
      "[CV]  subsample=0.5, reg_lambda=1, reg_alpha=0, n_estimators=1000, min_child_weight=3, max_depth=10, learning_rate=0.1, gamma=0.5, colsample_bytree=1.0, score=-1.641, total=   1.1s\n",
      "[CV] subsample=0.5, reg_lambda=1, reg_alpha=0, n_estimators=1000, min_child_weight=3, max_depth=10, learning_rate=0.1, gamma=0.5, colsample_bytree=1.0 \n",
      "[CV]  subsample=0.5, reg_lambda=1, reg_alpha=0, n_estimators=1000, min_child_weight=3, max_depth=10, learning_rate=0.1, gamma=0.5, colsample_bytree=1.0, score=-2.701, total=   1.1s\n",
      "[CV] subsample=0.5, reg_lambda=1, reg_alpha=0, n_estimators=1000, min_child_weight=3, max_depth=10, learning_rate=0.1, gamma=0.5, colsample_bytree=1.0 \n",
      "[CV]  subsample=0.5, reg_lambda=1, reg_alpha=0, n_estimators=1000, min_child_weight=3, max_depth=10, learning_rate=0.1, gamma=0.5, colsample_bytree=1.0, score=-2.937, total=   1.1s\n",
      "[CV] subsample=0.5, reg_lambda=1, reg_alpha=0, n_estimators=1000, min_child_weight=3, max_depth=10, learning_rate=0.1, gamma=0.5, colsample_bytree=1.0 \n",
      "[CV]  subsample=0.5, reg_lambda=1, reg_alpha=0, n_estimators=1000, min_child_weight=3, max_depth=10, learning_rate=0.1, gamma=0.5, colsample_bytree=1.0, score=-2.025, total=   1.1s\n"
     ]
    },
    {
     "name": "stderr",
     "output_type": "stream",
     "text": [
      "[Parallel(n_jobs=1)]: Done 500 out of 500 | elapsed:  2.9min finished\n"
     ]
    },
    {
     "data": {
      "text/plain": [
       "RandomizedSearchCV(cv=10,\n",
       "                   estimator=XGBRegressor(base_score=None, booster=None,\n",
       "                                          colsample_bylevel=None,\n",
       "                                          colsample_bynode=None,\n",
       "                                          colsample_bytree=None, gamma=None,\n",
       "                                          gpu_id=None, importance_type='gain',\n",
       "                                          interaction_constraints=None,\n",
       "                                          learning_rate=None,\n",
       "                                          max_delta_step=None, max_depth=None,\n",
       "                                          min_child_weight=None, missing=nan,\n",
       "                                          monotone_constraints=None,\n",
       "                                          n_estimators=100,...\n",
       "                   param_distributions={'colsample_bytree': [0.3, 0.6, 0.8,\n",
       "                                                             1.0],\n",
       "                                        'gamma': [0.01, 0.1, 0.3, 0.5, 1, 1.5,\n",
       "                                                  2],\n",
       "                                        'learning_rate': [0.1, 0.01, 0.001],\n",
       "                                        'max_depth': [2, 4, 7, 10],\n",
       "                                        'min_child_weight': [1, 3, 5, 7],\n",
       "                                        'n_estimators': [100, 250, 500, 1000],\n",
       "                                        'reg_alpha': [0, 0.5, 1],\n",
       "                                        'reg_lambda': [1, 1.5, 2, 3, 4.5],\n",
       "                                        'subsample': [0.2, 0.4, 0.5, 0.6, 0.7]},\n",
       "                   random_state=40, scoring='neg_mean_absolute_error',\n",
       "                   verbose=3)"
      ]
     },
     "execution_count": 17,
     "metadata": {},
     "output_type": "execute_result"
    }
   ],
   "source": [
    "\n",
    "# Crie uma grid de parâmetros\n",
    "parameters = {\"learning_rate\": [0.1, 0.01, 0.001],\n",
    "               \"gamma\" : [0.01, 0.1, 0.3, 0.5, 1, 1.5, 2],\n",
    "               \"max_depth\": [2, 4, 7, 10],\n",
    "               \"colsample_bytree\": [0.3, 0.6, 0.8, 1.0],\n",
    "               \"subsample\": [0.2, 0.4, 0.5, 0.6, 0.7],\n",
    "               \"reg_alpha\": [0, 0.5, 1],\n",
    "               \"reg_lambda\": [1, 1.5, 2, 3, 4.5],\n",
    "               \"min_child_weight\": [1, 3, 5, 7],\n",
    "               \"n_estimators\": [100, 250, 500, 1000]}\n",
    "\n",
    "# import o RandomizedSearchCV\n",
    "from sklearn.model_selection import RandomizedSearchCV\n",
    "# Crie um objeto RandomizedSearchCV \n",
    "\n",
    "random_search = RandomizedSearchCV(xgb_regressor, param_distributions = parameters, scoring = \"neg_mean_absolute_error\",\n",
    "                             cv = 10, verbose = 3,n_iter=50, random_state = 40 )\n",
    "\n",
    "# Fit the model\n",
    "random_search.fit(X_train, y_train)"
   ]
  },
  {
   "cell_type": "markdown",
   "metadata": {},
   "source": [
    "Outras referências: \n",
    "- https://machinelearningmastery.com/xgboost-python-mini-course/\n",
    "- https://medium.com/hypatai/what-makes-xgboost-fast-and-powerful-dc315313ee23"
   ]
  },
  {
   "cell_type": "markdown",
   "metadata": {},
   "source": [
    "Detalhe: O XGBoost trabalha bem com one-hot encoding"
   ]
  },
  {
   "cell_type": "markdown",
   "metadata": {},
   "source": [
    "# LightGBM "
   ]
  },
  {
   "cell_type": "markdown",
   "metadata": {},
   "source": [
    "> O que é Light GBM?\n",
    "Light GBM é um outro modelo de *Boosting* que usa algoritmo de aprendizagem baseado em árvore.\n",
    "\n",
    "\n"
   ]
  },
  {
   "cell_type": "markdown",
   "metadata": {},
   "source": [
    "\n",
    "> Como ele difere de outro algoritmo baseado em árvore?\n",
    "O Light GBM cresce árvore verticalmente enquanto o XGBoost algoritmo cresce árvores horizontalmente, o que significa que Light GBM cresce árvore em forma de folha enquanto outro algoritmo cresce em nível de árvore. Ele escolherá a folha com delta máximo de ganho para crescer. Ao crescer a mesma folha, o algoritmo Leaf-wise pode reduzir mais perdas do que um algoritmo de nível.\n",
    "Os diagramas abaixo explicam a implementação de LightGBM e outros algoritmos de *Boosting*."
   ]
  },
  {
   "cell_type": "markdown",
   "metadata": {},
   "source": [
    "<img src=\"https://miro.medium.com/max/700/1*whSa8rY4sgFQj1rEcWr8Ag.png\" width=\"70%\">"
   ]
  },
  {
   "cell_type": "markdown",
   "metadata": {},
   "source": [
    "<img src=\"https://miro.medium.com/max/700/1*AZsSoXb8lc5N6mnhqX5JCg.png\" width=\"70%\">"
   ]
  },
  {
   "cell_type": "markdown",
   "metadata": {},
   "source": [
    "O LightGBM é cerca de 10 vezes mais rápido que o XGBoost, baseado em alguns experimentos."
   ]
  },
  {
   "cell_type": "markdown",
   "metadata": {},
   "source": [
    "A implementação do Light GBM é fácil, a única coisa complicada é o ajuste dos parâmetros. O Light GBM cobre mais de 100 parâmetros, mas não se preocupe, você não precisa aprender todos.\n",
    "É muito importante para um cientista saber pelo menos alguns parâmetros básicos do Light GBM."
   ]
  },
  {
   "cell_type": "markdown",
   "metadata": {},
   "source": [
    "Hiperparâmetros:\n",
    "- max_depth: Profundidade máxima das árvores.\n",
    "\n",
    "- min_data_in_leaf: É o número mínimo de amostras que podem permanecer em uma folha da árvore.\n",
    "\n",
    "- feature_fraction: Percentualde features utilizadas em cada árvore.\n",
    "\n",
    "- bagging_fraction: Percentual de linhas usadas em cada árvore.\n",
    "\n",
    "- early_stopping_round: É o parâmetro de parada, que pode acelerar o treinamento.\n",
    "\n",
    "- lambda: Regularização. \n",
    "\n",
    "- min_gain_to_split: Esse parâmetro especifica o ganho mínimo para que ocorra o split.\n",
    "\n",
    "- Task: Especifica a tarefa, se é treino ou predição\n",
    "\n",
    "- application: Especifica se é um problema de regressão ou classificação.\n",
    "\n",
    "- boosting: Define o tipo de algoritmo usado como boosting.\n",
    "\n",
    "- num_boost_round: É o mesmo que o número de estimadores.\n",
    "\n",
    "- learning_rate: Determina o impacto de cada árvore na predição final.\n",
    "\n",
    "- num_leaves: Número de folhas em uma árvore.\n",
    "\n",
    "- device: se será utilizada cpu ou gpu\n",
    "\n",
    "- Metric parameter: Métrica para ser usada na loss\n",
    "\n",
    "- categorical_feature: Traz os índices das features categóricas no dataset.\n",
    "\n",
    "- ignore_column: Traz os índices das features que devem ser ignoradas.\n",
    "\n"
   ]
  },
  {
   "cell_type": "code",
   "execution_count": 18,
   "metadata": {},
   "outputs": [],
   "source": [
    "# importe o modulo lightgbm como lgb\n",
    "import lightgbm as lgb\n"
   ]
  },
  {
   "cell_type": "code",
   "execution_count": 68,
   "metadata": {},
   "outputs": [],
   "source": [
    "# carregue o dataset flights.csv e leia apenas 10000 linhas\n",
    "df_flights = pd.read_csv('data/flights.csv', nrows=10000)"
   ]
  },
  {
   "cell_type": "code",
   "execution_count": 69,
   "metadata": {},
   "outputs": [],
   "source": [
    "df_flights = df_flights.sample(frac=1).reset_index(drop=True)"
   ]
  },
  {
   "cell_type": "code",
   "execution_count": 70,
   "metadata": {},
   "outputs": [],
   "source": [
    "df_flights.to_csv('flights.csv', index=False)"
   ]
  },
  {
   "cell_type": "code",
   "execution_count": 71,
   "metadata": {},
   "outputs": [],
   "source": [
    "# selecione apenas as colunas [\"MONTH\",\"DAY\",\"DAY_OF_WEEK\",\"AIRLINE\",\"FLIGHT_NUMBER\",\"DESTINATION_AIRPORT\",\n",
    "                # \"ORIGIN_AIRPORT\",\"AIR_TIME\", \"DEPARTURE_TIME\",\"DISTANCE\",\"ARRIVAL_DELAY\"]\n",
    "    \n",
    "df_flights = df_flights[[\"MONTH\",\"DAY\",\"DAY_OF_WEEK\",\"AIRLINE\",\"FLIGHT_NUMBER\",\"DESTINATION_AIRPORT\",\n",
    "                 \"ORIGIN_AIRPORT\",\"AIR_TIME\", \"DEPARTURE_TIME\",\"DISTANCE\",\"ARRIVAL_DELAY\"]]\n",
    "# construa o target: Se arrival_delay > 10, entao 1, senao 0\n",
    "\n",
    "df_flights[\"ARRIVAL_DELAY\"] = (df_flights[\"ARRIVAL_DELAY\"]>10)*1\n",
    "# converta para category as features categoricas\n",
    "cols = [\"AIRLINE\",\"FLIGHT_NUMBER\",\"DESTINATION_AIRPORT\",\"ORIGIN_AIRPORT\"]\n",
    "for item in cols:\n",
    "    df_flights[item] = df_flights[item].astype(\"category\")\n"
   ]
  },
  {
   "cell_type": "code",
   "execution_count": 72,
   "metadata": {},
   "outputs": [
    {
     "data": {
      "text/plain": [
       "0       1\n",
       "1       0\n",
       "2       0\n",
       "3       0\n",
       "4       0\n",
       "       ..\n",
       "9995    0\n",
       "9996    0\n",
       "9997    1\n",
       "9998    0\n",
       "9999    0\n",
       "Name: ARRIVAL_DELAY, Length: 10000, dtype: int64"
      ]
     },
     "execution_count": 72,
     "metadata": {},
     "output_type": "execute_result"
    }
   ],
   "source": [
    "df_flights[\"ARRIVAL_DELAY\"]"
   ]
  },
  {
   "cell_type": "code",
   "execution_count": 73,
   "metadata": {},
   "outputs": [],
   "source": [
    "# separe em treino e teste, com test_size = 0.25, lembre-se do random_state\n",
    "X_train, X_test, y_train, y_test = train_test_split(df_flights.drop([\"ARRIVAL_DELAY\"], axis=1), df_flights[\"ARRIVAL_DELAY\"],\n",
    "                                                random_state=10, test_size=0.25)\n",
    "\n"
   ]
  },
  {
   "cell_type": "code",
   "execution_count": 74,
   "metadata": {},
   "outputs": [
    {
     "data": {
      "text/plain": [
       "(10000, 11)"
      ]
     },
     "execution_count": 74,
     "metadata": {},
     "output_type": "execute_result"
    }
   ],
   "source": [
    "df_flights.shape"
   ]
  },
  {
   "cell_type": "markdown",
   "metadata": {},
   "source": [
    "- MONTH, DAY, DAY_OF_WEEK: data type int\n",
    "- AIRLINE and FLIGHT_NUMBER: data type int\n",
    "- ORIGIN_AIRPORT and DESTINATION_AIRPORT: data type string\n",
    "- DEPARTURE_TIME: data type float\n",
    "- ARRIVAL_DELAY: this will be the target and is transformed into boolean variable indicating delay of more than 10 minutes\n",
    "- DISTANCE and AIR_TIME: data type float\n"
   ]
  },
  {
   "cell_type": "code",
   "execution_count": 75,
   "metadata": {},
   "outputs": [
    {
     "data": {
      "text/plain": [
       "LGBMClassifier(learning_rate=0.01, max_depth=50, n_estimators=200,\n",
       "               num_leaves=300, random_state=123)"
      ]
     },
     "execution_count": 75,
     "metadata": {},
     "output_type": "execute_result"
    }
   ],
   "source": [
    "\n",
    "lg = lgb.LGBMClassifier(random_state=123)\n",
    "param_dist = {\"max_depth\": [25,50, 75],\n",
    "              \"learning_rate\" : [0.01,0.05,0.1],\n",
    "              \"num_leaves\": [300,900,1200],\n",
    "              \"n_estimators\": [200]\n",
    "             }\n",
    "grid_search = GridSearchCV(lg,\n",
    "                           n_jobs=-1,\n",
    "                           param_grid=param_dist, \n",
    "                           cv = 3, \n",
    "                           scoring=\"roc_auc\")\n",
    "grid_search.fit(X_train,y_train)\n",
    "grid_search.best_estimator_"
   ]
  },
  {
   "cell_type": "code",
   "execution_count": 76,
   "metadata": {},
   "outputs": [
    {
     "data": {
      "text/plain": [
       "array([0, 0, 0, ..., 0, 0, 0])"
      ]
     },
     "execution_count": 76,
     "metadata": {},
     "output_type": "execute_result"
    }
   ],
   "source": [
    "grid_search.best_estimator_.predict(X_test)"
   ]
  },
  {
   "cell_type": "code",
   "execution_count": 39,
   "metadata": {},
   "outputs": [],
   "source": [
    "X_test['ORIGIN_AIRPORT'] = X_test['ORIGIN_AIRPORT'].astype('object')\n",
    "X_test.loc[937,['ORIGIN_AIRPORT']] = 'MCZ'\n",
    "X_test['ORIGIN_AIRPORT'] = X_test['ORIGIN_AIRPORT'].astype('category')\n",
    "\n"
   ]
  },
  {
   "cell_type": "code",
   "execution_count": 48,
   "metadata": {},
   "outputs": [
    {
     "data": {
      "text/plain": [
       "array([0])"
      ]
     },
     "execution_count": 48,
     "metadata": {},
     "output_type": "execute_result"
    }
   ],
   "source": [
    "grid_search.best_estimator_.predict(X_test.loc[[937]])"
   ]
  },
  {
   "cell_type": "code",
   "execution_count": 50,
   "metadata": {},
   "outputs": [
    {
     "data": {
      "text/plain": [
       "MONTH                    0\n",
       "DAY                      0\n",
       "DAY_OF_WEEK              0\n",
       "AIRLINE                  0\n",
       "FLIGHT_NUMBER            0\n",
       "DESTINATION_AIRPORT      0\n",
       "ORIGIN_AIRPORT           0\n",
       "AIR_TIME               120\n",
       "DEPARTURE_TIME         116\n",
       "DISTANCE                 0\n",
       "dtype: int64"
      ]
     },
     "execution_count": 50,
     "metadata": {},
     "output_type": "execute_result"
    }
   ],
   "source": [
    "X_test.isna().sum()"
   ]
  }
 ],
 "metadata": {
  "kernelspec": {
   "display_name": "Python 3",
   "language": "python",
   "name": "python3"
  },
  "language_info": {
   "codemirror_mode": {
    "name": "ipython",
    "version": 3
   },
   "file_extension": ".py",
   "mimetype": "text/x-python",
   "name": "python",
   "nbconvert_exporter": "python",
   "pygments_lexer": "ipython3",
   "version": "3.8.3"
  },
  "latex_envs": {
   "LaTeX_envs_menu_present": true,
   "autoclose": false,
   "autocomplete": true,
   "bibliofile": "biblio.bib",
   "cite_by": "apalike",
   "current_citInitial": 1,
   "eqLabelWithNumbers": true,
   "eqNumInitial": 1,
   "hotkeys": {
    "equation": "Ctrl-E",
    "itemize": "Ctrl-I"
   },
   "labels_anchors": false,
   "latex_user_defs": false,
   "report_style_numbering": false,
   "user_envs_cfg": false
  },
  "toc": {
   "base_numbering": 1,
   "nav_menu": {},
   "number_sections": true,
   "sideBar": true,
   "skip_h1_title": false,
   "title_cell": "Table of Contents",
   "title_sidebar": "Contents",
   "toc_cell": false,
   "toc_position": {
    "height": "calc(100% - 180px)",
    "left": "10px",
    "top": "150px",
    "width": "220px"
   },
   "toc_section_display": true,
   "toc_window_display": true
  },
  "varInspector": {
   "cols": {
    "lenName": 16,
    "lenType": 16,
    "lenVar": 40
   },
   "kernels_config": {
    "python": {
     "delete_cmd_postfix": "",
     "delete_cmd_prefix": "del ",
     "library": "var_list.py",
     "varRefreshCmd": "print(var_dic_list())"
    },
    "r": {
     "delete_cmd_postfix": ") ",
     "delete_cmd_prefix": "rm(",
     "library": "var_list.r",
     "varRefreshCmd": "cat(var_dic_list()) "
    }
   },
   "types_to_exclude": [
    "module",
    "function",
    "builtin_function_or_method",
    "instance",
    "_Feature"
   ],
   "window_display": false
  }
 },
 "nbformat": 4,
 "nbformat_minor": 4
}
