{
 "cells": [
  {
   "cell_type": "markdown",
   "metadata": {},
   "source": [
    "<img src=\"https://i.ytimg.com/vi/BiPzz1xZ0XI/maxresdefault.jpg\" width=800 height=600 />\n"
   ]
  },
  {
   "cell_type": "markdown",
   "metadata": {},
   "source": [
    "Our datasets are usually a mix of categorical numerical and qualitative variables. In theory, numerical variables do not need any treatment to be passed to machine learning algorithms, but even so, some specific treatments, which we will discuss next, can bring some benefits during the training of our models. Qualitative (categorical) variables, on the other hand, require a pre-treatment in order to be transformed into numbers. We will see below some ways to do this, what are their strengths, weaknesses and we will discuss how to do this pre-processing in practice, with the help of ```scikit-learn``` pipelines."
   ]
  },
  {
   "cell_type": "markdown",
   "metadata": {},
   "source": [
    "Let's use the diabetes dataset for our examples."
   ]
  },
  {
   "cell_type": "markdown",
   "metadata": {},
   "source": [
    "# Setup"
   ]
  },
  {
   "cell_type": "code",
   "execution_count": 18,
   "metadata": {
    "collapsed": true
   },
   "outputs": [
    {
     "name": "stdout",
     "output_type": "stream",
     "text": [
      "Requirement already satisfied: category-encoders in c:\\users\\vibrsilva\\anaconda3\\lib\\site-packages (2.5.1.post0)\n",
      "Requirement already satisfied: pandas>=1.0.5 in c:\\users\\vibrsilva\\anaconda3\\lib\\site-packages (from category-encoders) (1.4.2)\n",
      "Requirement already satisfied: scipy>=1.0.0 in c:\\users\\vibrsilva\\anaconda3\\lib\\site-packages (from category-encoders) (1.7.3)\n",
      "Requirement already satisfied: scikit-learn>=0.20.0 in c:\\users\\vibrsilva\\anaconda3\\lib\\site-packages (from category-encoders) (1.0.2)\n",
      "Requirement already satisfied: numpy>=1.14.0 in c:\\users\\vibrsilva\\anaconda3\\lib\\site-packages (from category-encoders) (1.21.5)\n",
      "Requirement already satisfied: patsy>=0.5.1 in c:\\users\\vibrsilva\\anaconda3\\lib\\site-packages (from category-encoders) (0.5.2)\n",
      "Requirement already satisfied: statsmodels>=0.9.0 in c:\\users\\vibrsilva\\anaconda3\\lib\\site-packages (from category-encoders) (0.13.2)\n",
      "Requirement already satisfied: pytz>=2020.1 in c:\\users\\vibrsilva\\anaconda3\\lib\\site-packages (from pandas>=1.0.5->category-encoders) (2021.3)\n",
      "Requirement already satisfied: python-dateutil>=2.8.1 in c:\\users\\vibrsilva\\anaconda3\\lib\\site-packages (from pandas>=1.0.5->category-encoders) (2.8.2)\n",
      "Requirement already satisfied: six in c:\\users\\vibrsilva\\anaconda3\\lib\\site-packages (from patsy>=0.5.1->category-encoders) (1.16.0)\n",
      "Requirement already satisfied: joblib>=0.11 in c:\\users\\vibrsilva\\anaconda3\\lib\\site-packages (from scikit-learn>=0.20.0->category-encoders) (1.1.0)\n",
      "Requirement already satisfied: threadpoolctl>=2.0.0 in c:\\users\\vibrsilva\\anaconda3\\lib\\site-packages (from scikit-learn>=0.20.0->category-encoders) (2.2.0)\n",
      "Requirement already satisfied: packaging>=21.3 in c:\\users\\vibrsilva\\anaconda3\\lib\\site-packages (from statsmodels>=0.9.0->category-encoders) (21.3)\n",
      "Requirement already satisfied: pyparsing!=3.0.5,>=2.0.2 in c:\\users\\vibrsilva\\anaconda3\\lib\\site-packages (from packaging>=21.3->statsmodels>=0.9.0->category-encoders) (3.0.4)\n",
      "Requirement already satisfied: feature-engine in c:\\users\\vibrsilva\\anaconda3\\lib\\site-packages (1.5.1)\n",
      "Requirement already satisfied: statsmodels>=0.11.1 in c:\\users\\vibrsilva\\anaconda3\\lib\\site-packages (from feature-engine) (0.13.2)\n",
      "Requirement already satisfied: numpy>=1.18.2 in c:\\users\\vibrsilva\\anaconda3\\lib\\site-packages (from feature-engine) (1.21.5)\n",
      "Requirement already satisfied: pandas>=1.0.3 in c:\\users\\vibrsilva\\anaconda3\\lib\\site-packages (from feature-engine) (1.4.2)\n",
      "Requirement already satisfied: scikit-learn>=1.0.0 in c:\\users\\vibrsilva\\anaconda3\\lib\\site-packages (from feature-engine) (1.0.2)\n",
      "Requirement already satisfied: scipy>=1.4.1 in c:\\users\\vibrsilva\\anaconda3\\lib\\site-packages (from feature-engine) (1.7.3)\n",
      "Requirement already satisfied: python-dateutil>=2.8.1 in c:\\users\\vibrsilva\\anaconda3\\lib\\site-packages (from pandas>=1.0.3->feature-engine) (2.8.2)\n",
      "Requirement already satisfied: pytz>=2020.1 in c:\\users\\vibrsilva\\anaconda3\\lib\\site-packages (from pandas>=1.0.3->feature-engine) (2021.3)\n",
      "Requirement already satisfied: six>=1.5 in c:\\users\\vibrsilva\\anaconda3\\lib\\site-packages (from python-dateutil>=2.8.1->pandas>=1.0.3->feature-engine) (1.16.0)\n",
      "Requirement already satisfied: threadpoolctl>=2.0.0 in c:\\users\\vibrsilva\\anaconda3\\lib\\site-packages (from scikit-learn>=1.0.0->feature-engine) (2.2.0)\n",
      "Requirement already satisfied: joblib>=0.11 in c:\\users\\vibrsilva\\anaconda3\\lib\\site-packages (from scikit-learn>=1.0.0->feature-engine) (1.1.0)\n",
      "Requirement already satisfied: patsy>=0.5.2 in c:\\users\\vibrsilva\\anaconda3\\lib\\site-packages (from statsmodels>=0.11.1->feature-engine) (0.5.2)\n",
      "Requirement already satisfied: packaging>=21.3 in c:\\users\\vibrsilva\\anaconda3\\lib\\site-packages (from statsmodels>=0.11.1->feature-engine) (21.3)\n",
      "Requirement already satisfied: pyparsing!=3.0.5,>=2.0.2 in c:\\users\\vibrsilva\\anaconda3\\lib\\site-packages (from packaging>=21.3->statsmodels>=0.11.1->feature-engine) (3.0.4)\n"
     ]
    }
   ],
   "source": [
    "!pip install category-encoders\n",
    "\n",
    "!pip install  feature-engine"
   ]
  },
  {
   "cell_type": "code",
   "execution_count": 23,
   "metadata": {},
   "outputs": [],
   "source": [
    "# libs\n",
    "# category_encoder  --> !pip install category-encoders\n",
    "# feature_engine use -->!pip install  feature-engine\n",
    "import pandas as pd\n",
    "import numpy as np\n",
    "import seaborn as sns\n",
    "import matplotlib.pyplot as plt\n",
    "from sklearn.preprocessing import MinMaxScaler, StandardScaler, RobustScaler, OneHotEncoder, OrdinalEncoder\n",
    "from category_encoders import TargetEncoder\n",
    "\n",
    "from feature_engine import *\n",
    "\n",
    "#from feature_engine.categorical_encoders import CountFrequencyCategoricalEncoder\n",
    "from sklearn.model_selection import train_test_split\n",
    "from sklearn.compose import ColumnTransformer\n",
    "from sklearn.pipeline import Pipeline\n",
    "from sklearn.linear_model import LogisticRegression\n",
    "import warnings\n",
    "warnings.filterwarnings('ignore')"
   ]
  },
  {
   "cell_type": "code",
   "execution_count": 26,
   "metadata": {},
   "outputs": [],
   "source": [
    "# dados\n",
    "df_diabetes = pd.read_csv('diabetes.csv')\n",
    "df_titanic = pd.read_csv('titanic_reduced.csv')"
   ]
  },
  {
   "cell_type": "code",
   "execution_count": 28,
   "metadata": {},
   "outputs": [],
   "source": [
    "# Let´s define our variables\n",
    "X_diabetes = df_diabetes.drop('class' , axis = 1)\n",
    "X_titanic = df_titanic.drop('Survived' , axis= 1)\n",
    "Y_diabetes = df_diabetes['class']\n",
    "Y_titanic = df_titanic['Survived']"
   ]
  },
  {
   "cell_type": "code",
   "execution_count": 30,
   "metadata": {},
   "outputs": [],
   "source": [
    "# Creating the train and tests datasets\n",
    "X_train_diabetes, X_test_diabetes, y_train_diabetes, y_test_diabetes = train_test_split(X_diabetes, Y_diabetes,\n",
    "                                                                                       train_size=0.85,\n",
    "                                                                                       random_state=123)\n",
    "X_train_titanic , X_test_titanic, y_train_titanic , y_text_titanic = train_test_split(X_titanic , Y_titanic,\n",
    "                                                                                    train_size=0.85,\n",
    "                                                                                    random_state=123)\n"
   ]
  },
  {
   "cell_type": "markdown",
   "metadata": {},
   "source": [
    "# Data Preparation"
   ]
  },
  {
   "cell_type": "markdown",
   "metadata": {},
   "source": [
    "The data preparation process predates the training of the machine-learning algorithm. The idea is to create a process that, for each input (feature/variable), performs a specific transformation. We will describe some of these transformations from now on, starting with numerical variables."
   ]
  },
  {
   "cell_type": "markdown",
   "metadata": {},
   "source": [
    "## Numerical Variables"
   ]
  },
  {
   "cell_type": "markdown",
   "metadata": {},
   "source": [
    "The variables that are easiest to deal with are numerical variables, as machine-learning algorithms are already capable of interpreting them in their \"raw\" form. However, algorithms and their optimization processes can benefit from this transformation process. In general, machine learning algorithms do not understand that features are of different units and may assume that larger scale variables should be given greater \"weight\" as a result. Generally, algorithms that rely on calculating distances or gradient descents can suffer from the scaling factor. To avoid this kind of situation, we use scaling methods. Now we will present three transformation processes, their characteristics, strengths and weaknesses."
   ]
  },
  {
   "cell_type": "markdown",
   "metadata": {},
   "source": [
    "### MinMax Scaler"
   ]
  },
  {
   "cell_type": "markdown",
   "metadata": {},
   "source": [
    "<img src=\"https://miro.medium.com/max/416/1*vEqbUwYneOkRQXCdPU0n9g.png\" height=300 width=300/>"
   ]
  },
  {
   "cell_type": "markdown",
   "metadata": {},
   "source": [
    "\n",
    "The first transformer that we will see is the MinMaxScaler, which is given by the expression below:"
   ]
  },
  {
   "cell_type": "markdown",
   "metadata": {},
   "source": [
    "<img src=https://cdn-images-1.medium.com/max/800/0*K2QwZ16bEAxA4hUe.jpg height=300 width=300 />"
   ]
  },
  {
   "cell_type": "markdown",
   "metadata": {},
   "source": [
    "Given a variable X, we will transform each value of X through the expression above.\n",
    "for this we will need:\n",
    "- Extract the Minimum from the X vector\n",
    "- Extract the Max from the X vector"
   ]
  },
  {
   "cell_type": "code",
   "execution_count": 32,
   "metadata": {},
   "outputs": [],
   "source": [
    "x_age_train = X_train_diabetes[['age']]\n",
    "x_mass_train = X_train_diabetes[['mass']]"
   ]
  },
  {
   "cell_type": "code",
   "execution_count": 33,
   "metadata": {},
   "outputs": [
    {
     "data": {
      "image/png": "[encoded data removed]",
      "text/plain": [
       "<Figure size 432x288 with 1 Axes>"
      ]
     },
     "metadata": {
      "needs_background": "light"
     },
     "output_type": "display_data"
    },
    {
     "data": {
      "image/png": "[encoded data removed]",
      "text/plain": [
       "<Figure size 432x288 with 1 Axes>"
      ]
     },
     "metadata": {
      "needs_background": "light"
     },
     "output_type": "display_data"
    }
   ],
   "source": [
    "# analysing the distribution\n",
    "\n",
    "sns.kdeplot(x_age_train['age'])\n",
    "plt.show()\n",
    "sns.kdeplot(x_mass_train['mass'])\n",
    "plt.show()"
   ]
  },
  {
   "cell_type": "code",
   "execution_count": 34,
   "metadata": {},
   "outputs": [],
   "source": [
    "x_age_min =  np.min(x_age_train)\n",
    "x_age_max = np.max(x_age_train)\n",
    "x_mass_min = np.min(x_mass_train)\n",
    "x_mass_max = np.max(x_mass_train)"
   ]
  },
  {
   "cell_type": "code",
   "execution_count": 35,
   "metadata": {},
   "outputs": [],
   "source": [
    "x_age_train['min_max'] = (x_age_train - x_age_min)/(x_age_max - x_age_min)\n",
    "x_mass_train['min_max'] = (x_mass_train - x_mass_min)/(x_mass_max - x_mass_min)"
   ]
  },
  {
   "cell_type": "code",
   "execution_count": 36,
   "metadata": {},
   "outputs": [
    {
     "data": {
      "image/png": "[encoded data removed]",
      "text/plain": [
       "<Figure size 432x288 with 1 Axes>"
      ]
     },
     "metadata": {
      "needs_background": "light"
     },
     "output_type": "display_data"
    },
    {
     "data": {
      "image/png": "[encoded data removed]",
      "text/plain": [
       "<Figure size 432x288 with 1 Axes>"
      ]
     },
     "metadata": {
      "needs_background": "light"
     },
     "output_type": "display_data"
    }
   ],
   "source": [
    "sns.kdeplot(x_age_train['min_max'])\n",
    "plt.show()\n",
    "sns.kdeplot(x_mass_train['min_max'])\n",
    "plt.show()"
   ]
  },
  {
   "cell_type": "markdown",
   "metadata": {},
   "source": [
    "Note that the distribution format does not change!! Only the range of values ​​is changed, so that it behaves between 0 and 1."
   ]
  },
  {
   "cell_type": "markdown",
   "metadata": {},
   "source": [
    "> **Warning: Transformations need to be performed in training and testing!! However, we need to use the parameters obtained from the training base (minimum and maximum) to replicate the transformation in the test base. That is, when performing the transformation, we will use the minimum and maximum values ​​extracted from the training vector!!!**"
   ]
  },
  {
   "cell_type": "markdown",
   "metadata": {},
   "source": [
    "But how is it in production? Do I need to store these values ​​somewhere?\n",
    "Yes, of course."
   ]
  },
  {
   "cell_type": "markdown",
   "metadata": {},
   "source": [
    "But for that, ```scikit-learn``` has a series of Classes and Methods that will help us in this step. We will implement the ```MinMaxScaler``` class."
   ]
  },
  {
   "cell_type": "code",
   "execution_count": 37,
   "metadata": {},
   "outputs": [],
   "source": [
    "min_max_scaler = MinMaxScaler()"
   ]
  },
  {
   "cell_type": "markdown",
   "metadata": {},
   "source": [
    "\n",
    "To use this transformer, we will need the ```.fit()``` and ```.transform()``` methods"
   ]
  },
  {
   "cell_type": "markdown",
   "metadata": {},
   "source": [
    "In the ```.fit()``` method, the transformer extracts what it needs to perform the transformation. In our case, this is equivalent to extracting the maximum and minimum values ​​from the vector. For this, we will pass our vector as a parameter."
   ]
  },
  {
   "cell_type": "code",
   "execution_count": 39,
   "metadata": {},
   "outputs": [
    {
     "data": {
      "text/plain": [
       "MinMaxScaler()"
      ]
     },
     "execution_count": 39,
     "metadata": {},
     "output_type": "execute_result"
    }
   ],
   "source": [
    "min_max_scaler.fit(X_train_diabetes[['age']])"
   ]
  },
  {
   "cell_type": "code",
   "execution_count": 40,
   "metadata": {
    "collapsed": true
   },
   "outputs": [
    {
     "data": {
      "text/plain": [
       "array([[0.11666667],\n",
       "       [0.48333333],\n",
       "       [0.7       ],\n",
       "       [0.41666667],\n",
       "       [0.05      ],\n",
       "       [0.26666667],\n",
       "       [0.35      ],\n",
       "       [0.01666667],\n",
       "       [0.03333333],\n",
       "       [0.03333333],\n",
       "       [0.51666667],\n",
       "       [0.7       ],\n",
       "       [0.08333333],\n",
       "       [0.15      ],\n",
       "       [0.05      ],\n",
       "       [0.48333333],\n",
       "       [0.28333333],\n",
       "       [0.01666667],\n",
       "       [0.13333333],\n",
       "       [0.        ],\n",
       "       [0.1       ],\n",
       "       [0.76666667],\n",
       "       [0.26666667],\n",
       "       [0.1       ],\n",
       "       [0.15      ],\n",
       "       [0.01666667],\n",
       "       [0.55      ],\n",
       "       [0.01666667],\n",
       "       [0.        ],\n",
       "       [0.11666667],\n",
       "       [0.25      ],\n",
       "       [0.35      ],\n",
       "       [0.16666667],\n",
       "       [0.03333333],\n",
       "       [0.68333333],\n",
       "       [0.        ],\n",
       "       [0.06666667],\n",
       "       [0.33333333],\n",
       "       [0.11666667],\n",
       "       [0.06666667],\n",
       "       [0.13333333],\n",
       "       [0.3       ],\n",
       "       [0.08333333],\n",
       "       [0.41666667],\n",
       "       [0.05      ],\n",
       "       [0.01666667],\n",
       "       [0.4       ],\n",
       "       [0.43333333],\n",
       "       [0.08333333],\n",
       "       [0.11666667],\n",
       "       [0.26666667],\n",
       "       [0.3       ],\n",
       "       [0.01666667],\n",
       "       [0.05      ],\n",
       "       [0.31666667],\n",
       "       [0.5       ],\n",
       "       [0.11666667],\n",
       "       [0.08333333],\n",
       "       [0.35      ],\n",
       "       [0.01666667],\n",
       "       [0.18333333],\n",
       "       [0.03333333],\n",
       "       [0.16666667],\n",
       "       [0.45      ],\n",
       "       [0.        ],\n",
       "       [0.01666667],\n",
       "       [0.15      ],\n",
       "       [0.13333333],\n",
       "       [0.75      ],\n",
       "       [0.4       ],\n",
       "       [0.11666667],\n",
       "       [0.5       ],\n",
       "       [0.61666667],\n",
       "       [0.35      ],\n",
       "       [0.3       ],\n",
       "       [0.        ],\n",
       "       [0.11666667],\n",
       "       [0.11666667],\n",
       "       [0.1       ],\n",
       "       [0.06666667],\n",
       "       [0.06666667],\n",
       "       [0.06666667],\n",
       "       [0.05      ],\n",
       "       [0.01666667],\n",
       "       [0.01666667],\n",
       "       [0.05      ],\n",
       "       [0.06666667],\n",
       "       [0.43333333],\n",
       "       [0.06666667],\n",
       "       [0.        ],\n",
       "       [0.06666667],\n",
       "       [0.33333333],\n",
       "       [0.03333333],\n",
       "       [0.33333333],\n",
       "       [0.15      ],\n",
       "       [0.25      ],\n",
       "       [0.01666667],\n",
       "       [0.11666667],\n",
       "       [0.05      ],\n",
       "       [0.25      ],\n",
       "       [0.21666667],\n",
       "       [0.        ],\n",
       "       [0.43333333],\n",
       "       [0.2       ],\n",
       "       [0.25      ],\n",
       "       [0.33333333],\n",
       "       [0.03333333],\n",
       "       [0.15      ],\n",
       "       [0.4       ],\n",
       "       [0.55      ],\n",
       "       [0.03333333],\n",
       "       [0.08333333],\n",
       "       [0.        ],\n",
       "       [0.11666667],\n",
       "       [0.2       ],\n",
       "       [0.36666667],\n",
       "       [0.05      ],\n",
       "       [0.65      ],\n",
       "       [0.35      ],\n",
       "       [0.28333333],\n",
       "       [0.21666667],\n",
       "       [0.23333333],\n",
       "       [0.        ],\n",
       "       [0.26666667],\n",
       "       [0.01666667],\n",
       "       [0.11666667],\n",
       "       [0.25      ],\n",
       "       [0.01666667],\n",
       "       [0.06666667],\n",
       "       [0.5       ],\n",
       "       [0.2       ],\n",
       "       [0.48333333],\n",
       "       [0.15      ],\n",
       "       [0.33333333],\n",
       "       [0.01666667],\n",
       "       [0.        ],\n",
       "       [0.        ],\n",
       "       [0.31666667],\n",
       "       [0.1       ],\n",
       "       [0.36666667],\n",
       "       [0.3       ],\n",
       "       [0.13333333],\n",
       "       [0.06666667],\n",
       "       [0.46666667],\n",
       "       [0.3       ],\n",
       "       [0.01666667],\n",
       "       [0.7       ],\n",
       "       [0.28333333],\n",
       "       [0.01666667],\n",
       "       [0.        ],\n",
       "       [0.06666667],\n",
       "       [0.06666667],\n",
       "       [0.48333333],\n",
       "       [0.38333333],\n",
       "       [0.16666667],\n",
       "       [0.25      ],\n",
       "       [0.36666667],\n",
       "       [0.        ],\n",
       "       [0.05      ],\n",
       "       [0.05      ],\n",
       "       [0.3       ],\n",
       "       [0.11666667],\n",
       "       [0.03333333],\n",
       "       [0.1       ],\n",
       "       [0.01666667],\n",
       "       [0.18333333],\n",
       "       [0.6       ],\n",
       "       [0.45      ],\n",
       "       [0.06666667],\n",
       "       [0.2       ],\n",
       "       [0.26666667],\n",
       "       [0.61666667],\n",
       "       [0.11666667],\n",
       "       [0.65      ],\n",
       "       [0.28333333],\n",
       "       [0.68333333],\n",
       "       [0.26666667],\n",
       "       [0.03333333],\n",
       "       [0.28333333],\n",
       "       [0.28333333],\n",
       "       [0.08333333],\n",
       "       [0.16666667],\n",
       "       [0.2       ],\n",
       "       [0.2       ],\n",
       "       [0.13333333],\n",
       "       [0.13333333],\n",
       "       [0.65      ],\n",
       "       [0.11666667],\n",
       "       [0.48333333],\n",
       "       [0.35      ],\n",
       "       [0.23333333],\n",
       "       [0.1       ],\n",
       "       [0.28333333],\n",
       "       [0.01666667],\n",
       "       [0.66666667],\n",
       "       [0.15      ],\n",
       "       [0.4       ],\n",
       "       [0.16666667],\n",
       "       [0.06666667],\n",
       "       [0.3       ],\n",
       "       [0.5       ],\n",
       "       [0.11666667],\n",
       "       [0.13333333],\n",
       "       [0.1       ],\n",
       "       [0.4       ],\n",
       "       [0.15      ],\n",
       "       [0.16666667],\n",
       "       [0.16666667],\n",
       "       [0.05      ],\n",
       "       [0.01666667],\n",
       "       [0.06666667],\n",
       "       [0.08333333],\n",
       "       [0.23333333],\n",
       "       [0.2       ],\n",
       "       [0.05      ],\n",
       "       [0.01666667],\n",
       "       [0.06666667],\n",
       "       [0.11666667],\n",
       "       [0.05      ],\n",
       "       [0.03333333],\n",
       "       [0.26666667],\n",
       "       [0.4       ],\n",
       "       [0.73333333],\n",
       "       [0.08333333],\n",
       "       [0.13333333],\n",
       "       [0.        ],\n",
       "       [0.4       ],\n",
       "       [0.3       ],\n",
       "       [0.03333333],\n",
       "       [0.73333333],\n",
       "       [0.18333333],\n",
       "       [0.05      ],\n",
       "       [0.2       ],\n",
       "       [0.23333333],\n",
       "       [0.6       ],\n",
       "       [0.26666667],\n",
       "       [0.11666667],\n",
       "       [0.03333333],\n",
       "       [0.41666667],\n",
       "       [0.05      ],\n",
       "       [0.        ],\n",
       "       [0.53333333],\n",
       "       [0.55      ],\n",
       "       [0.06666667],\n",
       "       [0.41666667],\n",
       "       [0.11666667],\n",
       "       [0.05      ],\n",
       "       [0.05      ],\n",
       "       [0.41666667],\n",
       "       [0.01666667],\n",
       "       [0.23333333],\n",
       "       [0.56666667],\n",
       "       [0.08333333],\n",
       "       [0.25      ],\n",
       "       [0.01666667],\n",
       "       [0.61666667],\n",
       "       [0.08333333],\n",
       "       [0.05      ],\n",
       "       [0.31666667],\n",
       "       [0.33333333],\n",
       "       [0.1       ],\n",
       "       [0.1       ],\n",
       "       [0.05      ],\n",
       "       [0.6       ],\n",
       "       [0.03333333],\n",
       "       [0.13333333],\n",
       "       [0.51666667],\n",
       "       [0.        ],\n",
       "       [0.15      ],\n",
       "       [0.31666667],\n",
       "       [0.01666667],\n",
       "       [0.        ],\n",
       "       [0.05      ],\n",
       "       [0.61666667],\n",
       "       [0.05      ],\n",
       "       [0.01666667],\n",
       "       [0.16666667],\n",
       "       [0.31666667],\n",
       "       [0.08333333],\n",
       "       [0.1       ],\n",
       "       [0.05      ],\n",
       "       [0.03333333],\n",
       "       [0.        ],\n",
       "       [0.1       ],\n",
       "       [0.38333333],\n",
       "       [0.01666667],\n",
       "       [0.01666667],\n",
       "       [0.06666667],\n",
       "       [0.21666667],\n",
       "       [0.06666667],\n",
       "       [0.56666667],\n",
       "       [0.1       ],\n",
       "       [0.13333333],\n",
       "       [0.11666667],\n",
       "       [0.13333333],\n",
       "       [0.06666667],\n",
       "       [0.4       ],\n",
       "       [0.18333333],\n",
       "       [0.48333333],\n",
       "       [0.18333333],\n",
       "       [0.35      ],\n",
       "       [0.4       ],\n",
       "       [0.08333333],\n",
       "       [0.01666667],\n",
       "       [0.08333333],\n",
       "       [0.31666667],\n",
       "       [0.33333333],\n",
       "       [0.13333333],\n",
       "       [0.66666667],\n",
       "       [0.08333333],\n",
       "       [0.        ],\n",
       "       [0.08333333],\n",
       "       [0.16666667],\n",
       "       [0.25      ],\n",
       "       [0.41666667],\n",
       "       [0.13333333],\n",
       "       [0.03333333],\n",
       "       [0.        ],\n",
       "       [0.03333333],\n",
       "       [0.03333333],\n",
       "       [0.05      ],\n",
       "       [0.71666667],\n",
       "       [0.15      ],\n",
       "       [0.03333333],\n",
       "       [0.05      ],\n",
       "       [0.        ],\n",
       "       [0.85      ],\n",
       "       [0.15      ],\n",
       "       [0.05      ],\n",
       "       [0.1       ],\n",
       "       [0.31666667],\n",
       "       [0.01666667],\n",
       "       [0.05      ],\n",
       "       [0.21666667],\n",
       "       [0.25      ],\n",
       "       [0.33333333],\n",
       "       [0.01666667],\n",
       "       [0.38333333],\n",
       "       [0.08333333],\n",
       "       [0.11666667],\n",
       "       [0.08333333],\n",
       "       [0.2       ],\n",
       "       [0.28333333],\n",
       "       [0.        ],\n",
       "       [0.1       ],\n",
       "       [0.05      ],\n",
       "       [0.33333333],\n",
       "       [0.01666667],\n",
       "       [0.3       ],\n",
       "       [0.01666667],\n",
       "       [0.06666667],\n",
       "       [0.25      ],\n",
       "       [0.28333333],\n",
       "       [0.41666667],\n",
       "       [0.15      ],\n",
       "       [0.31666667],\n",
       "       [0.08333333],\n",
       "       [0.03333333],\n",
       "       [0.33333333],\n",
       "       [0.        ],\n",
       "       [0.13333333],\n",
       "       [0.03333333],\n",
       "       [0.1       ],\n",
       "       [0.21666667],\n",
       "       [0.16666667],\n",
       "       [0.        ],\n",
       "       [0.        ],\n",
       "       [0.6       ],\n",
       "       [0.31666667],\n",
       "       [0.13333333],\n",
       "       [0.16666667],\n",
       "       [0.21666667],\n",
       "       [0.03333333],\n",
       "       [0.26666667],\n",
       "       [0.        ],\n",
       "       [0.        ],\n",
       "       [0.05      ],\n",
       "       [0.08333333],\n",
       "       [0.16666667],\n",
       "       [0.06666667],\n",
       "       [0.01666667],\n",
       "       [0.33333333],\n",
       "       [0.        ],\n",
       "       [0.        ],\n",
       "       [0.01666667],\n",
       "       [0.7       ],\n",
       "       [0.3       ],\n",
       "       [0.16666667],\n",
       "       [0.41666667],\n",
       "       [0.18333333],\n",
       "       [0.28333333],\n",
       "       [0.01666667],\n",
       "       [0.11666667],\n",
       "       [0.06666667],\n",
       "       [0.11666667],\n",
       "       [0.2       ],\n",
       "       [0.        ],\n",
       "       [0.13333333],\n",
       "       [0.01666667],\n",
       "       [0.75      ],\n",
       "       [0.41666667],\n",
       "       [0.61666667],\n",
       "       [0.03333333],\n",
       "       [0.03333333],\n",
       "       [0.33333333],\n",
       "       [0.11666667],\n",
       "       [0.03333333],\n",
       "       [0.51666667],\n",
       "       [0.01666667],\n",
       "       [0.51666667],\n",
       "       [0.35      ],\n",
       "       [0.        ],\n",
       "       [0.01666667],\n",
       "       [0.53333333],\n",
       "       [0.18333333],\n",
       "       [0.01666667],\n",
       "       [0.21666667],\n",
       "       [0.35      ],\n",
       "       [0.15      ],\n",
       "       [0.35      ],\n",
       "       [0.18333333],\n",
       "       [0.03333333],\n",
       "       [0.43333333],\n",
       "       [0.03333333],\n",
       "       [0.06666667],\n",
       "       [0.06666667],\n",
       "       [0.38333333],\n",
       "       [0.41666667],\n",
       "       [0.31666667],\n",
       "       [0.08333333],\n",
       "       [0.01666667],\n",
       "       [0.23333333],\n",
       "       [0.        ],\n",
       "       [0.21666667],\n",
       "       [0.13333333],\n",
       "       [0.01666667],\n",
       "       [0.        ],\n",
       "       [0.        ],\n",
       "       [0.01666667],\n",
       "       [0.05      ],\n",
       "       [0.65      ],\n",
       "       [0.55      ],\n",
       "       [0.46666667],\n",
       "       [0.        ],\n",
       "       [0.        ],\n",
       "       [0.51666667],\n",
       "       [0.1       ],\n",
       "       [0.05      ],\n",
       "       [0.08333333],\n",
       "       [0.81666667],\n",
       "       [0.06666667],\n",
       "       [0.05      ],\n",
       "       [0.35      ],\n",
       "       [0.15      ],\n",
       "       [0.11666667],\n",
       "       [0.36666667],\n",
       "       [0.1       ],\n",
       "       [0.51666667],\n",
       "       [0.26666667],\n",
       "       [0.1       ],\n",
       "       [0.35      ],\n",
       "       [0.01666667],\n",
       "       [0.1       ],\n",
       "       [0.03333333],\n",
       "       [0.05      ],\n",
       "       [0.1       ],\n",
       "       [0.01666667],\n",
       "       [0.33333333],\n",
       "       [0.25      ],\n",
       "       [0.06666667],\n",
       "       [0.        ],\n",
       "       [0.01666667],\n",
       "       [0.3       ],\n",
       "       [0.06666667],\n",
       "       [0.2       ],\n",
       "       [0.05      ],\n",
       "       [0.11666667],\n",
       "       [1.        ],\n",
       "       [0.35      ],\n",
       "       [0.11666667],\n",
       "       [0.03333333],\n",
       "       [0.01666667],\n",
       "       [0.33333333],\n",
       "       [0.63333333],\n",
       "       [0.36666667],\n",
       "       [0.61666667],\n",
       "       [0.2       ],\n",
       "       [0.11666667],\n",
       "       [0.05      ],\n",
       "       [0.03333333],\n",
       "       [0.28333333],\n",
       "       [0.16666667],\n",
       "       [0.36666667],\n",
       "       [0.01666667],\n",
       "       [0.13333333],\n",
       "       [0.06666667],\n",
       "       [0.01666667],\n",
       "       [0.33333333],\n",
       "       [0.        ],\n",
       "       [0.06666667],\n",
       "       [0.08333333],\n",
       "       [0.21666667],\n",
       "       [0.06666667],\n",
       "       [0.05      ],\n",
       "       [0.45      ],\n",
       "       [0.33333333],\n",
       "       [0.75      ],\n",
       "       [0.46666667],\n",
       "       [0.53333333],\n",
       "       [0.18333333],\n",
       "       [0.11666667],\n",
       "       [0.6       ],\n",
       "       [0.53333333],\n",
       "       [0.1       ],\n",
       "       [0.36666667],\n",
       "       [0.38333333],\n",
       "       [0.01666667],\n",
       "       [0.25      ],\n",
       "       [0.01666667],\n",
       "       [0.23333333],\n",
       "       [0.15      ],\n",
       "       [0.05      ],\n",
       "       [0.26666667],\n",
       "       [0.63333333],\n",
       "       [0.15      ],\n",
       "       [0.01666667],\n",
       "       [0.28333333],\n",
       "       [0.36666667],\n",
       "       [0.36666667],\n",
       "       [0.06666667],\n",
       "       [0.        ],\n",
       "       [0.        ],\n",
       "       [0.05      ],\n",
       "       [0.11666667],\n",
       "       [0.13333333],\n",
       "       [0.06666667],\n",
       "       [0.1       ],\n",
       "       [0.13333333],\n",
       "       [0.08333333],\n",
       "       [0.        ],\n",
       "       [0.13333333],\n",
       "       [0.4       ],\n",
       "       [0.05      ],\n",
       "       [0.13333333],\n",
       "       [0.15      ],\n",
       "       [0.16666667],\n",
       "       [0.4       ],\n",
       "       [0.31666667],\n",
       "       [0.01666667],\n",
       "       [0.4       ],\n",
       "       [0.56666667],\n",
       "       [0.18333333],\n",
       "       [0.        ],\n",
       "       [0.56666667],\n",
       "       [0.08333333],\n",
       "       [0.06666667],\n",
       "       [0.5       ],\n",
       "       [0.08333333],\n",
       "       [0.36666667],\n",
       "       [0.05      ],\n",
       "       [0.26666667],\n",
       "       [0.5       ],\n",
       "       [0.        ],\n",
       "       [0.        ],\n",
       "       [0.76666667],\n",
       "       [0.1       ],\n",
       "       [0.48333333],\n",
       "       [0.01666667],\n",
       "       [0.11666667],\n",
       "       [0.55      ],\n",
       "       [0.11666667],\n",
       "       [0.01666667],\n",
       "       [0.33333333],\n",
       "       [0.26666667],\n",
       "       [0.08333333],\n",
       "       [0.01666667],\n",
       "       [0.        ],\n",
       "       [0.01666667],\n",
       "       [0.13333333],\n",
       "       [0.25      ],\n",
       "       [0.76666667],\n",
       "       [0.36666667],\n",
       "       [0.38333333],\n",
       "       [0.65      ],\n",
       "       [0.26666667],\n",
       "       [0.68333333],\n",
       "       [0.13333333],\n",
       "       [0.13333333],\n",
       "       [0.        ],\n",
       "       [0.35      ],\n",
       "       [0.36666667],\n",
       "       [0.        ],\n",
       "       [0.43333333],\n",
       "       [0.68333333],\n",
       "       [0.01666667],\n",
       "       [0.01666667],\n",
       "       [0.35      ],\n",
       "       [0.        ],\n",
       "       [0.16666667],\n",
       "       [0.33333333],\n",
       "       [0.16666667],\n",
       "       [0.1       ],\n",
       "       [0.23333333],\n",
       "       [0.75      ],\n",
       "       [0.01666667],\n",
       "       [0.51666667],\n",
       "       [0.        ],\n",
       "       [0.06666667],\n",
       "       [0.21666667],\n",
       "       [0.05      ],\n",
       "       [0.45      ],\n",
       "       [0.18333333],\n",
       "       [0.05      ],\n",
       "       [0.16666667],\n",
       "       [0.16666667],\n",
       "       [0.35      ],\n",
       "       [0.31666667],\n",
       "       [0.23333333],\n",
       "       [0.41666667],\n",
       "       [0.1       ],\n",
       "       [0.58333333],\n",
       "       [0.01666667],\n",
       "       [0.18333333],\n",
       "       [0.03333333],\n",
       "       [0.06666667],\n",
       "       [0.        ],\n",
       "       [0.1       ],\n",
       "       [0.08333333],\n",
       "       [0.06666667],\n",
       "       [0.33333333],\n",
       "       [0.11666667],\n",
       "       [0.41666667],\n",
       "       [0.08333333],\n",
       "       [0.13333333],\n",
       "       [0.03333333],\n",
       "       [0.01666667],\n",
       "       [0.18333333],\n",
       "       [0.06666667],\n",
       "       [0.05      ],\n",
       "       [0.35      ],\n",
       "       [0.25      ],\n",
       "       [0.2       ],\n",
       "       [0.8       ],\n",
       "       [0.1       ],\n",
       "       [0.01666667],\n",
       "       [0.16666667],\n",
       "       [0.01666667],\n",
       "       [0.03333333],\n",
       "       [0.25      ],\n",
       "       [0.        ],\n",
       "       [0.15      ],\n",
       "       [0.41666667]])"
      ]
     },
     "execution_count": 40,
     "metadata": {},
     "output_type": "execute_result"
    }
   ],
   "source": [
    "min_max_scaler.transform((X_train_diabetes[['age']]))"
   ]
  },
  {
   "cell_type": "markdown",
   "metadata": {},
   "source": [
    "If we want to apply it to our entire training dataset, that is, to all our features at once, we can pass the entire training dataframe. Furthermore, the ```.fit_transform()``` method allows extracting the parameters and already applying the desired transformation."
   ]
  },
  {
   "cell_type": "code",
   "execution_count": 41,
   "metadata": {
    "collapsed": true
   },
   "outputs": [
    {
     "data": {
      "text/plain": [
       "array([[0.11666667],\n",
       "       [0.48333333],\n",
       "       [0.7       ],\n",
       "       [0.41666667],\n",
       "       [0.05      ],\n",
       "       [0.26666667],\n",
       "       [0.35      ],\n",
       "       [0.01666667],\n",
       "       [0.03333333],\n",
       "       [0.03333333],\n",
       "       [0.51666667],\n",
       "       [0.7       ],\n",
       "       [0.08333333],\n",
       "       [0.15      ],\n",
       "       [0.05      ],\n",
       "       [0.48333333],\n",
       "       [0.28333333],\n",
       "       [0.01666667],\n",
       "       [0.13333333],\n",
       "       [0.        ],\n",
       "       [0.1       ],\n",
       "       [0.76666667],\n",
       "       [0.26666667],\n",
       "       [0.1       ],\n",
       "       [0.15      ],\n",
       "       [0.01666667],\n",
       "       [0.55      ],\n",
       "       [0.01666667],\n",
       "       [0.        ],\n",
       "       [0.11666667],\n",
       "       [0.25      ],\n",
       "       [0.35      ],\n",
       "       [0.16666667],\n",
       "       [0.03333333],\n",
       "       [0.68333333],\n",
       "       [0.        ],\n",
       "       [0.06666667],\n",
       "       [0.33333333],\n",
       "       [0.11666667],\n",
       "       [0.06666667],\n",
       "       [0.13333333],\n",
       "       [0.3       ],\n",
       "       [0.08333333],\n",
       "       [0.41666667],\n",
       "       [0.05      ],\n",
       "       [0.01666667],\n",
       "       [0.4       ],\n",
       "       [0.43333333],\n",
       "       [0.08333333],\n",
       "       [0.11666667],\n",
       "       [0.26666667],\n",
       "       [0.3       ],\n",
       "       [0.01666667],\n",
       "       [0.05      ],\n",
       "       [0.31666667],\n",
       "       [0.5       ],\n",
       "       [0.11666667],\n",
       "       [0.08333333],\n",
       "       [0.35      ],\n",
       "       [0.01666667],\n",
       "       [0.18333333],\n",
       "       [0.03333333],\n",
       "       [0.16666667],\n",
       "       [0.45      ],\n",
       "       [0.        ],\n",
       "       [0.01666667],\n",
       "       [0.15      ],\n",
       "       [0.13333333],\n",
       "       [0.75      ],\n",
       "       [0.4       ],\n",
       "       [0.11666667],\n",
       "       [0.5       ],\n",
       "       [0.61666667],\n",
       "       [0.35      ],\n",
       "       [0.3       ],\n",
       "       [0.        ],\n",
       "       [0.11666667],\n",
       "       [0.11666667],\n",
       "       [0.1       ],\n",
       "       [0.06666667],\n",
       "       [0.06666667],\n",
       "       [0.06666667],\n",
       "       [0.05      ],\n",
       "       [0.01666667],\n",
       "       [0.01666667],\n",
       "       [0.05      ],\n",
       "       [0.06666667],\n",
       "       [0.43333333],\n",
       "       [0.06666667],\n",
       "       [0.        ],\n",
       "       [0.06666667],\n",
       "       [0.33333333],\n",
       "       [0.03333333],\n",
       "       [0.33333333],\n",
       "       [0.15      ],\n",
       "       [0.25      ],\n",
       "       [0.01666667],\n",
       "       [0.11666667],\n",
       "       [0.05      ],\n",
       "       [0.25      ],\n",
       "       [0.21666667],\n",
       "       [0.        ],\n",
       "       [0.43333333],\n",
       "       [0.2       ],\n",
       "       [0.25      ],\n",
       "       [0.33333333],\n",
       "       [0.03333333],\n",
       "       [0.15      ],\n",
       "       [0.4       ],\n",
       "       [0.55      ],\n",
       "       [0.03333333],\n",
       "       [0.08333333],\n",
       "       [0.        ],\n",
       "       [0.11666667],\n",
       "       [0.2       ],\n",
       "       [0.36666667],\n",
       "       [0.05      ],\n",
       "       [0.65      ],\n",
       "       [0.35      ],\n",
       "       [0.28333333],\n",
       "       [0.21666667],\n",
       "       [0.23333333],\n",
       "       [0.        ],\n",
       "       [0.26666667],\n",
       "       [0.01666667],\n",
       "       [0.11666667],\n",
       "       [0.25      ],\n",
       "       [0.01666667],\n",
       "       [0.06666667],\n",
       "       [0.5       ],\n",
       "       [0.2       ],\n",
       "       [0.48333333],\n",
       "       [0.15      ],\n",
       "       [0.33333333],\n",
       "       [0.01666667],\n",
       "       [0.        ],\n",
       "       [0.        ],\n",
       "       [0.31666667],\n",
       "       [0.1       ],\n",
       "       [0.36666667],\n",
       "       [0.3       ],\n",
       "       [0.13333333],\n",
       "       [0.06666667],\n",
       "       [0.46666667],\n",
       "       [0.3       ],\n",
       "       [0.01666667],\n",
       "       [0.7       ],\n",
       "       [0.28333333],\n",
       "       [0.01666667],\n",
       "       [0.        ],\n",
       "       [0.06666667],\n",
       "       [0.06666667],\n",
       "       [0.48333333],\n",
       "       [0.38333333],\n",
       "       [0.16666667],\n",
       "       [0.25      ],\n",
       "       [0.36666667],\n",
       "       [0.        ],\n",
       "       [0.05      ],\n",
       "       [0.05      ],\n",
       "       [0.3       ],\n",
       "       [0.11666667],\n",
       "       [0.03333333],\n",
       "       [0.1       ],\n",
       "       [0.01666667],\n",
       "       [0.18333333],\n",
       "       [0.6       ],\n",
       "       [0.45      ],\n",
       "       [0.06666667],\n",
       "       [0.2       ],\n",
       "       [0.26666667],\n",
       "       [0.61666667],\n",
       "       [0.11666667],\n",
       "       [0.65      ],\n",
       "       [0.28333333],\n",
       "       [0.68333333],\n",
       "       [0.26666667],\n",
       "       [0.03333333],\n",
       "       [0.28333333],\n",
       "       [0.28333333],\n",
       "       [0.08333333],\n",
       "       [0.16666667],\n",
       "       [0.2       ],\n",
       "       [0.2       ],\n",
       "       [0.13333333],\n",
       "       [0.13333333],\n",
       "       [0.65      ],\n",
       "       [0.11666667],\n",
       "       [0.48333333],\n",
       "       [0.35      ],\n",
       "       [0.23333333],\n",
       "       [0.1       ],\n",
       "       [0.28333333],\n",
       "       [0.01666667],\n",
       "       [0.66666667],\n",
       "       [0.15      ],\n",
       "       [0.4       ],\n",
       "       [0.16666667],\n",
       "       [0.06666667],\n",
       "       [0.3       ],\n",
       "       [0.5       ],\n",
       "       [0.11666667],\n",
       "       [0.13333333],\n",
       "       [0.1       ],\n",
       "       [0.4       ],\n",
       "       [0.15      ],\n",
       "       [0.16666667],\n",
       "       [0.16666667],\n",
       "       [0.05      ],\n",
       "       [0.01666667],\n",
       "       [0.06666667],\n",
       "       [0.08333333],\n",
       "       [0.23333333],\n",
       "       [0.2       ],\n",
       "       [0.05      ],\n",
       "       [0.01666667],\n",
       "       [0.06666667],\n",
       "       [0.11666667],\n",
       "       [0.05      ],\n",
       "       [0.03333333],\n",
       "       [0.26666667],\n",
       "       [0.4       ],\n",
       "       [0.73333333],\n",
       "       [0.08333333],\n",
       "       [0.13333333],\n",
       "       [0.        ],\n",
       "       [0.4       ],\n",
       "       [0.3       ],\n",
       "       [0.03333333],\n",
       "       [0.73333333],\n",
       "       [0.18333333],\n",
       "       [0.05      ],\n",
       "       [0.2       ],\n",
       "       [0.23333333],\n",
       "       [0.6       ],\n",
       "       [0.26666667],\n",
       "       [0.11666667],\n",
       "       [0.03333333],\n",
       "       [0.41666667],\n",
       "       [0.05      ],\n",
       "       [0.        ],\n",
       "       [0.53333333],\n",
       "       [0.55      ],\n",
       "       [0.06666667],\n",
       "       [0.41666667],\n",
       "       [0.11666667],\n",
       "       [0.05      ],\n",
       "       [0.05      ],\n",
       "       [0.41666667],\n",
       "       [0.01666667],\n",
       "       [0.23333333],\n",
       "       [0.56666667],\n",
       "       [0.08333333],\n",
       "       [0.25      ],\n",
       "       [0.01666667],\n",
       "       [0.61666667],\n",
       "       [0.08333333],\n",
       "       [0.05      ],\n",
       "       [0.31666667],\n",
       "       [0.33333333],\n",
       "       [0.1       ],\n",
       "       [0.1       ],\n",
       "       [0.05      ],\n",
       "       [0.6       ],\n",
       "       [0.03333333],\n",
       "       [0.13333333],\n",
       "       [0.51666667],\n",
       "       [0.        ],\n",
       "       [0.15      ],\n",
       "       [0.31666667],\n",
       "       [0.01666667],\n",
       "       [0.        ],\n",
       "       [0.05      ],\n",
       "       [0.61666667],\n",
       "       [0.05      ],\n",
       "       [0.01666667],\n",
       "       [0.16666667],\n",
       "       [0.31666667],\n",
       "       [0.08333333],\n",
       "       [0.1       ],\n",
       "       [0.05      ],\n",
       "       [0.03333333],\n",
       "       [0.        ],\n",
       "       [0.1       ],\n",
       "       [0.38333333],\n",
       "       [0.01666667],\n",
       "       [0.01666667],\n",
       "       [0.06666667],\n",
       "       [0.21666667],\n",
       "       [0.06666667],\n",
       "       [0.56666667],\n",
       "       [0.1       ],\n",
       "       [0.13333333],\n",
       "       [0.11666667],\n",
       "       [0.13333333],\n",
       "       [0.06666667],\n",
       "       [0.4       ],\n",
       "       [0.18333333],\n",
       "       [0.48333333],\n",
       "       [0.18333333],\n",
       "       [0.35      ],\n",
       "       [0.4       ],\n",
       "       [0.08333333],\n",
       "       [0.01666667],\n",
       "       [0.08333333],\n",
       "       [0.31666667],\n",
       "       [0.33333333],\n",
       "       [0.13333333],\n",
       "       [0.66666667],\n",
       "       [0.08333333],\n",
       "       [0.        ],\n",
       "       [0.08333333],\n",
       "       [0.16666667],\n",
       "       [0.25      ],\n",
       "       [0.41666667],\n",
       "       [0.13333333],\n",
       "       [0.03333333],\n",
       "       [0.        ],\n",
       "       [0.03333333],\n",
       "       [0.03333333],\n",
       "       [0.05      ],\n",
       "       [0.71666667],\n",
       "       [0.15      ],\n",
       "       [0.03333333],\n",
       "       [0.05      ],\n",
       "       [0.        ],\n",
       "       [0.85      ],\n",
       "       [0.15      ],\n",
       "       [0.05      ],\n",
       "       [0.1       ],\n",
       "       [0.31666667],\n",
       "       [0.01666667],\n",
       "       [0.05      ],\n",
       "       [0.21666667],\n",
       "       [0.25      ],\n",
       "       [0.33333333],\n",
       "       [0.01666667],\n",
       "       [0.38333333],\n",
       "       [0.08333333],\n",
       "       [0.11666667],\n",
       "       [0.08333333],\n",
       "       [0.2       ],\n",
       "       [0.28333333],\n",
       "       [0.        ],\n",
       "       [0.1       ],\n",
       "       [0.05      ],\n",
       "       [0.33333333],\n",
       "       [0.01666667],\n",
       "       [0.3       ],\n",
       "       [0.01666667],\n",
       "       [0.06666667],\n",
       "       [0.25      ],\n",
       "       [0.28333333],\n",
       "       [0.41666667],\n",
       "       [0.15      ],\n",
       "       [0.31666667],\n",
       "       [0.08333333],\n",
       "       [0.03333333],\n",
       "       [0.33333333],\n",
       "       [0.        ],\n",
       "       [0.13333333],\n",
       "       [0.03333333],\n",
       "       [0.1       ],\n",
       "       [0.21666667],\n",
       "       [0.16666667],\n",
       "       [0.        ],\n",
       "       [0.        ],\n",
       "       [0.6       ],\n",
       "       [0.31666667],\n",
       "       [0.13333333],\n",
       "       [0.16666667],\n",
       "       [0.21666667],\n",
       "       [0.03333333],\n",
       "       [0.26666667],\n",
       "       [0.        ],\n",
       "       [0.        ],\n",
       "       [0.05      ],\n",
       "       [0.08333333],\n",
       "       [0.16666667],\n",
       "       [0.06666667],\n",
       "       [0.01666667],\n",
       "       [0.33333333],\n",
       "       [0.        ],\n",
       "       [0.        ],\n",
       "       [0.01666667],\n",
       "       [0.7       ],\n",
       "       [0.3       ],\n",
       "       [0.16666667],\n",
       "       [0.41666667],\n",
       "       [0.18333333],\n",
       "       [0.28333333],\n",
       "       [0.01666667],\n",
       "       [0.11666667],\n",
       "       [0.06666667],\n",
       "       [0.11666667],\n",
       "       [0.2       ],\n",
       "       [0.        ],\n",
       "       [0.13333333],\n",
       "       [0.01666667],\n",
       "       [0.75      ],\n",
       "       [0.41666667],\n",
       "       [0.61666667],\n",
       "       [0.03333333],\n",
       "       [0.03333333],\n",
       "       [0.33333333],\n",
       "       [0.11666667],\n",
       "       [0.03333333],\n",
       "       [0.51666667],\n",
       "       [0.01666667],\n",
       "       [0.51666667],\n",
       "       [0.35      ],\n",
       "       [0.        ],\n",
       "       [0.01666667],\n",
       "       [0.53333333],\n",
       "       [0.18333333],\n",
       "       [0.01666667],\n",
       "       [0.21666667],\n",
       "       [0.35      ],\n",
       "       [0.15      ],\n",
       "       [0.35      ],\n",
       "       [0.18333333],\n",
       "       [0.03333333],\n",
       "       [0.43333333],\n",
       "       [0.03333333],\n",
       "       [0.06666667],\n",
       "       [0.06666667],\n",
       "       [0.38333333],\n",
       "       [0.41666667],\n",
       "       [0.31666667],\n",
       "       [0.08333333],\n",
       "       [0.01666667],\n",
       "       [0.23333333],\n",
       "       [0.        ],\n",
       "       [0.21666667],\n",
       "       [0.13333333],\n",
       "       [0.01666667],\n",
       "       [0.        ],\n",
       "       [0.        ],\n",
       "       [0.01666667],\n",
       "       [0.05      ],\n",
       "       [0.65      ],\n",
       "       [0.55      ],\n",
       "       [0.46666667],\n",
       "       [0.        ],\n",
       "       [0.        ],\n",
       "       [0.51666667],\n",
       "       [0.1       ],\n",
       "       [0.05      ],\n",
       "       [0.08333333],\n",
       "       [0.81666667],\n",
       "       [0.06666667],\n",
       "       [0.05      ],\n",
       "       [0.35      ],\n",
       "       [0.15      ],\n",
       "       [0.11666667],\n",
       "       [0.36666667],\n",
       "       [0.1       ],\n",
       "       [0.51666667],\n",
       "       [0.26666667],\n",
       "       [0.1       ],\n",
       "       [0.35      ],\n",
       "       [0.01666667],\n",
       "       [0.1       ],\n",
       "       [0.03333333],\n",
       "       [0.05      ],\n",
       "       [0.1       ],\n",
       "       [0.01666667],\n",
       "       [0.33333333],\n",
       "       [0.25      ],\n",
       "       [0.06666667],\n",
       "       [0.        ],\n",
       "       [0.01666667],\n",
       "       [0.3       ],\n",
       "       [0.06666667],\n",
       "       [0.2       ],\n",
       "       [0.05      ],\n",
       "       [0.11666667],\n",
       "       [1.        ],\n",
       "       [0.35      ],\n",
       "       [0.11666667],\n",
       "       [0.03333333],\n",
       "       [0.01666667],\n",
       "       [0.33333333],\n",
       "       [0.63333333],\n",
       "       [0.36666667],\n",
       "       [0.61666667],\n",
       "       [0.2       ],\n",
       "       [0.11666667],\n",
       "       [0.05      ],\n",
       "       [0.03333333],\n",
       "       [0.28333333],\n",
       "       [0.16666667],\n",
       "       [0.36666667],\n",
       "       [0.01666667],\n",
       "       [0.13333333],\n",
       "       [0.06666667],\n",
       "       [0.01666667],\n",
       "       [0.33333333],\n",
       "       [0.        ],\n",
       "       [0.06666667],\n",
       "       [0.08333333],\n",
       "       [0.21666667],\n",
       "       [0.06666667],\n",
       "       [0.05      ],\n",
       "       [0.45      ],\n",
       "       [0.33333333],\n",
       "       [0.75      ],\n",
       "       [0.46666667],\n",
       "       [0.53333333],\n",
       "       [0.18333333],\n",
       "       [0.11666667],\n",
       "       [0.6       ],\n",
       "       [0.53333333],\n",
       "       [0.1       ],\n",
       "       [0.36666667],\n",
       "       [0.38333333],\n",
       "       [0.01666667],\n",
       "       [0.25      ],\n",
       "       [0.01666667],\n",
       "       [0.23333333],\n",
       "       [0.15      ],\n",
       "       [0.05      ],\n",
       "       [0.26666667],\n",
       "       [0.63333333],\n",
       "       [0.15      ],\n",
       "       [0.01666667],\n",
       "       [0.28333333],\n",
       "       [0.36666667],\n",
       "       [0.36666667],\n",
       "       [0.06666667],\n",
       "       [0.        ],\n",
       "       [0.        ],\n",
       "       [0.05      ],\n",
       "       [0.11666667],\n",
       "       [0.13333333],\n",
       "       [0.06666667],\n",
       "       [0.1       ],\n",
       "       [0.13333333],\n",
       "       [0.08333333],\n",
       "       [0.        ],\n",
       "       [0.13333333],\n",
       "       [0.4       ],\n",
       "       [0.05      ],\n",
       "       [0.13333333],\n",
       "       [0.15      ],\n",
       "       [0.16666667],\n",
       "       [0.4       ],\n",
       "       [0.31666667],\n",
       "       [0.01666667],\n",
       "       [0.4       ],\n",
       "       [0.56666667],\n",
       "       [0.18333333],\n",
       "       [0.        ],\n",
       "       [0.56666667],\n",
       "       [0.08333333],\n",
       "       [0.06666667],\n",
       "       [0.5       ],\n",
       "       [0.08333333],\n",
       "       [0.36666667],\n",
       "       [0.05      ],\n",
       "       [0.26666667],\n",
       "       [0.5       ],\n",
       "       [0.        ],\n",
       "       [0.        ],\n",
       "       [0.76666667],\n",
       "       [0.1       ],\n",
       "       [0.48333333],\n",
       "       [0.01666667],\n",
       "       [0.11666667],\n",
       "       [0.55      ],\n",
       "       [0.11666667],\n",
       "       [0.01666667],\n",
       "       [0.33333333],\n",
       "       [0.26666667],\n",
       "       [0.08333333],\n",
       "       [0.01666667],\n",
       "       [0.        ],\n",
       "       [0.01666667],\n",
       "       [0.13333333],\n",
       "       [0.25      ],\n",
       "       [0.76666667],\n",
       "       [0.36666667],\n",
       "       [0.38333333],\n",
       "       [0.65      ],\n",
       "       [0.26666667],\n",
       "       [0.68333333],\n",
       "       [0.13333333],\n",
       "       [0.13333333],\n",
       "       [0.        ],\n",
       "       [0.35      ],\n",
       "       [0.36666667],\n",
       "       [0.        ],\n",
       "       [0.43333333],\n",
       "       [0.68333333],\n",
       "       [0.01666667],\n",
       "       [0.01666667],\n",
       "       [0.35      ],\n",
       "       [0.        ],\n",
       "       [0.16666667],\n",
       "       [0.33333333],\n",
       "       [0.16666667],\n",
       "       [0.1       ],\n",
       "       [0.23333333],\n",
       "       [0.75      ],\n",
       "       [0.01666667],\n",
       "       [0.51666667],\n",
       "       [0.        ],\n",
       "       [0.06666667],\n",
       "       [0.21666667],\n",
       "       [0.05      ],\n",
       "       [0.45      ],\n",
       "       [0.18333333],\n",
       "       [0.05      ],\n",
       "       [0.16666667],\n",
       "       [0.16666667],\n",
       "       [0.35      ],\n",
       "       [0.31666667],\n",
       "       [0.23333333],\n",
       "       [0.41666667],\n",
       "       [0.1       ],\n",
       "       [0.58333333],\n",
       "       [0.01666667],\n",
       "       [0.18333333],\n",
       "       [0.03333333],\n",
       "       [0.06666667],\n",
       "       [0.        ],\n",
       "       [0.1       ],\n",
       "       [0.08333333],\n",
       "       [0.06666667],\n",
       "       [0.33333333],\n",
       "       [0.11666667],\n",
       "       [0.41666667],\n",
       "       [0.08333333],\n",
       "       [0.13333333],\n",
       "       [0.03333333],\n",
       "       [0.01666667],\n",
       "       [0.18333333],\n",
       "       [0.06666667],\n",
       "       [0.05      ],\n",
       "       [0.35      ],\n",
       "       [0.25      ],\n",
       "       [0.2       ],\n",
       "       [0.8       ],\n",
       "       [0.1       ],\n",
       "       [0.01666667],\n",
       "       [0.16666667],\n",
       "       [0.01666667],\n",
       "       [0.03333333],\n",
       "       [0.25      ],\n",
       "       [0.        ],\n",
       "       [0.15      ],\n",
       "       [0.41666667]])"
      ]
     },
     "execution_count": 41,
     "metadata": {},
     "output_type": "execute_result"
    }
   ],
   "source": [
    "min_max_scaler.fit_transform(X_train_diabetes[['age']])"
   ]
  },
  {
   "cell_type": "markdown",
   "metadata": {},
   "source": [
    "In the end, we need to perform the transformation on our test set! To do this, just call the ```.transform()``` method"
   ]
  },
  {
   "cell_type": "code",
   "execution_count": 42,
   "metadata": {
    "collapsed": true
   },
   "outputs": [
    {
     "data": {
      "text/plain": [
       "array([[0.5       ],\n",
       "       [0.06666667],\n",
       "       [0.23333333],\n",
       "       [0.06666667],\n",
       "       [0.03333333],\n",
       "       [0.4       ],\n",
       "       [0.3       ],\n",
       "       [0.28333333],\n",
       "       [0.43333333],\n",
       "       [0.21666667],\n",
       "       [0.21666667],\n",
       "       [0.06666667],\n",
       "       [0.01666667],\n",
       "       [0.21666667],\n",
       "       [0.16666667],\n",
       "       [0.        ],\n",
       "       [0.38333333],\n",
       "       [0.03333333],\n",
       "       [0.08333333],\n",
       "       [0.16666667],\n",
       "       [0.26666667],\n",
       "       [0.        ],\n",
       "       [0.1       ],\n",
       "       [0.33333333],\n",
       "       [0.53333333],\n",
       "       [0.        ],\n",
       "       [0.01666667],\n",
       "       [0.03333333],\n",
       "       [0.58333333],\n",
       "       [0.38333333],\n",
       "       [0.        ],\n",
       "       [0.08333333],\n",
       "       [0.06666667],\n",
       "       [0.06666667],\n",
       "       [0.1       ],\n",
       "       [0.61666667],\n",
       "       [0.2       ],\n",
       "       [0.2       ],\n",
       "       [0.        ],\n",
       "       [0.01666667],\n",
       "       [0.01666667],\n",
       "       [0.01666667],\n",
       "       [0.15      ],\n",
       "       [0.73333333],\n",
       "       [0.58333333],\n",
       "       [0.33333333],\n",
       "       [0.26666667],\n",
       "       [0.        ],\n",
       "       [0.05      ],\n",
       "       [0.08333333],\n",
       "       [0.01666667],\n",
       "       [0.05      ],\n",
       "       [0.18333333],\n",
       "       [0.05      ],\n",
       "       [0.03333333],\n",
       "       [0.03333333],\n",
       "       [0.08333333],\n",
       "       [0.13333333],\n",
       "       [0.28333333],\n",
       "       [0.46666667],\n",
       "       [0.08333333],\n",
       "       [0.26666667],\n",
       "       [0.2       ],\n",
       "       [0.        ],\n",
       "       [0.01666667],\n",
       "       [0.        ],\n",
       "       [0.21666667],\n",
       "       [0.11666667],\n",
       "       [0.15      ],\n",
       "       [0.06666667],\n",
       "       [0.78333333],\n",
       "       [0.06666667],\n",
       "       [0.31666667],\n",
       "       [0.45      ],\n",
       "       [0.1       ],\n",
       "       [0.03333333],\n",
       "       [0.11666667],\n",
       "       [0.46666667],\n",
       "       [0.63333333],\n",
       "       [0.25      ],\n",
       "       [0.18333333],\n",
       "       [0.26666667],\n",
       "       [0.8       ],\n",
       "       [0.35      ],\n",
       "       [0.05      ],\n",
       "       [0.06666667],\n",
       "       [0.13333333],\n",
       "       [0.2       ],\n",
       "       [0.55      ],\n",
       "       [0.48333333],\n",
       "       [0.        ],\n",
       "       [0.26666667],\n",
       "       [0.1       ],\n",
       "       [0.36666667],\n",
       "       [0.33333333],\n",
       "       [0.15      ],\n",
       "       [0.13333333],\n",
       "       [0.06666667],\n",
       "       [0.01666667],\n",
       "       [0.11666667],\n",
       "       [0.16666667],\n",
       "       [0.4       ],\n",
       "       [0.        ],\n",
       "       [0.01666667],\n",
       "       [0.1       ],\n",
       "       [0.18333333],\n",
       "       [0.06666667],\n",
       "       [0.16666667],\n",
       "       [0.51666667],\n",
       "       [0.01666667],\n",
       "       [0.28333333],\n",
       "       [0.        ],\n",
       "       [0.4       ],\n",
       "       [0.28333333],\n",
       "       [0.5       ],\n",
       "       [0.        ]])"
      ]
     },
     "execution_count": 42,
     "metadata": {},
     "output_type": "execute_result"
    }
   ],
   "source": [
    "min_max_scaler.transform(X_test_diabetes[['age']])"
   ]
  },
  {
   "cell_type": "code",
   "execution_count": 43,
   "metadata": {},
   "outputs": [],
   "source": [
    "min_max_full = MinMaxScaler()"
   ]
  },
  {
   "cell_type": "code",
   "execution_count": 44,
   "metadata": {},
   "outputs": [
    {
     "data": {
      "text/plain": [
       "MinMaxScaler()"
      ]
     },
     "execution_count": 44,
     "metadata": {},
     "output_type": "execute_result"
    }
   ],
   "source": [
    "min_max_full.fit(X_train_diabetes)"
   ]
  },
  {
   "cell_type": "code",
   "execution_count": 45,
   "metadata": {},
   "outputs": [],
   "source": [
    "X_train_diabetes_scaled = min_max_full.transform(X_train_diabetes)"
   ]
  },
  {
   "cell_type": "code",
   "execution_count": 46,
   "metadata": {},
   "outputs": [
    {
     "data": {
      "text/plain": [
       "array([[0.05882353, 0.50251256, 0.59016393, ..., 0.42592593, 0.24765158,\n",
       "        0.11666667],\n",
       "       [0.64705882, 0.69346734, 0.60655738, ..., 0.60774411, 0.20452605,\n",
       "        0.48333333],\n",
       "       [0.23529412, 0.66331658, 0.70491803, ..., 0.47138047, 0.14560205,\n",
       "        0.7       ],\n",
       "       ...,\n",
       "       [0.05882353, 0.54773869, 0.49180328, ..., 0.42760943, 0.37105038,\n",
       "        0.        ],\n",
       "       [0.29411765, 0.49748744, 0.44262295, ..., 0.57239057, 0.17976089,\n",
       "        0.15      ],\n",
       "       [0.70588235, 0.42211055, 0.59016393, ..., 0.5       , 0.09350982,\n",
       "        0.41666667]])"
      ]
     },
     "execution_count": 46,
     "metadata": {},
     "output_type": "execute_result"
    }
   ],
   "source": [
    "X_train_diabetes_scaled"
   ]
  },
  {
   "cell_type": "code",
   "execution_count": 47,
   "metadata": {},
   "outputs": [
    {
     "data": {
      "text/html": [
       "<div>\n",
       "<style scoped>\n",
       "    .dataframe tbody tr th:only-of-type {\n",
       "        vertical-align: middle;\n",
       "    }\n",
       "\n",
       "    .dataframe tbody tr th {\n",
       "        vertical-align: top;\n",
       "    }\n",
       "\n",
       "    .dataframe thead th {\n",
       "        text-align: right;\n",
       "    }\n",
       "</style>\n",
       "<table border=\"1\" class=\"dataframe\">\n",
       "  <thead>\n",
       "    <tr style=\"text-align: right;\">\n",
       "      <th></th>\n",
       "      <th>preg</th>\n",
       "      <th>plas</th>\n",
       "      <th>pres</th>\n",
       "      <th>skin</th>\n",
       "      <th>insu</th>\n",
       "      <th>mass</th>\n",
       "      <th>pedi</th>\n",
       "      <th>age</th>\n",
       "    </tr>\n",
       "  </thead>\n",
       "  <tbody>\n",
       "    <tr>\n",
       "      <th>0</th>\n",
       "      <td>0.058824</td>\n",
       "      <td>0.502513</td>\n",
       "      <td>0.590164</td>\n",
       "      <td>0.121212</td>\n",
       "      <td>0.094086</td>\n",
       "      <td>0.425926</td>\n",
       "      <td>0.247652</td>\n",
       "      <td>0.116667</td>\n",
       "    </tr>\n",
       "    <tr>\n",
       "      <th>1</th>\n",
       "      <td>0.647059</td>\n",
       "      <td>0.693467</td>\n",
       "      <td>0.606557</td>\n",
       "      <td>0.262626</td>\n",
       "      <td>0.193548</td>\n",
       "      <td>0.607744</td>\n",
       "      <td>0.204526</td>\n",
       "      <td>0.483333</td>\n",
       "    </tr>\n",
       "    <tr>\n",
       "      <th>2</th>\n",
       "      <td>0.235294</td>\n",
       "      <td>0.663317</td>\n",
       "      <td>0.704918</td>\n",
       "      <td>0.313131</td>\n",
       "      <td>0.000000</td>\n",
       "      <td>0.471380</td>\n",
       "      <td>0.145602</td>\n",
       "      <td>0.700000</td>\n",
       "    </tr>\n",
       "    <tr>\n",
       "      <th>3</th>\n",
       "      <td>0.235294</td>\n",
       "      <td>0.577889</td>\n",
       "      <td>0.590164</td>\n",
       "      <td>0.000000</td>\n",
       "      <td>0.000000</td>\n",
       "      <td>0.486532</td>\n",
       "      <td>0.127242</td>\n",
       "      <td>0.416667</td>\n",
       "    </tr>\n",
       "    <tr>\n",
       "      <th>4</th>\n",
       "      <td>0.058824</td>\n",
       "      <td>0.683417</td>\n",
       "      <td>0.606557</td>\n",
       "      <td>0.505051</td>\n",
       "      <td>0.274194</td>\n",
       "      <td>0.629630</td>\n",
       "      <td>0.137062</td>\n",
       "      <td>0.050000</td>\n",
       "    </tr>\n",
       "    <tr>\n",
       "      <th>...</th>\n",
       "      <td>...</td>\n",
       "      <td>...</td>\n",
       "      <td>...</td>\n",
       "      <td>...</td>\n",
       "      <td>...</td>\n",
       "      <td>...</td>\n",
       "      <td>...</td>\n",
       "      <td>...</td>\n",
       "    </tr>\n",
       "    <tr>\n",
       "      <th>647</th>\n",
       "      <td>0.352941</td>\n",
       "      <td>0.467337</td>\n",
       "      <td>0.409836</td>\n",
       "      <td>0.303030</td>\n",
       "      <td>0.086022</td>\n",
       "      <td>0.483165</td>\n",
       "      <td>0.118702</td>\n",
       "      <td>0.033333</td>\n",
       "    </tr>\n",
       "    <tr>\n",
       "      <th>648</th>\n",
       "      <td>0.000000</td>\n",
       "      <td>0.623116</td>\n",
       "      <td>0.573770</td>\n",
       "      <td>0.202020</td>\n",
       "      <td>0.000000</td>\n",
       "      <td>0.461279</td>\n",
       "      <td>0.075149</td>\n",
       "      <td>0.250000</td>\n",
       "    </tr>\n",
       "    <tr>\n",
       "      <th>649</th>\n",
       "      <td>0.058824</td>\n",
       "      <td>0.547739</td>\n",
       "      <td>0.491803</td>\n",
       "      <td>0.080808</td>\n",
       "      <td>0.244624</td>\n",
       "      <td>0.427609</td>\n",
       "      <td>0.371050</td>\n",
       "      <td>0.000000</td>\n",
       "    </tr>\n",
       "    <tr>\n",
       "      <th>650</th>\n",
       "      <td>0.294118</td>\n",
       "      <td>0.497487</td>\n",
       "      <td>0.442623</td>\n",
       "      <td>0.282828</td>\n",
       "      <td>0.111559</td>\n",
       "      <td>0.572391</td>\n",
       "      <td>0.179761</td>\n",
       "      <td>0.150000</td>\n",
       "    </tr>\n",
       "    <tr>\n",
       "      <th>651</th>\n",
       "      <td>0.705882</td>\n",
       "      <td>0.422111</td>\n",
       "      <td>0.590164</td>\n",
       "      <td>0.313131</td>\n",
       "      <td>0.000000</td>\n",
       "      <td>0.500000</td>\n",
       "      <td>0.093510</td>\n",
       "      <td>0.416667</td>\n",
       "    </tr>\n",
       "  </tbody>\n",
       "</table>\n",
       "<p>652 rows × 8 columns</p>\n",
       "</div>"
      ],
      "text/plain": [
       "         preg      plas      pres      skin      insu      mass      pedi  \\\n",
       "0    0.058824  0.502513  0.590164  0.121212  0.094086  0.425926  0.247652   \n",
       "1    0.647059  0.693467  0.606557  0.262626  0.193548  0.607744  0.204526   \n",
       "2    0.235294  0.663317  0.704918  0.313131  0.000000  0.471380  0.145602   \n",
       "3    0.235294  0.577889  0.590164  0.000000  0.000000  0.486532  0.127242   \n",
       "4    0.058824  0.683417  0.606557  0.505051  0.274194  0.629630  0.137062   \n",
       "..        ...       ...       ...       ...       ...       ...       ...   \n",
       "647  0.352941  0.467337  0.409836  0.303030  0.086022  0.483165  0.118702   \n",
       "648  0.000000  0.623116  0.573770  0.202020  0.000000  0.461279  0.075149   \n",
       "649  0.058824  0.547739  0.491803  0.080808  0.244624  0.427609  0.371050   \n",
       "650  0.294118  0.497487  0.442623  0.282828  0.111559  0.572391  0.179761   \n",
       "651  0.705882  0.422111  0.590164  0.313131  0.000000  0.500000  0.093510   \n",
       "\n",
       "          age  \n",
       "0    0.116667  \n",
       "1    0.483333  \n",
       "2    0.700000  \n",
       "3    0.416667  \n",
       "4    0.050000  \n",
       "..        ...  \n",
       "647  0.033333  \n",
       "648  0.250000  \n",
       "649  0.000000  \n",
       "650  0.150000  \n",
       "651  0.416667  \n",
       "\n",
       "[652 rows x 8 columns]"
      ]
     },
     "execution_count": 47,
     "metadata": {},
     "output_type": "execute_result"
    }
   ],
   "source": [
    "pd.DataFrame(X_train_diabetes_scaled , columns= X_train_diabetes.columns)"
   ]
  },
  {
   "cell_type": "markdown",
   "metadata": {},
   "source": [
    "\n",
    "Disadvantage:\n",
    "- The method is sensitive to outliers."
   ]
  },
  {
   "cell_type": "markdown",
   "metadata": {},
   "source": [
    "### Standard Scaler"
   ]
  },
  {
   "cell_type": "markdown",
   "metadata": {},
   "source": [
    "\n",
    "We've already seen the Standard Scaler, when we talk about standardizing a normal curve."
   ]
  },
  {
   "cell_type": "markdown",
   "metadata": {},
   "source": [
    "<img src=https://cdn-images-1.medium.com/max/800/0*vQEjz0mvylP--30Q.GIF height=300 width=300/>"
   ]
  },
  {
   "cell_type": "markdown",
   "metadata": {},
   "source": [
    "\n",
    "In this method, we extract the mean and standard deviation. From there, we subtract the mean of each sample and divide the result by the standard deviation."
   ]
  },
  {
   "cell_type": "markdown",
   "metadata": {},
   "source": [
    "After the transformation, the data are centered at 0 and have a standard deviation of 1."
   ]
  },
  {
   "cell_type": "code",
   "execution_count": null,
   "metadata": {},
   "outputs": [],
   "source": []
  },
  {
   "cell_type": "code",
   "execution_count": null,
   "metadata": {},
   "outputs": [],
   "source": []
  },
  {
   "cell_type": "code",
   "execution_count": null,
   "metadata": {},
   "outputs": [],
   "source": []
  },
  {
   "cell_type": "code",
   "execution_count": null,
   "metadata": {},
   "outputs": [],
   "source": []
  },
  {
   "cell_type": "markdown",
   "metadata": {},
   "source": [
    "Note that StandardScaler centers the data at 0. Also, there is no defined range, as in MinMaxScaler. However, the range of features is close."
   ]
  },
  {
   "cell_type": "code",
   "execution_count": null,
   "metadata": {},
   "outputs": [],
   "source": []
  },
  {
   "cell_type": "code",
   "execution_count": null,
   "metadata": {},
   "outputs": [],
   "source": []
  },
  {
   "cell_type": "markdown",
   "metadata": {},
   "source": [
    "\n",
    "If our data is normally distributed, algorithms can benefit more from using StandardScaler instead of MinMaxScaler."
   ]
  },
  {
   "cell_type": "markdown",
   "metadata": {},
   "source": [
    "Disadvantage:\n",
    "- Sensitive to outliers"
   ]
  },
  {
   "cell_type": "markdown",
   "metadata": {},
   "source": [
    "### Robust Scaler"
   ]
  },
  {
   "cell_type": "markdown",
   "metadata": {},
   "source": [
    "A robust outlier method is the RobustScaler. This transformation is similar to the MinMax transformation, but uses Quartiles 1 and 3 to apply the scaling, instead of the maximum and minimum values."
   ]
  },
  {
   "cell_type": "markdown",
   "metadata": {},
   "source": [
    "<img src=\"https://media.geeksforgeeks.org/wp-content/uploads/20200624151526/for4.png\" height=300 width=300/>"
   ]
  },
  {
   "cell_type": "markdown",
   "metadata": {},
   "source": [
    "\n",
    "The method implemented in ```scikit-learn``` subtracts the median (Q2) in place of Q1."
   ]
  },
  {
   "cell_type": "code",
   "execution_count": null,
   "metadata": {},
   "outputs": [],
   "source": []
  },
  {
   "cell_type": "code",
   "execution_count": null,
   "metadata": {},
   "outputs": [],
   "source": []
  },
  {
   "cell_type": "code",
   "execution_count": null,
   "metadata": {},
   "outputs": [],
   "source": []
  },
  {
   "cell_type": "code",
   "execution_count": null,
   "metadata": {},
   "outputs": [],
   "source": []
  },
  {
   "cell_type": "markdown",
   "metadata": {},
   "source": [
    "\n",
    "Note that the range changes, becomes better behaved, and that there are no outliers."
   ]
  },
  {
   "cell_type": "markdown",
   "metadata": {},
   "source": [
    "> **NOTE**: There is no golden rule or guarantee of improving the model using any transformer. We can only really say something after training the model. Furthermore, the same model can benefit from different transformers in different situations. However, it is worth noting that certain algorithms, such as PCA or KMeans, require the application of a specific transformer. Overall, the performances are similar to different transformers, but this is a setting that can be tweaked to result in the best possible performance."
   ]
  },
  {
   "cell_type": "markdown",
   "metadata": {},
   "source": [
    "## Qualitative Variables (Categorical)"
   ]
  },
  {
   "cell_type": "markdown",
   "metadata": {},
   "source": [
    "Numerical variables are much easier to handle, they don't present many problems in production. When we talk about qualitative variables, then we do have potential problems for which we need to have some strategies."
   ]
  },
  {
   "cell_type": "markdown",
   "metadata": {},
   "source": [
    "The 2 main problems are:\n",
    "- New levels in variables\n",
    "- Rare levels"
   ]
  },
  {
   "cell_type": "markdown",
   "metadata": {},
   "source": [
    "Before talking about these 2 problems, let's show how we can encode qualitative variables as numbers."
   ]
  },
  {
   "cell_type": "markdown",
   "metadata": {},
   "source": [
    "\n",
    "In this dataset, we have the following categorical variables:"
   ]
  },
  {
   "cell_type": "markdown",
   "metadata": {},
   "source": [
    "- **Embarked**: Indicates the port where the passenger embarked\n",
    "- **Sex**: Indicates the sex of the passenger\n",
    "- **Pclass**: Class that the passenger traveled"
   ]
  },
  {
   "cell_type": "markdown",
   "metadata": {},
   "source": [
    "### One-Hot Encoder"
   ]
  },
  {
   "cell_type": "markdown",
   "metadata": {},
   "source": [
    "This first transformer we already know! That's right, we already know, but we call it ```pd.get_dummies()```"
   ]
  },
  {
   "cell_type": "markdown",
   "metadata": {},
   "source": [
    "\n",
    "The idea is that for each level of the categorical variable a column is created, which can receive the value 0 or 1."
   ]
  },
  {
   "cell_type": "markdown",
   "metadata": {},
   "source": [
    "<img src=\"https://i.imgur.com/TW5m0aJ.png\" height=700 width=700/>"
   ]
  },
  {
   "cell_type": "markdown",
   "metadata": {},
   "source": [
    "Let's use ```OneHotEncoder``` to encode the variables"
   ]
  },
  {
   "cell_type": "code",
   "execution_count": null,
   "metadata": {},
   "outputs": [],
   "source": []
  },
  {
   "cell_type": "code",
   "execution_count": null,
   "metadata": {},
   "outputs": [],
   "source": []
  },
  {
   "cell_type": "code",
   "execution_count": null,
   "metadata": {},
   "outputs": [],
   "source": []
  },
  {
   "cell_type": "code",
   "execution_count": null,
   "metadata": {},
   "outputs": [],
   "source": []
  },
  {
   "cell_type": "code",
   "execution_count": null,
   "metadata": {},
   "outputs": [],
   "source": []
  },
  {
   "cell_type": "markdown",
   "metadata": {},
   "source": [
    "\n",
    "Disadvantages:\n",
    "- If the variable has many levels (Brazil states), many columns will be created and this can be a problem in terms of processing and high dimensionality (curse of dimensionality).\n",
    "- Some models (trees) benefit more from other methods."
   ]
  },
  {
   "cell_type": "markdown",
   "metadata": {},
   "source": [
    "### OrdinalEncoder"
   ]
  },
  {
   "cell_type": "markdown",
   "metadata": {},
   "source": [
    "\n",
    "When there are ordinal categorical variables, these are best encoded by ```OrdinalEncoder```.\n",
    "OrdinalEncoder assigns a number to each level of the variable, according to the order pre-established by the user."
   ]
  },
  {
   "cell_type": "code",
   "execution_count": null,
   "metadata": {},
   "outputs": [],
   "source": []
  },
  {
   "cell_type": "code",
   "execution_count": null,
   "metadata": {},
   "outputs": [],
   "source": []
  },
  {
   "cell_type": "markdown",
   "metadata": {},
   "source": [
    "\n",
    "Note that Poor < Good < Very Good < Excellent"
   ]
  },
  {
   "cell_type": "code",
   "execution_count": null,
   "metadata": {},
   "outputs": [],
   "source": []
  },
  {
   "cell_type": "code",
   "execution_count": null,
   "metadata": {},
   "outputs": [],
   "source": []
  },
  {
   "cell_type": "code",
   "execution_count": null,
   "metadata": {},
   "outputs": [],
   "source": []
  },
  {
   "cell_type": "markdown",
   "metadata": {},
   "source": [
    "If we don't specify the order of the levels, the transformer assigns the labels alphabetically in the levels."
   ]
  },
  {
   "cell_type": "code",
   "execution_count": null,
   "metadata": {},
   "outputs": [],
   "source": []
  },
  {
   "cell_type": "code",
   "execution_count": null,
   "metadata": {},
   "outputs": [],
   "source": []
  },
  {
   "cell_type": "markdown",
   "metadata": {},
   "source": [
    "### Frequency Encoder"
   ]
  },
  {
   "cell_type": "markdown",
   "metadata": {},
   "source": [
    "When we have many levels in the categorical variables or even they do not have any ordinal degree, we can use the Frequency Encoder. This method replaces each class level with its frequency in the training data."
   ]
  },
  {
   "cell_type": "code",
   "execution_count": null,
   "metadata": {},
   "outputs": [],
   "source": []
  },
  {
   "cell_type": "code",
   "execution_count": null,
   "metadata": {},
   "outputs": [],
   "source": []
  },
  {
   "cell_type": "code",
   "execution_count": null,
   "metadata": {},
   "outputs": [],
   "source": []
  },
  {
   "cell_type": "markdown",
   "metadata": {},
   "source": [
    "\n",
    "For example, in the variable Sex, male would be replaced by 0.65 and female by 0.35."
   ]
  },
  {
   "cell_type": "code",
   "execution_count": null,
   "metadata": {},
   "outputs": [],
   "source": []
  },
  {
   "cell_type": "code",
   "execution_count": null,
   "metadata": {},
   "outputs": [],
   "source": []
  },
  {
   "cell_type": "markdown",
   "metadata": {},
   "source": [
    "### Target Encoder"
   ]
  },
  {
   "cell_type": "markdown",
   "metadata": {},
   "source": [
    "Finally, let's look at the Target Encoder. This method is similar to the previous one. However, instead of simply looking at the frequency of levels, it looks at the frequency of levels at the levels of the response variables, in the case of Target being categorical, and the average of Target, in case of Target being continuous."
   ]
  },
  {
   "cell_type": "code",
   "execution_count": null,
   "metadata": {},
   "outputs": [],
   "source": []
  },
  {
   "cell_type": "code",
   "execution_count": null,
   "metadata": {},
   "outputs": [],
   "source": []
  },
  {
   "cell_type": "code",
   "execution_count": null,
   "metadata": {},
   "outputs": [],
   "source": []
  },
  {
   "cell_type": "markdown",
   "metadata": {},
   "source": [
    "# Column Transformer"
   ]
  },
  {
   "cell_type": "markdown",
   "metadata": {},
   "source": [
    "So far we've seen how to apply transformations to categorical and numeric data separately. We would have to collect the results of our transformations and group them together to form a transformed set to insert into a Machine Learning model. Now we will learn how to perform all the processing in a single step, with the help of the ```Columns Transformer``` and ```Pipeline``` Classes"
   ]
  },
  {
   "cell_type": "code",
   "execution_count": null,
   "metadata": {},
   "outputs": [],
   "source": []
  },
  {
   "cell_type": "code",
   "execution_count": null,
   "metadata": {},
   "outputs": [],
   "source": []
  },
  {
   "cell_type": "code",
   "execution_count": null,
   "metadata": {},
   "outputs": [],
   "source": []
  },
  {
   "cell_type": "markdown",
   "metadata": {},
   "source": [
    "\n",
    "In it we have the variables:\n",
    "- Embarked: Nominal Qualitative\n",
    "- Sex: Nominal Qualitative\n",
    "- Age: Continuous Numeric\n",
    "- Pclass: Ordinal Qualitative\n",
    "- Survived: Binary Qualitative Target"
   ]
  },
  {
   "cell_type": "markdown",
   "metadata": {},
   "source": [
    "\n",
    "Therefore, we will use the following transformers:\n",
    "- OrdinalEncoder: Pclass\n",
    "- MinMaxScaler: Age\n",
    "- OneHotEncoder: Sex, Embarked"
   ]
  },
  {
   "cell_type": "markdown",
   "metadata": {},
   "source": [
    "\n",
    "Furthermore, at the end of the processing, we will use the ```Scikit-Learn``` Logistic Regression model"
   ]
  },
  {
   "cell_type": "markdown",
   "metadata": {},
   "source": [
    "\n",
    "To build our universal transformer we need to create tuples."
   ]
  },
  {
   "cell_type": "markdown",
   "metadata": {},
   "source": [
    "The first element of the tuple will be an identifier, a string, which identifies the name of the process (it can be any name). The second element is the transformer itself and its properties, if any. The third element is a list with the name of the columns that will receive the processing."
   ]
  },
  {
   "cell_type": "code",
   "execution_count": null,
   "metadata": {},
   "outputs": [],
   "source": []
  },
  {
   "cell_type": "code",
   "execution_count": null,
   "metadata": {},
   "outputs": [],
   "source": []
  },
  {
   "cell_type": "code",
   "execution_count": null,
   "metadata": {},
   "outputs": [],
   "source": []
  },
  {
   "cell_type": "markdown",
   "metadata": {},
   "source": [
    "Once that's done, we put everything in a list and pass it to the ```ColumnTransformer``` class"
   ]
  },
  {
   "cell_type": "code",
   "execution_count": null,
   "metadata": {},
   "outputs": [],
   "source": []
  },
  {
   "cell_type": "code",
   "execution_count": null,
   "metadata": {},
   "outputs": [],
   "source": []
  },
  {
   "cell_type": "code",
   "execution_count": null,
   "metadata": {},
   "outputs": [],
   "source": []
  },
  {
   "cell_type": "markdown",
   "metadata": {},
   "source": [
    "\n",
    "Finally, we will use the ```Pipeline``` class which will combine the preprocessing and training/prediction steps."
   ]
  },
  {
   "cell_type": "markdown",
   "metadata": {},
   "source": [
    "To this class we pass a list of tuples. The model always comes last!! Before it, any transformer can come, any class that has the fit and transform method."
   ]
  },
  {
   "cell_type": "markdown",
   "metadata": {},
   "source": [
    "\n",
    "Here we will pass the pre_processor we just created to our pipeline. This will be our step number 1, followed by step number 2, which will be the Logistic Regression model."
   ]
  },
  {
   "cell_type": "code",
   "execution_count": null,
   "metadata": {},
   "outputs": [],
   "source": []
  },
  {
   "cell_type": "code",
   "execution_count": null,
   "metadata": {},
   "outputs": [],
   "source": []
  },
  {
   "cell_type": "markdown",
   "metadata": {},
   "source": [
    "Let's split our data into training and testing."
   ]
  },
  {
   "cell_type": "code",
   "execution_count": null,
   "metadata": {},
   "outputs": [],
   "source": []
  },
  {
   "cell_type": "code",
   "execution_count": null,
   "metadata": {},
   "outputs": [],
   "source": []
  },
  {
   "cell_type": "markdown",
   "metadata": {},
   "source": [
    "\n",
    "With our pipeline built, we just need to call the ```.fit()``` method and then ```.predit()``` to make predictions with our model."
   ]
  },
  {
   "cell_type": "code",
   "execution_count": null,
   "metadata": {},
   "outputs": [],
   "source": []
  },
  {
   "cell_type": "code",
   "execution_count": null,
   "metadata": {},
   "outputs": [],
   "source": []
  },
  {
   "cell_type": "markdown",
   "metadata": {},
   "source": [
    "\n",
    "Shall we visualize our pre-processing and modeling pipeline?"
   ]
  },
  {
   "cell_type": "code",
   "execution_count": null,
   "metadata": {},
   "outputs": [],
   "source": []
  },
  {
   "cell_type": "code",
   "execution_count": null,
   "metadata": {},
   "outputs": [],
   "source": []
  },
  {
   "cell_type": "code",
   "execution_count": null,
   "metadata": {},
   "outputs": [],
   "source": []
  },
  {
   "cell_type": "markdown",
   "metadata": {},
   "source": [
    "> Note: In addition to handling data pre-processing, a modeling pipeline needs to handle filling in missing values ​​and handling new levels that may arise in categorical variables. For example, let's say we train a model to predict sales at points of sale that use PicPay. One of the variables used was the State to which the establishment belongs. However, PicPay expanded to new states and even states that did not participate in model training. Thus, even not having seen anything about that state, the model should be able to make some estimate. We will learn in classification classes how to deal with this and other problems related to categorical variables, such as the issue of rare levels."
   ]
  },
  {
   "cell_type": "code",
   "execution_count": 1,
   "metadata": {},
   "outputs": [
    {
     "name": "stdout",
     "output_type": "stream",
     "text": [
      "Collecting jupyterthemesNote: you may need to restart the kernel to use updated packages.\n",
      "\n",
      "  Downloading jupyterthemes-0.20.0-py2.py3-none-any.whl (7.0 MB)\n",
      "Requirement already satisfied: jupyter-core in c:\\users\\vibrsilva\\anaconda3\\lib\\site-packages (from jupyterthemes) (4.9.2)\n",
      "Requirement already satisfied: matplotlib>=1.4.3 in c:\\users\\vibrsilva\\anaconda3\\lib\\site-packages (from jupyterthemes) (3.5.1)\n",
      "Requirement already satisfied: ipython>=5.4.1 in c:\\users\\vibrsilva\\anaconda3\\lib\\site-packages (from jupyterthemes) (8.2.0)\n",
      "Collecting lesscpy>=0.11.2\n",
      "  Downloading lesscpy-0.15.1-py2.py3-none-any.whl (46 kB)\n",
      "Requirement already satisfied: notebook>=5.6.0 in c:\\users\\vibrsilva\\anaconda3\\lib\\site-packages (from jupyterthemes) (6.4.8)\n",
      "Requirement already satisfied: prompt-toolkit!=3.0.0,!=3.0.1,<3.1.0,>=2.0.0 in c:\\users\\vibrsilva\\anaconda3\\lib\\site-packages (from ipython>=5.4.1->jupyterthemes) (3.0.20)\n",
      "Requirement already satisfied: backcall in c:\\users\\vibrsilva\\anaconda3\\lib\\site-packages (from ipython>=5.4.1->jupyterthemes) (0.2.0)\n",
      "Requirement already satisfied: stack-data in c:\\users\\vibrsilva\\anaconda3\\lib\\site-packages (from ipython>=5.4.1->jupyterthemes) (0.2.0)\n",
      "Requirement already satisfied: traitlets>=5 in c:\\users\\vibrsilva\\anaconda3\\lib\\site-packages (from ipython>=5.4.1->jupyterthemes) (5.1.1)\n",
      "Requirement already satisfied: jedi>=0.16 in c:\\users\\vibrsilva\\anaconda3\\lib\\site-packages (from ipython>=5.4.1->jupyterthemes) (0.18.1)\n",
      "Requirement already satisfied: decorator in c:\\users\\vibrsilva\\anaconda3\\lib\\site-packages (from ipython>=5.4.1->jupyterthemes) (5.1.1)\n",
      "Requirement already satisfied: colorama in c:\\users\\vibrsilva\\anaconda3\\lib\\site-packages (from ipython>=5.4.1->jupyterthemes) (0.4.4)\n",
      "Requirement already satisfied: setuptools>=18.5 in c:\\users\\vibrsilva\\anaconda3\\lib\\site-packages (from ipython>=5.4.1->jupyterthemes) (61.2.0)\n",
      "Requirement already satisfied: matplotlib-inline in c:\\users\\vibrsilva\\anaconda3\\lib\\site-packages (from ipython>=5.4.1->jupyterthemes) (0.1.2)\n",
      "Requirement already satisfied: pygments>=2.4.0 in c:\\users\\vibrsilva\\anaconda3\\lib\\site-packages (from ipython>=5.4.1->jupyterthemes) (2.11.2)\n",
      "Requirement already satisfied: pickleshare in c:\\users\\vibrsilva\\anaconda3\\lib\\site-packages (from ipython>=5.4.1->jupyterthemes) (0.7.5)\n",
      "Requirement already satisfied: parso<0.9.0,>=0.8.0 in c:\\users\\vibrsilva\\anaconda3\\lib\\site-packages (from jedi>=0.16->ipython>=5.4.1->jupyterthemes) (0.8.3)\n",
      "Collecting ply\n",
      "  Downloading ply-3.11-py2.py3-none-any.whl (49 kB)\n",
      "Requirement already satisfied: packaging>=20.0 in c:\\users\\vibrsilva\\anaconda3\\lib\\site-packages (from matplotlib>=1.4.3->jupyterthemes) (21.3)\n",
      "Requirement already satisfied: numpy>=1.17 in c:\\users\\vibrsilva\\anaconda3\\lib\\site-packages (from matplotlib>=1.4.3->jupyterthemes) (1.21.5)\n",
      "Requirement already satisfied: kiwisolver>=1.0.1 in c:\\users\\vibrsilva\\anaconda3\\lib\\site-packages (from matplotlib>=1.4.3->jupyterthemes) (1.3.2)\n",
      "Requirement already satisfied: pillow>=6.2.0 in c:\\users\\vibrsilva\\anaconda3\\lib\\site-packages (from matplotlib>=1.4.3->jupyterthemes) (9.0.1)\n",
      "Requirement already satisfied: fonttools>=4.22.0 in c:\\users\\vibrsilva\\anaconda3\\lib\\site-packages (from matplotlib>=1.4.3->jupyterthemes) (4.25.0)\n",
      "Requirement already satisfied: pyparsing>=2.2.1 in c:\\users\\vibrsilva\\anaconda3\\lib\\site-packages (from matplotlib>=1.4.3->jupyterthemes) (3.0.4)\n",
      "Requirement already satisfied: python-dateutil>=2.7 in c:\\users\\vibrsilva\\anaconda3\\lib\\site-packages (from matplotlib>=1.4.3->jupyterthemes) (2.8.2)\n",
      "Requirement already satisfied: cycler>=0.10 in c:\\users\\vibrsilva\\anaconda3\\lib\\site-packages (from matplotlib>=1.4.3->jupyterthemes) (0.11.0)\n",
      "Requirement already satisfied: nbformat in c:\\users\\vibrsilva\\anaconda3\\lib\\site-packages (from notebook>=5.6.0->jupyterthemes) (5.3.0)\n",
      "Requirement already satisfied: nest-asyncio>=1.5 in c:\\users\\vibrsilva\\anaconda3\\lib\\site-packages (from notebook>=5.6.0->jupyterthemes) (1.5.5)\n",
      "Requirement already satisfied: Send2Trash>=1.8.0 in c:\\users\\vibrsilva\\anaconda3\\lib\\site-packages (from notebook>=5.6.0->jupyterthemes) (1.8.0)\n",
      "Requirement already satisfied: ipython-genutils in c:\\users\\vibrsilva\\anaconda3\\lib\\site-packages (from notebook>=5.6.0->jupyterthemes) (0.2.0)\n",
      "Requirement already satisfied: jupyter-client>=5.3.4 in c:\\users\\vibrsilva\\anaconda3\\lib\\site-packages (from notebook>=5.6.0->jupyterthemes) (6.1.12)\n",
      "Requirement already satisfied: tornado>=6.1 in c:\\users\\vibrsilva\\anaconda3\\lib\\site-packages (from notebook>=5.6.0->jupyterthemes) (6.1)\n",
      "Requirement already satisfied: pyzmq>=17 in c:\\users\\vibrsilva\\anaconda3\\lib\\site-packages (from notebook>=5.6.0->jupyterthemes) (22.3.0)\n",
      "Requirement already satisfied: jinja2 in c:\\users\\vibrsilva\\anaconda3\\lib\\site-packages (from notebook>=5.6.0->jupyterthemes) (2.11.3)\n",
      "Requirement already satisfied: terminado>=0.8.3 in c:\\users\\vibrsilva\\anaconda3\\lib\\site-packages (from notebook>=5.6.0->jupyterthemes) (0.13.1)\n",
      "Requirement already satisfied: nbconvert in c:\\users\\vibrsilva\\anaconda3\\lib\\site-packages (from notebook>=5.6.0->jupyterthemes) (6.4.4)\n",
      "Requirement already satisfied: prometheus-client in c:\\users\\vibrsilva\\anaconda3\\lib\\site-packages (from notebook>=5.6.0->jupyterthemes) (0.13.1)\n",
      "Requirement already satisfied: argon2-cffi in c:\\users\\vibrsilva\\anaconda3\\lib\\site-packages (from notebook>=5.6.0->jupyterthemes) (21.3.0)\n",
      "Requirement already satisfied: ipykernel in c:\\users\\vibrsilva\\anaconda3\\lib\\site-packages (from notebook>=5.6.0->jupyterthemes) (6.9.1)\n",
      "Requirement already satisfied: pywin32>=1.0 in c:\\users\\vibrsilva\\anaconda3\\lib\\site-packages (from jupyter-core->jupyterthemes) (302)\n",
      "Requirement already satisfied: wcwidth in c:\\users\\vibrsilva\\anaconda3\\lib\\site-packages (from prompt-toolkit!=3.0.0,!=3.0.1,<3.1.0,>=2.0.0->ipython>=5.4.1->jupyterthemes) (0.2.5)\n",
      "Requirement already satisfied: six>=1.5 in c:\\users\\vibrsilva\\anaconda3\\lib\\site-packages (from python-dateutil>=2.7->matplotlib>=1.4.3->jupyterthemes) (1.16.0)\n",
      "Requirement already satisfied: pywinpty>=1.1.0 in c:\\users\\vibrsilva\\anaconda3\\lib\\site-packages (from terminado>=0.8.3->notebook>=5.6.0->jupyterthemes) (2.0.2)\n",
      "Requirement already satisfied: argon2-cffi-bindings in c:\\users\\vibrsilva\\anaconda3\\lib\\site-packages (from argon2-cffi->notebook>=5.6.0->jupyterthemes) (21.2.0)\n",
      "Requirement already satisfied: cffi>=1.0.1 in c:\\users\\vibrsilva\\anaconda3\\lib\\site-packages (from argon2-cffi-bindings->argon2-cffi->notebook>=5.6.0->jupyterthemes) (1.15.0)\n",
      "Requirement already satisfied: pycparser in c:\\users\\vibrsilva\\anaconda3\\lib\\site-packages (from cffi>=1.0.1->argon2-cffi-bindings->argon2-cffi->notebook>=5.6.0->jupyterthemes) (2.21)\n",
      "Requirement already satisfied: debugpy<2.0,>=1.0.0 in c:\\users\\vibrsilva\\anaconda3\\lib\\site-packages (from ipykernel->notebook>=5.6.0->jupyterthemes) (1.5.1)\n",
      "Requirement already satisfied: MarkupSafe>=0.23 in c:\\users\\vibrsilva\\anaconda3\\lib\\site-packages (from jinja2->notebook>=5.6.0->jupyterthemes) (2.0.1)\n",
      "Requirement already satisfied: mistune<2,>=0.8.1 in c:\\users\\vibrsilva\\anaconda3\\lib\\site-packages (from nbconvert->notebook>=5.6.0->jupyterthemes) (0.8.4)\n",
      "Requirement already satisfied: beautifulsoup4 in c:\\users\\vibrsilva\\anaconda3\\lib\\site-packages (from nbconvert->notebook>=5.6.0->jupyterthemes) (4.11.1)\n",
      "Requirement already satisfied: bleach in c:\\users\\vibrsilva\\anaconda3\\lib\\site-packages (from nbconvert->notebook>=5.6.0->jupyterthemes) (4.1.0)\n",
      "Requirement already satisfied: pandocfilters>=1.4.1 in c:\\users\\vibrsilva\\anaconda3\\lib\\site-packages (from nbconvert->notebook>=5.6.0->jupyterthemes) (1.5.0)\n",
      "Requirement already satisfied: jupyterlab-pygments in c:\\users\\vibrsilva\\anaconda3\\lib\\site-packages (from nbconvert->notebook>=5.6.0->jupyterthemes) (0.1.2)\n",
      "Requirement already satisfied: testpath in c:\\users\\vibrsilva\\anaconda3\\lib\\site-packages (from nbconvert->notebook>=5.6.0->jupyterthemes) (0.5.0)\n",
      "Requirement already satisfied: nbclient<0.6.0,>=0.5.0 in c:\\users\\vibrsilva\\anaconda3\\lib\\site-packages (from nbconvert->notebook>=5.6.0->jupyterthemes) (0.5.13)\n",
      "Requirement already satisfied: defusedxml in c:\\users\\vibrsilva\\anaconda3\\lib\\site-packages (from nbconvert->notebook>=5.6.0->jupyterthemes) (0.7.1)\n",
      "Requirement already satisfied: entrypoints>=0.2.2 in c:\\users\\vibrsilva\\anaconda3\\lib\\site-packages (from nbconvert->notebook>=5.6.0->jupyterthemes) (0.4)\n",
      "Requirement already satisfied: fastjsonschema in c:\\users\\vibrsilva\\anaconda3\\lib\\site-packages (from nbformat->notebook>=5.6.0->jupyterthemes) (2.15.1)\n",
      "Requirement already satisfied: jsonschema>=2.6 in c:\\users\\vibrsilva\\anaconda3\\lib\\site-packages (from nbformat->notebook>=5.6.0->jupyterthemes) (4.4.0)\n",
      "Requirement already satisfied: attrs>=17.4.0 in c:\\users\\vibrsilva\\anaconda3\\lib\\site-packages (from jsonschema>=2.6->nbformat->notebook>=5.6.0->jupyterthemes) (21.4.0)\n",
      "Requirement already satisfied: pyrsistent!=0.17.0,!=0.17.1,!=0.17.2,>=0.14.0 in c:\\users\\vibrsilva\\anaconda3\\lib\\site-packages (from jsonschema>=2.6->nbformat->notebook>=5.6.0->jupyterthemes) (0.18.0)\n",
      "Requirement already satisfied: soupsieve>1.2 in c:\\users\\vibrsilva\\anaconda3\\lib\\site-packages (from beautifulsoup4->nbconvert->notebook>=5.6.0->jupyterthemes) (2.3.1)\n",
      "Requirement already satisfied: webencodings in c:\\users\\vibrsilva\\anaconda3\\lib\\site-packages (from bleach->nbconvert->notebook>=5.6.0->jupyterthemes) (0.5.1)\n",
      "Requirement already satisfied: asttokens in c:\\users\\vibrsilva\\anaconda3\\lib\\site-packages (from stack-data->ipython>=5.4.1->jupyterthemes) (2.0.5)\n",
      "Requirement already satisfied: pure-eval in c:\\users\\vibrsilva\\anaconda3\\lib\\site-packages (from stack-data->ipython>=5.4.1->jupyterthemes) (0.2.2)\n",
      "Requirement already satisfied: executing in c:\\users\\vibrsilva\\anaconda3\\lib\\site-packages (from stack-data->ipython>=5.4.1->jupyterthemes) (0.8.3)\n",
      "Installing collected packages: ply, lesscpy, jupyterthemes\n",
      "Successfully installed jupyterthemes-0.20.0 lesscpy-0.15.1 ply-3.11\n"
     ]
    }
   ],
   "source": [
    "pip install jupyterthemes"
   ]
  },
  {
   "cell_type": "code",
   "execution_count": 8,
   "metadata": {},
   "outputs": [
    {
     "data": {
      "text/plain": [
       "['chesterish',\n",
       " 'grade3',\n",
       " 'gruvboxd',\n",
       " 'gruvboxl',\n",
       " 'monokai',\n",
       " 'oceans16',\n",
       " 'onedork',\n",
       " 'solarizedd',\n",
       " 'solarizedl']"
      ]
     },
     "execution_count": 8,
     "metadata": {},
     "output_type": "execute_result"
    }
   ],
   "source": [
    "import jupyterthemes as jt\n",
    "jt.get_themes()"
   ]
  },
  {
   "cell_type": "code",
   "execution_count": 10,
   "metadata": {},
   "outputs": [],
   "source": [
    "jt.install_theme(theme = 'oceans16')"
   ]
  },
  {
   "cell_type": "code",
   "execution_count": null,
   "metadata": {},
   "outputs": [],
   "source": []
  },
  {
   "cell_type": "code",
   "execution_count": null,
   "metadata": {},
   "outputs": [],
   "source": []
  }
 ],
 "metadata": {
  "kernelspec": {
   "display_name": "Python 3 (ipykernel)",
   "language": "python",
   "name": "python3"
  },
  "language_info": {
   "codemirror_mode": {
    "name": "ipython",
    "version": 3
   },
   "file_extension": ".py",
   "mimetype": "text/x-python",
   "name": "python",
   "nbconvert_exporter": "python",
   "pygments_lexer": "ipython3",
   "version": "3.9.12"
  },
  "latex_envs": {
   "LaTeX_envs_menu_present": true,
   "autoclose": false,
   "autocomplete": true,
   "bibliofile": "biblio.bib",
   "cite_by": "apalike",
   "current_citInitial": 1,
   "eqLabelWithNumbers": true,
   "eqNumInitial": 1,
   "hotkeys": {
    "equation": "Ctrl-E",
    "itemize": "Ctrl-I"
   },
   "labels_anchors": false,
   "latex_user_defs": false,
   "report_style_numbering": false,
   "user_envs_cfg": false
  },
  "toc": {
   "base_numbering": 1,
   "nav_menu": {},
   "number_sections": true,
   "sideBar": true,
   "skip_h1_title": false,
   "title_cell": "Table of Contents",
   "title_sidebar": "Contents",
   "toc_cell": false,
   "toc_position": {},
   "toc_section_display": true,
   "toc_window_display": false
  },
  "toc-autonumbering": true,
  "varInspector": {
   "cols": {
    "lenName": 16,
    "lenType": 16,
    "lenVar": 40
   },
   "kernels_config": {
    "python": {
     "delete_cmd_postfix": "",
     "delete_cmd_prefix": "del ",
     "library": "var_list.py",
     "varRefreshCmd": "print(var_dic_list())"
    },
    "r": {
     "delete_cmd_postfix": ") ",
     "delete_cmd_prefix": "rm(",
     "library": "var_list.r",
     "varRefreshCmd": "cat(var_dic_list()) "
    }
   },
   "types_to_exclude": [
    "module",
    "function",
    "builtin_function_or_method",
    "instance",
    "_Feature"
   ],
   "window_display": false
  }
 },
 "nbformat": 4,
 "nbformat_minor": 4
}
