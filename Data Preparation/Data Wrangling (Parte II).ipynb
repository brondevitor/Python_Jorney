{
 "cells": [
  {
   "cell_type": "markdown",
   "metadata": {
    "id": "Ff5uTfEOmtdp"
   },
   "source": [
    "**Tópicos**:\n",
    " - **O que é Data Wrangling:**\n",
    " - **Definição de Tidy Format** \n",
    " - **Os 5 problemas mais comuns**\n",
    "     - As Colunas são Valores e Não nomes de Variáveis\n",
    "     - Múltiplas Unidades Observacionais armazenadas na mesma tabela\n",
    "     - Múltiplas Variáveis Armazenadas em uma Coluna\n",
    "     - Variáveis Armazenadas em Colunas e Linhas\n",
    "     - Uma única unidade Observacional em várias tabelas\n",
    " - **Joins**\n",
    "     - Inner Join\n",
    "     - Left Join\n",
    "     - Right Join\n",
    "     - Outer Join"
   ]
  },
  {
   "cell_type": "code",
   "execution_count": null,
   "metadata": {
    "id": "EfnEoEcQmtdq",
    "outputId": "f9837e08-01e5-44e9-814d-9669d42c9bc2"
   },
   "outputs": [
    {
     "name": "stdout",
     "output_type": "stream",
     "text": [
      "Requirement already satisfied: datetime in /opt/anaconda3/lib/python3.8/site-packages (4.3)\n",
      "Requirement already satisfied: pytz in /opt/anaconda3/lib/python3.8/site-packages (from datetime) (2020.1)\n",
      "Requirement already satisfied: zope.interface in /opt/anaconda3/lib/python3.8/site-packages (from datetime) (4.7.1)\n",
      "Requirement already satisfied: setuptools in /opt/anaconda3/lib/python3.8/site-packages (from zope.interface->datetime) (49.2.0.post20200714)\n"
     ]
    }
   ],
   "source": [
    "#Dependencias\n",
    "import pandas as pd\n",
    "import numpy as np\n",
    "!pip install datetime\n",
    "import datetime"
   ]
  },
  {
   "cell_type": "markdown",
   "metadata": {
    "id": "LvTuDNPJmtdy"
   },
   "source": [
    "# O que é Data Wrangling"
   ]
  },
  {
   "cell_type": "markdown",
   "metadata": {
    "id": "2GuTn09Mmtdz"
   },
   "source": [
    "**Data Wrangling** é o processo pelo qual os dados coletados passam por uma transformação para que se tornem mais acionáveis, apropriados e valiosos para uma variedade de finalidades."
   ]
  },
  {
   "cell_type": "markdown",
   "metadata": {
    "id": "e_2F9vAGmtd1"
   },
   "source": [
    "Muitas vezes o formato do dado recebido/coletado facilita a visualização e apresentação, mas dificulta a modelagem e exploração. Dessa forma, as operações envolvidas no processo de Data Wrangling tentam justamente resolver esse problema."
   ]
  },
  {
   "cell_type": "markdown",
   "metadata": {
    "id": "YyfmQskpmtd2"
   },
   "source": [
    "# Definição de Tidy Format"
   ]
  },
  {
   "cell_type": "markdown",
   "metadata": {
    "id": "Q31o7Gh5mtd3"
   },
   "source": [
    "Wickham em seu <a href=\"http://vita.had.co.nz/papers/tidy-data.pdf\"> artigo </a> \n",
    "definiu o conceito de tidy data de acordo com algumas propriedades que esse tipo de formato possuiria:\n",
    "\n",
    "* Cada variável forma uma coluna e contém valores\n",
    "* Cada observação forma uma linha\n",
    "* Cada tipo de unidade observacional forma uma tabela\n",
    "\n",
    "\n",
    "\n",
    "* Algumas Outras definições: \n",
    "\n",
    "    - Variável: Um atributo (característica). Altura, Peso, Sexo, etc.\n",
    "    - Valor: Medição de alguma variável (atributo). 152 cm, 80 kg, Feminino etc.\n",
    "    - Observação: Todas as medidads coletadas de um único evento, usuário, entre outros.\n"
   ]
  },
  {
   "cell_type": "markdown",
   "metadata": {
    "id": "vvPKGPr2mtd4"
   },
   "source": [
    "O que é uma unidade observacional?"
   ]
  },
  {
   "cell_type": "markdown",
   "metadata": {
    "id": "UWHzMtjsmtd5"
   },
   "source": [
    "A unidade observacional é a estrutura mais fundamental da observação. É nossa referência! Veja a tabela abaixo:"
   ]
  },
  {
   "cell_type": "markdown",
   "metadata": {
    "id": "Ltw0ZgBJmtd6"
   },
   "source": [
    "Temos medições de temperatura em duas cidades distintas e em semanas distintas."
   ]
  },
  {
   "cell_type": "markdown",
   "metadata": {
    "id": "TVQIz5C2mtd7"
   },
   "source": [
    "| Week| Temperatura_Cidade_A | Temperatura_Cidade_B \n",
    "| :- | -: | :-: |\n",
    "| 1 | 35 | 30| 30\n",
    "| 2 | 40 | 33"
   ]
  },
  {
   "cell_type": "markdown",
   "metadata": {
    "id": "85hK637Smtd8"
   },
   "source": [
    "Que também poderia ser representada assim:"
   ]
  },
  {
   "cell_type": "markdown",
   "metadata": {
    "id": "BNGzz-yymtd9"
   },
   "source": [
    "| Week| 1 | 2 \n",
    "| :- | -: | :-: |\n",
    "| Temperatura_Cidade_A | 35 | 30| 30\n",
    "| Temepratura_Cidade_B | 40 | 33"
   ]
  },
  {
   "cell_type": "markdown",
   "metadata": {
    "id": "LQwuGj_lmtd-"
   },
   "source": [
    "Contudo ambas são messy. O formato tidy para essa tabela seria esse:"
   ]
  },
  {
   "cell_type": "markdown",
   "metadata": {
    "id": "sQ4csnxOmtd_"
   },
   "source": [
    "| Week| Cidade | Temperatura \n",
    "| :- | -: | :-: |\n",
    "| 1 | A | 35| \n",
    "| 1 | B | 30|\n",
    "| 2 | A | 40| \n",
    "| 2 | B | 33|"
   ]
  },
  {
   "cell_type": "markdown",
   "metadata": {
    "id": "4gI-3DxNmteA"
   },
   "source": [
    "Note que nossa referência (unidade observacional) é ```cidade-semana```."
   ]
  },
  {
   "cell_type": "markdown",
   "metadata": {
    "id": "0kzTUjLimteA"
   },
   "source": [
    "Agora, imagine se estivéssemos coletando também a altitude da cidade. Note que a altitude."
   ]
  },
  {
   "cell_type": "markdown",
   "metadata": {
    "id": "D6RQ7DlGmteB"
   },
   "source": [
    "Teríamos uma unidade observacional 1 (cidade-semana) e outra unidade observacional (cidade). Na mesma tabela teríamos informações sobre cidade-semana (temperaturas) e somente sobre as cidades. Do ponto de vista tidy, o ideal é que essas informações fiquem em tabelas diferentes."
   ]
  },
  {
   "cell_type": "markdown",
   "metadata": {
    "id": "B2J7R8sgmteC"
   },
   "source": [
    "Exemplo de um Messy Data (dado com formato não adequado.)"
   ]
  },
  {
   "cell_type": "markdown",
   "metadata": {
    "id": "1xWVMRt8mteD"
   },
   "source": [
    "| Nome | Tratamento A | Tratamento B |\n",
    "| :- | -: | :-: |\n",
    "| Bruno | 25 | 2.3\n",
    "| Maurício | 10 | 18.3\n",
    "| Laura | 4.9 | 40.2\n",
    "\n"
   ]
  },
  {
   "cell_type": "markdown",
   "metadata": {
    "id": "6s8sbGpfmteE"
   },
   "source": [
    "Exemplo de um Tidy Data (dado com formato adequado)"
   ]
  },
  {
   "cell_type": "markdown",
   "metadata": {
    "id": "RQyZrof0mteF"
   },
   "source": [
    "| Nome | Tratamento | Resultado |\n",
    "| :- | -: | :-: |\n",
    "| Bruno | A | 25\n",
    "| Bruno | B | 2.3\n",
    "| Mauricio | A | 10\n",
    "| Mauricio | B | 18.3\n",
    "| Laura | A | 4.9\n",
    "| Laura | B | 40.2"
   ]
  },
  {
   "cell_type": "markdown",
   "metadata": {
    "id": "xIUpRMe5mteG"
   },
   "source": [
    "**OBS**: Um Messy Data é todo aquele conjunto que não é Tidy :))"
   ]
  },
  {
   "cell_type": "markdown",
   "metadata": {
    "id": "8-bVwIR4mteH"
   },
   "source": [
    "## Os 5 problemas mais comuns "
   ]
  },
  {
   "cell_type": "markdown",
   "metadata": {
    "id": "Vy5wPhx4mteI"
   },
   "source": [
    "Em seu artigo, Wichkam traz alguns dos problemas mais frequentes em conjuntos de dados\n",
    "\n",
    "\n",
    "* As colunas são valores e não nomes de variáveis\n",
    "* Múltiplas variáveis armazenadas na mesma coluna\n",
    "* Variáveis armazenadas nas linhas e nas colunas simultaneamente\n",
    "* Múltiplos tipos de unidades observacionais armazenadas na mesma tabela\n",
    "* Uma única unidade observacional representada em mais de uma tabela"
   ]
  },
  {
   "cell_type": "markdown",
   "metadata": {
    "id": "5ZeE6BdGmteJ"
   },
   "source": [
    "Vamos estudar um pouco caso a caso e praticar um poouco a arte de transfomar os dados."
   ]
  },
  {
   "cell_type": "markdown",
   "metadata": {
    "id": "GEvb-nAOmteK"
   },
   "source": [
    "### As Colunas são Valores e Não nomes de Variáveis"
   ]
  },
  {
   "cell_type": "markdown",
   "metadata": {
    "id": "v3gBQt67mteL"
   },
   "source": [
    "Vamos ler o arquivo ```pew-raw.csv```"
   ]
  },
  {
   "cell_type": "code",
   "execution_count": null,
   "metadata": {
    "id": "t8tm8cYZmteM"
   },
   "outputs": [],
   "source": [
    "df_pew_raw = pd.read_csv('pew_raw.csv')"
   ]
  },
  {
   "cell_type": "code",
   "execution_count": null,
   "metadata": {
    "id": "zfuAlp0wmteR",
    "outputId": "dd256f2a-6fe7-4c46-ec95-1fc1a1f7abbe"
   },
   "outputs": [
    {
     "data": {
      "text/html": [
       "<div>\n",
       "<style scoped>\n",
       "    .dataframe tbody tr th:only-of-type {\n",
       "        vertical-align: middle;\n",
       "    }\n",
       "\n",
       "    .dataframe tbody tr th {\n",
       "        vertical-align: top;\n",
       "    }\n",
       "\n",
       "    .dataframe thead th {\n",
       "        text-align: right;\n",
       "    }\n",
       "</style>\n",
       "<table border=\"1\" class=\"dataframe\">\n",
       "  <thead>\n",
       "    <tr style=\"text-align: right;\">\n",
       "      <th></th>\n",
       "      <th>religion</th>\n",
       "      <th>&lt;$10k</th>\n",
       "      <th>$10-20k</th>\n",
       "      <th>$20-30k</th>\n",
       "      <th>$30-40k</th>\n",
       "      <th>$40-50k</th>\n",
       "      <th>$50-75k</th>\n",
       "    </tr>\n",
       "  </thead>\n",
       "  <tbody>\n",
       "    <tr>\n",
       "      <th>0</th>\n",
       "      <td>Agnostic</td>\n",
       "      <td>27</td>\n",
       "      <td>34</td>\n",
       "      <td>60</td>\n",
       "      <td>81</td>\n",
       "      <td>76</td>\n",
       "      <td>137</td>\n",
       "    </tr>\n",
       "    <tr>\n",
       "      <th>1</th>\n",
       "      <td>Atheist</td>\n",
       "      <td>12</td>\n",
       "      <td>27</td>\n",
       "      <td>37</td>\n",
       "      <td>52</td>\n",
       "      <td>35</td>\n",
       "      <td>70</td>\n",
       "    </tr>\n",
       "    <tr>\n",
       "      <th>2</th>\n",
       "      <td>Buddhist</td>\n",
       "      <td>27</td>\n",
       "      <td>21</td>\n",
       "      <td>30</td>\n",
       "      <td>34</td>\n",
       "      <td>33</td>\n",
       "      <td>58</td>\n",
       "    </tr>\n",
       "    <tr>\n",
       "      <th>3</th>\n",
       "      <td>Catholic</td>\n",
       "      <td>418</td>\n",
       "      <td>617</td>\n",
       "      <td>732</td>\n",
       "      <td>670</td>\n",
       "      <td>638</td>\n",
       "      <td>1116</td>\n",
       "    </tr>\n",
       "    <tr>\n",
       "      <th>4</th>\n",
       "      <td>Dont know/refused</td>\n",
       "      <td>15</td>\n",
       "      <td>14</td>\n",
       "      <td>15</td>\n",
       "      <td>11</td>\n",
       "      <td>10</td>\n",
       "      <td>35</td>\n",
       "    </tr>\n",
       "    <tr>\n",
       "      <th>5</th>\n",
       "      <td>Evangelical Prot</td>\n",
       "      <td>575</td>\n",
       "      <td>869</td>\n",
       "      <td>1064</td>\n",
       "      <td>982</td>\n",
       "      <td>881</td>\n",
       "      <td>1486</td>\n",
       "    </tr>\n",
       "    <tr>\n",
       "      <th>6</th>\n",
       "      <td>Hindu</td>\n",
       "      <td>1</td>\n",
       "      <td>9</td>\n",
       "      <td>7</td>\n",
       "      <td>9</td>\n",
       "      <td>11</td>\n",
       "      <td>34</td>\n",
       "    </tr>\n",
       "    <tr>\n",
       "      <th>7</th>\n",
       "      <td>Historically Black Prot</td>\n",
       "      <td>228</td>\n",
       "      <td>244</td>\n",
       "      <td>236</td>\n",
       "      <td>238</td>\n",
       "      <td>197</td>\n",
       "      <td>223</td>\n",
       "    </tr>\n",
       "    <tr>\n",
       "      <th>8</th>\n",
       "      <td>Jehovahs Witness</td>\n",
       "      <td>20</td>\n",
       "      <td>27</td>\n",
       "      <td>24</td>\n",
       "      <td>24</td>\n",
       "      <td>21</td>\n",
       "      <td>30</td>\n",
       "    </tr>\n",
       "    <tr>\n",
       "      <th>9</th>\n",
       "      <td>Jewish</td>\n",
       "      <td>19</td>\n",
       "      <td>19</td>\n",
       "      <td>25</td>\n",
       "      <td>25</td>\n",
       "      <td>30</td>\n",
       "      <td>95</td>\n",
       "    </tr>\n",
       "  </tbody>\n",
       "</table>\n",
       "</div>"
      ],
      "text/plain": [
       "                   religion   <$10k   $10-20k  $20-30k  $30-40k   $40-50k  \\\n",
       "0                  Agnostic      27        34       60       81        76   \n",
       "1                   Atheist      12        27       37       52        35   \n",
       "2                  Buddhist      27        21       30       34        33   \n",
       "3                  Catholic     418       617      732      670       638   \n",
       "4         Dont know/refused      15        14       15       11        10   \n",
       "5         Evangelical Prot      575       869     1064      982       881   \n",
       "6                    Hindu        1         9        7        9        11   \n",
       "7  Historically Black Prot      228       244      236      238       197   \n",
       "8         Jehovahs Witness       20        27       24       24        21   \n",
       "9                   Jewish       19        19       25       25        30   \n",
       "\n",
       "   $50-75k  \n",
       "0      137  \n",
       "1       70  \n",
       "2       58  \n",
       "3     1116  \n",
       "4       35  \n",
       "5     1486  \n",
       "6       34  \n",
       "7      223  \n",
       "8       30  \n",
       "9       95  "
      ]
     },
     "execution_count": 7,
     "metadata": {
      "tags": []
     },
     "output_type": "execute_result"
    }
   ],
   "source": [
    "df_pew_raw"
   ]
  },
  {
   "cell_type": "markdown",
   "metadata": {
    "id": "YBWm3a3smteV"
   },
   "source": [
    "A coluna religion é um idenitifcador do registro e as demais colunas representam variáveis (faixas de valores) associadas a receita. Contudo, note que essas colunas poderiam ser condensadas em uma única coluna de receita.\n",
    "Para fazer isso vamos utilizar a função ```pd.melt()``` do pandas."
   ]
  },
  {
   "cell_type": "markdown",
   "metadata": {
    "id": "b27uThgomteV"
   },
   "source": [
    "```pd.melt(frame, id_vars=None, value_vars=None, var_name=None, value_name='value')```"
   ]
  },
  {
   "cell_type": "markdown",
   "metadata": {
    "id": "9wSLCFttmteW"
   },
   "source": [
    "* ```frame```: Objeto de dados (dataframe)\n",
    "* ```id_vars```: Coluna identificadora (não será usada na transformação)\n",
    "* ```value_vars```: Coluna(s) que você queira transformar\n",
    "* ```var_name```: Nome da variável que será criada na transformação\n",
    "* ```value_name```: Nome do valor associado a variável criada    "
   ]
  },
  {
   "cell_type": "code",
   "execution_count": null,
   "metadata": {
    "id": "_70zevofmteW",
    "outputId": "35d122ed-1d4e-4c8b-d986-26aa38d9f0be"
   },
   "outputs": [
    {
     "data": {
      "text/html": [
       "<div>\n",
       "<style scoped>\n",
       "    .dataframe tbody tr th:only-of-type {\n",
       "        vertical-align: middle;\n",
       "    }\n",
       "\n",
       "    .dataframe tbody tr th {\n",
       "        vertical-align: top;\n",
       "    }\n",
       "\n",
       "    .dataframe thead th {\n",
       "        text-align: right;\n",
       "    }\n",
       "</style>\n",
       "<table border=\"1\" class=\"dataframe\">\n",
       "  <thead>\n",
       "    <tr style=\"text-align: right;\">\n",
       "      <th></th>\n",
       "      <th>religion</th>\n",
       "      <th>faixa_receita</th>\n",
       "      <th>frequencia</th>\n",
       "    </tr>\n",
       "  </thead>\n",
       "  <tbody>\n",
       "    <tr>\n",
       "      <th>0</th>\n",
       "      <td>Agnostic</td>\n",
       "      <td>&lt;$10k</td>\n",
       "      <td>27</td>\n",
       "    </tr>\n",
       "    <tr>\n",
       "      <th>1</th>\n",
       "      <td>Atheist</td>\n",
       "      <td>&lt;$10k</td>\n",
       "      <td>12</td>\n",
       "    </tr>\n",
       "    <tr>\n",
       "      <th>2</th>\n",
       "      <td>Buddhist</td>\n",
       "      <td>&lt;$10k</td>\n",
       "      <td>27</td>\n",
       "    </tr>\n",
       "    <tr>\n",
       "      <th>3</th>\n",
       "      <td>Catholic</td>\n",
       "      <td>&lt;$10k</td>\n",
       "      <td>418</td>\n",
       "    </tr>\n",
       "    <tr>\n",
       "      <th>4</th>\n",
       "      <td>Dont know/refused</td>\n",
       "      <td>&lt;$10k</td>\n",
       "      <td>15</td>\n",
       "    </tr>\n",
       "    <tr>\n",
       "      <th>5</th>\n",
       "      <td>Evangelical Prot</td>\n",
       "      <td>&lt;$10k</td>\n",
       "      <td>575</td>\n",
       "    </tr>\n",
       "    <tr>\n",
       "      <th>6</th>\n",
       "      <td>Hindu</td>\n",
       "      <td>&lt;$10k</td>\n",
       "      <td>1</td>\n",
       "    </tr>\n",
       "    <tr>\n",
       "      <th>7</th>\n",
       "      <td>Historically Black Prot</td>\n",
       "      <td>&lt;$10k</td>\n",
       "      <td>228</td>\n",
       "    </tr>\n",
       "    <tr>\n",
       "      <th>8</th>\n",
       "      <td>Jehovahs Witness</td>\n",
       "      <td>&lt;$10k</td>\n",
       "      <td>20</td>\n",
       "    </tr>\n",
       "    <tr>\n",
       "      <th>9</th>\n",
       "      <td>Jewish</td>\n",
       "      <td>&lt;$10k</td>\n",
       "      <td>19</td>\n",
       "    </tr>\n",
       "    <tr>\n",
       "      <th>10</th>\n",
       "      <td>Agnostic</td>\n",
       "      <td>$10-20k</td>\n",
       "      <td>34</td>\n",
       "    </tr>\n",
       "    <tr>\n",
       "      <th>11</th>\n",
       "      <td>Atheist</td>\n",
       "      <td>$10-20k</td>\n",
       "      <td>27</td>\n",
       "    </tr>\n",
       "    <tr>\n",
       "      <th>12</th>\n",
       "      <td>Buddhist</td>\n",
       "      <td>$10-20k</td>\n",
       "      <td>21</td>\n",
       "    </tr>\n",
       "    <tr>\n",
       "      <th>13</th>\n",
       "      <td>Catholic</td>\n",
       "      <td>$10-20k</td>\n",
       "      <td>617</td>\n",
       "    </tr>\n",
       "    <tr>\n",
       "      <th>14</th>\n",
       "      <td>Dont know/refused</td>\n",
       "      <td>$10-20k</td>\n",
       "      <td>14</td>\n",
       "    </tr>\n",
       "    <tr>\n",
       "      <th>15</th>\n",
       "      <td>Evangelical Prot</td>\n",
       "      <td>$10-20k</td>\n",
       "      <td>869</td>\n",
       "    </tr>\n",
       "    <tr>\n",
       "      <th>16</th>\n",
       "      <td>Hindu</td>\n",
       "      <td>$10-20k</td>\n",
       "      <td>9</td>\n",
       "    </tr>\n",
       "    <tr>\n",
       "      <th>17</th>\n",
       "      <td>Historically Black Prot</td>\n",
       "      <td>$10-20k</td>\n",
       "      <td>244</td>\n",
       "    </tr>\n",
       "    <tr>\n",
       "      <th>18</th>\n",
       "      <td>Jehovahs Witness</td>\n",
       "      <td>$10-20k</td>\n",
       "      <td>27</td>\n",
       "    </tr>\n",
       "    <tr>\n",
       "      <th>19</th>\n",
       "      <td>Jewish</td>\n",
       "      <td>$10-20k</td>\n",
       "      <td>19</td>\n",
       "    </tr>\n",
       "    <tr>\n",
       "      <th>20</th>\n",
       "      <td>Agnostic</td>\n",
       "      <td>$20-30k</td>\n",
       "      <td>60</td>\n",
       "    </tr>\n",
       "    <tr>\n",
       "      <th>21</th>\n",
       "      <td>Atheist</td>\n",
       "      <td>$20-30k</td>\n",
       "      <td>37</td>\n",
       "    </tr>\n",
       "    <tr>\n",
       "      <th>22</th>\n",
       "      <td>Buddhist</td>\n",
       "      <td>$20-30k</td>\n",
       "      <td>30</td>\n",
       "    </tr>\n",
       "    <tr>\n",
       "      <th>23</th>\n",
       "      <td>Catholic</td>\n",
       "      <td>$20-30k</td>\n",
       "      <td>732</td>\n",
       "    </tr>\n",
       "    <tr>\n",
       "      <th>24</th>\n",
       "      <td>Dont know/refused</td>\n",
       "      <td>$20-30k</td>\n",
       "      <td>15</td>\n",
       "    </tr>\n",
       "    <tr>\n",
       "      <th>25</th>\n",
       "      <td>Evangelical Prot</td>\n",
       "      <td>$20-30k</td>\n",
       "      <td>1064</td>\n",
       "    </tr>\n",
       "    <tr>\n",
       "      <th>26</th>\n",
       "      <td>Hindu</td>\n",
       "      <td>$20-30k</td>\n",
       "      <td>7</td>\n",
       "    </tr>\n",
       "    <tr>\n",
       "      <th>27</th>\n",
       "      <td>Historically Black Prot</td>\n",
       "      <td>$20-30k</td>\n",
       "      <td>236</td>\n",
       "    </tr>\n",
       "    <tr>\n",
       "      <th>28</th>\n",
       "      <td>Jehovahs Witness</td>\n",
       "      <td>$20-30k</td>\n",
       "      <td>24</td>\n",
       "    </tr>\n",
       "    <tr>\n",
       "      <th>29</th>\n",
       "      <td>Jewish</td>\n",
       "      <td>$20-30k</td>\n",
       "      <td>25</td>\n",
       "    </tr>\n",
       "    <tr>\n",
       "      <th>30</th>\n",
       "      <td>Agnostic</td>\n",
       "      <td>$30-40k</td>\n",
       "      <td>81</td>\n",
       "    </tr>\n",
       "    <tr>\n",
       "      <th>31</th>\n",
       "      <td>Atheist</td>\n",
       "      <td>$30-40k</td>\n",
       "      <td>52</td>\n",
       "    </tr>\n",
       "    <tr>\n",
       "      <th>32</th>\n",
       "      <td>Buddhist</td>\n",
       "      <td>$30-40k</td>\n",
       "      <td>34</td>\n",
       "    </tr>\n",
       "    <tr>\n",
       "      <th>33</th>\n",
       "      <td>Catholic</td>\n",
       "      <td>$30-40k</td>\n",
       "      <td>670</td>\n",
       "    </tr>\n",
       "    <tr>\n",
       "      <th>34</th>\n",
       "      <td>Dont know/refused</td>\n",
       "      <td>$30-40k</td>\n",
       "      <td>11</td>\n",
       "    </tr>\n",
       "    <tr>\n",
       "      <th>35</th>\n",
       "      <td>Evangelical Prot</td>\n",
       "      <td>$30-40k</td>\n",
       "      <td>982</td>\n",
       "    </tr>\n",
       "    <tr>\n",
       "      <th>36</th>\n",
       "      <td>Hindu</td>\n",
       "      <td>$30-40k</td>\n",
       "      <td>9</td>\n",
       "    </tr>\n",
       "    <tr>\n",
       "      <th>37</th>\n",
       "      <td>Historically Black Prot</td>\n",
       "      <td>$30-40k</td>\n",
       "      <td>238</td>\n",
       "    </tr>\n",
       "    <tr>\n",
       "      <th>38</th>\n",
       "      <td>Jehovahs Witness</td>\n",
       "      <td>$30-40k</td>\n",
       "      <td>24</td>\n",
       "    </tr>\n",
       "    <tr>\n",
       "      <th>39</th>\n",
       "      <td>Jewish</td>\n",
       "      <td>$30-40k</td>\n",
       "      <td>25</td>\n",
       "    </tr>\n",
       "    <tr>\n",
       "      <th>40</th>\n",
       "      <td>Agnostic</td>\n",
       "      <td>$40-50k</td>\n",
       "      <td>76</td>\n",
       "    </tr>\n",
       "    <tr>\n",
       "      <th>41</th>\n",
       "      <td>Atheist</td>\n",
       "      <td>$40-50k</td>\n",
       "      <td>35</td>\n",
       "    </tr>\n",
       "    <tr>\n",
       "      <th>42</th>\n",
       "      <td>Buddhist</td>\n",
       "      <td>$40-50k</td>\n",
       "      <td>33</td>\n",
       "    </tr>\n",
       "    <tr>\n",
       "      <th>43</th>\n",
       "      <td>Catholic</td>\n",
       "      <td>$40-50k</td>\n",
       "      <td>638</td>\n",
       "    </tr>\n",
       "    <tr>\n",
       "      <th>44</th>\n",
       "      <td>Dont know/refused</td>\n",
       "      <td>$40-50k</td>\n",
       "      <td>10</td>\n",
       "    </tr>\n",
       "    <tr>\n",
       "      <th>45</th>\n",
       "      <td>Evangelical Prot</td>\n",
       "      <td>$40-50k</td>\n",
       "      <td>881</td>\n",
       "    </tr>\n",
       "    <tr>\n",
       "      <th>46</th>\n",
       "      <td>Hindu</td>\n",
       "      <td>$40-50k</td>\n",
       "      <td>11</td>\n",
       "    </tr>\n",
       "    <tr>\n",
       "      <th>47</th>\n",
       "      <td>Historically Black Prot</td>\n",
       "      <td>$40-50k</td>\n",
       "      <td>197</td>\n",
       "    </tr>\n",
       "    <tr>\n",
       "      <th>48</th>\n",
       "      <td>Jehovahs Witness</td>\n",
       "      <td>$40-50k</td>\n",
       "      <td>21</td>\n",
       "    </tr>\n",
       "    <tr>\n",
       "      <th>49</th>\n",
       "      <td>Jewish</td>\n",
       "      <td>$40-50k</td>\n",
       "      <td>30</td>\n",
       "    </tr>\n",
       "    <tr>\n",
       "      <th>50</th>\n",
       "      <td>Agnostic</td>\n",
       "      <td>$50-75k</td>\n",
       "      <td>137</td>\n",
       "    </tr>\n",
       "    <tr>\n",
       "      <th>51</th>\n",
       "      <td>Atheist</td>\n",
       "      <td>$50-75k</td>\n",
       "      <td>70</td>\n",
       "    </tr>\n",
       "    <tr>\n",
       "      <th>52</th>\n",
       "      <td>Buddhist</td>\n",
       "      <td>$50-75k</td>\n",
       "      <td>58</td>\n",
       "    </tr>\n",
       "    <tr>\n",
       "      <th>53</th>\n",
       "      <td>Catholic</td>\n",
       "      <td>$50-75k</td>\n",
       "      <td>1116</td>\n",
       "    </tr>\n",
       "    <tr>\n",
       "      <th>54</th>\n",
       "      <td>Dont know/refused</td>\n",
       "      <td>$50-75k</td>\n",
       "      <td>35</td>\n",
       "    </tr>\n",
       "    <tr>\n",
       "      <th>55</th>\n",
       "      <td>Evangelical Prot</td>\n",
       "      <td>$50-75k</td>\n",
       "      <td>1486</td>\n",
       "    </tr>\n",
       "    <tr>\n",
       "      <th>56</th>\n",
       "      <td>Hindu</td>\n",
       "      <td>$50-75k</td>\n",
       "      <td>34</td>\n",
       "    </tr>\n",
       "    <tr>\n",
       "      <th>57</th>\n",
       "      <td>Historically Black Prot</td>\n",
       "      <td>$50-75k</td>\n",
       "      <td>223</td>\n",
       "    </tr>\n",
       "    <tr>\n",
       "      <th>58</th>\n",
       "      <td>Jehovahs Witness</td>\n",
       "      <td>$50-75k</td>\n",
       "      <td>30</td>\n",
       "    </tr>\n",
       "    <tr>\n",
       "      <th>59</th>\n",
       "      <td>Jewish</td>\n",
       "      <td>$50-75k</td>\n",
       "      <td>95</td>\n",
       "    </tr>\n",
       "  </tbody>\n",
       "</table>\n",
       "</div>"
      ],
      "text/plain": [
       "                    religion faixa_receita  frequencia\n",
       "0                   Agnostic         <$10k          27\n",
       "1                    Atheist         <$10k          12\n",
       "2                   Buddhist         <$10k          27\n",
       "3                   Catholic         <$10k         418\n",
       "4          Dont know/refused         <$10k          15\n",
       "5          Evangelical Prot          <$10k         575\n",
       "6                     Hindu          <$10k           1\n",
       "7   Historically Black Prot          <$10k         228\n",
       "8          Jehovahs Witness          <$10k          20\n",
       "9                    Jewish          <$10k          19\n",
       "10                  Agnostic       $10-20k          34\n",
       "11                   Atheist       $10-20k          27\n",
       "12                  Buddhist       $10-20k          21\n",
       "13                  Catholic       $10-20k         617\n",
       "14         Dont know/refused       $10-20k          14\n",
       "15         Evangelical Prot        $10-20k         869\n",
       "16                    Hindu        $10-20k           9\n",
       "17  Historically Black Prot        $10-20k         244\n",
       "18         Jehovahs Witness        $10-20k          27\n",
       "19                   Jewish        $10-20k          19\n",
       "20                  Agnostic       $20-30k          60\n",
       "21                   Atheist       $20-30k          37\n",
       "22                  Buddhist       $20-30k          30\n",
       "23                  Catholic       $20-30k         732\n",
       "24         Dont know/refused       $20-30k          15\n",
       "25         Evangelical Prot        $20-30k        1064\n",
       "26                    Hindu        $20-30k           7\n",
       "27  Historically Black Prot        $20-30k         236\n",
       "28         Jehovahs Witness        $20-30k          24\n",
       "29                   Jewish        $20-30k          25\n",
       "30                  Agnostic       $30-40k          81\n",
       "31                   Atheist       $30-40k          52\n",
       "32                  Buddhist       $30-40k          34\n",
       "33                  Catholic       $30-40k         670\n",
       "34         Dont know/refused       $30-40k          11\n",
       "35         Evangelical Prot        $30-40k         982\n",
       "36                    Hindu        $30-40k           9\n",
       "37  Historically Black Prot        $30-40k         238\n",
       "38         Jehovahs Witness        $30-40k          24\n",
       "39                   Jewish        $30-40k          25\n",
       "40                  Agnostic       $40-50k          76\n",
       "41                   Atheist       $40-50k          35\n",
       "42                  Buddhist       $40-50k          33\n",
       "43                  Catholic       $40-50k         638\n",
       "44         Dont know/refused       $40-50k          10\n",
       "45         Evangelical Prot        $40-50k         881\n",
       "46                    Hindu        $40-50k          11\n",
       "47  Historically Black Prot        $40-50k         197\n",
       "48         Jehovahs Witness        $40-50k          21\n",
       "49                   Jewish        $40-50k          30\n",
       "50                  Agnostic       $50-75k         137\n",
       "51                   Atheist       $50-75k          70\n",
       "52                  Buddhist       $50-75k          58\n",
       "53                  Catholic       $50-75k        1116\n",
       "54         Dont know/refused       $50-75k          35\n",
       "55         Evangelical Prot        $50-75k        1486\n",
       "56                    Hindu        $50-75k          34\n",
       "57  Historically Black Prot        $50-75k         223\n",
       "58         Jehovahs Witness        $50-75k          30\n",
       "59                   Jewish        $50-75k          95"
      ]
     },
     "execution_count": 8,
     "metadata": {
      "tags": []
     },
     "output_type": "execute_result"
    }
   ],
   "source": [
    "pd.melt(frame=df_pew_raw, id_vars='religion', var_name='faixa_receita', value_name='frequencia')"
   ]
  },
  {
   "cell_type": "markdown",
   "metadata": {
    "id": "5OQybGEimtea"
   },
   "source": [
    "Perceba o que ocorreu:\n",
    "+ Cada coluna (faixa) foi transformada em uma linha (uma nova linha para cada religião). \n",
    "+ O valor contido nas celulas do primeiro data frame foram transferidos para a coluna de frequência, onde há o match exato entre religião e faixa."
   ]
  },
  {
   "cell_type": "code",
   "execution_count": null,
   "metadata": {
    "id": "8kk06W00mteb"
   },
   "outputs": [],
   "source": [
    "df_billboard = pd.read_csv('billboard.csv')"
   ]
  },
  {
   "cell_type": "code",
   "execution_count": null,
   "metadata": {
    "id": "9GXpeJIXmtee",
    "outputId": "d186178d-924f-4e7e-8d80-ee9e10dc20a3"
   },
   "outputs": [
    {
     "data": {
      "text/html": [
       "<div>\n",
       "<style scoped>\n",
       "    .dataframe tbody tr th:only-of-type {\n",
       "        vertical-align: middle;\n",
       "    }\n",
       "\n",
       "    .dataframe tbody tr th {\n",
       "        vertical-align: top;\n",
       "    }\n",
       "\n",
       "    .dataframe thead th {\n",
       "        text-align: right;\n",
       "    }\n",
       "</style>\n",
       "<table border=\"1\" class=\"dataframe\">\n",
       "  <thead>\n",
       "    <tr style=\"text-align: right;\">\n",
       "      <th></th>\n",
       "      <th>year</th>\n",
       "      <th>artist.inverted</th>\n",
       "      <th>track</th>\n",
       "      <th>time</th>\n",
       "      <th>genre</th>\n",
       "      <th>date.entered</th>\n",
       "      <th>date.peaked</th>\n",
       "      <th>x1st.week</th>\n",
       "      <th>x2nd.week</th>\n",
       "      <th>x3rd.week</th>\n",
       "      <th>...</th>\n",
       "      <th>x67th.week</th>\n",
       "      <th>x68th.week</th>\n",
       "      <th>x69th.week</th>\n",
       "      <th>x70th.week</th>\n",
       "      <th>x71st.week</th>\n",
       "      <th>x72nd.week</th>\n",
       "      <th>x73rd.week</th>\n",
       "      <th>x74th.week</th>\n",
       "      <th>x75th.week</th>\n",
       "      <th>x76th.week</th>\n",
       "    </tr>\n",
       "  </thead>\n",
       "  <tbody>\n",
       "    <tr>\n",
       "      <th>0</th>\n",
       "      <td>2000</td>\n",
       "      <td>Destiny's Child</td>\n",
       "      <td>Independent Women Part I</td>\n",
       "      <td>3:38</td>\n",
       "      <td>Rock</td>\n",
       "      <td>2000-09-23</td>\n",
       "      <td>2000-11-18</td>\n",
       "      <td>78</td>\n",
       "      <td>63.0</td>\n",
       "      <td>49.0</td>\n",
       "      <td>...</td>\n",
       "      <td>NaN</td>\n",
       "      <td>NaN</td>\n",
       "      <td>NaN</td>\n",
       "      <td>NaN</td>\n",
       "      <td>NaN</td>\n",
       "      <td>NaN</td>\n",
       "      <td>NaN</td>\n",
       "      <td>NaN</td>\n",
       "      <td>NaN</td>\n",
       "      <td>NaN</td>\n",
       "    </tr>\n",
       "    <tr>\n",
       "      <th>1</th>\n",
       "      <td>2000</td>\n",
       "      <td>Santana</td>\n",
       "      <td>Maria, Maria</td>\n",
       "      <td>4:18</td>\n",
       "      <td>Rock</td>\n",
       "      <td>2000-02-12</td>\n",
       "      <td>2000-04-08</td>\n",
       "      <td>15</td>\n",
       "      <td>8.0</td>\n",
       "      <td>6.0</td>\n",
       "      <td>...</td>\n",
       "      <td>NaN</td>\n",
       "      <td>NaN</td>\n",
       "      <td>NaN</td>\n",
       "      <td>NaN</td>\n",
       "      <td>NaN</td>\n",
       "      <td>NaN</td>\n",
       "      <td>NaN</td>\n",
       "      <td>NaN</td>\n",
       "      <td>NaN</td>\n",
       "      <td>NaN</td>\n",
       "    </tr>\n",
       "    <tr>\n",
       "      <th>2</th>\n",
       "      <td>2000</td>\n",
       "      <td>Savage Garden</td>\n",
       "      <td>I Knew I Loved You</td>\n",
       "      <td>4:07</td>\n",
       "      <td>Rock</td>\n",
       "      <td>1999-10-23</td>\n",
       "      <td>2000-01-29</td>\n",
       "      <td>71</td>\n",
       "      <td>48.0</td>\n",
       "      <td>43.0</td>\n",
       "      <td>...</td>\n",
       "      <td>NaN</td>\n",
       "      <td>NaN</td>\n",
       "      <td>NaN</td>\n",
       "      <td>NaN</td>\n",
       "      <td>NaN</td>\n",
       "      <td>NaN</td>\n",
       "      <td>NaN</td>\n",
       "      <td>NaN</td>\n",
       "      <td>NaN</td>\n",
       "      <td>NaN</td>\n",
       "    </tr>\n",
       "    <tr>\n",
       "      <th>3</th>\n",
       "      <td>2000</td>\n",
       "      <td>Madonna</td>\n",
       "      <td>Music</td>\n",
       "      <td>3:45</td>\n",
       "      <td>Rock</td>\n",
       "      <td>2000-08-12</td>\n",
       "      <td>2000-09-16</td>\n",
       "      <td>41</td>\n",
       "      <td>23.0</td>\n",
       "      <td>18.0</td>\n",
       "      <td>...</td>\n",
       "      <td>NaN</td>\n",
       "      <td>NaN</td>\n",
       "      <td>NaN</td>\n",
       "      <td>NaN</td>\n",
       "      <td>NaN</td>\n",
       "      <td>NaN</td>\n",
       "      <td>NaN</td>\n",
       "      <td>NaN</td>\n",
       "      <td>NaN</td>\n",
       "      <td>NaN</td>\n",
       "    </tr>\n",
       "    <tr>\n",
       "      <th>4</th>\n",
       "      <td>2000</td>\n",
       "      <td>Aguilera, Christina</td>\n",
       "      <td>Come On Over Baby (All I Want Is You)</td>\n",
       "      <td>3:38</td>\n",
       "      <td>Rock</td>\n",
       "      <td>2000-08-05</td>\n",
       "      <td>2000-10-14</td>\n",
       "      <td>57</td>\n",
       "      <td>47.0</td>\n",
       "      <td>45.0</td>\n",
       "      <td>...</td>\n",
       "      <td>NaN</td>\n",
       "      <td>NaN</td>\n",
       "      <td>NaN</td>\n",
       "      <td>NaN</td>\n",
       "      <td>NaN</td>\n",
       "      <td>NaN</td>\n",
       "      <td>NaN</td>\n",
       "      <td>NaN</td>\n",
       "      <td>NaN</td>\n",
       "      <td>NaN</td>\n",
       "    </tr>\n",
       "    <tr>\n",
       "      <th>...</th>\n",
       "      <td>...</td>\n",
       "      <td>...</td>\n",
       "      <td>...</td>\n",
       "      <td>...</td>\n",
       "      <td>...</td>\n",
       "      <td>...</td>\n",
       "      <td>...</td>\n",
       "      <td>...</td>\n",
       "      <td>...</td>\n",
       "      <td>...</td>\n",
       "      <td>...</td>\n",
       "      <td>...</td>\n",
       "      <td>...</td>\n",
       "      <td>...</td>\n",
       "      <td>...</td>\n",
       "      <td>...</td>\n",
       "      <td>...</td>\n",
       "      <td>...</td>\n",
       "      <td>...</td>\n",
       "      <td>...</td>\n",
       "      <td>...</td>\n",
       "    </tr>\n",
       "    <tr>\n",
       "      <th>312</th>\n",
       "      <td>2000</td>\n",
       "      <td>Ghostface Killah</td>\n",
       "      <td>Cherchez LaGhost</td>\n",
       "      <td>3:04</td>\n",
       "      <td>R&amp;B</td>\n",
       "      <td>2000-08-05</td>\n",
       "      <td>2000-08-05</td>\n",
       "      <td>98</td>\n",
       "      <td>NaN</td>\n",
       "      <td>NaN</td>\n",
       "      <td>...</td>\n",
       "      <td>NaN</td>\n",
       "      <td>NaN</td>\n",
       "      <td>NaN</td>\n",
       "      <td>NaN</td>\n",
       "      <td>NaN</td>\n",
       "      <td>NaN</td>\n",
       "      <td>NaN</td>\n",
       "      <td>NaN</td>\n",
       "      <td>NaN</td>\n",
       "      <td>NaN</td>\n",
       "    </tr>\n",
       "    <tr>\n",
       "      <th>313</th>\n",
       "      <td>2000</td>\n",
       "      <td>Smith, Will</td>\n",
       "      <td>Freakin' It</td>\n",
       "      <td>3:58</td>\n",
       "      <td>Rap</td>\n",
       "      <td>2000-02-12</td>\n",
       "      <td>2000-02-12</td>\n",
       "      <td>99</td>\n",
       "      <td>99.0</td>\n",
       "      <td>99.0</td>\n",
       "      <td>...</td>\n",
       "      <td>NaN</td>\n",
       "      <td>NaN</td>\n",
       "      <td>NaN</td>\n",
       "      <td>NaN</td>\n",
       "      <td>NaN</td>\n",
       "      <td>NaN</td>\n",
       "      <td>NaN</td>\n",
       "      <td>NaN</td>\n",
       "      <td>NaN</td>\n",
       "      <td>NaN</td>\n",
       "    </tr>\n",
       "    <tr>\n",
       "      <th>314</th>\n",
       "      <td>2000</td>\n",
       "      <td>Zombie Nation</td>\n",
       "      <td>Kernkraft 400</td>\n",
       "      <td>3:30</td>\n",
       "      <td>Rock</td>\n",
       "      <td>2000-09-02</td>\n",
       "      <td>2000-09-02</td>\n",
       "      <td>99</td>\n",
       "      <td>99.0</td>\n",
       "      <td>NaN</td>\n",
       "      <td>...</td>\n",
       "      <td>NaN</td>\n",
       "      <td>NaN</td>\n",
       "      <td>NaN</td>\n",
       "      <td>NaN</td>\n",
       "      <td>NaN</td>\n",
       "      <td>NaN</td>\n",
       "      <td>NaN</td>\n",
       "      <td>NaN</td>\n",
       "      <td>NaN</td>\n",
       "      <td>NaN</td>\n",
       "    </tr>\n",
       "    <tr>\n",
       "      <th>315</th>\n",
       "      <td>2000</td>\n",
       "      <td>Eastsidaz, The</td>\n",
       "      <td>Got Beef</td>\n",
       "      <td>3:58</td>\n",
       "      <td>Rap</td>\n",
       "      <td>2000-07-01</td>\n",
       "      <td>2000-07-01</td>\n",
       "      <td>99</td>\n",
       "      <td>99.0</td>\n",
       "      <td>NaN</td>\n",
       "      <td>...</td>\n",
       "      <td>NaN</td>\n",
       "      <td>NaN</td>\n",
       "      <td>NaN</td>\n",
       "      <td>NaN</td>\n",
       "      <td>NaN</td>\n",
       "      <td>NaN</td>\n",
       "      <td>NaN</td>\n",
       "      <td>NaN</td>\n",
       "      <td>NaN</td>\n",
       "      <td>NaN</td>\n",
       "    </tr>\n",
       "    <tr>\n",
       "      <th>316</th>\n",
       "      <td>2000</td>\n",
       "      <td>Fragma</td>\n",
       "      <td>Toca's Miracle</td>\n",
       "      <td>3:22</td>\n",
       "      <td>R&amp;B</td>\n",
       "      <td>2000-10-28</td>\n",
       "      <td>2000-10-28</td>\n",
       "      <td>99</td>\n",
       "      <td>NaN</td>\n",
       "      <td>NaN</td>\n",
       "      <td>...</td>\n",
       "      <td>NaN</td>\n",
       "      <td>NaN</td>\n",
       "      <td>NaN</td>\n",
       "      <td>NaN</td>\n",
       "      <td>NaN</td>\n",
       "      <td>NaN</td>\n",
       "      <td>NaN</td>\n",
       "      <td>NaN</td>\n",
       "      <td>NaN</td>\n",
       "      <td>NaN</td>\n",
       "    </tr>\n",
       "  </tbody>\n",
       "</table>\n",
       "<p>317 rows × 83 columns</p>\n",
       "</div>"
      ],
      "text/plain": [
       "     year      artist.inverted                                  track  time  \\\n",
       "0    2000      Destiny's Child               Independent Women Part I  3:38   \n",
       "1    2000              Santana                           Maria, Maria  4:18   \n",
       "2    2000        Savage Garden                     I Knew I Loved You  4:07   \n",
       "3    2000              Madonna                                  Music  3:45   \n",
       "4    2000  Aguilera, Christina  Come On Over Baby (All I Want Is You)  3:38   \n",
       "..    ...                  ...                                    ...   ...   \n",
       "312  2000     Ghostface Killah                       Cherchez LaGhost  3:04   \n",
       "313  2000          Smith, Will                            Freakin' It  3:58   \n",
       "314  2000        Zombie Nation                          Kernkraft 400  3:30   \n",
       "315  2000       Eastsidaz, The                               Got Beef  3:58   \n",
       "316  2000               Fragma                         Toca's Miracle  3:22   \n",
       "\n",
       "    genre date.entered date.peaked  x1st.week  x2nd.week  x3rd.week  ...  \\\n",
       "0    Rock   2000-09-23  2000-11-18         78       63.0       49.0  ...   \n",
       "1    Rock   2000-02-12  2000-04-08         15        8.0        6.0  ...   \n",
       "2    Rock   1999-10-23  2000-01-29         71       48.0       43.0  ...   \n",
       "3    Rock   2000-08-12  2000-09-16         41       23.0       18.0  ...   \n",
       "4    Rock   2000-08-05  2000-10-14         57       47.0       45.0  ...   \n",
       "..    ...          ...         ...        ...        ...        ...  ...   \n",
       "312   R&B   2000-08-05  2000-08-05         98        NaN        NaN  ...   \n",
       "313   Rap   2000-02-12  2000-02-12         99       99.0       99.0  ...   \n",
       "314  Rock   2000-09-02  2000-09-02         99       99.0        NaN  ...   \n",
       "315   Rap   2000-07-01  2000-07-01         99       99.0        NaN  ...   \n",
       "316   R&B   2000-10-28  2000-10-28         99        NaN        NaN  ...   \n",
       "\n",
       "     x67th.week  x68th.week  x69th.week  x70th.week  x71st.week  x72nd.week  \\\n",
       "0           NaN         NaN         NaN         NaN         NaN         NaN   \n",
       "1           NaN         NaN         NaN         NaN         NaN         NaN   \n",
       "2           NaN         NaN         NaN         NaN         NaN         NaN   \n",
       "3           NaN         NaN         NaN         NaN         NaN         NaN   \n",
       "4           NaN         NaN         NaN         NaN         NaN         NaN   \n",
       "..          ...         ...         ...         ...         ...         ...   \n",
       "312         NaN         NaN         NaN         NaN         NaN         NaN   \n",
       "313         NaN         NaN         NaN         NaN         NaN         NaN   \n",
       "314         NaN         NaN         NaN         NaN         NaN         NaN   \n",
       "315         NaN         NaN         NaN         NaN         NaN         NaN   \n",
       "316         NaN         NaN         NaN         NaN         NaN         NaN   \n",
       "\n",
       "     x73rd.week  x74th.week  x75th.week  x76th.week  \n",
       "0           NaN         NaN         NaN         NaN  \n",
       "1           NaN         NaN         NaN         NaN  \n",
       "2           NaN         NaN         NaN         NaN  \n",
       "3           NaN         NaN         NaN         NaN  \n",
       "4           NaN         NaN         NaN         NaN  \n",
       "..          ...         ...         ...         ...  \n",
       "312         NaN         NaN         NaN         NaN  \n",
       "313         NaN         NaN         NaN         NaN  \n",
       "314         NaN         NaN         NaN         NaN  \n",
       "315         NaN         NaN         NaN         NaN  \n",
       "316         NaN         NaN         NaN         NaN  \n",
       "\n",
       "[317 rows x 83 columns]"
      ]
     },
     "execution_count": 10,
     "metadata": {
      "tags": []
     },
     "output_type": "execute_result"
    }
   ],
   "source": [
    "df_billboard"
   ]
  },
  {
   "cell_type": "markdown",
   "metadata": {
    "id": "NEjcRg-emteh"
   },
   "source": [
    "Billboard é um ranking musical lá dos EUA que mostra o ranking semanal das músicas ao longo de 75 semanas, a partir do moomento em que a música entra no TOP 100.\n",
    "* Problemas:\n",
    "    - As colunas possuem valores (x1st.week, x2nd.week e etc.)\n",
    "* O que podemos fazer:\n",
    "    - Criar uma única coluna com as datas (cada semana irá tornar-se uma linha para cada música do ranking) e usar seu valor para criar a colunad e ranking. No caso de valores missing, deletaremos as linhas referentes às músicas que estiveram fora do ranking por menos de 75 semanas."
   ]
  },
  {
   "cell_type": "code",
   "execution_count": null,
   "metadata": {
    "id": "lJiRoibVmtei"
   },
   "outputs": [],
   "source": [
    "id_vars = ['year','artist.inverted', 'track', 'time', 'genre', 'date.entered', 'date.peaked']\n",
    "df_tidy_billboard = pd.melt(df_billboard, id_vars=id_vars, var_name='semana', value_name='posicao')"
   ]
  },
  {
   "cell_type": "code",
   "execution_count": null,
   "metadata": {
    "id": "y3WMUCI4mtek"
   },
   "outputs": [],
   "source": [
    "df_tidy_billboard.dropna(inplace=True)"
   ]
  },
  {
   "cell_type": "code",
   "execution_count": null,
   "metadata": {
    "id": "D-NjtlSgmten",
    "outputId": "8422cd1f-a0f5-4624-b9f4-d52716729fc8"
   },
   "outputs": [
    {
     "data": {
      "text/html": [
       "<div>\n",
       "<style scoped>\n",
       "    .dataframe tbody tr th:only-of-type {\n",
       "        vertical-align: middle;\n",
       "    }\n",
       "\n",
       "    .dataframe tbody tr th {\n",
       "        vertical-align: top;\n",
       "    }\n",
       "\n",
       "    .dataframe thead th {\n",
       "        text-align: right;\n",
       "    }\n",
       "</style>\n",
       "<table border=\"1\" class=\"dataframe\">\n",
       "  <thead>\n",
       "    <tr style=\"text-align: right;\">\n",
       "      <th></th>\n",
       "      <th>year</th>\n",
       "      <th>artist.inverted</th>\n",
       "      <th>track</th>\n",
       "      <th>time</th>\n",
       "      <th>genre</th>\n",
       "      <th>date.entered</th>\n",
       "      <th>date.peaked</th>\n",
       "      <th>semana</th>\n",
       "      <th>posicao</th>\n",
       "    </tr>\n",
       "  </thead>\n",
       "  <tbody>\n",
       "    <tr>\n",
       "      <th>0</th>\n",
       "      <td>2000</td>\n",
       "      <td>Destiny's Child</td>\n",
       "      <td>Independent Women Part I</td>\n",
       "      <td>3:38</td>\n",
       "      <td>Rock</td>\n",
       "      <td>2000-09-23</td>\n",
       "      <td>2000-11-18</td>\n",
       "      <td>x1st.week</td>\n",
       "      <td>78.0</td>\n",
       "    </tr>\n",
       "    <tr>\n",
       "      <th>1</th>\n",
       "      <td>2000</td>\n",
       "      <td>Santana</td>\n",
       "      <td>Maria, Maria</td>\n",
       "      <td>4:18</td>\n",
       "      <td>Rock</td>\n",
       "      <td>2000-02-12</td>\n",
       "      <td>2000-04-08</td>\n",
       "      <td>x1st.week</td>\n",
       "      <td>15.0</td>\n",
       "    </tr>\n",
       "    <tr>\n",
       "      <th>2</th>\n",
       "      <td>2000</td>\n",
       "      <td>Savage Garden</td>\n",
       "      <td>I Knew I Loved You</td>\n",
       "      <td>4:07</td>\n",
       "      <td>Rock</td>\n",
       "      <td>1999-10-23</td>\n",
       "      <td>2000-01-29</td>\n",
       "      <td>x1st.week</td>\n",
       "      <td>71.0</td>\n",
       "    </tr>\n",
       "    <tr>\n",
       "      <th>3</th>\n",
       "      <td>2000</td>\n",
       "      <td>Madonna</td>\n",
       "      <td>Music</td>\n",
       "      <td>3:45</td>\n",
       "      <td>Rock</td>\n",
       "      <td>2000-08-12</td>\n",
       "      <td>2000-09-16</td>\n",
       "      <td>x1st.week</td>\n",
       "      <td>41.0</td>\n",
       "    </tr>\n",
       "    <tr>\n",
       "      <th>4</th>\n",
       "      <td>2000</td>\n",
       "      <td>Aguilera, Christina</td>\n",
       "      <td>Come On Over Baby (All I Want Is You)</td>\n",
       "      <td>3:38</td>\n",
       "      <td>Rock</td>\n",
       "      <td>2000-08-05</td>\n",
       "      <td>2000-10-14</td>\n",
       "      <td>x1st.week</td>\n",
       "      <td>57.0</td>\n",
       "    </tr>\n",
       "    <tr>\n",
       "      <th>...</th>\n",
       "      <td>...</td>\n",
       "      <td>...</td>\n",
       "      <td>...</td>\n",
       "      <td>...</td>\n",
       "      <td>...</td>\n",
       "      <td>...</td>\n",
       "      <td>...</td>\n",
       "      <td>...</td>\n",
       "      <td>...</td>\n",
       "    </tr>\n",
       "    <tr>\n",
       "      <th>19663</th>\n",
       "      <td>2000</td>\n",
       "      <td>Lonestar</td>\n",
       "      <td>Amazed</td>\n",
       "      <td>4:25</td>\n",
       "      <td>Country</td>\n",
       "      <td>1999-06-05</td>\n",
       "      <td>2000-03-04</td>\n",
       "      <td>x63rd.week</td>\n",
       "      <td>45.0</td>\n",
       "    </tr>\n",
       "    <tr>\n",
       "      <th>19700</th>\n",
       "      <td>2000</td>\n",
       "      <td>Creed</td>\n",
       "      <td>Higher</td>\n",
       "      <td>5:16</td>\n",
       "      <td>Rock</td>\n",
       "      <td>1999-09-11</td>\n",
       "      <td>2000-07-22</td>\n",
       "      <td>x63rd.week</td>\n",
       "      <td>50.0</td>\n",
       "    </tr>\n",
       "    <tr>\n",
       "      <th>19980</th>\n",
       "      <td>2000</td>\n",
       "      <td>Lonestar</td>\n",
       "      <td>Amazed</td>\n",
       "      <td>4:25</td>\n",
       "      <td>Country</td>\n",
       "      <td>1999-06-05</td>\n",
       "      <td>2000-03-04</td>\n",
       "      <td>x64th.week</td>\n",
       "      <td>50.0</td>\n",
       "    </tr>\n",
       "    <tr>\n",
       "      <th>20017</th>\n",
       "      <td>2000</td>\n",
       "      <td>Creed</td>\n",
       "      <td>Higher</td>\n",
       "      <td>5:16</td>\n",
       "      <td>Rock</td>\n",
       "      <td>1999-09-11</td>\n",
       "      <td>2000-07-22</td>\n",
       "      <td>x64th.week</td>\n",
       "      <td>50.0</td>\n",
       "    </tr>\n",
       "    <tr>\n",
       "      <th>20334</th>\n",
       "      <td>2000</td>\n",
       "      <td>Creed</td>\n",
       "      <td>Higher</td>\n",
       "      <td>5:16</td>\n",
       "      <td>Rock</td>\n",
       "      <td>1999-09-11</td>\n",
       "      <td>2000-07-22</td>\n",
       "      <td>x65th.week</td>\n",
       "      <td>49.0</td>\n",
       "    </tr>\n",
       "  </tbody>\n",
       "</table>\n",
       "<p>5307 rows × 9 columns</p>\n",
       "</div>"
      ],
      "text/plain": [
       "       year      artist.inverted                                  track  time  \\\n",
       "0      2000      Destiny's Child               Independent Women Part I  3:38   \n",
       "1      2000              Santana                           Maria, Maria  4:18   \n",
       "2      2000        Savage Garden                     I Knew I Loved You  4:07   \n",
       "3      2000              Madonna                                  Music  3:45   \n",
       "4      2000  Aguilera, Christina  Come On Over Baby (All I Want Is You)  3:38   \n",
       "...     ...                  ...                                    ...   ...   \n",
       "19663  2000             Lonestar                                 Amazed  4:25   \n",
       "19700  2000                Creed                                 Higher  5:16   \n",
       "19980  2000             Lonestar                                 Amazed  4:25   \n",
       "20017  2000                Creed                                 Higher  5:16   \n",
       "20334  2000                Creed                                 Higher  5:16   \n",
       "\n",
       "         genre date.entered date.peaked      semana  posicao  \n",
       "0         Rock   2000-09-23  2000-11-18   x1st.week     78.0  \n",
       "1         Rock   2000-02-12  2000-04-08   x1st.week     15.0  \n",
       "2         Rock   1999-10-23  2000-01-29   x1st.week     71.0  \n",
       "3         Rock   2000-08-12  2000-09-16   x1st.week     41.0  \n",
       "4         Rock   2000-08-05  2000-10-14   x1st.week     57.0  \n",
       "...        ...          ...         ...         ...      ...  \n",
       "19663  Country   1999-06-05  2000-03-04  x63rd.week     45.0  \n",
       "19700     Rock   1999-09-11  2000-07-22  x63rd.week     50.0  \n",
       "19980  Country   1999-06-05  2000-03-04  x64th.week     50.0  \n",
       "20017     Rock   1999-09-11  2000-07-22  x64th.week     50.0  \n",
       "20334     Rock   1999-09-11  2000-07-22  x65th.week     49.0  \n",
       "\n",
       "[5307 rows x 9 columns]"
      ]
     },
     "execution_count": 14,
     "metadata": {
      "tags": []
     },
     "output_type": "execute_result"
    }
   ],
   "source": [
    "df_tidy_billboard"
   ]
  },
  {
   "cell_type": "markdown",
   "metadata": {
    "id": "NNt5-ARJmteq"
   },
   "source": [
    "* Exercício:\n",
    "    - Extraia o Número da Semana da coluna semana e armazene em uma nova coluna (tipo inteiro).\n",
    "    - Extraia a Data referente a semana específica para cada artista e música e armazene em uma nova coluna."
   ]
  },
  {
   "cell_type": "markdown",
   "metadata": {
    "id": "jTMrB4ONmteq"
   },
   "source": [
    "Para o primeiro exercício precisamos usar uma expressão regular (regex) para extrair padrões em cadeias de caracteres (stirngs)"
   ]
  },
  {
   "cell_type": "code",
   "execution_count": null,
   "metadata": {
    "id": "R31wISYbmter",
    "outputId": "e3b87cb0-5553-4168-8b6e-c941a3492f0e"
   },
   "outputs": [
    {
     "data": {
      "text/plain": [
       "0         1\n",
       "1         1\n",
       "2         1\n",
       "3         1\n",
       "4         1\n",
       "         ..\n",
       "19663    63\n",
       "19700    63\n",
       "19980    64\n",
       "20017    64\n",
       "20334    65\n",
       "Name: semana, Length: 5307, dtype: int64"
      ]
     },
     "execution_count": 30,
     "metadata": {
      "tags": []
     },
     "output_type": "execute_result"
    }
   ],
   "source": [
    "# Expressão regular para extrair digitos das strings \n",
    "# Expand = False para criar uma series e não um dataframe\n",
    "df_tidy_billboard['semana_numero'] = df_tidy_billboard['semana'].str.extract('(\\d+)', expand=False).astype(int)"
   ]
  },
  {
   "cell_type": "markdown",
   "metadata": {
    "id": "C9FJ43sDmtet"
   },
   "source": [
    " Temos a data de entrada (que seria a primeira semana).\n",
    "Então basta contar quantas semanas a frente da primeira semana estamos e adicionar a data de entrada para obter a data atual"
   ]
  },
  {
   "cell_type": "code",
   "execution_count": null,
   "metadata": {
    "id": "SxyQKhJ2mteu",
    "outputId": "105ccc3f-53d2-49fc-ba59-44dd1881813c"
   },
   "outputs": [
    {
     "data": {
      "text/plain": [
       "0       2000-09-23\n",
       "1       2000-02-12\n",
       "2       1999-10-23\n",
       "3       2000-08-12\n",
       "4       2000-08-05\n",
       "           ...    \n",
       "19663   1999-06-05\n",
       "19700   1999-09-11\n",
       "19980   1999-06-05\n",
       "20017   1999-09-11\n",
       "20334   1999-09-11\n",
       "Name: date.entered, Length: 5307, dtype: datetime64[ns]"
      ]
     },
     "execution_count": 36,
     "metadata": {
      "tags": []
     },
     "output_type": "execute_result"
    }
   ],
   "source": [
    " pd.to_datetime(df_tidy_billboard['date.entered'], format='%Y-%m-%d')"
   ]
  },
  {
   "cell_type": "code",
   "execution_count": null,
   "metadata": {
    "id": "iTVQXi6Xmtex",
    "outputId": "e9a0f1e9-fc26-41ba-b31f-ca47f9ffe397"
   },
   "outputs": [
    {
     "data": {
      "text/plain": [
       "0         7 days\n",
       "1         7 days\n",
       "2         7 days\n",
       "3         7 days\n",
       "4         7 days\n",
       "          ...   \n",
       "19663   441 days\n",
       "19700   441 days\n",
       "19980   448 days\n",
       "20017   448 days\n",
       "20334   455 days\n",
       "Name: semana_numero, Length: 5307, dtype: timedelta64[ns]"
      ]
     },
     "execution_count": 50,
     "metadata": {
      "tags": []
     },
     "output_type": "execute_result"
    }
   ],
   "source": [
    "pd.to_timedelta(df_tidy_billboard['semana_numero'], unit='W')"
   ]
  },
  {
   "cell_type": "markdown",
   "metadata": {
    "id": "pyoZ9E0Fmtez"
   },
   "source": [
    "A primeira semana se refere a data de entrada. A data segunda semana, se refere a data da primeira semana + 1 semana inteira. E assim por diante."
   ]
  },
  {
   "cell_type": "markdown",
   "metadata": {
    "id": "SZo5kaanmtez"
   },
   "source": [
    "Data da semana = Data Entrada + Semanas Passadas "
   ]
  },
  {
   "cell_type": "markdown",
   "metadata": {
    "id": "WRycz77Imtez"
   },
   "source": [
    "Semanas passadas = Semana atual - 1"
   ]
  },
  {
   "cell_type": "code",
   "execution_count": null,
   "metadata": {
    "id": "NDryeRHxmte0"
   },
   "outputs": [],
   "source": [
    "df_tidy_billboard['semanas_passadas'] = df_tidy_billboard['semana_numero'] - 1"
   ]
  },
  {
   "cell_type": "code",
   "execution_count": null,
   "metadata": {
    "id": "_Hag192dmte2"
   },
   "outputs": [],
   "source": [
    "df_tidy_billboard['semana_data'] = pd.to_datetime(df_tidy_billboard['date.entered']) + pd.to_timedelta(df_tidy_billboard['semanas_passadas'], unit='w')"
   ]
  },
  {
   "cell_type": "markdown",
   "metadata": {
    "id": "7bhX0AJLmte5"
   },
   "source": [
    "### Múltiplas Unidades Observacionais armazenadas na mesma tabela"
   ]
  },
  {
   "cell_type": "markdown",
   "metadata": {
    "id": "Gd3T2H0Vmte5"
   },
   "source": [
    "Mesmo já melhorando a estrutura mais bruta do dataset, note que existe muita informação repetida (ano, título da música, artista, tempo de execução e gênero)"
   ]
  },
  {
   "cell_type": "markdown",
   "metadata": {
    "id": "IBetdeNjmte6"
   },
   "source": [
    "Isso ocorre, pois nosso dataset ainda não está de acordo com os princípios tidy em sua totalidade. Há um em especial que está sendo violado."
   ]
  },
  {
   "cell_type": "markdown",
   "metadata": {
    "id": "FWgj-Co9mte6"
   },
   "source": [
    "Veja que temos mais de uma unidade observacional nos nossos dados: (Ranking+Música+Data) e Música, que contém informações descritivas como artista, tempo e gênero. Pelo princípio do tidy data, precisamos separar esas informações em tabelas separadas."
   ]
  },
  {
   "cell_type": "markdown",
   "metadata": {
    "id": "nOc3sc27mte6"
   },
   "source": [
    "Inicialmente vamos separar as músicas e suas respectivas informações."
   ]
  },
  {
   "cell_type": "code",
   "execution_count": null,
   "metadata": {
    "id": "N0AfZY20mte7"
   },
   "outputs": [],
   "source": [
    "# Criando uma tabela separada\n",
    "info_colunas_musicas = [\"year\", \"artist.inverted\", \"track\", \"time\", \"genre\"]\n",
    "songs = df_tidy_billboard.loc[:, info_colunas_musicas]\n",
    "# Vamos resetar o índice\n",
    "songs.reset_index(drop=True) # sem o drop ele cria uma coluna nova com o índice antigo\n",
    "# vamos criar uma nova coluna de identificador de música\n",
    "songs['identificador_musica'] = np.arange(1, len(songs)+1)"
   ]
  },
  {
   "cell_type": "code",
   "execution_count": null,
   "metadata": {
    "id": "I54zB9P0mte9",
    "outputId": "863d2549-53e7-4600-d90b-4fb7b5624a65"
   },
   "outputs": [
    {
     "data": {
      "text/html": [
       "<div>\n",
       "<style scoped>\n",
       "    .dataframe tbody tr th:only-of-type {\n",
       "        vertical-align: middle;\n",
       "    }\n",
       "\n",
       "    .dataframe tbody tr th {\n",
       "        vertical-align: top;\n",
       "    }\n",
       "\n",
       "    .dataframe thead th {\n",
       "        text-align: right;\n",
       "    }\n",
       "</style>\n",
       "<table border=\"1\" class=\"dataframe\">\n",
       "  <thead>\n",
       "    <tr style=\"text-align: right;\">\n",
       "      <th></th>\n",
       "      <th>year</th>\n",
       "      <th>artist.inverted</th>\n",
       "      <th>track</th>\n",
       "      <th>time</th>\n",
       "      <th>genre</th>\n",
       "      <th>date.entered</th>\n",
       "      <th>date.peaked</th>\n",
       "      <th>semana</th>\n",
       "      <th>posicao</th>\n",
       "      <th>semana_numero</th>\n",
       "      <th>semanas_passadas</th>\n",
       "      <th>semana_data</th>\n",
       "    </tr>\n",
       "  </thead>\n",
       "  <tbody>\n",
       "    <tr>\n",
       "      <th>0</th>\n",
       "      <td>2000</td>\n",
       "      <td>Destiny's Child</td>\n",
       "      <td>Independent Women Part I</td>\n",
       "      <td>3:38</td>\n",
       "      <td>Rock</td>\n",
       "      <td>2000-09-23</td>\n",
       "      <td>2000-11-18</td>\n",
       "      <td>x1st.week</td>\n",
       "      <td>78.0</td>\n",
       "      <td>1</td>\n",
       "      <td>0</td>\n",
       "      <td>2000-09-23</td>\n",
       "    </tr>\n",
       "    <tr>\n",
       "      <th>1</th>\n",
       "      <td>2000</td>\n",
       "      <td>Santana</td>\n",
       "      <td>Maria, Maria</td>\n",
       "      <td>4:18</td>\n",
       "      <td>Rock</td>\n",
       "      <td>2000-02-12</td>\n",
       "      <td>2000-04-08</td>\n",
       "      <td>x1st.week</td>\n",
       "      <td>15.0</td>\n",
       "      <td>1</td>\n",
       "      <td>0</td>\n",
       "      <td>2000-02-12</td>\n",
       "    </tr>\n",
       "    <tr>\n",
       "      <th>2</th>\n",
       "      <td>2000</td>\n",
       "      <td>Savage Garden</td>\n",
       "      <td>I Knew I Loved You</td>\n",
       "      <td>4:07</td>\n",
       "      <td>Rock</td>\n",
       "      <td>1999-10-23</td>\n",
       "      <td>2000-01-29</td>\n",
       "      <td>x1st.week</td>\n",
       "      <td>71.0</td>\n",
       "      <td>1</td>\n",
       "      <td>0</td>\n",
       "      <td>1999-10-23</td>\n",
       "    </tr>\n",
       "    <tr>\n",
       "      <th>3</th>\n",
       "      <td>2000</td>\n",
       "      <td>Madonna</td>\n",
       "      <td>Music</td>\n",
       "      <td>3:45</td>\n",
       "      <td>Rock</td>\n",
       "      <td>2000-08-12</td>\n",
       "      <td>2000-09-16</td>\n",
       "      <td>x1st.week</td>\n",
       "      <td>41.0</td>\n",
       "      <td>1</td>\n",
       "      <td>0</td>\n",
       "      <td>2000-08-12</td>\n",
       "    </tr>\n",
       "    <tr>\n",
       "      <th>4</th>\n",
       "      <td>2000</td>\n",
       "      <td>Aguilera, Christina</td>\n",
       "      <td>Come On Over Baby (All I Want Is You)</td>\n",
       "      <td>3:38</td>\n",
       "      <td>Rock</td>\n",
       "      <td>2000-08-05</td>\n",
       "      <td>2000-10-14</td>\n",
       "      <td>x1st.week</td>\n",
       "      <td>57.0</td>\n",
       "      <td>1</td>\n",
       "      <td>0</td>\n",
       "      <td>2000-08-05</td>\n",
       "    </tr>\n",
       "    <tr>\n",
       "      <th>...</th>\n",
       "      <td>...</td>\n",
       "      <td>...</td>\n",
       "      <td>...</td>\n",
       "      <td>...</td>\n",
       "      <td>...</td>\n",
       "      <td>...</td>\n",
       "      <td>...</td>\n",
       "      <td>...</td>\n",
       "      <td>...</td>\n",
       "      <td>...</td>\n",
       "      <td>...</td>\n",
       "      <td>...</td>\n",
       "    </tr>\n",
       "    <tr>\n",
       "      <th>19663</th>\n",
       "      <td>2000</td>\n",
       "      <td>Lonestar</td>\n",
       "      <td>Amazed</td>\n",
       "      <td>4:25</td>\n",
       "      <td>Country</td>\n",
       "      <td>1999-06-05</td>\n",
       "      <td>2000-03-04</td>\n",
       "      <td>x63rd.week</td>\n",
       "      <td>45.0</td>\n",
       "      <td>63</td>\n",
       "      <td>62</td>\n",
       "      <td>2000-08-12</td>\n",
       "    </tr>\n",
       "    <tr>\n",
       "      <th>19700</th>\n",
       "      <td>2000</td>\n",
       "      <td>Creed</td>\n",
       "      <td>Higher</td>\n",
       "      <td>5:16</td>\n",
       "      <td>Rock</td>\n",
       "      <td>1999-09-11</td>\n",
       "      <td>2000-07-22</td>\n",
       "      <td>x63rd.week</td>\n",
       "      <td>50.0</td>\n",
       "      <td>63</td>\n",
       "      <td>62</td>\n",
       "      <td>2000-11-18</td>\n",
       "    </tr>\n",
       "    <tr>\n",
       "      <th>19980</th>\n",
       "      <td>2000</td>\n",
       "      <td>Lonestar</td>\n",
       "      <td>Amazed</td>\n",
       "      <td>4:25</td>\n",
       "      <td>Country</td>\n",
       "      <td>1999-06-05</td>\n",
       "      <td>2000-03-04</td>\n",
       "      <td>x64th.week</td>\n",
       "      <td>50.0</td>\n",
       "      <td>64</td>\n",
       "      <td>63</td>\n",
       "      <td>2000-08-19</td>\n",
       "    </tr>\n",
       "    <tr>\n",
       "      <th>20017</th>\n",
       "      <td>2000</td>\n",
       "      <td>Creed</td>\n",
       "      <td>Higher</td>\n",
       "      <td>5:16</td>\n",
       "      <td>Rock</td>\n",
       "      <td>1999-09-11</td>\n",
       "      <td>2000-07-22</td>\n",
       "      <td>x64th.week</td>\n",
       "      <td>50.0</td>\n",
       "      <td>64</td>\n",
       "      <td>63</td>\n",
       "      <td>2000-11-25</td>\n",
       "    </tr>\n",
       "    <tr>\n",
       "      <th>20334</th>\n",
       "      <td>2000</td>\n",
       "      <td>Creed</td>\n",
       "      <td>Higher</td>\n",
       "      <td>5:16</td>\n",
       "      <td>Rock</td>\n",
       "      <td>1999-09-11</td>\n",
       "      <td>2000-07-22</td>\n",
       "      <td>x65th.week</td>\n",
       "      <td>49.0</td>\n",
       "      <td>65</td>\n",
       "      <td>64</td>\n",
       "      <td>2000-12-02</td>\n",
       "    </tr>\n",
       "  </tbody>\n",
       "</table>\n",
       "<p>5307 rows × 12 columns</p>\n",
       "</div>"
      ],
      "text/plain": [
       "       year      artist.inverted                                  track  time  \\\n",
       "0      2000      Destiny's Child               Independent Women Part I  3:38   \n",
       "1      2000              Santana                           Maria, Maria  4:18   \n",
       "2      2000        Savage Garden                     I Knew I Loved You  4:07   \n",
       "3      2000              Madonna                                  Music  3:45   \n",
       "4      2000  Aguilera, Christina  Come On Over Baby (All I Want Is You)  3:38   \n",
       "...     ...                  ...                                    ...   ...   \n",
       "19663  2000             Lonestar                                 Amazed  4:25   \n",
       "19700  2000                Creed                                 Higher  5:16   \n",
       "19980  2000             Lonestar                                 Amazed  4:25   \n",
       "20017  2000                Creed                                 Higher  5:16   \n",
       "20334  2000                Creed                                 Higher  5:16   \n",
       "\n",
       "         genre date.entered date.peaked      semana  posicao  semana_numero  \\\n",
       "0         Rock   2000-09-23  2000-11-18   x1st.week     78.0              1   \n",
       "1         Rock   2000-02-12  2000-04-08   x1st.week     15.0              1   \n",
       "2         Rock   1999-10-23  2000-01-29   x1st.week     71.0              1   \n",
       "3         Rock   2000-08-12  2000-09-16   x1st.week     41.0              1   \n",
       "4         Rock   2000-08-05  2000-10-14   x1st.week     57.0              1   \n",
       "...        ...          ...         ...         ...      ...            ...   \n",
       "19663  Country   1999-06-05  2000-03-04  x63rd.week     45.0             63   \n",
       "19700     Rock   1999-09-11  2000-07-22  x63rd.week     50.0             63   \n",
       "19980  Country   1999-06-05  2000-03-04  x64th.week     50.0             64   \n",
       "20017     Rock   1999-09-11  2000-07-22  x64th.week     50.0             64   \n",
       "20334     Rock   1999-09-11  2000-07-22  x65th.week     49.0             65   \n",
       "\n",
       "       semanas_passadas semana_data  \n",
       "0                     0  2000-09-23  \n",
       "1                     0  2000-02-12  \n",
       "2                     0  1999-10-23  \n",
       "3                     0  2000-08-12  \n",
       "4                     0  2000-08-05  \n",
       "...                 ...         ...  \n",
       "19663                62  2000-08-12  \n",
       "19700                62  2000-11-18  \n",
       "19980                63  2000-08-19  \n",
       "20017                63  2000-11-25  \n",
       "20334                64  2000-12-02  \n",
       "\n",
       "[5307 rows x 12 columns]"
      ]
     },
     "execution_count": 59,
     "metadata": {
      "tags": []
     },
     "output_type": "execute_result"
    }
   ],
   "source": [
    "df_tidy_billboard"
   ]
  },
  {
   "cell_type": "code",
   "execution_count": null,
   "metadata": {
    "id": "eJgH8uGTmtfA"
   },
   "outputs": [],
   "source": [
    "info_colunas_ranking = [\"posicao\",\"semana_data\"]\n",
    "ranking = df_tidy_billboard.loc[:, info_colunas_ranking]\n",
    "ranking['identificador_musica'] = songs['identificador_musica']"
   ]
  },
  {
   "cell_type": "markdown",
   "metadata": {
    "id": "CDfD4XTNmtfC"
   },
   "source": [
    "Agora as duas tabelas podem se comunicar por meio da coluna ```identificador_musica```."
   ]
  },
  {
   "cell_type": "markdown",
   "metadata": {
    "id": "rEFxlLSdmtfC"
   },
   "source": [
    "## Múltiplas Variáveis Armazenadas em uma Coluna"
   ]
  },
  {
   "cell_type": "markdown",
   "metadata": {
    "id": "Z-qKWYm6mtfD"
   },
   "source": [
    "Esse datase contém registros de casos de tuberculose. É uma contgagem de casos por País, ano, idade e sexo."
   ]
  },
  {
   "cell_type": "markdown",
   "metadata": {
    "id": "blq5SoEymtfD"
   },
   "source": [
    "Problemas:\n",
    "* Algumas colunas contêm múltiplos valores: sexo e idade\n",
    "* Mistura de 0 e NaN para representar dados faltosos (faz diferença?)"
   ]
  },
  {
   "cell_type": "code",
   "execution_count": null,
   "metadata": {
    "id": "OSS7Fac8mtfD"
   },
   "outputs": [],
   "source": [
    "df_tb_raw = pd.read_csv(\"tb-raw.csv\")"
   ]
  },
  {
   "cell_type": "code",
   "execution_count": null,
   "metadata": {
    "id": "RR0UuNZKmtfF",
    "outputId": "61d2fa43-8a86-4c88-86e9-11a78de28a5c"
   },
   "outputs": [
    {
     "data": {
      "text/html": [
       "<div>\n",
       "<style scoped>\n",
       "    .dataframe tbody tr th:only-of-type {\n",
       "        vertical-align: middle;\n",
       "    }\n",
       "\n",
       "    .dataframe tbody tr th {\n",
       "        vertical-align: top;\n",
       "    }\n",
       "\n",
       "    .dataframe thead th {\n",
       "        text-align: right;\n",
       "    }\n",
       "</style>\n",
       "<table border=\"1\" class=\"dataframe\">\n",
       "  <thead>\n",
       "    <tr style=\"text-align: right;\">\n",
       "      <th></th>\n",
       "      <th>country</th>\n",
       "      <th>year</th>\n",
       "      <th>m014</th>\n",
       "      <th>m1524</th>\n",
       "      <th>m2534</th>\n",
       "      <th>m3544</th>\n",
       "      <th>m4554</th>\n",
       "      <th>m5564</th>\n",
       "      <th>m65</th>\n",
       "      <th>mu</th>\n",
       "      <th>f014</th>\n",
       "    </tr>\n",
       "  </thead>\n",
       "  <tbody>\n",
       "    <tr>\n",
       "      <th>0</th>\n",
       "      <td>AD</td>\n",
       "      <td>2000</td>\n",
       "      <td>0.0</td>\n",
       "      <td>0.0</td>\n",
       "      <td>1.0</td>\n",
       "      <td>0.0</td>\n",
       "      <td>0</td>\n",
       "      <td>0</td>\n",
       "      <td>0.0</td>\n",
       "      <td>NaN</td>\n",
       "      <td>NaN</td>\n",
       "    </tr>\n",
       "    <tr>\n",
       "      <th>1</th>\n",
       "      <td>AE</td>\n",
       "      <td>2000</td>\n",
       "      <td>2.0</td>\n",
       "      <td>4.0</td>\n",
       "      <td>4.0</td>\n",
       "      <td>6.0</td>\n",
       "      <td>5</td>\n",
       "      <td>12</td>\n",
       "      <td>10.0</td>\n",
       "      <td>NaN</td>\n",
       "      <td>3.0</td>\n",
       "    </tr>\n",
       "    <tr>\n",
       "      <th>2</th>\n",
       "      <td>AF</td>\n",
       "      <td>2000</td>\n",
       "      <td>52.0</td>\n",
       "      <td>228.0</td>\n",
       "      <td>183.0</td>\n",
       "      <td>149.0</td>\n",
       "      <td>129</td>\n",
       "      <td>94</td>\n",
       "      <td>80.0</td>\n",
       "      <td>NaN</td>\n",
       "      <td>93.0</td>\n",
       "    </tr>\n",
       "    <tr>\n",
       "      <th>3</th>\n",
       "      <td>AG</td>\n",
       "      <td>2000</td>\n",
       "      <td>0.0</td>\n",
       "      <td>0.0</td>\n",
       "      <td>0.0</td>\n",
       "      <td>0.0</td>\n",
       "      <td>0</td>\n",
       "      <td>0</td>\n",
       "      <td>1.0</td>\n",
       "      <td>NaN</td>\n",
       "      <td>1.0</td>\n",
       "    </tr>\n",
       "    <tr>\n",
       "      <th>4</th>\n",
       "      <td>AL</td>\n",
       "      <td>2000</td>\n",
       "      <td>2.0</td>\n",
       "      <td>19.0</td>\n",
       "      <td>21.0</td>\n",
       "      <td>14.0</td>\n",
       "      <td>24</td>\n",
       "      <td>19</td>\n",
       "      <td>16.0</td>\n",
       "      <td>NaN</td>\n",
       "      <td>3.0</td>\n",
       "    </tr>\n",
       "    <tr>\n",
       "      <th>5</th>\n",
       "      <td>AM</td>\n",
       "      <td>2000</td>\n",
       "      <td>2.0</td>\n",
       "      <td>152.0</td>\n",
       "      <td>130.0</td>\n",
       "      <td>131.0</td>\n",
       "      <td>63</td>\n",
       "      <td>26</td>\n",
       "      <td>21.0</td>\n",
       "      <td>NaN</td>\n",
       "      <td>1.0</td>\n",
       "    </tr>\n",
       "    <tr>\n",
       "      <th>6</th>\n",
       "      <td>AN</td>\n",
       "      <td>2000</td>\n",
       "      <td>0.0</td>\n",
       "      <td>0.0</td>\n",
       "      <td>1.0</td>\n",
       "      <td>2.0</td>\n",
       "      <td>0</td>\n",
       "      <td>0</td>\n",
       "      <td>0.0</td>\n",
       "      <td>NaN</td>\n",
       "      <td>0.0</td>\n",
       "    </tr>\n",
       "    <tr>\n",
       "      <th>7</th>\n",
       "      <td>AO</td>\n",
       "      <td>2000</td>\n",
       "      <td>186.0</td>\n",
       "      <td>999.0</td>\n",
       "      <td>1003.0</td>\n",
       "      <td>912.0</td>\n",
       "      <td>482</td>\n",
       "      <td>312</td>\n",
       "      <td>194.0</td>\n",
       "      <td>NaN</td>\n",
       "      <td>247.0</td>\n",
       "    </tr>\n",
       "    <tr>\n",
       "      <th>8</th>\n",
       "      <td>AR</td>\n",
       "      <td>2000</td>\n",
       "      <td>97.0</td>\n",
       "      <td>278.0</td>\n",
       "      <td>594.0</td>\n",
       "      <td>402.0</td>\n",
       "      <td>419</td>\n",
       "      <td>368</td>\n",
       "      <td>330.0</td>\n",
       "      <td>NaN</td>\n",
       "      <td>121.0</td>\n",
       "    </tr>\n",
       "    <tr>\n",
       "      <th>9</th>\n",
       "      <td>AS</td>\n",
       "      <td>2000</td>\n",
       "      <td>NaN</td>\n",
       "      <td>NaN</td>\n",
       "      <td>NaN</td>\n",
       "      <td>NaN</td>\n",
       "      <td>1</td>\n",
       "      <td>1</td>\n",
       "      <td>NaN</td>\n",
       "      <td>NaN</td>\n",
       "      <td>NaN</td>\n",
       "    </tr>\n",
       "  </tbody>\n",
       "</table>\n",
       "</div>"
      ],
      "text/plain": [
       "  country  year   m014  m1524   m2534  m3544  m4554  m5564    m65  mu   f014\n",
       "0      AD  2000    0.0    0.0     1.0    0.0      0      0    0.0 NaN    NaN\n",
       "1      AE  2000    2.0    4.0     4.0    6.0      5     12   10.0 NaN    3.0\n",
       "2      AF  2000   52.0  228.0   183.0  149.0    129     94   80.0 NaN   93.0\n",
       "3      AG  2000    0.0    0.0     0.0    0.0      0      0    1.0 NaN    1.0\n",
       "4      AL  2000    2.0   19.0    21.0   14.0     24     19   16.0 NaN    3.0\n",
       "5      AM  2000    2.0  152.0   130.0  131.0     63     26   21.0 NaN    1.0\n",
       "6      AN  2000    0.0    0.0     1.0    2.0      0      0    0.0 NaN    0.0\n",
       "7      AO  2000  186.0  999.0  1003.0  912.0    482    312  194.0 NaN  247.0\n",
       "8      AR  2000   97.0  278.0   594.0  402.0    419    368  330.0 NaN  121.0\n",
       "9      AS  2000    NaN    NaN     NaN    NaN      1      1    NaN NaN    NaN"
      ]
     },
     "execution_count": 4,
     "metadata": {
      "tags": []
     },
     "output_type": "execute_result"
    }
   ],
   "source": [
    "df_tb_raw"
   ]
  },
  {
   "cell_type": "markdown",
   "metadata": {
    "id": "XruVsAX_mtfg"
   },
   "source": [
    "m014 significa Homens entre 0 e 14 anos, m1524 significa Homens entre 15 e 24 anos e assim por diante. Então, note que temos, de fato, mais de uma variável em uma única coluna."
   ]
  },
  {
   "cell_type": "markdown",
   "metadata": {
    "id": "YMtCixYgmtfh"
   },
   "source": [
    "Inicialmente, vamos desfazer as colunas, criando uma coluna chamada sexo_e_idade. Dessa forma, as colunas não existirão e passarão a ser uma única contendo sexo e idade e seus valores serão registros."
   ]
  },
  {
   "cell_type": "code",
   "execution_count": null,
   "metadata": {
    "id": "R4EJzeo5mtfh"
   },
   "outputs": [],
   "source": [
    "# Vamos fixar o pais (country) e o ano (year), vamos dar o nome da nova coluna de sexo_e_idade \n",
    "# A coluna com o número de casos se chamará numero_casos\n",
    "df_tb_raw_tidy = pd.melt(df_tb_raw, id_vars=[\"country\",\"year\"], value_name=\"numer_casos\", var_name=\"sexo_e_idade\")\n"
   ]
  },
  {
   "cell_type": "code",
   "execution_count": null,
   "metadata": {
    "id": "PT2qX08cmtfk",
    "outputId": "b6280612-ec85-4a53-a0b2-5da5c9d3255a"
   },
   "outputs": [
    {
     "data": {
      "text/html": [
       "<div>\n",
       "<style scoped>\n",
       "    .dataframe tbody tr th:only-of-type {\n",
       "        vertical-align: middle;\n",
       "    }\n",
       "\n",
       "    .dataframe tbody tr th {\n",
       "        vertical-align: top;\n",
       "    }\n",
       "\n",
       "    .dataframe thead th {\n",
       "        text-align: right;\n",
       "    }\n",
       "</style>\n",
       "<table border=\"1\" class=\"dataframe\">\n",
       "  <thead>\n",
       "    <tr style=\"text-align: right;\">\n",
       "      <th></th>\n",
       "      <th>country</th>\n",
       "      <th>year</th>\n",
       "      <th>sex_and_age</th>\n",
       "      <th>numer_casos</th>\n",
       "    </tr>\n",
       "  </thead>\n",
       "  <tbody>\n",
       "    <tr>\n",
       "      <th>0</th>\n",
       "      <td>AD</td>\n",
       "      <td>2000</td>\n",
       "      <td>m014</td>\n",
       "      <td>0.0</td>\n",
       "    </tr>\n",
       "    <tr>\n",
       "      <th>1</th>\n",
       "      <td>AE</td>\n",
       "      <td>2000</td>\n",
       "      <td>m014</td>\n",
       "      <td>2.0</td>\n",
       "    </tr>\n",
       "    <tr>\n",
       "      <th>2</th>\n",
       "      <td>AF</td>\n",
       "      <td>2000</td>\n",
       "      <td>m014</td>\n",
       "      <td>52.0</td>\n",
       "    </tr>\n",
       "    <tr>\n",
       "      <th>3</th>\n",
       "      <td>AG</td>\n",
       "      <td>2000</td>\n",
       "      <td>m014</td>\n",
       "      <td>0.0</td>\n",
       "    </tr>\n",
       "    <tr>\n",
       "      <th>4</th>\n",
       "      <td>AL</td>\n",
       "      <td>2000</td>\n",
       "      <td>m014</td>\n",
       "      <td>2.0</td>\n",
       "    </tr>\n",
       "    <tr>\n",
       "      <th>...</th>\n",
       "      <td>...</td>\n",
       "      <td>...</td>\n",
       "      <td>...</td>\n",
       "      <td>...</td>\n",
       "    </tr>\n",
       "    <tr>\n",
       "      <th>85</th>\n",
       "      <td>AM</td>\n",
       "      <td>2000</td>\n",
       "      <td>f014</td>\n",
       "      <td>1.0</td>\n",
       "    </tr>\n",
       "    <tr>\n",
       "      <th>86</th>\n",
       "      <td>AN</td>\n",
       "      <td>2000</td>\n",
       "      <td>f014</td>\n",
       "      <td>0.0</td>\n",
       "    </tr>\n",
       "    <tr>\n",
       "      <th>87</th>\n",
       "      <td>AO</td>\n",
       "      <td>2000</td>\n",
       "      <td>f014</td>\n",
       "      <td>247.0</td>\n",
       "    </tr>\n",
       "    <tr>\n",
       "      <th>88</th>\n",
       "      <td>AR</td>\n",
       "      <td>2000</td>\n",
       "      <td>f014</td>\n",
       "      <td>121.0</td>\n",
       "    </tr>\n",
       "    <tr>\n",
       "      <th>89</th>\n",
       "      <td>AS</td>\n",
       "      <td>2000</td>\n",
       "      <td>f014</td>\n",
       "      <td>NaN</td>\n",
       "    </tr>\n",
       "  </tbody>\n",
       "</table>\n",
       "<p>90 rows × 4 columns</p>\n",
       "</div>"
      ],
      "text/plain": [
       "   country  year sex_and_age  numer_casos\n",
       "0       AD  2000        m014          0.0\n",
       "1       AE  2000        m014          2.0\n",
       "2       AF  2000        m014         52.0\n",
       "3       AG  2000        m014          0.0\n",
       "4       AL  2000        m014          2.0\n",
       "..     ...   ...         ...          ...\n",
       "85      AM  2000        f014          1.0\n",
       "86      AN  2000        f014          0.0\n",
       "87      AO  2000        f014        247.0\n",
       "88      AR  2000        f014        121.0\n",
       "89      AS  2000        f014          NaN\n",
       "\n",
       "[90 rows x 4 columns]"
      ]
     },
     "execution_count": 7,
     "metadata": {
      "tags": []
     },
     "output_type": "execute_result"
    }
   ],
   "source": [
    "df_tb_raw_tidy"
   ]
  },
  {
   "cell_type": "markdown",
   "metadata": {
    "id": "sB1brwrZmtfr"
   },
   "source": [
    "Até agora OK. Precisamos separar a coluna sexo_e_idade em duas: sexo, idade.\n",
    "para isso, precisamos extrair o caractere que identifica o sexo (m ou f) e também a faixa de idade que tem 3 ou 4 números seguidos. Para isso vamos utilizar uma velha conhecida: a regex."
   ]
  },
  {
   "cell_type": "markdown",
   "metadata": {
    "id": "Gm6CGKxOmtfs"
   },
   "source": [
    "Vamos fazer isso por partes:\n",
    "* Usaremos ```\\D``` para dar match com qualquer caractere que não seja um número (importante dizer que depois que o match ocorre, não há uma busca posterior nesse caso.)\n",
    "* Usaremos "
   ]
  },
  {
   "cell_type": "code",
   "execution_count": null,
   "metadata": {
    "id": "P8By3Hkxmtft"
   },
   "outputs": [],
   "source": [
    "df_tb_raw_tidy['sexo'] = df_tb_raw_tidy[\"sexo_e_idade\"].str.extract(\"(\\D)\")    \n"
   ]
  },
  {
   "cell_type": "code",
   "execution_count": null,
   "metadata": {
    "id": "pcCvI9_hmtfx"
   },
   "outputs": [],
   "source": [
    "df_tb_raw_tidy['faixa'] = df_tb_raw_tidy[\"sexo_e_idade\"].str.extract(\"(\\d+)\")    \n",
    "\n"
   ]
  },
  {
   "cell_type": "code",
   "execution_count": null,
   "metadata": {
    "id": "ng_uddfomtf0"
   },
   "outputs": [],
   "source": [
    "x = df_tb_raw_tidy['faixa'][35]"
   ]
  },
  {
   "cell_type": "code",
   "execution_count": null,
   "metadata": {
    "id": "vppFLSoKmtf7"
   },
   "outputs": [],
   "source": [
    "def criar_faixas(x):\n",
    "    if x[0] == '0':\n",
    "        return x[0]+'-'+x[1:]\n",
    "    else:\n",
    "        return x[0:2]+'-'+x[2:]"
   ]
  },
  {
   "cell_type": "code",
   "execution_count": null,
   "metadata": {
    "id": "aCbh_VKbmtgA"
   },
   "outputs": [],
   "source": [
    "df_tb_raw_tidy['faixa'] = df_tb_raw_tidy['faixa'].astype('object')"
   ]
  },
  {
   "cell_type": "code",
   "execution_count": null,
   "metadata": {
    "id": "5Jtw1OPEmtgK"
   },
   "outputs": [],
   "source": [
    "df_tb_raw_tidy['faixa_idade'] = df_tb_raw_tidy['faixa'].map(criar_faixas, na_action='ignore')"
   ]
  },
  {
   "cell_type": "code",
   "execution_count": null,
   "metadata": {
    "id": "VmCs8CJUmtgN"
   },
   "outputs": [],
   "source": [
    "df_tb_raw_tidy.drop(['faixa'], axis=1, inplace=True)"
   ]
  },
  {
   "cell_type": "code",
   "execution_count": null,
   "metadata": {
    "id": "tbc_KixpmtgP",
    "outputId": "0ddab69e-4e0c-4e35-f41a-81f8fd8038e2"
   },
   "outputs": [
    {
     "data": {
      "text/html": [
       "<div>\n",
       "<style scoped>\n",
       "    .dataframe tbody tr th:only-of-type {\n",
       "        vertical-align: middle;\n",
       "    }\n",
       "\n",
       "    .dataframe tbody tr th {\n",
       "        vertical-align: top;\n",
       "    }\n",
       "\n",
       "    .dataframe thead th {\n",
       "        text-align: right;\n",
       "    }\n",
       "</style>\n",
       "<table border=\"1\" class=\"dataframe\">\n",
       "  <thead>\n",
       "    <tr style=\"text-align: right;\">\n",
       "      <th></th>\n",
       "      <th>country</th>\n",
       "      <th>year</th>\n",
       "      <th>sexo_e_idade</th>\n",
       "      <th>numer_casos</th>\n",
       "      <th>sexo</th>\n",
       "      <th>faixa_idade</th>\n",
       "    </tr>\n",
       "  </thead>\n",
       "  <tbody>\n",
       "    <tr>\n",
       "      <th>0</th>\n",
       "      <td>AD</td>\n",
       "      <td>2000</td>\n",
       "      <td>m014</td>\n",
       "      <td>0.0</td>\n",
       "      <td>m</td>\n",
       "      <td>0-14</td>\n",
       "    </tr>\n",
       "    <tr>\n",
       "      <th>1</th>\n",
       "      <td>AE</td>\n",
       "      <td>2000</td>\n",
       "      <td>m014</td>\n",
       "      <td>2.0</td>\n",
       "      <td>m</td>\n",
       "      <td>0-14</td>\n",
       "    </tr>\n",
       "    <tr>\n",
       "      <th>2</th>\n",
       "      <td>AF</td>\n",
       "      <td>2000</td>\n",
       "      <td>m014</td>\n",
       "      <td>52.0</td>\n",
       "      <td>m</td>\n",
       "      <td>0-14</td>\n",
       "    </tr>\n",
       "    <tr>\n",
       "      <th>3</th>\n",
       "      <td>AG</td>\n",
       "      <td>2000</td>\n",
       "      <td>m014</td>\n",
       "      <td>0.0</td>\n",
       "      <td>m</td>\n",
       "      <td>0-14</td>\n",
       "    </tr>\n",
       "    <tr>\n",
       "      <th>4</th>\n",
       "      <td>AL</td>\n",
       "      <td>2000</td>\n",
       "      <td>m014</td>\n",
       "      <td>2.0</td>\n",
       "      <td>m</td>\n",
       "      <td>0-14</td>\n",
       "    </tr>\n",
       "    <tr>\n",
       "      <th>...</th>\n",
       "      <td>...</td>\n",
       "      <td>...</td>\n",
       "      <td>...</td>\n",
       "      <td>...</td>\n",
       "      <td>...</td>\n",
       "      <td>...</td>\n",
       "    </tr>\n",
       "    <tr>\n",
       "      <th>85</th>\n",
       "      <td>AM</td>\n",
       "      <td>2000</td>\n",
       "      <td>f014</td>\n",
       "      <td>1.0</td>\n",
       "      <td>f</td>\n",
       "      <td>0-14</td>\n",
       "    </tr>\n",
       "    <tr>\n",
       "      <th>86</th>\n",
       "      <td>AN</td>\n",
       "      <td>2000</td>\n",
       "      <td>f014</td>\n",
       "      <td>0.0</td>\n",
       "      <td>f</td>\n",
       "      <td>0-14</td>\n",
       "    </tr>\n",
       "    <tr>\n",
       "      <th>87</th>\n",
       "      <td>AO</td>\n",
       "      <td>2000</td>\n",
       "      <td>f014</td>\n",
       "      <td>247.0</td>\n",
       "      <td>f</td>\n",
       "      <td>0-14</td>\n",
       "    </tr>\n",
       "    <tr>\n",
       "      <th>88</th>\n",
       "      <td>AR</td>\n",
       "      <td>2000</td>\n",
       "      <td>f014</td>\n",
       "      <td>121.0</td>\n",
       "      <td>f</td>\n",
       "      <td>0-14</td>\n",
       "    </tr>\n",
       "    <tr>\n",
       "      <th>89</th>\n",
       "      <td>AS</td>\n",
       "      <td>2000</td>\n",
       "      <td>f014</td>\n",
       "      <td>NaN</td>\n",
       "      <td>f</td>\n",
       "      <td>0-14</td>\n",
       "    </tr>\n",
       "  </tbody>\n",
       "</table>\n",
       "<p>90 rows × 6 columns</p>\n",
       "</div>"
      ],
      "text/plain": [
       "   country  year sexo_e_idade  numer_casos sexo faixa_idade\n",
       "0       AD  2000         m014          0.0    m        0-14\n",
       "1       AE  2000         m014          2.0    m        0-14\n",
       "2       AF  2000         m014         52.0    m        0-14\n",
       "3       AG  2000         m014          0.0    m        0-14\n",
       "4       AL  2000         m014          2.0    m        0-14\n",
       "..     ...   ...          ...          ...  ...         ...\n",
       "85      AM  2000         f014          1.0    f        0-14\n",
       "86      AN  2000         f014          0.0    f        0-14\n",
       "87      AO  2000         f014        247.0    f        0-14\n",
       "88      AR  2000         f014        121.0    f        0-14\n",
       "89      AS  2000         f014          NaN    f        0-14\n",
       "\n",
       "[90 rows x 6 columns]"
      ]
     },
     "execution_count": 63,
     "metadata": {
      "tags": []
     },
     "output_type": "execute_result"
    }
   ],
   "source": [
    "df_tb_raw_tidy"
   ]
  },
  {
   "cell_type": "markdown",
   "metadata": {
    "id": "w4k80NJ6mtgT"
   },
   "source": [
    "## Variáveis Armazenadas em Colunas e Linhas"
   ]
  },
  {
   "cell_type": "markdown",
   "metadata": {
    "id": "Pe-BQ1ArmtgU"
   },
   "source": [
    "Esse dataset apresenta os registros diários do tempo (temperaturas) na estação MX17004,no Mxico, pelo período de 5 meses em 2010."
   ]
  },
  {
   "cell_type": "markdown",
   "metadata": {
    "id": "yZGVWKe2mtgU"
   },
   "source": [
    "Problemas:\n",
    "* Variáveis armazenadas nas linhas (tmin, tmax) e também colunas (dias)"
   ]
  },
  {
   "cell_type": "code",
   "execution_count": null,
   "metadata": {
    "id": "iyGuTN5_mtgV"
   },
   "outputs": [],
   "source": [
    "df_weather_raw = pd.read_csv('weather-raw.csv')"
   ]
  },
  {
   "cell_type": "code",
   "execution_count": null,
   "metadata": {
    "id": "rJsi42sfmtgm",
    "outputId": "06c156e9-99c6-4f4b-bc22-1035f76f4fbc"
   },
   "outputs": [
    {
     "data": {
      "text/html": [
       "<div>\n",
       "<style scoped>\n",
       "    .dataframe tbody tr th:only-of-type {\n",
       "        vertical-align: middle;\n",
       "    }\n",
       "\n",
       "    .dataframe tbody tr th {\n",
       "        vertical-align: top;\n",
       "    }\n",
       "\n",
       "    .dataframe thead th {\n",
       "        text-align: right;\n",
       "    }\n",
       "</style>\n",
       "<table border=\"1\" class=\"dataframe\">\n",
       "  <thead>\n",
       "    <tr style=\"text-align: right;\">\n",
       "      <th></th>\n",
       "      <th>id</th>\n",
       "      <th>year</th>\n",
       "      <th>month</th>\n",
       "      <th>element</th>\n",
       "      <th>d1</th>\n",
       "      <th>d2</th>\n",
       "      <th>d3</th>\n",
       "      <th>d4</th>\n",
       "      <th>d5</th>\n",
       "      <th>d6</th>\n",
       "      <th>d7</th>\n",
       "      <th>d8</th>\n",
       "    </tr>\n",
       "  </thead>\n",
       "  <tbody>\n",
       "    <tr>\n",
       "      <th>0</th>\n",
       "      <td>MX17004</td>\n",
       "      <td>2010</td>\n",
       "      <td>1</td>\n",
       "      <td>tmax</td>\n",
       "      <td>NaN</td>\n",
       "      <td>NaN</td>\n",
       "      <td>NaN</td>\n",
       "      <td>NaN</td>\n",
       "      <td>NaN</td>\n",
       "      <td>NaN</td>\n",
       "      <td>NaN</td>\n",
       "      <td>NaN</td>\n",
       "    </tr>\n",
       "    <tr>\n",
       "      <th>1</th>\n",
       "      <td>MX17004</td>\n",
       "      <td>2010</td>\n",
       "      <td>1</td>\n",
       "      <td>tmin</td>\n",
       "      <td>NaN</td>\n",
       "      <td>NaN</td>\n",
       "      <td>NaN</td>\n",
       "      <td>NaN</td>\n",
       "      <td>NaN</td>\n",
       "      <td>NaN</td>\n",
       "      <td>NaN</td>\n",
       "      <td>NaN</td>\n",
       "    </tr>\n",
       "    <tr>\n",
       "      <th>2</th>\n",
       "      <td>MX17004</td>\n",
       "      <td>2010</td>\n",
       "      <td>2</td>\n",
       "      <td>tmax</td>\n",
       "      <td>NaN</td>\n",
       "      <td>27.3</td>\n",
       "      <td>24.1</td>\n",
       "      <td>NaN</td>\n",
       "      <td>NaN</td>\n",
       "      <td>NaN</td>\n",
       "      <td>NaN</td>\n",
       "      <td>NaN</td>\n",
       "    </tr>\n",
       "    <tr>\n",
       "      <th>3</th>\n",
       "      <td>MX17004</td>\n",
       "      <td>2010</td>\n",
       "      <td>2</td>\n",
       "      <td>tmin</td>\n",
       "      <td>NaN</td>\n",
       "      <td>14.4</td>\n",
       "      <td>14.4</td>\n",
       "      <td>NaN</td>\n",
       "      <td>NaN</td>\n",
       "      <td>NaN</td>\n",
       "      <td>NaN</td>\n",
       "      <td>NaN</td>\n",
       "    </tr>\n",
       "    <tr>\n",
       "      <th>4</th>\n",
       "      <td>MX17004</td>\n",
       "      <td>2010</td>\n",
       "      <td>3</td>\n",
       "      <td>tmax</td>\n",
       "      <td>NaN</td>\n",
       "      <td>NaN</td>\n",
       "      <td>NaN</td>\n",
       "      <td>NaN</td>\n",
       "      <td>32.1</td>\n",
       "      <td>NaN</td>\n",
       "      <td>NaN</td>\n",
       "      <td>NaN</td>\n",
       "    </tr>\n",
       "    <tr>\n",
       "      <th>5</th>\n",
       "      <td>MX17004</td>\n",
       "      <td>2010</td>\n",
       "      <td>3</td>\n",
       "      <td>tmin</td>\n",
       "      <td>NaN</td>\n",
       "      <td>NaN</td>\n",
       "      <td>NaN</td>\n",
       "      <td>NaN</td>\n",
       "      <td>14.2</td>\n",
       "      <td>NaN</td>\n",
       "      <td>NaN</td>\n",
       "      <td>NaN</td>\n",
       "    </tr>\n",
       "    <tr>\n",
       "      <th>6</th>\n",
       "      <td>MX17004</td>\n",
       "      <td>2010</td>\n",
       "      <td>4</td>\n",
       "      <td>tmax</td>\n",
       "      <td>NaN</td>\n",
       "      <td>NaN</td>\n",
       "      <td>NaN</td>\n",
       "      <td>NaN</td>\n",
       "      <td>NaN</td>\n",
       "      <td>NaN</td>\n",
       "      <td>NaN</td>\n",
       "      <td>NaN</td>\n",
       "    </tr>\n",
       "    <tr>\n",
       "      <th>7</th>\n",
       "      <td>MX17004</td>\n",
       "      <td>2010</td>\n",
       "      <td>4</td>\n",
       "      <td>tmin</td>\n",
       "      <td>NaN</td>\n",
       "      <td>NaN</td>\n",
       "      <td>NaN</td>\n",
       "      <td>NaN</td>\n",
       "      <td>NaN</td>\n",
       "      <td>NaN</td>\n",
       "      <td>NaN</td>\n",
       "      <td>NaN</td>\n",
       "    </tr>\n",
       "    <tr>\n",
       "      <th>8</th>\n",
       "      <td>MX17004</td>\n",
       "      <td>2010</td>\n",
       "      <td>5</td>\n",
       "      <td>tmax</td>\n",
       "      <td>NaN</td>\n",
       "      <td>NaN</td>\n",
       "      <td>NaN</td>\n",
       "      <td>NaN</td>\n",
       "      <td>NaN</td>\n",
       "      <td>NaN</td>\n",
       "      <td>NaN</td>\n",
       "      <td>NaN</td>\n",
       "    </tr>\n",
       "    <tr>\n",
       "      <th>9</th>\n",
       "      <td>MX17004</td>\n",
       "      <td>2010</td>\n",
       "      <td>5</td>\n",
       "      <td>tmin</td>\n",
       "      <td>NaN</td>\n",
       "      <td>NaN</td>\n",
       "      <td>NaN</td>\n",
       "      <td>NaN</td>\n",
       "      <td>NaN</td>\n",
       "      <td>NaN</td>\n",
       "      <td>NaN</td>\n",
       "      <td>NaN</td>\n",
       "    </tr>\n",
       "  </tbody>\n",
       "</table>\n",
       "</div>"
      ],
      "text/plain": [
       "         id  year  month element  d1    d2    d3  d4    d5  d6  d7  d8\n",
       "0   MX17004  2010      1    tmax NaN   NaN   NaN NaN   NaN NaN NaN NaN\n",
       "1   MX17004  2010      1    tmin NaN   NaN   NaN NaN   NaN NaN NaN NaN\n",
       "2  MX17004   2010      2    tmax NaN  27.3  24.1 NaN   NaN NaN NaN NaN\n",
       "3   MX17004  2010      2    tmin NaN  14.4  14.4 NaN   NaN NaN NaN NaN\n",
       "4   MX17004  2010      3    tmax NaN   NaN   NaN NaN  32.1 NaN NaN NaN\n",
       "5   MX17004  2010      3    tmin NaN   NaN   NaN NaN  14.2 NaN NaN NaN\n",
       "6   MX17004  2010      4    tmax NaN   NaN   NaN NaN   NaN NaN NaN NaN\n",
       "7   MX17004  2010      4    tmin NaN   NaN   NaN NaN   NaN NaN NaN NaN\n",
       "8   MX17004  2010      5    tmax NaN   NaN   NaN NaN   NaN NaN NaN NaN\n",
       "9   MX17004  2010      5    tmin NaN   NaN   NaN NaN   NaN NaN NaN NaN"
      ]
     },
     "execution_count": 74,
     "metadata": {
      "tags": []
     },
     "output_type": "execute_result"
    }
   ],
   "source": [
    "df_weather_raw"
   ]
  },
  {
   "cell_type": "markdown",
   "metadata": {
    "id": "Gn-uQbAxmtgq"
   },
   "source": [
    "Para transformar esse dataset precisaremos, a partir das colunas de dia e element (temperatura máxima e mínima). criar as variáveis data, temperatura_máxima e temperatura_mínima."
   ]
  },
  {
   "cell_type": "code",
   "execution_count": null,
   "metadata": {
    "id": "CIFWdEWymtgq"
   },
   "outputs": [],
   "source": [
    "# vamos começar transformando as colunas de dia em uma única coluna\n",
    "df_weather_tidy = pd.melt(df_weather_raw, id_vars = ['id', 'year', 'month', 'element'], var_name='dia', value_name='temperatura')\n"
   ]
  },
  {
   "cell_type": "code",
   "execution_count": null,
   "metadata": {
    "id": "ocyakbOemtg9",
    "outputId": "3a1cdf9b-3518-4ffc-8bc0-397b8aefbe3d"
   },
   "outputs": [
    {
     "data": {
      "text/html": [
       "<div>\n",
       "<style scoped>\n",
       "    .dataframe tbody tr th:only-of-type {\n",
       "        vertical-align: middle;\n",
       "    }\n",
       "\n",
       "    .dataframe tbody tr th {\n",
       "        vertical-align: top;\n",
       "    }\n",
       "\n",
       "    .dataframe thead th {\n",
       "        text-align: right;\n",
       "    }\n",
       "</style>\n",
       "<table border=\"1\" class=\"dataframe\">\n",
       "  <thead>\n",
       "    <tr style=\"text-align: right;\">\n",
       "      <th></th>\n",
       "      <th>id</th>\n",
       "      <th>year</th>\n",
       "      <th>month</th>\n",
       "      <th>element</th>\n",
       "      <th>dia</th>\n",
       "      <th>temperatura</th>\n",
       "    </tr>\n",
       "  </thead>\n",
       "  <tbody>\n",
       "    <tr>\n",
       "      <th>0</th>\n",
       "      <td>MX17004</td>\n",
       "      <td>2010</td>\n",
       "      <td>1</td>\n",
       "      <td>tmax</td>\n",
       "      <td>d1</td>\n",
       "      <td>NaN</td>\n",
       "    </tr>\n",
       "    <tr>\n",
       "      <th>1</th>\n",
       "      <td>MX17004</td>\n",
       "      <td>2010</td>\n",
       "      <td>1</td>\n",
       "      <td>tmin</td>\n",
       "      <td>d1</td>\n",
       "      <td>NaN</td>\n",
       "    </tr>\n",
       "    <tr>\n",
       "      <th>2</th>\n",
       "      <td>MX17004</td>\n",
       "      <td>2010</td>\n",
       "      <td>2</td>\n",
       "      <td>tmax</td>\n",
       "      <td>d1</td>\n",
       "      <td>NaN</td>\n",
       "    </tr>\n",
       "    <tr>\n",
       "      <th>3</th>\n",
       "      <td>MX17004</td>\n",
       "      <td>2010</td>\n",
       "      <td>2</td>\n",
       "      <td>tmin</td>\n",
       "      <td>d1</td>\n",
       "      <td>NaN</td>\n",
       "    </tr>\n",
       "    <tr>\n",
       "      <th>4</th>\n",
       "      <td>MX17004</td>\n",
       "      <td>2010</td>\n",
       "      <td>3</td>\n",
       "      <td>tmax</td>\n",
       "      <td>d1</td>\n",
       "      <td>NaN</td>\n",
       "    </tr>\n",
       "    <tr>\n",
       "      <th>...</th>\n",
       "      <td>...</td>\n",
       "      <td>...</td>\n",
       "      <td>...</td>\n",
       "      <td>...</td>\n",
       "      <td>...</td>\n",
       "      <td>...</td>\n",
       "    </tr>\n",
       "    <tr>\n",
       "      <th>75</th>\n",
       "      <td>MX17004</td>\n",
       "      <td>2010</td>\n",
       "      <td>3</td>\n",
       "      <td>tmin</td>\n",
       "      <td>d8</td>\n",
       "      <td>NaN</td>\n",
       "    </tr>\n",
       "    <tr>\n",
       "      <th>76</th>\n",
       "      <td>MX17004</td>\n",
       "      <td>2010</td>\n",
       "      <td>4</td>\n",
       "      <td>tmax</td>\n",
       "      <td>d8</td>\n",
       "      <td>NaN</td>\n",
       "    </tr>\n",
       "    <tr>\n",
       "      <th>77</th>\n",
       "      <td>MX17004</td>\n",
       "      <td>2010</td>\n",
       "      <td>4</td>\n",
       "      <td>tmin</td>\n",
       "      <td>d8</td>\n",
       "      <td>NaN</td>\n",
       "    </tr>\n",
       "    <tr>\n",
       "      <th>78</th>\n",
       "      <td>MX17004</td>\n",
       "      <td>2010</td>\n",
       "      <td>5</td>\n",
       "      <td>tmax</td>\n",
       "      <td>d8</td>\n",
       "      <td>NaN</td>\n",
       "    </tr>\n",
       "    <tr>\n",
       "      <th>79</th>\n",
       "      <td>MX17004</td>\n",
       "      <td>2010</td>\n",
       "      <td>5</td>\n",
       "      <td>tmin</td>\n",
       "      <td>d8</td>\n",
       "      <td>NaN</td>\n",
       "    </tr>\n",
       "  </tbody>\n",
       "</table>\n",
       "<p>80 rows × 6 columns</p>\n",
       "</div>"
      ],
      "text/plain": [
       "          id  year  month element dia  temperatura\n",
       "0    MX17004  2010      1    tmax  d1          NaN\n",
       "1    MX17004  2010      1    tmin  d1          NaN\n",
       "2   MX17004   2010      2    tmax  d1          NaN\n",
       "3    MX17004  2010      2    tmin  d1          NaN\n",
       "4    MX17004  2010      3    tmax  d1          NaN\n",
       "..       ...   ...    ...     ...  ..          ...\n",
       "75   MX17004  2010      3    tmin  d8          NaN\n",
       "76   MX17004  2010      4    tmax  d8          NaN\n",
       "77   MX17004  2010      4    tmin  d8          NaN\n",
       "78   MX17004  2010      5    tmax  d8          NaN\n",
       "79   MX17004  2010      5    tmin  d8          NaN\n",
       "\n",
       "[80 rows x 6 columns]"
      ]
     },
     "execution_count": 79,
     "metadata": {
      "tags": []
     },
     "output_type": "execute_result"
    }
   ],
   "source": [
    "df_weather_tidy"
   ]
  },
  {
   "cell_type": "code",
   "execution_count": null,
   "metadata": {
    "id": "_x7t7hSJmthE"
   },
   "outputs": [],
   "source": [
    "df_weather_tidy[\"dia_numero\"] =  df_weather_tidy[\"dia\"].str.extract(\"(\\d)\")   \n",
    "\n"
   ]
  },
  {
   "cell_type": "code",
   "execution_count": null,
   "metadata": {
    "id": "6rgqvatPmthK",
    "outputId": "563e16cf-491b-47bc-f147-467ca9388244"
   },
   "outputs": [
    {
     "data": {
      "text/plain": [
       "0     1\n",
       "1     1\n",
       "2     1\n",
       "3     1\n",
       "4     1\n",
       "     ..\n",
       "75    8\n",
       "76    8\n",
       "77    8\n",
       "78    8\n",
       "79    8\n",
       "Name: dia_numero, Length: 80, dtype: object"
      ]
     },
     "execution_count": 86,
     "metadata": {
      "tags": []
     },
     "output_type": "execute_result"
    }
   ],
   "source": [
    "df_weather_tidy[\"dia_numero\"]"
   ]
  },
  {
   "cell_type": "markdown",
   "metadata": {
    "id": "1Zln5b43mthR"
   },
   "source": [
    "Vamos agora criar uma data a partir do mês, ano e dia."
   ]
  },
  {
   "cell_type": "code",
   "execution_count": null,
   "metadata": {
    "id": "ak0cjL_9mthR"
   },
   "outputs": [],
   "source": [
    "# Primeiramente converter para numerico tudo\n",
    "df_weather_tidy.loc[:, ['year', 'month', 'dia_numero']] = df_weather_tidy.loc[:, ['year', 'month', 'dia_numero']].astype('int')"
   ]
  },
  {
   "cell_type": "code",
   "execution_count": null,
   "metadata": {
    "id": "_XoqghF_mthU"
   },
   "outputs": [],
   "source": [
    "def criar_data(x):\n",
    "    data = datetime.datetime(year=x['year'], month=int(x['month']), day=x['dia_numero'])\n",
    "    return data"
   ]
  },
  {
   "cell_type": "code",
   "execution_count": null,
   "metadata": {
    "id": "FEwYfRKQmthn"
   },
   "outputs": [],
   "source": [
    "df_weather_tidy['data'] = df_weather_tidy.apply(criar_data, axis=1)"
   ]
  },
  {
   "cell_type": "code",
   "execution_count": null,
   "metadata": {
    "id": "HH9hhp6Jmth1",
    "outputId": "493b86f0-236f-4b28-a958-871379917dbb"
   },
   "outputs": [
    {
     "data": {
      "text/html": [
       "<div>\n",
       "<style scoped>\n",
       "    .dataframe tbody tr th:only-of-type {\n",
       "        vertical-align: middle;\n",
       "    }\n",
       "\n",
       "    .dataframe tbody tr th {\n",
       "        vertical-align: top;\n",
       "    }\n",
       "\n",
       "    .dataframe thead th {\n",
       "        text-align: right;\n",
       "    }\n",
       "</style>\n",
       "<table border=\"1\" class=\"dataframe\">\n",
       "  <thead>\n",
       "    <tr style=\"text-align: right;\">\n",
       "      <th></th>\n",
       "      <th>id</th>\n",
       "      <th>year</th>\n",
       "      <th>month</th>\n",
       "      <th>element</th>\n",
       "      <th>dia</th>\n",
       "      <th>temperatura</th>\n",
       "      <th>dia_numero</th>\n",
       "      <th>data</th>\n",
       "    </tr>\n",
       "  </thead>\n",
       "  <tbody>\n",
       "    <tr>\n",
       "      <th>0</th>\n",
       "      <td>MX17004</td>\n",
       "      <td>2010</td>\n",
       "      <td>1</td>\n",
       "      <td>tmax</td>\n",
       "      <td>d1</td>\n",
       "      <td>NaN</td>\n",
       "      <td>1</td>\n",
       "      <td>2010-01-01</td>\n",
       "    </tr>\n",
       "    <tr>\n",
       "      <th>1</th>\n",
       "      <td>MX17004</td>\n",
       "      <td>2010</td>\n",
       "      <td>1</td>\n",
       "      <td>tmin</td>\n",
       "      <td>d1</td>\n",
       "      <td>NaN</td>\n",
       "      <td>1</td>\n",
       "      <td>2010-01-01</td>\n",
       "    </tr>\n",
       "    <tr>\n",
       "      <th>2</th>\n",
       "      <td>MX17004</td>\n",
       "      <td>2010</td>\n",
       "      <td>2</td>\n",
       "      <td>tmax</td>\n",
       "      <td>d1</td>\n",
       "      <td>NaN</td>\n",
       "      <td>1</td>\n",
       "      <td>2010-02-01</td>\n",
       "    </tr>\n",
       "    <tr>\n",
       "      <th>3</th>\n",
       "      <td>MX17004</td>\n",
       "      <td>2010</td>\n",
       "      <td>2</td>\n",
       "      <td>tmin</td>\n",
       "      <td>d1</td>\n",
       "      <td>NaN</td>\n",
       "      <td>1</td>\n",
       "      <td>2010-02-01</td>\n",
       "    </tr>\n",
       "    <tr>\n",
       "      <th>4</th>\n",
       "      <td>MX17004</td>\n",
       "      <td>2010</td>\n",
       "      <td>3</td>\n",
       "      <td>tmax</td>\n",
       "      <td>d1</td>\n",
       "      <td>NaN</td>\n",
       "      <td>1</td>\n",
       "      <td>2010-03-01</td>\n",
       "    </tr>\n",
       "    <tr>\n",
       "      <th>...</th>\n",
       "      <td>...</td>\n",
       "      <td>...</td>\n",
       "      <td>...</td>\n",
       "      <td>...</td>\n",
       "      <td>...</td>\n",
       "      <td>...</td>\n",
       "      <td>...</td>\n",
       "      <td>...</td>\n",
       "    </tr>\n",
       "    <tr>\n",
       "      <th>75</th>\n",
       "      <td>MX17004</td>\n",
       "      <td>2010</td>\n",
       "      <td>3</td>\n",
       "      <td>tmin</td>\n",
       "      <td>d8</td>\n",
       "      <td>NaN</td>\n",
       "      <td>8</td>\n",
       "      <td>2010-03-08</td>\n",
       "    </tr>\n",
       "    <tr>\n",
       "      <th>76</th>\n",
       "      <td>MX17004</td>\n",
       "      <td>2010</td>\n",
       "      <td>4</td>\n",
       "      <td>tmax</td>\n",
       "      <td>d8</td>\n",
       "      <td>NaN</td>\n",
       "      <td>8</td>\n",
       "      <td>2010-04-08</td>\n",
       "    </tr>\n",
       "    <tr>\n",
       "      <th>77</th>\n",
       "      <td>MX17004</td>\n",
       "      <td>2010</td>\n",
       "      <td>4</td>\n",
       "      <td>tmin</td>\n",
       "      <td>d8</td>\n",
       "      <td>NaN</td>\n",
       "      <td>8</td>\n",
       "      <td>2010-04-08</td>\n",
       "    </tr>\n",
       "    <tr>\n",
       "      <th>78</th>\n",
       "      <td>MX17004</td>\n",
       "      <td>2010</td>\n",
       "      <td>5</td>\n",
       "      <td>tmax</td>\n",
       "      <td>d8</td>\n",
       "      <td>NaN</td>\n",
       "      <td>8</td>\n",
       "      <td>2010-05-08</td>\n",
       "    </tr>\n",
       "    <tr>\n",
       "      <th>79</th>\n",
       "      <td>MX17004</td>\n",
       "      <td>2010</td>\n",
       "      <td>5</td>\n",
       "      <td>tmin</td>\n",
       "      <td>d8</td>\n",
       "      <td>NaN</td>\n",
       "      <td>8</td>\n",
       "      <td>2010-05-08</td>\n",
       "    </tr>\n",
       "  </tbody>\n",
       "</table>\n",
       "<p>80 rows × 8 columns</p>\n",
       "</div>"
      ],
      "text/plain": [
       "          id  year  month element dia  temperatura  dia_numero       data\n",
       "0    MX17004  2010      1    tmax  d1          NaN           1 2010-01-01\n",
       "1    MX17004  2010      1    tmin  d1          NaN           1 2010-01-01\n",
       "2   MX17004   2010      2    tmax  d1          NaN           1 2010-02-01\n",
       "3    MX17004  2010      2    tmin  d1          NaN           1 2010-02-01\n",
       "4    MX17004  2010      3    tmax  d1          NaN           1 2010-03-01\n",
       "..       ...   ...    ...     ...  ..          ...         ...        ...\n",
       "75   MX17004  2010      3    tmin  d8          NaN           8 2010-03-08\n",
       "76   MX17004  2010      4    tmax  d8          NaN           8 2010-04-08\n",
       "77   MX17004  2010      4    tmin  d8          NaN           8 2010-04-08\n",
       "78   MX17004  2010      5    tmax  d8          NaN           8 2010-05-08\n",
       "79   MX17004  2010      5    tmin  d8          NaN           8 2010-05-08\n",
       "\n",
       "[80 rows x 8 columns]"
      ]
     },
     "execution_count": 105,
     "metadata": {
      "tags": []
     },
     "output_type": "execute_result"
    }
   ],
   "source": [
    "df_weather_tidy"
   ]
  },
  {
   "cell_type": "code",
   "execution_count": null,
   "metadata": {
    "id": "ZGvBjYSkmth8"
   },
   "outputs": [],
   "source": [
    "# vamos dropar os NaN\n",
    "df_weather_tidy.dropna(inplace=True)"
   ]
  },
  {
   "cell_type": "markdown",
   "metadata": {
    "id": "T2H9VCAymtiF"
   },
   "source": [
    "# Joins"
   ]
  },
  {
   "cell_type": "markdown",
   "metadata": {
    "id": "PJ0S62pzmtiH"
   },
   "source": [
    "Joins são operações entre tabelas e servem para unir informações, combiando-as em uma única tabela. Os tipos de joins mais comuns são: left join, right join, inner join e outer join."
   ]
  },
  {
   "cell_type": "markdown",
   "metadata": {
    "id": "zKesXpjjmtiH"
   },
   "source": [
    "Para construir joins no pandas, temos duas formas: ```join``` e ```merge```. O método join funciona com indíces de data frame. O método merge, por sua vez, funciona com colunas, por isso iremos utilizá-lo."
   ]
  },
  {
   "cell_type": "markdown",
   "metadata": {
    "id": "dRf_MWwImtiI"
   },
   "source": [
    "Imagine que queiramos representar em tabelas os produtos de uma loja e as compras de clientes."
   ]
  },
  {
   "cell_type": "code",
   "execution_count": null,
   "metadata": {
    "id": "soDJzuDImtiI"
   },
   "outputs": [],
   "source": [
    "produtos=pd.DataFrame({\n",
    "    'Produto_ID':[101,102,103,104,105,106,107],\n",
    "    'nome_produto':['Relógio','Mochila','Tênis','Celular','Livro','Xampu','Computador'],\n",
    "    'categoria':['estilo','estilo','estilo','eletrônicos','estudos','beleza','eletrônicos'],\n",
    "    'preço':[299.0,1350.50,2999.0,14999.0,145.0,110.0,79999.0],\n",
    "    'cidade_seller':['Delhi','Mumbai','Chennai','Kolkata','Delhi','Chennai','Bengalore']\n",
    "})\n",
    "\n"
   ]
  },
  {
   "cell_type": "code",
   "execution_count": null,
   "metadata": {
    "id": "Ds2U-V0BmtiL"
   },
   "outputs": [],
   "source": [
    "clientes=pd.DataFrame({\n",
    "    'id':[1,2,3,4,5,6,7,8,9],\n",
    "    'name':['Ulrich','Jonas','Claudia','Adan','Eva','Helge','Elisabeth','Martha','Hannah'],\n",
    "    'age':[20,25,15,10,30,65,35,18,23],\n",
    "    'Produto_ID':[101,0,106,0,103,104,0,0,107],\n",
    "    'item':['Relógio','NA','Xampu','NA','Tênis','Celular','NA','NA','Computador'],\n",
    "    'cidade':['Mumbai','Delhi','Bangalore','Chennai','Chennai','Delhi','Kolkata','Delhi','Mumbai']\n",
    "})"
   ]
  },
  {
   "cell_type": "markdown",
   "metadata": {
    "id": "R6nIWYM-mtiO"
   },
   "source": [
    "## Inner Join"
   ]
  },
  {
   "cell_type": "markdown",
   "metadata": {
    "id": "voh3VaY4mtiP"
   },
   "source": [
    "Inner join é a operação que nos trará registros das duas tabelas que compartilham pelo menos uma informação em comum."
   ]
  },
  {
   "cell_type": "markdown",
   "metadata": {
    "id": "RDU-H2dDmtiQ"
   },
   "source": [
    "<img src=\"https://3.bp.blogspot.com/-MNEsPEb2v6I/UlATX9dcn4I/AAAAAAAAAH0/Jq2KuHPAJZM/s1600/INNER+JOIN.png\" height=500 widht=239>"
   ]
  },
  {
   "cell_type": "markdown",
   "metadata": {
    "id": "PXUa1AMjmtiR"
   },
   "source": [
    "sintaxe: ```df1.merge(df, left_on, right_on, how```"
   ]
  },
  {
   "cell_type": "markdown",
   "metadata": {
    "id": "enjAK5wWmtiR"
   },
   "source": [
    "```df1```: dataframe 1 (left)<br>\n",
    "```df2```: dataframe 2 (right)<br>\n",
    "```left_on```: Coluna para dar match no df1<br>\n",
    "```right_on```: Coluna para dar match no df2<br>\n",
    "```how```: inner, right, left, outer"
   ]
  },
  {
   "cell_type": "code",
   "execution_count": null,
   "metadata": {
    "id": "Y1eoXNiVmtiT",
    "outputId": "cf5fc3f7-a3d0-409b-9e57-9c33e2c44b38"
   },
   "outputs": [
    {
     "data": {
      "text/html": [
       "<div>\n",
       "<style scoped>\n",
       "    .dataframe tbody tr th:only-of-type {\n",
       "        vertical-align: middle;\n",
       "    }\n",
       "\n",
       "    .dataframe tbody tr th {\n",
       "        vertical-align: top;\n",
       "    }\n",
       "\n",
       "    .dataframe thead th {\n",
       "        text-align: right;\n",
       "    }\n",
       "</style>\n",
       "<table border=\"1\" class=\"dataframe\">\n",
       "  <thead>\n",
       "    <tr style=\"text-align: right;\">\n",
       "      <th></th>\n",
       "      <th>id</th>\n",
       "      <th>name</th>\n",
       "      <th>age</th>\n",
       "      <th>Produto_ID</th>\n",
       "      <th>item</th>\n",
       "      <th>cidade</th>\n",
       "      <th>nome_produto</th>\n",
       "      <th>categoria</th>\n",
       "      <th>preço</th>\n",
       "      <th>cidade_seller</th>\n",
       "    </tr>\n",
       "  </thead>\n",
       "  <tbody>\n",
       "    <tr>\n",
       "      <th>0</th>\n",
       "      <td>1</td>\n",
       "      <td>Ulrich</td>\n",
       "      <td>20</td>\n",
       "      <td>101</td>\n",
       "      <td>Relógio</td>\n",
       "      <td>Mumbai</td>\n",
       "      <td>Relógio</td>\n",
       "      <td>estilo</td>\n",
       "      <td>299.0</td>\n",
       "      <td>Delhi</td>\n",
       "    </tr>\n",
       "    <tr>\n",
       "      <th>1</th>\n",
       "      <td>3</td>\n",
       "      <td>Claudia</td>\n",
       "      <td>15</td>\n",
       "      <td>106</td>\n",
       "      <td>Xampu</td>\n",
       "      <td>Bangalore</td>\n",
       "      <td>Gasolina</td>\n",
       "      <td>combustíveis</td>\n",
       "      <td>110.0</td>\n",
       "      <td>Chennai</td>\n",
       "    </tr>\n",
       "    <tr>\n",
       "      <th>2</th>\n",
       "      <td>5</td>\n",
       "      <td>Eva</td>\n",
       "      <td>30</td>\n",
       "      <td>103</td>\n",
       "      <td>Tênis</td>\n",
       "      <td>Chennai</td>\n",
       "      <td>Tênis</td>\n",
       "      <td>estilo</td>\n",
       "      <td>2999.0</td>\n",
       "      <td>Chennai</td>\n",
       "    </tr>\n",
       "    <tr>\n",
       "      <th>3</th>\n",
       "      <td>6</td>\n",
       "      <td>Helge</td>\n",
       "      <td>65</td>\n",
       "      <td>104</td>\n",
       "      <td>Celular</td>\n",
       "      <td>Delhi</td>\n",
       "      <td>Celular</td>\n",
       "      <td>eletrônicos</td>\n",
       "      <td>14999.0</td>\n",
       "      <td>Kolkata</td>\n",
       "    </tr>\n",
       "    <tr>\n",
       "      <th>4</th>\n",
       "      <td>9</td>\n",
       "      <td>Hannah</td>\n",
       "      <td>23</td>\n",
       "      <td>107</td>\n",
       "      <td>Computador</td>\n",
       "      <td>Mumbai</td>\n",
       "      <td>Computador</td>\n",
       "      <td>eletrônicos</td>\n",
       "      <td>79999.0</td>\n",
       "      <td>Bengalore</td>\n",
       "    </tr>\n",
       "  </tbody>\n",
       "</table>\n",
       "</div>"
      ],
      "text/plain": [
       "   id     name  age  Produto_ID        item     cidade nome_produto  \\\n",
       "0   1   Ulrich   20         101     Relógio     Mumbai      Relógio   \n",
       "1   3  Claudia   15         106       Xampu  Bangalore     Gasolina   \n",
       "2   5      Eva   30         103       Tênis    Chennai        Tênis   \n",
       "3   6    Helge   65         104     Celular      Delhi      Celular   \n",
       "4   9   Hannah   23         107  Computador     Mumbai   Computador   \n",
       "\n",
       "      categoria    preço cidade_seller  \n",
       "0        estilo    299.0         Delhi  \n",
       "1  combustíveis    110.0       Chennai  \n",
       "2        estilo   2999.0       Chennai  \n",
       "3   eletrônicos  14999.0       Kolkata  \n",
       "4   eletrônicos  79999.0     Bengalore  "
      ]
     },
     "execution_count": 122,
     "metadata": {
      "tags": []
     },
     "output_type": "execute_result"
    }
   ],
   "source": [
    "clientes.merge(produtos, left_on='Produto_ID', right_on='Produto_ID', how='inner')"
   ]
  },
  {
   "cell_type": "code",
   "execution_count": null,
   "metadata": {
    "id": "YOiyicDfmtiW",
    "outputId": "146e4c2e-5d4b-450a-9412-90859d97d603"
   },
   "outputs": [
    {
     "data": {
      "text/html": [
       "<div>\n",
       "<style scoped>\n",
       "    .dataframe tbody tr th:only-of-type {\n",
       "        vertical-align: middle;\n",
       "    }\n",
       "\n",
       "    .dataframe tbody tr th {\n",
       "        vertical-align: top;\n",
       "    }\n",
       "\n",
       "    .dataframe thead th {\n",
       "        text-align: right;\n",
       "    }\n",
       "</style>\n",
       "<table border=\"1\" class=\"dataframe\">\n",
       "  <thead>\n",
       "    <tr style=\"text-align: right;\">\n",
       "      <th></th>\n",
       "      <th>id</th>\n",
       "      <th>name</th>\n",
       "      <th>age</th>\n",
       "      <th>Produto_ID</th>\n",
       "      <th>item</th>\n",
       "      <th>cidade</th>\n",
       "    </tr>\n",
       "  </thead>\n",
       "  <tbody>\n",
       "    <tr>\n",
       "      <th>0</th>\n",
       "      <td>1</td>\n",
       "      <td>Ulrich</td>\n",
       "      <td>20</td>\n",
       "      <td>101</td>\n",
       "      <td>Relógio</td>\n",
       "      <td>Mumbai</td>\n",
       "    </tr>\n",
       "    <tr>\n",
       "      <th>1</th>\n",
       "      <td>2</td>\n",
       "      <td>Jonas</td>\n",
       "      <td>25</td>\n",
       "      <td>0</td>\n",
       "      <td>NA</td>\n",
       "      <td>Delhi</td>\n",
       "    </tr>\n",
       "    <tr>\n",
       "      <th>2</th>\n",
       "      <td>3</td>\n",
       "      <td>Claudia</td>\n",
       "      <td>15</td>\n",
       "      <td>106</td>\n",
       "      <td>Xampu</td>\n",
       "      <td>Bangalore</td>\n",
       "    </tr>\n",
       "    <tr>\n",
       "      <th>3</th>\n",
       "      <td>4</td>\n",
       "      <td>Adan</td>\n",
       "      <td>10</td>\n",
       "      <td>0</td>\n",
       "      <td>NA</td>\n",
       "      <td>Chennai</td>\n",
       "    </tr>\n",
       "    <tr>\n",
       "      <th>4</th>\n",
       "      <td>5</td>\n",
       "      <td>Eva</td>\n",
       "      <td>30</td>\n",
       "      <td>103</td>\n",
       "      <td>Tênis</td>\n",
       "      <td>Chennai</td>\n",
       "    </tr>\n",
       "    <tr>\n",
       "      <th>5</th>\n",
       "      <td>6</td>\n",
       "      <td>Helge</td>\n",
       "      <td>65</td>\n",
       "      <td>104</td>\n",
       "      <td>Celular</td>\n",
       "      <td>Delhi</td>\n",
       "    </tr>\n",
       "    <tr>\n",
       "      <th>6</th>\n",
       "      <td>7</td>\n",
       "      <td>Elisabeth</td>\n",
       "      <td>35</td>\n",
       "      <td>0</td>\n",
       "      <td>NA</td>\n",
       "      <td>Kolkata</td>\n",
       "    </tr>\n",
       "    <tr>\n",
       "      <th>7</th>\n",
       "      <td>8</td>\n",
       "      <td>Martha</td>\n",
       "      <td>18</td>\n",
       "      <td>0</td>\n",
       "      <td>NA</td>\n",
       "      <td>Delhi</td>\n",
       "    </tr>\n",
       "    <tr>\n",
       "      <th>8</th>\n",
       "      <td>9</td>\n",
       "      <td>Hannah</td>\n",
       "      <td>23</td>\n",
       "      <td>107</td>\n",
       "      <td>Computador</td>\n",
       "      <td>Mumbai</td>\n",
       "    </tr>\n",
       "  </tbody>\n",
       "</table>\n",
       "</div>"
      ],
      "text/plain": [
       "   id       name  age  Produto_ID        item     cidade\n",
       "0   1     Ulrich   20         101     Relógio     Mumbai\n",
       "1   2      Jonas   25           0          NA      Delhi\n",
       "2   3    Claudia   15         106       Xampu  Bangalore\n",
       "3   4       Adan   10           0          NA    Chennai\n",
       "4   5        Eva   30         103       Tênis    Chennai\n",
       "5   6      Helge   65         104     Celular      Delhi\n",
       "6   7  Elisabeth   35           0          NA    Kolkata\n",
       "7   8     Martha   18           0          NA      Delhi\n",
       "8   9     Hannah   23         107  Computador     Mumbai"
      ]
     },
     "execution_count": 123,
     "metadata": {
      "tags": []
     },
     "output_type": "execute_result"
    }
   ],
   "source": [
    "clientes"
   ]
  },
  {
   "cell_type": "markdown",
   "metadata": {
    "id": "OKNM4m2UmtiY"
   },
   "source": [
    "## Left Join"
   ]
  },
  {
   "cell_type": "markdown",
   "metadata": {
    "id": "XVb0qkgzmtiY"
   },
   "source": [
    "Nem sempre há correspondência em todas as linhas das duas tabelas. Pode acontecer de um registro da tabela 1 não estar contido na tabela 2 e vice-versa. Mesmo assim, às vezes temos a necessidade de trazer todos os registros de uma tabela específica. No Left Join ele mantém os registros da tabela da esquerda."
   ]
  },
  {
   "cell_type": "markdown",
   "metadata": {
    "id": "bCP969sWmtiZ"
   },
   "source": [
    "<img src=\"https://upload.wikimedia.org/wikipedia/commons/f/f2/Left_JOIN.png\" height=500 width=500>"
   ]
  },
  {
   "cell_type": "code",
   "execution_count": null,
   "metadata": {
    "id": "Ekn3kHcnmtib",
    "outputId": "68e86f38-8c07-4da2-f6ca-2573875a79f7"
   },
   "outputs": [
    {
     "data": {
      "text/html": [
       "<div>\n",
       "<style scoped>\n",
       "    .dataframe tbody tr th:only-of-type {\n",
       "        vertical-align: middle;\n",
       "    }\n",
       "\n",
       "    .dataframe tbody tr th {\n",
       "        vertical-align: top;\n",
       "    }\n",
       "\n",
       "    .dataframe thead th {\n",
       "        text-align: right;\n",
       "    }\n",
       "</style>\n",
       "<table border=\"1\" class=\"dataframe\">\n",
       "  <thead>\n",
       "    <tr style=\"text-align: right;\">\n",
       "      <th></th>\n",
       "      <th>id</th>\n",
       "      <th>name</th>\n",
       "      <th>age</th>\n",
       "      <th>Produto_ID</th>\n",
       "      <th>item</th>\n",
       "      <th>cidade</th>\n",
       "      <th>nome_produto</th>\n",
       "      <th>categoria</th>\n",
       "      <th>preço</th>\n",
       "      <th>cidade_seller</th>\n",
       "    </tr>\n",
       "  </thead>\n",
       "  <tbody>\n",
       "    <tr>\n",
       "      <th>0</th>\n",
       "      <td>1</td>\n",
       "      <td>Ulrich</td>\n",
       "      <td>20</td>\n",
       "      <td>101</td>\n",
       "      <td>Relógio</td>\n",
       "      <td>Mumbai</td>\n",
       "      <td>Relógio</td>\n",
       "      <td>estilo</td>\n",
       "      <td>299.0</td>\n",
       "      <td>Delhi</td>\n",
       "    </tr>\n",
       "    <tr>\n",
       "      <th>1</th>\n",
       "      <td>2</td>\n",
       "      <td>Jonas</td>\n",
       "      <td>25</td>\n",
       "      <td>0</td>\n",
       "      <td>NA</td>\n",
       "      <td>Delhi</td>\n",
       "      <td>NaN</td>\n",
       "      <td>NaN</td>\n",
       "      <td>NaN</td>\n",
       "      <td>NaN</td>\n",
       "    </tr>\n",
       "    <tr>\n",
       "      <th>2</th>\n",
       "      <td>3</td>\n",
       "      <td>Claudia</td>\n",
       "      <td>15</td>\n",
       "      <td>106</td>\n",
       "      <td>Xampu</td>\n",
       "      <td>Bangalore</td>\n",
       "      <td>Gasolina</td>\n",
       "      <td>combustíveis</td>\n",
       "      <td>110.0</td>\n",
       "      <td>Chennai</td>\n",
       "    </tr>\n",
       "    <tr>\n",
       "      <th>3</th>\n",
       "      <td>4</td>\n",
       "      <td>Adan</td>\n",
       "      <td>10</td>\n",
       "      <td>0</td>\n",
       "      <td>NA</td>\n",
       "      <td>Chennai</td>\n",
       "      <td>NaN</td>\n",
       "      <td>NaN</td>\n",
       "      <td>NaN</td>\n",
       "      <td>NaN</td>\n",
       "    </tr>\n",
       "    <tr>\n",
       "      <th>4</th>\n",
       "      <td>5</td>\n",
       "      <td>Eva</td>\n",
       "      <td>30</td>\n",
       "      <td>103</td>\n",
       "      <td>Tênis</td>\n",
       "      <td>Chennai</td>\n",
       "      <td>Tênis</td>\n",
       "      <td>estilo</td>\n",
       "      <td>2999.0</td>\n",
       "      <td>Chennai</td>\n",
       "    </tr>\n",
       "    <tr>\n",
       "      <th>5</th>\n",
       "      <td>6</td>\n",
       "      <td>Helge</td>\n",
       "      <td>65</td>\n",
       "      <td>104</td>\n",
       "      <td>Celular</td>\n",
       "      <td>Delhi</td>\n",
       "      <td>Celular</td>\n",
       "      <td>eletrônicos</td>\n",
       "      <td>14999.0</td>\n",
       "      <td>Kolkata</td>\n",
       "    </tr>\n",
       "    <tr>\n",
       "      <th>6</th>\n",
       "      <td>7</td>\n",
       "      <td>Elisabeth</td>\n",
       "      <td>35</td>\n",
       "      <td>0</td>\n",
       "      <td>NA</td>\n",
       "      <td>Kolkata</td>\n",
       "      <td>NaN</td>\n",
       "      <td>NaN</td>\n",
       "      <td>NaN</td>\n",
       "      <td>NaN</td>\n",
       "    </tr>\n",
       "    <tr>\n",
       "      <th>7</th>\n",
       "      <td>8</td>\n",
       "      <td>Martha</td>\n",
       "      <td>18</td>\n",
       "      <td>0</td>\n",
       "      <td>NA</td>\n",
       "      <td>Delhi</td>\n",
       "      <td>NaN</td>\n",
       "      <td>NaN</td>\n",
       "      <td>NaN</td>\n",
       "      <td>NaN</td>\n",
       "    </tr>\n",
       "    <tr>\n",
       "      <th>8</th>\n",
       "      <td>9</td>\n",
       "      <td>Hannah</td>\n",
       "      <td>23</td>\n",
       "      <td>107</td>\n",
       "      <td>Computador</td>\n",
       "      <td>Mumbai</td>\n",
       "      <td>Computador</td>\n",
       "      <td>eletrônicos</td>\n",
       "      <td>79999.0</td>\n",
       "      <td>Bengalore</td>\n",
       "    </tr>\n",
       "  </tbody>\n",
       "</table>\n",
       "</div>"
      ],
      "text/plain": [
       "   id       name  age  Produto_ID        item     cidade nome_produto  \\\n",
       "0   1     Ulrich   20         101     Relógio     Mumbai      Relógio   \n",
       "1   2      Jonas   25           0          NA      Delhi          NaN   \n",
       "2   3    Claudia   15         106       Xampu  Bangalore     Gasolina   \n",
       "3   4       Adan   10           0          NA    Chennai          NaN   \n",
       "4   5        Eva   30         103       Tênis    Chennai        Tênis   \n",
       "5   6      Helge   65         104     Celular      Delhi      Celular   \n",
       "6   7  Elisabeth   35           0          NA    Kolkata          NaN   \n",
       "7   8     Martha   18           0          NA      Delhi          NaN   \n",
       "8   9     Hannah   23         107  Computador     Mumbai   Computador   \n",
       "\n",
       "      categoria    preço cidade_seller  \n",
       "0        estilo    299.0         Delhi  \n",
       "1           NaN      NaN           NaN  \n",
       "2  combustíveis    110.0       Chennai  \n",
       "3           NaN      NaN           NaN  \n",
       "4        estilo   2999.0       Chennai  \n",
       "5   eletrônicos  14999.0       Kolkata  \n",
       "6           NaN      NaN           NaN  \n",
       "7           NaN      NaN           NaN  \n",
       "8   eletrônicos  79999.0     Bengalore  "
      ]
     },
     "execution_count": 124,
     "metadata": {
      "tags": []
     },
     "output_type": "execute_result"
    }
   ],
   "source": [
    "clientes.merge(produtos, left_on='Produto_ID', right_on='Produto_ID', how='left')"
   ]
  },
  {
   "cell_type": "markdown",
   "metadata": {
    "id": "W7tWJRvHmtid"
   },
   "source": [
    "## Right Join"
   ]
  },
  {
   "cell_type": "markdown",
   "metadata": {
    "id": "8ivHy5irmtie"
   },
   "source": [
    "O Right Join é o contrário do Left Join. Ou seja, quando não houver correspondência, mesmo assim os registros da tabela da direita serão mantidos."
   ]
  },
  {
   "cell_type": "markdown",
   "metadata": {
    "id": "s3TJQseQmtie"
   },
   "source": [
    "<img src=\"https://javatutorial.net/wp-content/uploads/2018/02/sql-right-join.png\" height=300 width=530>"
   ]
  },
  {
   "cell_type": "code",
   "execution_count": null,
   "metadata": {
    "id": "AUzi8l-cmtif",
    "outputId": "94e57a78-c590-4600-c362-7d6cdf0a2862"
   },
   "outputs": [
    {
     "data": {
      "text/html": [
       "<div>\n",
       "<style scoped>\n",
       "    .dataframe tbody tr th:only-of-type {\n",
       "        vertical-align: middle;\n",
       "    }\n",
       "\n",
       "    .dataframe tbody tr th {\n",
       "        vertical-align: top;\n",
       "    }\n",
       "\n",
       "    .dataframe thead th {\n",
       "        text-align: right;\n",
       "    }\n",
       "</style>\n",
       "<table border=\"1\" class=\"dataframe\">\n",
       "  <thead>\n",
       "    <tr style=\"text-align: right;\">\n",
       "      <th></th>\n",
       "      <th>id</th>\n",
       "      <th>name</th>\n",
       "      <th>age</th>\n",
       "      <th>Produto_ID</th>\n",
       "      <th>item</th>\n",
       "      <th>cidade</th>\n",
       "      <th>nome_produto</th>\n",
       "      <th>categoria</th>\n",
       "      <th>preço</th>\n",
       "      <th>cidade_seller</th>\n",
       "    </tr>\n",
       "  </thead>\n",
       "  <tbody>\n",
       "    <tr>\n",
       "      <th>0</th>\n",
       "      <td>1.0</td>\n",
       "      <td>Ulrich</td>\n",
       "      <td>20.0</td>\n",
       "      <td>101</td>\n",
       "      <td>Relógio</td>\n",
       "      <td>Mumbai</td>\n",
       "      <td>Relógio</td>\n",
       "      <td>estilo</td>\n",
       "      <td>299.0</td>\n",
       "      <td>Delhi</td>\n",
       "    </tr>\n",
       "    <tr>\n",
       "      <th>1</th>\n",
       "      <td>3.0</td>\n",
       "      <td>Claudia</td>\n",
       "      <td>15.0</td>\n",
       "      <td>106</td>\n",
       "      <td>Xampu</td>\n",
       "      <td>Bangalore</td>\n",
       "      <td>Gasolina</td>\n",
       "      <td>combustíveis</td>\n",
       "      <td>110.0</td>\n",
       "      <td>Chennai</td>\n",
       "    </tr>\n",
       "    <tr>\n",
       "      <th>2</th>\n",
       "      <td>5.0</td>\n",
       "      <td>Eva</td>\n",
       "      <td>30.0</td>\n",
       "      <td>103</td>\n",
       "      <td>Tênis</td>\n",
       "      <td>Chennai</td>\n",
       "      <td>Tênis</td>\n",
       "      <td>estilo</td>\n",
       "      <td>2999.0</td>\n",
       "      <td>Chennai</td>\n",
       "    </tr>\n",
       "    <tr>\n",
       "      <th>3</th>\n",
       "      <td>6.0</td>\n",
       "      <td>Helge</td>\n",
       "      <td>65.0</td>\n",
       "      <td>104</td>\n",
       "      <td>Celular</td>\n",
       "      <td>Delhi</td>\n",
       "      <td>Celular</td>\n",
       "      <td>eletrônicos</td>\n",
       "      <td>14999.0</td>\n",
       "      <td>Kolkata</td>\n",
       "    </tr>\n",
       "    <tr>\n",
       "      <th>4</th>\n",
       "      <td>9.0</td>\n",
       "      <td>Hannah</td>\n",
       "      <td>23.0</td>\n",
       "      <td>107</td>\n",
       "      <td>Computador</td>\n",
       "      <td>Mumbai</td>\n",
       "      <td>Computador</td>\n",
       "      <td>eletrônicos</td>\n",
       "      <td>79999.0</td>\n",
       "      <td>Bengalore</td>\n",
       "    </tr>\n",
       "    <tr>\n",
       "      <th>5</th>\n",
       "      <td>NaN</td>\n",
       "      <td>NaN</td>\n",
       "      <td>NaN</td>\n",
       "      <td>102</td>\n",
       "      <td>NaN</td>\n",
       "      <td>NaN</td>\n",
       "      <td>Mochila</td>\n",
       "      <td>estilo</td>\n",
       "      <td>1350.5</td>\n",
       "      <td>Mumbai</td>\n",
       "    </tr>\n",
       "    <tr>\n",
       "      <th>6</th>\n",
       "      <td>NaN</td>\n",
       "      <td>NaN</td>\n",
       "      <td>NaN</td>\n",
       "      <td>105</td>\n",
       "      <td>NaN</td>\n",
       "      <td>NaN</td>\n",
       "      <td>Livro</td>\n",
       "      <td>estudos</td>\n",
       "      <td>145.0</td>\n",
       "      <td>Delhi</td>\n",
       "    </tr>\n",
       "  </tbody>\n",
       "</table>\n",
       "</div>"
      ],
      "text/plain": [
       "    id     name   age  Produto_ID        item     cidade nome_produto  \\\n",
       "0  1.0   Ulrich  20.0         101     Relógio     Mumbai      Relógio   \n",
       "1  3.0  Claudia  15.0         106       Xampu  Bangalore     Gasolina   \n",
       "2  5.0      Eva  30.0         103       Tênis    Chennai        Tênis   \n",
       "3  6.0    Helge  65.0         104     Celular      Delhi      Celular   \n",
       "4  9.0   Hannah  23.0         107  Computador     Mumbai   Computador   \n",
       "5  NaN      NaN   NaN         102         NaN        NaN      Mochila   \n",
       "6  NaN      NaN   NaN         105         NaN        NaN        Livro   \n",
       "\n",
       "      categoria    preço cidade_seller  \n",
       "0        estilo    299.0         Delhi  \n",
       "1  combustíveis    110.0       Chennai  \n",
       "2        estilo   2999.0       Chennai  \n",
       "3   eletrônicos  14999.0       Kolkata  \n",
       "4   eletrônicos  79999.0     Bengalore  \n",
       "5        estilo   1350.5        Mumbai  \n",
       "6       estudos    145.0         Delhi  "
      ]
     },
     "execution_count": 125,
     "metadata": {
      "tags": []
     },
     "output_type": "execute_result"
    }
   ],
   "source": [
    "clientes.merge(produtos, left_on='Produto_ID', right_on='Produto_ID', how='right')"
   ]
  },
  {
   "cell_type": "markdown",
   "metadata": {
    "id": "nNanU6remtig"
   },
   "source": [
    "## Outer Join"
   ]
  },
  {
   "cell_type": "markdown",
   "metadata": {
    "id": "6w719MYfmtih"
   },
   "source": [
    "Por fim, o outer join traz informações das duas tabelas, mesmo sem correspondência de um lado ou de outro."
   ]
  },
  {
   "cell_type": "code",
   "execution_count": null,
   "metadata": {
    "id": "mlo13KMHmtik",
    "outputId": "256acd61-553b-4978-fb53-2ac432332bc4"
   },
   "outputs": [
    {
     "data": {
      "text/html": [
       "<div>\n",
       "<style scoped>\n",
       "    .dataframe tbody tr th:only-of-type {\n",
       "        vertical-align: middle;\n",
       "    }\n",
       "\n",
       "    .dataframe tbody tr th {\n",
       "        vertical-align: top;\n",
       "    }\n",
       "\n",
       "    .dataframe thead th {\n",
       "        text-align: right;\n",
       "    }\n",
       "</style>\n",
       "<table border=\"1\" class=\"dataframe\">\n",
       "  <thead>\n",
       "    <tr style=\"text-align: right;\">\n",
       "      <th></th>\n",
       "      <th>id</th>\n",
       "      <th>name</th>\n",
       "      <th>age</th>\n",
       "      <th>Produto_ID</th>\n",
       "      <th>item</th>\n",
       "      <th>cidade</th>\n",
       "      <th>nome_produto</th>\n",
       "      <th>categoria</th>\n",
       "      <th>preço</th>\n",
       "      <th>cidade_seller</th>\n",
       "    </tr>\n",
       "  </thead>\n",
       "  <tbody>\n",
       "    <tr>\n",
       "      <th>0</th>\n",
       "      <td>1.0</td>\n",
       "      <td>Ulrich</td>\n",
       "      <td>20.0</td>\n",
       "      <td>101</td>\n",
       "      <td>Relógio</td>\n",
       "      <td>Mumbai</td>\n",
       "      <td>Relógio</td>\n",
       "      <td>estilo</td>\n",
       "      <td>299.0</td>\n",
       "      <td>Delhi</td>\n",
       "    </tr>\n",
       "    <tr>\n",
       "      <th>1</th>\n",
       "      <td>2.0</td>\n",
       "      <td>Jonas</td>\n",
       "      <td>25.0</td>\n",
       "      <td>0</td>\n",
       "      <td>NA</td>\n",
       "      <td>Delhi</td>\n",
       "      <td>NaN</td>\n",
       "      <td>NaN</td>\n",
       "      <td>NaN</td>\n",
       "      <td>NaN</td>\n",
       "    </tr>\n",
       "    <tr>\n",
       "      <th>2</th>\n",
       "      <td>4.0</td>\n",
       "      <td>Adan</td>\n",
       "      <td>10.0</td>\n",
       "      <td>0</td>\n",
       "      <td>NA</td>\n",
       "      <td>Chennai</td>\n",
       "      <td>NaN</td>\n",
       "      <td>NaN</td>\n",
       "      <td>NaN</td>\n",
       "      <td>NaN</td>\n",
       "    </tr>\n",
       "    <tr>\n",
       "      <th>3</th>\n",
       "      <td>7.0</td>\n",
       "      <td>Elisabeth</td>\n",
       "      <td>35.0</td>\n",
       "      <td>0</td>\n",
       "      <td>NA</td>\n",
       "      <td>Kolkata</td>\n",
       "      <td>NaN</td>\n",
       "      <td>NaN</td>\n",
       "      <td>NaN</td>\n",
       "      <td>NaN</td>\n",
       "    </tr>\n",
       "    <tr>\n",
       "      <th>4</th>\n",
       "      <td>8.0</td>\n",
       "      <td>Martha</td>\n",
       "      <td>18.0</td>\n",
       "      <td>0</td>\n",
       "      <td>NA</td>\n",
       "      <td>Delhi</td>\n",
       "      <td>NaN</td>\n",
       "      <td>NaN</td>\n",
       "      <td>NaN</td>\n",
       "      <td>NaN</td>\n",
       "    </tr>\n",
       "    <tr>\n",
       "      <th>5</th>\n",
       "      <td>3.0</td>\n",
       "      <td>Claudia</td>\n",
       "      <td>15.0</td>\n",
       "      <td>106</td>\n",
       "      <td>Xampu</td>\n",
       "      <td>Bangalore</td>\n",
       "      <td>Gasolina</td>\n",
       "      <td>combustíveis</td>\n",
       "      <td>110.0</td>\n",
       "      <td>Chennai</td>\n",
       "    </tr>\n",
       "    <tr>\n",
       "      <th>6</th>\n",
       "      <td>5.0</td>\n",
       "      <td>Eva</td>\n",
       "      <td>30.0</td>\n",
       "      <td>103</td>\n",
       "      <td>Tênis</td>\n",
       "      <td>Chennai</td>\n",
       "      <td>Tênis</td>\n",
       "      <td>estilo</td>\n",
       "      <td>2999.0</td>\n",
       "      <td>Chennai</td>\n",
       "    </tr>\n",
       "    <tr>\n",
       "      <th>7</th>\n",
       "      <td>6.0</td>\n",
       "      <td>Helge</td>\n",
       "      <td>65.0</td>\n",
       "      <td>104</td>\n",
       "      <td>Celular</td>\n",
       "      <td>Delhi</td>\n",
       "      <td>Celular</td>\n",
       "      <td>eletrônicos</td>\n",
       "      <td>14999.0</td>\n",
       "      <td>Kolkata</td>\n",
       "    </tr>\n",
       "    <tr>\n",
       "      <th>8</th>\n",
       "      <td>9.0</td>\n",
       "      <td>Hannah</td>\n",
       "      <td>23.0</td>\n",
       "      <td>107</td>\n",
       "      <td>Computador</td>\n",
       "      <td>Mumbai</td>\n",
       "      <td>Computador</td>\n",
       "      <td>eletrônicos</td>\n",
       "      <td>79999.0</td>\n",
       "      <td>Bengalore</td>\n",
       "    </tr>\n",
       "    <tr>\n",
       "      <th>9</th>\n",
       "      <td>NaN</td>\n",
       "      <td>NaN</td>\n",
       "      <td>NaN</td>\n",
       "      <td>102</td>\n",
       "      <td>NaN</td>\n",
       "      <td>NaN</td>\n",
       "      <td>Mochila</td>\n",
       "      <td>estilo</td>\n",
       "      <td>1350.5</td>\n",
       "      <td>Mumbai</td>\n",
       "    </tr>\n",
       "    <tr>\n",
       "      <th>10</th>\n",
       "      <td>NaN</td>\n",
       "      <td>NaN</td>\n",
       "      <td>NaN</td>\n",
       "      <td>105</td>\n",
       "      <td>NaN</td>\n",
       "      <td>NaN</td>\n",
       "      <td>Livro</td>\n",
       "      <td>estudos</td>\n",
       "      <td>145.0</td>\n",
       "      <td>Delhi</td>\n",
       "    </tr>\n",
       "  </tbody>\n",
       "</table>\n",
       "</div>"
      ],
      "text/plain": [
       "     id       name   age  Produto_ID        item     cidade nome_produto  \\\n",
       "0   1.0     Ulrich  20.0         101     Relógio     Mumbai      Relógio   \n",
       "1   2.0      Jonas  25.0           0          NA      Delhi          NaN   \n",
       "2   4.0       Adan  10.0           0          NA    Chennai          NaN   \n",
       "3   7.0  Elisabeth  35.0           0          NA    Kolkata          NaN   \n",
       "4   8.0     Martha  18.0           0          NA      Delhi          NaN   \n",
       "5   3.0    Claudia  15.0         106       Xampu  Bangalore     Gasolina   \n",
       "6   5.0        Eva  30.0         103       Tênis    Chennai        Tênis   \n",
       "7   6.0      Helge  65.0         104     Celular      Delhi      Celular   \n",
       "8   9.0     Hannah  23.0         107  Computador     Mumbai   Computador   \n",
       "9   NaN        NaN   NaN         102         NaN        NaN      Mochila   \n",
       "10  NaN        NaN   NaN         105         NaN        NaN        Livro   \n",
       "\n",
       "       categoria    preço cidade_seller  \n",
       "0         estilo    299.0         Delhi  \n",
       "1            NaN      NaN           NaN  \n",
       "2            NaN      NaN           NaN  \n",
       "3            NaN      NaN           NaN  \n",
       "4            NaN      NaN           NaN  \n",
       "5   combustíveis    110.0       Chennai  \n",
       "6         estilo   2999.0       Chennai  \n",
       "7    eletrônicos  14999.0       Kolkata  \n",
       "8    eletrônicos  79999.0     Bengalore  \n",
       "9         estilo   1350.5        Mumbai  \n",
       "10       estudos    145.0         Delhi  "
      ]
     },
     "execution_count": 126,
     "metadata": {
      "tags": []
     },
     "output_type": "execute_result"
    }
   ],
   "source": [
    "clientes.merge(produtos, left_on='Produto_ID', right_on='Produto_ID', how='outer')"
   ]
  },
  {
   "cell_type": "code",
   "execution_count": null,
   "metadata": {
    "id": "XsGNUWTvmtin"
   },
   "outputs": [],
   "source": [
    "# Faz merge apenas com a coluna preço do df produto\n",
    "clientes.merge(produtos.loc[:, ['Produto_ID', 'preço']], left_on='Produto_ID', right_on='Produto_ID', how='outer')"
   ]
  }
 ],
 "metadata": {
  "colab": {
   "collapsed_sections": [
    "8-bVwIR4mteH",
    "GEvb-nAOmteK",
    "7bhX0AJLmte5",
    "rEFxlLSdmtfC",
    "w4k80NJ6mtgT",
    "W7tWJRvHmtid"
   ],
   "name": "DSTN07 -  Data Wrangling - Parte II -  Material Professor.ipynb",
   "provenance": []
  },
  "kernelspec": {
   "display_name": "Python 3 (ipykernel)",
   "language": "python",
   "name": "python3"
  },
  "language_info": {
   "codemirror_mode": {
    "name": "ipython",
    "version": 3
   },
   "file_extension": ".py",
   "mimetype": "text/x-python",
   "name": "python",
   "nbconvert_exporter": "python",
   "pygments_lexer": "ipython3",
   "version": "3.9.12"
  },
  "toc": {
   "base_numbering": 1,
   "nav_menu": {},
   "number_sections": true,
   "sideBar": true,
   "skip_h1_title": false,
   "title_cell": "Table of Contents",
   "title_sidebar": "Contents",
   "toc_cell": false,
   "toc_position": {
    "height": "calc(100% - 180px)",
    "left": "10px",
    "top": "150px",
    "width": "252px"
   },
   "toc_section_display": true,
   "toc_window_display": true
  }
 },
 "nbformat": 4,
 "nbformat_minor": 1
}
