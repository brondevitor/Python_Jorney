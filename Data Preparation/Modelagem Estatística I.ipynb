{
 "cells": [
  {
   "cell_type": "code",
   "execution_count": 1,
   "metadata": {
    "id": "mWD4LV09RzmI"
   },
   "outputs": [],
   "source": [
    "import pandas as pd\n",
    "import numpy as np\n",
    "import statsmodels.api as sm\n",
    "from sklearn.model_selection import train_test_split"
   ]
  },
  {
   "cell_type": "markdown",
   "metadata": {
    "id": "r4QdM0ciRzmI"
   },
   "source": [
    "# Dummy Variables"
   ]
  },
  {
   "cell_type": "markdown",
   "metadata": {
    "id": "XC3f5DruRzmI"
   },
   "source": [
    "Vamos iniciar criando variáveis dummies para nosso dataset."
   ]
  },
  {
   "cell_type": "markdown",
   "metadata": {
    "id": "GYlvIk2ERzmI"
   },
   "source": [
    "Lendo os dados"
   ]
  },
  {
   "cell_type": "code",
   "execution_count": 2,
   "metadata": {},
   "outputs": [],
   "source": [
    "df_diamonds = pd.read_csv('diamonds.csv')"
   ]
  },
  {
   "cell_type": "markdown",
   "metadata": {
    "id": "41GUpJAnRzmI"
   },
   "source": [
    "Descrição das variáveis"
   ]
  },
  {
   "cell_type": "markdown",
   "metadata": {
    "id": "g4mLlGgxRzmI"
   },
   "source": [
    "- price price in US dollars (\\$326--\\$18,823)\n",
    "\n",
    "- carat weight of the diamond (0.2--5.01)\n",
    "\n",
    "- cut quality of the cut (Fair, Good, Very Good, Premium, Ideal)\n",
    "\n",
    "- color diamond colour, from J (worst) to D (best)\n",
    "\n",
    "- clarity a measurement of how clear the diamond is (I1 (worst), SI2, SI1, VS2, VS1, VVS2, VVS1, IF (best))\n",
    "\n",
    "- x length in mm (0--10.74)\n",
    "\n",
    "- y width in mm (0--58.9)\n",
    "\n",
    "- z depth in mm (0--31.8)\n",
    "\n",
    "- depth total depth percentage = z / mean(x, y) = 2 * z / (x + y) (43--79)\n",
    "\n",
    "- table width of top of diamond relative to widest point (43--95)"
   ]
  },
  {
   "cell_type": "markdown",
   "metadata": {
    "id": "bwJBEbUjRzmI"
   },
   "source": [
    "Criando dummies para a variável cut"
   ]
  },
  {
   "cell_type": "markdown",
   "metadata": {
    "id": "cxgtrGuxRzmI"
   },
   "source": [
    "Precisamos passar a coluna para ser aplicada, ou então podemos passar todo o dataframe e a função identifica as variaveis categóricas e aplica para todas."
   ]
  },
  {
   "cell_type": "code",
   "execution_count": 3,
   "metadata": {},
   "outputs": [],
   "source": [
    "df_diamonds_subset = df_diamonds.loc[:,['price', 'carat', 'cut']]"
   ]
  },
  {
   "cell_type": "code",
   "execution_count": 4,
   "metadata": {},
   "outputs": [],
   "source": [
    "df_diamonds_subset = pd.get_dummies(df_diamonds_subset, drop_first=True)"
   ]
  },
  {
   "cell_type": "code",
   "execution_count": 5,
   "metadata": {},
   "outputs": [
    {
     "data": {
      "text/html": [
       "<div>\n",
       "<style scoped>\n",
       "    .dataframe tbody tr th:only-of-type {\n",
       "        vertical-align: middle;\n",
       "    }\n",
       "\n",
       "    .dataframe tbody tr th {\n",
       "        vertical-align: top;\n",
       "    }\n",
       "\n",
       "    .dataframe thead th {\n",
       "        text-align: right;\n",
       "    }\n",
       "</style>\n",
       "<table border=\"1\" class=\"dataframe\">\n",
       "  <thead>\n",
       "    <tr style=\"text-align: right;\">\n",
       "      <th></th>\n",
       "      <th>price</th>\n",
       "      <th>carat</th>\n",
       "      <th>cut_Good</th>\n",
       "      <th>cut_Ideal</th>\n",
       "      <th>cut_Premium</th>\n",
       "      <th>cut_Very Good</th>\n",
       "    </tr>\n",
       "  </thead>\n",
       "  <tbody>\n",
       "    <tr>\n",
       "      <th>0</th>\n",
       "      <td>326</td>\n",
       "      <td>0.23</td>\n",
       "      <td>0</td>\n",
       "      <td>1</td>\n",
       "      <td>0</td>\n",
       "      <td>0</td>\n",
       "    </tr>\n",
       "    <tr>\n",
       "      <th>1</th>\n",
       "      <td>326</td>\n",
       "      <td>0.21</td>\n",
       "      <td>0</td>\n",
       "      <td>0</td>\n",
       "      <td>1</td>\n",
       "      <td>0</td>\n",
       "    </tr>\n",
       "    <tr>\n",
       "      <th>2</th>\n",
       "      <td>327</td>\n",
       "      <td>0.23</td>\n",
       "      <td>1</td>\n",
       "      <td>0</td>\n",
       "      <td>0</td>\n",
       "      <td>0</td>\n",
       "    </tr>\n",
       "    <tr>\n",
       "      <th>3</th>\n",
       "      <td>334</td>\n",
       "      <td>0.29</td>\n",
       "      <td>0</td>\n",
       "      <td>0</td>\n",
       "      <td>1</td>\n",
       "      <td>0</td>\n",
       "    </tr>\n",
       "    <tr>\n",
       "      <th>4</th>\n",
       "      <td>335</td>\n",
       "      <td>0.31</td>\n",
       "      <td>1</td>\n",
       "      <td>0</td>\n",
       "      <td>0</td>\n",
       "      <td>0</td>\n",
       "    </tr>\n",
       "    <tr>\n",
       "      <th>...</th>\n",
       "      <td>...</td>\n",
       "      <td>...</td>\n",
       "      <td>...</td>\n",
       "      <td>...</td>\n",
       "      <td>...</td>\n",
       "      <td>...</td>\n",
       "    </tr>\n",
       "    <tr>\n",
       "      <th>53935</th>\n",
       "      <td>2757</td>\n",
       "      <td>0.72</td>\n",
       "      <td>0</td>\n",
       "      <td>1</td>\n",
       "      <td>0</td>\n",
       "      <td>0</td>\n",
       "    </tr>\n",
       "    <tr>\n",
       "      <th>53936</th>\n",
       "      <td>2757</td>\n",
       "      <td>0.72</td>\n",
       "      <td>1</td>\n",
       "      <td>0</td>\n",
       "      <td>0</td>\n",
       "      <td>0</td>\n",
       "    </tr>\n",
       "    <tr>\n",
       "      <th>53937</th>\n",
       "      <td>2757</td>\n",
       "      <td>0.70</td>\n",
       "      <td>0</td>\n",
       "      <td>0</td>\n",
       "      <td>0</td>\n",
       "      <td>1</td>\n",
       "    </tr>\n",
       "    <tr>\n",
       "      <th>53938</th>\n",
       "      <td>2757</td>\n",
       "      <td>0.86</td>\n",
       "      <td>0</td>\n",
       "      <td>0</td>\n",
       "      <td>1</td>\n",
       "      <td>0</td>\n",
       "    </tr>\n",
       "    <tr>\n",
       "      <th>53939</th>\n",
       "      <td>2757</td>\n",
       "      <td>0.75</td>\n",
       "      <td>0</td>\n",
       "      <td>1</td>\n",
       "      <td>0</td>\n",
       "      <td>0</td>\n",
       "    </tr>\n",
       "  </tbody>\n",
       "</table>\n",
       "<p>53940 rows × 6 columns</p>\n",
       "</div>"
      ],
      "text/plain": [
       "       price  carat  cut_Good  cut_Ideal  cut_Premium  cut_Very Good\n",
       "0        326   0.23         0          1            0              0\n",
       "1        326   0.21         0          0            1              0\n",
       "2        327   0.23         1          0            0              0\n",
       "3        334   0.29         0          0            1              0\n",
       "4        335   0.31         1          0            0              0\n",
       "...      ...    ...       ...        ...          ...            ...\n",
       "53935   2757   0.72         0          1            0              0\n",
       "53936   2757   0.72         1          0            0              0\n",
       "53937   2757   0.70         0          0            0              1\n",
       "53938   2757   0.86         0          0            1              0\n",
       "53939   2757   0.75         0          1            0              0\n",
       "\n",
       "[53940 rows x 6 columns]"
      ]
     },
     "execution_count": 5,
     "metadata": {},
     "output_type": "execute_result"
    }
   ],
   "source": [
    "df_diamonds_subset"
   ]
  },
  {
   "cell_type": "markdown",
   "metadata": {
    "id": "y6xfnCvbRzmJ"
   },
   "source": [
    "Ajustando o modelo"
   ]
  },
  {
   "cell_type": "markdown",
   "metadata": {
    "id": "ov69uFcoRzmJ"
   },
   "source": [
    "X será uma series contendo as variáveis preditoras"
   ]
  },
  {
   "cell_type": "markdown",
   "metadata": {
    "id": "ueQrZXYLRzmJ"
   },
   "source": [
    "Y será uma series com os valores de price, nossa variável resposta"
   ]
  },
  {
   "cell_type": "code",
   "execution_count": 8,
   "metadata": {},
   "outputs": [],
   "source": [
    "X = df_diamonds_subset.drop(['price'], axis = 1)\n",
    "Y = df_diamonds_subset['price']"
   ]
  },
  {
   "cell_type": "markdown",
   "metadata": {
    "id": "VEuOCAr4RzmJ"
   },
   "source": [
    "Aqui, precisamos garantir que exista intercepto"
   ]
  },
  {
   "cell_type": "code",
   "execution_count": 9,
   "metadata": {},
   "outputs": [],
   "source": [
    "X = sm.add_constant(X)"
   ]
  },
  {
   "cell_type": "markdown",
   "metadata": {
    "id": "INAZYLxhRzmJ"
   },
   "source": [
    "Inicializando o modelo e startando o processo de busca dos parâmetros Betas"
   ]
  },
  {
   "cell_type": "code",
   "execution_count": 10,
   "metadata": {},
   "outputs": [],
   "source": [
    "modelo_linear_multiplo = sm.OLS(Y, X)\n",
    "modelo_linear_multiplo = modelo_linear_multiplo.fit()"
   ]
  },
  {
   "cell_type": "markdown",
   "metadata": {
    "id": "WfCk18RtRzmJ"
   },
   "source": [
    "Sumarizando os resultados na tabela"
   ]
  },
  {
   "cell_type": "code",
   "execution_count": 11,
   "metadata": {},
   "outputs": [
    {
     "name": "stdout",
     "output_type": "stream",
     "text": [
      "                            OLS Regression Results                            \n",
      "==============================================================================\n",
      "Dep. Variable:                  price   R-squared:                       0.856\n",
      "Model:                            OLS   Adj. R-squared:                  0.856\n",
      "Method:                 Least Squares   F-statistic:                 6.437e+04\n",
      "Date:                Tue, 10 Jan 2023   Prob (F-statistic):               0.00\n",
      "Time:                        19:23:38   Log-Likelihood:            -4.7142e+05\n",
      "No. Observations:               53940   AIC:                         9.429e+05\n",
      "Df Residuals:                   53934   BIC:                         9.429e+05\n",
      "Df Model:                           5                                         \n",
      "Covariance Type:            nonrobust                                         \n",
      "=================================================================================\n",
      "                    coef    std err          t      P>|t|      [0.025      0.975]\n",
      "---------------------------------------------------------------------------------\n",
      "const         -3875.4697     40.408    -95.908      0.000   -3954.670   -3796.269\n",
      "carat          7871.0821     13.980    563.040      0.000    7843.682    7898.482\n",
      "cut_Good       1120.3319     43.499     25.755      0.000    1035.073    1205.591\n",
      "cut_Ideal      1800.9240     39.344     45.773      0.000    1723.809    1878.039\n",
      "cut_Premium    1439.0771     39.865     36.098      0.000    1360.941    1517.214\n",
      "cut_Very Good  1510.1354     40.240     37.528      0.000    1431.265    1589.006\n",
      "==============================================================================\n",
      "Omnibus:                    14616.138   Durbin-Watson:                   1.027\n",
      "Prob(Omnibus):                  0.000   Jarque-Bera (JB):           150962.278\n",
      "Skew:                           1.007   Prob(JB):                         0.00\n",
      "Kurtosis:                      10.944   Cond. No.                         18.7\n",
      "==============================================================================\n",
      "\n",
      "Notes:\n",
      "[1] Standard Errors assume that the covariance matrix of the errors is correctly specified.\n"
     ]
    }
   ],
   "source": [
    "print(modelo_linear_multiplo.summary())"
   ]
  },
  {
   "cell_type": "markdown",
   "metadata": {
    "id": "qdIwNIlSRzmJ"
   },
   "source": [
    "Note que o modelo consegue entender que o corte Ideal é o que mais aumenta o preço"
   ]
  },
  {
   "cell_type": "markdown",
   "metadata": {
    "id": "wvjUQ35PRzmJ"
   },
   "source": [
    "# Divisão em Treino e Teste"
   ]
  },
  {
   "cell_type": "markdown",
   "metadata": {
    "id": "QYa0Cg-WRzmJ"
   },
   "source": [
    "Para dividir nossos dados em Treino e Teste, usaremos a função train_test_split do sklearn."
   ]
  },
  {
   "cell_type": "markdown",
   "metadata": {
    "id": "USSJUOWJRzmJ"
   },
   "source": [
    "Passamos o parâmetro random_state = 123 para reprodutibilidade e o parâmetro train_size para indicar quantos % da base serão destinados para treinamento."
   ]
  },
  {
   "cell_type": "code",
   "execution_count": 12,
   "metadata": {},
   "outputs": [],
   "source": [
    "X_train , X_test , y_train , y_test = train_test_split(X,Y, train_size=0.7 , random_state = 123)"
   ]
  },
  {
   "cell_type": "code",
   "execution_count": 14,
   "metadata": {},
   "outputs": [
    {
     "data": {
      "text/html": [
       "<div>\n",
       "<style scoped>\n",
       "    .dataframe tbody tr th:only-of-type {\n",
       "        vertical-align: middle;\n",
       "    }\n",
       "\n",
       "    .dataframe tbody tr th {\n",
       "        vertical-align: top;\n",
       "    }\n",
       "\n",
       "    .dataframe thead th {\n",
       "        text-align: right;\n",
       "    }\n",
       "</style>\n",
       "<table border=\"1\" class=\"dataframe\">\n",
       "  <thead>\n",
       "    <tr style=\"text-align: right;\">\n",
       "      <th></th>\n",
       "      <th>const</th>\n",
       "      <th>carat</th>\n",
       "      <th>cut_Good</th>\n",
       "      <th>cut_Ideal</th>\n",
       "      <th>cut_Premium</th>\n",
       "      <th>cut_Very Good</th>\n",
       "    </tr>\n",
       "  </thead>\n",
       "  <tbody>\n",
       "    <tr>\n",
       "      <th>13934</th>\n",
       "      <td>1.0</td>\n",
       "      <td>1.06</td>\n",
       "      <td>0</td>\n",
       "      <td>1</td>\n",
       "      <td>0</td>\n",
       "      <td>0</td>\n",
       "    </tr>\n",
       "    <tr>\n",
       "      <th>38054</th>\n",
       "      <td>1.0</td>\n",
       "      <td>0.40</td>\n",
       "      <td>0</td>\n",
       "      <td>1</td>\n",
       "      <td>0</td>\n",
       "      <td>0</td>\n",
       "    </tr>\n",
       "    <tr>\n",
       "      <th>34090</th>\n",
       "      <td>1.0</td>\n",
       "      <td>0.41</td>\n",
       "      <td>0</td>\n",
       "      <td>0</td>\n",
       "      <td>1</td>\n",
       "      <td>0</td>\n",
       "    </tr>\n",
       "    <tr>\n",
       "      <th>31919</th>\n",
       "      <td>1.0</td>\n",
       "      <td>0.30</td>\n",
       "      <td>0</td>\n",
       "      <td>1</td>\n",
       "      <td>0</td>\n",
       "      <td>0</td>\n",
       "    </tr>\n",
       "    <tr>\n",
       "      <th>17402</th>\n",
       "      <td>1.0</td>\n",
       "      <td>1.09</td>\n",
       "      <td>0</td>\n",
       "      <td>1</td>\n",
       "      <td>0</td>\n",
       "      <td>0</td>\n",
       "    </tr>\n",
       "  </tbody>\n",
       "</table>\n",
       "</div>"
      ],
      "text/plain": [
       "       const  carat  cut_Good  cut_Ideal  cut_Premium  cut_Very Good\n",
       "13934    1.0   1.06         0          1            0              0\n",
       "38054    1.0   0.40         0          1            0              0\n",
       "34090    1.0   0.41         0          0            1              0\n",
       "31919    1.0   0.30         0          1            0              0\n",
       "17402    1.0   1.09         0          1            0              0"
      ]
     },
     "execution_count": 14,
     "metadata": {},
     "output_type": "execute_result"
    }
   ],
   "source": [
    "X_train.head()"
   ]
  },
  {
   "cell_type": "markdown",
   "metadata": {
    "id": "A9eLIj4sRzmJ"
   },
   "source": [
    "Veja que ele embaralha o dataset antes de fazer a divisão dos dados!"
   ]
  }
 ],
 "metadata": {
  "colab": {
   "collapsed_sections": [],
   "name": "DSTN07 -  Modelagem Estatística I (conceitos) - Material Aluno.ipynb",
   "provenance": []
  },
  "kernelspec": {
   "display_name": "Python 3 (ipykernel)",
   "language": "python",
   "name": "python3"
  },
  "language_info": {
   "codemirror_mode": {
    "name": "ipython",
    "version": 3
   },
   "file_extension": ".py",
   "mimetype": "text/x-python",
   "name": "python",
   "nbconvert_exporter": "python",
   "pygments_lexer": "ipython3",
   "version": "3.9.12"
  },
  "toc": {
   "base_numbering": 1,
   "nav_menu": {},
   "number_sections": true,
   "sideBar": true,
   "skip_h1_title": false,
   "title_cell": "Table of Contents",
   "title_sidebar": "Contents",
   "toc_cell": false,
   "toc_position": {
    "height": "calc(100% - 180px)",
    "left": "10px",
    "top": "150px",
    "width": "165px"
   },
   "toc_section_display": true,
   "toc_window_display": true
  },
  "vscode": {
   "interpreter": {
    "hash": "1b6d5490dc853743c69acbca43441b5ce9a7e47f1b2ebca3ad67ba05fadf5421"
   }
  }
 },
 "nbformat": 4,
 "nbformat_minor": 1
}
