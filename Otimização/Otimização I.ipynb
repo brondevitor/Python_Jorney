{
 "cells": [
  {
   "cell_type": "markdown",
   "metadata": {},
   "source": [
    "# Introdução"
   ]
  },
  {
   "cell_type": "markdown",
   "metadata": {},
   "source": [
    "Agora é com você!. Use o que desenvolvemos na prática guiada para aplicar o grid search em novos dados.\n"
   ]
  },
  {
   "cell_type": "markdown",
   "metadata": {},
   "source": [
    "Diretrizes:<br>\n",
    "    1) Use o arquivo de diabetes.csv para criar um modelo KNN<br>\n",
    "    2) Observe a documentação da class KNeighborsClassifier e veja os hiperparâmetros <br>disponíveis e quais seus possíveis valores. Escolha 3 hiperparâmetros para otimizar.<br>\n",
    "    3) Crie um Pipeline que combina ```MinMaxScaler``` e o ```KNeighborsClassifier```<br> \n",
    "    4) Crie uma grid para guardar os ranges de valores que você criou  para cada hiperparâmetro <br>\n",
    "    5) Defina uma validação <br>\n",
    "    6) Aplique o ```GridSearchCV```<br>\n",
    "    7) Avalie a performance no treino e no teste.<br>"
   ]
  },
  {
   "cell_type": "markdown",
   "metadata": {},
   "source": [
    "# Setup"
   ]
  },
  {
   "cell_type": "code",
   "execution_count": null,
   "metadata": {},
   "outputs": [],
   "source": [
    "# Leia seus dados e carregue todas as classes e funções que vai utilizar "
   ]
  },
  {
   "cell_type": "markdown",
   "metadata": {},
   "source": [
    "# Pipeline e Grid"
   ]
  },
  {
   "cell_type": "code",
   "execution_count": 1,
   "metadata": {},
   "outputs": [],
   "source": [
    "# Crie o pipeline aqui"
   ]
  },
  {
   "cell_type": "code",
   "execution_count": 3,
   "metadata": {},
   "outputs": [],
   "source": [
    "# Defina a grid de hiperparâmetros. \n",
    "# Não esqueça de adicionar \"prefixo__\", \n",
    "# sendo o prefixo o nome que você dá ao step que contém o modelo dentro do pipeline."
   ]
  },
  {
   "cell_type": "markdown",
   "metadata": {},
   "source": [
    "# Grid Search"
   ]
  },
  {
   "cell_type": "code",
   "execution_count": null,
   "metadata": {},
   "outputs": [],
   "source": [
    "# Defina o método de validação,\n",
    "# defina a classe do Grid Search e inicialize a busca"
   ]
  },
  {
   "cell_type": "markdown",
   "metadata": {},
   "source": [
    "# Performance"
   ]
  },
  {
   "cell_type": "code",
   "execution_count": null,
   "metadata": {},
   "outputs": [],
   "source": [
    "# Avalie a performance no treino e no teste"
   ]
  },
  {
   "cell_type": "markdown",
   "metadata": {},
   "source": [
    "# Avançado"
   ]
  },
  {
   "cell_type": "markdown",
   "metadata": {},
   "source": [
    "Proponha alguma alteração no modelo, dada a sua curva de validação."
   ]
  }
 ],
 "metadata": {
  "colab": {
   "name": "GridSearch.ipynb",
   "provenance": []
  },
  "kernelspec": {
   "display_name": "Python 3 (ipykernel)",
   "language": "python",
   "name": "python3"
  },
  "language_info": {
   "codemirror_mode": {
    "name": "ipython",
    "version": 3
   },
   "file_extension": ".py",
   "mimetype": "text/x-python",
   "name": "python",
   "nbconvert_exporter": "python",
   "pygments_lexer": "ipython3",
   "version": "3.9.12"
  },
  "toc": {
   "base_numbering": 1,
   "nav_menu": {},
   "number_sections": true,
   "sideBar": true,
   "skip_h1_title": false,
   "title_cell": "Table of Contents",
   "title_sidebar": "Contents",
   "toc_cell": false,
   "toc_position": {},
   "toc_section_display": true,
   "toc_window_display": false
  }
 },
 "nbformat": 4,
 "nbformat_minor": 1
}
