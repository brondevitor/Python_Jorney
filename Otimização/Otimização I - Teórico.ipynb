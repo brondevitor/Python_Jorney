{
 "cells": [
  {
   "cell_type": "markdown",
   "metadata": {},
   "source": [
    "# Introdução"
   ]
  },
  {
   "cell_type": "markdown",
   "metadata": {},
   "source": [
    "Nos projetos de machine learning é comum compararmos diversos modelos e selecionar aquele cuja performance se destaca dos demais. Uma das coisas que podemos fazer para melhorar a performance dos algoritmos é encontrar a melhor arquitetura para estes. Quando falamos em arquitetura, estamos falando de parâmetros que definimos previamente, ou seja, é algo definido antes do treinamento do modelo. Dessa forma, existem diversas técnicas que nos ajudam a buscar qual melhor conjunto de parâmetros que mais favorece o aprendizados dos algoritmos.\n",
    "\n",
    "Alguns desses métodos são:\n",
    "\n",
    "- Grid Search \n",
    "- Randomized Search\n",
    "- Bayesian Search\n",
    "- Algoritmos Genéticos\n",
    "\n",
    "Esses métodos se diferenciam em velocidade e também em forma. Nas nossas aulas, abordaremos os 2 primeiros e explanaremos um pouco sobre o terceiro.\n"
   ]
  },
  {
   "cell_type": "markdown",
   "metadata": {},
   "source": [
    "# Grid Search CV"
   ]
  },
  {
   "cell_type": "markdown",
   "metadata": {},
   "source": [
    "## O que é Grid Search CV"
   ]
  },
  {
   "cell_type": "markdown",
   "metadata": {},
   "source": [
    "É sabido que não conhecemos qual melhor arquitetura para nossos modelos de maneira prévia. Assim sendo, uma abordagem que podemos ter para resolver o problema da arquitetura é testar exaustivamente até encontrar o melhor conjunto. O Grid Search CV faz isso. Na prática, ele é um algoritmo que está dentro do sklearn e podemos utilizá-lo junto da validação cruzada, que vimos nas aulas anteriores, para encontrar esse melhor conjunto, de forma automatizada.\n",
    "\n"
   ]
  },
  {
   "cell_type": "markdown",
   "metadata": {},
   "source": [
    "## Como o Grid Search Funciona?"
   ]
  },
  {
   "cell_type": "markdown",
   "metadata": {},
   "source": [
    "Como o próprio nome já diz, Grid Search trata-se de uma busca em grade. A grade é o conjunto dos possíveis valores que os hiperparâmetros podem assumir. Quando temos apenas 2 hiperparâmetros, conseguimos visualizar a grade desas forma."
   ]
  },
  {
   "cell_type": "markdown",
   "metadata": {},
   "source": [
    "<img src=\"https://raw.githubusercontent.com/v-popov/blog/master/cross-validation/gridsearch.png\" width=500>"
   ]
  },
  {
   "cell_type": "markdown",
   "metadata": {},
   "source": [
    "Para preparar nosso espaço de busca, criamos dicionários.\n",
    "\n",
    " { 'C': [0.1, 1, 10, 100, 1000],  \n",
    "   'gamma': [1, 0.1, 0.01, 0.001, 0.0001], \n",
    "   'kernel': ['rbf',’linear’,'sigmoid']  }\n",
    "   \n",
    "Aqui, queremos testar valores de C, gamma e também o tipo de kernel a ser usado em uma SVM. Uma observação importante é que apenas os hiperparâmetros definidos no dicionário serão variados. Os demais serão definidos como default.\n",
    "\n",
    "Na prática, o grid search vai rodar uma validação cruzada para cada possível combinação de valores desse dicionário. A ideia é trazer o conjunto que produz o menor erro de validação/melhor performance de validação.\n",
    "\n",
    "Após a otimização dos hiperparâmetros, podemos estimar o erro em uma base de teste, ainda não vista."
   ]
  },
  {
   "cell_type": "markdown",
   "metadata": {
    "id": "jDq8-uvlIQeE"
   },
   "source": [
    "# Prática Guiada: Demonstração de `GridSearchCV`"
   ]
  },
  {
   "cell_type": "markdown",
   "metadata": {
    "id": "ui6P6setIQeI"
   },
   "source": [
    "Vamos usar o conjunto de dados iris... que já conhecemos bem.\n",
    "\n",
    "Veremos como usar `GridSearchCV` para otimizar o hiperparâmetro `k` do algoritmo de vizinhos mais próximos.\n",
    "\n",
    "[aqui](http://rcs.chemometrics.ru/Tutorials/classification/Fisher.pdf) há um link para o paper de Ronald Fisher, que usou este conjunto de dados em 1936."
   ]
  },
  {
   "cell_type": "code",
   "execution_count": 55,
   "metadata": {
    "id": "cXVgYkzDIQeJ"
   },
   "outputs": [],
   "source": [
    "import pandas as pd\n",
    "from sklearn.datasets import load_iris\n",
    "from sklearn.neighbors import KNeighborsClassifier\n",
    "from sklearn.model_selection import cross_val_score, train_test_split, StratifiedKFold\n",
    "import matplotlib.pyplot as plt\n",
    "from sklearn.metrics import accuracy_score\n",
    "%matplotlib inline"
   ]
  },
  {
   "cell_type": "code",
   "execution_count": 9,
   "metadata": {
    "id": "JCnSkCNsIQeJ"
   },
   "outputs": [],
   "source": [
    "# separando x e y\n",
    "df = load_iris()\n",
    "X = df.data\n",
    "y = df.target"
   ]
  },
  {
   "cell_type": "code",
   "execution_count": 10,
   "metadata": {
    "id": "msi7EkBdIQeJ",
    "outputId": "c67d7b1b-5949-44f8-b8e5-e91eadf28727"
   },
   "outputs": [
    {
     "data": {
      "text/plain": [
       "(120, 30, 120, 30)"
      ]
     },
     "execution_count": 10,
     "metadata": {},
     "output_type": "execute_result"
    }
   ],
   "source": [
    "# Split de treino e teste\n",
    "X_train, X_test, y_train, y_test = train_test_split(X, y, test_size = 0.20, random_state=123)\n",
    "len(X_train), len(X_test), len(y_train), len(y_test)"
   ]
  },
  {
   "cell_type": "markdown",
   "metadata": {
    "id": "SsGxcNEzIQeK"
   },
   "source": [
    "## 1. Escrevendo os parâmetros à mão\n",
    "\n",
    "É claro que, dependendo do modelo, os hiperparâmetros podem ter um efeito considerável na qualidade da previsão. "
   ]
  },
  {
   "cell_type": "code",
   "execution_count": 11,
   "metadata": {},
   "outputs": [],
   "source": [
    "# stratified kfold\n",
    "skf = StratifiedKFold(n_splits=10, shuffle=True, random_state=123)"
   ]
  },
  {
   "cell_type": "code",
   "execution_count": 15,
   "metadata": {
    "id": "dDgRgdV8IQeL",
    "outputId": "c64ba5e9-5fcf-480f-f357-e7275f4e4f79"
   },
   "outputs": [],
   "source": [
    "k_range = list(range(1, 100))\n",
    "k_scores = []\n",
    "for k in k_range:\n",
    "    knn = KNeighborsClassifier(n_neighbors=k)\n",
    "    scores = cross_val_score(knn, X_train, y_train, cv=skf,scoring='accuracy')\n",
    "    k_scores.append(scores.mean())"
   ]
  },
  {
   "cell_type": "code",
   "execution_count": 16,
   "metadata": {
    "id": "ZBsvOrgvIQeL",
    "outputId": "eb978578-af72-4e16-8e52-42afb7c0f39f"
   },
   "outputs": [
    {
     "data": {
      "text/plain": [
       "0.9833333333333332"
      ]
     },
     "execution_count": 16,
     "metadata": {},
     "output_type": "execute_result"
    }
   ],
   "source": [
    "import numpy as np\n",
    "np.amax(k_scores)"
   ]
  },
  {
   "cell_type": "code",
   "execution_count": 17,
   "metadata": {
    "id": "8uILqEtSIQeL",
    "outputId": "603adf8a-8de5-4dcb-f277-f18b478d3467"
   },
   "outputs": [
    {
     "data": {
      "image/png": "[encoded data removed]",
      "text/plain": [
       "<Figure size 432x288 with 1 Axes>"
      ]
     },
     "metadata": {
      "needs_background": "light"
     },
     "output_type": "display_data"
    }
   ],
   "source": [
    "plt.plot(k_range, k_scores)\n",
    "plt.xlabel('Value of K for KNN')\n",
    "plt.ylabel('Cross-Validated Accuracy');"
   ]
  },
  {
   "cell_type": "code",
   "execution_count": 19,
   "metadata": {},
   "outputs": [
    {
     "data": {
      "text/plain": [
       "9"
      ]
     },
     "execution_count": 19,
     "metadata": {},
     "output_type": "execute_result"
    }
   ],
   "source": [
    "k_range[np.argmax(k_scores)]"
   ]
  },
  {
   "cell_type": "markdown",
   "metadata": {
    "id": "wcWMRqgMIQeL"
   },
   "source": [
    "Como sempre, observamos que o desempenho muda para diferentes valores do hiperparâmetro. <br />\n",
    "Como podemos sistematizar essa pesquisa e adicionar mais hiperparâmetros à exploração? "
   ]
  },
  {
   "cell_type": "markdown",
   "metadata": {
    "id": "9PrdgXVUIQeM"
   },
   "source": [
    "## Usando `GridSearch`\n"
   ]
  },
  {
   "cell_type": "code",
   "execution_count": 20,
   "metadata": {
    "id": "4W1fXuY7IQeM"
   },
   "outputs": [],
   "source": [
    "from sklearn.model_selection import GridSearchCV"
   ]
  },
  {
   "cell_type": "markdown",
   "metadata": {
    "id": "wpuO1XiwIQeM"
   },
   "source": [
    "É definida uma lista de parâmetros a serem testados."
   ]
  },
  {
   "cell_type": "code",
   "execution_count": 21,
   "metadata": {
    "id": "II8ev7t7IQeM"
   },
   "outputs": [],
   "source": [
    "k_range = list(range(1, 31))\n",
    "knn = KNeighborsClassifier(n_neighbors=8)"
   ]
  },
  {
   "cell_type": "code",
   "execution_count": 22,
   "metadata": {
    "id": "Ct33_ucTIQeM",
    "outputId": "04898cb1-c825-44fc-df54-5441dfbdfee1"
   },
   "outputs": [
    {
     "name": "stdout",
     "output_type": "stream",
     "text": [
      "{'n_neighbors': range(1, 31)}\n"
     ]
    }
   ],
   "source": [
    "param_grid = dict(n_neighbors=range(1,31))\n",
    "print(param_grid)"
   ]
  },
  {
   "cell_type": "markdown",
   "metadata": {
    "id": "q-QRbgRUIQeM"
   },
   "source": [
    "Instanciar o método `GridSearchCV` (O CV no final do nome é de Cross Validation. Esse módulo já faz cross validation)"
   ]
  },
  {
   "cell_type": "code",
   "execution_count": 23,
   "metadata": {
    "id": "PuruPWxUIQeN"
   },
   "outputs": [],
   "source": [
    "grid = GridSearchCV(knn, param_grid, cv=skf, scoring='accuracy')"
   ]
  },
  {
   "cell_type": "markdown",
   "metadata": {
    "id": "2hdDs3v9IQeN"
   },
   "source": [
    "Fazer o ajuste"
   ]
  },
  {
   "cell_type": "code",
   "execution_count": 24,
   "metadata": {
    "id": "jnanx5XIIQeN",
    "outputId": "7d3aa132-499d-45e9-bfed-a3d9bd230459"
   },
   "outputs": [
    {
     "data": {
      "text/plain": [
       "GridSearchCV(cv=StratifiedKFold(n_splits=10, random_state=123, shuffle=True),\n",
       "             estimator=KNeighborsClassifier(n_neighbors=8),\n",
       "             param_grid={'n_neighbors': range(1, 31)}, scoring='accuracy')"
      ]
     },
     "execution_count": 24,
     "metadata": {},
     "output_type": "execute_result"
    }
   ],
   "source": [
    "grid.fit(X_train, y_train)"
   ]
  },
  {
   "cell_type": "markdown",
   "metadata": {
    "id": "8K5CDM5dIQeN"
   },
   "source": [
    "`GridSeachCV` retorna um dict com muitas informações. Do momento da configuração de cada parâmetro até os scores médios (via validação cruzada). Ele também fornece os scores em cada conjunto de treino e teste da Validação Cruzada K-Fold. "
   ]
  },
  {
   "cell_type": "code",
   "execution_count": 25,
   "metadata": {
    "id": "gRwHuKdnIQeN",
    "outputId": "6d3c91e4-31ec-4042-8644-c5c05bdb92da"
   },
   "outputs": [
    {
     "data": {
      "text/plain": [
       "dict_keys(['mean_fit_time', 'std_fit_time', 'mean_score_time', 'std_score_time', 'param_n_neighbors', 'params', 'split0_test_score', 'split1_test_score', 'split2_test_score', 'split3_test_score', 'split4_test_score', 'split5_test_score', 'split6_test_score', 'split7_test_score', 'split8_test_score', 'split9_test_score', 'mean_test_score', 'std_test_score', 'rank_test_score'])"
      ]
     },
     "execution_count": 25,
     "metadata": {},
     "output_type": "execute_result"
    }
   ],
   "source": [
    "grid.cv_results_.keys()"
   ]
  },
  {
   "cell_type": "code",
   "execution_count": 26,
   "metadata": {
    "id": "m82vQ19gIQeO",
    "outputId": "c73ac51f-ea12-4ed3-e30e-61343a175ee8"
   },
   "outputs": [
    {
     "data": {
      "text/plain": [
       "Index(['mean_fit_time', 'std_fit_time', 'mean_score_time', 'std_score_time',\n",
       "       'param_n_neighbors', 'params', 'split0_test_score', 'split1_test_score',\n",
       "       'split2_test_score', 'split3_test_score', 'split4_test_score',\n",
       "       'split5_test_score', 'split6_test_score', 'split7_test_score',\n",
       "       'split8_test_score', 'split9_test_score', 'mean_test_score',\n",
       "       'std_test_score', 'rank_test_score'],\n",
       "      dtype='object')"
      ]
     },
     "execution_count": 26,
     "metadata": {},
     "output_type": "execute_result"
    }
   ],
   "source": [
    "pd.DataFrame(grid.cv_results_).columns"
   ]
  },
  {
   "cell_type": "markdown",
   "metadata": {
    "id": "ZBTNJqBEIQeO"
   },
   "source": [
    "Vamos ver o melhor modelo:"
   ]
  },
  {
   "cell_type": "code",
   "execution_count": null,
   "metadata": {
    "id": "R0Pojv4tIQeO",
    "outputId": "b880150d-1b07-4b61-bfb9-12ce5110d0f1"
   },
   "outputs": [
    {
     "data": {
      "text/plain": [
       "{'n_neighbors': 8}"
      ]
     },
     "execution_count": 27,
     "metadata": {
      "tags": []
     },
     "output_type": "execute_result"
    }
   ],
   "source": [
    "grid.best_params_"
   ]
  },
  {
   "cell_type": "code",
   "execution_count": 27,
   "metadata": {
    "id": "XTyZiD6GIQeO",
    "outputId": "23509f84-e097-41c1-b0ea-88d39d8817f5",
    "scrolled": true
   },
   "outputs": [
    {
     "data": {
      "text/plain": [
       "(KNeighborsClassifier(n_neighbors=9), 0.9833333333333332, {'n_neighbors': 9})"
      ]
     },
     "execution_count": 27,
     "metadata": {},
     "output_type": "execute_result"
    }
   ],
   "source": [
    "grid.best_estimator_, grid.best_score_, grid.best_params_"
   ]
  },
  {
   "cell_type": "markdown",
   "metadata": {
    "id": "aCUcSo0qIQeP"
   },
   "source": [
    "### 2.1 Adicionando outros parâmetros para ajustar"
   ]
  },
  {
   "cell_type": "markdown",
   "metadata": {
    "id": "kQw7_gWrIQeP"
   },
   "source": [
    "Vamos adicionar o parâmetro binário de peso do algoritmo knn que determina se alguns vizinhos terão mais peso do que outros no momento da classificação. O valor de distância indica que o peso é inversamente proporcional à distância\n",
    "\n",
    "GridSearchCV exige que a grade de parâmetros a serem verificados venha em um dicionário com os nomes dos parâmetros e a lista dos valores possíveis. \n",
    "\n",
    "Observe que o GridSearchCV possui todos os métodos que a API sklearn oferece para modelos preditivos: fit, predict, predict_proba, etc."
   ]
  },
  {
   "cell_type": "code",
   "execution_count": 28,
   "metadata": {
    "id": "9bSCVOEkIQeP"
   },
   "outputs": [],
   "source": [
    "k_range = list(range(1, 31))\n",
    "weight_options = ['uniform', 'distance']"
   ]
  },
  {
   "cell_type": "markdown",
   "metadata": {
    "id": "wQGupBEQIQeP"
   },
   "source": [
    "Agora a otimização será feita iterando e alternando `weights` e `k` (número de vizinhos próximos)."
   ]
  },
  {
   "cell_type": "code",
   "execution_count": 29,
   "metadata": {
    "id": "9RrJ2YfcIQeP",
    "outputId": "f40bbb63-eeb7-41a8-da54-4a2b25eb2a4b"
   },
   "outputs": [
    {
     "name": "stdout",
     "output_type": "stream",
     "text": [
      "{'n_neighbors': [1, 2, 3, 4, 5, 6, 7, 8, 9, 10, 11, 12, 13, 14, 15, 16, 17, 18, 19, 20, 21, 22, 23, 24, 25, 26, 27, 28, 29, 30], 'weights': ['uniform', 'distance']}\n"
     ]
    }
   ],
   "source": [
    "param_grid = dict(n_neighbors=k_range, weights=weight_options)\n",
    "print(param_grid)"
   ]
  },
  {
   "cell_type": "markdown",
   "metadata": {
    "id": "CqjgiwIjIQeP"
   },
   "source": [
    "**Verificar:** \n",
    "    1. Como o processo de busca será realizado? \n",
    "    2. Quantas vezes o algoritmo terá que ser iterado?"
   ]
  },
  {
   "cell_type": "code",
   "execution_count": 40,
   "metadata": {},
   "outputs": [],
   "source": [
    "all_combinations = list(itertools.product(k_range,weight_options))"
   ]
  },
  {
   "cell_type": "code",
   "execution_count": 42,
   "metadata": {},
   "outputs": [
    {
     "data": {
      "text/plain": [
       "[(1, 'uniform'),\n",
       " (1, 'distance'),\n",
       " (2, 'uniform'),\n",
       " (2, 'distance'),\n",
       " (3, 'uniform'),\n",
       " (3, 'distance'),\n",
       " (4, 'uniform'),\n",
       " (4, 'distance'),\n",
       " (5, 'uniform'),\n",
       " (5, 'distance'),\n",
       " (6, 'uniform'),\n",
       " (6, 'distance'),\n",
       " (7, 'uniform'),\n",
       " (7, 'distance'),\n",
       " (8, 'uniform'),\n",
       " (8, 'distance'),\n",
       " (9, 'uniform'),\n",
       " (9, 'distance'),\n",
       " (10, 'uniform'),\n",
       " (10, 'distance'),\n",
       " (11, 'uniform'),\n",
       " (11, 'distance'),\n",
       " (12, 'uniform'),\n",
       " (12, 'distance'),\n",
       " (13, 'uniform'),\n",
       " (13, 'distance'),\n",
       " (14, 'uniform'),\n",
       " (14, 'distance'),\n",
       " (15, 'uniform'),\n",
       " (15, 'distance'),\n",
       " (16, 'uniform'),\n",
       " (16, 'distance'),\n",
       " (17, 'uniform'),\n",
       " (17, 'distance'),\n",
       " (18, 'uniform'),\n",
       " (18, 'distance'),\n",
       " (19, 'uniform'),\n",
       " (19, 'distance'),\n",
       " (20, 'uniform'),\n",
       " (20, 'distance'),\n",
       " (21, 'uniform'),\n",
       " (21, 'distance'),\n",
       " (22, 'uniform'),\n",
       " (22, 'distance'),\n",
       " (23, 'uniform'),\n",
       " (23, 'distance'),\n",
       " (24, 'uniform'),\n",
       " (24, 'distance'),\n",
       " (25, 'uniform'),\n",
       " (25, 'distance'),\n",
       " (26, 'uniform'),\n",
       " (26, 'distance'),\n",
       " (27, 'uniform'),\n",
       " (27, 'distance'),\n",
       " (28, 'uniform'),\n",
       " (28, 'distance'),\n",
       " (29, 'uniform'),\n",
       " (29, 'distance'),\n",
       " (30, 'uniform'),\n",
       " (30, 'distance')]"
      ]
     },
     "execution_count": 42,
     "metadata": {},
     "output_type": "execute_result"
    }
   ],
   "source": [
    "all_combinations\n"
   ]
  },
  {
   "cell_type": "code",
   "execution_count": 41,
   "metadata": {},
   "outputs": [
    {
     "data": {
      "text/plain": [
       "60"
      ]
     },
     "execution_count": 41,
     "metadata": {},
     "output_type": "execute_result"
    }
   ],
   "source": [
    "len(all_combinations)"
   ]
  },
  {
   "cell_type": "markdown",
   "metadata": {},
   "source": [
    "Para dificultar mais um pouco, vamos introduzir um ```Pipeline```."
   ]
  },
  {
   "cell_type": "code",
   "execution_count": 43,
   "metadata": {},
   "outputs": [],
   "source": [
    "from sklearn.pipeline import Pipeline\n",
    "from sklearn.preprocessing import MinMaxScaler"
   ]
  },
  {
   "cell_type": "code",
   "execution_count": 47,
   "metadata": {},
   "outputs": [],
   "source": [
    "pipe_knn = Pipeline(steps=[('pre_processor', MinMaxScaler()), ('model', KNeighborsClassifier())])"
   ]
  },
  {
   "cell_type": "markdown",
   "metadata": {},
   "source": [
    "\n",
    "Quando utilizamos um pipeline, precisamos mudar o nome das chaves dos dicionários que iremos passar para o Grid Search."
   ]
  },
  {
   "cell_type": "code",
   "execution_count": 50,
   "metadata": {},
   "outputs": [
    {
     "name": "stdout",
     "output_type": "stream",
     "text": [
      "{'model__n_neighbors': [1, 2, 3, 4, 5, 6, 7, 8, 9, 10, 11, 12, 13, 14, 15, 16, 17, 18, 19, 20, 21, 22, 23, 24, 25, 26, 27, 28, 29, 30], 'model__weights': ['uniform', 'distance']}\n"
     ]
    }
   ],
   "source": [
    "pipe_param_grid = dict(model__n_neighbors=k_range, model__weights=weight_options)\n",
    "print(pipe_param_grid)"
   ]
  },
  {
   "cell_type": "code",
   "execution_count": 53,
   "metadata": {
    "id": "O19EDMBHIQeQ",
    "outputId": "1b78010c-4986-4871-b259-a7c23b4c8da0"
   },
   "outputs": [
    {
     "data": {
      "text/plain": [
       "GridSearchCV(cv=StratifiedKFold(n_splits=10, random_state=123, shuffle=True),\n",
       "             estimator=Pipeline(steps=[('pre_processor', MinMaxScaler()),\n",
       "                                       ('model', KNeighborsClassifier())]),\n",
       "             param_grid={'model__n_neighbors': [1, 2, 3, 4, 5, 6, 7, 8, 9, 10,\n",
       "                                                11, 12, 13, 14, 15, 16, 17, 18,\n",
       "                                                19, 20, 21, 22, 23, 24, 25, 26,\n",
       "                                                27, 28, 29, 30],\n",
       "                         'model__weights': ['uniform', 'distance']},\n",
       "             scoring='accuracy')"
      ]
     },
     "execution_count": 53,
     "metadata": {},
     "output_type": "execute_result"
    }
   ],
   "source": [
    "grid_pipe = GridSearchCV(pipe_knn, pipe_param_grid, cv=skf, scoring='accuracy')\n",
    "grid_pipe.fit(X_train, y_train)"
   ]
  },
  {
   "cell_type": "markdown",
   "metadata": {
    "id": "oTKfv6uPIQeQ"
   },
   "source": [
    "Escolher o melhor modelo"
   ]
  },
  {
   "cell_type": "code",
   "execution_count": 54,
   "metadata": {
    "id": "uPj9Y4mpIQeR",
    "outputId": "24539007-8667-45db-edcd-c96f7257dca7"
   },
   "outputs": [
    {
     "name": "stdout",
     "output_type": "stream",
     "text": [
      "Pipeline(steps=[('pre_processor', MinMaxScaler()),\n",
      "                ('model', KNeighborsClassifier(n_neighbors=7))])\n",
      "0.9833333333333332\n",
      "{'model__n_neighbors': 7, 'model__weights': 'uniform'}\n"
     ]
    }
   ],
   "source": [
    "print (grid_pipe.best_estimator_)\n",
    "print(grid_pipe.best_score_)\n",
    "print(grid_pipe.best_params_)"
   ]
  },
  {
   "cell_type": "markdown",
   "metadata": {},
   "source": [
    "Performance no treino:"
   ]
  },
  {
   "cell_type": "code",
   "execution_count": 56,
   "metadata": {},
   "outputs": [
    {
     "data": {
      "text/plain": [
       "0.9833333333333333"
      ]
     },
     "execution_count": 56,
     "metadata": {},
     "output_type": "execute_result"
    }
   ],
   "source": [
    "knn_best = grid_pipe.best_estimator_\n",
    "knn_best.fit(X_train, y_train)\n",
    "accuracy_score(y_train, knn_best.predict(X_train))"
   ]
  },
  {
   "cell_type": "code",
   "execution_count": 57,
   "metadata": {},
   "outputs": [
    {
     "data": {
      "text/plain": [
       "0.9333333333333333"
      ]
     },
     "execution_count": 57,
     "metadata": {},
     "output_type": "execute_result"
    }
   ],
   "source": [
    "accuracy_score(y_test, knn_best.predict(X_test))"
   ]
  }
 ],
 "metadata": {
  "colab": {
   "name": "GridSearch.ipynb",
   "provenance": []
  },
  "kernelspec": {
   "display_name": "Python 3 (ipykernel)",
   "language": "python",
   "name": "python3"
  },
  "language_info": {
   "codemirror_mode": {
    "name": "ipython",
    "version": 3
   },
   "file_extension": ".py",
   "mimetype": "text/x-python",
   "name": "python",
   "nbconvert_exporter": "python",
   "pygments_lexer": "ipython3",
   "version": "3.9.12"
  },
  "toc": {
   "base_numbering": 1,
   "nav_menu": {},
   "number_sections": true,
   "sideBar": true,
   "skip_h1_title": false,
   "title_cell": "Table of Contents",
   "title_sidebar": "Contents",
   "toc_cell": false,
   "toc_position": {},
   "toc_section_display": true,
   "toc_window_display": false
  }
 },
 "nbformat": 4,
 "nbformat_minor": 1
}
