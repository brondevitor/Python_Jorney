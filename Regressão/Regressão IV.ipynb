{
 "cells": [
  {
   "cell_type": "code",
   "execution_count": 2,
   "metadata": {},
   "outputs": [],
   "source": [
    "import pandas as pd\n",
    "import numpy as np\n",
    "import statsmodels.api as sm\n",
    "import scipy.stats\n",
    "import matplotlib.pyplot as plt\n",
    "from statsmodels.graphics.gofplots import qqplot\n",
    "from statsmodels.stats.outliers_influence import variance_inflation_factor "
   ]
  },
  {
   "cell_type": "markdown",
   "metadata": {},
   "source": [
    "# Regressão Linear"
   ]
  },
  {
   "cell_type": "code",
   "execution_count": 3,
   "metadata": {},
   "outputs": [],
   "source": [
    "df_reservatorio = pd.read_csv('clorofila.csv')"
   ]
  },
  {
   "cell_type": "code",
   "execution_count": 4,
   "metadata": {},
   "outputs": [
    {
     "data": {
      "text/html": [
       "<div>\n",
       "<style scoped>\n",
       "    .dataframe tbody tr th:only-of-type {\n",
       "        vertical-align: middle;\n",
       "    }\n",
       "\n",
       "    .dataframe tbody tr th {\n",
       "        vertical-align: top;\n",
       "    }\n",
       "\n",
       "    .dataframe thead th {\n",
       "        text-align: right;\n",
       "    }\n",
       "</style>\n",
       "<table border=\"1\" class=\"dataframe\">\n",
       "  <thead>\n",
       "    <tr style=\"text-align: right;\">\n",
       "      <th></th>\n",
       "      <th>Condutividade</th>\n",
       "      <th>DO</th>\n",
       "      <th>pH</th>\n",
       "      <th>ORP</th>\n",
       "      <th>Profundidade</th>\n",
       "      <th>Temperatura</th>\n",
       "      <th>Turbidez</th>\n",
       "      <th>Clorofila</th>\n",
       "    </tr>\n",
       "  </thead>\n",
       "  <tbody>\n",
       "    <tr>\n",
       "      <th>0</th>\n",
       "      <td>121.73</td>\n",
       "      <td>8.32</td>\n",
       "      <td>7.47</td>\n",
       "      <td>198.04</td>\n",
       "      <td>0.37</td>\n",
       "      <td>20.55</td>\n",
       "      <td>6.98</td>\n",
       "      <td>59.97</td>\n",
       "    </tr>\n",
       "    <tr>\n",
       "      <th>1</th>\n",
       "      <td>121.29</td>\n",
       "      <td>5.67</td>\n",
       "      <td>6.90</td>\n",
       "      <td>231.30</td>\n",
       "      <td>0.40</td>\n",
       "      <td>19.98</td>\n",
       "      <td>4.65</td>\n",
       "      <td>30.59</td>\n",
       "    </tr>\n",
       "    <tr>\n",
       "      <th>2</th>\n",
       "      <td>120.77</td>\n",
       "      <td>5.33</td>\n",
       "      <td>6.79</td>\n",
       "      <td>229.20</td>\n",
       "      <td>0.42</td>\n",
       "      <td>19.61</td>\n",
       "      <td>3.94</td>\n",
       "      <td>17.06</td>\n",
       "    </tr>\n",
       "    <tr>\n",
       "      <th>3</th>\n",
       "      <td>119.50</td>\n",
       "      <td>7.61</td>\n",
       "      <td>7.10</td>\n",
       "      <td>228.61</td>\n",
       "      <td>0.41</td>\n",
       "      <td>19.47</td>\n",
       "      <td>5.20</td>\n",
       "      <td>38.00</td>\n",
       "    </tr>\n",
       "    <tr>\n",
       "      <th>4</th>\n",
       "      <td>121.17</td>\n",
       "      <td>7.96</td>\n",
       "      <td>7.12</td>\n",
       "      <td>208.77</td>\n",
       "      <td>0.39</td>\n",
       "      <td>19.73</td>\n",
       "      <td>4.76</td>\n",
       "      <td>24.39</td>\n",
       "    </tr>\n",
       "  </tbody>\n",
       "</table>\n",
       "</div>"
      ],
      "text/plain": [
       "   Condutividade    DO    pH     ORP  Profundidade  Temperatura  Turbidez  \\\n",
       "0         121.73  8.32  7.47  198.04          0.37        20.55      6.98   \n",
       "1         121.29  5.67  6.90  231.30          0.40        19.98      4.65   \n",
       "2         120.77  5.33  6.79  229.20          0.42        19.61      3.94   \n",
       "3         119.50  7.61  7.10  228.61          0.41        19.47      5.20   \n",
       "4         121.17  7.96  7.12  208.77          0.39        19.73      4.76   \n",
       "\n",
       "   Clorofila  \n",
       "0      59.97  \n",
       "1      30.59  \n",
       "2      17.06  \n",
       "3      38.00  \n",
       "4      24.39  "
      ]
     },
     "execution_count": 4,
     "metadata": {},
     "output_type": "execute_result"
    }
   ],
   "source": [
    "df_reservatorio.head()"
   ]
  },
  {
   "cell_type": "code",
   "execution_count": 6,
   "metadata": {},
   "outputs": [],
   "source": [
    "X = df_reservatorio.drop(['Clorofila'], axis=1)\n",
    "Y = df_reservatorio['Clorofila']"
   ]
  },
  {
   "cell_type": "code",
   "execution_count": 7,
   "metadata": {},
   "outputs": [],
   "source": [
    "X = sm.add_constant(X) "
   ]
  },
  {
   "cell_type": "code",
   "execution_count": 8,
   "metadata": {},
   "outputs": [],
   "source": [
    "modelo_linear_multiplo = sm.OLS(Y,X)\n",
    "modelo_linear_multiplo = modelo_linear_multiplo.fit()"
   ]
  },
  {
   "cell_type": "code",
   "execution_count": 10,
   "metadata": {},
   "outputs": [
    {
     "name": "stdout",
     "output_type": "stream",
     "text": [
      "                            OLS Regression Results                            \n",
      "==============================================================================\n",
      "Dep. Variable:              Clorofila   R-squared:                       0.512\n",
      "Model:                            OLS   Adj. R-squared:                  0.505\n",
      "Method:                 Least Squares   F-statistic:                     75.55\n",
      "Date:                Tue, 27 Dec 2022   Prob (F-statistic):           1.75e-74\n",
      "Time:                        20:18:01   Log-Likelihood:                -1914.5\n",
      "No. Observations:                 512   AIC:                             3845.\n",
      "Df Residuals:                     504   BIC:                             3879.\n",
      "Df Model:                           7                                         \n",
      "Covariance Type:            nonrobust                                         \n",
      "=================================================================================\n",
      "                    coef    std err          t      P>|t|      [0.025      0.975]\n",
      "---------------------------------------------------------------------------------\n",
      "const           -46.1466      7.801     -5.916      0.000     -61.473     -30.820\n",
      "Condutividade     0.4427      0.046      9.600      0.000       0.352       0.533\n",
      "DO                2.3072      0.571      4.039      0.000       1.185       3.430\n",
      "pH                5.6649      1.320      4.291      0.000       3.071       8.258\n",
      "ORP               0.0103      0.006      1.786      0.075      -0.001       0.022\n",
      "Profundidade    -33.4486      6.411     -5.217      0.000     -46.045     -20.852\n",
      "Temperatura      -1.7361      0.230     -7.537      0.000      -2.189      -1.284\n",
      "Turbidez          0.0204      0.009      2.229      0.026       0.002       0.038\n",
      "==============================================================================\n",
      "Omnibus:                       11.623   Durbin-Watson:                   0.393\n",
      "Prob(Omnibus):                  0.003   Jarque-Bera (JB):               18.391\n",
      "Skew:                           0.147   Prob(JB):                     0.000102\n",
      "Kurtosis:                       3.881   Cond. No.                     4.65e+03\n",
      "==============================================================================\n",
      "\n",
      "Notes:\n",
      "[1] Standard Errors assume that the covariance matrix of the errors is correctly specified.\n",
      "[2] The condition number is large, 4.65e+03. This might indicate that there are\n",
      "strong multicollinearity or other numerical problems.\n"
     ]
    }
   ],
   "source": [
    "print(modelo_linear_multiplo.summary())"
   ]
  },
  {
   "cell_type": "markdown",
   "metadata": {},
   "source": [
    "# Autocorrelação "
   ]
  },
  {
   "cell_type": "markdown",
   "metadata": {},
   "source": [
    "A Autocorrelação dos resíduos vai ser identificada pelo Termo Durbin-Watson na tabela."
   ]
  },
  {
   "cell_type": "code",
   "execution_count": 13,
   "metadata": {},
   "outputs": [],
   "source": [
    "erro_clo = Y - modelo_linear_multiplo.predict(X)"
   ]
  },
  {
   "cell_type": "code",
   "execution_count": 14,
   "metadata": {},
   "outputs": [],
   "source": [
    "df_reservatorio.reset_index(inplace = True)"
   ]
  },
  {
   "cell_type": "code",
   "execution_count": 15,
   "metadata": {},
   "outputs": [
    {
     "data": {
      "image/png": "[encoded data removed]",
      "text/plain": [
       "<Figure size 720x576 with 1 Axes>"
      ]
     },
     "metadata": {
      "needs_background": "light"
     },
     "output_type": "display_data"
    }
   ],
   "source": [
    "plt.figure(figsize=(10,8))\n",
    "plt.scatter(df_reservatorio['index'], erro_clo)\n",
    "plt.xlabel('Indice')\n",
    "plt.show()"
   ]
  },
  {
   "cell_type": "markdown",
   "metadata": {},
   "source": [
    "Há realmente uma leve tendência. "
   ]
  },
  {
   "cell_type": "markdown",
   "metadata": {},
   "source": [
    "Analisando pelo summary acima vemos que o teste de Durbin Watson fica em 0.393 , ou seja , indica correlação positiva "
   ]
  },
  {
   "cell_type": "markdown",
   "metadata": {},
   "source": [
    "# Homocedasticidade"
   ]
  },
  {
   "cell_type": "markdown",
   "metadata": {},
   "source": [
    "Vamos plotar um gráfico de resíduos versus o valor previsto."
   ]
  },
  {
   "cell_type": "markdown",
   "metadata": {},
   "source": [
    "* Ver teste de Breusch-Pagan"
   ]
  },
  {
   "cell_type": "code",
   "execution_count": null,
   "metadata": {},
   "outputs": [],
   "source": []
  },
  {
   "cell_type": "code",
   "execution_count": null,
   "metadata": {},
   "outputs": [],
   "source": []
  },
  {
   "cell_type": "markdown",
   "metadata": {},
   "source": [
    "# Multicolinearidade"
   ]
  },
  {
   "cell_type": "code",
   "execution_count": null,
   "metadata": {},
   "outputs": [],
   "source": []
  },
  {
   "cell_type": "code",
   "execution_count": null,
   "metadata": {},
   "outputs": [],
   "source": []
  },
  {
   "cell_type": "code",
   "execution_count": null,
   "metadata": {},
   "outputs": [],
   "source": []
  },
  {
   "cell_type": "code",
   "execution_count": null,
   "metadata": {},
   "outputs": [],
   "source": []
  },
  {
   "cell_type": "code",
   "execution_count": null,
   "metadata": {},
   "outputs": [],
   "source": []
  },
  {
   "cell_type": "code",
   "execution_count": null,
   "metadata": {},
   "outputs": [],
   "source": []
  },
  {
   "cell_type": "code",
   "execution_count": null,
   "metadata": {},
   "outputs": [],
   "source": []
  },
  {
   "cell_type": "code",
   "execution_count": null,
   "metadata": {},
   "outputs": [],
   "source": []
  },
  {
   "cell_type": "code",
   "execution_count": null,
   "metadata": {},
   "outputs": [],
   "source": []
  },
  {
   "cell_type": "markdown",
   "metadata": {},
   "source": [
    "Como uma regra geral, podemos considerar um VIF > 10 alto e entender que os coeficientes das features sofrerão problemas."
   ]
  }
 ],
 "metadata": {
  "colab": {
   "name": "DSTN07 -  Estatística Descritiva - Parte II.ipynb",
   "provenance": []
  },
  "kernelspec": {
   "display_name": "Python 3 (ipykernel)",
   "language": "python",
   "name": "python3"
  },
  "language_info": {
   "codemirror_mode": {
    "name": "ipython",
    "version": 3
   },
   "file_extension": ".py",
   "mimetype": "text/x-python",
   "name": "python",
   "nbconvert_exporter": "python",
   "pygments_lexer": "ipython3",
   "version": "3.9.12"
  },
  "toc": {
   "base_numbering": 1,
   "nav_menu": {},
   "number_sections": true,
   "sideBar": true,
   "skip_h1_title": false,
   "title_cell": "Table of Contents",
   "title_sidebar": "Contents",
   "toc_cell": false,
   "toc_position": {
    "height": "calc(100% - 180px)",
    "left": "10px",
    "top": "150px",
    "width": "210.33087158203125px"
   },
   "toc_section_display": true,
   "toc_window_display": true
  }
 },
 "nbformat": 4,
 "nbformat_minor": 1
}
